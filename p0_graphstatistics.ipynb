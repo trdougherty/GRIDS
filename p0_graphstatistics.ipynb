{
 "cells": [
  {
   "cell_type": "code",
   "execution_count": 1,
   "id": "e74bd4e9",
   "metadata": {
    "ExecuteTime": {
     "end_time": "2023-03-07T18:21:44.757372Z",
     "start_time": "2023-03-07T18:21:44.739982Z"
    },
    "tags": []
   },
   "outputs": [],
   "source": [
    "import geopandas as gpd\n",
    "import pandas as pd\n",
    "import sys\n",
    "import os\n",
    "\n",
    "import numpy as np\n",
    "import matplotlib.pyplot as plt"
   ]
  },
  {
   "cell_type": "code",
   "execution_count": 2,
   "id": "25ab7020-1823-4eac-b8c0-732592791b14",
   "metadata": {
    "tags": []
   },
   "outputs": [
    {
     "name": "stdout",
     "output_type": "stream",
     "text": [
      "1\n"
     ]
    }
   ],
   "source": [
    "import torch\n",
    "\n",
    "num_of_gpus = torch.cuda.device_count()\n",
    "print(num_of_gpus)"
   ]
  },
  {
   "cell_type": "code",
   "execution_count": 3,
   "id": "fbd4fb26-82a4-4cfe-8c96-825e9d9bec71",
   "metadata": {
    "tags": []
   },
   "outputs": [],
   "source": [
    "from tqdm import tqdm_notebook"
   ]
  },
  {
   "cell_type": "code",
   "execution_count": 4,
   "id": "19e387e1",
   "metadata": {
    "ExecuteTime": {
     "end_time": "2023-03-07T18:21:44.908020Z",
     "start_time": "2023-03-07T18:21:44.885278Z"
    },
    "tags": []
   },
   "outputs": [],
   "source": [
    "from scipy.spatial.distance import pdist"
   ]
  },
  {
   "cell_type": "code",
   "execution_count": 5,
   "id": "a38749f4",
   "metadata": {
    "ExecuteTime": {
     "end_time": "2023-03-07T18:21:46.227441Z",
     "start_time": "2023-03-07T18:21:45.029679Z"
    },
    "tags": []
   },
   "outputs": [],
   "source": [
    "nycnodes = os.path.join(\"data\",\"new-york\",\"nodes.geojson\")\n",
    "nodes = gpd.read_file(nycnodes)"
   ]
  },
  {
   "cell_type": "code",
   "execution_count": 6,
   "id": "9ddfadf2",
   "metadata": {
    "ExecuteTime": {
     "end_time": "2023-03-07T18:21:46.250677Z",
     "start_time": "2023-03-07T18:21:46.228801Z"
    },
    "tags": []
   },
   "outputs": [],
   "source": [
    "# node_points = np.array([nodes.geometry.x, nodes.geometry.y]).T"
   ]
  },
  {
   "cell_type": "code",
   "execution_count": 7,
   "id": "75396c90",
   "metadata": {
    "ExecuteTime": {
     "end_time": "2023-03-07T18:21:46.264282Z",
     "start_time": "2023-03-07T18:21:46.251631Z"
    },
    "tags": []
   },
   "outputs": [],
   "source": [
    "# node_points"
   ]
  },
  {
   "cell_type": "code",
   "execution_count": 8,
   "id": "e9630eb6",
   "metadata": {
    "ExecuteTime": {
     "end_time": "2023-03-07T18:21:50.610473Z",
     "start_time": "2023-03-07T18:21:46.265655Z"
    },
    "tags": []
   },
   "outputs": [],
   "source": [
    "# distances = pdist(node_points)"
   ]
  },
  {
   "cell_type": "code",
   "execution_count": 9,
   "id": "19d9ee54",
   "metadata": {
    "ExecuteTime": {
     "end_time": "2023-03-07T18:21:50.623725Z",
     "start_time": "2023-03-07T18:21:50.611711Z"
    },
    "tags": []
   },
   "outputs": [],
   "source": [
    "# plt.hist(distances, bins=500, color=\"black\")\n",
    "\n",
    "# plt.title(\"Histogram of Distances between Images\")\n",
    "# plt.xlabel(\"Meters\")\n",
    "# plt.ylabel(\"Count\")\n",
    "# plt.show()"
   ]
  },
  {
   "cell_type": "code",
   "execution_count": 10,
   "id": "020a1503",
   "metadata": {
    "ExecuteTime": {
     "end_time": "2023-03-07T18:21:50.643149Z",
     "start_time": "2023-03-07T18:21:50.624656Z"
    },
    "tags": []
   },
   "outputs": [],
   "source": [
    "import os\n",
    "import sys\n",
    "module_path = os.path.abspath(os.path.join('..'))\n",
    "if module_path not in sys.path:\n",
    "    sys.path.append(module_path)"
   ]
  },
  {
   "cell_type": "code",
   "execution_count": 11,
   "id": "f6d6167c",
   "metadata": {
    "ExecuteTime": {
     "end_time": "2023-03-07T18:21:50.653501Z",
     "start_time": "2023-03-07T18:21:50.644127Z"
    },
    "tags": []
   },
   "outputs": [],
   "source": [
    "from src.neighbor_identification import neighbors"
   ]
  },
  {
   "cell_type": "code",
   "execution_count": 12,
   "id": "b6667310",
   "metadata": {
    "ExecuteTime": {
     "end_time": "2023-03-07T18:21:50.663835Z",
     "start_time": "2023-03-07T18:21:50.654393Z"
    },
    "tags": []
   },
   "outputs": [],
   "source": [
    "import networkx as nx"
   ]
  },
  {
   "cell_type": "code",
   "execution_count": 13,
   "id": "c0824af1",
   "metadata": {
    "ExecuteTime": {
     "end_time": "2023-03-07T18:21:50.674801Z",
     "start_time": "2023-03-07T18:21:50.665286Z"
    },
    "tags": []
   },
   "outputs": [],
   "source": [
    "%load_ext autoreload\n",
    "%autoreload 2"
   ]
  },
  {
   "cell_type": "code",
   "execution_count": 14,
   "id": "ca7a1821",
   "metadata": {
    "ExecuteTime": {
     "end_time": "2023-03-07T18:21:50.685439Z",
     "start_time": "2023-03-07T18:21:50.675605Z"
    },
    "tags": []
   },
   "outputs": [
    {
     "data": {
      "text/plain": [
       "array([0, 2, 4, 6, 8])"
      ]
     },
     "execution_count": 14,
     "metadata": {},
     "output_type": "execute_result"
    }
   ],
   "source": [
    "np.arange(0,10,2)"
   ]
  },
  {
   "cell_type": "code",
   "execution_count": null,
   "id": "2e613ffd-e12d-4da2-b5c7-7ed527b5d142",
   "metadata": {},
   "outputs": [],
   "source": []
  },
  {
   "cell_type": "code",
   "execution_count": 15,
   "id": "952ac96c-a293-47eb-96ab-b5eaab7fd46f",
   "metadata": {
    "tags": []
   },
   "outputs": [],
   "source": [
    "neighbor_radius = 150\n",
    "building_buffer = 210"
   ]
  },
  {
   "cell_type": "code",
   "execution_count": 16,
   "id": "eee47afa",
   "metadata": {
    "ExecuteTime": {
     "end_time": "2023-03-07T18:21:53.078234Z",
     "start_time": "2023-03-07T18:21:50.686228Z"
    },
    "tags": []
   },
   "outputs": [],
   "source": [
    "from src.graph_construction import graph\n",
    "nycgraph, rebuild_info = graph(\n",
    "    \"new-york\",\n",
    "    neighbor_radius = neighbor_radius,\n",
    "    building_buffer = building_buffer,\n",
    "    test_percent=15\n",
    ")"
   ]
  },
  {
   "cell_type": "code",
   "execution_count": 17,
   "id": "c80dbcf6",
   "metadata": {
    "ExecuteTime": {
     "end_time": "2023-03-07T18:21:53.093684Z",
     "start_time": "2023-03-07T18:21:53.079393Z"
    },
    "tags": []
   },
   "outputs": [
    {
     "data": {
      "text/plain": [
       "HeteroData(\n",
       "  \u001b[1mpano\u001b[0m={ x=[102218, 3] },\n",
       "  \u001b[1mfootprint\u001b[0m={\n",
       "    x=[13656, 3],\n",
       "    y=[13656],\n",
       "    train_mask=[13656],\n",
       "    test_mask=[13656]\n",
       "  },\n",
       "  \u001b[1m(footprint, contains, pano)\u001b[0m={ edge_index=[2, 2166468] },\n",
       "  \u001b[1m(pano, links, pano)\u001b[0m={ edge_index=[2, 8250460] },\n",
       "  \u001b[1m(pano, rev_contains, footprint)\u001b[0m={ edge_index=[2, 2166468] }\n",
       ")"
      ]
     },
     "execution_count": 17,
     "metadata": {},
     "output_type": "execute_result"
    }
   ],
   "source": [
    "nycgraph"
   ]
  },
  {
   "cell_type": "code",
   "execution_count": 18,
   "id": "e3aef33d",
   "metadata": {
    "ExecuteTime": {
     "end_time": "2023-03-07T18:35:45.373766Z",
     "start_time": "2023-03-07T18:35:45.360954Z"
    },
    "tags": []
   },
   "outputs": [],
   "source": [
    "def lcc_vis(node_data, radius_list = np.arange(0,200,5)):\n",
    "    connected_components = []\n",
    "\n",
    "    for radius in tqdm_notebook(radius_list):\n",
    "        edge_list = neighbors(\n",
    "            node_data,\n",
    "            radius = radius\n",
    "        )\n",
    "        G = nx.from_edgelist(edge_list.detach().cpu().numpy().T)\n",
    "        G.remove_nodes_from(list(nx.isolates(G)))\n",
    "        graph_components = list(nx.connected_components(G))\n",
    "        connected_components.append(len(graph_components))\n",
    "\n",
    "#     plt.step(\n",
    "#         radius_list[1:],\n",
    "#         connected_components[1:],\n",
    "#         color=\"black\"\n",
    "#     )\n",
    "\n",
    "    return radius_list[1:], connected_components[1:]"
   ]
  },
  {
   "cell_type": "code",
   "execution_count": null,
   "id": "691e28a4",
   "metadata": {
    "ExecuteTime": {
     "end_time": "2023-03-07T18:35:47.798754Z",
     "start_time": "2023-03-07T18:35:47.632947Z"
    },
    "tags": []
   },
   "outputs": [],
   "source": [
    "austingraph, austin_rebuild_info = graph(\n",
    "    \"austin\",\n",
    "    neighbor_radius = neighbor_radius,\n",
    "    building_buffer = building_buffer,\n",
    "    test_percent=15\n",
    ")"
   ]
  },
  {
   "cell_type": "code",
   "execution_count": null,
   "id": "f3e49461",
   "metadata": {
    "ExecuteTime": {
     "end_time": "2023-03-07T18:40:14.552655Z",
     "start_time": "2023-03-07T18:40:10.335318Z"
    },
    "tags": []
   },
   "outputs": [],
   "source": [
    "sfgraph, sf_rebuild_info = graph(\n",
    "    \"san-fransisco\",\n",
    "    neighbor_radius = neighbor_radius,\n",
    "    building_buffer = building_buffer,\n",
    "    test_percent=15\n",
    ")"
   ]
  },
  {
   "cell_type": "code",
   "execution_count": null,
   "id": "fac8e4c7",
   "metadata": {
    "ExecuteTime": {
     "end_time": "2023-03-07T18:40:19.213063Z",
     "start_time": "2023-03-07T18:40:19.189130Z"
    },
    "tags": []
   },
   "outputs": [],
   "source": [
    "sfgraph"
   ]
  },
  {
   "cell_type": "code",
   "execution_count": null,
   "id": "00eb7176",
   "metadata": {
    "ExecuteTime": {
     "end_time": "2023-03-07T18:42:07.620789Z",
     "start_time": "2023-03-07T18:42:07.540957Z"
    },
    "tags": []
   },
   "outputs": [],
   "source": [
    "sX, sY = lcc_vis(sf_rebuild_info['node_data_original'])"
   ]
  },
  {
   "cell_type": "code",
   "execution_count": null,
   "id": "86515f2f",
   "metadata": {
    "ExecuteTime": {
     "end_time": "2023-03-07T18:35:49.745761Z",
     "start_time": "2023-03-07T18:35:47.800009Z"
    },
    "tags": []
   },
   "outputs": [],
   "source": [
    "aX, aY = lcc_vis(austin_rebuild_info['node_data_original'])"
   ]
  },
  {
   "cell_type": "code",
   "execution_count": null,
   "id": "41679950",
   "metadata": {
    "ExecuteTime": {
     "end_time": "2023-03-07T18:38:54.544117Z",
     "start_time": "2023-03-07T18:35:49.747261Z"
    },
    "tags": []
   },
   "outputs": [],
   "source": [
    "nX, nY = lcc_vis(rebuild_info['node_data_original'])"
   ]
  },
  {
   "cell_type": "code",
   "execution_count": null,
   "id": "9cadf8dc",
   "metadata": {
    "ExecuteTime": {
     "end_time": "2023-03-07T18:43:49.181115Z",
     "start_time": "2023-03-07T18:43:48.660893Z"
    },
    "tags": []
   },
   "outputs": [],
   "source": [
    "# Plotting both the curves simultaneounode_data_original= \n",
    "fig, ax = plt.subplots(figsize=(8,6), dpi=500)\n",
    "\n",
    "ax.step(sX, sY, color=\"orange\", label=\"San Fransisco\")\n",
    "ax.step(aX, aY, color='gray', label='Austin')\n",
    "ax.step(nX, nY, color='black', label='New York')\n",
    "  \n",
    "plt.yscale(\"log\")\n",
    "\n",
    "plt.xlabel(\"Radius of Connection (m)\")\n",
    "plt.ylabel(\"Number of Connected Components\")\n",
    "plt.title(\"Radius vs. Connected Components\")\n",
    "\n",
    "plt.legend()\n",
    "plt.savefig(\"connected-component-history.png\")\n",
    "\n",
    "plt.show()"
   ]
  },
  {
   "cell_type": "code",
   "execution_count": null,
   "id": "2b8f9d33",
   "metadata": {
    "ExecuteTime": {
     "end_time": "2023-03-07T18:46:37.738577Z",
     "start_time": "2023-03-07T18:46:30.973120Z"
    },
    "tags": []
   },
   "outputs": [],
   "source": [
    "import copy\n",
    "import matplotlib\n",
    "from matplotlib_scalebar.scalebar import ScaleBar\n",
    "\n",
    "color_thing = plt.cm.jet\n",
    "\n",
    "fig, (ax1, ax2) = plt.subplots(\n",
    "    1, 2, \n",
    "    sharex=True, \n",
    "    sharey=True, \n",
    "    figsize=(9, 7),\n",
    "    dpi=300\n",
    ")\n",
    "plt.locator_params(axis='x', nbins=4)\n",
    "\n",
    "### section 1 - showing the connected components of 10 meter radius\n",
    "test_radius = 50\n",
    "edge_list = neighbors(\n",
    "    rebuild_info['node_data_original'],\n",
    "    radius = test_radius\n",
    ")\n",
    "G = nx.from_edgelist(edge_list.detach().cpu().numpy().T)\n",
    "graph_components = list(nx.connected_components(G))\n",
    "\n",
    "color_arr = np.repeat([\"#FF0000\"], len(rebuild_info['node_data_original']))\n",
    "\n",
    "for c,component in enumerate(graph_components):\n",
    "    cterm = c / len(graph_components)\n",
    "    color_arr[np.array(list(component))] = matplotlib.colors.to_hex(\n",
    "        color_thing(cterm), \n",
    "        keep_alpha=True\n",
    "    )\n",
    "    \n",
    "nodedata = rebuild_info['node_data_original']\n",
    "nodedata.plot(markersize=0.2, ax=ax1, color=color_arr)\n",
    "ax1.set_title(f\"Connected Components - {test_radius}m Radius\")\n",
    "\n",
    "### section 2 - showing the connected components of larger radius\n",
    "test_radius = 150\n",
    "edge_list = neighbors(\n",
    "    rebuild_info['node_data_original'],\n",
    "    radius = test_radius\n",
    ")\n",
    "G = nx.from_edgelist(edge_list.detach().cpu().numpy().T)\n",
    "graph_components = list(nx.connected_components(G))\n",
    "\n",
    "color_arr = np.repeat([\"#FF0000\"], len(rebuild_info['node_data_original']))\n",
    "\n",
    "for c,component in enumerate(graph_components):\n",
    "    cterm = c / len(graph_components)\n",
    "    color_arr[np.array(list(component))] = matplotlib.colors.to_hex(\n",
    "        color_thing(cterm), \n",
    "        keep_alpha=True\n",
    "    )\n",
    "    \n",
    "nodedata.plot(markersize=0.2, ax=ax2, color=color_arr)\n",
    "ax2.set_title(f\"Connected Components - {test_radius}m Radius\")\n",
    "\n",
    "ax1.add_artist(ScaleBar(1))\n",
    "ax2.add_artist(ScaleBar(1))\n",
    "\n",
    "plt.tight_layout()\n",
    "\n",
    "plt.savefig('nyc_components.png')\n",
    "plt.show()"
   ]
  },
  {
   "cell_type": "code",
   "execution_count": null,
   "id": "f75f651e",
   "metadata": {
    "ExecuteTime": {
     "end_time": "2023-03-07T18:50:01.790060Z",
     "start_time": "2023-03-07T18:49:50.130694Z"
    },
    "tags": []
   },
   "outputs": [],
   "source": [
    "G = nx.from_edgelist(nycgraph['pano','links','pano']['edge_index'].detach().cpu().numpy().T)\n",
    "G.remove_nodes_from(list(nx.isolates(G)))"
   ]
  },
  {
   "cell_type": "code",
   "execution_count": null,
   "id": "92ca0d09",
   "metadata": {
    "ExecuteTime": {
     "end_time": "2023-03-07T18:52:04.010489Z",
     "start_time": "2023-03-07T18:52:03.888190Z"
    },
    "tags": []
   },
   "outputs": [],
   "source": [
    "plt.hist(nx.degree_histogram(G), bins=50)\n",
    "\n",
    "plt.title(\"Degree Histogram - New York\")\n",
    "plt.show()"
   ]
  },
  {
   "cell_type": "code",
   "execution_count": null,
   "id": "5712bffa",
   "metadata": {
    "ExecuteTime": {
     "end_time": "2023-03-07T19:29:28.377589Z",
     "start_time": "2023-03-07T19:29:28.365112Z"
    },
    "tags": []
   },
   "outputs": [],
   "source": [
    "def graph_statistics(graphobject, graphname):\n",
    "    G = nx.from_edgelist(graphobject['pano','links','pano']['edge_index'].detach().cpu().numpy().T)\n",
    "#     G.remove_nodes_from(list(nx.isolates(G)))\n",
    "    \n",
    "    return {\n",
    "        \"Density\": nx.density(G),\n",
    "        \"Edges\": nx.number_of_edges(G),\n",
    "        \"Nodes\": nx.number_of_nodes(G),\n",
    "        \"Assortivity\": nx.degree_assortativity_coefficient(G),\n",
    "        \"Transitivity\": nx.transitivity(G)\n",
    "        # \"Omega\": nx.omega(G)\n",
    "    }"
   ]
  },
  {
   "cell_type": "code",
   "execution_count": null,
   "id": "2b8c4a22",
   "metadata": {
    "ExecuteTime": {
     "end_time": "2023-03-07T19:35:34.139684Z",
     "start_time": "2023-03-07T19:35:22.728578Z"
    },
    "tags": []
   },
   "outputs": [],
   "source": [
    "nyc_nxgraph = nx.from_edgelist(nycgraph['pano','links','pano']['edge_index'].detach().cpu().numpy().T)"
   ]
  },
  {
   "cell_type": "code",
   "execution_count": null,
   "id": "7633c64a",
   "metadata": {
    "ExecuteTime": {
     "end_time": "2023-03-07T19:37:24.814116Z",
     "start_time": "2023-03-07T19:36:16.465766Z"
    },
    "tags": []
   },
   "outputs": [],
   "source": [
    "## also to compare a bit against a random, er graph with the same number of edges and nodes as nyc\n",
    "total_possible_edges = (nx.number_of_nodes(nyc_nxgraph) * ((nx.number_of_nodes(nyc_nxgraph) - 1))) / 2\n",
    "edge_probability = nx.number_of_edges(nyc_nxgraph) / total_possible_edges\n",
    "\n",
    "random_graph = nx.erdos_renyi_graph(nycgraph.num_nodes, edge_probability)"
   ]
  },
  {
   "cell_type": "code",
   "execution_count": null,
   "id": "def8497f",
   "metadata": {
    "ExecuteTime": {
     "end_time": "2023-03-07T19:34:14.086334Z",
     "start_time": "2023-03-07T19:34:14.065457Z"
    },
    "tags": []
   },
   "outputs": [],
   "source": [
    "nx.number_of_nodes(random_graph)"
   ]
  },
  {
   "cell_type": "code",
   "execution_count": null,
   "id": "8e1f97df",
   "metadata": {
    "ExecuteTime": {
     "end_time": "2023-03-07T19:09:37.968987Z",
     "start_time": "2023-03-07T19:09:37.946348Z"
    },
    "tags": []
   },
   "outputs": [],
   "source": [
    "nycgraph.num_nodes"
   ]
  },
  {
   "cell_type": "code",
   "execution_count": null,
   "id": "58604fb8",
   "metadata": {
    "ExecuteTime": {
     "end_time": "2023-03-07T19:40:42.572109Z",
     "start_time": "2023-03-07T19:38:09.937619Z"
    },
    "tags": []
   },
   "outputs": [],
   "source": [
    "randomstats = {\n",
    "    \"Density\": nx.density(random_graph), \n",
    "    \"Edges\": nx.number_of_edges(random_graph),\n",
    "    \"Nodes\": nx.number_of_nodes(random_graph),\n",
    "    \"Assortivity\": nx.degree_assortativity_coefficient(random_graph),\n",
    "    \"Transitivity\": nx.transitivity(random_graph),\n",
    "    # \"Omega\": nx.omega(random_graph)\n",
    "}\n",
    "randomstats"
   ]
  },
  {
   "cell_type": "code",
   "execution_count": null,
   "id": "a2d82f12",
   "metadata": {
    "ExecuteTime": {
     "end_time": "2023-03-07T19:31:39.042127Z",
     "start_time": "2023-03-07T19:29:28.378299Z"
    },
    "tags": []
   },
   "outputs": [],
   "source": [
    "nystats = graph_statistics(nycgraph, \"New York\")\n",
    "nystats"
   ]
  },
  {
   "cell_type": "code",
   "execution_count": null,
   "id": "19ce1ff7",
   "metadata": {
    "ExecuteTime": {
     "end_time": "2023-03-07T19:31:39.072153Z",
     "start_time": "2023-03-07T19:31:39.043245Z"
    },
    "tags": []
   },
   "outputs": [],
   "source": [
    "sfstats = graph_statistics(sfgraph, \"San Fransisco\")\n",
    "sfstats"
   ]
  },
  {
   "cell_type": "code",
   "execution_count": null,
   "id": "d550dc0a",
   "metadata": {
    "ExecuteTime": {
     "end_time": "2023-03-07T19:31:39.136857Z",
     "start_time": "2023-03-07T19:31:39.072884Z"
    },
    "tags": []
   },
   "outputs": [],
   "source": [
    "austats = graph_statistics(austingraph, \"Austin\")\n",
    "austats"
   ]
  },
  {
   "cell_type": "code",
   "execution_count": null,
   "id": "b5697e49",
   "metadata": {
    "ExecuteTime": {
     "end_time": "2023-03-01T07:27:46.011045Z",
     "start_time": "2023-03-01T07:27:45.991367Z"
    }
   },
   "outputs": [],
   "source": [
    "statsdf = pd.DataFrame([randomstats, nystats, sfstats, austats], index=['Erdős–Rényi','New York','San Fransisco','Austin'])"
   ]
  },
  {
   "cell_type": "code",
   "execution_count": null,
   "id": "73a088d2-f62c-4af2-b779-26c74f929c1c",
   "metadata": {
    "tags": []
   },
   "outputs": [],
   "source": [
    "with pd.option_context('display.float_format', '{:,.3f}'.format):\n",
    "   print(statsdf.to_latex(index=False))"
   ]
  },
  {
   "cell_type": "code",
   "execution_count": null,
   "id": "6a659cb1-1ba9-4010-b5da-4e4bd587c4e7",
   "metadata": {
    "tags": []
   },
   "outputs": [],
   "source": [
    "print(statsdf.to_latex(index=False))"
   ]
  },
  {
   "cell_type": "code",
   "execution_count": null,
   "id": "33c99f18",
   "metadata": {},
   "outputs": [],
   "source": []
  }
 ],
 "metadata": {
  "kernelspec": {
   "display_name": "Python 3 (ipykernel)",
   "language": "python",
   "name": "python3"
  },
  "language_info": {
   "codemirror_mode": {
    "name": "ipython",
    "version": 3
   },
   "file_extension": ".py",
   "mimetype": "text/x-python",
   "name": "python",
   "nbconvert_exporter": "python",
   "pygments_lexer": "ipython3",
   "version": "3.9.15"
  }
 },
 "nbformat": 4,
 "nbformat_minor": 5
}
