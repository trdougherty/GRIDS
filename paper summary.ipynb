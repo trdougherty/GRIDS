{
 "cells": [
  {
   "cell_type": "code",
   "execution_count": 7,
   "id": "3f5170ad-ea1a-4afa-81b6-036d6222fd8a",
   "metadata": {
    "tags": []
   },
   "outputs": [],
   "source": [
    "import os\n",
    "import sys\n",
    "import pandas as pd\n",
    "import numpy as np"
   ]
  },
  {
   "cell_type": "code",
   "execution_count": 8,
   "id": "ecfd83b6-18e7-4183-9c40-45067cf56d60",
   "metadata": {
    "tags": []
   },
   "outputs": [],
   "source": [
    "## e39 to e43 are the seeded terms\n",
    "nylinears = np.array([0.882,0.885,0.886,0.886,0.887])\n",
    "nynulls = np.array([0.548,0.551,0.552,0.549,0.546])\n",
    "nygraphs = np.array([0.543,0.547,0.546,0.544,0.546])"
   ]
  },
  {
   "cell_type": "code",
   "execution_count": 9,
   "id": "2bbde10c-bb0d-4174-ad0e-9518020a5fd4",
   "metadata": {
    "tags": []
   },
   "outputs": [
    {
     "name": "stdout",
     "output_type": "stream",
     "text": [
      "Linear Model Errors:\n",
      "mean:\t0.885\n",
      "std:\t0.002\n"
     ]
    }
   ],
   "source": [
    "print(\"Linear Model Errors:\\nmean:\\t{:.3f}\\nstd:\\t{:.3f}\".format(nylinears.mean(), nylinears.std()))"
   ]
  },
  {
   "cell_type": "code",
   "execution_count": 10,
   "id": "d50e4d4e-1812-4e7e-97af-fb03fa79ddb7",
   "metadata": {
    "tags": []
   },
   "outputs": [
    {
     "name": "stdout",
     "output_type": "stream",
     "text": [
      "Null Model Errors:\n",
      "mean:\t0.549\n",
      "std:\t0.002\n"
     ]
    }
   ],
   "source": [
    "print(\"Null Model Errors:\\nmean:\\t{:.3f}\\nstd:\\t{:.3f}\".format(nynulls.mean(), nynulls.std()))"
   ]
  },
  {
   "cell_type": "code",
   "execution_count": 11,
   "id": "4608debc-d0be-4db4-a14e-c430f78f75b1",
   "metadata": {
    "tags": []
   },
   "outputs": [
    {
     "name": "stdout",
     "output_type": "stream",
     "text": [
      "Graph Model Errors:\n",
      "mean:\t0.545\n",
      "std:\t0.001\n"
     ]
    }
   ],
   "source": [
    "print(\"Graph Model Errors:\\nmean:\\t{:.3f}\\nstd:\\t{:.3f}\".format(nygraphs.mean(), nygraphs.std()))"
   ]
  },
  {
   "cell_type": "code",
   "execution_count": null,
   "id": "18dbd85c-fa07-4c1d-8da8-de7eaa55b9e6",
   "metadata": {},
   "outputs": [],
   "source": []
  },
  {
   "cell_type": "code",
   "execution_count": 12,
   "id": "8f120264-c2a2-4b3d-9e20-eb7b29be75a6",
   "metadata": {
    "tags": []
   },
   "outputs": [],
   "source": [
    "## generalization errors\n",
    "pslin = np.array([2.193, 2.203, 2.205, 2.202, 2.195])\n",
    "psnull = np.array([0.805, 0.67, 0.834, 0.643, 0.692])\n",
    "psgraph = np.array([0.800, 0.859, 0.932, 0.786, 0.780])"
   ]
  },
  {
   "cell_type": "code",
   "execution_count": 13,
   "id": "26dec54c-2ac6-4ef6-a5d9-1bbd92cdfa8b",
   "metadata": {
    "tags": []
   },
   "outputs": [
    {
     "name": "stdout",
     "output_type": "stream",
     "text": [
      "Generalization SF: Linear Model Errors:\n",
      "mean:\t2.200\n",
      "std:\t0.005\n"
     ]
    }
   ],
   "source": [
    "print(\"Generalization SF: Linear Model Errors:\\nmean:\\t{:.3f}\\nstd:\\t{:.3f}\".format(pslin.mean(), pslin.std()))"
   ]
  },
  {
   "cell_type": "code",
   "execution_count": 14,
   "id": "bc7a9578-645c-4dd0-910c-a128ac5586c2",
   "metadata": {
    "tags": []
   },
   "outputs": [
    {
     "name": "stdout",
     "output_type": "stream",
     "text": [
      "Generalization SF: Null Model Errors:\n",
      "mean:\t0.729\n",
      "std:\t0.076\n"
     ]
    }
   ],
   "source": [
    "print(\"Generalization SF: Null Model Errors:\\nmean:\\t{:.3f}\\nstd:\\t{:.3f}\".format(psnull.mean(), psnull.std()))"
   ]
  },
  {
   "cell_type": "code",
   "execution_count": 15,
   "id": "404e0dbc-4af7-4ac3-a0b3-935cb7acb51c",
   "metadata": {
    "tags": []
   },
   "outputs": [
    {
     "name": "stdout",
     "output_type": "stream",
     "text": [
      "Generalization SF: Graph Model Errors:\n",
      "mean:\t0.831\n",
      "std:\t0.058\n"
     ]
    }
   ],
   "source": [
    "print(\"Generalization SF: Graph Model Errors:\\nmean:\\t{:.3f}\\nstd:\\t{:.3f}\".format(psgraph.mean(), psgraph.std()))"
   ]
  },
  {
   "cell_type": "code",
   "execution_count": null,
   "id": "3431ba13-492c-4aa4-89be-c7b41f18af19",
   "metadata": {},
   "outputs": [],
   "source": []
  },
  {
   "cell_type": "code",
   "execution_count": 16,
   "id": "273ba816-9b30-457a-aa60-d01a999229be",
   "metadata": {
    "tags": []
   },
   "outputs": [],
   "source": [
    "palin = np.array([7.873, 7.921, 7.927, 7.924, 7.907])\n",
    "panull = np.array([1.065, 1.363, 1.502, 0.260, 0.579])\n",
    "pagraph = np.array([2.305, 1.681, 1.586,  1.091, 1.320])"
   ]
  },
  {
   "cell_type": "code",
   "execution_count": 17,
   "id": "c809d32c-40d6-48bd-b777-1794bb2d65da",
   "metadata": {
    "tags": []
   },
   "outputs": [
    {
     "name": "stdout",
     "output_type": "stream",
     "text": [
      "Generalization Austin: Linear Model Errors:\n",
      "mean:\t7.910\n",
      "std:\t0.020\n"
     ]
    }
   ],
   "source": [
    "print(\"Generalization Austin: Linear Model Errors:\\nmean:\\t{:.3f}\\nstd:\\t{:.3f}\".format(palin.mean(), palin.std()))"
   ]
  },
  {
   "cell_type": "code",
   "execution_count": 18,
   "id": "850c2219-212d-46bf-8029-496dc6528b31",
   "metadata": {
    "tags": []
   },
   "outputs": [
    {
     "name": "stdout",
     "output_type": "stream",
     "text": [
      "Generalization Austin: Null Model Errors:\n",
      "mean:\t0.954\n",
      "std:\t0.470\n"
     ]
    }
   ],
   "source": [
    "print(\"Generalization Austin: Null Model Errors:\\nmean:\\t{:.3f}\\nstd:\\t{:.3f}\".format(panull.mean(), panull.std()))"
   ]
  },
  {
   "cell_type": "code",
   "execution_count": 19,
   "id": "2e03d37b-750e-4162-966a-41de14e55c92",
   "metadata": {
    "tags": []
   },
   "outputs": [
    {
     "name": "stdout",
     "output_type": "stream",
     "text": [
      "Generalization Austin: Graph Model Errors:\n",
      "mean:\t1.597\n",
      "std:\t0.410\n"
     ]
    }
   ],
   "source": [
    "print(\"Generalization Austin: Graph Model Errors:\\nmean:\\t{:.3f}\\nstd:\\t{:.3f}\".format(pagraph.mean(), pagraph.std()))"
   ]
  },
  {
   "cell_type": "code",
   "execution_count": null,
   "id": "726eb6c0-dfef-4bdf-86ce-2b86afcc6c5c",
   "metadata": {},
   "outputs": [],
   "source": []
  },
  {
   "cell_type": "code",
   "execution_count": null,
   "id": "0023468f-b79a-4cb4-81cd-c1371f23fc80",
   "metadata": {},
   "outputs": [],
   "source": []
  },
  {
   "cell_type": "code",
   "execution_count": 20,
   "id": "5b7a4ae3-36dd-4d28-8987-15c52414c646",
   "metadata": {
    "tags": []
   },
   "outputs": [],
   "source": [
    "## the world of generalization\n",
    "# PRIOR\n",
    "sfprl = np.array([2.37, 2.37, 2.37, 2.37, 2.37])\n",
    "sfprn = np.array([0.95, 0.82, 1.00, 0.77, 0.81])\n",
    "sfprg = np.array([0.92, 0.95, 1.03, 0.90, 0.90])\n",
    "                 \n",
    "                 \n",
    "aprl = np.array([6.82, 6.82, 6.82, 6.82, 6.82])\n",
    "aprn = np.array([5.17, 185.84, 2.31, 2.32, 4.35])\n",
    "aprg = np.array([419.33, 1.135, 30.42, 143.82, 20.69])\n",
    "\n",
    "# POST\n",
    "sfpl = np.array([2.34, 2.34, 2.34, 2.34, 2.34])\n",
    "sfpn = np.array([0.61, 0.59, 0.59, 0.59, 0.59])\n",
    "sfpg = np.array([0.59, 0.59, 0.59, 0.59, 0.59])\n",
    "                 \n",
    "                 \n",
    "apl = np.array([6.31, 6.31, 6.31, 6.31, 6.31])\n",
    "apn = np.array([0.10, 0.1, 0.10, 0.10, 0.10])\n",
    "apg = np.array([0.09, 0.1, 0.10, 0.10, 0.10])"
   ]
  },
  {
   "cell_type": "code",
   "execution_count": 21,
   "id": "c7e021ca-1029-4118-91e3-5f6c934ce8b7",
   "metadata": {
    "tags": []
   },
   "outputs": [
    {
     "data": {
      "text/plain": [
       "array([0.1, 0.1, 0.1, 0.1, 0.1])"
      ]
     },
     "execution_count": 21,
     "metadata": {},
     "output_type": "execute_result"
    }
   ],
   "source": [
    "apn"
   ]
  },
  {
   "cell_type": "code",
   "execution_count": 22,
   "id": "d11e6491-b323-409e-b9ff-45136cb8b59e",
   "metadata": {
    "tags": []
   },
   "outputs": [
    {
     "name": "stdout",
     "output_type": "stream",
     "text": [
      "Generalization SF Prior: Linear Model Errors:\n",
      "mean:\t2.370\n",
      "std:\t0.000\n",
      "\n",
      "Generalization SF Prior: Null Model Errors:\n",
      "mean:\t0.870\n",
      "std:\t0.089\n",
      "\n",
      "Generalization SF Prior: Graph Model Errors:\n",
      "mean:\t0.940\n",
      "std:\t0.049\n",
      "\n",
      "Generalization Austin Prior: Linear Model Errors:\n",
      "mean:\t6.820\n",
      "std:\t0.000\n",
      "\n",
      "Generalization Austin Prior: Null Model Errors:\n",
      "mean:\t39.998\n",
      "std:\t72.930\n",
      "\n",
      "Generalization Austin Prior: Graph Model Errors:\n",
      "mean:\t123.079\n",
      "std:\t156.291\n",
      "\n"
     ]
    }
   ],
   "source": [
    "## Prior Results\n",
    "print(\"Generalization SF Prior: Linear Model Errors:\\nmean:\\t{:.3f}\\nstd:\\t{:.3f}\\n\".format(sfprl.mean(), sfprl.std()))\n",
    "print(\"Generalization SF Prior: Null Model Errors:\\nmean:\\t{:.3f}\\nstd:\\t{:.3f}\\n\".format(sfprn.mean(), sfprn.std()))\n",
    "print(\"Generalization SF Prior: Graph Model Errors:\\nmean:\\t{:.3f}\\nstd:\\t{:.3f}\\n\".format(sfprg.mean(), sfprg.std()))\n",
    "\n",
    "print(\"Generalization Austin Prior: Linear Model Errors:\\nmean:\\t{:.3f}\\nstd:\\t{:.3f}\\n\".format(aprl.mean(), aprl.std()))\n",
    "print(\"Generalization Austin Prior: Null Model Errors:\\nmean:\\t{:.3f}\\nstd:\\t{:.3f}\\n\".format(aprn.mean(), aprn.std()))\n",
    "print(\"Generalization Austin Prior: Graph Model Errors:\\nmean:\\t{:.3f}\\nstd:\\t{:.3f}\\n\".format(aprg.mean(), aprg.std()))\n"
   ]
  },
  {
   "cell_type": "code",
   "execution_count": 23,
   "id": "6f8a5223-bbbc-42a7-9e77-770cb4b75eb6",
   "metadata": {
    "tags": []
   },
   "outputs": [
    {
     "name": "stdout",
     "output_type": "stream",
     "text": [
      "Generalization SF Post: Linear Model Errors:\n",
      "mean:\t2.340\n",
      "std:\t0.000\n",
      "\n",
      "Generalization SF Post: Null Model Errors:\n",
      "mean:\t0.594\n",
      "std:\t0.008\n",
      "\n",
      "Generalization SF Post: Graph Model Errors:\n",
      "mean:\t0.590\n",
      "std:\t0.000\n",
      "\n",
      "Generalization Austin Post: Linear Model Errors:\n",
      "mean:\t6.310\n",
      "std:\t0.000\n",
      "\n",
      "Generalization Austin Post: Null Model Errors:\n",
      "mean:\t0.100\n",
      "std:\t0.000\n",
      "\n",
      "Generalization Austin Post: Graph Model Errors:\n",
      "mean:\t0.098\n",
      "std:\t0.004\n",
      "\n"
     ]
    }
   ],
   "source": [
    "## Prior Results\n",
    "print(\"Generalization SF Post: Linear Model Errors:\\nmean:\\t{:.3f}\\nstd:\\t{:.3f}\\n\".format(sfpl.mean(), sfpl.std()))\n",
    "print(\"Generalization SF Post: Null Model Errors:\\nmean:\\t{:.3f}\\nstd:\\t{:.3f}\\n\".format(sfpn.mean(), sfpn.std()))\n",
    "print(\"Generalization SF Post: Graph Model Errors:\\nmean:\\t{:.3f}\\nstd:\\t{:.3f}\\n\".format(sfpg.mean(), sfpg.std()))\n",
    "\n",
    "print(\"Generalization Austin Post: Linear Model Errors:\\nmean:\\t{:.3f}\\nstd:\\t{:.3f}\\n\".format(apl.mean(), apl.std()))\n",
    "print(\"Generalization Austin Post: Null Model Errors:\\nmean:\\t{:.3f}\\nstd:\\t{:.3f}\\n\".format(apn.mean(), apn.std()))\n",
    "print(\"Generalization Austin Post: Graph Model Errors:\\nmean:\\t{:.3f}\\nstd:\\t{:.3f}\\n\".format(apg.mean(), apg.std()))\n"
   ]
  },
  {
   "cell_type": "code",
   "execution_count": 25,
   "id": "4b018dcb-2194-4f25-aae9-044555e95843",
   "metadata": {},
   "outputs": [
    {
     "data": {
      "text/plain": [
       "99.32659932659934"
      ]
     },
     "execution_count": 25,
     "metadata": {},
     "output_type": "execute_result"
    }
   ],
   "source": [
    "sfpg.mean() / sfpn.mean() * 100"
   ]
  },
  {
   "cell_type": "code",
   "execution_count": 26,
   "id": "532d5285-0267-42c0-a819-85a49468769c",
   "metadata": {},
   "outputs": [
    {
     "data": {
      "text/plain": [
       "98.0"
      ]
     },
     "execution_count": 26,
     "metadata": {},
     "output_type": "execute_result"
    }
   ],
   "source": [
    "apg.mean() / apn.mean() * 100"
   ]
  },
  {
   "cell_type": "code",
   "execution_count": null,
   "id": "a0c1b9cf-62cc-4dfb-9c7f-ea0d111b438e",
   "metadata": {},
   "outputs": [],
   "source": []
  }
 ],
 "metadata": {
  "kernelspec": {
   "display_name": "Python 3 (ipykernel)",
   "language": "python",
   "name": "python3"
  },
  "language_info": {
   "codemirror_mode": {
    "name": "ipython",
    "version": 3
   },
   "file_extension": ".py",
   "mimetype": "text/x-python",
   "name": "python",
   "nbconvert_exporter": "python",
   "pygments_lexer": "ipython3",
   "version": "3.9.15"
  }
 },
 "nbformat": 4,
 "nbformat_minor": 5
}
