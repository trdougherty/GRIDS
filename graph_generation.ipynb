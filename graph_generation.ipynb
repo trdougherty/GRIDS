{
 "cells": [
  {
   "cell_type": "code",
   "execution_count": 1,
   "id": "a38d6e64",
   "metadata": {
    "ExecuteTime": {
     "end_time": "2023-03-07T18:06:14.207969Z",
     "start_time": "2023-03-07T18:06:13.144729Z"
    }
   },
   "outputs": [],
   "source": [
    "import torch\n",
    "from torch.utils.data import DataLoader, random_split\n",
    "\n",
    "import torch_geometric as pyg\n",
    "import torch.nn as nn\n",
    "\n",
    "from torch_geometric.data import Data\n",
    "from torch_geometric.data import InMemoryDataset\n",
    "\n",
    "import os\n",
    "import sys\n",
    "import numpy as np\n",
    "import pandas as pd\n",
    "import networkx as nx"
   ]
  },
  {
   "cell_type": "code",
   "execution_count": 2,
   "id": "abed4148",
   "metadata": {
    "ExecuteTime": {
     "end_time": "2023-03-07T18:06:14.813799Z",
     "start_time": "2023-03-07T18:06:14.799763Z"
    }
   },
   "outputs": [
    {
     "data": {
      "text/plain": [
       "torch.Size([200, 2])"
      ]
     },
     "execution_count": 2,
     "metadata": {},
     "output_type": "execute_result"
    }
   ],
   "source": [
    "torch.randint(0,100,(200,2)).shape"
   ]
  },
  {
   "cell_type": "code",
   "execution_count": 3,
   "id": "0df62829",
   "metadata": {
    "ExecuteTime": {
     "end_time": "2023-03-07T18:06:14.942745Z",
     "start_time": "2023-03-07T18:06:14.926344Z"
    }
   },
   "outputs": [],
   "source": [
    "from torch_geometric.data import Data\n",
    "import torch_geometric.transforms as T\n",
    "\n",
    "actors_net = Data(\n",
    "    x = torch.rand(5,1),\n",
    "    edge_index = torch.randint(0,5,(2,4))\n",
    ")\n",
    "\n",
    "# actors_net = T.AddSelfLoops()(actors_net)\n",
    "actors_net = T.ToUndirected()(actors_net)"
   ]
  },
  {
   "cell_type": "code",
   "execution_count": 4,
   "id": "3e6ef17f",
   "metadata": {
    "ExecuteTime": {
     "end_time": "2023-03-07T18:06:15.094140Z",
     "start_time": "2023-03-07T18:06:15.089892Z"
    }
   },
   "outputs": [
    {
     "data": {
      "text/plain": [
       "Data(x=[5, 1], edge_index=[2, 5])"
      ]
     },
     "execution_count": 4,
     "metadata": {},
     "output_type": "execute_result"
    }
   ],
   "source": [
    "actors_net"
   ]
  },
  {
   "cell_type": "code",
   "execution_count": 5,
   "id": "ba525f5a",
   "metadata": {
    "ExecuteTime": {
     "end_time": "2023-03-07T18:06:15.978772Z",
     "start_time": "2023-03-07T18:06:15.965375Z"
    }
   },
   "outputs": [],
   "source": [
    "from torch_geometric.nn import GATConv, Linear, to_hetero\n",
    "sample_conv = GATConv((-1, -1), 1, add_self_loops=False)"
   ]
  },
  {
   "cell_type": "code",
   "execution_count": 6,
   "id": "800d732b",
   "metadata": {
    "ExecuteTime": {
     "end_time": "2023-03-07T18:06:17.881221Z",
     "start_time": "2023-03-07T18:06:17.865452Z"
    }
   },
   "outputs": [
    {
     "data": {
      "text/plain": [
       "tensor([[0.2842],\n",
       "        [0.7606],\n",
       "        [0.6021],\n",
       "        [0.2196],\n",
       "        [0.8636]])"
      ]
     },
     "execution_count": 6,
     "metadata": {},
     "output_type": "execute_result"
    }
   ],
   "source": [
    "actors_net.x"
   ]
  },
  {
   "cell_type": "code",
   "execution_count": 7,
   "id": "3a69494e",
   "metadata": {
    "ExecuteTime": {
     "end_time": "2023-03-07T18:06:18.836409Z",
     "start_time": "2023-03-07T18:06:18.823078Z"
    }
   },
   "outputs": [],
   "source": [
    "sample_xlayer = sample_conv.lin_src(actors_net.x).view(-1,1,5)"
   ]
  },
  {
   "cell_type": "code",
   "execution_count": 8,
   "id": "7aaad973",
   "metadata": {
    "ExecuteTime": {
     "end_time": "2023-03-07T18:06:19.673450Z",
     "start_time": "2023-03-07T18:06:19.669488Z"
    }
   },
   "outputs": [
    {
     "data": {
      "text/plain": [
       "Parameter containing:\n",
       "tensor([[[1.7195]]], requires_grad=True)"
      ]
     },
     "execution_count": 8,
     "metadata": {},
     "output_type": "execute_result"
    }
   ],
   "source": [
    "sample_conv.att_src"
   ]
  },
  {
   "cell_type": "code",
   "execution_count": 9,
   "id": "1cc0e1c0",
   "metadata": {
    "ExecuteTime": {
     "end_time": "2023-03-07T18:06:19.827268Z",
     "start_time": "2023-03-07T18:06:19.823157Z"
    }
   },
   "outputs": [
    {
     "data": {
      "text/plain": [
       "Parameter containing:\n",
       "tensor([[[0.1904]]], requires_grad=True)"
      ]
     },
     "execution_count": 9,
     "metadata": {},
     "output_type": "execute_result"
    }
   ],
   "source": [
    "sample_conv.att_dst"
   ]
  },
  {
   "cell_type": "code",
   "execution_count": 10,
   "id": "3f72a6a5",
   "metadata": {
    "ExecuteTime": {
     "end_time": "2023-03-07T18:06:19.986846Z",
     "start_time": "2023-03-07T18:06:19.973715Z"
    }
   },
   "outputs": [
    {
     "data": {
      "text/plain": [
       "tensor([[-0.2559, -0.6848, -0.5421, -0.1977, -0.7775]], grad_fn=<SumBackward1>)"
      ]
     },
     "execution_count": 10,
     "metadata": {},
     "output_type": "execute_result"
    }
   ],
   "source": [
    "(sample_xlayer * sample_conv.att_src).sum(dim=1)"
   ]
  },
  {
   "cell_type": "code",
   "execution_count": 11,
   "id": "f042c6b8",
   "metadata": {
    "ExecuteTime": {
     "end_time": "2023-03-07T18:06:20.138575Z",
     "start_time": "2023-03-07T18:06:20.134329Z"
    }
   },
   "outputs": [
    {
     "data": {
      "text/plain": [
       "tensor([[0.2842],\n",
       "        [0.7606],\n",
       "        [0.6021],\n",
       "        [0.2196],\n",
       "        [0.8636]])"
      ]
     },
     "execution_count": 11,
     "metadata": {},
     "output_type": "execute_result"
    }
   ],
   "source": [
    "actors_net.x"
   ]
  },
  {
   "cell_type": "code",
   "execution_count": 12,
   "id": "6d4d2210",
   "metadata": {
    "ExecuteTime": {
     "end_time": "2023-03-07T18:06:21.849146Z",
     "start_time": "2023-03-07T18:06:21.845277Z"
    }
   },
   "outputs": [
    {
     "data": {
      "text/plain": [
       "tensor([[0, 2, 2, 4, 4],\n",
       "        [2, 0, 4, 2, 4]])"
      ]
     },
     "execution_count": 12,
     "metadata": {},
     "output_type": "execute_result"
    }
   ],
   "source": [
    "actors_net.edge_index"
   ]
  },
  {
   "cell_type": "code",
   "execution_count": 13,
   "id": "fcdde9e7",
   "metadata": {
    "ExecuteTime": {
     "end_time": "2023-03-07T18:06:22.743524Z",
     "start_time": "2023-03-07T18:06:22.434469Z"
    }
   },
   "outputs": [
    {
     "data": {
      "image/png": "[encoded data removed]",
      "text/plain": [
       "<Figure size 640x480 with 1 Axes>"
      ]
     },
     "metadata": {},
     "output_type": "display_data"
    }
   ],
   "source": [
    "from torch_geometric.utils import to_networkx\n",
    "sample_homogeneous = to_networkx(actors_net)\n",
    "\n",
    "\n",
    "nx.draw(to_networkx(actors_net), node_size=30, node_color=\"coral\", with_labels = True)"
   ]
  },
  {
   "cell_type": "code",
   "execution_count": 14,
   "id": "5f450c53",
   "metadata": {},
   "outputs": [
    {
     "data": {
      "text/plain": [
       "tensor([[0.8050],\n",
       "        [0.6915],\n",
       "        [0.8267],\n",
       "        [0.7270],\n",
       "        [0.7371]])"
      ]
     },
     "execution_count": 14,
     "metadata": {},
     "output_type": "execute_result"
    }
   ],
   "source": [
    "actors_net.x"
   ]
  },
  {
   "cell_type": "code",
   "execution_count": 15,
   "id": "5f64fcdc",
   "metadata": {},
   "outputs": [
    {
     "data": {
      "text/plain": [
       "tensor([[1.2164],\n",
       "        [1.2943],\n",
       "        [1.2943],\n",
       "        [1.2441],\n",
       "        [1.1689]], grad_fn=<AddBackward0>)"
      ]
     },
     "execution_count": 15,
     "metadata": {},
     "output_type": "execute_result"
    }
   ],
   "source": [
    "sample_conv(actors_net.x, actors_net.edge_index)"
   ]
  },
  {
   "cell_type": "code",
   "execution_count": 16,
   "id": "71f20896",
   "metadata": {},
   "outputs": [
    {
     "data": {
      "text/plain": [
       "tensor([[10, 18,  4,  9, 45, 12,  0,  7, 25, 28, 24,  7, 20, 20, 30, 36, 48, 40,\n",
       "         43, 30, 14, 18,  9, 37,  9, 38, 42, 32, 15,  5, 12, 21, 21, 38, 42, 22,\n",
       "         49, 40,  1, 26,  3,  1,  9, 31, 48, 16, 19, 35, 26, 49,  2, 49, 39, 22,\n",
       "          1, 19, 26, 11,  2, 38, 12,  1, 23,  0, 42, 27, 31, 33, 46, 44, 24, 31,\n",
       "         35,  3, 18, 47, 25,  1, 18, 15, 40, 31, 35, 14, 46, 28, 42, 28,  9, 45,\n",
       "          5, 19,  8, 26, 38, 11,  2, 23, 17, 17],\n",
       "        [ 1,  0,  1,  1,  1,  0,  1,  1,  1,  0,  0,  0,  0,  1,  1,  1,  1,  0,\n",
       "          0,  0,  0,  1,  0,  0,  1,  0,  0,  0,  1,  0,  1,  1,  1,  0,  1,  0,\n",
       "          0,  1,  0,  0,  0,  1,  0,  0,  0,  1,  0,  0,  0,  1,  0,  1,  1,  1,\n",
       "          0,  0,  0,  0,  0,  0,  0,  0,  1,  1,  0,  0,  1,  0,  1,  0,  1,  1,\n",
       "          0,  1,  0,  1,  1,  1,  1,  1,  0,  1,  1,  1,  1,  0,  1,  0,  0,  0,\n",
       "          0,  1,  1,  0,  1,  1,  0,  1,  0,  1]])"
      ]
     },
     "execution_count": 16,
     "metadata": {},
     "output_type": "execute_result"
    }
   ],
   "source": [
    "torch.vstack([\n",
    "    torch.randint(0,50,(1,100)),\n",
    "    torch.randint(0,2,(1,100))\n",
    "])"
   ]
  },
  {
   "cell_type": "code",
   "execution_count": 17,
   "id": "cd4c6111",
   "metadata": {},
   "outputs": [],
   "source": [
    "from torch_geometric.data import HeteroData\n",
    "\n",
    "show_net = HeteroData()\n",
    "\n",
    "show_net['actor'].x = torch.rand(50,5)\n",
    "show_net['director'].x = torch.rand(2,5)\n",
    "\n",
    "actor_actor = torch.randint(0,50,(2,100))\n",
    "director_actor = torch.vstack([\n",
    "    torch.randint(0,50,(1,75)),\n",
    "    torch.randint(0,2,(1,75))\n",
    "])\n",
    "\n",
    "show_net['actor', 'interacts', 'actor'].edge_index = actor_actor\n",
    "show_net['director', 'interacts', 'actor'].edge_index = director_actor\n",
    "\n",
    "# data['paper', 'cites', 'paper'].edge_attr = ... # [num_edges_cites, num_features_cites]\n",
    "# data['author', 'writes', 'paper'].edge_attr = ... # [num_edges_writes, num_features_writes]\n",
    "# data['author', 'affiliated_with', 'institution'].edge_attr = ... # [num_edges_affiliated, num_features_affiliated]\n",
    "# data['paper', 'has_topic', 'field_of_study'].edge_attr = ... # [num_edges_topic, num_features_topic]"
   ]
  },
  {
   "cell_type": "code",
   "execution_count": 18,
   "id": "d4bc99d1",
   "metadata": {},
   "outputs": [],
   "source": [
    "from torch_geometric.datasets import IMDB"
   ]
  },
  {
   "cell_type": "code",
   "execution_count": 19,
   "id": "95f210ce",
   "metadata": {},
   "outputs": [
    {
     "name": "stderr",
     "output_type": "stream",
     "text": [
      "Downloading https://www.dropbox.com/s/g0btk9ctr1es39x/IMDB_processed.zip?dl=1\n",
      "Extracting /tmp/IMDB/raw/IMDB_processed.zip\n",
      "Processing...\n",
      "Done!\n"
     ]
    }
   ],
   "source": [
    "dataset = IMDB(root=\"/tmp/IMDB\")"
   ]
  },
  {
   "cell_type": "code",
   "execution_count": 20,
   "id": "bfdb6413",
   "metadata": {},
   "outputs": [
    {
     "data": {
      "text/plain": [
       "HeteroData(\n",
       "  \u001b[1mmovie\u001b[0m={\n",
       "    x=[4278, 3066],\n",
       "    y=[4278],\n",
       "    train_mask=[4278],\n",
       "    val_mask=[4278],\n",
       "    test_mask=[4278]\n",
       "  },\n",
       "  \u001b[1mdirector\u001b[0m={ x=[2081, 3066] },\n",
       "  \u001b[1mactor\u001b[0m={ x=[5257, 3066] },\n",
       "  \u001b[1m(movie, to, director)\u001b[0m={ edge_index=[2, 4278] },\n",
       "  \u001b[1m(movie, to, actor)\u001b[0m={ edge_index=[2, 12828] },\n",
       "  \u001b[1m(director, to, movie)\u001b[0m={ edge_index=[2, 4278] },\n",
       "  \u001b[1m(actor, to, movie)\u001b[0m={ edge_index=[2, 12828] }\n",
       ")"
      ]
     },
     "execution_count": 20,
     "metadata": {},
     "output_type": "execute_result"
    }
   ],
   "source": [
    "dataset[0]"
   ]
  },
  {
   "cell_type": "code",
   "execution_count": 21,
   "id": "527ddefb",
   "metadata": {},
   "outputs": [
    {
     "data": {
      "text/plain": [
       "{'edge_index': tensor([[   0,    1,    2,  ..., 4275, 4276, 4277],\n",
       "        [ 789,  680, 1757,  ..., 1781,  166,  399]])}"
      ]
     },
     "execution_count": 21,
     "metadata": {},
     "output_type": "execute_result"
    }
   ],
   "source": [
    "dataset[0]['movie','to','director']"
   ]
  },
  {
   "cell_type": "code",
   "execution_count": 16,
   "id": "f02a2128",
   "metadata": {},
   "outputs": [],
   "source": [
    "mask = dataset[0]['movie']['train_mask']"
   ]
  },
  {
   "cell_type": "code",
   "execution_count": 136,
   "id": "38331a9a",
   "metadata": {},
   "outputs": [
    {
     "data": {
      "text/plain": [
       "torch.Size([4278])"
      ]
     },
     "execution_count": 136,
     "metadata": {},
     "output_type": "execute_result"
    }
   ],
   "source": [
    "mask.shape"
   ]
  },
  {
   "cell_type": "code",
   "execution_count": 140,
   "id": "d02dc1b3",
   "metadata": {},
   "outputs": [
    {
     "data": {
      "text/plain": [
       "torch.Size([4278, 3066])"
      ]
     },
     "execution_count": 140,
     "metadata": {},
     "output_type": "execute_result"
    }
   ],
   "source": [
    "dataset[0]['movie'].x.shape"
   ]
  },
  {
   "cell_type": "code",
   "execution_count": 139,
   "id": "f8b65541",
   "metadata": {},
   "outputs": [
    {
     "data": {
      "text/plain": [
       "torch.Size([400, 3066])"
      ]
     },
     "execution_count": 139,
     "metadata": {},
     "output_type": "execute_result"
    }
   ],
   "source": [
    "dataset[0]['movie'].x[mask].shape"
   ]
  },
  {
   "cell_type": "code",
   "execution_count": 127,
   "id": "88858df7",
   "metadata": {},
   "outputs": [],
   "source": [
    "from torch_geometric.typing import Adj, OptPairTensor, Size, SparseTensor\n"
   ]
  },
  {
   "cell_type": "code",
   "execution_count": 130,
   "id": "f29f94cd",
   "metadata": {},
   "outputs": [
    {
     "data": {
      "text/plain": [
       "typing.Union[torch.Tensor, torch_sparse.tensor.SparseTensor]"
      ]
     },
     "execution_count": 130,
     "metadata": {},
     "output_type": "execute_result"
    }
   ],
   "source": [
    "Adj"
   ]
  },
  {
   "cell_type": "code",
   "execution_count": 75,
   "id": "e9aee81a",
   "metadata": {},
   "outputs": [
    {
     "ename": "TypeError",
     "evalue": "'HeteroData' object is not callable",
     "output_type": "error",
     "traceback": [
      "\u001b[0;31m---------------------------------------------------------------------------\u001b[0m",
      "\u001b[0;31mTypeError\u001b[0m                                 Traceback (most recent call last)",
      "Cell \u001b[0;32mIn[75], line 1\u001b[0m\n\u001b[0;32m----> 1\u001b[0m nx\u001b[38;5;241m.\u001b[39mdraw(\u001b[43mto_networkx\u001b[49m\u001b[43m(\u001b[49m\u001b[43mdata\u001b[49m\u001b[43m)\u001b[49m, node_size\u001b[38;5;241m=\u001b[39m\u001b[38;5;241m30\u001b[39m, node_color\u001b[38;5;241m=\u001b[39m\u001b[38;5;124m\"\u001b[39m\u001b[38;5;124mgray\u001b[39m\u001b[38;5;124m\"\u001b[39m)\n",
      "File \u001b[0;32m~/miniconda3/envs/dbr/lib/python3.9/site-packages/torch_geometric/utils/convert.py:133\u001b[0m, in \u001b[0;36mto_networkx\u001b[0;34m(data, node_attrs, edge_attrs, graph_attrs, to_undirected, remove_self_loops)\u001b[0m\n\u001b[1;32m    130\u001b[0m graph_attrs \u001b[38;5;241m=\u001b[39m graph_attrs \u001b[38;5;129;01mor\u001b[39;00m []\n\u001b[1;32m    132\u001b[0m values \u001b[38;5;241m=\u001b[39m {}\n\u001b[0;32m--> 133\u001b[0m \u001b[38;5;28;01mfor\u001b[39;00m key, value \u001b[38;5;129;01min\u001b[39;00m \u001b[43mdata\u001b[49m\u001b[43m(\u001b[49m\u001b[38;5;241;43m*\u001b[39;49m\u001b[43m(\u001b[49m\u001b[43mnode_attrs\u001b[49m\u001b[43m \u001b[49m\u001b[38;5;241;43m+\u001b[39;49m\u001b[43m \u001b[49m\u001b[43medge_attrs\u001b[49m\u001b[43m \u001b[49m\u001b[38;5;241;43m+\u001b[39;49m\u001b[43m \u001b[49m\u001b[43mgraph_attrs\u001b[49m\u001b[43m)\u001b[49m\u001b[43m)\u001b[49m:\n\u001b[1;32m    134\u001b[0m     \u001b[38;5;28;01mif\u001b[39;00m torch\u001b[38;5;241m.\u001b[39mis_tensor(value):\n\u001b[1;32m    135\u001b[0m         value \u001b[38;5;241m=\u001b[39m value \u001b[38;5;28;01mif\u001b[39;00m value\u001b[38;5;241m.\u001b[39mdim() \u001b[38;5;241m<\u001b[39m\u001b[38;5;241m=\u001b[39m \u001b[38;5;241m1\u001b[39m \u001b[38;5;28;01melse\u001b[39;00m value\u001b[38;5;241m.\u001b[39msqueeze(\u001b[38;5;241m-\u001b[39m\u001b[38;5;241m1\u001b[39m)\n",
      "\u001b[0;31mTypeError\u001b[0m: 'HeteroData' object is not callable"
     ]
    }
   ],
   "source": [
    "nx.draw(to_networkx(data), node_size=30, node_color=\"gray\")"
   ]
  },
  {
   "cell_type": "code",
   "execution_count": 2,
   "id": "4e56554b",
   "metadata": {},
   "outputs": [
    {
     "ename": "FileNotFoundError",
     "evalue": "[Errno 2] No such file or directory: 'data/nyc/photos/streetview/manhattan_metadata_links.tsv'",
     "output_type": "error",
     "traceback": [
      "\u001b[0;31m---------------------------------------------------------------------------\u001b[0m",
      "\u001b[0;31mFileNotFoundError\u001b[0m                         Traceback (most recent call last)",
      "Cell \u001b[0;32mIn[2], line 2\u001b[0m\n\u001b[1;32m      1\u001b[0m streetview_graph_file \u001b[38;5;241m=\u001b[39m os\u001b[38;5;241m.\u001b[39mpath\u001b[38;5;241m.\u001b[39mjoin(\u001b[38;5;124m'\u001b[39m\u001b[38;5;124mdata\u001b[39m\u001b[38;5;124m'\u001b[39m,\u001b[38;5;124m'\u001b[39m\u001b[38;5;124mnyc\u001b[39m\u001b[38;5;124m'\u001b[39m,\u001b[38;5;124m'\u001b[39m\u001b[38;5;124mphotos\u001b[39m\u001b[38;5;124m'\u001b[39m,\u001b[38;5;124m'\u001b[39m\u001b[38;5;124mstreetview\u001b[39m\u001b[38;5;124m'\u001b[39m,\u001b[38;5;124m'\u001b[39m\u001b[38;5;124mmanhattan_metadata_links.tsv\u001b[39m\u001b[38;5;124m'\u001b[39m)\n\u001b[0;32m----> 2\u001b[0m streetview_graph \u001b[38;5;241m=\u001b[39m \u001b[43mpd\u001b[49m\u001b[38;5;241;43m.\u001b[39;49m\u001b[43mread_csv\u001b[49m\u001b[43m(\u001b[49m\u001b[43mstreetview_graph_file\u001b[49m\u001b[43m,\u001b[49m\u001b[43m \u001b[49m\u001b[43msep\u001b[49m\u001b[38;5;241;43m=\u001b[39;49m\u001b[38;5;124;43m\"\u001b[39;49m\u001b[38;5;130;43;01m\\t\u001b[39;49;00m\u001b[38;5;124;43m\"\u001b[39;49m\u001b[43m,\u001b[49m\u001b[43m \u001b[49m\u001b[43mheader\u001b[49m\u001b[38;5;241;43m=\u001b[39;49m\u001b[38;5;28;43;01mNone\u001b[39;49;00m\u001b[43m)\u001b[49m\n",
      "File \u001b[0;32m~/miniconda3/envs/dbr/lib/python3.9/site-packages/pandas/util/_decorators.py:211\u001b[0m, in \u001b[0;36mdeprecate_kwarg.<locals>._deprecate_kwarg.<locals>.wrapper\u001b[0;34m(*args, **kwargs)\u001b[0m\n\u001b[1;32m    209\u001b[0m     \u001b[38;5;28;01melse\u001b[39;00m:\n\u001b[1;32m    210\u001b[0m         kwargs[new_arg_name] \u001b[38;5;241m=\u001b[39m new_arg_value\n\u001b[0;32m--> 211\u001b[0m \u001b[38;5;28;01mreturn\u001b[39;00m \u001b[43mfunc\u001b[49m\u001b[43m(\u001b[49m\u001b[38;5;241;43m*\u001b[39;49m\u001b[43margs\u001b[49m\u001b[43m,\u001b[49m\u001b[43m \u001b[49m\u001b[38;5;241;43m*\u001b[39;49m\u001b[38;5;241;43m*\u001b[39;49m\u001b[43mkwargs\u001b[49m\u001b[43m)\u001b[49m\n",
      "File \u001b[0;32m~/miniconda3/envs/dbr/lib/python3.9/site-packages/pandas/util/_decorators.py:331\u001b[0m, in \u001b[0;36mdeprecate_nonkeyword_arguments.<locals>.decorate.<locals>.wrapper\u001b[0;34m(*args, **kwargs)\u001b[0m\n\u001b[1;32m    325\u001b[0m \u001b[38;5;28;01mif\u001b[39;00m \u001b[38;5;28mlen\u001b[39m(args) \u001b[38;5;241m>\u001b[39m num_allow_args:\n\u001b[1;32m    326\u001b[0m     warnings\u001b[38;5;241m.\u001b[39mwarn(\n\u001b[1;32m    327\u001b[0m         msg\u001b[38;5;241m.\u001b[39mformat(arguments\u001b[38;5;241m=\u001b[39m_format_argument_list(allow_args)),\n\u001b[1;32m    328\u001b[0m         \u001b[38;5;167;01mFutureWarning\u001b[39;00m,\n\u001b[1;32m    329\u001b[0m         stacklevel\u001b[38;5;241m=\u001b[39mfind_stack_level(),\n\u001b[1;32m    330\u001b[0m     )\n\u001b[0;32m--> 331\u001b[0m \u001b[38;5;28;01mreturn\u001b[39;00m \u001b[43mfunc\u001b[49m\u001b[43m(\u001b[49m\u001b[38;5;241;43m*\u001b[39;49m\u001b[43margs\u001b[49m\u001b[43m,\u001b[49m\u001b[43m \u001b[49m\u001b[38;5;241;43m*\u001b[39;49m\u001b[38;5;241;43m*\u001b[39;49m\u001b[43mkwargs\u001b[49m\u001b[43m)\u001b[49m\n",
      "File \u001b[0;32m~/miniconda3/envs/dbr/lib/python3.9/site-packages/pandas/io/parsers/readers.py:950\u001b[0m, in \u001b[0;36mread_csv\u001b[0;34m(filepath_or_buffer, sep, delimiter, header, names, index_col, usecols, squeeze, prefix, mangle_dupe_cols, dtype, engine, converters, true_values, false_values, skipinitialspace, skiprows, skipfooter, nrows, na_values, keep_default_na, na_filter, verbose, skip_blank_lines, parse_dates, infer_datetime_format, keep_date_col, date_parser, dayfirst, cache_dates, iterator, chunksize, compression, thousands, decimal, lineterminator, quotechar, quoting, doublequote, escapechar, comment, encoding, encoding_errors, dialect, error_bad_lines, warn_bad_lines, on_bad_lines, delim_whitespace, low_memory, memory_map, float_precision, storage_options)\u001b[0m\n\u001b[1;32m    935\u001b[0m kwds_defaults \u001b[38;5;241m=\u001b[39m _refine_defaults_read(\n\u001b[1;32m    936\u001b[0m     dialect,\n\u001b[1;32m    937\u001b[0m     delimiter,\n\u001b[0;32m   (...)\u001b[0m\n\u001b[1;32m    946\u001b[0m     defaults\u001b[38;5;241m=\u001b[39m{\u001b[38;5;124m\"\u001b[39m\u001b[38;5;124mdelimiter\u001b[39m\u001b[38;5;124m\"\u001b[39m: \u001b[38;5;124m\"\u001b[39m\u001b[38;5;124m,\u001b[39m\u001b[38;5;124m\"\u001b[39m},\n\u001b[1;32m    947\u001b[0m )\n\u001b[1;32m    948\u001b[0m kwds\u001b[38;5;241m.\u001b[39mupdate(kwds_defaults)\n\u001b[0;32m--> 950\u001b[0m \u001b[38;5;28;01mreturn\u001b[39;00m \u001b[43m_read\u001b[49m\u001b[43m(\u001b[49m\u001b[43mfilepath_or_buffer\u001b[49m\u001b[43m,\u001b[49m\u001b[43m \u001b[49m\u001b[43mkwds\u001b[49m\u001b[43m)\u001b[49m\n",
      "File \u001b[0;32m~/miniconda3/envs/dbr/lib/python3.9/site-packages/pandas/io/parsers/readers.py:605\u001b[0m, in \u001b[0;36m_read\u001b[0;34m(filepath_or_buffer, kwds)\u001b[0m\n\u001b[1;32m    602\u001b[0m _validate_names(kwds\u001b[38;5;241m.\u001b[39mget(\u001b[38;5;124m\"\u001b[39m\u001b[38;5;124mnames\u001b[39m\u001b[38;5;124m\"\u001b[39m, \u001b[38;5;28;01mNone\u001b[39;00m))\n\u001b[1;32m    604\u001b[0m \u001b[38;5;66;03m# Create the parser.\u001b[39;00m\n\u001b[0;32m--> 605\u001b[0m parser \u001b[38;5;241m=\u001b[39m \u001b[43mTextFileReader\u001b[49m\u001b[43m(\u001b[49m\u001b[43mfilepath_or_buffer\u001b[49m\u001b[43m,\u001b[49m\u001b[43m \u001b[49m\u001b[38;5;241;43m*\u001b[39;49m\u001b[38;5;241;43m*\u001b[39;49m\u001b[43mkwds\u001b[49m\u001b[43m)\u001b[49m\n\u001b[1;32m    607\u001b[0m \u001b[38;5;28;01mif\u001b[39;00m chunksize \u001b[38;5;129;01mor\u001b[39;00m iterator:\n\u001b[1;32m    608\u001b[0m     \u001b[38;5;28;01mreturn\u001b[39;00m parser\n",
      "File \u001b[0;32m~/miniconda3/envs/dbr/lib/python3.9/site-packages/pandas/io/parsers/readers.py:1442\u001b[0m, in \u001b[0;36mTextFileReader.__init__\u001b[0;34m(self, f, engine, **kwds)\u001b[0m\n\u001b[1;32m   1439\u001b[0m     \u001b[38;5;28mself\u001b[39m\u001b[38;5;241m.\u001b[39moptions[\u001b[38;5;124m\"\u001b[39m\u001b[38;5;124mhas_index_names\u001b[39m\u001b[38;5;124m\"\u001b[39m] \u001b[38;5;241m=\u001b[39m kwds[\u001b[38;5;124m\"\u001b[39m\u001b[38;5;124mhas_index_names\u001b[39m\u001b[38;5;124m\"\u001b[39m]\n\u001b[1;32m   1441\u001b[0m \u001b[38;5;28mself\u001b[39m\u001b[38;5;241m.\u001b[39mhandles: IOHandles \u001b[38;5;241m|\u001b[39m \u001b[38;5;28;01mNone\u001b[39;00m \u001b[38;5;241m=\u001b[39m \u001b[38;5;28;01mNone\u001b[39;00m\n\u001b[0;32m-> 1442\u001b[0m \u001b[38;5;28mself\u001b[39m\u001b[38;5;241m.\u001b[39m_engine \u001b[38;5;241m=\u001b[39m \u001b[38;5;28;43mself\u001b[39;49m\u001b[38;5;241;43m.\u001b[39;49m\u001b[43m_make_engine\u001b[49m\u001b[43m(\u001b[49m\u001b[43mf\u001b[49m\u001b[43m,\u001b[49m\u001b[43m \u001b[49m\u001b[38;5;28;43mself\u001b[39;49m\u001b[38;5;241;43m.\u001b[39;49m\u001b[43mengine\u001b[49m\u001b[43m)\u001b[49m\n",
      "File \u001b[0;32m~/miniconda3/envs/dbr/lib/python3.9/site-packages/pandas/io/parsers/readers.py:1735\u001b[0m, in \u001b[0;36mTextFileReader._make_engine\u001b[0;34m(self, f, engine)\u001b[0m\n\u001b[1;32m   1733\u001b[0m     \u001b[38;5;28;01mif\u001b[39;00m \u001b[38;5;124m\"\u001b[39m\u001b[38;5;124mb\u001b[39m\u001b[38;5;124m\"\u001b[39m \u001b[38;5;129;01mnot\u001b[39;00m \u001b[38;5;129;01min\u001b[39;00m mode:\n\u001b[1;32m   1734\u001b[0m         mode \u001b[38;5;241m+\u001b[39m\u001b[38;5;241m=\u001b[39m \u001b[38;5;124m\"\u001b[39m\u001b[38;5;124mb\u001b[39m\u001b[38;5;124m\"\u001b[39m\n\u001b[0;32m-> 1735\u001b[0m \u001b[38;5;28mself\u001b[39m\u001b[38;5;241m.\u001b[39mhandles \u001b[38;5;241m=\u001b[39m \u001b[43mget_handle\u001b[49m\u001b[43m(\u001b[49m\n\u001b[1;32m   1736\u001b[0m \u001b[43m    \u001b[49m\u001b[43mf\u001b[49m\u001b[43m,\u001b[49m\n\u001b[1;32m   1737\u001b[0m \u001b[43m    \u001b[49m\u001b[43mmode\u001b[49m\u001b[43m,\u001b[49m\n\u001b[1;32m   1738\u001b[0m \u001b[43m    \u001b[49m\u001b[43mencoding\u001b[49m\u001b[38;5;241;43m=\u001b[39;49m\u001b[38;5;28;43mself\u001b[39;49m\u001b[38;5;241;43m.\u001b[39;49m\u001b[43moptions\u001b[49m\u001b[38;5;241;43m.\u001b[39;49m\u001b[43mget\u001b[49m\u001b[43m(\u001b[49m\u001b[38;5;124;43m\"\u001b[39;49m\u001b[38;5;124;43mencoding\u001b[39;49m\u001b[38;5;124;43m\"\u001b[39;49m\u001b[43m,\u001b[49m\u001b[43m \u001b[49m\u001b[38;5;28;43;01mNone\u001b[39;49;00m\u001b[43m)\u001b[49m\u001b[43m,\u001b[49m\n\u001b[1;32m   1739\u001b[0m \u001b[43m    \u001b[49m\u001b[43mcompression\u001b[49m\u001b[38;5;241;43m=\u001b[39;49m\u001b[38;5;28;43mself\u001b[39;49m\u001b[38;5;241;43m.\u001b[39;49m\u001b[43moptions\u001b[49m\u001b[38;5;241;43m.\u001b[39;49m\u001b[43mget\u001b[49m\u001b[43m(\u001b[49m\u001b[38;5;124;43m\"\u001b[39;49m\u001b[38;5;124;43mcompression\u001b[39;49m\u001b[38;5;124;43m\"\u001b[39;49m\u001b[43m,\u001b[49m\u001b[43m \u001b[49m\u001b[38;5;28;43;01mNone\u001b[39;49;00m\u001b[43m)\u001b[49m\u001b[43m,\u001b[49m\n\u001b[1;32m   1740\u001b[0m \u001b[43m    \u001b[49m\u001b[43mmemory_map\u001b[49m\u001b[38;5;241;43m=\u001b[39;49m\u001b[38;5;28;43mself\u001b[39;49m\u001b[38;5;241;43m.\u001b[39;49m\u001b[43moptions\u001b[49m\u001b[38;5;241;43m.\u001b[39;49m\u001b[43mget\u001b[49m\u001b[43m(\u001b[49m\u001b[38;5;124;43m\"\u001b[39;49m\u001b[38;5;124;43mmemory_map\u001b[39;49m\u001b[38;5;124;43m\"\u001b[39;49m\u001b[43m,\u001b[49m\u001b[43m \u001b[49m\u001b[38;5;28;43;01mFalse\u001b[39;49;00m\u001b[43m)\u001b[49m\u001b[43m,\u001b[49m\n\u001b[1;32m   1741\u001b[0m \u001b[43m    \u001b[49m\u001b[43mis_text\u001b[49m\u001b[38;5;241;43m=\u001b[39;49m\u001b[43mis_text\u001b[49m\u001b[43m,\u001b[49m\n\u001b[1;32m   1742\u001b[0m \u001b[43m    \u001b[49m\u001b[43merrors\u001b[49m\u001b[38;5;241;43m=\u001b[39;49m\u001b[38;5;28;43mself\u001b[39;49m\u001b[38;5;241;43m.\u001b[39;49m\u001b[43moptions\u001b[49m\u001b[38;5;241;43m.\u001b[39;49m\u001b[43mget\u001b[49m\u001b[43m(\u001b[49m\u001b[38;5;124;43m\"\u001b[39;49m\u001b[38;5;124;43mencoding_errors\u001b[39;49m\u001b[38;5;124;43m\"\u001b[39;49m\u001b[43m,\u001b[49m\u001b[43m \u001b[49m\u001b[38;5;124;43m\"\u001b[39;49m\u001b[38;5;124;43mstrict\u001b[39;49m\u001b[38;5;124;43m\"\u001b[39;49m\u001b[43m)\u001b[49m\u001b[43m,\u001b[49m\n\u001b[1;32m   1743\u001b[0m \u001b[43m    \u001b[49m\u001b[43mstorage_options\u001b[49m\u001b[38;5;241;43m=\u001b[39;49m\u001b[38;5;28;43mself\u001b[39;49m\u001b[38;5;241;43m.\u001b[39;49m\u001b[43moptions\u001b[49m\u001b[38;5;241;43m.\u001b[39;49m\u001b[43mget\u001b[49m\u001b[43m(\u001b[49m\u001b[38;5;124;43m\"\u001b[39;49m\u001b[38;5;124;43mstorage_options\u001b[39;49m\u001b[38;5;124;43m\"\u001b[39;49m\u001b[43m,\u001b[49m\u001b[43m \u001b[49m\u001b[38;5;28;43;01mNone\u001b[39;49;00m\u001b[43m)\u001b[49m\u001b[43m,\u001b[49m\n\u001b[1;32m   1744\u001b[0m \u001b[43m\u001b[49m\u001b[43m)\u001b[49m\n\u001b[1;32m   1745\u001b[0m \u001b[38;5;28;01massert\u001b[39;00m \u001b[38;5;28mself\u001b[39m\u001b[38;5;241m.\u001b[39mhandles \u001b[38;5;129;01mis\u001b[39;00m \u001b[38;5;129;01mnot\u001b[39;00m \u001b[38;5;28;01mNone\u001b[39;00m\n\u001b[1;32m   1746\u001b[0m f \u001b[38;5;241m=\u001b[39m \u001b[38;5;28mself\u001b[39m\u001b[38;5;241m.\u001b[39mhandles\u001b[38;5;241m.\u001b[39mhandle\n",
      "File \u001b[0;32m~/miniconda3/envs/dbr/lib/python3.9/site-packages/pandas/io/common.py:856\u001b[0m, in \u001b[0;36mget_handle\u001b[0;34m(path_or_buf, mode, encoding, compression, memory_map, is_text, errors, storage_options)\u001b[0m\n\u001b[1;32m    851\u001b[0m \u001b[38;5;28;01melif\u001b[39;00m \u001b[38;5;28misinstance\u001b[39m(handle, \u001b[38;5;28mstr\u001b[39m):\n\u001b[1;32m    852\u001b[0m     \u001b[38;5;66;03m# Check whether the filename is to be opened in binary mode.\u001b[39;00m\n\u001b[1;32m    853\u001b[0m     \u001b[38;5;66;03m# Binary mode does not support 'encoding' and 'newline'.\u001b[39;00m\n\u001b[1;32m    854\u001b[0m     \u001b[38;5;28;01mif\u001b[39;00m ioargs\u001b[38;5;241m.\u001b[39mencoding \u001b[38;5;129;01mand\u001b[39;00m \u001b[38;5;124m\"\u001b[39m\u001b[38;5;124mb\u001b[39m\u001b[38;5;124m\"\u001b[39m \u001b[38;5;129;01mnot\u001b[39;00m \u001b[38;5;129;01min\u001b[39;00m ioargs\u001b[38;5;241m.\u001b[39mmode:\n\u001b[1;32m    855\u001b[0m         \u001b[38;5;66;03m# Encoding\u001b[39;00m\n\u001b[0;32m--> 856\u001b[0m         handle \u001b[38;5;241m=\u001b[39m \u001b[38;5;28;43mopen\u001b[39;49m\u001b[43m(\u001b[49m\n\u001b[1;32m    857\u001b[0m \u001b[43m            \u001b[49m\u001b[43mhandle\u001b[49m\u001b[43m,\u001b[49m\n\u001b[1;32m    858\u001b[0m \u001b[43m            \u001b[49m\u001b[43mioargs\u001b[49m\u001b[38;5;241;43m.\u001b[39;49m\u001b[43mmode\u001b[49m\u001b[43m,\u001b[49m\n\u001b[1;32m    859\u001b[0m \u001b[43m            \u001b[49m\u001b[43mencoding\u001b[49m\u001b[38;5;241;43m=\u001b[39;49m\u001b[43mioargs\u001b[49m\u001b[38;5;241;43m.\u001b[39;49m\u001b[43mencoding\u001b[49m\u001b[43m,\u001b[49m\n\u001b[1;32m    860\u001b[0m \u001b[43m            \u001b[49m\u001b[43merrors\u001b[49m\u001b[38;5;241;43m=\u001b[39;49m\u001b[43merrors\u001b[49m\u001b[43m,\u001b[49m\n\u001b[1;32m    861\u001b[0m \u001b[43m            \u001b[49m\u001b[43mnewline\u001b[49m\u001b[38;5;241;43m=\u001b[39;49m\u001b[38;5;124;43m\"\u001b[39;49m\u001b[38;5;124;43m\"\u001b[39;49m\u001b[43m,\u001b[49m\n\u001b[1;32m    862\u001b[0m \u001b[43m        \u001b[49m\u001b[43m)\u001b[49m\n\u001b[1;32m    863\u001b[0m     \u001b[38;5;28;01melse\u001b[39;00m:\n\u001b[1;32m    864\u001b[0m         \u001b[38;5;66;03m# Binary mode\u001b[39;00m\n\u001b[1;32m    865\u001b[0m         handle \u001b[38;5;241m=\u001b[39m \u001b[38;5;28mopen\u001b[39m(handle, ioargs\u001b[38;5;241m.\u001b[39mmode)\n",
      "\u001b[0;31mFileNotFoundError\u001b[0m: [Errno 2] No such file or directory: 'data/nyc/photos/streetview/manhattan_metadata_links.tsv'"
     ]
    }
   ],
   "source": [
    "streetview_graph_file = os.path.join('data','nyc','photos','streetview','manhattan_metadata_links.tsv')\n",
    "streetview_graph = pd.read_csv(streetview_graph_file, sep=\"\\t\", header=None)"
   ]
  },
  {
   "cell_type": "code",
   "execution_count": 3,
   "id": "8e5886da",
   "metadata": {},
   "outputs": [],
   "source": [
    "source = streetview_graph.iloc[:,0]\n",
    "destin = streetview_graph.iloc[:,1]"
   ]
  },
  {
   "cell_type": "code",
   "execution_count": 4,
   "id": "189a5841",
   "metadata": {},
   "outputs": [],
   "source": [
    "all_terms = pd.concat([source, destin])"
   ]
  },
  {
   "cell_type": "code",
   "execution_count": 5,
   "id": "91e64eb3",
   "metadata": {},
   "outputs": [
    {
     "data": {
      "text/plain": [
       "55760"
      ]
     },
     "execution_count": 5,
     "metadata": {},
     "output_type": "execute_result"
    }
   ],
   "source": [
    "total_nodes = len(all_terms.unique())\n",
    "total_nodes"
   ]
  },
  {
   "cell_type": "code",
   "execution_count": 6,
   "id": "1a97695a",
   "metadata": {},
   "outputs": [],
   "source": [
    "node_mapping = {}\n",
    "for (index, value) in enumerate(all_terms.unique()):\n",
    "    node_mapping[value] = index"
   ]
  },
  {
   "cell_type": "code",
   "execution_count": 7,
   "id": "be13e9ed",
   "metadata": {},
   "outputs": [],
   "source": [
    "def map_nodes(x):\n",
    "    return x.apply(lambda i: node_mapping[i])"
   ]
  },
  {
   "cell_type": "code",
   "execution_count": 8,
   "id": "6bf41da5",
   "metadata": {},
   "outputs": [],
   "source": [
    "source_encoded = map_nodes(source)\n",
    "destin_encoded = map_nodes(destin)"
   ]
  },
  {
   "cell_type": "code",
   "execution_count": 9,
   "id": "015bcba7",
   "metadata": {},
   "outputs": [
    {
     "data": {
      "text/plain": [
       "0             0\n",
       "1             0\n",
       "2             1\n",
       "3             1\n",
       "4             1\n",
       "          ...  \n",
       "115599    55757\n",
       "115600    55758\n",
       "115601    55758\n",
       "115602    55759\n",
       "115603    55759\n",
       "Name: 0, Length: 115604, dtype: int64"
      ]
     },
     "execution_count": 9,
     "metadata": {},
     "output_type": "execute_result"
    }
   ],
   "source": [
    "source_encoded"
   ]
  },
  {
   "cell_type": "code",
   "execution_count": 10,
   "id": "99307126",
   "metadata": {},
   "outputs": [
    {
     "data": {
      "text/plain": [
       "array(['3JdO3uGIWfLSImQMdtCCCA', 'RAFkfers_AmgCZChVfO3FQ',\n",
       "       'oJxL7nOkGpwiKCl6rCTuTw', ..., 'q04-WzAcGr7qQ-rG_zO_cA',\n",
       "       'nDSZGT9Y-VjVZcC4KH7x9Q', 'cFEBFJXqrD2NR-0v3zoXgA'], dtype='<U22')"
      ]
     },
     "execution_count": 10,
     "metadata": {},
     "output_type": "execute_result"
    }
   ],
   "source": [
    "photos_id_file = os.path.join('data','nyc','photos','processed','pano_ids.txt')\n",
    "photos_ids = np.loadtxt(photos_id_file, dtype=str)\n",
    "photos_ids"
   ]
  },
  {
   "cell_type": "code",
   "execution_count": 11,
   "id": "5b9d8dd5",
   "metadata": {},
   "outputs": [
    {
     "data": {
      "text/plain": [
       "tensor([[-0.8140, -0.1031, -0.5150,  ..., -0.3733,  0.7945,  0.7549],\n",
       "        [-0.8714, -0.2139, -0.4887,  ..., -0.4787,  0.8860,  0.7696],\n",
       "        [-0.8302, -0.1603, -0.4612,  ..., -0.3989,  0.7977,  0.7849],\n",
       "        ...,\n",
       "        [-0.8216, -0.1132, -0.4442,  ..., -0.5272,  0.7926,  0.8943],\n",
       "        [-0.8641, -0.1310, -0.4554,  ..., -0.4449,  0.8024,  0.7701],\n",
       "        [-0.8631, -0.2308, -0.4532,  ..., -0.4594,  0.7909,  0.8491]])"
      ]
     },
     "execution_count": 11,
     "metadata": {},
     "output_type": "execute_result"
    }
   ],
   "source": [
    "photos_matrix_file = os.path.join('data','nyc','photos','processed','ResNet')\n",
    "photos_matrix = torch.load(photos_matrix_file)\n",
    "photos_matrix"
   ]
  },
  {
   "cell_type": "code",
   "execution_count": 12,
   "id": "9c0ee47c",
   "metadata": {},
   "outputs": [
    {
     "data": {
      "text/plain": [
       "torch.Tensor"
      ]
     },
     "execution_count": 12,
     "metadata": {},
     "output_type": "execute_result"
    }
   ],
   "source": [
    "type(photos_matrix)"
   ]
  },
  {
   "cell_type": "code",
   "execution_count": 13,
   "id": "e9e97ccc",
   "metadata": {},
   "outputs": [
    {
     "data": {
      "text/plain": [
       "array([13800, 25319, 35435, ..., 45894, 29141, 50295])"
      ]
     },
     "execution_count": 13,
     "metadata": {},
     "output_type": "execute_result"
    }
   ],
   "source": [
    "photos_ids_encoded = np.array([ node_mapping[i] for i in photos_ids])\n",
    "photos_ids_encoded"
   ]
  },
  {
   "cell_type": "code",
   "execution_count": 14,
   "id": "48f5fd9c",
   "metadata": {},
   "outputs": [],
   "source": [
    "encoded_sortidx = np.argsort(photos_ids_encoded)"
   ]
  },
  {
   "cell_type": "code",
   "execution_count": 15,
   "id": "f3675100",
   "metadata": {},
   "outputs": [
    {
     "data": {
      "text/plain": [
       "tensor([[-0.9107, -0.1331, -0.4878,  ..., -0.5632,  0.7573,  0.8421],\n",
       "        [-0.8568, -0.0942, -0.5094,  ..., -0.4246,  0.8656,  0.6877],\n",
       "        [-0.8932, -0.0838, -0.4080,  ..., -0.5061,  0.6144,  0.8275],\n",
       "        ...,\n",
       "        [-0.8782, -0.1524, -0.4010,  ..., -0.4682,  0.8618,  0.8630],\n",
       "        [-0.9220, -0.1029, -0.4641,  ..., -0.4840,  0.7681,  0.8684],\n",
       "        [-0.8535, -0.1804, -0.5038,  ..., -0.4351,  0.7124,  0.8955]])"
      ]
     },
     "execution_count": 15,
     "metadata": {},
     "output_type": "execute_result"
    }
   ],
   "source": [
    "encoded_photos_matrix = photos_matrix[encoded_sortidx]\n",
    "encoded_photos_matrix"
   ]
  },
  {
   "cell_type": "code",
   "execution_count": 97,
   "id": "87eeced2",
   "metadata": {},
   "outputs": [
    {
     "data": {
      "text/plain": [
       "torch.Size([55760, 1000])"
      ]
     },
     "execution_count": 97,
     "metadata": {},
     "output_type": "execute_result"
    }
   ],
   "source": [
    "encoded_photos_matrix.shape"
   ]
  },
  {
   "cell_type": "code",
   "execution_count": 98,
   "id": "92709f85",
   "metadata": {},
   "outputs": [],
   "source": [
    "node_list = encoded_photos_matrix # this is temporary\n",
    "feature_size = node_list.shape[-1]\n",
    "\n",
    "edge_list = torch.tensor(np.array([\n",
    "    np.array(source_encoded),\n",
    "    np.array(destin_encoded)\n",
    "]))\n",
    "\n",
    "data = Data(x=node_list, edge_index=edge_list)"
   ]
  },
  {
   "cell_type": "code",
   "execution_count": 99,
   "id": "ac0527e8",
   "metadata": {},
   "outputs": [
    {
     "data": {
      "text/plain": [
       "1000"
      ]
     },
     "execution_count": 99,
     "metadata": {},
     "output_type": "execute_result"
    }
   ],
   "source": [
    "data.num_features"
   ]
  },
  {
   "cell_type": "code",
   "execution_count": 100,
   "id": "c1c84a73",
   "metadata": {},
   "outputs": [
    {
     "data": {
      "text/plain": [
       "55760"
      ]
     },
     "execution_count": 100,
     "metadata": {},
     "output_type": "execute_result"
    }
   ],
   "source": [
    "data.num_nodes"
   ]
  },
  {
   "cell_type": "code",
   "execution_count": 101,
   "id": "12b3a61c",
   "metadata": {},
   "outputs": [
    {
     "data": {
      "text/plain": [
       "115604"
      ]
     },
     "execution_count": 101,
     "metadata": {},
     "output_type": "execute_result"
    }
   ],
   "source": [
    "data.num_edges"
   ]
  },
  {
   "cell_type": "code",
   "execution_count": 102,
   "id": "6d1b2f53",
   "metadata": {},
   "outputs": [
    {
     "data": {
      "text/plain": [
       "False"
      ]
     },
     "execution_count": 102,
     "metadata": {},
     "output_type": "execute_result"
    }
   ],
   "source": [
    "data.has_isolated_nodes()"
   ]
  },
  {
   "cell_type": "code",
   "execution_count": 103,
   "id": "e49d4435",
   "metadata": {},
   "outputs": [
    {
     "data": {
      "text/plain": [
       "False"
      ]
     },
     "execution_count": 103,
     "metadata": {},
     "output_type": "execute_result"
    }
   ],
   "source": [
    "data.has_self_loops()"
   ]
  },
  {
   "cell_type": "code",
   "execution_count": 104,
   "id": "7adaf26e",
   "metadata": {},
   "outputs": [
    {
     "data": {
      "text/plain": [
       "False"
      ]
     },
     "execution_count": 104,
     "metadata": {},
     "output_type": "execute_result"
    }
   ],
   "source": [
    "data.is_directed()"
   ]
  },
  {
   "cell_type": "code",
   "execution_count": 96,
   "id": "fbde92c9",
   "metadata": {},
   "outputs": [
    {
     "data": {
      "text/html": [
       "<div>\n",
       "<style scoped>\n",
       "    .dataframe tbody tr th:only-of-type {\n",
       "        vertical-align: middle;\n",
       "    }\n",
       "\n",
       "    .dataframe tbody tr th {\n",
       "        vertical-align: top;\n",
       "    }\n",
       "\n",
       "    .dataframe thead th {\n",
       "        text-align: right;\n",
       "    }\n",
       "</style>\n",
       "<table border=\"1\" class=\"dataframe\">\n",
       "  <thead>\n",
       "    <tr style=\"text-align: right;\">\n",
       "      <th></th>\n",
       "      <th>id</th>\n",
       "      <th>bbl</th>\n",
       "      <th>bin</th>\n",
       "      <th>daily_electric</th>\n",
       "      <th>daily_gas</th>\n",
       "      <th>heightroof</th>\n",
       "      <th>cnstrct_yr</th>\n",
       "      <th>groundelev</th>\n",
       "      <th>month</th>\n",
       "      <th>year</th>\n",
       "      <th>month_days</th>\n",
       "      <th>TMAX</th>\n",
       "      <th>TMIN</th>\n",
       "      <th>PRCP</th>\n",
       "      <th>floorarea</th>\n",
       "      <th>streetview_panos</th>\n",
       "    </tr>\n",
       "  </thead>\n",
       "  <tbody>\n",
       "    <tr>\n",
       "      <th>0</th>\n",
       "      <td>6894297</td>\n",
       "      <td>1007640007</td>\n",
       "      <td>1013712</td>\n",
       "      <td>2721.474194</td>\n",
       "      <td>8238.145161</td>\n",
       "      <td>73.151163</td>\n",
       "      <td>1930</td>\n",
       "      <td>22</td>\n",
       "      <td>1</td>\n",
       "      <td>2020</td>\n",
       "      <td>31</td>\n",
       "      <td>7.354839</td>\n",
       "      <td>0.629032</td>\n",
       "      <td>1.583871</td>\n",
       "      <td>26869.289838</td>\n",
       "      <td>[X1V_iEFj-eWEtnGyZEhSTA, FVQx_XsqPlaH0lViJ7qln...</td>\n",
       "    </tr>\n",
       "    <tr>\n",
       "      <th>1</th>\n",
       "      <td>6894297</td>\n",
       "      <td>1007640007</td>\n",
       "      <td>1013712</td>\n",
       "      <td>2704.079310</td>\n",
       "      <td>8239.224138</td>\n",
       "      <td>73.151163</td>\n",
       "      <td>1930</td>\n",
       "      <td>22</td>\n",
       "      <td>2</td>\n",
       "      <td>2020</td>\n",
       "      <td>29</td>\n",
       "      <td>8.055172</td>\n",
       "      <td>1.017241</td>\n",
       "      <td>2.231034</td>\n",
       "      <td>26869.289838</td>\n",
       "      <td>[X1V_iEFj-eWEtnGyZEhSTA, FVQx_XsqPlaH0lViJ7qln...</td>\n",
       "    </tr>\n",
       "    <tr>\n",
       "      <th>2</th>\n",
       "      <td>6894297</td>\n",
       "      <td>1007640007</td>\n",
       "      <td>1013712</td>\n",
       "      <td>2791.329032</td>\n",
       "      <td>7056.619355</td>\n",
       "      <td>73.151163</td>\n",
       "      <td>1930</td>\n",
       "      <td>22</td>\n",
       "      <td>3</td>\n",
       "      <td>2020</td>\n",
       "      <td>31</td>\n",
       "      <td>12.841935</td>\n",
       "      <td>4.922581</td>\n",
       "      <td>3.100000</td>\n",
       "      <td>26869.289838</td>\n",
       "      <td>[X1V_iEFj-eWEtnGyZEhSTA, FVQx_XsqPlaH0lViJ7qln...</td>\n",
       "    </tr>\n",
       "    <tr>\n",
       "      <th>3</th>\n",
       "      <td>6894297</td>\n",
       "      <td>1007640007</td>\n",
       "      <td>1013712</td>\n",
       "      <td>2828.940000</td>\n",
       "      <td>4662.300000</td>\n",
       "      <td>73.151163</td>\n",
       "      <td>1930</td>\n",
       "      <td>22</td>\n",
       "      <td>4</td>\n",
       "      <td>2020</td>\n",
       "      <td>30</td>\n",
       "      <td>14.273333</td>\n",
       "      <td>6.103333</td>\n",
       "      <td>3.806667</td>\n",
       "      <td>26869.289838</td>\n",
       "      <td>[X1V_iEFj-eWEtnGyZEhSTA, FVQx_XsqPlaH0lViJ7qln...</td>\n",
       "    </tr>\n",
       "    <tr>\n",
       "      <th>4</th>\n",
       "      <td>6894297</td>\n",
       "      <td>1007640007</td>\n",
       "      <td>1013712</td>\n",
       "      <td>2517.912903</td>\n",
       "      <td>2591.158065</td>\n",
       "      <td>73.151163</td>\n",
       "      <td>1930</td>\n",
       "      <td>22</td>\n",
       "      <td>5</td>\n",
       "      <td>2020</td>\n",
       "      <td>31</td>\n",
       "      <td>20.661290</td>\n",
       "      <td>10.770968</td>\n",
       "      <td>1.354839</td>\n",
       "      <td>26869.289838</td>\n",
       "      <td>[X1V_iEFj-eWEtnGyZEhSTA, FVQx_XsqPlaH0lViJ7qln...</td>\n",
       "    </tr>\n",
       "    <tr>\n",
       "      <th>...</th>\n",
       "      <td>...</td>\n",
       "      <td>...</td>\n",
       "      <td>...</td>\n",
       "      <td>...</td>\n",
       "      <td>...</td>\n",
       "      <td>...</td>\n",
       "      <td>...</td>\n",
       "      <td>...</td>\n",
       "      <td>...</td>\n",
       "      <td>...</td>\n",
       "      <td>...</td>\n",
       "      <td>...</td>\n",
       "      <td>...</td>\n",
       "      <td>...</td>\n",
       "      <td>...</td>\n",
       "      <td>...</td>\n",
       "    </tr>\n",
       "    <tr>\n",
       "      <th>112264</th>\n",
       "      <td>2817653</td>\n",
       "      <td>3065870017</td>\n",
       "      <td>3133770</td>\n",
       "      <td>3472.206452</td>\n",
       "      <td>4832.258065</td>\n",
       "      <td>67.180000</td>\n",
       "      <td>1941</td>\n",
       "      <td>29</td>\n",
       "      <td>8</td>\n",
       "      <td>2020</td>\n",
       "      <td>31</td>\n",
       "      <td>28.367742</td>\n",
       "      <td>20.806452</td>\n",
       "      <td>2.309677</td>\n",
       "      <td>1817.389245</td>\n",
       "      <td>[]</td>\n",
       "    </tr>\n",
       "    <tr>\n",
       "      <th>112265</th>\n",
       "      <td>2817653</td>\n",
       "      <td>3065870017</td>\n",
       "      <td>3133770</td>\n",
       "      <td>2456.166667</td>\n",
       "      <td>6290.000000</td>\n",
       "      <td>67.180000</td>\n",
       "      <td>1941</td>\n",
       "      <td>29</td>\n",
       "      <td>9</td>\n",
       "      <td>2020</td>\n",
       "      <td>30</td>\n",
       "      <td>24.360000</td>\n",
       "      <td>16.050000</td>\n",
       "      <td>2.420000</td>\n",
       "      <td>1817.389245</td>\n",
       "      <td>[]</td>\n",
       "    </tr>\n",
       "    <tr>\n",
       "      <th>112266</th>\n",
       "      <td>2817653</td>\n",
       "      <td>3065870017</td>\n",
       "      <td>3133770</td>\n",
       "      <td>1827.170968</td>\n",
       "      <td>11645.161290</td>\n",
       "      <td>67.180000</td>\n",
       "      <td>1941</td>\n",
       "      <td>29</td>\n",
       "      <td>10</td>\n",
       "      <td>2020</td>\n",
       "      <td>31</td>\n",
       "      <td>18.261290</td>\n",
       "      <td>10.832258</td>\n",
       "      <td>4.080645</td>\n",
       "      <td>1817.389245</td>\n",
       "      <td>[]</td>\n",
       "    </tr>\n",
       "    <tr>\n",
       "      <th>112267</th>\n",
       "      <td>2817653</td>\n",
       "      <td>3065870017</td>\n",
       "      <td>3133770</td>\n",
       "      <td>1852.463333</td>\n",
       "      <td>22630.000000</td>\n",
       "      <td>67.180000</td>\n",
       "      <td>1941</td>\n",
       "      <td>29</td>\n",
       "      <td>11</td>\n",
       "      <td>2020</td>\n",
       "      <td>30</td>\n",
       "      <td>15.200000</td>\n",
       "      <td>5.790000</td>\n",
       "      <td>3.933333</td>\n",
       "      <td>1817.389245</td>\n",
       "      <td>[]</td>\n",
       "    </tr>\n",
       "    <tr>\n",
       "      <th>112268</th>\n",
       "      <td>2817653</td>\n",
       "      <td>3065870017</td>\n",
       "      <td>3133770</td>\n",
       "      <td>1760.045161</td>\n",
       "      <td>31316.129032</td>\n",
       "      <td>67.180000</td>\n",
       "      <td>1941</td>\n",
       "      <td>29</td>\n",
       "      <td>12</td>\n",
       "      <td>2020</td>\n",
       "      <td>31</td>\n",
       "      <td>7.041935</td>\n",
       "      <td>0.177419</td>\n",
       "      <td>2.896774</td>\n",
       "      <td>1817.389245</td>\n",
       "      <td>[]</td>\n",
       "    </tr>\n",
       "  </tbody>\n",
       "</table>\n",
       "<p>112269 rows × 16 columns</p>\n",
       "</div>"
      ],
      "text/plain": [
       "             id         bbl      bin  daily_electric     daily_gas  \\\n",
       "0       6894297  1007640007  1013712     2721.474194   8238.145161   \n",
       "1       6894297  1007640007  1013712     2704.079310   8239.224138   \n",
       "2       6894297  1007640007  1013712     2791.329032   7056.619355   \n",
       "3       6894297  1007640007  1013712     2828.940000   4662.300000   \n",
       "4       6894297  1007640007  1013712     2517.912903   2591.158065   \n",
       "...         ...         ...      ...             ...           ...   \n",
       "112264  2817653  3065870017  3133770     3472.206452   4832.258065   \n",
       "112265  2817653  3065870017  3133770     2456.166667   6290.000000   \n",
       "112266  2817653  3065870017  3133770     1827.170968  11645.161290   \n",
       "112267  2817653  3065870017  3133770     1852.463333  22630.000000   \n",
       "112268  2817653  3065870017  3133770     1760.045161  31316.129032   \n",
       "\n",
       "        heightroof  cnstrct_yr  groundelev  month  year  month_days  \\\n",
       "0        73.151163        1930          22      1  2020          31   \n",
       "1        73.151163        1930          22      2  2020          29   \n",
       "2        73.151163        1930          22      3  2020          31   \n",
       "3        73.151163        1930          22      4  2020          30   \n",
       "4        73.151163        1930          22      5  2020          31   \n",
       "...            ...         ...         ...    ...   ...         ...   \n",
       "112264   67.180000        1941          29      8  2020          31   \n",
       "112265   67.180000        1941          29      9  2020          30   \n",
       "112266   67.180000        1941          29     10  2020          31   \n",
       "112267   67.180000        1941          29     11  2020          30   \n",
       "112268   67.180000        1941          29     12  2020          31   \n",
       "\n",
       "             TMAX       TMIN      PRCP     floorarea  \\\n",
       "0        7.354839   0.629032  1.583871  26869.289838   \n",
       "1        8.055172   1.017241  2.231034  26869.289838   \n",
       "2       12.841935   4.922581  3.100000  26869.289838   \n",
       "3       14.273333   6.103333  3.806667  26869.289838   \n",
       "4       20.661290  10.770968  1.354839  26869.289838   \n",
       "...           ...        ...       ...           ...   \n",
       "112264  28.367742  20.806452  2.309677   1817.389245   \n",
       "112265  24.360000  16.050000  2.420000   1817.389245   \n",
       "112266  18.261290  10.832258  4.080645   1817.389245   \n",
       "112267  15.200000   5.790000  3.933333   1817.389245   \n",
       "112268   7.041935   0.177419  2.896774   1817.389245   \n",
       "\n",
       "                                         streetview_panos  \n",
       "0       [X1V_iEFj-eWEtnGyZEhSTA, FVQx_XsqPlaH0lViJ7qln...  \n",
       "1       [X1V_iEFj-eWEtnGyZEhSTA, FVQx_XsqPlaH0lViJ7qln...  \n",
       "2       [X1V_iEFj-eWEtnGyZEhSTA, FVQx_XsqPlaH0lViJ7qln...  \n",
       "3       [X1V_iEFj-eWEtnGyZEhSTA, FVQx_XsqPlaH0lViJ7qln...  \n",
       "4       [X1V_iEFj-eWEtnGyZEhSTA, FVQx_XsqPlaH0lViJ7qln...  \n",
       "...                                                   ...  \n",
       "112264                                                 []  \n",
       "112265                                                 []  \n",
       "112266                                                 []  \n",
       "112267                                                 []  \n",
       "112268                                                 []  \n",
       "\n",
       "[112269 rows x 16 columns]"
      ]
     },
     "execution_count": 96,
     "metadata": {},
     "output_type": "execute_result"
    }
   ],
   "source": [
    "building_info = pd.read_json(os.path.join('..','train.json'))\n",
    "building_info"
   ]
  },
  {
   "cell_type": "code",
   "execution_count": 27,
   "id": "4db6f906",
   "metadata": {},
   "outputs": [
    {
     "data": {
      "text/plain": [
       "{'vObwnlfcaL_HIexFPZA44w': 0,\n",
       " 'JJCoKvIHdfhoAHqNT41fIg': 1,\n",
       " 'TXQPP3FKPP6z8dyEAr46EA': 2,\n",
       " 'upDQiE-YgFVE8TQA64CI3A': 3,\n",
       " 'g4nKnSFs-a5Ra5qZuqj6jA': 4,\n",
       " 'pG1yM113IfURjghonkxXqQ': 5,\n",
       " 'DYMJtCo4SavL8jamHE00hw': 6,\n",
       " 'sLMbGwwtg-bZFMVeJLaxFg': 7,\n",
       " 'ww02AvOxAWTm1hWSCEgDFQ': 8,\n",
       " '-L3SZAalq7amDITQ8tlNGw': 9,\n",
       " 'xnM6e33M6HBt512Ch46mqg': 10,\n",
       " 'ZFPNXtcV9oQt_8pWnRQW8A': 11,\n",
       " 'RD5tGLURYtJqSejNPnuylQ': 12,\n",
       " 'K0hCgzGCdLOnATt93LdMEg': 13,\n",
       " 'HAJ0I06-4YtRxXOZ1X20IQ': 14,\n",
       " 'ZfDL_ZTQByfSKACYl5-Lyw': 15,\n",
       " 'dX_mrNY6WalEWBt2--hxzw': 16,\n",
       " 'cMpO8X-J8uxgjyoVDtthBg': 17,\n",
       " 'ANctp2zmBYG-pDbAwX_lDg': 18,\n",
       " 'D2dwgbxpX57Qn6zZXf9FRA': 19,\n",
       " 'YwUC7_njlhQxVowyE7wFHQ': 20,\n",
       " 'Ggubsf2wayxFNzLp3Bav0g': 21,\n",
       " 'AxOrvTqFIuyopOeRGOvv5w': 22,\n",
       " 'w22rO8SVOMGz4HpsSB74ug': 23,\n",
       " '1Ty8rqHoUlJIpR3KrtHw6Q': 24,\n",
       " 'lxAzk3uDwldpEwPey_klig': 25,\n",
       " 'yEKF1l4i5f4w7Kv93zCvaQ': 26,\n",
       " '1Lktcz8s6i1FUzLCU0y-bA': 27,\n",
       " 'eHjU990aBjLWpQiPjE1N2Q': 28,\n",
       " 'EK8FRDRmCs5rmaBt88AsTw': 29,\n",
       " 'Qi388ToIwLq4QdSJ51U8Cg': 30,\n",
       " 'IpRnYVbxQR7ZAIFM8n_gyg': 31,\n",
       " 'Q4WmXwNi5yFvcq2fVd50bA': 32,\n",
       " 'xN5Jx-71gQu32NY3Ro0MGA': 33,\n",
       " 'GbBbNMiRcsYsRZaRcNzkLg': 34,\n",
       " 'PA9rRf6lksIOiCpn3_C8tA': 35,\n",
       " 'RgRzvHZsdW2t-N_47iPC8g': 36,\n",
       " 'Oe9zt1YaCeO-5exoze5wAA': 37,\n",
       " '9m-Y3BCtZzG79jORHXDfHg': 38,\n",
       " '094DPH3-iveq1q667dny1g': 39,\n",
       " 'gtipH-lcjmhbtUm1UikBLQ': 40,\n",
       " 'xEzY7Usk5dbK3Faw6aFsjw': 41,\n",
       " 'Y1uAu64STccybVqyuJkIYw': 42,\n",
       " '9E_SJ06yA-MoCwal2nbd8w': 43,\n",
       " 'R_bEPlhk43msuq3d9Q0Mqg': 44,\n",
       " 'xHL5xtfDrMF8R5BVNiwTdA': 45,\n",
       " 'uGIXTj8u_wvo_mbF5iZxvQ': 46,\n",
       " 'zF-fttW-AVTDDAL4rqQwFw': 47,\n",
       " 'AMc8HRmOGDe_dFO8pihlpw': 48,\n",
       " 'CH3X641prggsZFIG2QyXGw': 49,\n",
       " 'SWyYpdq7-tQFdBfOGrlGLQ': 50,\n",
       " 'OrUpuF27-AyknuPvV7rbpQ': 51,\n",
       " 'wZPUe6QihXzYNshktbtW3Q': 52,\n",
       " 'evYYAqRHY5W2X4BUSTtprQ': 53,\n",
       " '7HH1HgkMYlEwx6WLDjzrBg': 54,\n",
       " 'A0UP3pgmEhju_SpTt3sp-Q': 55,\n",
       " 'b1xuy8o5qARt4zMz941rKg': 56,\n",
       " 'GEyrzXc6jEFOTHJtETZLBQ': 57,\n",
       " 'Os7iM91Jgxx5SurlZPlzvQ': 58,\n",
       " 'NYPIczKvQivJVAB-1N4QDw': 59,\n",
       " 'fz0D3bRLi2kSUWiVmsTy5w': 60,\n",
       " '4OMyUMnO-lgKQoy9-n3iIg': 61,\n",
       " 'OnN3uPuTgu3UbSTReWk7cQ': 62,\n",
       " '17wMN8Upli0lOrYTbcHnYg': 63,\n",
       " 'eu24m65P8PS2IMEvcF-BWA': 64,\n",
       " 'uaxJbkcmw5lvNAH57FYEHA': 65,\n",
       " 'xURafxF7FSILIvGnNzmQFA': 66,\n",
       " 'HPSwH39Fb7clmHNSojpxlA': 67,\n",
       " 'HrOrDDekEf8zK5yKytEtkQ': 68,\n",
       " 'WOkw9m_m4lJJkdw22D9pZQ': 69,\n",
       " 'GnW6n2fqRYD9hw34KrOTPg': 70,\n",
       " 'a8BWoZdmhJcpEXJc7DkiIQ': 71,\n",
       " 'erg57cXmlzJnpQQb5wN2pg': 72,\n",
       " '_Ou5bgtGIbOUMiKwPTVU2A': 73,\n",
       " 'rmJ8t1dwoUcc3gRtbaq-8Q': 74,\n",
       " 'o4wsnbqKkRNE-SnNrpQPGA': 75,\n",
       " '2XVOpwKaR1B3gWdMf49lHQ': 76,\n",
       " 'PlHlQR7izXfuY9ZDpNDe_g': 77,\n",
       " 'OvJDU4AjltxEEVXg2HrFfA': 78,\n",
       " 'WKsjZiKekOE7zrVJAgpX3Q': 79,\n",
       " 'apaomdMsxGhYLKYkAIEZ7Q': 80,\n",
       " 'f4P2VRP2sUkRec9U_Uq7ng': 81,\n",
       " 'bhBcg7V-MGTyrFAbZrdqUg': 82,\n",
       " 'qHTsQhRazjBp1MZz7nFlVA': 83,\n",
       " 'nOfIQGWIO3L8eS-bCJ_qmw': 84,\n",
       " 'SRz1x7_kPzFJG7S3lnQXwQ': 85,\n",
       " 'qFasZFhmGU5ufeeDC14Ovg': 86,\n",
       " 'Xqdr8Z-7IVF82bMpaWvGEA': 87,\n",
       " 'ENMzyo45Qx7rrOmAjjD8MQ': 88,\n",
       " 'UG4qObT2lmqu1OQjbc1IEA': 89,\n",
       " 'x2sdGKOwwsramu3i3BMq9w': 90,\n",
       " 'gP8cLF984OQnz0nd0GHmDQ': 91,\n",
       " 'zQof6BcvgwniEfkgodrPkw': 92,\n",
       " '2Rw-dR3RpLjabakvGG3oOg': 93,\n",
       " 'OEmnobpUJrMuvMAfOwWTtA': 94,\n",
       " '4BY_APH5uRxesDgmbp4Kqw': 95,\n",
       " 'F2e-dJtNnHtO49toPLW9iQ': 96,\n",
       " 'YOGKz5lf0t-LyrKT5xWpfQ': 97,\n",
       " 'dpdvxWkM3lfvv5baQlHDZg': 98,\n",
       " 'IkiSYpzjDCZIhHQ6jrsy1g': 99,\n",
       " 'tBEQga4EPcZ9ViOCycWb5A': 100,\n",
       " '1SZ5i_x5deRt-VPIaXQ1PA': 101,\n",
       " '-UazbUOUHgYpLYY73FgDAQ': 102,\n",
       " 'xIglRUzJmW7DqfnQcp_GDA': 103,\n",
       " 'EpK-szAmNYLb_9t2ctP84w': 104,\n",
       " 'bXR9v8-Vbs3IYhC0NyQMeg': 105,\n",
       " 'yoFEDf4J6UxZnQmG8WyCeQ': 106,\n",
       " 'HIxGC9w1lA5tCoAeUxxx5w': 107,\n",
       " '2cmnV_cyI_B5Q3Vo_sxckw': 108,\n",
       " '1D2o-MKIyZssfjYvSI_XXA': 109,\n",
       " 'iDkGlKILElm4Yxj1vTXQNg': 110,\n",
       " 'bF4fSXfyaR7e1D62mpNdiw': 111,\n",
       " 'y_AcubzPmj28hGmBBwghaw': 112,\n",
       " 'D7BmTOWs_0A5uRnGpcJE6Q': 113,\n",
       " 'AzL34Q0bPf3ebJtplSJv_Q': 114,\n",
       " 'lz9WlVs6pJ-Q4jA54xszTA': 115,\n",
       " 'i9OMVvdGith9KgcPi4Y9aw': 116,\n",
       " 'jLC9xxq2ZjTAY5n7dD3xqQ': 117,\n",
       " 'yw84yJm5cFL8XlOq86Wuyg': 118,\n",
       " 'RnqhD0ElqrnOj-j0x_sI4g': 119,\n",
       " 'JBGOc3iusvLPY_u18Jjnqg': 120,\n",
       " 'UwHAyXXzimLT9Mo4xnCX5Q': 121,\n",
       " 'KhcE8gOsNteO37SKrLtkBw': 122,\n",
       " 'vO9dU98YKYp8Y26q-GO1cw': 123,\n",
       " '6DEFfF8YhEH4qJlLYZ9mpA': 124,\n",
       " 'TROVo2dSD2pRZuA3CfGEWA': 125,\n",
       " 'DI80jMslOn3mXI7w5xdcRw': 126,\n",
       " 'XdbKTgjf8rLMnM7y5nt-eg': 127,\n",
       " 'JKTRrpPZp9am9MnRLDW5Ng': 128,\n",
       " 'eg3wqL0RLhYaTz5VX9a_8g': 129,\n",
       " 'ED8Gn1pKzbSrdSDwyEXQww': 130,\n",
       " 'zlVajGd2FIJQ5DLA9hgg1A': 131,\n",
       " '5OlOns1I22GwnD99gfqO0w': 132,\n",
       " 'QBxHZgaqiUrQxyLtMAfCBw': 133,\n",
       " '0Af8noyVPnbyo5eXDqaG5g': 134,\n",
       " '7Ii0tspi6kquibFea82Yag': 135,\n",
       " 'dghu2c2nJ9Opwz6_XQycHw': 136,\n",
       " 'g8j-yyaJDQEd9IyyXoSR9Q': 137,\n",
       " 't8sV1E5COOYIgy1JNlkbVA': 138,\n",
       " 'siRicp8jNAi2FhgUiyQ8AQ': 139,\n",
       " 'JLV0R7HkLhbFiZICi2D_1A': 140,\n",
       " 'veFNcH1aJB_XDEfgaVXa3A': 141,\n",
       " 'xd9xXcRMtT5MdoOEvv0bPA': 142,\n",
       " 'GoZBquVNSj4UeLrOI1MlMA': 143,\n",
       " 'AF0ylFTCdhXSvJ4Bw_lRZg': 144,\n",
       " 'G9bOGHskXAPdwEeVeNpiUw': 145,\n",
       " 'o_dTl3c0iT3mcF01yFxodg': 146,\n",
       " 'CbWKHVtmQxg88OqSPs34pw': 147,\n",
       " 'qfqlygIl7BJxwEdyWoRmAg': 148,\n",
       " 'ABYyAAc26lkBSNmT90opBw': 149,\n",
       " 'x78IpCJlo2ZYHywgWFTkJw': 150,\n",
       " 'uWTc31vpXXB5--3Y7h6jcA': 151,\n",
       " 'xg8WgcmWO7qaksd3MdIGcQ': 152,\n",
       " 'HBdTDf-8eC0sGRSd5qycsQ': 153,\n",
       " '-mZWyG6x6Ipx0R6mzbnrhQ': 154,\n",
       " 'fpcstCzTegPS1rYvM2QQ2w': 155,\n",
       " '5nFdxnZpBm_1RDNZrTaZqw': 156,\n",
       " 'uGb_iq6lXkvkl0xGFhqk4Q': 157,\n",
       " 'jDHv1jovf4w05R_5KNVfXg': 158,\n",
       " 'SSawLWAgwjQJ9nBetwKe8A': 159,\n",
       " 'F8fCTSO4s9WvxrAtMwvT4A': 160,\n",
       " '998siNWzHOc7eaXgpKDTgw': 161,\n",
       " 'J7GSlmHVop-w9EPLaThtgQ': 162,\n",
       " 'NS9JuYbhkxC4NGPll9D6AA': 163,\n",
       " 'l6iEs6cFb8R5CkFET0cH1w': 164,\n",
       " 'KdCJiy-oyqqc7NPt3KWJmg': 165,\n",
       " 'GExUq2_UCF3TLlQWUkAXXA': 166,\n",
       " 'F1whTrY2rTyskR9s_gDNAA': 167,\n",
       " 'jQLYmThXywOOI8TYLqUMrw': 168,\n",
       " 'PcPW5dGJyuf3VsKKIXhtKg': 169,\n",
       " 'gmeiZpS_lxEeWi7Dp-tB4g': 170,\n",
       " 'CUHrZz3Ozx4UP32znyQDHA': 171,\n",
       " '6a3frx5lhyo2U6cfRQouRQ': 172,\n",
       " '91uvOlVWHhDAtIpqFNA7CQ': 173,\n",
       " 'SLc-I8JxeDIM5wgCdb8MuQ': 174,\n",
       " 'NXevAMn_bPRonntQjHIlog': 175,\n",
       " 'tE-3bP6qkaNDf0gQp5Hl-g': 176,\n",
       " '5UPgr5ogN43WWtJ9In5g1A': 177,\n",
       " 'E-Naxdh7tSIOm0rctmqLBg': 178,\n",
       " 'AH6_CNqFnEXXwnczFvgYiw': 179,\n",
       " 'yG3yqygL7SNsuSv8OfI7NA': 180,\n",
       " 'GCncRzdwsCQZCRaGHDE4lA': 181,\n",
       " 'BTFHPM21nmx1Thm9bI7kuw': 182,\n",
       " 'Yx-NgbFkXhLpwz_x1dNmPg': 183,\n",
       " 'xcorzf_KlUh72_t94CeR2A': 184,\n",
       " 'LS-BBoJQhbpu32M9lhdxwQ': 185,\n",
       " 'WVGjTWiZ9erlWZNnAekIQQ': 186,\n",
       " 'H5Ae5urDlEYgZ-pfEEelJA': 187,\n",
       " 'L-rhRM3KC1lUy-9ZTqCKuQ': 188,\n",
       " 'Saq4-1cs-n9DEQ6duiLLnw': 189,\n",
       " 's1TC-PjjYRN0PPzKR9gPkQ': 190,\n",
       " '8ePLlKo4HH4EwnBtfcXVTQ': 191,\n",
       " 'HG4xQVHfIjqrKMuKqHchVw': 192,\n",
       " 'uN2d3Kd1Iu5UKGveHHSH1g': 193,\n",
       " 'GGktNBvLkeo6cgxXoeBwpQ': 194,\n",
       " 'n3R8BWpqWmvfVZZ_Zxkmdg': 195,\n",
       " 'z4SWhEdLiGVlcNjji7Tsow': 196,\n",
       " 'GTN2MH6pSzs72V0ETITrcw': 197,\n",
       " 'nYc3A2gsvyn57Vvc7gOIgA': 198,\n",
       " 'xql7UwMf8dME8BQsDr8SeA': 199,\n",
       " 'lNq6GQc5pv9AfYaALeWF3g': 200,\n",
       " 'dXX0OqK8pYtZqLsfR_7bMw': 201,\n",
       " 'gNJLWYbf8FvI8a6goKidLA': 202,\n",
       " 'V2c3Dw5Jftsbd-uuAGC1ug': 203,\n",
       " 'fjH_dVbU4hB4lx247CQCgQ': 204,\n",
       " 'XckZ6EOaN12YKniYqgEhgQ': 205,\n",
       " 'HGivmG0ixZKStxLqY7wYpw': 206,\n",
       " 'vRNvQEhQj63-mj7qAygH5w': 207,\n",
       " 'caRasI1BZjWf7M9TL-0FPQ': 208,\n",
       " 'qkr5bgfb5krhzr8sqF315Q': 209,\n",
       " '6b3xqQjwY9_MNLZpWGcEXw': 210,\n",
       " 'YdkCEy0ZBNcE2PtZ7mYzog': 211,\n",
       " 'i-y6O7kQ0J0DsVwDrX0TxQ': 212,\n",
       " 'O0B1bQ-gklWMuVEZkN435Q': 213,\n",
       " 'KPdfJI3bJuCv3u8EohFvyw': 214,\n",
       " 'ForoiVJS1U3ajFFPVj2pNQ': 215,\n",
       " 'uRyngtw-pvwX-y0mCERMVQ': 216,\n",
       " '1GTyt_4qVznbNpwQG9ygeA': 217,\n",
       " 'RDbaq-ovAke2K8Jz0rYP8g': 218,\n",
       " 'yO2t6hXRHCruZoPb92rVkw': 219,\n",
       " 'd3-XionpDpn6UlDbc0rLyg': 220,\n",
       " 'jTzpr_5SP-xxeOyo6wLGmg': 221,\n",
       " 'V2c5A55CP2lFWoJH9TlM7g': 222,\n",
       " '-mBZasmvjCOPhpAYZBHGEw': 223,\n",
       " 'r35f3Nw77k9pfQexmNNl1w': 224,\n",
       " 'e3rFQ23jKI42WXD81RueiA': 225,\n",
       " '5tV5p7dL-MniSjNbMCz1kA': 226,\n",
       " 'liHFYDXVAAIjbuSnYCUVlQ': 227,\n",
       " 'NNad3kYTOUCwy2EwqsSqkg': 228,\n",
       " 'zI38Sl_m7YQHytjoQQqFFA': 229,\n",
       " 'pxFCkJBbfTPZVxJ3Xk3rIg': 230,\n",
       " 'ZWqJzLTP-IX8v-6vKTikBQ': 231,\n",
       " '6S7vAhaJ-546w4KMGNvwJQ': 232,\n",
       " '46qxdfJUmhYMkZuh1L_GHw': 233,\n",
       " 'set6HexHGtmXkPACcKtmTw': 234,\n",
       " 'kS8j2If94Sy-f9fS4ImliQ': 235,\n",
       " 'UbYH8lYU28pkAF5q4CiEFQ': 236,\n",
       " 'LKUanuowZ8HF801dwtrGCg': 237,\n",
       " 'ijkLKRABksonSdD8RZYrCw': 238,\n",
       " 'JamcciPkGIXdtnH2XksuLQ': 239,\n",
       " 'tnMM3fz4UkIK25Q7xyMaxw': 240,\n",
       " 'V5NPrSVfnWYmCPW8pRgz7g': 241,\n",
       " '9kl9oyY_BePhV4qerppHzA': 242,\n",
       " 'AQDiyh_1TN08SecQKiNm8A': 243,\n",
       " 'VW8eB1WNDuCjKSiDw26j8Q': 244,\n",
       " 'ePgokD-SEJsKP0zAHOSmTg': 245,\n",
       " 'LtPsOQW0IiWh7uHdEWEqEQ': 246,\n",
       " 'MBJaRvnVshICguvXu0YEfA': 247,\n",
       " 'dUGnG-KgbJJXdG8cn0SFjQ': 248,\n",
       " '4hdJ09BA2CqQxyfh2o8bLw': 249,\n",
       " 'VMHTlqK5TsrUSDNsWqVFDQ': 250,\n",
       " 'm5YEKPLDyyBdgeJwf2o9Dg': 251,\n",
       " 'JAekwlX3dzHZKmJxlAhSZw': 252,\n",
       " 'RoQjgpx18pz9g0VqpOBdNQ': 253,\n",
       " 'FTP5V6GkfC0VciRr1JJoRA': 254,\n",
       " 'UtaX8vrBfwKf23GSTWgMcw': 255,\n",
       " 'UFBHbHr-iDBAAy1zdJ1mKQ': 256,\n",
       " '2uEpiK1ZH_LKYpSbNJ3Ryg': 257,\n",
       " '6C-YZY_AB61SMTqrdDB54A': 258,\n",
       " 'X3FfbDNb1nvTSssDo4lLcw': 259,\n",
       " '60J7ugxg-AB1wZYWE3dboA': 260,\n",
       " 'tOrWMHvAZWYBay9BwJ-I4Q': 261,\n",
       " 'cmJKqRJ_Geu4R74ZV-rzJA': 262,\n",
       " 'GzJGfj4JfYOizuucDKHYvw': 263,\n",
       " 'R2Xi3EpHt10hoKFD4QUxeg': 264,\n",
       " 'F1fO1MkONpdJpHYCWiax4A': 265,\n",
       " 'hLS4AjE5JLguBeKScj1vmw': 266,\n",
       " 'JBf5EEwmd3aFY602ImJZ3Q': 267,\n",
       " 'Yf2OFZtAJyqEqQexpYjFtQ': 268,\n",
       " 'gXbVla8N0LrO3kGBdVSsGw': 269,\n",
       " 'J6ovS8PdMdJv1CoePDmq1Q': 270,\n",
       " 'NeBdtt4wdsq2k9rlRzXC6A': 271,\n",
       " 'SXswxeg_i_25GXeU3XsHhw': 272,\n",
       " 'WCeNiCCwXEcWxClTHjldJA': 273,\n",
       " 'wBjkgNkXhR-gzzOCCnbqzg': 274,\n",
       " 'c1hrgi-1_JFbyqnrsGkYrQ': 275,\n",
       " 'yIewAmAn5X5QAlEXFjq2KQ': 276,\n",
       " 'ci21TUXZohJ3LFLji1_dqw': 277,\n",
       " 'uTaF7i0cyKtnHR2WMSbrvw': 278,\n",
       " 'cu6tEpAcI2YMJOttF6oHpQ': 279,\n",
       " '4eYaYmMq-F9N27xOExHkfg': 280,\n",
       " 'Wb2yeq4dBhhazBHjqitwIg': 281,\n",
       " 'tVqS91j37n3A_YwTesgR5A': 282,\n",
       " 'X6u1_S2a9PGvKLbLCit1Nw': 283,\n",
       " 'I7BEYXxoUFEI2LIzD4vm9Q': 284,\n",
       " 'UdBaIteW50MnddL_iAl14A': 285,\n",
       " 'yr8btsiIn-sU40l8IcvMdw': 286,\n",
       " 'VW4AVghYSkEP3NesUJrogg': 287,\n",
       " 'Me_jx1yq7tJzq3-DP_JIEQ': 288,\n",
       " '_lIOj7e2CY0_pVchTuQcmg': 289,\n",
       " '2QXzIn98R1Lbo9RP0Jr82w': 290,\n",
       " 'yqIkXfW2qCFkj-CAelO5gA': 291,\n",
       " 'ELO0F8q3Rt0wXwU6N0qNKA': 292,\n",
       " 'a2MGRGwWGjA9W8dL4FaQ5A': 293,\n",
       " 'E4SE9X8-FnnlN0lzaZPXLQ': 294,\n",
       " 'VYhDhBNwtcHWsFYCPCOP6w': 295,\n",
       " 'f8QxnJpJUWNDwGAJRz6K3A': 296,\n",
       " '4ZCiLGCzuZEhmg_wqQ5sAQ': 297,\n",
       " 'slDa9pTX8b6JHG4zA-plog': 298,\n",
       " 'poZWvnQYFTmMJB_mfkHCcg': 299,\n",
       " 'qRkwgfQtzzLVme6okb28wA': 300,\n",
       " 'e0mTTDRqG_iT_-YGShK9cg': 301,\n",
       " 'vE9Pta46pArwJ8X50u47Zg': 302,\n",
       " 'JbASkgWgV7WvFrdCMuH6mQ': 303,\n",
       " 'ZsmkBR2NP10kDUVtIW-i1w': 304,\n",
       " 'kDTSAzXrMkwwxi53fTBfgQ': 305,\n",
       " 'MH2HYmXiqmyIRhejHvD1GA': 306,\n",
       " 'FJ40x1239I54ozv-Tvw_pQ': 307,\n",
       " 'pQ149AwGhbodUZB85dzQkA': 308,\n",
       " 'Zachw_jZvWEHrKpY1LnfXg': 309,\n",
       " 'G6bZAHj402sleVVl-bJ2Ww': 310,\n",
       " 'Df35yfODnTKtvnIQdGpW5Q': 311,\n",
       " '2HkLLett9cw2MVHxsXpZtQ': 312,\n",
       " 'gfzqN03tkEuubf41BdEr5Q': 313,\n",
       " 'U5oKCFu5P6Iwt3t-XTYRqA': 314,\n",
       " 'hrdJq5dHhej-ekRYpTzgXA': 315,\n",
       " '33Ze0sGXxktTXeYW94mVwA': 316,\n",
       " '3c34qiLGc3g-8c1odR_MBg': 317,\n",
       " 'PJiIoEPpWKGmehlxV2G2EQ': 318,\n",
       " 'uvpwFO-KGnMZrrlZ39M0gw': 319,\n",
       " '68fnsrzGAH6T2-7hwS4_Sw': 320,\n",
       " '44hFJR9VfSgwCRe6pLjkoQ': 321,\n",
       " 'tOKpKM1l_7X2CEy5ZZyDVA': 322,\n",
       " 'BAz_tj8qK6N_PvVmOBc44w': 323,\n",
       " 'yufWIvxKOBZOZn--IsVZow': 324,\n",
       " 'zXbuT-lagGLLT6D6qvZ3Nw': 325,\n",
       " 'krInD5yVJswMBl5qm0JftA': 326,\n",
       " 'J_cWNG3pOHGipV4fwNRKnw': 327,\n",
       " 'Vw_s1vww3C3G9vmfGBEX8w': 328,\n",
       " 'QVphXJgI5RR2fwGLut568w': 329,\n",
       " 'MwqwgzhrdPQJmm5H9vYFdw': 330,\n",
       " '1ClZ9TkDqleuW5F55mt1nw': 331,\n",
       " 'cBwTHOFTEbYeElsSjrlNyg': 332,\n",
       " 'NhZWiwweFjYK6F59vl_KhQ': 333,\n",
       " 'fVZq9QMJXsf4YGSJZlh6Lg': 334,\n",
       " 'jhhLmNKK0E4ZhiWuF_AJpQ': 335,\n",
       " 'K9X3vuLb7DiElwEtgkBt6A': 336,\n",
       " 'IZtombErrVmjw2BKZ5JJRA': 337,\n",
       " 'fUEWjearijvxEdPijoBtZA': 338,\n",
       " 'Ux9id5zWHjHuAHaNzfQDDw': 339,\n",
       " 'vsSKngmMyfH5uA3110fu1w': 340,\n",
       " 'AG7Y2b-Eo8pUg3UD5VgaOg': 341,\n",
       " 'IxQVkQ7mKz8R4ybf7KxhGQ': 342,\n",
       " '_WGSnQUYQ5FF2Hqkj9qm7g': 343,\n",
       " 'T3K6Kqbc0vArpsbPshOM6g': 344,\n",
       " 'zzmF9ott1nkgeH_GBaaaqg': 345,\n",
       " 'PC9tKEA0JxFY1sKtcK5qtQ': 346,\n",
       " 'W93ep1TPSQousWMV1v3tFw': 347,\n",
       " '-Ejmn-pz6L8e0Kbf39b7KQ': 348,\n",
       " '5VA5Az7HzF2XdjXqjH2Gaw': 349,\n",
       " '8GQ9BlXPgvpui_Wo85Ca7w': 350,\n",
       " '_vjA1h-DkTqAsiG4_OuUdQ': 351,\n",
       " 'WqJC3cWgwRQ62qBztXCZKw': 352,\n",
       " '9qvgaU57i-y8Uliw_Hbf-Q': 353,\n",
       " 'LdSN0cmF4CHn5hdqGeDqeg': 354,\n",
       " 'AgXZlcRaW2vAjIcMvwkXlA': 355,\n",
       " 'ilhp-K76SekH-jVlx2EhdQ': 356,\n",
       " 'kuT0_wE2AaPB9XMFT5UDDw': 357,\n",
       " 'xJ1jLguujGXVejadUzSZHw': 358,\n",
       " 'Zh9_1mA4crw7AgIQLtrX7Q': 359,\n",
       " 'P1fMiop12y98vYy3RV_qGw': 360,\n",
       " 'WEiXek0HMB8pgBgKNJsY3A': 361,\n",
       " 'DJLDO-LumIQgmLhjkITXkQ': 362,\n",
       " '1NvbkNF8k7UNSk6dSZgC9g': 363,\n",
       " '2fLM2LbvB44uCSIlMfuvlg': 364,\n",
       " 'UQ8Ou_kmAgbTa29G1Z5rZw': 365,\n",
       " 'MoEnXhqyCQpXk2HPpPgIqg': 366,\n",
       " 'ytMRAmFOlq7HQvVoVQe4sw': 367,\n",
       " 'w_nsedaCgDvFGX5TT6kcnA': 368,\n",
       " 'lOwxQXr0gM0bWUzqg2c2FQ': 369,\n",
       " 'xSiLdRCRSBVk0jgSojQXGA': 370,\n",
       " 'mxhZUMg23DXVve_xyO_AwA': 371,\n",
       " 'eBh3qv__zV-I9gMeyeh9rQ': 372,\n",
       " '2eYX0MOAEkoqk0QwOnabkw': 373,\n",
       " 'wBD8v1LoG-1RQYmtEFn8iQ': 374,\n",
       " 'lKBJt-9hAR6JyvnSY6PYJA': 375,\n",
       " 's9wpYISgGROJ4cd0wQ4nWw': 376,\n",
       " 'rKb1L8i4VnCHuAahrK9zOg': 377,\n",
       " 'zuVmexrg9EZ7Sx-hr5mZQA': 378,\n",
       " 'gvdTHUbGGD1ljtS4qlMUAQ': 379,\n",
       " 'CqHObZHLD-6aBuRNiOuyTw': 380,\n",
       " '7P6b47Rn5r0r3_h-gT9S9Q': 381,\n",
       " 'nNFl8ZdHP-lM3i323RqRVw': 382,\n",
       " 'TbEbCGjDQqPRKbKgeVJLlw': 383,\n",
       " 'hycreM_mneKrPHQSNSHi4w': 384,\n",
       " 'VKtEVXKx9UnZs_M2NZ7dEw': 385,\n",
       " 'VilZCAIVmZQA_2d4kmBdNw': 386,\n",
       " '6jjqLYJvYi8_qsTpfsSefA': 387,\n",
       " 'J_q07zFGAwyYEUU0WkYShw': 388,\n",
       " 'DBMVYCPRAJAcK7KQi51CdA': 389,\n",
       " 'lSfoDWc1czhGWSXgO6UJ1Q': 390,\n",
       " 'pQcqlLAPlxww5mcXuVxH8Q': 391,\n",
       " 'Ka2zlYn4m4SFZQm8bjVYZQ': 392,\n",
       " 'Vm6xSMXr1Hr4Zy67m1pyIg': 393,\n",
       " 'PYOhKMzQRTkSV7qRC3Lr0A': 394,\n",
       " '3LYmVz-NMJ_hI8zhFZ5PMw': 395,\n",
       " 'WrqhuNsQmfOO23UNUL4LkQ': 396,\n",
       " 'f7XLkJd9dbETUK3ME6RXjA': 397,\n",
       " 'E9eFgnMn2rV23Bldab9GnQ': 398,\n",
       " 'e_YLRTHQiBqWb9Uco6UP-w': 399,\n",
       " 'mfgVJMYbDjPagT9PTk0oDg': 400,\n",
       " 'kaddO-0kT2f80Jl1MhWiLg': 401,\n",
       " 'FMufZMBWQdyIgn9WIcER-Q': 402,\n",
       " 'uBkcC_2Xgcl3wBFJKjXdUA': 403,\n",
       " 'gtgCigcb048fdxJhxvuFJA': 404,\n",
       " 'vr5xUUNhpNrbTrDDj5d86w': 405,\n",
       " 'gELlkRRQQByZCNenerEBkw': 406,\n",
       " 'PuKGzApMqtee5rV-5oGr4g': 407,\n",
       " 'CUX1fs-1nM-KThDzkaVx0w': 408,\n",
       " 'XBv9vHtu3DgnE3A-b4uLIg': 409,\n",
       " '8_XvEycK6o375_qKl3Lppw': 410,\n",
       " 'Bx7T5HAg3Rlw2G5L7ZTU2g': 411,\n",
       " 'KWgU4TcLKSUb6kTuUY2-3Q': 412,\n",
       " '8USqWpzS6ScsteoiODE8-A': 413,\n",
       " 'cijfWTPwwQhhfhFiiUpmPA': 414,\n",
       " 'ys2oneEiW-3t-tl8AcjWSw': 415,\n",
       " '0ID1TUY6Z45P5X7xXu0YVg': 416,\n",
       " 'KgCn4vcRg14lZofDovQdZA': 417,\n",
       " 'TChjX7VOsJwEKVR4h8rEMA': 418,\n",
       " 'DjQsJf3gAPY11zrdfkCu1g': 419,\n",
       " '8dQFU26TtdZN-FEHAU3btQ': 420,\n",
       " 'TbsQSH3BTPCUm46u_QBtmA': 421,\n",
       " '47cOYvH5dX0xv4m1yLtDtw': 422,\n",
       " 'KHdRi8363wm04nnUBdLijg': 423,\n",
       " 'uRsc9VM8OTBN7vql3Jn5LA': 424,\n",
       " 'ULlML2_mqaVmdLklrWqplA': 425,\n",
       " 'wkjZgpvnbhIxYAsFAaejkw': 426,\n",
       " '2gWBnzeDmXTTZP8_TtcF9w': 427,\n",
       " 'FHggP8p-9eqAy5nfBSoYKA': 428,\n",
       " 'TdXgZ90yaHXaamOSE0fcJw': 429,\n",
       " '7R0GhRKELTv-opclMiK6yg': 430,\n",
       " 'CnyohGhBQGof5Igxa43dhA': 431,\n",
       " 'dSVvr8IZ95li-OVD8rnP8w': 432,\n",
       " 'AavoV2GVRnLqSM6Ya0pg7A': 433,\n",
       " 'ADCOtWtTrZgZ7NDw-m648A': 434,\n",
       " 'YVZw9Ma06Y6x7R5WRoPCdw': 435,\n",
       " 'rx2EocWcqnmW_ygXVASONA': 436,\n",
       " 'brw8BlIiCLoUPsMNntYjUQ': 437,\n",
       " '3OnbOVQ_0ZXuXUbidxwfnw': 438,\n",
       " '9U-V9053vcXEdfsxiStA1g': 439,\n",
       " '4njaeOU3csuQqHp4lB70Kw': 440,\n",
       " 'wpKKiz4YaJiy3im9aPi3xg': 441,\n",
       " 'RD8pO2IPQTZ6uH_-gsTWzw': 442,\n",
       " 'Vb3j-dFUiTntsMkFcPpVVA': 443,\n",
       " 'ooUNHtacn6H9ueiNBrYEvQ': 444,\n",
       " 'N-9yQptbmFSAcW9GhdFDIA': 445,\n",
       " 'hCdCpckLgFljttQMkjdZOw': 446,\n",
       " 'oNxReXeR4P49f7rnPFx1NA': 447,\n",
       " 'EBhNSLO-8zYkQ7TpJVf7OQ': 448,\n",
       " 'UvAtgADlkQKK8NYDGfvDaw': 449,\n",
       " 'owoAT8R5hOJ1u3LxDtwkAQ': 450,\n",
       " 'mhsgQecxd0ZQE47YkTwqQg': 451,\n",
       " 'pELO9o5XmWx_MHR2ZVrsjw': 452,\n",
       " 'THxFSsf2ll-9g_cG1QlAfA': 453,\n",
       " '_bcfKW1u9PTvOcunIVVLZQ': 454,\n",
       " 'etgWiW06CWlrY6MuwDXbUg': 455,\n",
       " 'LeDuTsTOpXyUbpBMlNlt5A': 456,\n",
       " 'wn3QsWctR5qcTngNNGgggQ': 457,\n",
       " 'Qp70xubOxXea8QC1GW2McQ': 458,\n",
       " 'U7A2tbCkBOgeahYp-5Ry5A': 459,\n",
       " 'S3ON7mRnFphhV83rGio-iA': 460,\n",
       " '0NNQ4b5vZXbSTi_x-yhACg': 461,\n",
       " 'DqRP-2ROvszxKNhoJnXIdw': 462,\n",
       " 'wkpporSRI_xja8Vd6BR2nQ': 463,\n",
       " 'kxtYvkEohWJaYJIuBt_s4Q': 464,\n",
       " 'Wow8X5di9Cs8_5CUg_BOAA': 465,\n",
       " '9c48QJrYdejnUkuLRT5PVQ': 466,\n",
       " 'OyGvBnlCB1SjhKss54q4-g': 467,\n",
       " 'CeO8_ivnmhpXZL4JQeP3EA': 468,\n",
       " 'q7HZYCNKGIDi6wB7pEQrIg': 469,\n",
       " 'aTm7Zm_3SPLKX3TXUvaCqg': 470,\n",
       " 'xKar5Qli51DiYn-JMatpAQ': 471,\n",
       " 'eC7MCpHge0JBtrWH-FnHww': 472,\n",
       " '-YqquuF0NljaU4zITwwh6A': 473,\n",
       " 'cYz2oJNFcf7Qnk-i3n_R2w': 474,\n",
       " 'ox4ffBHgYdaR-W4ZOK57ug': 475,\n",
       " '5qgC5h0g6beSi1GUQBLTmQ': 476,\n",
       " 'pgvaI1SxKjy1jin_KoOPXA': 477,\n",
       " '-r1TayJ_VgEwlvkDDZ219A': 478,\n",
       " 'e4Moul8B-pAxaOSm3bsjvw': 479,\n",
       " '37fjewAXsd5z9vT5Fo1XUA': 480,\n",
       " 'zbOuJXTltOuYB3qQpQOi7g': 481,\n",
       " 'zGqVjEUqLNzjeBK2y5jNfw': 482,\n",
       " 's2EoFSoHsPBOsTCzOCOhZg': 483,\n",
       " 'uJHbanNzq7w8s-7UpVz9vQ': 484,\n",
       " 'n1A__HMsOiIkYbMXFp0Kjw': 485,\n",
       " 'FuBYCTubzaILCUC0prrmvQ': 486,\n",
       " 'QCPg9-h2jSezrxzBdBC5_g': 487,\n",
       " 'R6aufaLs7OOd73GufB6b1A': 488,\n",
       " 'fbwJg_B36w95IHmSk5NTHg': 489,\n",
       " '6qsNKlv8n-NGuyYzI0M-5A': 490,\n",
       " 'EfY9GCYdPuYxCp81Yq4VeQ': 491,\n",
       " 'W6ZOGFbyhgoQksYmSn-Qig': 492,\n",
       " 'CZff5n5aJGeir3UbeTCKqA': 493,\n",
       " '3ANF3zXQacB_9Tfq1cMpUQ': 494,\n",
       " 'zsSla6VXRSgYlP_tXdsD-w': 495,\n",
       " 'UBiUfaQ17w5Bo2QEJsuRxQ': 496,\n",
       " 'VuNuVVZip266RqfXG4r0pg': 497,\n",
       " 'LLEYmecD9BR91GU7zneiJw': 498,\n",
       " '1mDemYWE4kFTY9B2pNuK_w': 499,\n",
       " 'JsXM31S-_g0uXKKLvf6oGQ': 500,\n",
       " 'b9B706tqJwWwNE9E-xQukA': 501,\n",
       " 'Zbqo-G_T-i5LFQZasvSMPw': 502,\n",
       " '1H2Vd1XCMFp0eM_mKxmAPQ': 503,\n",
       " '_hmJjUz-Rv7Ih9VKFAtMww': 504,\n",
       " 'ui5KR7ifztNXpsIAZV-oAA': 505,\n",
       " 'uBYSay9ml2J8McFOZaS9JQ': 506,\n",
       " 'IB7OR-vDN36GXbrlgKLr0w': 507,\n",
       " 'TiklXuMw6GTR3_DY0aY17g': 508,\n",
       " 'WCv1J-ODFRByUm24Zf40CA': 509,\n",
       " 'JWrel83hxE961Db94ewlIA': 510,\n",
       " 'eYPqex0Z3byrCjLhpd90Qg': 511,\n",
       " 'PteE4ch__5pd2b6zAK9HbA': 512,\n",
       " 'kwkAVfvzfpov-uPGek3tuQ': 513,\n",
       " 'R7-eb6lZQze06KKF6neWKA': 514,\n",
       " 'jc0ii32tIbIA3qTS-vrr3g': 515,\n",
       " '95t6XZxZD88iIksZMLX49A': 516,\n",
       " 'v7fkKiebUWWKw3jtGKp1Yg': 517,\n",
       " '4p9dAJiLK8R13z-OA9RIIA': 518,\n",
       " '6Z5XOJtzptXWPcFojEdumA': 519,\n",
       " 'RHGm6XHXMInStHRZ_ZmjNg': 520,\n",
       " 'vTn783lleExI2Rr-kihm2w': 521,\n",
       " 'dFH7lKkTIUUTHyxP8tzitA': 522,\n",
       " 'ld3KOsvDqb10u38gig74xg': 523,\n",
       " 'qyPisasvQNo8FzOw6KWJxw': 524,\n",
       " 'AEKF_sc7ikyoj2sDr-ZBqw': 525,\n",
       " 'K_1L0DINkUx12o79rFaCyA': 526,\n",
       " 'G3UwuhllEHxHcWCpLxoklw': 527,\n",
       " 'ObF74hfcrerWYdyAt8_dxw': 528,\n",
       " 'TI_LHEH-9iv9vFkAi8SeAA': 529,\n",
       " 'wnhJ3GHvLUeONv7nvBurlA': 530,\n",
       " 'y5dHlIEmp60mGr6iWTD7Vg': 531,\n",
       " '_aKb3JovobYH32bps67alw': 532,\n",
       " '-j05-Ophq8zzwyuZYmQ0bA': 533,\n",
       " 'dINDhQVfoZVDOj6XbhNtYg': 534,\n",
       " 'wwDxBpJzVIPuWZmOd7Ovwg': 535,\n",
       " 'WbgTN8Ai78TEEdPWus7ilQ': 536,\n",
       " '42Di0ka_bon39HBmjSLKNw': 537,\n",
       " 'aisrRRAVkW0uEzht-36STw': 538,\n",
       " 'KdkxsHKMV12p1n3arVzIPg': 539,\n",
       " '0WH71lYeHgaFABwAaV7eJA': 540,\n",
       " 'kZj_CLu97gMNHJrRS4av-g': 541,\n",
       " 'NPNbV1377B3WbmPQSr5k2A': 542,\n",
       " 'dPosZWh_GrESjjtbtnpfNw': 543,\n",
       " 'b2uP5fHYI6tVg-5nCS3p4Q': 544,\n",
       " 'yu_CcNtPxt6TnHxeX2u5zQ': 545,\n",
       " 'BNpKGDFQTgdsm-PsO5Ppng': 546,\n",
       " '6hUGBiCbHbxF3qbtAktvcw': 547,\n",
       " 'P6pal5BnvruIBbQ8jpNaeQ': 548,\n",
       " 'wImATihK5mTW4tnCYywrPQ': 549,\n",
       " '9sqDSDwgu0_wJKbtPS25rQ': 550,\n",
       " '-mdNT4sJghy5SqZEuKrV8A': 551,\n",
       " 'Dp-j5xUuKVJKZR3dzECAbw': 552,\n",
       " 'r_BrFAJ8p_fXE_X_MdnVnw': 553,\n",
       " 'PW-CvJfZ15M5kGKIvJcrLg': 554,\n",
       " 'ufJy9Yfy6M4BJ3neQsJaTA': 555,\n",
       " 'WYW_hfzDj5A3j46AHC08wQ': 556,\n",
       " 'odenGTtqg23LuGGabKLDag': 557,\n",
       " 'uolQAPruiJOJ9HOLR2eGpA': 558,\n",
       " 'WH7IntSXBwReCepKxO0egQ': 559,\n",
       " 'hks1h3qSlGP4go3S6BQAEw': 560,\n",
       " '_0sqIM019MAzgOTMTJu0Tg': 561,\n",
       " 'RAgga6fCfnJSTXDATvQLXA': 562,\n",
       " 'D8Ff2oMQgoaHpawAtlqceg': 563,\n",
       " '3VhHbtxBYUjQdhcjGRmeZw': 564,\n",
       " '3H-YV2WwYVd9gNR1XoB8yg': 565,\n",
       " 'QHwT4K9WsvEuwHsGbg0aiw': 566,\n",
       " 'I2Ao_6mfbaazdgmSBsfcJg': 567,\n",
       " 'UprCWowT3nxmsYhk0yd8wQ': 568,\n",
       " 'hm2WW6lSlAOwPWgbad4vWg': 569,\n",
       " 'RrrJHiCOGElkBUaI_9s9Ig': 570,\n",
       " 'cMlFGHSTzDh6sKz4W7rskA': 571,\n",
       " 'v3ldCA7WFKLHT_veoo4cCw': 572,\n",
       " 'IPiyhT1ppeFmYZ_GNcneCA': 573,\n",
       " '4aLO4iTPxuMdq2fR5IN6QQ': 574,\n",
       " 'vp9Ji5ro8YmxY4sBhjEbyQ': 575,\n",
       " 'pc1UusXWoZ6sYh5xWDAFTQ': 576,\n",
       " 'LTXydPzP1rKsjheGFwhNFA': 577,\n",
       " 'UiAoaLZgNT4mFmcN-qQvIw': 578,\n",
       " 'HD-M5DL3auAdCf4J4djneg': 579,\n",
       " 'VZleckajBE-cIag9mTFAAw': 580,\n",
       " 'T6EoUjAs95A23jJFyzicOQ': 581,\n",
       " 'vl3DNlCsRknIbUDNcOqZKw': 582,\n",
       " 'rRmLivhSyHmGVB4G7WlgUw': 583,\n",
       " 'wY6ZvQBZwPigdmbtl9Oa-A': 584,\n",
       " 'ufkQFKYOE3PjGv4gdn3Caw': 585,\n",
       " 'pCotdM0NLLzU452-wEHMRA': 586,\n",
       " 'YjhLN_B_Gasx8ojwVEGQNw': 587,\n",
       " 'AjDyBWmuGMiUYEfdr4_BZA': 588,\n",
       " '7_m3BRh2wTKl4Do1-XxPUg': 589,\n",
       " 'pFmD-kPqXOIuL696zdljMg': 590,\n",
       " 'RauuZmWB3BkAWxMN0wa_1Q': 591,\n",
       " 'SQ2WB_0b-izJ9LKyk1uTTQ': 592,\n",
       " 'NBz3Xi5EXjGnafYCRjHpAg': 593,\n",
       " 'V_n4ObdfuR1Rd2eXWLUsag': 594,\n",
       " '32J90AmWZyx5CoC3D6YGPg': 595,\n",
       " '0m5y_aRTIv7SKcblRgbnqw': 596,\n",
       " 'Ww4D2Ua4uiUmBwcJsxCzOw': 597,\n",
       " '3ERPAAyHcKbM3C8wO8q4zQ': 598,\n",
       " 'GeZz8qFpirKIM5ydI8E3jA': 599,\n",
       " 'jRXJHUInkGpujaCsJMI7Ig': 600,\n",
       " 'vA8LYQpNMh8N2P1bg3u-Fw': 601,\n",
       " 'wa6tXveoSQ34izoSc7skTA': 602,\n",
       " '0xf7xnROatojPGOA01-KVA': 603,\n",
       " 'TEJuShIMeLXpskXd6IJhmw': 604,\n",
       " 'SaTsFTjF8YOAJLTzhP3IVA': 605,\n",
       " '0IBu1Pz3oSGTTORVIJAWpg': 606,\n",
       " '7wFQGKL9S_02Y_-9mM7wzA': 607,\n",
       " '2dJNAPtEOgMlV5gNixMwKw': 608,\n",
       " 'U8f7lTuR4Ija6wPoiQ9eLQ': 609,\n",
       " '55WFmmwgTldYDdDDLSNPfg': 610,\n",
       " '76r5ZzW8UfXvFDNczoXAbA': 611,\n",
       " 'KQQc2YMk60eDRT6vU3WH5g': 612,\n",
       " 'UUouak-prHGGFVLzk2th4g': 613,\n",
       " 'sHiREu8LFb4-9FuZ1r32NA': 614,\n",
       " 'hZ-BW8RFgO_c4GJGWjz0BQ': 615,\n",
       " '5sIgGhTtawWbhvq94PShKQ': 616,\n",
       " 'vO-P15lFmVQSvcUPkMMc4Q': 617,\n",
       " 'XCZ3hpyzRjzIL3fANMreWQ': 618,\n",
       " '2BbZS8csbFaRP7Cf03LnAA': 619,\n",
       " '1uPY4XfvBJR5jMDPxN7j0g': 620,\n",
       " '9FJhcGu5G6GcUHCqsFCL0A': 621,\n",
       " 'hwlGRZy7pFoYGRc-4GSEeQ': 622,\n",
       " 'O-korONo4sTbkWGBqheGww': 623,\n",
       " 'Wnjvs9jAQfUsvoeJRN0Ifg': 624,\n",
       " '28LQjNyy3Os9RVn-A8dCaA': 625,\n",
       " 'VgPIGrEHE8M2wTuz9oJbBQ': 626,\n",
       " 'Z61JezGr6Of6rYgSIEnVbQ': 627,\n",
       " 'j7FIwhmVm6IlCpYPG3xDwg': 628,\n",
       " 'Hl6XzfEBTEOJ32SbSCiF8g': 629,\n",
       " 'v8KDTDIt9MPtulgQA_sgNQ': 630,\n",
       " 'AsYc6Ye73ip-q93arNBz9g': 631,\n",
       " 'yRgYGXxBt0RdpFzrAeH1Jg': 632,\n",
       " 'e10srSgWZK36W1L933slpA': 633,\n",
       " 'aM_aWAmDUbM1pRfvHbiLLA': 634,\n",
       " 'i4azPmjspglZCLrGG60PyQ': 635,\n",
       " 'snsL9iMbnTJpspBtu03zEg': 636,\n",
       " 'KYREm7VHs44RkrwCYtuB5A': 637,\n",
       " 'STL6ZpohYpBkIRguUK8ZkA': 638,\n",
       " 'eoB5yP-hl0iw3rqD22Wvhw': 639,\n",
       " 'Src_p1fugW0xKrwtOzlNmQ': 640,\n",
       " '28NjebmDUfhjlZaHYCYxRg': 641,\n",
       " 'Y05h0LJIYNJsFPaC0Z79vg': 642,\n",
       " 'Lv8oZVeRUVHyH9b41kP3cA': 643,\n",
       " 'VNN6UJr7dPLrJwBTMT4-wQ': 644,\n",
       " 'iOCkCjqd2y1-DRRaUzfnGw': 645,\n",
       " 'THe3NhSaRufzof2rxQEX7A': 646,\n",
       " 'P16W_m1IGyJK6flr2jeSOQ': 647,\n",
       " 'XKt7KoQBxZKZhwCn2SrzYA': 648,\n",
       " 'akLPl3bSMEEHwPpirI1Itw': 649,\n",
       " 'njgkTS3QXOehJUU9oYUDBg': 650,\n",
       " '83MK2JgZzzraVbmR6tjrww': 651,\n",
       " 'G6zylA0D18BkF9EHktqj3Q': 652,\n",
       " 'y1ZOD1UxRHTL5imh_OwlqQ': 653,\n",
       " 'nj1Vzp6GUjW7lX8kL4XONw': 654,\n",
       " 'fYbYclKiXkSQFONKwSM6Zw': 655,\n",
       " '1BOq9H92RYRuHgpTQwUKjg': 656,\n",
       " 'zAm9u_65PQGnBttQpKk_gg': 657,\n",
       " '5vJ0LaJa87koVXQO9a_XsQ': 658,\n",
       " 'NMkdIsYsqL89gM0mawdCPw': 659,\n",
       " 'RSDi2mvgbNZXTYaRFsGsvw': 660,\n",
       " 'zMHPkGnAzbAxX9Nc8qxfhA': 661,\n",
       " 'juRIVE9WLRkWf748MMT5Ug': 662,\n",
       " '7nwygLADnWbJjIDIovT9UQ': 663,\n",
       " 'a6xQrwqUidrip0YsMKSkQA': 664,\n",
       " '0SW05BpE6XfEkHnkKw8pSg': 665,\n",
       " 'bQgbzELiFkqSPTv6OPVD0g': 666,\n",
       " 'nIMh7xere0ygnA5QKpqRqg': 667,\n",
       " 'wgfmeeQQVFtWvZZ22RV80g': 668,\n",
       " 'X1V_iEFj-eWEtnGyZEhSTA': 669,\n",
       " '6w_ymZqLAZoJcKw9jGY9zQ': 670,\n",
       " 'QCaurDbTfFqBTle1FPnvnQ': 671,\n",
       " 'bN7w7UQN341EcEhjZD011w': 672,\n",
       " 'IGEDdTkXY7CU_Bj5TA9d_g': 673,\n",
       " 'Mfup8y3US7ja6uMW4ASQnA': 674,\n",
       " 'sXqMu7Ld3wcF0w6nQQqoSQ': 675,\n",
       " 'YDOZ8hLU-5czVkqtpaHfnA': 676,\n",
       " '7pEAW_iIeaKHz1AN1dyz7Q': 677,\n",
       " 'CNQxMCCWOnXWAHhro9Lp1w': 678,\n",
       " 'javsIkOhcrQZh6CtcJOfxA': 679,\n",
       " 'vzXTWRJ_gLIDt79zP9ZDaQ': 680,\n",
       " 'KeTGnp9e4bLT9VusC183LQ': 681,\n",
       " 'c25APQpGa8tL_Zgy6sGLhQ': 682,\n",
       " '5QITrzsQ_KFxV3ivJ48iGg': 683,\n",
       " 'oGd6JQAsQa5Fs6jupK_aLA': 684,\n",
       " 'z0fqDzmm2hQOhwWFJz94Vw': 685,\n",
       " 'N9vzY-2cV_Ic7bmu6x5BYQ': 686,\n",
       " 'MGUqajHCfxDI0JItyvWrRQ': 687,\n",
       " 'D_XxtHSLz2ZLA9sKF4Si9Q': 688,\n",
       " '_x6hkzqHp_DxtsD3zccW0A': 689,\n",
       " 'WaTeTAb0wQICkzdYDJJhfg': 690,\n",
       " 'o7XojLqCk15PpsFhGCtvCA': 691,\n",
       " 'dGtbYWs1YDJSJ9SqW3Cdxw': 692,\n",
       " 'S5yqPGtSGaTkRYWtQDACrA': 693,\n",
       " 'ZdDMw8rkdCGP9-jD7Scpbw': 694,\n",
       " 'CYTf0ctrjNBWylSvTeVeaw': 695,\n",
       " 'myLCe68CUBCNjmhcu3QUjg': 696,\n",
       " 'chgclzxbsnMqu5_307KmoA': 697,\n",
       " 'tFnRfTRHZOKP7C9BMsLofA': 698,\n",
       " 'Tx3x849U94NpSELZFYORPw': 699,\n",
       " 'PKAXHs200wXJ_xSTWg_Q9g': 700,\n",
       " 'S7IieCRwXwl6FFV1_XiEGQ': 701,\n",
       " 'jQc9ZKfwlzU90HPP6taOWw': 702,\n",
       " 'nOqhpl5KivqTG3QZsxqS_w': 703,\n",
       " 'rTKKqqyDzAt7q9bYI-0dKA': 704,\n",
       " 'q2cUPAxVpixZ5qpfaHmePg': 705,\n",
       " 'J-iuhn8IoSJxH9S4APLIEw': 706,\n",
       " 'wW3RePPh7tmVVMb-SknHEw': 707,\n",
       " 'uza_DhRcMN8YbKAO3UVO4w': 708,\n",
       " 'xF9jT7CijX0XtdRmL0IW7w': 709,\n",
       " '8hjadDgB_qo9XbPex0y6vg': 710,\n",
       " '5dP9tgt59DpZkz9-Jqknzw': 711,\n",
       " 'hQr26JCto3A7aQ743WMXxA': 712,\n",
       " 'FPhBg9xkMon0lhmOywdhMw': 713,\n",
       " 'QqvIYMmC7PEGE6DBR3m8AQ': 714,\n",
       " 'g_TTCgCNgdf_EhIf_-BP4w': 715,\n",
       " '5nZjP6zICkkZU0aT6t1y9A': 716,\n",
       " 'I8fv9IZJUIsgj_H30f18Wg': 717,\n",
       " 'D5CmX263vKHMXEukmzkPNQ': 718,\n",
       " '7LmD3eCemhwVKmjYAb3MTw': 719,\n",
       " 'viCAp0Bgp7uIFasmX9AxLw': 720,\n",
       " 'JXkFQHw8y3kPxZqmNgZ8WA': 721,\n",
       " 'bEkraobUqaMEXlkAoi_nzA': 722,\n",
       " 'xw87_FaSZ7gpVUVzGq39uQ': 723,\n",
       " '44wPHDQ0BIbetuoqeooNyA': 724,\n",
       " 'bFyvPN9vCYmqzawfanJeQQ': 725,\n",
       " 'xjFupZuRou24l6F5kSr1yw': 726,\n",
       " 'iMkl30P3qKeqlmu-VgUh9A': 727,\n",
       " 'YIMAl574RvAK7Co8l9mSRA': 728,\n",
       " '2HQVKGb_j0RkjXPKK8YFSQ': 729,\n",
       " 'niLfIaPf-XP7p5HK9GO3BA': 730,\n",
       " 'eSzrfX6BdRCcaYKEfBBGtg': 731,\n",
       " 'bmCg9NK_2mx7FUFRcP5Ccg': 732,\n",
       " 'GosSD-BMZr5bpFJkJ6DiZQ': 733,\n",
       " 'UToM4nUtOTtgju2MWBwkXg': 734,\n",
       " 'NHF2RGyk0A63uaA9i066aA': 735,\n",
       " 'n9E_0ZxyZU0w2KjuAEJDkw': 736,\n",
       " 'izr2rKghSI2gZAbkUyUVSA': 737,\n",
       " 'LY-ORuUEIClZ1v6a-xiNKQ': 738,\n",
       " 'p1zgq4dtOhaCiLqhMGxjiA': 739,\n",
       " 'vw3SrCNjM4b-Yrv-QpZmMg': 740,\n",
       " 'nSszSeNpCmABtrQzFlQ2jw': 741,\n",
       " 'EYbHhvfA0gEtV1Cqw86b5w': 742,\n",
       " '7TiEM2FujTuo9oOjMH5EQw': 743,\n",
       " 'BRCz0pAq3Ezfsdrbykz7fQ': 744,\n",
       " 'dYqM-iczJy8V3stAFJ_w0Q': 745,\n",
       " 'bct5espvs23_x_Ph5D1Otg': 746,\n",
       " 'qOPex94ODSwprwqZdojKyA': 747,\n",
       " 'rqObS6eusM4S9ItogYkqNw': 748,\n",
       " 'u7m90S32onfRdkGcCKgJoQ': 749,\n",
       " 'CTl2m6slJUNUxSZ8OvglSw': 750,\n",
       " 'nqSzvHKg0sGHr7G8NwuNSg': 751,\n",
       " 'Abzw7sF4zgmvj3FEcrPH1w': 752,\n",
       " 'Wu4UE6rYMmIdSkPAfwniqg': 753,\n",
       " 'ductfcJXOh6330TwWnLINg': 754,\n",
       " 'MBw7NZZCZR_8QFeT8OU7EQ': 755,\n",
       " '90PxvRPOkdEZl7xifmjhgg': 756,\n",
       " '7nSHXi01_FGBzdLOlJHnNg': 757,\n",
       " 'P3Q1JisvP3C7Q0NtTa0GKQ': 758,\n",
       " 'xFhEkodOMDezfPpYBzUvsw': 759,\n",
       " 'MoHgnfWe-XGhx6bC9hZ6UA': 760,\n",
       " 'Pg29hrsn2eeql8N0JaEq_Q': 761,\n",
       " '0dn1hEb3W7rh7pLxbqWG8A': 762,\n",
       " 'fG5TOIblm7hxS-Ejk3svUg': 763,\n",
       " 'FVQx_XsqPlaH0lViJ7qlng': 764,\n",
       " 'AAV7sxOgQhybRkK0j0xBqg': 765,\n",
       " 'BtmdFi2vwV2MUeM2RpKBZg': 766,\n",
       " 'opSLm0r9P780CNg8Ozt2Ig': 767,\n",
       " 'QawqUOcB0oPHiE__1HwNng': 768,\n",
       " 'fSBrtXuHe9wJlnyKTvefcA': 769,\n",
       " 'wR9LCGuQa71KkQHYZXPDQw': 770,\n",
       " 'cOzkfhyLnZjNQBQB6DhIAg': 771,\n",
       " 'bqmdjYHUVCt2ysnlkGv-hg': 772,\n",
       " '5v0W0D7h77pFMVjE5sAlBA': 773,\n",
       " 'mbrZbpTqhMpxAzIDQ1rp9Q': 774,\n",
       " 'Pu4nCkD6ORFErLcCRmfjlQ': 775,\n",
       " 'kjsEcL0-JUo5OsiNZWZlqw': 776,\n",
       " 'k2LksNOx36YBD1dQ6su2XA': 777,\n",
       " 'BHzaO2SLPuzjBogOovLuKQ': 778,\n",
       " 'F5Z1GayTI_J0vkvYQMGV5A': 779,\n",
       " 'TfMs_aVL3BJ-Bqak968Ufw': 780,\n",
       " '0OujG3C3wW4HiCM6OYAW3Q': 781,\n",
       " 'sO2MdD0MUkbABSkNbfEcrQ': 782,\n",
       " 'b2Q7WJQuu5knj-9OMtli1A': 783,\n",
       " 'lP-ZR4WCWCIBBBgJvBTt6Q': 784,\n",
       " 'A8o9LTqzF9StXUhcEBQpRQ': 785,\n",
       " 'HXxE54XPObB4Rc6jDd_V3A': 786,\n",
       " 'MY2szJVDVGDm2KyG0NlbYA': 787,\n",
       " 'ILuX5739888A3M0DwHrtxA': 788,\n",
       " 'WvLXON1sqS0P5Y1IPsUzHA': 789,\n",
       " 'wG7KmG-zZYQgpBZHlUMxIQ': 790,\n",
       " 'nDRslTqD1whVkNy8HXT9Gw': 791,\n",
       " 'OiAfkZsyNTbZl0sJ87Qf2w': 792,\n",
       " 'G2rwr0WdRohKOCL1ZC-n7g': 793,\n",
       " 'D2mTZCyKBdX5RsF5oElvIA': 794,\n",
       " 'g4Pfvqled7M7_gPPhjVToQ': 795,\n",
       " 'Fzqp01wuTwSHmIh7ot0vmA': 796,\n",
       " 'vXDCWOE5le_Hr_cIP8L-lg': 797,\n",
       " 'lybXCUVl--CoSav5fnpOkw': 798,\n",
       " 'TP5-6P2iKxPjr5DpBf_lCA': 799,\n",
       " 'YSUeE2jKohmPB5D4mIkmNA': 800,\n",
       " 'FQjYwWFoGsHkW_5AdUR6vA': 801,\n",
       " 'SpXQVmls-ptFQZAUZADBqA': 802,\n",
       " 'mSYSwyVNSv2FZcw4J_Rngw': 803,\n",
       " 'n7aDYmV3nRTd_GF6_6aGzQ': 804,\n",
       " '1OVkPn4sVOardi5TYLzXOQ': 805,\n",
       " 'upjbkf-xCdgVvXDa9RZxfw': 806,\n",
       " 'Reel_Sc-b_ee4ZuibJGfUg': 807,\n",
       " 'OcwoaZ6Z48AEsMLfaVyeCg': 808,\n",
       " 'Y0VLjaz4-2MUBEOsek90Gg': 809,\n",
       " 'CwKHwitZ6IVPh7pj1ylALw': 810,\n",
       " 'HFvIBrbF3peXs7asUTKITQ': 811,\n",
       " 'aZ4L_MXpzdTDU-1Dm9gDFw': 812,\n",
       " 'FBh_6B1pDoDea7tLrN52ag': 813,\n",
       " 'Rhyba4xZ979mwRGwgNu-KQ': 814,\n",
       " 'Y3nLuKq8XBStu7eIaJXHsA': 815,\n",
       " 'LAbcyfKH15qXwWMdPS_oHQ': 816,\n",
       " 'hbJvqehEFMRp0be-Dk8PgQ': 817,\n",
       " 'YZGLK65k5bYPEwszBncDGw': 818,\n",
       " 'k9ZYnh7GLrdlK1xHsvAm2g': 819,\n",
       " 'STaeQk8arWPoGu5oYWdnWQ': 820,\n",
       " '7aNt7xagmGhqseGQHYBGyQ': 821,\n",
       " 'hVcPH39sAB9VaB3cUrnUFw': 822,\n",
       " 'XETBvcvgMGXy98zM0aUxIA': 823,\n",
       " 'FrcvwtwvRNTd7yz3z_T7tA': 824,\n",
       " 'kUtoPuQtaGf5V9thwIMxAA': 825,\n",
       " '42bFiumpo_ncZDf3DZy0bw': 826,\n",
       " 'hnzXQrTW6ppsf6fwspr7bA': 827,\n",
       " 'ynThUl7lEy4cUVM76h0Dtg': 828,\n",
       " 'XUKdZwOnJmMzrlYQvnmcWw': 829,\n",
       " 'gwOtP4F7rNBhNuYmGaWisQ': 830,\n",
       " '2xlZ0OfRITqPdb_73Ah_vg': 831,\n",
       " 'fZHC2obOf-rSXc25IyCw-w': 832,\n",
       " '5H3mR7v5DD8v1sP-gpk1KA': 833,\n",
       " 'njvm-KnKkzpO7PMQlalNSQ': 834,\n",
       " 'IbVI32W7g9T03WxoFOEBag': 835,\n",
       " 'WXhW0tCfpnC-7E--uRhTtA': 836,\n",
       " 'JrfYA0ZD5E-BTDUGC_w3Gw': 837,\n",
       " 'sOHwmA-sNJBSdwDEiq8w3Q': 838,\n",
       " 'us-a1Xux1e1ILjjSvyjF8Q': 839,\n",
       " 'ypEqG62RmikoNCDwKjz7zA': 840,\n",
       " 'W-tdfIq14pj2Z0ieoA44IA': 841,\n",
       " 'aRDT-KxjUMD_gaHEK0TgcQ': 842,\n",
       " 'ZpYHf0ry4jmB9541TGOYuw': 843,\n",
       " 'VOZGG-nVCIrkl5YUOSbpEQ': 844,\n",
       " 'CXfAFUMmNjTplPirdAe8zQ': 845,\n",
       " 'MdSLXiiEIcdQbDx9KybY9g': 846,\n",
       " 'LjVWwq7BoAhBWmpxY03Ncg': 847,\n",
       " 'wTmloogXuExG7szzNLp6Aw': 848,\n",
       " 'Aco758hmlZFHsK7kRPUdUA': 849,\n",
       " 'HRKazfB7OYo_tD_HmpgzWQ': 850,\n",
       " 'rGoRZYexSA0_AgwUOl1rAg': 851,\n",
       " 'vmV9swMTwWmnKzuOjuZSrg': 852,\n",
       " 'hTLAts9wR9wQIsrVYd1dLg': 853,\n",
       " '5fbA01aGAWc2pV5pwcvqJA': 854,\n",
       " 'E_4XYmqksaUe_hc3Y3J57g': 855,\n",
       " 'j77GICh55RZkTOYhr6El7Q': 856,\n",
       " 'NDGesyOtAhlOoiSBRfUvYA': 857,\n",
       " 'YRXs8D-Q9FgCSqt54lQGGA': 858,\n",
       " 'kAYIy_R8GGUOdsbZRfh-Eg': 859,\n",
       " '5bhBandAFl88BWWiIvzZJA': 860,\n",
       " 'AoEJpMAE2o9RbKEwgkPzaA': 861,\n",
       " '7fUKyS1OCKRC5Vtcqjo-4Q': 862,\n",
       " 'bETjxoe_HB91iDYVRJtZDg': 863,\n",
       " 'AG0jZo7y1LvDjiWn6JzBdQ': 864,\n",
       " 'L1MBRmMHUOhyHr9-Zarx_w': 865,\n",
       " '2XhdNnXBaElTt4AHdPaUQg': 866,\n",
       " 'EQMUmcOG4EkQmznQdhrY6w': 867,\n",
       " 'DxVjL3wIiDMWZdsn3nPsZg': 868,\n",
       " 'lhKPn33jzsE4UETq7sLn4g': 869,\n",
       " 'iExNZBa-FFZ258zp1uWz5w': 870,\n",
       " 'LTIJi_tAoWVw4eriB-8X9A': 871,\n",
       " '9hNUxajaIDMdJZnnWgrHPA': 872,\n",
       " 'EMVrgqKdRzrCheybGY5m1Q': 873,\n",
       " '78H3efscEGkxjhX5rlXaZA': 874,\n",
       " 'dbepNYeEUd0iKpzSpAhXzQ': 875,\n",
       " 'ofwaIPSkCj0uYBReb92NDQ': 876,\n",
       " 'bHYB5dex964ykgxqhdeiyQ': 877,\n",
       " '-TZTVE1jGJ1TifgQz31IFg': 878,\n",
       " '1rt1METISdeMcS7oISe-hA': 879,\n",
       " '80MEMh8tn62vD_jPylbVKA': 880,\n",
       " 'Aypid8S3TYJGECXD5leVnQ': 881,\n",
       " 'khIn7QB2-rBXl90tiiP8GQ': 882,\n",
       " 'MeUtN0YRPJecPbG7gRxqFw': 883,\n",
       " 'WsvCLzIHTgIjf4MTeaOY_w': 884,\n",
       " 'VYsKr6_2OEDtFvL0VfAWMw': 885,\n",
       " 'd_FTXIWYxaxF8RSKIompaw': 886,\n",
       " '7C8g_wlt_n6lyFWwVTK2zw': 887,\n",
       " 'ovODBzqzkAy0D3qOMbaLCQ': 888,\n",
       " 'zoL590qM93EFJwVSBuQD_g': 889,\n",
       " '6rfNHYRDklat50rM4Yi89g': 890,\n",
       " 'BUGj2QHP-W4j6CexWvthFw': 891,\n",
       " '57I6V-4aH3U88ARYCoI-5g': 892,\n",
       " 'MfRIxy_VPPoDBgvzRcfwWg': 893,\n",
       " 'w5Zj5TsBRcH_mzHWFDcM1Q': 894,\n",
       " 'ts_ls3NXJR8Ab2WEjckrBw': 895,\n",
       " 'JBYMJkXh6w4LjAAfELJJmQ': 896,\n",
       " 'dxkUcYpjn823NPtxxoLq7Q': 897,\n",
       " 'LqEmHX0E4PjrHWbPDIzjsg': 898,\n",
       " 'sgRkUY7feKeBw8vugkdOEA': 899,\n",
       " 'PDSprzE8PCR0-3OhlXvUzA': 900,\n",
       " 'OX8YkBWz8mbb90WZVZ8JDw': 901,\n",
       " '7mhdIQjw9UwFkDPxyOAMxQ': 902,\n",
       " 'xiFFiznnuv7opf5zEOgJiQ': 903,\n",
       " 'S2Z6y1-XsH_I8x-aE_2d4A': 904,\n",
       " 'OHvfH48Bi_tvSn9RXFJ2ZQ': 905,\n",
       " 'A17turaMAleGNSRY7deZpA': 906,\n",
       " 'tEWjmkO4yCdpfBwJ8jWIpA': 907,\n",
       " 'jFbTxNG1vgv5pofY_p_0kQ': 908,\n",
       " '3TVsYdXV0AAHNvVEqNC76g': 909,\n",
       " 'ZfGjXAzkHNk9IKJj-MOdqQ': 910,\n",
       " 'fApLgIm1JrPBdlx4--Hm8A': 911,\n",
       " 'BbrwKzWJVUjT_e5SQmLkmg': 912,\n",
       " 'wIaWRCKFLw80n5qebkiPBQ': 913,\n",
       " 'US9hdTscxbI4vD8cT7ow-g': 914,\n",
       " 'tA0I_5lYsr3hPQ_VAmcibA': 915,\n",
       " 'KGRB3B479o3AsHyafCHSmg': 916,\n",
       " '6V2VLobu_OFSE4AHbpJ8_A': 917,\n",
       " '0ZVdQDSvnb0K5bv4K5WuxQ': 918,\n",
       " 'RTuqAdElcLKJFimPiYoalA': 919,\n",
       " 'Qjru_t5P_QCt63BJ26akYQ': 920,\n",
       " 'KLAJUT6_CytnI5Gxp6nWsg': 921,\n",
       " 'ZlYyVJMy9lTwvT6DQYpGLg': 922,\n",
       " '_w1pryLSQ2BsqEXFennLqQ': 923,\n",
       " 'S4z7unZObE8PB54vUeY4rQ': 924,\n",
       " 'F89Fcb4CNHrT_fylO8pWRA': 925,\n",
       " 'YJw1T7i8JIkGfje-efJrrg': 926,\n",
       " '50Gg4bNmTVE9-vg7Ly_QcA': 927,\n",
       " 'UTrWJsRB_4JN8J5PM0PJrA': 928,\n",
       " '_-XR2b6FYFjf8updZhaIKw': 929,\n",
       " 'NtJ4PiQNJqqQSpEX_8TKUA': 930,\n",
       " 'PLd_18iaGuiIetEGFJ3YIQ': 931,\n",
       " 'Sa27E-J1PIufkyRicGnkkg': 932,\n",
       " 'RkqO7CRxPEggSSa8aMFCpQ': 933,\n",
       " 'po03vfmYAAM_YAJlRf84PA': 934,\n",
       " 'P1n40aweWvVRnJKrGczp2w': 935,\n",
       " 'rBR6Bn3aJIG3maHyVp77pw': 936,\n",
       " 'Klb53JsE2sD06LqwNDUJaA': 937,\n",
       " 'ZR06etOaeydClDXFY_8cwQ': 938,\n",
       " '3jOgnJ6WXH1P5TjsZCzw6A': 939,\n",
       " 'jVYNcmBWPmMRsNdj97wKIw': 940,\n",
       " 'Q4uSUdKFZzBK8gDwfUdtow': 941,\n",
       " '0rZaqC7rKhkQP5MHyS8YLQ': 942,\n",
       " 'Nh2tSuguT9chEdi9TFLXFw': 943,\n",
       " 'eiMMP97pzFRjlH_U2uSppQ': 944,\n",
       " 'BzKZfEBmBXYax_yN1wz57g': 945,\n",
       " '-4SXIth1iVfSjwhKnZv3_Q': 946,\n",
       " 'h5agNoGI9wmis4nodO0KGg': 947,\n",
       " 'fwbGyJTI4XbOrNI4zyaO6w': 948,\n",
       " '21WNN-BvKPB1K0BDCOg-Bg': 949,\n",
       " 'L2X5yZ4s6zwHwCzs8UmGxg': 950,\n",
       " 'OMWl5EHCba9wrY7Eip8tPQ': 951,\n",
       " '6Cidl_sbK3c2dxTfS8dAlQ': 952,\n",
       " 'Nsud7bZXawtYLOMliDm91g': 953,\n",
       " 'Rcur1BhHW2apB-n1M-YSXQ': 954,\n",
       " '1mOze1W1fctfBwoh9LnVow': 955,\n",
       " 'xQbq8YQQIH3EwXwh-mug2w': 956,\n",
       " 'cQuXGVRV_uFzj0jf7UJtHg': 957,\n",
       " 'DraM3513IuZ7PSO_e7C0uw': 958,\n",
       " 'ZB2h0FSHSHOPTgwCXv_DMg': 959,\n",
       " 'VUr31f_JAM24qEDVY9nyow': 960,\n",
       " 'm-8AlQljnFjzk5_o7NfsRQ': 961,\n",
       " '5fnYTJvXBigEdc12rYx3qQ': 962,\n",
       " 'WBv66V6n1gtYmmUINtVrRA': 963,\n",
       " 'UiFb-Y-aQU6aMZLKR0sPtg': 964,\n",
       " 'nzfY76po4sMP1_d5UPZfnw': 965,\n",
       " 'XUn5rWynci1BeHvjYsG0jA': 966,\n",
       " 'gSQTy3_J1LymWj3RisUITQ': 967,\n",
       " 'HhSa89wqwKatX565fQ6kdQ': 968,\n",
       " 'd0USfjUp8wSkq4GJBKpnng': 969,\n",
       " '1RGa0hap-u0TbJlSwnpOXw': 970,\n",
       " '6FnwmzQ7QC0qQJGuUix4uQ': 971,\n",
       " 'SJsazIexadI3oa7Pe9ZUPg': 972,\n",
       " 'qEhkq2wBYaDQG_LjR_XdUQ': 973,\n",
       " 'WG9j_8LIrHnhffEgkuvL6w': 974,\n",
       " 'SGj8lr5SkffK2BRwULBllA': 975,\n",
       " 'COcXCjMs0A88T5Fb1hzt2w': 976,\n",
       " 'F9xUKZz1eVFRHhFvX1QhTQ': 977,\n",
       " 'K-RyZCkXIIU-Pu99vieA3Q': 978,\n",
       " 'wMd_2z40h-FHnasINQMkSg': 979,\n",
       " 'EF_61mrrnUjqD_fpdv4asA': 980,\n",
       " 'IHPiK1EQBS7UXs_slRj-MQ': 981,\n",
       " 'aZCJbn41RSejJVdkYQBoUA': 982,\n",
       " 'aLHq3f84gmo9LHpGzSfT9g': 983,\n",
       " 'rsuVk097oNcFeckAtBE45A': 984,\n",
       " 'R7pZ2G0XXm0r6lwLwcq9hA': 985,\n",
       " 'gwh5gjIlVPB9sODgvVm3nw': 986,\n",
       " 'yk-0G82a8mGKK35PvpDa0w': 987,\n",
       " 'Cun_gMiv2LbpJ6jbrQriVQ': 988,\n",
       " 'KJm0isrPEIXEmwIlEKjcdA': 989,\n",
       " 'Bz7_N7fhBl8Dl-kldnKnfQ': 990,\n",
       " 'cX09ODt6eeEeWXFtb8WdKQ': 991,\n",
       " 'CprtNoXf4MZk34xaT7DSpg': 992,\n",
       " 'HYbYPvcki0eLKI_Nn_Hj3Q': 993,\n",
       " '9xqNz0OZraUqojHaK4-bbA': 994,\n",
       " 'WOAwrcWLpzZoVWGet2sH_g': 995,\n",
       " 'stNWkz7zKEBGoAeIn5yE_Q': 996,\n",
       " '4Ep8BpVZxmWEFe22A_Slzw': 997,\n",
       " 'g2ALtxYUrK4vx9GhZZkCMg': 998,\n",
       " 'NTSnVhfcHpHi-NuwVai02g': 999,\n",
       " ...}"
      ]
     },
     "execution_count": 27,
     "metadata": {},
     "output_type": "execute_result"
    }
   ],
   "source": [
    "node_mapping"
   ]
  },
  {
   "cell_type": "code",
   "execution_count": 105,
   "id": "0484ee37",
   "metadata": {},
   "outputs": [
    {
     "data": {
      "image/png": "[encoded data removed]",
      "text/plain": [
       "<Figure size 432x288 with 1 Axes>"
      ]
     },
     "metadata": {},
     "output_type": "display_data"
    }
   ],
   "source": [
    "# getting a sample to test\n",
    "sample_subgraph_nodes = building_info['streetview_panos'][1]\n",
    "\n",
    "# mapping to subgraph encodings\n",
    "sample_subgraph_encoding = torch.tensor([ node_mapping[i] for i in sample_subgraph_nodes ])\n",
    "data_subgraph = data.subgraph(sample_subgraph_encoding)\n",
    "\n",
    "# for visualization\n",
    "g = pyg.utils.to_networkx(data_subgraph, to_undirected=True)\n",
    "nx.draw(g)"
   ]
  },
  {
   "cell_type": "code",
   "execution_count": 106,
   "id": "a3bd4306",
   "metadata": {},
   "outputs": [
    {
     "data": {
      "text/plain": [
       "tensor([  669,   764,   848,  1087,  2069,  2869,  3354,  3534,  3564,  3917,\n",
       "         3920,  4867,  5673,  5785,  5918,  7094,  7552,  7625,  9646, 12496,\n",
       "        12859, 13852, 14891, 14959, 15288, 15694, 16080, 16390, 16627, 16884,\n",
       "        17254, 17886, 17918, 18321, 19049, 19728, 21166, 21793, 22230, 23368,\n",
       "        23881, 24121, 24537, 26326, 26749, 27026, 27583, 28080, 28169, 29202,\n",
       "        29930, 30633, 31039, 31042, 31107, 31292, 31885, 32645, 33018, 33242,\n",
       "        34050, 34286, 34497, 35372, 35417, 38139, 38595, 38671, 38904, 39698,\n",
       "        39943, 39979, 40384, 40766, 41049, 42374, 42855, 43261, 43289, 44421,\n",
       "        44749, 44995, 46405, 47786, 50019, 50113, 50258, 52101, 52637, 53272,\n",
       "        53791, 53833, 54310, 55282, 55382])"
      ]
     },
     "execution_count": 106,
     "metadata": {},
     "output_type": "execute_result"
    }
   ],
   "source": [
    "sample_subgraph_encoding"
   ]
  },
  {
   "cell_type": "code",
   "execution_count": 107,
   "id": "12d95120",
   "metadata": {},
   "outputs": [
    {
     "data": {
      "text/plain": [
       "tensor([  669,   764,   848,  1087,  2069,  2869,  3354,  3534,  3564,  3917,\n",
       "         3920,  4867,  5673,  5785,  5918,  7094,  7552,  7625,  9646, 12496,\n",
       "        12859, 13852, 14891, 14959, 15288, 15694, 16080, 16390, 16627, 16884,\n",
       "        17254, 17886, 17918, 18321, 19049, 19728, 21166, 21793, 22230, 23368,\n",
       "        23881, 24121, 24537, 26326, 26749, 27026, 27583, 28080, 28169, 29202,\n",
       "        29930, 30633, 31039, 31042, 31107, 31292, 31885, 32645, 33018, 33242,\n",
       "        34050, 34286, 34497, 35372, 35417, 38139, 38595, 38671, 38904, 39698,\n",
       "        39943, 39979, 40384, 40766, 41049, 42374, 42855, 43261, 43289, 44421,\n",
       "        44749, 44995, 46405, 47786, 50019, 50113, 50258, 52101, 52637, 53272,\n",
       "        53791, 53833, 54310, 55282, 55382])"
      ]
     },
     "execution_count": 107,
     "metadata": {},
     "output_type": "execute_result"
    }
   ],
   "source": [
    "sample_subgraph_encoding"
   ]
  },
  {
   "cell_type": "code",
   "execution_count": 31,
   "id": "2b60e24d",
   "metadata": {},
   "outputs": [
    {
     "data": {
      "text/plain": [
       "torch.Size([55760, 1000])"
      ]
     },
     "execution_count": 31,
     "metadata": {},
     "output_type": "execute_result"
    }
   ],
   "source": [
    "node_list.shape"
   ]
  },
  {
   "cell_type": "code",
   "execution_count": 32,
   "id": "61e50757",
   "metadata": {},
   "outputs": [
    {
     "data": {
      "text/plain": [
       "torch.Size([1, 1000])"
      ]
     },
     "execution_count": 32,
     "metadata": {},
     "output_type": "execute_result"
    }
   ],
   "source": [
    "torch.zeros(1,feature_size).shape"
   ]
  },
  {
   "cell_type": "code",
   "execution_count": 33,
   "id": "8d5876cd",
   "metadata": {},
   "outputs": [],
   "source": [
    "from torch_geometric.data.lightning_datamodule import LightningDataset"
   ]
  },
  {
   "cell_type": "code",
   "execution_count": 120,
   "id": "b0e86c47",
   "metadata": {},
   "outputs": [],
   "source": [
    "train_streetview = building_info[building_info['streetview_panos'].map(len) > 0]"
   ]
  },
  {
   "cell_type": "code",
   "execution_count": 121,
   "id": "e509a1b1",
   "metadata": {},
   "outputs": [],
   "source": [
    "train_nostreetview = building_info[building_info['streetview_panos'].map(len) == 0]"
   ]
  },
  {
   "cell_type": "code",
   "execution_count": 123,
   "id": "b5b01263",
   "metadata": {},
   "outputs": [
    {
     "data": {
      "text/html": [
       "<div>\n",
       "<style scoped>\n",
       "    .dataframe tbody tr th:only-of-type {\n",
       "        vertical-align: middle;\n",
       "    }\n",
       "\n",
       "    .dataframe tbody tr th {\n",
       "        vertical-align: top;\n",
       "    }\n",
       "\n",
       "    .dataframe thead th {\n",
       "        text-align: right;\n",
       "    }\n",
       "</style>\n",
       "<table border=\"1\" class=\"dataframe\">\n",
       "  <thead>\n",
       "    <tr style=\"text-align: right;\">\n",
       "      <th></th>\n",
       "      <th>id</th>\n",
       "      <th>bbl</th>\n",
       "      <th>bin</th>\n",
       "      <th>daily_electric</th>\n",
       "      <th>daily_gas</th>\n",
       "      <th>heightroof</th>\n",
       "      <th>cnstrct_yr</th>\n",
       "      <th>groundelev</th>\n",
       "      <th>month</th>\n",
       "      <th>year</th>\n",
       "      <th>month_days</th>\n",
       "      <th>TMAX</th>\n",
       "      <th>TMIN</th>\n",
       "      <th>PRCP</th>\n",
       "      <th>floorarea</th>\n",
       "      <th>streetview_panos</th>\n",
       "    </tr>\n",
       "  </thead>\n",
       "  <tbody>\n",
       "    <tr>\n",
       "      <th>0</th>\n",
       "      <td>6894297</td>\n",
       "      <td>1007640007</td>\n",
       "      <td>1013712</td>\n",
       "      <td>2721.474194</td>\n",
       "      <td>8238.145161</td>\n",
       "      <td>73.151163</td>\n",
       "      <td>1930</td>\n",
       "      <td>22</td>\n",
       "      <td>1</td>\n",
       "      <td>2020</td>\n",
       "      <td>31</td>\n",
       "      <td>7.354839</td>\n",
       "      <td>0.629032</td>\n",
       "      <td>1.583871</td>\n",
       "      <td>26869.289838</td>\n",
       "      <td>[X1V_iEFj-eWEtnGyZEhSTA, FVQx_XsqPlaH0lViJ7qln...</td>\n",
       "    </tr>\n",
       "    <tr>\n",
       "      <th>1</th>\n",
       "      <td>6894297</td>\n",
       "      <td>1007640007</td>\n",
       "      <td>1013712</td>\n",
       "      <td>2704.079310</td>\n",
       "      <td>8239.224138</td>\n",
       "      <td>73.151163</td>\n",
       "      <td>1930</td>\n",
       "      <td>22</td>\n",
       "      <td>2</td>\n",
       "      <td>2020</td>\n",
       "      <td>29</td>\n",
       "      <td>8.055172</td>\n",
       "      <td>1.017241</td>\n",
       "      <td>2.231034</td>\n",
       "      <td>26869.289838</td>\n",
       "      <td>[X1V_iEFj-eWEtnGyZEhSTA, FVQx_XsqPlaH0lViJ7qln...</td>\n",
       "    </tr>\n",
       "    <tr>\n",
       "      <th>2</th>\n",
       "      <td>6894297</td>\n",
       "      <td>1007640007</td>\n",
       "      <td>1013712</td>\n",
       "      <td>2791.329032</td>\n",
       "      <td>7056.619355</td>\n",
       "      <td>73.151163</td>\n",
       "      <td>1930</td>\n",
       "      <td>22</td>\n",
       "      <td>3</td>\n",
       "      <td>2020</td>\n",
       "      <td>31</td>\n",
       "      <td>12.841935</td>\n",
       "      <td>4.922581</td>\n",
       "      <td>3.100000</td>\n",
       "      <td>26869.289838</td>\n",
       "      <td>[X1V_iEFj-eWEtnGyZEhSTA, FVQx_XsqPlaH0lViJ7qln...</td>\n",
       "    </tr>\n",
       "    <tr>\n",
       "      <th>3</th>\n",
       "      <td>6894297</td>\n",
       "      <td>1007640007</td>\n",
       "      <td>1013712</td>\n",
       "      <td>2828.940000</td>\n",
       "      <td>4662.300000</td>\n",
       "      <td>73.151163</td>\n",
       "      <td>1930</td>\n",
       "      <td>22</td>\n",
       "      <td>4</td>\n",
       "      <td>2020</td>\n",
       "      <td>30</td>\n",
       "      <td>14.273333</td>\n",
       "      <td>6.103333</td>\n",
       "      <td>3.806667</td>\n",
       "      <td>26869.289838</td>\n",
       "      <td>[X1V_iEFj-eWEtnGyZEhSTA, FVQx_XsqPlaH0lViJ7qln...</td>\n",
       "    </tr>\n",
       "    <tr>\n",
       "      <th>4</th>\n",
       "      <td>6894297</td>\n",
       "      <td>1007640007</td>\n",
       "      <td>1013712</td>\n",
       "      <td>2517.912903</td>\n",
       "      <td>2591.158065</td>\n",
       "      <td>73.151163</td>\n",
       "      <td>1930</td>\n",
       "      <td>22</td>\n",
       "      <td>5</td>\n",
       "      <td>2020</td>\n",
       "      <td>31</td>\n",
       "      <td>20.661290</td>\n",
       "      <td>10.770968</td>\n",
       "      <td>1.354839</td>\n",
       "      <td>26869.289838</td>\n",
       "      <td>[X1V_iEFj-eWEtnGyZEhSTA, FVQx_XsqPlaH0lViJ7qln...</td>\n",
       "    </tr>\n",
       "    <tr>\n",
       "      <th>...</th>\n",
       "      <td>...</td>\n",
       "      <td>...</td>\n",
       "      <td>...</td>\n",
       "      <td>...</td>\n",
       "      <td>...</td>\n",
       "      <td>...</td>\n",
       "      <td>...</td>\n",
       "      <td>...</td>\n",
       "      <td>...</td>\n",
       "      <td>...</td>\n",
       "      <td>...</td>\n",
       "      <td>...</td>\n",
       "      <td>...</td>\n",
       "      <td>...</td>\n",
       "      <td>...</td>\n",
       "      <td>...</td>\n",
       "    </tr>\n",
       "    <tr>\n",
       "      <th>112157</th>\n",
       "      <td>3544032</td>\n",
       "      <td>1008380038</td>\n",
       "      <td>1080727</td>\n",
       "      <td>6212.770968</td>\n",
       "      <td>5989.077419</td>\n",
       "      <td>260.000000</td>\n",
       "      <td>2011</td>\n",
       "      <td>56</td>\n",
       "      <td>8</td>\n",
       "      <td>2020</td>\n",
       "      <td>31</td>\n",
       "      <td>28.758065</td>\n",
       "      <td>21.093548</td>\n",
       "      <td>4.125806</td>\n",
       "      <td>29520.087384</td>\n",
       "      <td>[aywTv_e3Ob9fuTii871ADw, i0fvvgjQV-0ZkDGhS1b_F...</td>\n",
       "    </tr>\n",
       "    <tr>\n",
       "      <th>112158</th>\n",
       "      <td>3544032</td>\n",
       "      <td>1008380038</td>\n",
       "      <td>1080727</td>\n",
       "      <td>4555.023333</td>\n",
       "      <td>4974.236667</td>\n",
       "      <td>260.000000</td>\n",
       "      <td>2011</td>\n",
       "      <td>56</td>\n",
       "      <td>9</td>\n",
       "      <td>2020</td>\n",
       "      <td>30</td>\n",
       "      <td>24.160000</td>\n",
       "      <td>16.690000</td>\n",
       "      <td>3.336667</td>\n",
       "      <td>29520.087384</td>\n",
       "      <td>[aywTv_e3Ob9fuTii871ADw, i0fvvgjQV-0ZkDGhS1b_F...</td>\n",
       "    </tr>\n",
       "    <tr>\n",
       "      <th>112159</th>\n",
       "      <td>3544032</td>\n",
       "      <td>1008380038</td>\n",
       "      <td>1080727</td>\n",
       "      <td>3694.870968</td>\n",
       "      <td>7627.622581</td>\n",
       "      <td>260.000000</td>\n",
       "      <td>2011</td>\n",
       "      <td>56</td>\n",
       "      <td>10</td>\n",
       "      <td>2020</td>\n",
       "      <td>31</td>\n",
       "      <td>17.725806</td>\n",
       "      <td>11.032258</td>\n",
       "      <td>4.138710</td>\n",
       "      <td>29520.087384</td>\n",
       "      <td>[aywTv_e3Ob9fuTii871ADw, i0fvvgjQV-0ZkDGhS1b_F...</td>\n",
       "    </tr>\n",
       "    <tr>\n",
       "      <th>112160</th>\n",
       "      <td>3544032</td>\n",
       "      <td>1008380038</td>\n",
       "      <td>1080727</td>\n",
       "      <td>3685.340000</td>\n",
       "      <td>7303.073333</td>\n",
       "      <td>260.000000</td>\n",
       "      <td>2011</td>\n",
       "      <td>56</td>\n",
       "      <td>11</td>\n",
       "      <td>2020</td>\n",
       "      <td>30</td>\n",
       "      <td>15.460000</td>\n",
       "      <td>7.820000</td>\n",
       "      <td>3.380000</td>\n",
       "      <td>29520.087384</td>\n",
       "      <td>[aywTv_e3Ob9fuTii871ADw, i0fvvgjQV-0ZkDGhS1b_F...</td>\n",
       "    </tr>\n",
       "    <tr>\n",
       "      <th>112161</th>\n",
       "      <td>3544032</td>\n",
       "      <td>1008380038</td>\n",
       "      <td>1080727</td>\n",
       "      <td>3784.377419</td>\n",
       "      <td>9913.300000</td>\n",
       "      <td>260.000000</td>\n",
       "      <td>2011</td>\n",
       "      <td>56</td>\n",
       "      <td>12</td>\n",
       "      <td>2020</td>\n",
       "      <td>31</td>\n",
       "      <td>7.270968</td>\n",
       "      <td>0.783871</td>\n",
       "      <td>3.780645</td>\n",
       "      <td>29520.087384</td>\n",
       "      <td>[aywTv_e3Ob9fuTii871ADw, i0fvvgjQV-0ZkDGhS1b_F...</td>\n",
       "    </tr>\n",
       "  </tbody>\n",
       "</table>\n",
       "<p>19048 rows × 16 columns</p>\n",
       "</div>"
      ],
      "text/plain": [
       "             id         bbl      bin  daily_electric    daily_gas  heightroof  \\\n",
       "0       6894297  1007640007  1013712     2721.474194  8238.145161   73.151163   \n",
       "1       6894297  1007640007  1013712     2704.079310  8239.224138   73.151163   \n",
       "2       6894297  1007640007  1013712     2791.329032  7056.619355   73.151163   \n",
       "3       6894297  1007640007  1013712     2828.940000  4662.300000   73.151163   \n",
       "4       6894297  1007640007  1013712     2517.912903  2591.158065   73.151163   \n",
       "...         ...         ...      ...             ...          ...         ...   \n",
       "112157  3544032  1008380038  1080727     6212.770968  5989.077419  260.000000   \n",
       "112158  3544032  1008380038  1080727     4555.023333  4974.236667  260.000000   \n",
       "112159  3544032  1008380038  1080727     3694.870968  7627.622581  260.000000   \n",
       "112160  3544032  1008380038  1080727     3685.340000  7303.073333  260.000000   \n",
       "112161  3544032  1008380038  1080727     3784.377419  9913.300000  260.000000   \n",
       "\n",
       "        cnstrct_yr  groundelev  month  year  month_days       TMAX       TMIN  \\\n",
       "0             1930          22      1  2020          31   7.354839   0.629032   \n",
       "1             1930          22      2  2020          29   8.055172   1.017241   \n",
       "2             1930          22      3  2020          31  12.841935   4.922581   \n",
       "3             1930          22      4  2020          30  14.273333   6.103333   \n",
       "4             1930          22      5  2020          31  20.661290  10.770968   \n",
       "...            ...         ...    ...   ...         ...        ...        ...   \n",
       "112157        2011          56      8  2020          31  28.758065  21.093548   \n",
       "112158        2011          56      9  2020          30  24.160000  16.690000   \n",
       "112159        2011          56     10  2020          31  17.725806  11.032258   \n",
       "112160        2011          56     11  2020          30  15.460000   7.820000   \n",
       "112161        2011          56     12  2020          31   7.270968   0.783871   \n",
       "\n",
       "            PRCP     floorarea  \\\n",
       "0       1.583871  26869.289838   \n",
       "1       2.231034  26869.289838   \n",
       "2       3.100000  26869.289838   \n",
       "3       3.806667  26869.289838   \n",
       "4       1.354839  26869.289838   \n",
       "...          ...           ...   \n",
       "112157  4.125806  29520.087384   \n",
       "112158  3.336667  29520.087384   \n",
       "112159  4.138710  29520.087384   \n",
       "112160  3.380000  29520.087384   \n",
       "112161  3.780645  29520.087384   \n",
       "\n",
       "                                         streetview_panos  \n",
       "0       [X1V_iEFj-eWEtnGyZEhSTA, FVQx_XsqPlaH0lViJ7qln...  \n",
       "1       [X1V_iEFj-eWEtnGyZEhSTA, FVQx_XsqPlaH0lViJ7qln...  \n",
       "2       [X1V_iEFj-eWEtnGyZEhSTA, FVQx_XsqPlaH0lViJ7qln...  \n",
       "3       [X1V_iEFj-eWEtnGyZEhSTA, FVQx_XsqPlaH0lViJ7qln...  \n",
       "4       [X1V_iEFj-eWEtnGyZEhSTA, FVQx_XsqPlaH0lViJ7qln...  \n",
       "...                                                   ...  \n",
       "112157  [aywTv_e3Ob9fuTii871ADw, i0fvvgjQV-0ZkDGhS1b_F...  \n",
       "112158  [aywTv_e3Ob9fuTii871ADw, i0fvvgjQV-0ZkDGhS1b_F...  \n",
       "112159  [aywTv_e3Ob9fuTii871ADw, i0fvvgjQV-0ZkDGhS1b_F...  \n",
       "112160  [aywTv_e3Ob9fuTii871ADw, i0fvvgjQV-0ZkDGhS1b_F...  \n",
       "112161  [aywTv_e3Ob9fuTii871ADw, i0fvvgjQV-0ZkDGhS1b_F...  \n",
       "\n",
       "[19048 rows x 16 columns]"
      ]
     },
     "execution_count": 123,
     "metadata": {},
     "output_type": "execute_result"
    }
   ],
   "source": [
    "train_streetview"
   ]
  },
  {
   "cell_type": "code",
   "execution_count": 75,
   "id": "b1c1457f",
   "metadata": {},
   "outputs": [
    {
     "data": {
      "text/plain": [
       "Data(x=[1, 1000], edge_index=[0])"
      ]
     },
     "execution_count": 75,
     "metadata": {},
     "output_type": "execute_result"
    }
   ],
   "source": [
    "train_streetview = "
   ]
  },
  {
   "cell_type": "code",
   "execution_count": 124,
   "id": "cb2f4667",
   "metadata": {},
   "outputs": [],
   "source": [
    "subgraph_list = []\n",
    "for index, pano_list in enumerate(train_streetview['streetview_panos']):\n",
    "    if len(pano_list) > 0:\n",
    "        sample_subgraph_encoding = torch.tensor([ node_mapping[i] for i in pano_list ])\n",
    "        subgraph_list.append(data.subgraph(sample_subgraph_encoding))\n",
    "    else:\n",
    "        subgraph_list.append(Data(torch.zeros(1,feature_size), edge_list=[]))"
   ]
  },
  {
   "cell_type": "code",
   "execution_count": 125,
   "id": "ab7f2e3d",
   "metadata": {},
   "outputs": [
    {
     "data": {
      "text/plain": [
       "[Data(x=[95, 1000], edge_index=[2, 190]),\n",
       " Data(x=[95, 1000], edge_index=[2, 190]),\n",
       " Data(x=[95, 1000], edge_index=[2, 190])]"
      ]
     },
     "execution_count": 125,
     "metadata": {},
     "output_type": "execute_result"
    }
   ],
   "source": [
    "subgraph_list[:3]"
   ]
  },
  {
   "cell_type": "code",
   "execution_count": 126,
   "id": "2dd43ebd",
   "metadata": {},
   "outputs": [],
   "source": [
    "from torch_geometric.data import Batch, DenseDataLoader"
   ]
  },
  {
   "cell_type": "code",
   "execution_count": 127,
   "id": "c33481b0",
   "metadata": {},
   "outputs": [
    {
     "data": {
      "text/plain": [
       "<function torch_geometric.loader.dense_data_loader.DenseDataLoader(*args, **kwds)>"
      ]
     },
     "execution_count": 127,
     "metadata": {},
     "output_type": "execute_result"
    }
   ],
   "source": [
    "DenseDataLoader"
   ]
  },
  {
   "cell_type": "code",
   "execution_count": 128,
   "id": "8c712de0",
   "metadata": {},
   "outputs": [
    {
     "name": "stderr",
     "output_type": "stream",
     "text": [
      "/Users/tomdougherty/opt/anaconda3/envs/dbr/lib/python3.6/site-packages/torch_geometric/deprecation.py:13: UserWarning: 'data.DenseDataLoader' is deprecated, use 'loader.DenseDataLoader' instead\n",
      "  warnings.warn(out)\n"
     ]
    }
   ],
   "source": [
    "batched = DenseDataLoader(subgraph_list, batch_size=16)"
   ]
  },
  {
   "cell_type": "code",
   "execution_count": 132,
   "id": "cd4db92a",
   "metadata": {},
   "outputs": [
    {
     "data": {
      "text/plain": [
       "[Data(x=[95, 1000], edge_index=[2, 190]),\n",
       " Data(x=[95, 1000], edge_index=[2, 190]),\n",
       " Data(x=[95, 1000], edge_index=[2, 190]),\n",
       " Data(x=[95, 1000], edge_index=[2, 190]),\n",
       " Data(x=[95, 1000], edge_index=[2, 190]),\n",
       " Data(x=[95, 1000], edge_index=[2, 190]),\n",
       " Data(x=[95, 1000], edge_index=[2, 190]),\n",
       " Data(x=[95, 1000], edge_index=[2, 190]),\n",
       " Data(x=[95, 1000], edge_index=[2, 190]),\n",
       " Data(x=[95, 1000], edge_index=[2, 190]),\n",
       " Data(x=[95, 1000], edge_index=[2, 190]),\n",
       " Data(x=[95, 1000], edge_index=[2, 190]),\n",
       " Data(x=[63, 1000], edge_index=[2, 126]),\n",
       " Data(x=[63, 1000], edge_index=[2, 126]),\n",
       " Data(x=[63, 1000], edge_index=[2, 126]),\n",
       " Data(x=[63, 1000], edge_index=[2, 126]),\n",
       " Data(x=[63, 1000], edge_index=[2, 126]),\n",
       " Data(x=[63, 1000], edge_index=[2, 126]),\n",
       " Data(x=[63, 1000], edge_index=[2, 126]),\n",
       " Data(x=[63, 1000], edge_index=[2, 126]),\n",
       " Data(x=[63, 1000], edge_index=[2, 126]),\n",
       " Data(x=[63, 1000], edge_index=[2, 126]),\n",
       " Data(x=[63, 1000], edge_index=[2, 126]),\n",
       " Data(x=[63, 1000], edge_index=[2, 126]),\n",
       " Data(x=[100, 1000], edge_index=[2, 200]),\n",
       " Data(x=[100, 1000], edge_index=[2, 200]),\n",
       " Data(x=[100, 1000], edge_index=[2, 200]),\n",
       " Data(x=[100, 1000], edge_index=[2, 200]),\n",
       " Data(x=[100, 1000], edge_index=[2, 200]),\n",
       " Data(x=[100, 1000], edge_index=[2, 200]),\n",
       " Data(x=[100, 1000], edge_index=[2, 200]),\n",
       " Data(x=[100, 1000], edge_index=[2, 200]),\n",
       " Data(x=[100, 1000], edge_index=[2, 200]),\n",
       " Data(x=[100, 1000], edge_index=[2, 200]),\n",
       " Data(x=[100, 1000], edge_index=[2, 200]),\n",
       " Data(x=[100, 1000], edge_index=[2, 200]),\n",
       " Data(x=[80, 1000], edge_index=[2, 160]),\n",
       " Data(x=[80, 1000], edge_index=[2, 160]),\n",
       " Data(x=[80, 1000], edge_index=[2, 160]),\n",
       " Data(x=[80, 1000], edge_index=[2, 160]),\n",
       " Data(x=[80, 1000], edge_index=[2, 160]),\n",
       " Data(x=[80, 1000], edge_index=[2, 160]),\n",
       " Data(x=[80, 1000], edge_index=[2, 160]),\n",
       " Data(x=[80, 1000], edge_index=[2, 160]),\n",
       " Data(x=[80, 1000], edge_index=[2, 160]),\n",
       " Data(x=[80, 1000], edge_index=[2, 160]),\n",
       " Data(x=[80, 1000], edge_index=[2, 160]),\n",
       " Data(x=[80, 1000], edge_index=[2, 160]),\n",
       " Data(x=[60, 1000], edge_index=[2, 120]),\n",
       " Data(x=[60, 1000], edge_index=[2, 120]),\n",
       " Data(x=[60, 1000], edge_index=[2, 120]),\n",
       " Data(x=[60, 1000], edge_index=[2, 120]),\n",
       " Data(x=[60, 1000], edge_index=[2, 120]),\n",
       " Data(x=[60, 1000], edge_index=[2, 120]),\n",
       " Data(x=[60, 1000], edge_index=[2, 120]),\n",
       " Data(x=[60, 1000], edge_index=[2, 120]),\n",
       " Data(x=[60, 1000], edge_index=[2, 120]),\n",
       " Data(x=[60, 1000], edge_index=[2, 120]),\n",
       " Data(x=[60, 1000], edge_index=[2, 120]),\n",
       " Data(x=[60, 1000], edge_index=[2, 120]),\n",
       " Data(x=[63, 1000], edge_index=[2, 126]),\n",
       " Data(x=[63, 1000], edge_index=[2, 126]),\n",
       " Data(x=[63, 1000], edge_index=[2, 126]),\n",
       " Data(x=[63, 1000], edge_index=[2, 126]),\n",
       " Data(x=[63, 1000], edge_index=[2, 126]),\n",
       " Data(x=[63, 1000], edge_index=[2, 126]),\n",
       " Data(x=[63, 1000], edge_index=[2, 126]),\n",
       " Data(x=[63, 1000], edge_index=[2, 126]),\n",
       " Data(x=[63, 1000], edge_index=[2, 126]),\n",
       " Data(x=[63, 1000], edge_index=[2, 126]),\n",
       " Data(x=[63, 1000], edge_index=[2, 126]),\n",
       " Data(x=[63, 1000], edge_index=[2, 126]),\n",
       " Data(x=[98, 1000], edge_index=[2, 196]),\n",
       " Data(x=[98, 1000], edge_index=[2, 196]),\n",
       " Data(x=[98, 1000], edge_index=[2, 196]),\n",
       " Data(x=[98, 1000], edge_index=[2, 196]),\n",
       " Data(x=[98, 1000], edge_index=[2, 196]),\n",
       " Data(x=[98, 1000], edge_index=[2, 196]),\n",
       " Data(x=[98, 1000], edge_index=[2, 196]),\n",
       " Data(x=[98, 1000], edge_index=[2, 196]),\n",
       " Data(x=[98, 1000], edge_index=[2, 196]),\n",
       " Data(x=[98, 1000], edge_index=[2, 196]),\n",
       " Data(x=[98, 1000], edge_index=[2, 196]),\n",
       " Data(x=[98, 1000], edge_index=[2, 196]),\n",
       " Data(x=[74, 1000], edge_index=[2, 148]),\n",
       " Data(x=[74, 1000], edge_index=[2, 148]),\n",
       " Data(x=[74, 1000], edge_index=[2, 148]),\n",
       " Data(x=[74, 1000], edge_index=[2, 148]),\n",
       " Data(x=[74, 1000], edge_index=[2, 148]),\n",
       " Data(x=[74, 1000], edge_index=[2, 148]),\n",
       " Data(x=[74, 1000], edge_index=[2, 148]),\n",
       " Data(x=[74, 1000], edge_index=[2, 148]),\n",
       " Data(x=[74, 1000], edge_index=[2, 148]),\n",
       " Data(x=[74, 1000], edge_index=[2, 148]),\n",
       " Data(x=[74, 1000], edge_index=[2, 148]),\n",
       " Data(x=[74, 1000], edge_index=[2, 148]),\n",
       " Data(x=[39, 1000], edge_index=[2, 76]),\n",
       " Data(x=[39, 1000], edge_index=[2, 76]),\n",
       " Data(x=[39, 1000], edge_index=[2, 76]),\n",
       " Data(x=[39, 1000], edge_index=[2, 76]),\n",
       " Data(x=[39, 1000], edge_index=[2, 76]),\n",
       " Data(x=[39, 1000], edge_index=[2, 76]),\n",
       " Data(x=[39, 1000], edge_index=[2, 76]),\n",
       " Data(x=[39, 1000], edge_index=[2, 76]),\n",
       " Data(x=[39, 1000], edge_index=[2, 76]),\n",
       " Data(x=[39, 1000], edge_index=[2, 76]),\n",
       " Data(x=[39, 1000], edge_index=[2, 76]),\n",
       " Data(x=[39, 1000], edge_index=[2, 76]),\n",
       " Data(x=[82, 1000], edge_index=[2, 164]),\n",
       " Data(x=[82, 1000], edge_index=[2, 164]),\n",
       " Data(x=[82, 1000], edge_index=[2, 164]),\n",
       " Data(x=[82, 1000], edge_index=[2, 164]),\n",
       " Data(x=[82, 1000], edge_index=[2, 164]),\n",
       " Data(x=[82, 1000], edge_index=[2, 164]),\n",
       " Data(x=[82, 1000], edge_index=[2, 164]),\n",
       " Data(x=[82, 1000], edge_index=[2, 164]),\n",
       " Data(x=[82, 1000], edge_index=[2, 164]),\n",
       " Data(x=[82, 1000], edge_index=[2, 164]),\n",
       " Data(x=[82, 1000], edge_index=[2, 164]),\n",
       " Data(x=[82, 1000], edge_index=[2, 164]),\n",
       " Data(x=[112, 1000], edge_index=[2, 230]),\n",
       " Data(x=[112, 1000], edge_index=[2, 230]),\n",
       " Data(x=[112, 1000], edge_index=[2, 230]),\n",
       " Data(x=[112, 1000], edge_index=[2, 230]),\n",
       " Data(x=[112, 1000], edge_index=[2, 230]),\n",
       " Data(x=[112, 1000], edge_index=[2, 230]),\n",
       " Data(x=[112, 1000], edge_index=[2, 230]),\n",
       " Data(x=[112, 1000], edge_index=[2, 230]),\n",
       " Data(x=[112, 1000], edge_index=[2, 230]),\n",
       " Data(x=[112, 1000], edge_index=[2, 230]),\n",
       " Data(x=[112, 1000], edge_index=[2, 230]),\n",
       " Data(x=[112, 1000], edge_index=[2, 230]),\n",
       " Data(x=[83, 1000], edge_index=[2, 166]),\n",
       " Data(x=[83, 1000], edge_index=[2, 166]),\n",
       " Data(x=[83, 1000], edge_index=[2, 166]),\n",
       " Data(x=[83, 1000], edge_index=[2, 166]),\n",
       " Data(x=[83, 1000], edge_index=[2, 166]),\n",
       " Data(x=[83, 1000], edge_index=[2, 166]),\n",
       " Data(x=[83, 1000], edge_index=[2, 166]),\n",
       " Data(x=[83, 1000], edge_index=[2, 166]),\n",
       " Data(x=[83, 1000], edge_index=[2, 166]),\n",
       " Data(x=[83, 1000], edge_index=[2, 166]),\n",
       " Data(x=[83, 1000], edge_index=[2, 166]),\n",
       " Data(x=[83, 1000], edge_index=[2, 166]),\n",
       " Data(x=[99, 1000], edge_index=[2, 198]),\n",
       " Data(x=[99, 1000], edge_index=[2, 198]),\n",
       " Data(x=[99, 1000], edge_index=[2, 198]),\n",
       " Data(x=[99, 1000], edge_index=[2, 198]),\n",
       " Data(x=[99, 1000], edge_index=[2, 198]),\n",
       " Data(x=[99, 1000], edge_index=[2, 198]),\n",
       " Data(x=[99, 1000], edge_index=[2, 198]),\n",
       " Data(x=[99, 1000], edge_index=[2, 198]),\n",
       " Data(x=[99, 1000], edge_index=[2, 198]),\n",
       " Data(x=[99, 1000], edge_index=[2, 198]),\n",
       " Data(x=[99, 1000], edge_index=[2, 198]),\n",
       " Data(x=[99, 1000], edge_index=[2, 198]),\n",
       " Data(x=[64, 1000], edge_index=[2, 128]),\n",
       " Data(x=[64, 1000], edge_index=[2, 128]),\n",
       " Data(x=[64, 1000], edge_index=[2, 128]),\n",
       " Data(x=[64, 1000], edge_index=[2, 128]),\n",
       " Data(x=[64, 1000], edge_index=[2, 128]),\n",
       " Data(x=[64, 1000], edge_index=[2, 128]),\n",
       " Data(x=[64, 1000], edge_index=[2, 128]),\n",
       " Data(x=[64, 1000], edge_index=[2, 128]),\n",
       " Data(x=[64, 1000], edge_index=[2, 128]),\n",
       " Data(x=[64, 1000], edge_index=[2, 128]),\n",
       " Data(x=[64, 1000], edge_index=[2, 128]),\n",
       " Data(x=[64, 1000], edge_index=[2, 128]),\n",
       " Data(x=[76, 1000], edge_index=[2, 154]),\n",
       " Data(x=[76, 1000], edge_index=[2, 154]),\n",
       " Data(x=[76, 1000], edge_index=[2, 154]),\n",
       " Data(x=[76, 1000], edge_index=[2, 154]),\n",
       " Data(x=[76, 1000], edge_index=[2, 154]),\n",
       " Data(x=[76, 1000], edge_index=[2, 154]),\n",
       " Data(x=[76, 1000], edge_index=[2, 154]),\n",
       " Data(x=[76, 1000], edge_index=[2, 154]),\n",
       " Data(x=[76, 1000], edge_index=[2, 154]),\n",
       " Data(x=[76, 1000], edge_index=[2, 154]),\n",
       " Data(x=[76, 1000], edge_index=[2, 154]),\n",
       " Data(x=[76, 1000], edge_index=[2, 154]),\n",
       " Data(x=[90, 1000], edge_index=[2, 180]),\n",
       " Data(x=[90, 1000], edge_index=[2, 180]),\n",
       " Data(x=[90, 1000], edge_index=[2, 180]),\n",
       " Data(x=[90, 1000], edge_index=[2, 180]),\n",
       " Data(x=[90, 1000], edge_index=[2, 180]),\n",
       " Data(x=[90, 1000], edge_index=[2, 180]),\n",
       " Data(x=[90, 1000], edge_index=[2, 180]),\n",
       " Data(x=[90, 1000], edge_index=[2, 180]),\n",
       " Data(x=[90, 1000], edge_index=[2, 180]),\n",
       " Data(x=[90, 1000], edge_index=[2, 180]),\n",
       " Data(x=[90, 1000], edge_index=[2, 180]),\n",
       " Data(x=[90, 1000], edge_index=[2, 180]),\n",
       " Data(x=[102, 1000], edge_index=[2, 204]),\n",
       " Data(x=[102, 1000], edge_index=[2, 204]),\n",
       " Data(x=[102, 1000], edge_index=[2, 204]),\n",
       " Data(x=[102, 1000], edge_index=[2, 204]),\n",
       " Data(x=[102, 1000], edge_index=[2, 204]),\n",
       " Data(x=[102, 1000], edge_index=[2, 204]),\n",
       " Data(x=[102, 1000], edge_index=[2, 204]),\n",
       " Data(x=[102, 1000], edge_index=[2, 204]),\n",
       " Data(x=[102, 1000], edge_index=[2, 204]),\n",
       " Data(x=[102, 1000], edge_index=[2, 204]),\n",
       " Data(x=[102, 1000], edge_index=[2, 204]),\n",
       " Data(x=[102, 1000], edge_index=[2, 204]),\n",
       " Data(x=[69, 1000], edge_index=[2, 138]),\n",
       " Data(x=[69, 1000], edge_index=[2, 138]),\n",
       " Data(x=[69, 1000], edge_index=[2, 138]),\n",
       " Data(x=[69, 1000], edge_index=[2, 138]),\n",
       " Data(x=[69, 1000], edge_index=[2, 138]),\n",
       " Data(x=[69, 1000], edge_index=[2, 138]),\n",
       " Data(x=[69, 1000], edge_index=[2, 138]),\n",
       " Data(x=[69, 1000], edge_index=[2, 138]),\n",
       " Data(x=[69, 1000], edge_index=[2, 138]),\n",
       " Data(x=[69, 1000], edge_index=[2, 138]),\n",
       " Data(x=[69, 1000], edge_index=[2, 138]),\n",
       " Data(x=[69, 1000], edge_index=[2, 138]),\n",
       " Data(x=[96, 1000], edge_index=[2, 194]),\n",
       " Data(x=[96, 1000], edge_index=[2, 194]),\n",
       " Data(x=[96, 1000], edge_index=[2, 194]),\n",
       " Data(x=[96, 1000], edge_index=[2, 194]),\n",
       " Data(x=[96, 1000], edge_index=[2, 194]),\n",
       " Data(x=[96, 1000], edge_index=[2, 194]),\n",
       " Data(x=[96, 1000], edge_index=[2, 194]),\n",
       " Data(x=[96, 1000], edge_index=[2, 194]),\n",
       " Data(x=[96, 1000], edge_index=[2, 194]),\n",
       " Data(x=[96, 1000], edge_index=[2, 194]),\n",
       " Data(x=[96, 1000], edge_index=[2, 194]),\n",
       " Data(x=[96, 1000], edge_index=[2, 194]),\n",
       " Data(x=[88, 1000], edge_index=[2, 172]),\n",
       " Data(x=[88, 1000], edge_index=[2, 172]),\n",
       " Data(x=[88, 1000], edge_index=[2, 172]),\n",
       " Data(x=[88, 1000], edge_index=[2, 172]),\n",
       " Data(x=[88, 1000], edge_index=[2, 172]),\n",
       " Data(x=[88, 1000], edge_index=[2, 172]),\n",
       " Data(x=[88, 1000], edge_index=[2, 172]),\n",
       " Data(x=[88, 1000], edge_index=[2, 172]),\n",
       " Data(x=[88, 1000], edge_index=[2, 172]),\n",
       " Data(x=[88, 1000], edge_index=[2, 172]),\n",
       " Data(x=[88, 1000], edge_index=[2, 172]),\n",
       " Data(x=[88, 1000], edge_index=[2, 172]),\n",
       " Data(x=[77, 1000], edge_index=[2, 154]),\n",
       " Data(x=[77, 1000], edge_index=[2, 154]),\n",
       " Data(x=[77, 1000], edge_index=[2, 154]),\n",
       " Data(x=[77, 1000], edge_index=[2, 154]),\n",
       " Data(x=[77, 1000], edge_index=[2, 154]),\n",
       " Data(x=[77, 1000], edge_index=[2, 154]),\n",
       " Data(x=[77, 1000], edge_index=[2, 154]),\n",
       " Data(x=[77, 1000], edge_index=[2, 154]),\n",
       " Data(x=[77, 1000], edge_index=[2, 154]),\n",
       " Data(x=[77, 1000], edge_index=[2, 154]),\n",
       " Data(x=[77, 1000], edge_index=[2, 154]),\n",
       " Data(x=[77, 1000], edge_index=[2, 154]),\n",
       " Data(x=[92, 1000], edge_index=[2, 184]),\n",
       " Data(x=[92, 1000], edge_index=[2, 184]),\n",
       " Data(x=[92, 1000], edge_index=[2, 184]),\n",
       " Data(x=[92, 1000], edge_index=[2, 184]),\n",
       " Data(x=[92, 1000], edge_index=[2, 184]),\n",
       " Data(x=[92, 1000], edge_index=[2, 184]),\n",
       " Data(x=[92, 1000], edge_index=[2, 184]),\n",
       " Data(x=[92, 1000], edge_index=[2, 184]),\n",
       " Data(x=[92, 1000], edge_index=[2, 184]),\n",
       " Data(x=[92, 1000], edge_index=[2, 184]),\n",
       " Data(x=[92, 1000], edge_index=[2, 184]),\n",
       " Data(x=[92, 1000], edge_index=[2, 184]),\n",
       " Data(x=[59, 1000], edge_index=[2, 116]),\n",
       " Data(x=[59, 1000], edge_index=[2, 116]),\n",
       " Data(x=[59, 1000], edge_index=[2, 116]),\n",
       " Data(x=[59, 1000], edge_index=[2, 116]),\n",
       " Data(x=[59, 1000], edge_index=[2, 116]),\n",
       " Data(x=[59, 1000], edge_index=[2, 116]),\n",
       " Data(x=[59, 1000], edge_index=[2, 116]),\n",
       " Data(x=[59, 1000], edge_index=[2, 116]),\n",
       " Data(x=[59, 1000], edge_index=[2, 116]),\n",
       " Data(x=[59, 1000], edge_index=[2, 116]),\n",
       " Data(x=[59, 1000], edge_index=[2, 116]),\n",
       " Data(x=[59, 1000], edge_index=[2, 116]),\n",
       " Data(x=[79, 1000], edge_index=[2, 160]),\n",
       " Data(x=[79, 1000], edge_index=[2, 160]),\n",
       " Data(x=[79, 1000], edge_index=[2, 160]),\n",
       " Data(x=[79, 1000], edge_index=[2, 160]),\n",
       " Data(x=[79, 1000], edge_index=[2, 160]),\n",
       " Data(x=[79, 1000], edge_index=[2, 160]),\n",
       " Data(x=[79, 1000], edge_index=[2, 160]),\n",
       " Data(x=[79, 1000], edge_index=[2, 160]),\n",
       " Data(x=[79, 1000], edge_index=[2, 160]),\n",
       " Data(x=[79, 1000], edge_index=[2, 160]),\n",
       " Data(x=[79, 1000], edge_index=[2, 160]),\n",
       " Data(x=[79, 1000], edge_index=[2, 160]),\n",
       " Data(x=[42, 1000], edge_index=[2, 82]),\n",
       " Data(x=[42, 1000], edge_index=[2, 82]),\n",
       " Data(x=[42, 1000], edge_index=[2, 82]),\n",
       " Data(x=[42, 1000], edge_index=[2, 82]),\n",
       " Data(x=[42, 1000], edge_index=[2, 82]),\n",
       " Data(x=[42, 1000], edge_index=[2, 82]),\n",
       " Data(x=[42, 1000], edge_index=[2, 82]),\n",
       " Data(x=[42, 1000], edge_index=[2, 82]),\n",
       " Data(x=[42, 1000], edge_index=[2, 82]),\n",
       " Data(x=[42, 1000], edge_index=[2, 82]),\n",
       " Data(x=[42, 1000], edge_index=[2, 82]),\n",
       " Data(x=[42, 1000], edge_index=[2, 82]),\n",
       " Data(x=[93, 1000], edge_index=[2, 186]),\n",
       " Data(x=[93, 1000], edge_index=[2, 186]),\n",
       " Data(x=[93, 1000], edge_index=[2, 186]),\n",
       " Data(x=[93, 1000], edge_index=[2, 186]),\n",
       " Data(x=[93, 1000], edge_index=[2, 186]),\n",
       " Data(x=[93, 1000], edge_index=[2, 186]),\n",
       " Data(x=[93, 1000], edge_index=[2, 186]),\n",
       " Data(x=[93, 1000], edge_index=[2, 186]),\n",
       " Data(x=[93, 1000], edge_index=[2, 186]),\n",
       " Data(x=[93, 1000], edge_index=[2, 186]),\n",
       " Data(x=[93, 1000], edge_index=[2, 186]),\n",
       " Data(x=[93, 1000], edge_index=[2, 186]),\n",
       " Data(x=[78, 1000], edge_index=[2, 156]),\n",
       " Data(x=[78, 1000], edge_index=[2, 156]),\n",
       " Data(x=[78, 1000], edge_index=[2, 156]),\n",
       " Data(x=[78, 1000], edge_index=[2, 156]),\n",
       " Data(x=[78, 1000], edge_index=[2, 156]),\n",
       " Data(x=[78, 1000], edge_index=[2, 156]),\n",
       " Data(x=[78, 1000], edge_index=[2, 156]),\n",
       " Data(x=[78, 1000], edge_index=[2, 156]),\n",
       " Data(x=[78, 1000], edge_index=[2, 156]),\n",
       " Data(x=[78, 1000], edge_index=[2, 156]),\n",
       " Data(x=[78, 1000], edge_index=[2, 156]),\n",
       " Data(x=[78, 1000], edge_index=[2, 156]),\n",
       " Data(x=[67, 1000], edge_index=[2, 134]),\n",
       " Data(x=[67, 1000], edge_index=[2, 134]),\n",
       " Data(x=[67, 1000], edge_index=[2, 134]),\n",
       " Data(x=[67, 1000], edge_index=[2, 134]),\n",
       " Data(x=[67, 1000], edge_index=[2, 134]),\n",
       " Data(x=[67, 1000], edge_index=[2, 134]),\n",
       " Data(x=[67, 1000], edge_index=[2, 134]),\n",
       " Data(x=[67, 1000], edge_index=[2, 134]),\n",
       " Data(x=[67, 1000], edge_index=[2, 134]),\n",
       " Data(x=[67, 1000], edge_index=[2, 134]),\n",
       " Data(x=[67, 1000], edge_index=[2, 134]),\n",
       " Data(x=[67, 1000], edge_index=[2, 134]),\n",
       " Data(x=[81, 1000], edge_index=[2, 162]),\n",
       " Data(x=[81, 1000], edge_index=[2, 162]),\n",
       " Data(x=[81, 1000], edge_index=[2, 162]),\n",
       " Data(x=[81, 1000], edge_index=[2, 162]),\n",
       " Data(x=[81, 1000], edge_index=[2, 162]),\n",
       " Data(x=[81, 1000], edge_index=[2, 162]),\n",
       " Data(x=[81, 1000], edge_index=[2, 162]),\n",
       " Data(x=[81, 1000], edge_index=[2, 162]),\n",
       " Data(x=[81, 1000], edge_index=[2, 162]),\n",
       " Data(x=[81, 1000], edge_index=[2, 162]),\n",
       " Data(x=[81, 1000], edge_index=[2, 162]),\n",
       " Data(x=[81, 1000], edge_index=[2, 162]),\n",
       " Data(x=[97, 1000], edge_index=[2, 194]),\n",
       " Data(x=[97, 1000], edge_index=[2, 194]),\n",
       " Data(x=[97, 1000], edge_index=[2, 194]),\n",
       " Data(x=[97, 1000], edge_index=[2, 194]),\n",
       " Data(x=[97, 1000], edge_index=[2, 194]),\n",
       " Data(x=[97, 1000], edge_index=[2, 194]),\n",
       " Data(x=[97, 1000], edge_index=[2, 194]),\n",
       " Data(x=[97, 1000], edge_index=[2, 194]),\n",
       " Data(x=[97, 1000], edge_index=[2, 194]),\n",
       " Data(x=[97, 1000], edge_index=[2, 194]),\n",
       " Data(x=[97, 1000], edge_index=[2, 194]),\n",
       " Data(x=[97, 1000], edge_index=[2, 194]),\n",
       " Data(x=[74, 1000], edge_index=[2, 148]),\n",
       " Data(x=[74, 1000], edge_index=[2, 148]),\n",
       " Data(x=[74, 1000], edge_index=[2, 148]),\n",
       " Data(x=[74, 1000], edge_index=[2, 148]),\n",
       " Data(x=[74, 1000], edge_index=[2, 148]),\n",
       " Data(x=[74, 1000], edge_index=[2, 148]),\n",
       " Data(x=[74, 1000], edge_index=[2, 148]),\n",
       " Data(x=[74, 1000], edge_index=[2, 148]),\n",
       " Data(x=[74, 1000], edge_index=[2, 148]),\n",
       " Data(x=[74, 1000], edge_index=[2, 148]),\n",
       " Data(x=[74, 1000], edge_index=[2, 148]),\n",
       " Data(x=[74, 1000], edge_index=[2, 148]),\n",
       " Data(x=[68, 1000], edge_index=[2, 136]),\n",
       " Data(x=[68, 1000], edge_index=[2, 136]),\n",
       " Data(x=[68, 1000], edge_index=[2, 136]),\n",
       " Data(x=[68, 1000], edge_index=[2, 136]),\n",
       " Data(x=[68, 1000], edge_index=[2, 136]),\n",
       " Data(x=[68, 1000], edge_index=[2, 136]),\n",
       " Data(x=[68, 1000], edge_index=[2, 136]),\n",
       " Data(x=[68, 1000], edge_index=[2, 136]),\n",
       " Data(x=[68, 1000], edge_index=[2, 136]),\n",
       " Data(x=[68, 1000], edge_index=[2, 136]),\n",
       " Data(x=[68, 1000], edge_index=[2, 136]),\n",
       " Data(x=[68, 1000], edge_index=[2, 136]),\n",
       " Data(x=[89, 1000], edge_index=[2, 178]),\n",
       " Data(x=[89, 1000], edge_index=[2, 178]),\n",
       " Data(x=[89, 1000], edge_index=[2, 178]),\n",
       " Data(x=[89, 1000], edge_index=[2, 178]),\n",
       " Data(x=[89, 1000], edge_index=[2, 178]),\n",
       " Data(x=[89, 1000], edge_index=[2, 178]),\n",
       " Data(x=[89, 1000], edge_index=[2, 178]),\n",
       " Data(x=[89, 1000], edge_index=[2, 178]),\n",
       " Data(x=[89, 1000], edge_index=[2, 178]),\n",
       " Data(x=[89, 1000], edge_index=[2, 178]),\n",
       " Data(x=[89, 1000], edge_index=[2, 178]),\n",
       " Data(x=[89, 1000], edge_index=[2, 178]),\n",
       " Data(x=[109, 1000], edge_index=[2, 214]),\n",
       " Data(x=[109, 1000], edge_index=[2, 214]),\n",
       " Data(x=[109, 1000], edge_index=[2, 214]),\n",
       " Data(x=[109, 1000], edge_index=[2, 214]),\n",
       " Data(x=[109, 1000], edge_index=[2, 214]),\n",
       " Data(x=[109, 1000], edge_index=[2, 214]),\n",
       " Data(x=[109, 1000], edge_index=[2, 214]),\n",
       " Data(x=[109, 1000], edge_index=[2, 214]),\n",
       " Data(x=[109, 1000], edge_index=[2, 214]),\n",
       " Data(x=[109, 1000], edge_index=[2, 214]),\n",
       " Data(x=[109, 1000], edge_index=[2, 214]),\n",
       " Data(x=[109, 1000], edge_index=[2, 214]),\n",
       " Data(x=[81, 1000], edge_index=[2, 164]),\n",
       " Data(x=[81, 1000], edge_index=[2, 164]),\n",
       " Data(x=[81, 1000], edge_index=[2, 164]),\n",
       " Data(x=[81, 1000], edge_index=[2, 164]),\n",
       " Data(x=[81, 1000], edge_index=[2, 164]),\n",
       " Data(x=[81, 1000], edge_index=[2, 164]),\n",
       " Data(x=[81, 1000], edge_index=[2, 164]),\n",
       " Data(x=[81, 1000], edge_index=[2, 164]),\n",
       " Data(x=[81, 1000], edge_index=[2, 164]),\n",
       " Data(x=[81, 1000], edge_index=[2, 164]),\n",
       " Data(x=[81, 1000], edge_index=[2, 164]),\n",
       " Data(x=[81, 1000], edge_index=[2, 164]),\n",
       " Data(x=[57, 1000], edge_index=[2, 114]),\n",
       " Data(x=[57, 1000], edge_index=[2, 114]),\n",
       " Data(x=[57, 1000], edge_index=[2, 114]),\n",
       " Data(x=[57, 1000], edge_index=[2, 114]),\n",
       " Data(x=[57, 1000], edge_index=[2, 114]),\n",
       " Data(x=[57, 1000], edge_index=[2, 114]),\n",
       " Data(x=[57, 1000], edge_index=[2, 114]),\n",
       " Data(x=[57, 1000], edge_index=[2, 114]),\n",
       " Data(x=[57, 1000], edge_index=[2, 114]),\n",
       " Data(x=[57, 1000], edge_index=[2, 114]),\n",
       " Data(x=[57, 1000], edge_index=[2, 114]),\n",
       " Data(x=[57, 1000], edge_index=[2, 114]),\n",
       " Data(x=[78, 1000], edge_index=[2, 156]),\n",
       " Data(x=[78, 1000], edge_index=[2, 156]),\n",
       " Data(x=[78, 1000], edge_index=[2, 156]),\n",
       " Data(x=[78, 1000], edge_index=[2, 156]),\n",
       " Data(x=[78, 1000], edge_index=[2, 156]),\n",
       " Data(x=[78, 1000], edge_index=[2, 156]),\n",
       " Data(x=[78, 1000], edge_index=[2, 156]),\n",
       " Data(x=[78, 1000], edge_index=[2, 156]),\n",
       " Data(x=[78, 1000], edge_index=[2, 156]),\n",
       " Data(x=[78, 1000], edge_index=[2, 156]),\n",
       " Data(x=[78, 1000], edge_index=[2, 156]),\n",
       " Data(x=[78, 1000], edge_index=[2, 156]),\n",
       " Data(x=[94, 1000], edge_index=[2, 188]),\n",
       " Data(x=[94, 1000], edge_index=[2, 188]),\n",
       " Data(x=[94, 1000], edge_index=[2, 188]),\n",
       " Data(x=[94, 1000], edge_index=[2, 188]),\n",
       " Data(x=[94, 1000], edge_index=[2, 188]),\n",
       " Data(x=[94, 1000], edge_index=[2, 188]),\n",
       " Data(x=[94, 1000], edge_index=[2, 188]),\n",
       " Data(x=[94, 1000], edge_index=[2, 188]),\n",
       " Data(x=[94, 1000], edge_index=[2, 188]),\n",
       " Data(x=[94, 1000], edge_index=[2, 188]),\n",
       " Data(x=[94, 1000], edge_index=[2, 188]),\n",
       " Data(x=[94, 1000], edge_index=[2, 188]),\n",
       " Data(x=[66, 1000], edge_index=[2, 130]),\n",
       " Data(x=[66, 1000], edge_index=[2, 130]),\n",
       " Data(x=[66, 1000], edge_index=[2, 130]),\n",
       " Data(x=[66, 1000], edge_index=[2, 130]),\n",
       " Data(x=[66, 1000], edge_index=[2, 130]),\n",
       " Data(x=[66, 1000], edge_index=[2, 130]),\n",
       " Data(x=[66, 1000], edge_index=[2, 130]),\n",
       " Data(x=[66, 1000], edge_index=[2, 130]),\n",
       " Data(x=[66, 1000], edge_index=[2, 130]),\n",
       " Data(x=[66, 1000], edge_index=[2, 130]),\n",
       " Data(x=[66, 1000], edge_index=[2, 130]),\n",
       " Data(x=[66, 1000], edge_index=[2, 130]),\n",
       " Data(x=[91, 1000], edge_index=[2, 182]),\n",
       " Data(x=[91, 1000], edge_index=[2, 182]),\n",
       " Data(x=[91, 1000], edge_index=[2, 182]),\n",
       " Data(x=[91, 1000], edge_index=[2, 182]),\n",
       " Data(x=[91, 1000], edge_index=[2, 182]),\n",
       " Data(x=[91, 1000], edge_index=[2, 182]),\n",
       " Data(x=[91, 1000], edge_index=[2, 182]),\n",
       " Data(x=[91, 1000], edge_index=[2, 182]),\n",
       " Data(x=[91, 1000], edge_index=[2, 182]),\n",
       " Data(x=[91, 1000], edge_index=[2, 182]),\n",
       " Data(x=[91, 1000], edge_index=[2, 182]),\n",
       " Data(x=[91, 1000], edge_index=[2, 182]),\n",
       " Data(x=[19, 1000], edge_index=[2, 34]),\n",
       " Data(x=[19, 1000], edge_index=[2, 34]),\n",
       " Data(x=[19, 1000], edge_index=[2, 34]),\n",
       " Data(x=[19, 1000], edge_index=[2, 34]),\n",
       " Data(x=[19, 1000], edge_index=[2, 34]),\n",
       " Data(x=[19, 1000], edge_index=[2, 34]),\n",
       " Data(x=[19, 1000], edge_index=[2, 34]),\n",
       " Data(x=[19, 1000], edge_index=[2, 34]),\n",
       " Data(x=[19, 1000], edge_index=[2, 34]),\n",
       " Data(x=[19, 1000], edge_index=[2, 34]),\n",
       " Data(x=[19, 1000], edge_index=[2, 34]),\n",
       " Data(x=[19, 1000], edge_index=[2, 34]),\n",
       " Data(x=[88, 1000], edge_index=[2, 176]),\n",
       " Data(x=[88, 1000], edge_index=[2, 176]),\n",
       " Data(x=[88, 1000], edge_index=[2, 176]),\n",
       " Data(x=[88, 1000], edge_index=[2, 176]),\n",
       " Data(x=[88, 1000], edge_index=[2, 176]),\n",
       " Data(x=[88, 1000], edge_index=[2, 176]),\n",
       " Data(x=[88, 1000], edge_index=[2, 176]),\n",
       " Data(x=[88, 1000], edge_index=[2, 176]),\n",
       " Data(x=[88, 1000], edge_index=[2, 176]),\n",
       " Data(x=[88, 1000], edge_index=[2, 176]),\n",
       " Data(x=[88, 1000], edge_index=[2, 176]),\n",
       " Data(x=[88, 1000], edge_index=[2, 176]),\n",
       " Data(x=[57, 1000], edge_index=[2, 114]),\n",
       " Data(x=[57, 1000], edge_index=[2, 114]),\n",
       " Data(x=[57, 1000], edge_index=[2, 114]),\n",
       " Data(x=[57, 1000], edge_index=[2, 114]),\n",
       " Data(x=[57, 1000], edge_index=[2, 114]),\n",
       " Data(x=[57, 1000], edge_index=[2, 114]),\n",
       " Data(x=[57, 1000], edge_index=[2, 114]),\n",
       " Data(x=[57, 1000], edge_index=[2, 114]),\n",
       " Data(x=[57, 1000], edge_index=[2, 114]),\n",
       " Data(x=[57, 1000], edge_index=[2, 114]),\n",
       " Data(x=[57, 1000], edge_index=[2, 114]),\n",
       " Data(x=[57, 1000], edge_index=[2, 114]),\n",
       " Data(x=[66, 1000], edge_index=[2, 132]),\n",
       " Data(x=[66, 1000], edge_index=[2, 132]),\n",
       " Data(x=[66, 1000], edge_index=[2, 132]),\n",
       " Data(x=[66, 1000], edge_index=[2, 132]),\n",
       " Data(x=[66, 1000], edge_index=[2, 132]),\n",
       " Data(x=[66, 1000], edge_index=[2, 132]),\n",
       " Data(x=[66, 1000], edge_index=[2, 132]),\n",
       " Data(x=[66, 1000], edge_index=[2, 132]),\n",
       " Data(x=[66, 1000], edge_index=[2, 132]),\n",
       " Data(x=[66, 1000], edge_index=[2, 132]),\n",
       " Data(x=[66, 1000], edge_index=[2, 132]),\n",
       " Data(x=[66, 1000], edge_index=[2, 132]),\n",
       " Data(x=[47, 1000], edge_index=[2, 92]),\n",
       " Data(x=[47, 1000], edge_index=[2, 92]),\n",
       " Data(x=[47, 1000], edge_index=[2, 92]),\n",
       " Data(x=[47, 1000], edge_index=[2, 92]),\n",
       " Data(x=[47, 1000], edge_index=[2, 92]),\n",
       " Data(x=[47, 1000], edge_index=[2, 92]),\n",
       " Data(x=[47, 1000], edge_index=[2, 92]),\n",
       " Data(x=[47, 1000], edge_index=[2, 92]),\n",
       " Data(x=[47, 1000], edge_index=[2, 92]),\n",
       " Data(x=[47, 1000], edge_index=[2, 92]),\n",
       " Data(x=[47, 1000], edge_index=[2, 92]),\n",
       " Data(x=[47, 1000], edge_index=[2, 92]),\n",
       " Data(x=[113, 1000], edge_index=[2, 226]),\n",
       " Data(x=[113, 1000], edge_index=[2, 226]),\n",
       " Data(x=[113, 1000], edge_index=[2, 226]),\n",
       " Data(x=[113, 1000], edge_index=[2, 226]),\n",
       " Data(x=[113, 1000], edge_index=[2, 226]),\n",
       " Data(x=[113, 1000], edge_index=[2, 226]),\n",
       " Data(x=[113, 1000], edge_index=[2, 226]),\n",
       " Data(x=[113, 1000], edge_index=[2, 226]),\n",
       " Data(x=[113, 1000], edge_index=[2, 226]),\n",
       " Data(x=[113, 1000], edge_index=[2, 226]),\n",
       " Data(x=[113, 1000], edge_index=[2, 226]),\n",
       " Data(x=[113, 1000], edge_index=[2, 226]),\n",
       " Data(x=[68, 1000], edge_index=[2, 134]),\n",
       " Data(x=[68, 1000], edge_index=[2, 134]),\n",
       " Data(x=[68, 1000], edge_index=[2, 134]),\n",
       " Data(x=[68, 1000], edge_index=[2, 134]),\n",
       " Data(x=[68, 1000], edge_index=[2, 134]),\n",
       " Data(x=[68, 1000], edge_index=[2, 134]),\n",
       " Data(x=[68, 1000], edge_index=[2, 134]),\n",
       " Data(x=[68, 1000], edge_index=[2, 134]),\n",
       " Data(x=[68, 1000], edge_index=[2, 134]),\n",
       " Data(x=[68, 1000], edge_index=[2, 134]),\n",
       " Data(x=[68, 1000], edge_index=[2, 134]),\n",
       " Data(x=[68, 1000], edge_index=[2, 134]),\n",
       " Data(x=[99, 1000], edge_index=[2, 198]),\n",
       " Data(x=[99, 1000], edge_index=[2, 198]),\n",
       " Data(x=[99, 1000], edge_index=[2, 198]),\n",
       " Data(x=[99, 1000], edge_index=[2, 198]),\n",
       " Data(x=[99, 1000], edge_index=[2, 198]),\n",
       " Data(x=[99, 1000], edge_index=[2, 198]),\n",
       " Data(x=[99, 1000], edge_index=[2, 198]),\n",
       " Data(x=[99, 1000], edge_index=[2, 198]),\n",
       " Data(x=[99, 1000], edge_index=[2, 198]),\n",
       " Data(x=[99, 1000], edge_index=[2, 198]),\n",
       " Data(x=[99, 1000], edge_index=[2, 198]),\n",
       " Data(x=[99, 1000], edge_index=[2, 198]),\n",
       " Data(x=[59, 1000], edge_index=[2, 118]),\n",
       " Data(x=[59, 1000], edge_index=[2, 118]),\n",
       " Data(x=[59, 1000], edge_index=[2, 118]),\n",
       " Data(x=[59, 1000], edge_index=[2, 118]),\n",
       " Data(x=[59, 1000], edge_index=[2, 118]),\n",
       " Data(x=[59, 1000], edge_index=[2, 118]),\n",
       " Data(x=[59, 1000], edge_index=[2, 118]),\n",
       " Data(x=[59, 1000], edge_index=[2, 118]),\n",
       " Data(x=[59, 1000], edge_index=[2, 118]),\n",
       " Data(x=[59, 1000], edge_index=[2, 118]),\n",
       " Data(x=[59, 1000], edge_index=[2, 118]),\n",
       " Data(x=[59, 1000], edge_index=[2, 118]),\n",
       " Data(x=[94, 1000], edge_index=[2, 190]),\n",
       " Data(x=[94, 1000], edge_index=[2, 190]),\n",
       " Data(x=[94, 1000], edge_index=[2, 190]),\n",
       " Data(x=[94, 1000], edge_index=[2, 190]),\n",
       " Data(x=[94, 1000], edge_index=[2, 190]),\n",
       " Data(x=[94, 1000], edge_index=[2, 190]),\n",
       " Data(x=[94, 1000], edge_index=[2, 190]),\n",
       " Data(x=[94, 1000], edge_index=[2, 190]),\n",
       " Data(x=[94, 1000], edge_index=[2, 190]),\n",
       " Data(x=[94, 1000], edge_index=[2, 190]),\n",
       " Data(x=[94, 1000], edge_index=[2, 190]),\n",
       " Data(x=[94, 1000], edge_index=[2, 190]),\n",
       " Data(x=[91, 1000], edge_index=[2, 182]),\n",
       " Data(x=[91, 1000], edge_index=[2, 182]),\n",
       " Data(x=[91, 1000], edge_index=[2, 182]),\n",
       " Data(x=[91, 1000], edge_index=[2, 182]),\n",
       " Data(x=[91, 1000], edge_index=[2, 182]),\n",
       " Data(x=[91, 1000], edge_index=[2, 182]),\n",
       " Data(x=[91, 1000], edge_index=[2, 182]),\n",
       " Data(x=[91, 1000], edge_index=[2, 182]),\n",
       " Data(x=[91, 1000], edge_index=[2, 182]),\n",
       " Data(x=[91, 1000], edge_index=[2, 182]),\n",
       " Data(x=[91, 1000], edge_index=[2, 182]),\n",
       " Data(x=[91, 1000], edge_index=[2, 182]),\n",
       " Data(x=[24, 1000], edge_index=[2, 44]),\n",
       " Data(x=[24, 1000], edge_index=[2, 44]),\n",
       " Data(x=[24, 1000], edge_index=[2, 44]),\n",
       " Data(x=[24, 1000], edge_index=[2, 44]),\n",
       " Data(x=[24, 1000], edge_index=[2, 44]),\n",
       " Data(x=[24, 1000], edge_index=[2, 44]),\n",
       " Data(x=[24, 1000], edge_index=[2, 44]),\n",
       " Data(x=[24, 1000], edge_index=[2, 44]),\n",
       " Data(x=[24, 1000], edge_index=[2, 44]),\n",
       " Data(x=[24, 1000], edge_index=[2, 44]),\n",
       " Data(x=[24, 1000], edge_index=[2, 44]),\n",
       " Data(x=[24, 1000], edge_index=[2, 44]),\n",
       " Data(x=[77, 1000], edge_index=[2, 154]),\n",
       " Data(x=[77, 1000], edge_index=[2, 154]),\n",
       " Data(x=[77, 1000], edge_index=[2, 154]),\n",
       " Data(x=[77, 1000], edge_index=[2, 154]),\n",
       " Data(x=[77, 1000], edge_index=[2, 154]),\n",
       " Data(x=[77, 1000], edge_index=[2, 154]),\n",
       " Data(x=[77, 1000], edge_index=[2, 154]),\n",
       " Data(x=[77, 1000], edge_index=[2, 154]),\n",
       " Data(x=[77, 1000], edge_index=[2, 154]),\n",
       " Data(x=[77, 1000], edge_index=[2, 154]),\n",
       " Data(x=[77, 1000], edge_index=[2, 154]),\n",
       " Data(x=[77, 1000], edge_index=[2, 154]),\n",
       " Data(x=[79, 1000], edge_index=[2, 158]),\n",
       " Data(x=[79, 1000], edge_index=[2, 158]),\n",
       " Data(x=[79, 1000], edge_index=[2, 158]),\n",
       " Data(x=[79, 1000], edge_index=[2, 158]),\n",
       " Data(x=[79, 1000], edge_index=[2, 158]),\n",
       " Data(x=[79, 1000], edge_index=[2, 158]),\n",
       " Data(x=[79, 1000], edge_index=[2, 158]),\n",
       " Data(x=[79, 1000], edge_index=[2, 158]),\n",
       " Data(x=[79, 1000], edge_index=[2, 158]),\n",
       " Data(x=[79, 1000], edge_index=[2, 158]),\n",
       " Data(x=[79, 1000], edge_index=[2, 158]),\n",
       " Data(x=[79, 1000], edge_index=[2, 158]),\n",
       " Data(x=[88, 1000], edge_index=[2, 176]),\n",
       " Data(x=[88, 1000], edge_index=[2, 176]),\n",
       " Data(x=[88, 1000], edge_index=[2, 176]),\n",
       " Data(x=[88, 1000], edge_index=[2, 176]),\n",
       " Data(x=[88, 1000], edge_index=[2, 176]),\n",
       " Data(x=[88, 1000], edge_index=[2, 176]),\n",
       " Data(x=[88, 1000], edge_index=[2, 176]),\n",
       " Data(x=[88, 1000], edge_index=[2, 176]),\n",
       " Data(x=[88, 1000], edge_index=[2, 176]),\n",
       " Data(x=[88, 1000], edge_index=[2, 176]),\n",
       " Data(x=[88, 1000], edge_index=[2, 176]),\n",
       " Data(x=[88, 1000], edge_index=[2, 176]),\n",
       " Data(x=[71, 1000], edge_index=[2, 138]),\n",
       " Data(x=[71, 1000], edge_index=[2, 138]),\n",
       " Data(x=[71, 1000], edge_index=[2, 138]),\n",
       " Data(x=[71, 1000], edge_index=[2, 138]),\n",
       " Data(x=[71, 1000], edge_index=[2, 138]),\n",
       " Data(x=[71, 1000], edge_index=[2, 138]),\n",
       " Data(x=[71, 1000], edge_index=[2, 138]),\n",
       " Data(x=[71, 1000], edge_index=[2, 138]),\n",
       " Data(x=[71, 1000], edge_index=[2, 138]),\n",
       " Data(x=[71, 1000], edge_index=[2, 138]),\n",
       " Data(x=[71, 1000], edge_index=[2, 138]),\n",
       " Data(x=[71, 1000], edge_index=[2, 138]),\n",
       " Data(x=[79, 1000], edge_index=[2, 162]),\n",
       " Data(x=[79, 1000], edge_index=[2, 162]),\n",
       " Data(x=[79, 1000], edge_index=[2, 162]),\n",
       " Data(x=[79, 1000], edge_index=[2, 162]),\n",
       " Data(x=[79, 1000], edge_index=[2, 162]),\n",
       " Data(x=[79, 1000], edge_index=[2, 162]),\n",
       " Data(x=[79, 1000], edge_index=[2, 162]),\n",
       " Data(x=[79, 1000], edge_index=[2, 162]),\n",
       " Data(x=[79, 1000], edge_index=[2, 162]),\n",
       " Data(x=[79, 1000], edge_index=[2, 162]),\n",
       " Data(x=[79, 1000], edge_index=[2, 162]),\n",
       " Data(x=[79, 1000], edge_index=[2, 162]),\n",
       " Data(x=[71, 1000], edge_index=[2, 140]),\n",
       " Data(x=[71, 1000], edge_index=[2, 140]),\n",
       " Data(x=[71, 1000], edge_index=[2, 140]),\n",
       " Data(x=[71, 1000], edge_index=[2, 140]),\n",
       " Data(x=[71, 1000], edge_index=[2, 140]),\n",
       " Data(x=[71, 1000], edge_index=[2, 140]),\n",
       " Data(x=[71, 1000], edge_index=[2, 140]),\n",
       " Data(x=[71, 1000], edge_index=[2, 140]),\n",
       " Data(x=[71, 1000], edge_index=[2, 140]),\n",
       " Data(x=[71, 1000], edge_index=[2, 140]),\n",
       " Data(x=[71, 1000], edge_index=[2, 140]),\n",
       " Data(x=[71, 1000], edge_index=[2, 140]),\n",
       " Data(x=[15, 1000], edge_index=[2, 28]),\n",
       " Data(x=[15, 1000], edge_index=[2, 28]),\n",
       " Data(x=[15, 1000], edge_index=[2, 28]),\n",
       " Data(x=[15, 1000], edge_index=[2, 28]),\n",
       " Data(x=[15, 1000], edge_index=[2, 28]),\n",
       " Data(x=[15, 1000], edge_index=[2, 28]),\n",
       " Data(x=[15, 1000], edge_index=[2, 28]),\n",
       " Data(x=[15, 1000], edge_index=[2, 28]),\n",
       " Data(x=[15, 1000], edge_index=[2, 28]),\n",
       " Data(x=[15, 1000], edge_index=[2, 28]),\n",
       " Data(x=[15, 1000], edge_index=[2, 28]),\n",
       " Data(x=[15, 1000], edge_index=[2, 28]),\n",
       " Data(x=[99, 1000], edge_index=[2, 196]),\n",
       " Data(x=[99, 1000], edge_index=[2, 196]),\n",
       " Data(x=[99, 1000], edge_index=[2, 196]),\n",
       " Data(x=[99, 1000], edge_index=[2, 196]),\n",
       " Data(x=[99, 1000], edge_index=[2, 196]),\n",
       " Data(x=[99, 1000], edge_index=[2, 196]),\n",
       " Data(x=[99, 1000], edge_index=[2, 196]),\n",
       " Data(x=[99, 1000], edge_index=[2, 196]),\n",
       " Data(x=[99, 1000], edge_index=[2, 196]),\n",
       " Data(x=[99, 1000], edge_index=[2, 196]),\n",
       " Data(x=[99, 1000], edge_index=[2, 196]),\n",
       " Data(x=[99, 1000], edge_index=[2, 196]),\n",
       " Data(x=[49, 1000], edge_index=[2, 96]),\n",
       " Data(x=[49, 1000], edge_index=[2, 96]),\n",
       " Data(x=[49, 1000], edge_index=[2, 96]),\n",
       " Data(x=[49, 1000], edge_index=[2, 96]),\n",
       " Data(x=[49, 1000], edge_index=[2, 96]),\n",
       " Data(x=[49, 1000], edge_index=[2, 96]),\n",
       " Data(x=[49, 1000], edge_index=[2, 96]),\n",
       " Data(x=[49, 1000], edge_index=[2, 96]),\n",
       " Data(x=[49, 1000], edge_index=[2, 96]),\n",
       " Data(x=[49, 1000], edge_index=[2, 96]),\n",
       " Data(x=[49, 1000], edge_index=[2, 96]),\n",
       " Data(x=[49, 1000], edge_index=[2, 96]),\n",
       " Data(x=[46, 1000], edge_index=[2, 92]),\n",
       " Data(x=[46, 1000], edge_index=[2, 92]),\n",
       " Data(x=[46, 1000], edge_index=[2, 92]),\n",
       " Data(x=[46, 1000], edge_index=[2, 92]),\n",
       " Data(x=[46, 1000], edge_index=[2, 92]),\n",
       " Data(x=[46, 1000], edge_index=[2, 92]),\n",
       " Data(x=[46, 1000], edge_index=[2, 92]),\n",
       " Data(x=[46, 1000], edge_index=[2, 92]),\n",
       " Data(x=[46, 1000], edge_index=[2, 92]),\n",
       " Data(x=[46, 1000], edge_index=[2, 92]),\n",
       " Data(x=[46, 1000], edge_index=[2, 92]),\n",
       " Data(x=[46, 1000], edge_index=[2, 92]),\n",
       " Data(x=[89, 1000], edge_index=[2, 178]),\n",
       " Data(x=[89, 1000], edge_index=[2, 178]),\n",
       " Data(x=[89, 1000], edge_index=[2, 178]),\n",
       " Data(x=[89, 1000], edge_index=[2, 178]),\n",
       " Data(x=[89, 1000], edge_index=[2, 178]),\n",
       " Data(x=[89, 1000], edge_index=[2, 178]),\n",
       " Data(x=[89, 1000], edge_index=[2, 178]),\n",
       " Data(x=[89, 1000], edge_index=[2, 178]),\n",
       " Data(x=[89, 1000], edge_index=[2, 178]),\n",
       " Data(x=[89, 1000], edge_index=[2, 178]),\n",
       " Data(x=[89, 1000], edge_index=[2, 178]),\n",
       " Data(x=[89, 1000], edge_index=[2, 178]),\n",
       " Data(x=[79, 1000], edge_index=[2, 160]),\n",
       " Data(x=[79, 1000], edge_index=[2, 160]),\n",
       " Data(x=[79, 1000], edge_index=[2, 160]),\n",
       " Data(x=[79, 1000], edge_index=[2, 160]),\n",
       " Data(x=[79, 1000], edge_index=[2, 160]),\n",
       " Data(x=[79, 1000], edge_index=[2, 160]),\n",
       " Data(x=[79, 1000], edge_index=[2, 160]),\n",
       " Data(x=[79, 1000], edge_index=[2, 160]),\n",
       " Data(x=[79, 1000], edge_index=[2, 160]),\n",
       " Data(x=[79, 1000], edge_index=[2, 160]),\n",
       " Data(x=[79, 1000], edge_index=[2, 160]),\n",
       " Data(x=[79, 1000], edge_index=[2, 160]),\n",
       " Data(x=[64, 1000], edge_index=[2, 126]),\n",
       " Data(x=[64, 1000], edge_index=[2, 126]),\n",
       " Data(x=[64, 1000], edge_index=[2, 126]),\n",
       " Data(x=[64, 1000], edge_index=[2, 126]),\n",
       " Data(x=[64, 1000], edge_index=[2, 126]),\n",
       " Data(x=[64, 1000], edge_index=[2, 126]),\n",
       " Data(x=[64, 1000], edge_index=[2, 126]),\n",
       " Data(x=[64, 1000], edge_index=[2, 126]),\n",
       " Data(x=[64, 1000], edge_index=[2, 126]),\n",
       " Data(x=[64, 1000], edge_index=[2, 126]),\n",
       " Data(x=[64, 1000], edge_index=[2, 126]),\n",
       " Data(x=[64, 1000], edge_index=[2, 126]),\n",
       " Data(x=[78, 1000], edge_index=[2, 156]),\n",
       " Data(x=[78, 1000], edge_index=[2, 156]),\n",
       " Data(x=[78, 1000], edge_index=[2, 156]),\n",
       " Data(x=[78, 1000], edge_index=[2, 156]),\n",
       " Data(x=[78, 1000], edge_index=[2, 156]),\n",
       " Data(x=[78, 1000], edge_index=[2, 156]),\n",
       " Data(x=[78, 1000], edge_index=[2, 156]),\n",
       " Data(x=[78, 1000], edge_index=[2, 156]),\n",
       " Data(x=[78, 1000], edge_index=[2, 156]),\n",
       " Data(x=[78, 1000], edge_index=[2, 156]),\n",
       " Data(x=[78, 1000], edge_index=[2, 156]),\n",
       " Data(x=[78, 1000], edge_index=[2, 156]),\n",
       " Data(x=[93, 1000], edge_index=[2, 184]),\n",
       " Data(x=[93, 1000], edge_index=[2, 184]),\n",
       " Data(x=[93, 1000], edge_index=[2, 184]),\n",
       " Data(x=[93, 1000], edge_index=[2, 184]),\n",
       " Data(x=[93, 1000], edge_index=[2, 184]),\n",
       " Data(x=[93, 1000], edge_index=[2, 184]),\n",
       " Data(x=[93, 1000], edge_index=[2, 184]),\n",
       " Data(x=[93, 1000], edge_index=[2, 184]),\n",
       " Data(x=[93, 1000], edge_index=[2, 184]),\n",
       " Data(x=[93, 1000], edge_index=[2, 184]),\n",
       " Data(x=[93, 1000], edge_index=[2, 184]),\n",
       " Data(x=[93, 1000], edge_index=[2, 184]),\n",
       " Data(x=[42, 1000], edge_index=[2, 82]),\n",
       " Data(x=[42, 1000], edge_index=[2, 82]),\n",
       " Data(x=[42, 1000], edge_index=[2, 82]),\n",
       " Data(x=[42, 1000], edge_index=[2, 82]),\n",
       " Data(x=[42, 1000], edge_index=[2, 82]),\n",
       " Data(x=[42, 1000], edge_index=[2, 82]),\n",
       " Data(x=[42, 1000], edge_index=[2, 82]),\n",
       " Data(x=[42, 1000], edge_index=[2, 82]),\n",
       " Data(x=[42, 1000], edge_index=[2, 82]),\n",
       " Data(x=[42, 1000], edge_index=[2, 82]),\n",
       " Data(x=[42, 1000], edge_index=[2, 82]),\n",
       " Data(x=[42, 1000], edge_index=[2, 82]),\n",
       " Data(x=[79, 1000], edge_index=[2, 158]),\n",
       " Data(x=[79, 1000], edge_index=[2, 158]),\n",
       " Data(x=[79, 1000], edge_index=[2, 158]),\n",
       " Data(x=[79, 1000], edge_index=[2, 158]),\n",
       " Data(x=[79, 1000], edge_index=[2, 158]),\n",
       " Data(x=[79, 1000], edge_index=[2, 158]),\n",
       " Data(x=[79, 1000], edge_index=[2, 158]),\n",
       " Data(x=[79, 1000], edge_index=[2, 158]),\n",
       " Data(x=[79, 1000], edge_index=[2, 158]),\n",
       " Data(x=[79, 1000], edge_index=[2, 158]),\n",
       " Data(x=[79, 1000], edge_index=[2, 158]),\n",
       " Data(x=[79, 1000], edge_index=[2, 158]),\n",
       " Data(x=[50, 1000], edge_index=[2, 98]),\n",
       " Data(x=[50, 1000], edge_index=[2, 98]),\n",
       " Data(x=[50, 1000], edge_index=[2, 98]),\n",
       " Data(x=[50, 1000], edge_index=[2, 98]),\n",
       " Data(x=[50, 1000], edge_index=[2, 98]),\n",
       " Data(x=[50, 1000], edge_index=[2, 98]),\n",
       " Data(x=[50, 1000], edge_index=[2, 98]),\n",
       " Data(x=[50, 1000], edge_index=[2, 98]),\n",
       " Data(x=[50, 1000], edge_index=[2, 98]),\n",
       " Data(x=[50, 1000], edge_index=[2, 98]),\n",
       " Data(x=[50, 1000], edge_index=[2, 98]),\n",
       " Data(x=[50, 1000], edge_index=[2, 98]),\n",
       " Data(x=[41, 1000], edge_index=[2, 80]),\n",
       " Data(x=[41, 1000], edge_index=[2, 80]),\n",
       " Data(x=[41, 1000], edge_index=[2, 80]),\n",
       " Data(x=[41, 1000], edge_index=[2, 80]),\n",
       " Data(x=[41, 1000], edge_index=[2, 80]),\n",
       " Data(x=[41, 1000], edge_index=[2, 80]),\n",
       " Data(x=[41, 1000], edge_index=[2, 80]),\n",
       " Data(x=[41, 1000], edge_index=[2, 80]),\n",
       " Data(x=[41, 1000], edge_index=[2, 80]),\n",
       " Data(x=[41, 1000], edge_index=[2, 80]),\n",
       " Data(x=[41, 1000], edge_index=[2, 80]),\n",
       " Data(x=[41, 1000], edge_index=[2, 80]),\n",
       " Data(x=[93, 1000], edge_index=[2, 184]),\n",
       " Data(x=[93, 1000], edge_index=[2, 184]),\n",
       " Data(x=[93, 1000], edge_index=[2, 184]),\n",
       " Data(x=[93, 1000], edge_index=[2, 184]),\n",
       " Data(x=[93, 1000], edge_index=[2, 184]),\n",
       " Data(x=[93, 1000], edge_index=[2, 184]),\n",
       " Data(x=[93, 1000], edge_index=[2, 184]),\n",
       " Data(x=[93, 1000], edge_index=[2, 184]),\n",
       " Data(x=[93, 1000], edge_index=[2, 184]),\n",
       " Data(x=[93, 1000], edge_index=[2, 184]),\n",
       " Data(x=[93, 1000], edge_index=[2, 184]),\n",
       " Data(x=[93, 1000], edge_index=[2, 184]),\n",
       " Data(x=[89, 1000], edge_index=[2, 178]),\n",
       " Data(x=[89, 1000], edge_index=[2, 178]),\n",
       " Data(x=[89, 1000], edge_index=[2, 178]),\n",
       " Data(x=[89, 1000], edge_index=[2, 178]),\n",
       " Data(x=[89, 1000], edge_index=[2, 178]),\n",
       " Data(x=[89, 1000], edge_index=[2, 178]),\n",
       " Data(x=[89, 1000], edge_index=[2, 178]),\n",
       " Data(x=[89, 1000], edge_index=[2, 178]),\n",
       " Data(x=[89, 1000], edge_index=[2, 178]),\n",
       " Data(x=[89, 1000], edge_index=[2, 178]),\n",
       " Data(x=[89, 1000], edge_index=[2, 178]),\n",
       " Data(x=[89, 1000], edge_index=[2, 178]),\n",
       " Data(x=[94, 1000], edge_index=[2, 188]),\n",
       " Data(x=[94, 1000], edge_index=[2, 188]),\n",
       " Data(x=[94, 1000], edge_index=[2, 188]),\n",
       " Data(x=[94, 1000], edge_index=[2, 188]),\n",
       " Data(x=[94, 1000], edge_index=[2, 188]),\n",
       " Data(x=[94, 1000], edge_index=[2, 188]),\n",
       " Data(x=[94, 1000], edge_index=[2, 188]),\n",
       " Data(x=[94, 1000], edge_index=[2, 188]),\n",
       " Data(x=[94, 1000], edge_index=[2, 188]),\n",
       " Data(x=[94, 1000], edge_index=[2, 188]),\n",
       " Data(x=[94, 1000], edge_index=[2, 188]),\n",
       " Data(x=[94, 1000], edge_index=[2, 188]),\n",
       " Data(x=[60, 1000], edge_index=[2, 120]),\n",
       " Data(x=[60, 1000], edge_index=[2, 120]),\n",
       " Data(x=[60, 1000], edge_index=[2, 120]),\n",
       " Data(x=[60, 1000], edge_index=[2, 120]),\n",
       " Data(x=[60, 1000], edge_index=[2, 120]),\n",
       " Data(x=[60, 1000], edge_index=[2, 120]),\n",
       " Data(x=[60, 1000], edge_index=[2, 120]),\n",
       " Data(x=[60, 1000], edge_index=[2, 120]),\n",
       " Data(x=[60, 1000], edge_index=[2, 120]),\n",
       " Data(x=[60, 1000], edge_index=[2, 120]),\n",
       " Data(x=[60, 1000], edge_index=[2, 120]),\n",
       " Data(x=[60, 1000], edge_index=[2, 120]),\n",
       " Data(x=[68, 1000], edge_index=[2, 134]),\n",
       " Data(x=[68, 1000], edge_index=[2, 134]),\n",
       " Data(x=[68, 1000], edge_index=[2, 134]),\n",
       " Data(x=[68, 1000], edge_index=[2, 134]),\n",
       " Data(x=[68, 1000], edge_index=[2, 134]),\n",
       " Data(x=[68, 1000], edge_index=[2, 134]),\n",
       " Data(x=[68, 1000], edge_index=[2, 134]),\n",
       " Data(x=[68, 1000], edge_index=[2, 134]),\n",
       " Data(x=[68, 1000], edge_index=[2, 134]),\n",
       " Data(x=[68, 1000], edge_index=[2, 134]),\n",
       " Data(x=[68, 1000], edge_index=[2, 134]),\n",
       " Data(x=[68, 1000], edge_index=[2, 134]),\n",
       " Data(x=[89, 1000], edge_index=[2, 178]),\n",
       " Data(x=[89, 1000], edge_index=[2, 178]),\n",
       " Data(x=[89, 1000], edge_index=[2, 178]),\n",
       " Data(x=[89, 1000], edge_index=[2, 178]),\n",
       " Data(x=[89, 1000], edge_index=[2, 178]),\n",
       " Data(x=[89, 1000], edge_index=[2, 178]),\n",
       " Data(x=[89, 1000], edge_index=[2, 178]),\n",
       " Data(x=[89, 1000], edge_index=[2, 178]),\n",
       " Data(x=[89, 1000], edge_index=[2, 178]),\n",
       " Data(x=[89, 1000], edge_index=[2, 178]),\n",
       " Data(x=[89, 1000], edge_index=[2, 178]),\n",
       " Data(x=[89, 1000], edge_index=[2, 178]),\n",
       " Data(x=[95, 1000], edge_index=[2, 190]),\n",
       " Data(x=[95, 1000], edge_index=[2, 190]),\n",
       " Data(x=[95, 1000], edge_index=[2, 190]),\n",
       " Data(x=[95, 1000], edge_index=[2, 190]),\n",
       " Data(x=[95, 1000], edge_index=[2, 190]),\n",
       " Data(x=[95, 1000], edge_index=[2, 190]),\n",
       " Data(x=[95, 1000], edge_index=[2, 190]),\n",
       " Data(x=[95, 1000], edge_index=[2, 190]),\n",
       " Data(x=[95, 1000], edge_index=[2, 190]),\n",
       " Data(x=[95, 1000], edge_index=[2, 190]),\n",
       " Data(x=[95, 1000], edge_index=[2, 190]),\n",
       " Data(x=[95, 1000], edge_index=[2, 190]),\n",
       " Data(x=[54, 1000], edge_index=[2, 106]),\n",
       " Data(x=[54, 1000], edge_index=[2, 106]),\n",
       " Data(x=[54, 1000], edge_index=[2, 106]),\n",
       " Data(x=[54, 1000], edge_index=[2, 106]),\n",
       " Data(x=[54, 1000], edge_index=[2, 106]),\n",
       " Data(x=[54, 1000], edge_index=[2, 106]),\n",
       " Data(x=[54, 1000], edge_index=[2, 106]),\n",
       " Data(x=[54, 1000], edge_index=[2, 106]),\n",
       " Data(x=[54, 1000], edge_index=[2, 106]),\n",
       " Data(x=[54, 1000], edge_index=[2, 106]),\n",
       " Data(x=[54, 1000], edge_index=[2, 106]),\n",
       " Data(x=[54, 1000], edge_index=[2, 106]),\n",
       " Data(x=[45, 1000], edge_index=[2, 88]),\n",
       " Data(x=[45, 1000], edge_index=[2, 88]),\n",
       " Data(x=[45, 1000], edge_index=[2, 88]),\n",
       " Data(x=[45, 1000], edge_index=[2, 88]),\n",
       " Data(x=[45, 1000], edge_index=[2, 88]),\n",
       " Data(x=[45, 1000], edge_index=[2, 88]),\n",
       " Data(x=[45, 1000], edge_index=[2, 88]),\n",
       " Data(x=[45, 1000], edge_index=[2, 88]),\n",
       " Data(x=[45, 1000], edge_index=[2, 88]),\n",
       " Data(x=[45, 1000], edge_index=[2, 88]),\n",
       " Data(x=[45, 1000], edge_index=[2, 88]),\n",
       " Data(x=[45, 1000], edge_index=[2, 88]),\n",
       " Data(x=[144, 1000], edge_index=[2, 290]),\n",
       " Data(x=[144, 1000], edge_index=[2, 290]),\n",
       " Data(x=[144, 1000], edge_index=[2, 290]),\n",
       " Data(x=[144, 1000], edge_index=[2, 290]),\n",
       " Data(x=[144, 1000], edge_index=[2, 290]),\n",
       " Data(x=[144, 1000], edge_index=[2, 290]),\n",
       " Data(x=[144, 1000], edge_index=[2, 290]),\n",
       " Data(x=[144, 1000], edge_index=[2, 290]),\n",
       " Data(x=[144, 1000], edge_index=[2, 290]),\n",
       " Data(x=[144, 1000], edge_index=[2, 290]),\n",
       " Data(x=[144, 1000], edge_index=[2, 290]),\n",
       " Data(x=[144, 1000], edge_index=[2, 290]),\n",
       " Data(x=[99, 1000], edge_index=[2, 198]),\n",
       " Data(x=[99, 1000], edge_index=[2, 198]),\n",
       " Data(x=[99, 1000], edge_index=[2, 198]),\n",
       " Data(x=[99, 1000], edge_index=[2, 198]),\n",
       " Data(x=[99, 1000], edge_index=[2, 198]),\n",
       " Data(x=[99, 1000], edge_index=[2, 198]),\n",
       " Data(x=[99, 1000], edge_index=[2, 198]),\n",
       " Data(x=[99, 1000], edge_index=[2, 198]),\n",
       " Data(x=[99, 1000], edge_index=[2, 198]),\n",
       " Data(x=[99, 1000], edge_index=[2, 198]),\n",
       " Data(x=[99, 1000], edge_index=[2, 198]),\n",
       " Data(x=[99, 1000], edge_index=[2, 198]),\n",
       " Data(x=[94, 1000], edge_index=[2, 188]),\n",
       " Data(x=[94, 1000], edge_index=[2, 188]),\n",
       " Data(x=[94, 1000], edge_index=[2, 188]),\n",
       " Data(x=[94, 1000], edge_index=[2, 188]),\n",
       " Data(x=[94, 1000], edge_index=[2, 188]),\n",
       " Data(x=[94, 1000], edge_index=[2, 188]),\n",
       " Data(x=[94, 1000], edge_index=[2, 188]),\n",
       " Data(x=[94, 1000], edge_index=[2, 188]),\n",
       " Data(x=[94, 1000], edge_index=[2, 188]),\n",
       " Data(x=[94, 1000], edge_index=[2, 188]),\n",
       " Data(x=[94, 1000], edge_index=[2, 188]),\n",
       " Data(x=[94, 1000], edge_index=[2, 188]),\n",
       " Data(x=[101, 1000], edge_index=[2, 196]),\n",
       " Data(x=[101, 1000], edge_index=[2, 196]),\n",
       " Data(x=[101, 1000], edge_index=[2, 196]),\n",
       " Data(x=[101, 1000], edge_index=[2, 196]),\n",
       " ...]"
      ]
     },
     "execution_count": 132,
     "metadata": {},
     "output_type": "execute_result"
    }
   ],
   "source": [
    "batched.dataset"
   ]
  },
  {
   "cell_type": "code",
   "execution_count": 130,
   "id": "8cfd4406",
   "metadata": {},
   "outputs": [
    {
     "ename": "RuntimeError",
     "evalue": "stack expects each tensor to be equal size, but got [2, 190] at entry 0 and [2, 126] at entry 12",
     "output_type": "error",
     "traceback": [
      "\u001b[0;31m---------------------------------------------------------------------------\u001b[0m",
      "\u001b[0;31mRuntimeError\u001b[0m                              Traceback (most recent call last)",
      "\u001b[0;32m<ipython-input-130-ecedf9ecaaa4>\u001b[0m in \u001b[0;36m<module>\u001b[0;34m\u001b[0m\n\u001b[0;32m----> 1\u001b[0;31m \u001b[0mnext\u001b[0m\u001b[0;34m(\u001b[0m\u001b[0miter\u001b[0m\u001b[0;34m(\u001b[0m\u001b[0mbatched\u001b[0m\u001b[0;34m)\u001b[0m\u001b[0;34m)\u001b[0m\u001b[0;34m\u001b[0m\u001b[0;34m\u001b[0m\u001b[0m\n\u001b[0m",
      "\u001b[0;32m~/opt/anaconda3/envs/dbr/lib/python3.6/site-packages/torch/utils/data/dataloader.py\u001b[0m in \u001b[0;36m__next__\u001b[0;34m(self)\u001b[0m\n\u001b[1;32m    519\u001b[0m             \u001b[0;32mif\u001b[0m \u001b[0mself\u001b[0m\u001b[0;34m.\u001b[0m\u001b[0m_sampler_iter\u001b[0m \u001b[0;32mis\u001b[0m \u001b[0;32mNone\u001b[0m\u001b[0;34m:\u001b[0m\u001b[0;34m\u001b[0m\u001b[0;34m\u001b[0m\u001b[0m\n\u001b[1;32m    520\u001b[0m                 \u001b[0mself\u001b[0m\u001b[0;34m.\u001b[0m\u001b[0m_reset\u001b[0m\u001b[0;34m(\u001b[0m\u001b[0;34m)\u001b[0m\u001b[0;34m\u001b[0m\u001b[0;34m\u001b[0m\u001b[0m\n\u001b[0;32m--> 521\u001b[0;31m             \u001b[0mdata\u001b[0m \u001b[0;34m=\u001b[0m \u001b[0mself\u001b[0m\u001b[0;34m.\u001b[0m\u001b[0m_next_data\u001b[0m\u001b[0;34m(\u001b[0m\u001b[0;34m)\u001b[0m\u001b[0;34m\u001b[0m\u001b[0;34m\u001b[0m\u001b[0m\n\u001b[0m\u001b[1;32m    522\u001b[0m             \u001b[0mself\u001b[0m\u001b[0;34m.\u001b[0m\u001b[0m_num_yielded\u001b[0m \u001b[0;34m+=\u001b[0m \u001b[0;36m1\u001b[0m\u001b[0;34m\u001b[0m\u001b[0;34m\u001b[0m\u001b[0m\n\u001b[1;32m    523\u001b[0m             \u001b[0;32mif\u001b[0m \u001b[0mself\u001b[0m\u001b[0;34m.\u001b[0m\u001b[0m_dataset_kind\u001b[0m \u001b[0;34m==\u001b[0m \u001b[0m_DatasetKind\u001b[0m\u001b[0;34m.\u001b[0m\u001b[0mIterable\u001b[0m \u001b[0;32mand\u001b[0m\u001b[0;31m \u001b[0m\u001b[0;31m\\\u001b[0m\u001b[0;34m\u001b[0m\u001b[0;34m\u001b[0m\u001b[0m\n",
      "\u001b[0;32m~/opt/anaconda3/envs/dbr/lib/python3.6/site-packages/torch/utils/data/dataloader.py\u001b[0m in \u001b[0;36m_next_data\u001b[0;34m(self)\u001b[0m\n\u001b[1;32m    559\u001b[0m     \u001b[0;32mdef\u001b[0m \u001b[0m_next_data\u001b[0m\u001b[0;34m(\u001b[0m\u001b[0mself\u001b[0m\u001b[0;34m)\u001b[0m\u001b[0;34m:\u001b[0m\u001b[0;34m\u001b[0m\u001b[0;34m\u001b[0m\u001b[0m\n\u001b[1;32m    560\u001b[0m         \u001b[0mindex\u001b[0m \u001b[0;34m=\u001b[0m \u001b[0mself\u001b[0m\u001b[0;34m.\u001b[0m\u001b[0m_next_index\u001b[0m\u001b[0;34m(\u001b[0m\u001b[0;34m)\u001b[0m  \u001b[0;31m# may raise StopIteration\u001b[0m\u001b[0;34m\u001b[0m\u001b[0;34m\u001b[0m\u001b[0m\n\u001b[0;32m--> 561\u001b[0;31m         \u001b[0mdata\u001b[0m \u001b[0;34m=\u001b[0m \u001b[0mself\u001b[0m\u001b[0;34m.\u001b[0m\u001b[0m_dataset_fetcher\u001b[0m\u001b[0;34m.\u001b[0m\u001b[0mfetch\u001b[0m\u001b[0;34m(\u001b[0m\u001b[0mindex\u001b[0m\u001b[0;34m)\u001b[0m  \u001b[0;31m# may raise StopIteration\u001b[0m\u001b[0;34m\u001b[0m\u001b[0;34m\u001b[0m\u001b[0m\n\u001b[0m\u001b[1;32m    562\u001b[0m         \u001b[0;32mif\u001b[0m \u001b[0mself\u001b[0m\u001b[0;34m.\u001b[0m\u001b[0m_pin_memory\u001b[0m\u001b[0;34m:\u001b[0m\u001b[0;34m\u001b[0m\u001b[0;34m\u001b[0m\u001b[0m\n\u001b[1;32m    563\u001b[0m             \u001b[0mdata\u001b[0m \u001b[0;34m=\u001b[0m \u001b[0m_utils\u001b[0m\u001b[0;34m.\u001b[0m\u001b[0mpin_memory\u001b[0m\u001b[0;34m.\u001b[0m\u001b[0mpin_memory\u001b[0m\u001b[0;34m(\u001b[0m\u001b[0mdata\u001b[0m\u001b[0;34m)\u001b[0m\u001b[0;34m\u001b[0m\u001b[0;34m\u001b[0m\u001b[0m\n",
      "\u001b[0;32m~/opt/anaconda3/envs/dbr/lib/python3.6/site-packages/torch/utils/data/_utils/fetch.py\u001b[0m in \u001b[0;36mfetch\u001b[0;34m(self, possibly_batched_index)\u001b[0m\n\u001b[1;32m     50\u001b[0m         \u001b[0;32melse\u001b[0m\u001b[0;34m:\u001b[0m\u001b[0;34m\u001b[0m\u001b[0;34m\u001b[0m\u001b[0m\n\u001b[1;32m     51\u001b[0m             \u001b[0mdata\u001b[0m \u001b[0;34m=\u001b[0m \u001b[0mself\u001b[0m\u001b[0;34m.\u001b[0m\u001b[0mdataset\u001b[0m\u001b[0;34m[\u001b[0m\u001b[0mpossibly_batched_index\u001b[0m\u001b[0;34m]\u001b[0m\u001b[0;34m\u001b[0m\u001b[0;34m\u001b[0m\u001b[0m\n\u001b[0;32m---> 52\u001b[0;31m         \u001b[0;32mreturn\u001b[0m \u001b[0mself\u001b[0m\u001b[0;34m.\u001b[0m\u001b[0mcollate_fn\u001b[0m\u001b[0;34m(\u001b[0m\u001b[0mdata\u001b[0m\u001b[0;34m)\u001b[0m\u001b[0;34m\u001b[0m\u001b[0;34m\u001b[0m\u001b[0m\n\u001b[0m",
      "\u001b[0;32m~/opt/anaconda3/envs/dbr/lib/python3.6/site-packages/torch_geometric/loader/dense_data_loader.py\u001b[0m in \u001b[0;36mcollate_fn\u001b[0;34m(data_list)\u001b[0m\n\u001b[1;32m     10\u001b[0m     \u001b[0mbatch\u001b[0m \u001b[0;34m=\u001b[0m \u001b[0mBatch\u001b[0m\u001b[0;34m(\u001b[0m\u001b[0;34m)\u001b[0m\u001b[0;34m\u001b[0m\u001b[0;34m\u001b[0m\u001b[0m\n\u001b[1;32m     11\u001b[0m     \u001b[0;32mfor\u001b[0m \u001b[0mkey\u001b[0m \u001b[0;32min\u001b[0m \u001b[0mdata_list\u001b[0m\u001b[0;34m[\u001b[0m\u001b[0;36m0\u001b[0m\u001b[0;34m]\u001b[0m\u001b[0;34m.\u001b[0m\u001b[0mkeys\u001b[0m\u001b[0;34m:\u001b[0m\u001b[0;34m\u001b[0m\u001b[0;34m\u001b[0m\u001b[0m\n\u001b[0;32m---> 12\u001b[0;31m         \u001b[0mbatch\u001b[0m\u001b[0;34m[\u001b[0m\u001b[0mkey\u001b[0m\u001b[0;34m]\u001b[0m \u001b[0;34m=\u001b[0m \u001b[0mdefault_collate\u001b[0m\u001b[0;34m(\u001b[0m\u001b[0;34m[\u001b[0m\u001b[0mdata\u001b[0m\u001b[0;34m[\u001b[0m\u001b[0mkey\u001b[0m\u001b[0;34m]\u001b[0m \u001b[0;32mfor\u001b[0m \u001b[0mdata\u001b[0m \u001b[0;32min\u001b[0m \u001b[0mdata_list\u001b[0m\u001b[0;34m]\u001b[0m\u001b[0;34m)\u001b[0m\u001b[0;34m\u001b[0m\u001b[0;34m\u001b[0m\u001b[0m\n\u001b[0m\u001b[1;32m     13\u001b[0m     \u001b[0;32mreturn\u001b[0m \u001b[0mbatch\u001b[0m\u001b[0;34m\u001b[0m\u001b[0;34m\u001b[0m\u001b[0m\n\u001b[1;32m     14\u001b[0m \u001b[0;34m\u001b[0m\u001b[0m\n",
      "\u001b[0;32m~/opt/anaconda3/envs/dbr/lib/python3.6/site-packages/torch/utils/data/_utils/collate.py\u001b[0m in \u001b[0;36mdefault_collate\u001b[0;34m(batch)\u001b[0m\n\u001b[1;32m     54\u001b[0m             \u001b[0mstorage\u001b[0m \u001b[0;34m=\u001b[0m \u001b[0melem\u001b[0m\u001b[0;34m.\u001b[0m\u001b[0mstorage\u001b[0m\u001b[0;34m(\u001b[0m\u001b[0;34m)\u001b[0m\u001b[0;34m.\u001b[0m\u001b[0m_new_shared\u001b[0m\u001b[0;34m(\u001b[0m\u001b[0mnumel\u001b[0m\u001b[0;34m)\u001b[0m\u001b[0;34m\u001b[0m\u001b[0;34m\u001b[0m\u001b[0m\n\u001b[1;32m     55\u001b[0m             \u001b[0mout\u001b[0m \u001b[0;34m=\u001b[0m \u001b[0melem\u001b[0m\u001b[0;34m.\u001b[0m\u001b[0mnew\u001b[0m\u001b[0;34m(\u001b[0m\u001b[0mstorage\u001b[0m\u001b[0;34m)\u001b[0m\u001b[0;34m\u001b[0m\u001b[0;34m\u001b[0m\u001b[0m\n\u001b[0;32m---> 56\u001b[0;31m         \u001b[0;32mreturn\u001b[0m \u001b[0mtorch\u001b[0m\u001b[0;34m.\u001b[0m\u001b[0mstack\u001b[0m\u001b[0;34m(\u001b[0m\u001b[0mbatch\u001b[0m\u001b[0;34m,\u001b[0m \u001b[0;36m0\u001b[0m\u001b[0;34m,\u001b[0m \u001b[0mout\u001b[0m\u001b[0;34m=\u001b[0m\u001b[0mout\u001b[0m\u001b[0;34m)\u001b[0m\u001b[0;34m\u001b[0m\u001b[0;34m\u001b[0m\u001b[0m\n\u001b[0m\u001b[1;32m     57\u001b[0m     \u001b[0;32melif\u001b[0m \u001b[0melem_type\u001b[0m\u001b[0;34m.\u001b[0m\u001b[0m__module__\u001b[0m \u001b[0;34m==\u001b[0m \u001b[0;34m'numpy'\u001b[0m \u001b[0;32mand\u001b[0m \u001b[0melem_type\u001b[0m\u001b[0;34m.\u001b[0m\u001b[0m__name__\u001b[0m \u001b[0;34m!=\u001b[0m \u001b[0;34m'str_'\u001b[0m\u001b[0;31m \u001b[0m\u001b[0;31m\\\u001b[0m\u001b[0;34m\u001b[0m\u001b[0;34m\u001b[0m\u001b[0m\n\u001b[1;32m     58\u001b[0m             \u001b[0;32mand\u001b[0m \u001b[0melem_type\u001b[0m\u001b[0;34m.\u001b[0m\u001b[0m__name__\u001b[0m \u001b[0;34m!=\u001b[0m \u001b[0;34m'string_'\u001b[0m\u001b[0;34m:\u001b[0m\u001b[0;34m\u001b[0m\u001b[0;34m\u001b[0m\u001b[0m\n",
      "\u001b[0;31mRuntimeError\u001b[0m: stack expects each tensor to be equal size, but got [2, 190] at entry 0 and [2, 126] at entry 12"
     ]
    }
   ],
   "source": [
    "next(iter(batched))"
   ]
  },
  {
   "cell_type": "code",
   "execution_count": 36,
   "id": "6f6c713f",
   "metadata": {},
   "outputs": [],
   "source": [
    "s = torch.cat([torch.rand(10),subgraph_list[0].x.mean(axis=0)]).reshape(1,-1)"
   ]
  },
  {
   "cell_type": "code",
   "execution_count": 37,
   "id": "2d30ce2c",
   "metadata": {},
   "outputs": [],
   "source": [
    "subgraph_loader = DataLoader(subgraph_list, batch_size=32)"
   ]
  },
  {
   "cell_type": "code",
   "execution_count": 38,
   "id": "bdf66b89",
   "metadata": {},
   "outputs": [
    {
     "data": {
      "text/plain": [
       "<torch.utils.data.dataloader.DataLoader at 0x7fae6a429240>"
      ]
     },
     "execution_count": 38,
     "metadata": {},
     "output_type": "execute_result"
    }
   ],
   "source": [
    "subgraph_loader"
   ]
  },
  {
   "cell_type": "code",
   "execution_count": 44,
   "id": "8ae79313",
   "metadata": {},
   "outputs": [
    {
     "ename": "TypeError",
     "evalue": "default_collate: batch must contain tensors, numpy arrays, numbers, dicts or lists; found <class 'torch_geometric.data.data.Data'>",
     "output_type": "error",
     "traceback": [
      "\u001b[0;31m---------------------------------------------------------------------------\u001b[0m",
      "\u001b[0;31mTypeError\u001b[0m                                 Traceback (most recent call last)",
      "\u001b[0;32m<ipython-input-44-12f03dc64793>\u001b[0m in \u001b[0;36m<module>\u001b[0;34m\u001b[0m\n\u001b[0;32m----> 1\u001b[0;31m \u001b[0mbatch\u001b[0m \u001b[0;34m=\u001b[0m \u001b[0mnext\u001b[0m\u001b[0;34m(\u001b[0m\u001b[0miter\u001b[0m\u001b[0;34m(\u001b[0m\u001b[0msubgraph_loader\u001b[0m\u001b[0;34m)\u001b[0m\u001b[0;34m)\u001b[0m\u001b[0;34m\u001b[0m\u001b[0;34m\u001b[0m\u001b[0m\n\u001b[0m",
      "\u001b[0;32m~/opt/anaconda3/envs/dbr/lib/python3.6/site-packages/torch/utils/data/dataloader.py\u001b[0m in \u001b[0;36m__next__\u001b[0;34m(self)\u001b[0m\n\u001b[1;32m    519\u001b[0m             \u001b[0;32mif\u001b[0m \u001b[0mself\u001b[0m\u001b[0;34m.\u001b[0m\u001b[0m_sampler_iter\u001b[0m \u001b[0;32mis\u001b[0m \u001b[0;32mNone\u001b[0m\u001b[0;34m:\u001b[0m\u001b[0;34m\u001b[0m\u001b[0;34m\u001b[0m\u001b[0m\n\u001b[1;32m    520\u001b[0m                 \u001b[0mself\u001b[0m\u001b[0;34m.\u001b[0m\u001b[0m_reset\u001b[0m\u001b[0;34m(\u001b[0m\u001b[0;34m)\u001b[0m\u001b[0;34m\u001b[0m\u001b[0;34m\u001b[0m\u001b[0m\n\u001b[0;32m--> 521\u001b[0;31m             \u001b[0mdata\u001b[0m \u001b[0;34m=\u001b[0m \u001b[0mself\u001b[0m\u001b[0;34m.\u001b[0m\u001b[0m_next_data\u001b[0m\u001b[0;34m(\u001b[0m\u001b[0;34m)\u001b[0m\u001b[0;34m\u001b[0m\u001b[0;34m\u001b[0m\u001b[0m\n\u001b[0m\u001b[1;32m    522\u001b[0m             \u001b[0mself\u001b[0m\u001b[0;34m.\u001b[0m\u001b[0m_num_yielded\u001b[0m \u001b[0;34m+=\u001b[0m \u001b[0;36m1\u001b[0m\u001b[0;34m\u001b[0m\u001b[0;34m\u001b[0m\u001b[0m\n\u001b[1;32m    523\u001b[0m             \u001b[0;32mif\u001b[0m \u001b[0mself\u001b[0m\u001b[0;34m.\u001b[0m\u001b[0m_dataset_kind\u001b[0m \u001b[0;34m==\u001b[0m \u001b[0m_DatasetKind\u001b[0m\u001b[0;34m.\u001b[0m\u001b[0mIterable\u001b[0m \u001b[0;32mand\u001b[0m\u001b[0;31m \u001b[0m\u001b[0;31m\\\u001b[0m\u001b[0;34m\u001b[0m\u001b[0;34m\u001b[0m\u001b[0m\n",
      "\u001b[0;32m~/opt/anaconda3/envs/dbr/lib/python3.6/site-packages/torch/utils/data/dataloader.py\u001b[0m in \u001b[0;36m_next_data\u001b[0;34m(self)\u001b[0m\n\u001b[1;32m    559\u001b[0m     \u001b[0;32mdef\u001b[0m \u001b[0m_next_data\u001b[0m\u001b[0;34m(\u001b[0m\u001b[0mself\u001b[0m\u001b[0;34m)\u001b[0m\u001b[0;34m:\u001b[0m\u001b[0;34m\u001b[0m\u001b[0;34m\u001b[0m\u001b[0m\n\u001b[1;32m    560\u001b[0m         \u001b[0mindex\u001b[0m \u001b[0;34m=\u001b[0m \u001b[0mself\u001b[0m\u001b[0;34m.\u001b[0m\u001b[0m_next_index\u001b[0m\u001b[0;34m(\u001b[0m\u001b[0;34m)\u001b[0m  \u001b[0;31m# may raise StopIteration\u001b[0m\u001b[0;34m\u001b[0m\u001b[0;34m\u001b[0m\u001b[0m\n\u001b[0;32m--> 561\u001b[0;31m         \u001b[0mdata\u001b[0m \u001b[0;34m=\u001b[0m \u001b[0mself\u001b[0m\u001b[0;34m.\u001b[0m\u001b[0m_dataset_fetcher\u001b[0m\u001b[0;34m.\u001b[0m\u001b[0mfetch\u001b[0m\u001b[0;34m(\u001b[0m\u001b[0mindex\u001b[0m\u001b[0;34m)\u001b[0m  \u001b[0;31m# may raise StopIteration\u001b[0m\u001b[0;34m\u001b[0m\u001b[0;34m\u001b[0m\u001b[0m\n\u001b[0m\u001b[1;32m    562\u001b[0m         \u001b[0;32mif\u001b[0m \u001b[0mself\u001b[0m\u001b[0;34m.\u001b[0m\u001b[0m_pin_memory\u001b[0m\u001b[0;34m:\u001b[0m\u001b[0;34m\u001b[0m\u001b[0;34m\u001b[0m\u001b[0m\n\u001b[1;32m    563\u001b[0m             \u001b[0mdata\u001b[0m \u001b[0;34m=\u001b[0m \u001b[0m_utils\u001b[0m\u001b[0;34m.\u001b[0m\u001b[0mpin_memory\u001b[0m\u001b[0;34m.\u001b[0m\u001b[0mpin_memory\u001b[0m\u001b[0;34m(\u001b[0m\u001b[0mdata\u001b[0m\u001b[0;34m)\u001b[0m\u001b[0;34m\u001b[0m\u001b[0;34m\u001b[0m\u001b[0m\n",
      "\u001b[0;32m~/opt/anaconda3/envs/dbr/lib/python3.6/site-packages/torch/utils/data/_utils/fetch.py\u001b[0m in \u001b[0;36mfetch\u001b[0;34m(self, possibly_batched_index)\u001b[0m\n\u001b[1;32m     50\u001b[0m         \u001b[0;32melse\u001b[0m\u001b[0;34m:\u001b[0m\u001b[0;34m\u001b[0m\u001b[0;34m\u001b[0m\u001b[0m\n\u001b[1;32m     51\u001b[0m             \u001b[0mdata\u001b[0m \u001b[0;34m=\u001b[0m \u001b[0mself\u001b[0m\u001b[0;34m.\u001b[0m\u001b[0mdataset\u001b[0m\u001b[0;34m[\u001b[0m\u001b[0mpossibly_batched_index\u001b[0m\u001b[0;34m]\u001b[0m\u001b[0;34m\u001b[0m\u001b[0;34m\u001b[0m\u001b[0m\n\u001b[0;32m---> 52\u001b[0;31m         \u001b[0;32mreturn\u001b[0m \u001b[0mself\u001b[0m\u001b[0;34m.\u001b[0m\u001b[0mcollate_fn\u001b[0m\u001b[0;34m(\u001b[0m\u001b[0mdata\u001b[0m\u001b[0;34m)\u001b[0m\u001b[0;34m\u001b[0m\u001b[0;34m\u001b[0m\u001b[0m\n\u001b[0m",
      "\u001b[0;32m~/opt/anaconda3/envs/dbr/lib/python3.6/site-packages/torch/utils/data/_utils/collate.py\u001b[0m in \u001b[0;36mdefault_collate\u001b[0;34m(batch)\u001b[0m\n\u001b[1;32m     84\u001b[0m         \u001b[0;32mreturn\u001b[0m \u001b[0;34m[\u001b[0m\u001b[0mdefault_collate\u001b[0m\u001b[0;34m(\u001b[0m\u001b[0msamples\u001b[0m\u001b[0;34m)\u001b[0m \u001b[0;32mfor\u001b[0m \u001b[0msamples\u001b[0m \u001b[0;32min\u001b[0m \u001b[0mtransposed\u001b[0m\u001b[0;34m]\u001b[0m\u001b[0;34m\u001b[0m\u001b[0;34m\u001b[0m\u001b[0m\n\u001b[1;32m     85\u001b[0m \u001b[0;34m\u001b[0m\u001b[0m\n\u001b[0;32m---> 86\u001b[0;31m     \u001b[0;32mraise\u001b[0m \u001b[0mTypeError\u001b[0m\u001b[0;34m(\u001b[0m\u001b[0mdefault_collate_err_msg_format\u001b[0m\u001b[0;34m.\u001b[0m\u001b[0mformat\u001b[0m\u001b[0;34m(\u001b[0m\u001b[0melem_type\u001b[0m\u001b[0;34m)\u001b[0m\u001b[0;34m)\u001b[0m\u001b[0;34m\u001b[0m\u001b[0;34m\u001b[0m\u001b[0m\n\u001b[0m",
      "\u001b[0;31mTypeError\u001b[0m: default_collate: batch must contain tensors, numpy arrays, numbers, dicts or lists; found <class 'torch_geometric.data.data.Data'>"
     ]
    }
   ],
   "source": [
    " batch = next(iter(subgraph_loader))"
   ]
  },
  {
   "cell_type": "code",
   "execution_count": null,
   "id": "da3f0d97",
   "metadata": {},
   "outputs": [],
   "source": [
    "input_size = s.shape[-1]\n",
    "neuralnet = nn.Sequential(\n",
    "    nn.Linear(input_size, 200),\n",
    "    nn.ReLU(),\n",
    "    nn.Linear(200,200),\n",
    "    nn.ReLU(),\n",
    "    nn.Linear(200,200),\n",
    "    nn.ReLU(),\n",
    "    nn.Linear(200,2)\n",
    ")"
   ]
  },
  {
   "cell_type": "code",
   "execution_count": null,
   "id": "05cec248",
   "metadata": {},
   "outputs": [],
   "source": [
    "neuralnet(s)"
   ]
  },
  {
   "cell_type": "code",
   "execution_count": null,
   "id": "bcab3f21",
   "metadata": {},
   "outputs": [],
   "source": [
    "import torch.nn as nn"
   ]
  },
  {
   "cell_type": "code",
   "execution_count": null,
   "id": "ff1ff32e",
   "metadata": {},
   "outputs": [],
   "source": [
    "# from torch_geometric.datasets import TUDataset\n",
    "# dataset = TUDataset(root=\"./tmp\", name=\"PROTEINS\")"
   ]
  },
  {
   "cell_type": "code",
   "execution_count": null,
   "id": "5277afec",
   "metadata": {},
   "outputs": [],
   "source": [
    "# dataset[1].y"
   ]
  },
  {
   "cell_type": "code",
   "execution_count": null,
   "id": "8f244710",
   "metadata": {},
   "outputs": [],
   "source": [
    "# from torch.nn import Linear, ReLU\n",
    "# from torch_geometric.nn import Sequential, GCNConv\n",
    "\n",
    "# model = Sequential('x, edge_index', [\n",
    "#     (GCNConv(dataset.num_features, 64), 'x, edge_index -> x'),\n",
    "#     ReLU(inplace=True),\n",
    "#     (GCNConv(64, 64), 'x, edge_index -> x'),\n",
    "#     ReLU(inplace=True),\n",
    "#     Linear(64, 1),\n",
    "# ])"
   ]
  },
  {
   "cell_type": "code",
   "execution_count": null,
   "id": "9f5f0f6e",
   "metadata": {},
   "outputs": [],
   "source": [
    "from torch_scatter import scatter_mean\n",
    "from torch_geometric.datasets import TUDataset\n",
    "from torch_geometric.loader import DataLoader\n",
    "\n",
    "dataset = TUDataset(root='/tmp/ENZYMES', name='ENZYMES', use_node_attr=True)\n",
    "loader = DataLoader(dataset, batch_size=32, shuffle=True)"
   ]
  },
  {
   "cell_type": "code",
   "execution_count": null,
   "id": "6052ea25",
   "metadata": {},
   "outputs": [],
   "source": [
    "dataset[1].y"
   ]
  },
  {
   "cell_type": "code",
   "execution_count": null,
   "id": "f5c78675",
   "metadata": {},
   "outputs": [],
   "source": [
    "sample_loader = next(iter(loader))"
   ]
  },
  {
   "cell_type": "code",
   "execution_count": null,
   "id": "a01bdbb0",
   "metadata": {},
   "outputs": [],
   "source": [
    "import torch\n",
    "import torch.nn.functional as F\n",
    "from torch_geometric.nn import GCNConv\n",
    "\n",
    "class GCN(torch.nn.Module):\n",
    "    def __init__(self):\n",
    "        super().__init__()\n",
    "        self.conv1 = GCNConv(dataset.num_node_features, 16)\n",
    "        self.conv2 = GCNConv(16, dataset.num_classes)\n",
    "\n",
    "    def forward(self, data):\n",
    "        x, edge_index = data.x, data.edge_index\n",
    "\n",
    "        x = self.conv1(x, edge_index)\n",
    "        x = F.relu(x)\n",
    "        x = F.dropout(x, training=self.training)\n",
    "        x = self.conv2(x, edge_index)\n",
    "\n",
    "        return F.log_softmax(x, dim=1)"
   ]
  },
  {
   "cell_type": "code",
   "execution_count": null,
   "id": "2a580df9",
   "metadata": {},
   "outputs": [],
   "source": [
    "model = GCN()"
   ]
  },
  {
   "cell_type": "code",
   "execution_count": 45,
   "id": "adb90d21",
   "metadata": {},
   "outputs": [],
   "source": [
    "import yaml\n",
    "\n",
    "os.chdir('src')\n",
    "with open(\"training_settings.yml\", 'r') as f:\n",
    "    settings = yaml.safe_load(f)"
   ]
  },
  {
   "cell_type": "code",
   "execution_count": 47,
   "id": "0ce87360",
   "metadata": {},
   "outputs": [],
   "source": [
    "import pandas as pd\n",
    "import numpy as np\n",
    "from sklearn.preprocessing import OrdinalEncoder\n",
    "\n",
    "import torch\n",
    "from torch.utils.data import Dataset, IterableDataset\n",
    "from torch_geometric.data import Data\n",
    "from torch_geometric.data import Dataset as GeometricDataset\n",
    "from torch_geometric.loader import DataLoader\n",
    "from torch_geometric.data.lightning_datamodule import LightningDataset\n",
    "\n",
    "from ml.utils.graph_construction import construct_graph\n",
    "\n",
    "class GraphCollector(GeometricDataset, IterableDataset):\n",
    "    def __init__(self, json_file: str, photos_links:str, photos_ids:str, photos_matrix:str, transform=None, pre_transform=None, **kwargs):\n",
    "        super().__init__(None, transform, pre_transform)\n",
    "\n",
    "        building_info = pd.read_json(json_file)\n",
    "        self.encoder, self.streetview_graph = construct_graph(photos_links, photos_ids, photos_matrix)\n",
    "\n",
    "        # Want to keep this around because I want the subgraph construction to be dynamic\n",
    "        subgraph_list = np.empty(len(building_info.streetview_panos), dtype=object)\n",
    "        for index, pano_list in enumerate(building_info.streetview_panos):\n",
    "            if len(pano_list) > 0:\n",
    "                sample_subgraph_encoding = torch.tensor([ self.encoder[i] for i in pano_list ])\n",
    "                subgraph_list[index] = self.streetview_graph.subgraph(sample_subgraph_encoding)\n",
    "            else:\n",
    "                subgraph_list[index] = Data(torch.zeros(1,self.streetview_graph.num_features))\n",
    "\n",
    "        self.subgraph_list = subgraph_list\n",
    "\n",
    "    def len(self):\n",
    "        return len(self.subgraph_list)\n",
    "\n",
    "    def get(self, idx):\n",
    "        return self.subgraph_list[idx]\n",
    "\n",
    "    @property\n",
    "    def _full_graph(self):\n",
    "        return self.streetview_graph\n",
    "\n",
    "class DataCollector(IterableDataset):\n",
    "    def __init__(self, json_file:str, transform=None, **kwargs):\n",
    "        \"\"\"\n",
    "        Args:\n",
    "            json_file (string): Path to the file with all the data we want\n",
    "            transform (callable, optional): Optional transform to be applied on a sample.\n",
    "        \"\"\"\n",
    "        building_info = pd.read_json(json_file)\n",
    "\n",
    "        # might want to change this later to a more generic integer based index\n",
    "        self.y = torch.FloatTensor(np.array(building_info.loc[:,[\"daily_electric\", \"daily_gas\"]]))\n",
    "\n",
    "        # These are going to be all numeric terms which I can cast into a FloatTensor\n",
    "        self.x = torch.FloatTensor(np.array(building_info.loc[:, [\n",
    "            \"heightroof\",\n",
    "            \"cnstrct_yr\",\n",
    "            \"groundelev\",\n",
    "            \"TMAX\",\n",
    "            \"TMIN\",\n",
    "            \"PRCP\",\n",
    "            \"floorarea\"\n",
    "            ]]\n",
    "        ))\n",
    "\n",
    "    def __iter__(self):\n",
    "        return iter(zip(self.x, self.y))\n",
    "\n",
    "    def __len__(self):\n",
    "        return self.x.shape[0]\n",
    "\n",
    "    def setup(self):\n",
    "        return\n",
    "\n",
    "    def prepare_data(self):\n",
    "        return\n",
    "\n",
    "    def __getitem__(self, idx):\n",
    "        return (\n",
    "            self.x[idx],\n",
    "            self.y[idx]\n",
    "        )"
   ]
  },
  {
   "cell_type": "code",
   "execution_count": 135,
   "id": "a4aa9192",
   "metadata": {},
   "outputs": [
    {
     "data": {
      "text/plain": [
       "{'json_file': '../train.json',\n",
       " 'photos_ids': '../data/nyc/photos/processed/pano_ids.txt',\n",
       " 'photos_matrix': '../data/nyc/photos/processed/ResNet',\n",
       " 'photos_links': '../data/nyc/photos/streetview/manhattan_metadata_links.tsv'}"
      ]
     },
     "execution_count": 135,
     "metadata": {},
     "output_type": "execute_result"
    }
   ],
   "source": [
    "settings['data_locations']"
   ]
  },
  {
   "cell_type": "code",
   "execution_count": 133,
   "id": "586a4264",
   "metadata": {},
   "outputs": [],
   "source": [
    "class GraphCollectorTee(GeometricDataset):\n",
    "    def __init__(self, json_file: str, photos_links:str, photos_ids:str, photos_matrix:str, transform=None, pre_transform=None, **kwargs):\n",
    "        super().__init__(None, transform, pre_transform)\n",
    "\n",
    "        building_info = pd.read_json(json_file)\n",
    "        self.encoder, self.streetview_graph = construct_graph(photos_links, photos_ids, photos_matrix)\n",
    "\n",
    "        # Want to keep this around because I want the subgraph construction to be dynamic\n",
    "        subgraph_list = np.empty(len(building_info.streetview_panos), dtype=object)\n",
    "        for index, pano_list in enumerate(building_info.streetview_panos):\n",
    "            if len(pano_list) > 0:\n",
    "                sample_subgraph_encoding = torch.tensor([ self.encoder[i] for i in pano_list ])\n",
    "                subgraph_list[index] = self.streetview_graph.subgraph(sample_subgraph_encoding)\n",
    "            else:\n",
    "                subgraph_list[index] = Data(torch.zeros(1,self.streetview_graph.num_features))\n",
    "\n",
    "        self.subgraph_list = subgraph_list\n",
    "        \n",
    "        # might want to change this later to a more generic integer based index\n",
    "        self.y = torch.FloatTensor(np.array(building_info.loc[:,[\"daily_electric\", \"daily_gas\"]]))\n",
    "\n",
    "        # These are going to be all numeric terms which I can cast into a FloatTensor\n",
    "        self.x = torch.FloatTensor(np.array(building_info.loc[:, [\n",
    "            \"heightroof\",\n",
    "            \"cnstrct_yr\",\n",
    "            \"groundelev\",\n",
    "            \"TMAX\",\n",
    "            \"TMIN\",\n",
    "            \"PRCP\",\n",
    "            \"floorarea\"\n",
    "            ]]\n",
    "        ))\n",
    "\n",
    "    def len(self):\n",
    "        return len(self.subgraph_list)\n",
    "\n",
    "    def get(self, idx):\n",
    "        return (\n",
    "            self.x[idx],\n",
    "            self.subgraph_list[idx],\n",
    "            self.y[idx]\n",
    "        )\n",
    "\n",
    "    @property\n",
    "    def _full_graph(self):\n",
    "        return self.streetview_graph"
   ]
  },
  {
   "cell_type": "code",
   "execution_count": 134,
   "id": "ede3d69d",
   "metadata": {},
   "outputs": [],
   "source": [
    "custom_graph = GraphCollectorTee(**settings['data_locations'])"
   ]
  },
  {
   "cell_type": "code",
   "execution_count": 54,
   "id": "c3e55ba4",
   "metadata": {},
   "outputs": [
    {
     "data": {
      "text/plain": [
       "array([Data(x=[95, 1000], edge_index=[2, 190]),\n",
       "       Data(x=[95, 1000], edge_index=[2, 190]),\n",
       "       Data(x=[95, 1000], edge_index=[2, 190]), ..., Data(x=[1, 1000]),\n",
       "       Data(x=[1, 1000]), Data(x=[1, 1000])], dtype=object)"
      ]
     },
     "execution_count": 54,
     "metadata": {},
     "output_type": "execute_result"
    }
   ],
   "source": [
    "custom_graph[:10].subgraph_list"
   ]
  },
  {
   "cell_type": "code",
   "execution_count": null,
   "id": "97f713b4",
   "metadata": {},
   "outputs": [],
   "source": [
    "print(issubclass(DataCollector, IterableDataset))"
   ]
  },
  {
   "cell_type": "code",
   "execution_count": null,
   "id": "db768455",
   "metadata": {},
   "outputs": [],
   "source": [
    "custom_graph[10]"
   ]
  },
  {
   "cell_type": "code",
   "execution_count": null,
   "id": "1646098b",
   "metadata": {},
   "outputs": [],
   "source": [
    "from torch.utils.data import Dataset, ChainDataset"
   ]
  },
  {
   "cell_type": "code",
   "execution_count": null,
   "id": "3e895338",
   "metadata": {},
   "outputs": [],
   "source": [
    "issubclass(Dataset, torch.utils.data.IterableDataset)"
   ]
  },
  {
   "cell_type": "code",
   "execution_count": null,
   "id": "9d27e9d5",
   "metadata": {},
   "outputs": [],
   "source": []
  },
  {
   "cell_type": "code",
   "execution_count": null,
   "id": "33ee20fe",
   "metadata": {},
   "outputs": [],
   "source": [
    "data_module = DataCollector(**settings['data_locations'])\n",
    "graph_module = GraphCollector(**settings['data_locations'])"
   ]
  },
  {
   "cell_type": "code",
   "execution_count": null,
   "id": "a518fe5a",
   "metadata": {},
   "outputs": [],
   "source": [
    "chained = ChainDataset([data_module, graph_module])\n",
    "chained"
   ]
  },
  {
   "cell_type": "code",
   "execution_count": null,
   "id": "5c1cfcf0",
   "metadata": {},
   "outputs": [],
   "source": [
    "len(chained.datasets[1])"
   ]
  },
  {
   "cell_type": "code",
   "execution_count": null,
   "id": "f2b7dca6",
   "metadata": {},
   "outputs": [],
   "source": [
    "len(chained)"
   ]
  },
  {
   "cell_type": "code",
   "execution_count": null,
   "id": "066a1c28",
   "metadata": {},
   "outputs": [],
   "source": [
    "# might want to change this later to a more generic integer based index\n",
    "y = torch.FloatTensor(np.array(building_info.loc[:,[\"daily_electric\", \"daily_gas\"]]))\n",
    "\n",
    "# These are going to be all numeric terms which I can cast into a FloatTensor\n",
    "x = torch.FloatTensor(np.array(building_info.loc[:, [\n",
    "    \"heightroof\",\n",
    "    \"cnstrct_yr\",\n",
    "    \"groundelev\",\n",
    "    \"TMAX\",\n",
    "    \"TMIN\",\n",
    "    \"PRCP\",\n",
    "    \"floorarea\"\n",
    "    ]]))"
   ]
  },
  {
   "cell_type": "code",
   "execution_count": null,
   "id": "012206d2",
   "metadata": {},
   "outputs": [],
   "source": [
    "mm = iter(zip(x, y))"
   ]
  },
  {
   "cell_type": "code",
   "execution_count": null,
   "id": "efda6dfe",
   "metadata": {},
   "outputs": [],
   "source": [
    "next(mm)"
   ]
  },
  {
   "cell_type": "code",
   "execution_count": null,
   "id": "35656d46",
   "metadata": {},
   "outputs": [],
   "source": [
    "tmod = custom_graph\n",
    "\n",
    "train_size = int(0.80 * len(tmod))\n",
    "val_size = int((len(tmod) - train_size))\n",
    "\n",
    "train_set, val_set = random_split(custom_graph, (train_size, val_size))\n",
    "len(train_set)"
   ]
  },
  {
   "cell_type": "code",
   "execution_count": null,
   "id": "7241938b",
   "metadata": {},
   "outputs": [],
   "source": [
    "graph_module[10]"
   ]
  },
  {
   "cell_type": "code",
   "execution_count": null,
   "id": "9b6571af",
   "metadata": {},
   "outputs": [],
   "source": [
    "len(graph_module)"
   ]
  },
  {
   "cell_type": "code",
   "execution_count": null,
   "id": "22649a47",
   "metadata": {},
   "outputs": [],
   "source": [
    "len(data_module)"
   ]
  },
  {
   "cell_type": "code",
   "execution_count": null,
   "id": "eac39bb1",
   "metadata": {},
   "outputs": [],
   "source": [
    "type(data_module)"
   ]
  },
  {
   "cell_type": "code",
   "execution_count": null,
   "id": "73790dae",
   "metadata": {},
   "outputs": [],
   "source": [
    "issubclass(type(data_module), torch.utils.data.IterableDataset)"
   ]
  },
  {
   "cell_type": "code",
   "execution_count": null,
   "id": "01d9cf54",
   "metadata": {},
   "outputs": [],
   "source": [
    "concat_data = ChainDataset([data_module, graph_module])\n",
    "concat_data"
   ]
  },
  {
   "cell_type": "code",
   "execution_count": null,
   "id": "ceff63f0",
   "metadata": {},
   "outputs": [],
   "source": [
    "cdata_iter = iter(graph_module)"
   ]
  },
  {
   "cell_type": "code",
   "execution_count": null,
   "id": "2546d061",
   "metadata": {},
   "outputs": [],
   "source": [
    "dir(cdata_iter)"
   ]
  },
  {
   "cell_type": "code",
   "execution_count": null,
   "id": "c9ccd90c",
   "metadata": {},
   "outputs": [],
   "source": [
    "graph_module[1]"
   ]
  },
  {
   "cell_type": "code",
   "execution_count": null,
   "id": "58d66310",
   "metadata": {},
   "outputs": [],
   "source": [
    "for batch in loader:\n",
    "    print(batch)"
   ]
  },
  {
   "cell_type": "code",
   "execution_count": null,
   "id": "98256fe8",
   "metadata": {},
   "outputs": [],
   "source": [
    "sample_thing = [(torch.rand(10), subgraph_list[i], torch.rand(2)) for i in range(10)]\n",
    "list(zip(*sample_thing[:3]))"
   ]
  },
  {
   "cell_type": "code",
   "execution_count": null,
   "id": "b74a24c6",
   "metadata": {},
   "outputs": [],
   "source": []
  },
  {
   "cell_type": "code",
   "execution_count": null,
   "id": "a78ab5dd",
   "metadata": {},
   "outputs": [],
   "source": []
  },
  {
   "cell_type": "code",
   "execution_count": null,
   "id": "bdfadd44",
   "metadata": {},
   "outputs": [],
   "source": [
    "x, subg, y = zip(*sample_thing)"
   ]
  },
  {
   "cell_type": "code",
   "execution_count": null,
   "id": "fc8ce5b6",
   "metadata": {},
   "outputs": [],
   "source": [
    "list(zip(*[(1, 2), (3, 4), (5, 6)]))"
   ]
  },
  {
   "cell_type": "code",
   "execution_count": null,
   "id": "d942adb6",
   "metadata": {},
   "outputs": [],
   "source": [
    "type(t)"
   ]
  },
  {
   "cell_type": "code",
   "execution_count": null,
   "id": "c4ac82e2",
   "metadata": {},
   "outputs": [],
   "source": [
    "os.chdir('src')\n",
    "from src.ml.data_collector import DataCollector"
   ]
  },
  {
   "cell_type": "code",
   "execution_count": null,
   "id": "b27ac9ba",
   "metadata": {},
   "outputs": [],
   "source": [
    "import yaml\n",
    "with open(\"training_settings.yml\", 'r') as f:\n",
    "    settings = yaml.safe_load(f)"
   ]
  },
  {
   "cell_type": "code",
   "execution_count": null,
   "id": "90a33826",
   "metadata": {},
   "outputs": [],
   "source": [
    "settings"
   ]
  },
  {
   "cell_type": "code",
   "execution_count": null,
   "id": "0f4b1d17",
   "metadata": {},
   "outputs": [],
   "source": [
    "data_module = DataCollector(**settings['data_locations'])"
   ]
  },
  {
   "cell_type": "code",
   "execution_count": null,
   "id": "07341eb4",
   "metadata": {},
   "outputs": [],
   "source": [
    "type(data_module)"
   ]
  },
  {
   "cell_type": "code",
   "execution_count": null,
   "id": "eff07d07",
   "metadata": {},
   "outputs": [],
   "source": [
    "concat_data = torch.utils.data.ConcatDataset([data_module, t], axis=1)"
   ]
  },
  {
   "cell_type": "code",
   "execution_count": null,
   "id": "5d0f04e9",
   "metadata": {},
   "outputs": [],
   "source": [
    "from torch.utils.data import random_split\n",
    "\n",
    "train_size = int(0.80 * len(data_module))\n",
    "val_size = int((len(data_module) - train_size))\n",
    "\n",
    "train_set, val_set = random_split(data_module, (train_size, val_size))"
   ]
  },
  {
   "cell_type": "code",
   "execution_count": null,
   "id": "beb83100",
   "metadata": {},
   "outputs": [],
   "source": [
    "training_iter = iter(train_set)"
   ]
  },
  {
   "cell_type": "code",
   "execution_count": null,
   "id": "b9ab8f08",
   "metadata": {},
   "outputs": [],
   "source": [
    "next(training_iter)"
   ]
  },
  {
   "cell_type": "code",
   "execution_count": null,
   "id": "cc0ea06c",
   "metadata": {},
   "outputs": [],
   "source": [
    "from torch_geometric.data.lightning_datamodule import LightningDataset"
   ]
  },
  {
   "cell_type": "code",
   "execution_count": null,
   "id": "b89fecb0",
   "metadata": {},
   "outputs": [],
   "source": [
    "LightningDataset(t)"
   ]
  },
  {
   "cell_type": "code",
   "execution_count": null,
   "id": "c8e78cc6",
   "metadata": {},
   "outputs": [],
   "source": [
    "subgraph_list[4]"
   ]
  },
  {
   "cell_type": "code",
   "execution_count": null,
   "id": "7f2ecf30",
   "metadata": {},
   "outputs": [],
   "source": [
    "torch.cat([torch.zeros(10), subgraph_list[0].x.mean(axis=0)])"
   ]
  },
  {
   "cell_type": "code",
   "execution_count": null,
   "id": "dd1ded42",
   "metadata": {},
   "outputs": [],
   "source": [
    "type(torch.zeros(10, dtype=torch.float64))"
   ]
  },
  {
   "cell_type": "code",
   "execution_count": null,
   "id": "606b6bd9",
   "metadata": {},
   "outputs": [],
   "source": [
    "Data(torch.zeros(1,feature_size)).x.shape"
   ]
  },
  {
   "cell_type": "code",
   "execution_count": null,
   "id": "4e247150",
   "metadata": {},
   "outputs": [],
   "source": [
    "np.array(subgraph_list, dtype=object)"
   ]
  },
  {
   "cell_type": "markdown",
   "id": "9b5300bd",
   "metadata": {},
   "source": [
    "So if we don't have any streetview images, we don't want to trigger any of the activations, therefore going to just pass through zeros^"
   ]
  },
  {
   "cell_type": "code",
   "execution_count": null,
   "id": "88b97c39",
   "metadata": {},
   "outputs": [],
   "source": [
    "sample_sub = subgraph_list[101]\n",
    "print(sample_sub)\n",
    "print()\n",
    "\n",
    "print(\"The subgraph nodal values\")\n",
    "print(sample_sub.x)"
   ]
  },
  {
   "cell_type": "code",
   "execution_count": null,
   "id": "69ed380c",
   "metadata": {},
   "outputs": [],
   "source": [
    "len(subgraph_list) # this should be equivalent to the number of streetview panos we have"
   ]
  },
  {
   "cell_type": "code",
   "execution_count": null,
   "id": "d8dd1327",
   "metadata": {},
   "outputs": [],
   "source": [
    "# Want to implement a new data loading class so that the batches of streetview images can be recorded around each building\n",
    "\n",
    "class StreetviewDataset(InMemoryDataset):\n",
    "    def __init__(self, root, transform=None, pre_transform=None, pre_filter=None):\n",
    "        super().__init__(root, transform, pre_transform, pre_filter)\n",
    "        self.data, self.slices = torch.load(self.processed_paths[0])\n",
    "\n",
    "    @property\n",
    "    def raw_file_names(self):\n",
    "        return ['some_file_1', 'some_file_2', ...]\n",
    "\n",
    "    @property\n",
    "    def processed_file_names(self):\n",
    "        return ['data.pt']\n",
    "\n",
    "    def download(self):\n",
    "        # Download to `self.raw_dir`.\n",
    "        download_url(url, self.raw_dir)\n",
    "        ...\n",
    "\n",
    "    def process(self):\n",
    "        # Read data into huge `Data` list.\n",
    "        data_list = [...]\n",
    "\n",
    "        if self.pre_filter is not None:\n",
    "            data_list = [data for data in data_list if self.pre_filter(data)]\n",
    "\n",
    "        if self.pre_transform is not None:\n",
    "            data_list = [self.pre_transform(data) for data in data_list]\n",
    "\n",
    "        data, slices = self.collate(data_list)\n",
    "        torch.save((data, slices), self.processed_paths[0])"
   ]
  }
 ],
 "metadata": {
  "kernelspec": {
   "display_name": "Python 3 (ipykernel)",
   "language": "python",
   "name": "python3"
  },
  "language_info": {
   "codemirror_mode": {
    "name": "ipython",
    "version": 3
   },
   "file_extension": ".py",
   "mimetype": "text/x-python",
   "name": "python",
   "nbconvert_exporter": "python",
   "pygments_lexer": "ipython3",
   "version": "3.9.15"
  }
 },
 "nbformat": 4,
 "nbformat_minor": 5
}
