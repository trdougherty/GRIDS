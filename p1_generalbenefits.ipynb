{
 "cells": [
  {
   "cell_type": "code",
   "execution_count": 1,
   "id": "bd63b958",
   "metadata": {},
   "outputs": [],
   "source": [
    "import torch\n",
    "import os\n",
    "import sys"
   ]
  },
  {
   "cell_type": "code",
   "execution_count": 106,
   "id": "7dfc6c15",
   "metadata": {},
   "outputs": [],
   "source": [
    "import numpy as np"
   ]
  },
  {
   "cell_type": "code",
   "execution_count": 44,
   "id": "3176f901",
   "metadata": {},
   "outputs": [],
   "source": [
    "import wandb"
   ]
  },
  {
   "cell_type": "code",
   "execution_count": 81,
   "id": "d87e489f",
   "metadata": {},
   "outputs": [],
   "source": [
    "epochs = 5"
   ]
  },
  {
   "cell_type": "code",
   "execution_count": 45,
   "id": "1975e333",
   "metadata": {},
   "outputs": [],
   "source": [
    "# # start a new wandb run to track this script\n",
    "# wandb.init(\n",
    "#     # set the wandb project where this run will be logged\n",
    "#     project=\"dbr\",\n",
    "    \n",
    "#     # track hyperparameters and run metadata\n",
    "#     config={\n",
    "#         \"learning_rate\": 0.02,\n",
    "#         \"architecture\": \"GAT\",\n",
    "#         \"dataset\": \"CIFAR-100\",\n",
    "#         \"epochs\": 10,\n",
    "#     }\n",
    "# )"
   ]
  },
  {
   "cell_type": "code",
   "execution_count": 2,
   "id": "2fe51d10",
   "metadata": {},
   "outputs": [],
   "source": [
    "device = \"cuda:0\""
   ]
  },
  {
   "cell_type": "code",
   "execution_count": 47,
   "id": "66f56022",
   "metadata": {},
   "outputs": [
    {
     "name": "stdout",
     "output_type": "stream",
     "text": [
      "The autoreload extension is already loaded. To reload it, use:\n",
      "  %reload_ext autoreload\n"
     ]
    }
   ],
   "source": [
    "%load_ext autoreload\n",
    "%autoreload 2"
   ]
  },
  {
   "cell_type": "code",
   "execution_count": 4,
   "id": "b038d73c",
   "metadata": {},
   "outputs": [],
   "source": [
    "module_path = os.path.abspath(os.path.join('..'))\n",
    "if module_path not in sys.path:\n",
    "    sys.path.append(module_path)"
   ]
  },
  {
   "cell_type": "code",
   "execution_count": 5,
   "id": "04d2ce67",
   "metadata": {},
   "outputs": [
    {
     "data": {
      "text/plain": [
       "'/home/thomas/Work/Research/uil/dbr'"
      ]
     },
     "execution_count": 5,
     "metadata": {},
     "output_type": "execute_result"
    }
   ],
   "source": [
    "os.getcwd()"
   ]
  },
  {
   "cell_type": "code",
   "execution_count": 97,
   "id": "25c4d9ed",
   "metadata": {},
   "outputs": [],
   "source": [
    "from src.graph_construction import graph\n",
    "nycgraph, rebuild_info = graph(\n",
    "    \"new-york\",\n",
    "    neighbor_radius=10,\n",
    "    building_buffer=30,\n",
    "    test_percent=15\n",
    ")"
   ]
  },
  {
   "cell_type": "code",
   "execution_count": 98,
   "id": "38550885",
   "metadata": {},
   "outputs": [
    {
     "data": {
      "text/plain": [
       "dict_keys(['rebuild_idx', 'recorded', 'node_data', 'footprints', 'complete_footprints', 'training_mask', 'simple_ids'])"
      ]
     },
     "execution_count": 98,
     "metadata": {},
     "output_type": "execute_result"
    }
   ],
   "source": [
    "rebuild_info.keys()"
   ]
  },
  {
   "cell_type": "code",
   "execution_count": 113,
   "id": "a6356a31",
   "metadata": {},
   "outputs": [],
   "source": [
    "training_ids = np.array(rebuild_info[\"simple_ids\"])[rebuild_info[\"training_mask\"].cpu()]"
   ]
  },
  {
   "cell_type": "code",
   "execution_count": 130,
   "id": "b1ba5cbc",
   "metadata": {},
   "outputs": [],
   "source": [
    "validation_batches = []\n",
    "\n",
    "for i in range(5):\n",
    "    validation_batches.append(\n",
    "        np.random.choice(training_ids, 100, replace=False)\n",
    "    )"
   ]
  },
  {
   "cell_type": "code",
   "execution_count": 132,
   "id": "69d0aed9",
   "metadata": {},
   "outputs": [
    {
     "data": {
      "text/plain": [
       "tensor([ True,  True,  True,  ...,  True, False,  True], device='cuda:0')"
      ]
     },
     "execution_count": 132,
     "metadata": {},
     "output_type": "execute_result"
    }
   ],
   "source": [
    "rebuild_info[\"training_mask\"]"
   ]
  },
  {
   "cell_type": "code",
   "execution_count": 140,
   "id": "33db264c",
   "metadata": {},
   "outputs": [],
   "source": [
    "# now I want to build training and validation masks\n",
    "cv_masks = []\n",
    "for cvbatch in validation_batches:\n",
    "    training_mask = []\n",
    "    validation_mask = []\n",
    "    \n",
    "    for building_id in rebuild_info[\"simple_ids\"]:\n",
    "        if (building_id in training_ids and building_id in cvbatch):\n",
    "            training_mask.append(False)\n",
    "            validation_mask.append(True)\n",
    "        elif (building_id in training_ids and building_id not in cvbatch):\n",
    "            training_mask.append(True)\n",
    "            validation_mask.append(False)\n",
    "        else:\n",
    "            training_mask.append(False)\n",
    "            validation_mask.append(False)\n",
    "            \n",
    "    cv_masks.append(\n",
    "        (np.array(training_mask), np.array(validation_mask))\n",
    "    )"
   ]
  },
  {
   "cell_type": "code",
   "execution_count": 141,
   "id": "9f3d5811",
   "metadata": {},
   "outputs": [],
   "source": [
    "sample_train, sample_val = cv_masks[0]"
   ]
  },
  {
   "cell_type": "code",
   "execution_count": 143,
   "id": "db196b99",
   "metadata": {},
   "outputs": [
    {
     "data": {
      "text/plain": [
       "100"
      ]
     },
     "execution_count": 143,
     "metadata": {},
     "output_type": "execute_result"
    }
   ],
   "source": [
    "sample_val.sum()"
   ]
  },
  {
   "cell_type": "code",
   "execution_count": 115,
   "id": "5187cc67",
   "metadata": {},
   "outputs": [
    {
     "data": {
      "text/plain": [
       "(18106,)"
      ]
     },
     "execution_count": 115,
     "metadata": {},
     "output_type": "execute_result"
    }
   ],
   "source": [
    "training_ids.shape"
   ]
  },
  {
   "cell_type": "code",
   "execution_count": 102,
   "id": "bef5eb7f",
   "metadata": {},
   "outputs": [
    {
     "data": {
      "text/plain": [
       "torch.Size([21300])"
      ]
     },
     "execution_count": 102,
     "metadata": {},
     "output_type": "execute_result"
    }
   ],
   "source": [
    "rebuild_info[\"training_mask\"]"
   ]
  },
  {
   "cell_type": "code",
   "execution_count": 120,
   "id": "dd3cba4e",
   "metadata": {},
   "outputs": [
    {
     "data": {
      "text/plain": [
       "tensor(18106, device='cuda:0')"
      ]
     },
     "execution_count": 120,
     "metadata": {},
     "output_type": "execute_result"
    }
   ],
   "source": [
    "rebuild_info[\"training_mask\"].sum()"
   ]
  },
  {
   "cell_type": "code",
   "execution_count": 83,
   "id": "32773d4e",
   "metadata": {},
   "outputs": [],
   "source": [
    "data = nycgraph"
   ]
  },
  {
   "cell_type": "code",
   "execution_count": 49,
   "id": "98558f84",
   "metadata": {},
   "outputs": [
    {
     "data": {
      "text/plain": [
       "HeteroData(\n",
       "  \u001b[1mpano\u001b[0m={ x=[52298, 6] },\n",
       "  \u001b[1mfootprint\u001b[0m={\n",
       "    x=[21300, 6],\n",
       "    y=[21300],\n",
       "    train_mask=[21300],\n",
       "    test_mask=[21300]\n",
       "  },\n",
       "  \u001b[1m(footprint, contains, pano)\u001b[0m={ edge_index=[2, 81554] },\n",
       "  \u001b[1m(pano, links, pano)\u001b[0m={ edge_index=[2, 117758] },\n",
       "  \u001b[1m(pano, rev_contains, footprint)\u001b[0m={ edge_index=[2, 81554] }\n",
       ")"
      ]
     },
     "execution_count": 49,
     "metadata": {},
     "output_type": "execute_result"
    }
   ],
   "source": [
    "nycgraph"
   ]
  },
  {
   "cell_type": "code",
   "execution_count": 50,
   "id": "17ba0fbd",
   "metadata": {},
   "outputs": [
    {
     "data": {
      "text/plain": [
       "torch.Size([52298, 6])"
      ]
     },
     "execution_count": 50,
     "metadata": {},
     "output_type": "execute_result"
    }
   ],
   "source": [
    "nycgraph['pano'].x.shape"
   ]
  },
  {
   "cell_type": "code",
   "execution_count": 51,
   "id": "6ec38ab8",
   "metadata": {},
   "outputs": [
    {
     "data": {
      "text/plain": [
       "tensor(18106, device='cuda:0')"
      ]
     },
     "execution_count": 51,
     "metadata": {},
     "output_type": "execute_result"
    }
   ],
   "source": [
    "nycgraph['footprint'].train_mask.sum()"
   ]
  },
  {
   "cell_type": "code",
   "execution_count": 59,
   "id": "feef05e0",
   "metadata": {},
   "outputs": [],
   "source": [
    "from src.model import CustomGAT\n",
    "\n",
    "model = CustomGAT(\n",
    "    hidden_channels=64, \n",
    "    out_channels=64, \n",
    "    layers=5\n",
    ").to(device)"
   ]
  },
  {
   "cell_type": "code",
   "execution_count": 60,
   "id": "4124e7c9",
   "metadata": {},
   "outputs": [
    {
     "data": {
      "text/plain": [
       "CustomGAT(\n",
       "  (convs): ModuleList(\n",
       "    (0): GATConv((-1, -1), 64, heads=1)\n",
       "    (1): GATConv((-1, -1), 64, heads=1)\n",
       "    (2): GATConv((-1, -1), 64, heads=1)\n",
       "    (3): GATConv((-1, -1), 64, heads=1)\n",
       "    (4): GATConv((-1, -1), 64, heads=1)\n",
       "  )\n",
       "  (lins): ModuleList(\n",
       "    (0): Linear(-1, 64, bias=True)\n",
       "    (1): Linear(-1, 64, bias=True)\n",
       "    (2): Linear(-1, 64, bias=True)\n",
       "    (3): Linear(-1, 64, bias=True)\n",
       "    (4): Linear(-1, 64, bias=True)\n",
       "  )\n",
       "  (conv_translate): HeteroConv(num_relations=1)\n",
       "  (convf): GATConv((-1, -1), 64, heads=1)\n",
       "  (linf): Linear(-1, 64, bias=True)\n",
       "  (mlp): Sequential(\n",
       "    (0): Flatten(start_dim=1, end_dim=-1)\n",
       "    (1): Linear(in_features=64, out_features=32, bias=True)\n",
       "    (2): ReLU()\n",
       "    (3): Linear(in_features=32, out_features=16, bias=True)\n",
       "    (4): ReLU()\n",
       "    (5): Linear(in_features=16, out_features=1, bias=True)\n",
       "  )\n",
       ")"
      ]
     },
     "execution_count": 60,
     "metadata": {},
     "output_type": "execute_result"
    }
   ],
   "source": [
    "model"
   ]
  },
  {
   "cell_type": "code",
   "execution_count": 88,
   "id": "74321cd5",
   "metadata": {},
   "outputs": [
    {
     "name": "stdout",
     "output_type": "stream",
     "text": [
      "Loss at step: 0 is 27.2962646484375\n",
      "Loss at step: 50 is 8.906781196594238\n",
      "Loss at step: 100 is 1.3443896770477295\n",
      "Loss at step: 150 is 1.2587026357650757\n",
      "Loss at step: 200 is 1.2287826538085938\n",
      "Loss at step: 250 is 1.214066505432129\n",
      "Loss at step: 300 is 1.1923410892486572\n",
      "Loss at step: 350 is 1.18222975730896\n",
      "Loss at step: 400 is 1.1707290410995483\n",
      "Loss at step: 450 is 1.1478931903839111\n",
      "Loss at step: 500 is 1.139016032218933\n",
      "Loss at step: 550 is 1.1338568925857544\n",
      "Loss at step: 600 is 1.1258440017700195\n",
      "Loss at step: 650 is 1.1159573793411255\n",
      "Loss at step: 700 is 1.1099470853805542\n",
      "Loss at step: 750 is 1.1276657581329346\n",
      "Loss at step: 800 is 1.093024492263794\n",
      "Loss at step: 850 is 1.0922297239303589\n",
      "Loss at step: 900 is 1.095910906791687\n",
      "Loss at step: 950 is 1.103584885597229\n"
     ]
    }
   ],
   "source": [
    "epochs = 100\n",
    "\n",
    "training_losses = []\n",
    "validation_losses = []\n",
    "\n",
    "optimizer = torch.optim.Adam(model.parameters())\n",
    "loss_func = torch.nn.MSELoss()\n",
    "\n",
    "for epoch in range(epochs):\n",
    "    optimizer.zero_grad()\n",
    "    out = model(data.x_dict, data.edge_index_dict)\n",
    "\n",
    "#     print(f\"Count of NaN predictions: {(~captured_terms).sum()}\")\n",
    "    mask = data['footprint'].train_mask\n",
    "\n",
    "    training_predictions = out[mask].squeeze()\n",
    "    training_values = data['footprint'].y[mask]\n",
    "\n",
    "    loss = loss_func(\n",
    "        training_predictions,\n",
    "        training_values\n",
    "    )\n",
    "    loss_history.append(loss)\n",
    "\n",
    "    if epoch % 50 == 0:\n",
    "        print(f\"Loss at step: {epoch} is {loss}\")\n",
    "    loss.backward()\n",
    "    optimizer.step()"
   ]
  },
  {
   "cell_type": "code",
   "execution_count": 78,
   "id": "87ee70d3",
   "metadata": {},
   "outputs": [],
   "source": [
    "output = model(\n",
    "    nycgraph.x_dict, \n",
    "    nycgraph.edge_index_dict\n",
    ")"
   ]
  },
  {
   "cell_type": "code",
   "execution_count": 80,
   "id": "95643429",
   "metadata": {},
   "outputs": [],
   "source": [
    "# param_size = 0\n",
    "# for param in model.parameters():\n",
    "#     param_size += param.nelement() * param.element_size()\n",
    "# buffer_size = 0\n",
    "# for buffer in model.buffers():\n",
    "#     buffer_size += buffer.nelement() * buffer.element_size()\n",
    "\n",
    "# size_all_mb = (param_size + buffer_size) / 1024**2\n",
    "# print('model size: {:.3f}MB'.format(size_all_mb))"
   ]
  },
  {
   "cell_type": "code",
   "execution_count": 62,
   "id": "6c48f58e",
   "metadata": {},
   "outputs": [
    {
     "data": {
      "text/plain": [
       "torch.Size([21300, 6])"
      ]
     },
     "execution_count": 62,
     "metadata": {},
     "output_type": "execute_result"
    }
   ],
   "source": [
    "nycgraph.x_dict['footprint'].shape"
   ]
  },
  {
   "cell_type": "code",
   "execution_count": 74,
   "id": "2658e17f",
   "metadata": {},
   "outputs": [
    {
     "data": {
      "text/plain": [
       "torch.Size([45941])"
      ]
     },
     "execution_count": 74,
     "metadata": {},
     "output_type": "execute_result"
    }
   ],
   "source": [
    "output[rebuild_info['rebuild_idx']].flatten().shape"
   ]
  },
  {
   "cell_type": "code",
   "execution_count": 73,
   "id": "fbe62276",
   "metadata": {},
   "outputs": [
    {
     "data": {
      "text/plain": [
       "torch.Size([45941])"
      ]
     },
     "execution_count": 73,
     "metadata": {},
     "output_type": "execute_result"
    }
   ],
   "source": [
    "rebuild_info['recorded'].shape"
   ]
  },
  {
   "cell_type": "code",
   "execution_count": null,
   "id": "5e027bbb",
   "metadata": {},
   "outputs": [],
   "source": [
    "output[]"
   ]
  }
 ],
 "metadata": {
  "kernelspec": {
   "display_name": "Python 3 (ipykernel)",
   "language": "python",
   "name": "python3"
  },
  "language_info": {
   "codemirror_mode": {
    "name": "ipython",
    "version": 3
   },
   "file_extension": ".py",
   "mimetype": "text/x-python",
   "name": "python",
   "nbconvert_exporter": "python",
   "pygments_lexer": "ipython3",
   "version": "3.9.15"
  }
 },
 "nbformat": 4,
 "nbformat_minor": 5
}
