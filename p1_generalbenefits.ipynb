{
 "cells": [
  {
   "cell_type": "code",
   "execution_count": 1,
   "id": "905caefe",
   "metadata": {
    "ExecuteTime": {
     "end_time": "2023-03-08T23:14:45.468389Z",
     "start_time": "2023-03-08T23:14:44.947128Z"
    },
    "tags": []
   },
   "outputs": [],
   "source": [
    "import torch\n",
    "import os\n",
    "import sys\n",
    "import copy\n",
    "import numpy as np\n",
    "import random\n",
    "\n",
    "from functools import cache"
   ]
  },
  {
   "cell_type": "code",
   "execution_count": 2,
   "id": "d0d696bb-351b-4c30-b01f-66037bec1b25",
   "metadata": {
    "tags": []
   },
   "outputs": [],
   "source": [
    "from sklearn.linear_model import LinearRegression\n",
    "from sklearn.linear_model import ElasticNet\n",
    "from sklearn.ensemble import RandomForestRegressor\n",
    "from tqdm import tqdm_notebook"
   ]
  },
  {
   "cell_type": "code",
   "execution_count": 3,
   "id": "9bd2bcad-7a51-4150-b3ad-0693920928da",
   "metadata": {},
   "outputs": [],
   "source": [
    "import scipy.optimize\n",
    "import matplotlib as mpl\n",
    "\n",
    "from csaps import csaps\n",
    "from scipy.interpolate import splrep, BSpline"
   ]
  },
  {
   "cell_type": "code",
   "execution_count": 4,
   "id": "16e3388b-d546-4a05-bd67-34358df1a417",
   "metadata": {
    "tags": []
   },
   "outputs": [],
   "source": [
    "import pygwalker as pyg"
   ]
  },
  {
   "cell_type": "code",
   "execution_count": 5,
   "id": "db4b1928-86e6-456b-940e-4832634c2eba",
   "metadata": {},
   "outputs": [],
   "source": [
    "os.environ[\"CUBLAS_WORKSPACE_CONFIG\"]=\":4096:8\""
   ]
  },
  {
   "cell_type": "code",
   "execution_count": 6,
   "id": "7ad15b05-44ed-421e-a18d-9c83bf830328",
   "metadata": {
    "tags": []
   },
   "outputs": [
    {
     "data": {
      "text/plain": [
       "':4096:8'"
      ]
     },
     "execution_count": 6,
     "metadata": {},
     "output_type": "execute_result"
    }
   ],
   "source": [
    "os.environ[\"CUBLAS_WORKSPACE_CONFIG\"]"
   ]
  },
  {
   "cell_type": "code",
   "execution_count": 7,
   "id": "7629ee50-6524-43c0-9872-08468555ab90",
   "metadata": {
    "tags": []
   },
   "outputs": [],
   "source": [
    "os.environ['NUMEXPR_MAX_THREADS'] = '16'"
   ]
  },
  {
   "cell_type": "code",
   "execution_count": 8,
   "id": "ea590aa2-535d-433c-b171-060ed65bac63",
   "metadata": {},
   "outputs": [],
   "source": [
    "rand = 0\n",
    "torch.manual_seed(rand)\n",
    "torch.cuda.manual_seed(rand)\n",
    "torch.cuda.manual_seed_all(rand)\n",
    "torch.backends.cudnn.deterministic = True\n",
    "torch.backends.cudnn.benchmark = False\n",
    "np.random.seed(rand)\n",
    "random.seed(rand)"
   ]
  },
  {
   "cell_type": "code",
   "execution_count": 9,
   "id": "d0136f69-3a57-488c-a7ab-ac9c13a018b7",
   "metadata": {
    "tags": []
   },
   "outputs": [],
   "source": [
    "def seed_everything(seed: int):\n",
    "    r\"\"\"Sets the seed for generating random numbers in :pytorch:`PyTorch`,\n",
    "    :obj:`numpy` and Python.\n",
    "\n",
    "    Args:\n",
    "        seed (int): The desired seed.\n",
    "    \"\"\"\n",
    "    random.seed(seed)\n",
    "    np.random.seed(seed)\n",
    "    torch.manual_seed(seed)\n",
    "    torch.cuda.manual_seed_all(seed)"
   ]
  },
  {
   "cell_type": "code",
   "execution_count": 10,
   "id": "620871fc-9d33-4b9f-9a3f-1b0ff669aaa8",
   "metadata": {
    "tags": []
   },
   "outputs": [],
   "source": [
    "import pandas as pd"
   ]
  },
  {
   "cell_type": "code",
   "execution_count": 11,
   "id": "c607ccc8-3da9-4dbd-a498-c4c7431d41dc",
   "metadata": {
    "tags": []
   },
   "outputs": [],
   "source": [
    "from sklearn.model_selection import train_test_split"
   ]
  },
  {
   "cell_type": "code",
   "execution_count": 12,
   "id": "a150977f",
   "metadata": {
    "ExecuteTime": {
     "end_time": "2023-03-08T23:14:45.618731Z",
     "start_time": "2023-03-08T23:14:45.469512Z"
    },
    "tags": []
   },
   "outputs": [],
   "source": [
    "import matplotlib.pyplot as plt\n",
    "# plt.style.use('fivethirtyeight')"
   ]
  },
  {
   "cell_type": "code",
   "execution_count": 13,
   "id": "f69f2a74",
   "metadata": {
    "ExecuteTime": {
     "end_time": "2023-03-08T23:14:45.692595Z",
     "start_time": "2023-03-08T23:14:45.619661Z"
    },
    "tags": []
   },
   "outputs": [],
   "source": [
    "import numpy as np\n",
    "import networkx as nx"
   ]
  },
  {
   "cell_type": "code",
   "execution_count": 14,
   "id": "c11cfc3f-c7cc-4fd5-bc1d-cd3210fc67bf",
   "metadata": {
    "tags": []
   },
   "outputs": [],
   "source": [
    "from torch_scatter import scatter_max, scatter_mean, scatter_min\n",
    "from functools import lru_cache\n",
    "from sklearn.model_selection import StratifiedKFold, KFold\n",
    "from sklearn.linear_model import ElasticNet, LinearRegression"
   ]
  },
  {
   "cell_type": "code",
   "execution_count": 15,
   "id": "7db8004a",
   "metadata": {
    "ExecuteTime": {
     "end_time": "2023-03-08T23:14:45.938222Z",
     "start_time": "2023-03-08T23:14:45.693943Z"
    },
    "tags": []
   },
   "outputs": [],
   "source": [
    "import wandb"
   ]
  },
  {
   "cell_type": "code",
   "execution_count": 16,
   "id": "6724290c",
   "metadata": {
    "ExecuteTime": {
     "end_time": "2023-03-08T23:14:45.941297Z",
     "start_time": "2023-03-08T23:14:45.939535Z"
    },
    "tags": []
   },
   "outputs": [],
   "source": [
    "device = \"cuda:0\""
   ]
  },
  {
   "cell_type": "code",
   "execution_count": 17,
   "id": "6f596c4a",
   "metadata": {
    "ExecuteTime": {
     "end_time": "2023-03-08T23:14:45.972023Z",
     "start_time": "2023-03-08T23:14:45.942486Z"
    },
    "tags": []
   },
   "outputs": [],
   "source": [
    "%load_ext autoreload\n",
    "%autoreload 2"
   ]
  },
  {
   "cell_type": "code",
   "execution_count": 18,
   "id": "328e33bb",
   "metadata": {
    "ExecuteTime": {
     "end_time": "2023-03-08T23:14:45.981665Z",
     "start_time": "2023-03-08T23:14:45.972991Z"
    },
    "tags": []
   },
   "outputs": [],
   "source": [
    "module_path = os.path.abspath(os.path.join('..'))\n",
    "if module_path not in sys.path:\n",
    "    sys.path.append(module_path)"
   ]
  },
  {
   "cell_type": "code",
   "execution_count": 19,
   "id": "33253044",
   "metadata": {
    "ExecuteTime": {
     "end_time": "2023-03-08T23:14:46.038388Z",
     "start_time": "2023-03-08T23:14:46.027026Z"
    },
    "tags": []
   },
   "outputs": [],
   "source": [
    "from src.cv import crossvalidation, build_masks\n",
    "from src.trainer import trainer\n",
    "from src.cv import reset_model\n",
    "from src.graph_construction import graph\n",
    "from src.model import NullModel, CustomGAT"
   ]
  },
  {
   "cell_type": "code",
   "execution_count": 20,
   "id": "c9cf1c38-58fa-4ca9-8372-13b5630a7dee",
   "metadata": {
    "tags": []
   },
   "outputs": [],
   "source": [
    "import matplotlib as mpl\n",
    "import seaborn as sns\n",
    "\n",
    "mpl.rc('image', cmap='Set1')"
   ]
  },
  {
   "cell_type": "code",
   "execution_count": 21,
   "id": "f828af74",
   "metadata": {
    "ExecuteTime": {
     "end_time": "2023-03-08T23:21:17.286959Z",
     "start_time": "2023-03-08T23:21:17.257284Z"
    },
    "tags": []
   },
   "outputs": [],
   "source": [
    "import torch_geometric.transforms as T\n",
    "transform = T.Compose([T.ToUndirected(), T.AddSelfLoops()])"
   ]
  },
  {
   "cell_type": "code",
   "execution_count": 22,
   "id": "0178140c-d9f3-4a16-8397-5eab6b7c0dbf",
   "metadata": {
    "tags": []
   },
   "outputs": [],
   "source": [
    "torch.use_deterministic_algorithms(True)\n",
    "seed_everything(rand)"
   ]
  },
  {
   "cell_type": "code",
   "execution_count": 23,
   "id": "c280f584-f9ff-4274-844e-97c65611b0f0",
   "metadata": {
    "tags": []
   },
   "outputs": [],
   "source": [
    "results_dir = os.path.join('results','e29')\n",
    "os.makedirs(results_dir, exist_ok=True)\n",
    "\n",
    "config = {\n",
    "    \"custom_optimizer\": torch.optim.Adam,\n",
    "    \"lr\" : 0.05,\n",
    "    'epochs': 500,\n",
    "    'linear_layers': 2,\n",
    "    'hidden_channels': 8,\n",
    "    'dropout': 0.1,\n",
    "    'test_percent': 12,\n",
    "    'building_buffer': 50,\n",
    "    'building_buffer_min':20,\n",
    "    'building_buffer_max':500,\n",
    "    'building_buffer_npoints':100,\n",
    "    'neighbor_radius': 100,\n",
    "    'n_cv': 5,\n",
    "    'n_cv_generalization':5,\n",
    "    'cv_size': 1500,\n",
    "    'graph_outchannels': 8,\n",
    "    'graph_layers':1,\n",
    "    'graph_heads':1,\n",
    "    'partition_terms': [\n",
    "        \"road_area\",\n",
    "        \"building_area\",\n",
    "        \"sky_area\",\n",
    "        \"vegetation_area\",\n",
    "        # \"car_count\",\n",
    "        # \"person_count\"\n",
    "    ]\n",
    "}"
   ]
  },
  {
   "cell_type": "code",
   "execution_count": 24,
   "id": "6c485ed2-a03e-4380-9d75-270229a9a169",
   "metadata": {
    "tags": []
   },
   "outputs": [
    {
     "data": {
      "text/plain": [
       "['road_area', 'building_area', 'sky_area', 'vegetation_area']"
      ]
     },
     "execution_count": 24,
     "metadata": {},
     "output_type": "execute_result"
    }
   ],
   "source": [
    "config['partition_terms']"
   ]
  },
  {
   "cell_type": "code",
   "execution_count": 25,
   "id": "c9bef3fd-c836-4e2d-b3f1-ef60f7c9b47a",
   "metadata": {
    "tags": []
   },
   "outputs": [],
   "source": [
    "f = open(os.path.join(results_dir, 'config_settings.txt'), \"w\")\n",
    "f.write(str(\"Config:\\n\"))\n",
    "f.write(str(config))\n",
    "f.close()"
   ]
  },
  {
   "cell_type": "code",
   "execution_count": 26,
   "id": "195410a7-cb7b-472c-b6d7-7538141795f9",
   "metadata": {
    "tags": []
   },
   "outputs": [],
   "source": [
    "def pool_adjacency(graph, graph_auxillary):\n",
    "    \"\"\"Pools environmental features from the region for their use with regression\"\"\"\n",
    "    # energy = scatter_mean(graph['footprint'].y, torch.tensor(graph_auxillary['rebuild_idx']).to(device))\n",
    "    energy = graph['footprint'].y.detach().cpu()\n",
    "    links = graph['footprint','contains','pano']['edge_index'].detach().cpu()\n",
    "    \n",
    "    panodata = graph['pano'].x.detach().cpu()\n",
    "    link_source = panodata[links[1]]\n",
    "    link_sink = links[0]\n",
    "    features = scatter_mean(link_source, link_sink, dim=0)\n",
    "    features_max = scatter_max(link_source, link_sink, dim=0)[0]\n",
    "    features_min = scatter_min(link_source, link_sink, dim=0)[0]\n",
    "    \n",
    "    featurenames = graph_auxillary['node_data'].columns\n",
    "    featuremin = featurenames + '_min'\n",
    "    featuremax = featurenames + '_max'\n",
    "    \n",
    "    featuresdf = pd.DataFrame(panodata, columns = featurenames)\n",
    "    featuresdfmax = pd.DataFrame(features_max, columns = featuremax)\n",
    "    featuresdfmin = pd.DataFrame(features_min, columns = featuremin)\n",
    "    return graph_auxillary['footprints'].join(featuresdf).join(featuresdfmax).join(featuresdfmin)"
   ]
  },
  {
   "cell_type": "code",
   "execution_count": 27,
   "id": "10b57f6f-3206-4d7a-b337-573a9c55c377",
   "metadata": {
    "tags": []
   },
   "outputs": [],
   "source": [
    "g1, g1a = graph(\"new-york\", **config)\n",
    "g1p = pool_adjacency(g1, g1a)"
   ]
  },
  {
   "cell_type": "code",
   "execution_count": 28,
   "id": "89291b81-e4c1-42a8-87a9-bdfe39fb17d6",
   "metadata": {
    "tags": []
   },
   "outputs": [
    {
     "data": {
      "text/plain": [
       "{'custom_optimizer': torch.optim.adam.Adam,\n",
       " 'lr': 0.05,\n",
       " 'epochs': 500,\n",
       " 'linear_layers': 2,\n",
       " 'hidden_channels': 8,\n",
       " 'dropout': 0.1,\n",
       " 'test_percent': 12,\n",
       " 'building_buffer': 50,\n",
       " 'building_buffer_min': 20,\n",
       " 'building_buffer_max': 500,\n",
       " 'building_buffer_npoints': 100,\n",
       " 'neighbor_radius': 100,\n",
       " 'n_cv': 5,\n",
       " 'n_cv_generalization': 5,\n",
       " 'cv_size': 1500,\n",
       " 'graph_outchannels': 8,\n",
       " 'graph_layers': 1,\n",
       " 'graph_heads': 1,\n",
       " 'partition_terms': ['road_area',\n",
       "  'building_area',\n",
       "  'sky_area',\n",
       "  'vegetation_area'],\n",
       " 'normalization': {'node': (tensor([0.3248, 0.1555, 0.2400, 0.0668], device='cuda:0'),\n",
       "   tensor([0.1256, 0.1019, 0.0944, 0.0926], device='cuda:0')),\n",
       "  'building': (tensor([   8.8731, 2789.0620, 4786.8970], device='cuda:0', dtype=torch.float64),\n",
       "   tensor([  0.7685, 571.0966, 564.8499], device='cuda:0', dtype=torch.float64))}}"
      ]
     },
     "execution_count": 28,
     "metadata": {},
     "output_type": "execute_result"
    }
   ],
   "source": [
    "{ **config, **{\"normalization\":g1a[\"normalization\"]} }"
   ]
  },
  {
   "cell_type": "code",
   "execution_count": 29,
   "id": "8e83f2e5-5780-426e-b693-4e57915b75ec",
   "metadata": {
    "tags": []
   },
   "outputs": [],
   "source": [
    "g2, g2a = graph(\"san-francisco\", **{ **config, **{\"normalization\":g1a[\"normalization\"]} })\n",
    "g2p = pool_adjacency(g2, g2a)"
   ]
  },
  {
   "cell_type": "code",
   "execution_count": 30,
   "id": "a2d613af-89ca-4500-b2bb-57af7750466c",
   "metadata": {
    "tags": []
   },
   "outputs": [],
   "source": [
    "g3, g3a = graph(\"austin\", **{ **config, **{\"normalization\":g1a[\"normalization\"]} })\n",
    "g3p = pool_adjacency(g3, g3a)"
   ]
  },
  {
   "cell_type": "code",
   "execution_count": 31,
   "id": "4379aa8b-205c-4f43-a6b7-4904f01abd91",
   "metadata": {
    "tags": []
   },
   "outputs": [
    {
     "data": {
      "text/plain": [
       "<AxesSubplot: >"
      ]
     },
     "execution_count": 31,
     "metadata": {},
     "output_type": "execute_result"
    },
    {
     "data": {
      "image/png": "[encoded data removed]",
      "text/plain": [
       "<Figure size 640x480 with 1 Axes>"
      ]
     },
     "metadata": {},
     "output_type": "display_data"
    }
   ],
   "source": [
    "np.log(g1a['footprints'].energy).hist(bins=75, color=\"black\")"
   ]
  },
  {
   "cell_type": "code",
   "execution_count": 32,
   "id": "a6070ca5-cd25-46b3-b8a5-cb7205c891e0",
   "metadata": {
    "tags": []
   },
   "outputs": [
    {
     "data": {
      "text/html": [
       "<div>\n",
       "<style scoped>\n",
       "    .dataframe tbody tr th:only-of-type {\n",
       "        vertical-align: middle;\n",
       "    }\n",
       "\n",
       "    .dataframe tbody tr th {\n",
       "        vertical-align: top;\n",
       "    }\n",
       "\n",
       "    .dataframe thead th {\n",
       "        text-align: right;\n",
       "    }\n",
       "</style>\n",
       "<table border=\"1\" class=\"dataframe\">\n",
       "  <thead>\n",
       "    <tr style=\"text-align: right;\">\n",
       "      <th></th>\n",
       "      <th>energy</th>\n",
       "      <th>area</th>\n",
       "      <th>hdd</th>\n",
       "      <th>cdd</th>\n",
       "      <th>road_area</th>\n",
       "      <th>building_area</th>\n",
       "      <th>sky_area</th>\n",
       "      <th>vegetation_area</th>\n",
       "      <th>road_area_max</th>\n",
       "      <th>building_area_max</th>\n",
       "      <th>sky_area_max</th>\n",
       "      <th>vegetation_area_max</th>\n",
       "      <th>road_area_min</th>\n",
       "      <th>building_area_min</th>\n",
       "      <th>sky_area_min</th>\n",
       "      <th>vegetation_area_min</th>\n",
       "    </tr>\n",
       "  </thead>\n",
       "  <tbody>\n",
       "    <tr>\n",
       "      <th>count</th>\n",
       "      <td>1.325000e+04</td>\n",
       "      <td>13250.000000</td>\n",
       "      <td>13250.000000</td>\n",
       "      <td>13250.000000</td>\n",
       "      <td>13250.000000</td>\n",
       "      <td>13250.000000</td>\n",
       "      <td>13250.000000</td>\n",
       "      <td>13250.000000</td>\n",
       "      <td>13250.000000</td>\n",
       "      <td>13250.000000</td>\n",
       "      <td>13250.000000</td>\n",
       "      <td>13250.000000</td>\n",
       "      <td>13250.000000</td>\n",
       "      <td>13250.000000</td>\n",
       "      <td>13250.000000</td>\n",
       "      <td>13250.000000</td>\n",
       "    </tr>\n",
       "    <tr>\n",
       "      <th>mean</th>\n",
       "      <td>9.262743e+03</td>\n",
       "      <td>9721.956829</td>\n",
       "      <td>2789.061976</td>\n",
       "      <td>4786.897043</td>\n",
       "      <td>-0.034267</td>\n",
       "      <td>0.208520</td>\n",
       "      <td>-0.164041</td>\n",
       "      <td>-0.047283</td>\n",
       "      <td>0.669876</td>\n",
       "      <td>1.006933</td>\n",
       "      <td>0.666637</td>\n",
       "      <td>1.678859</td>\n",
       "      <td>-1.706769</td>\n",
       "      <td>-1.186220</td>\n",
       "      <td>-1.411939</td>\n",
       "      <td>-0.682195</td>\n",
       "    </tr>\n",
       "    <tr>\n",
       "      <th>std</th>\n",
       "      <td>1.176355e+05</td>\n",
       "      <td>8862.209154</td>\n",
       "      <td>571.096633</td>\n",
       "      <td>564.849908</td>\n",
       "      <td>1.009208</td>\n",
       "      <td>1.044116</td>\n",
       "      <td>0.935870</td>\n",
       "      <td>0.960546</td>\n",
       "      <td>0.249633</td>\n",
       "      <td>0.920242</td>\n",
       "      <td>0.710793</td>\n",
       "      <td>1.387557</td>\n",
       "      <td>1.224673</td>\n",
       "      <td>0.534737</td>\n",
       "      <td>0.932753</td>\n",
       "      <td>0.219886</td>\n",
       "    </tr>\n",
       "    <tr>\n",
       "      <th>min</th>\n",
       "      <td>3.597384e-01</td>\n",
       "      <td>27.870939</td>\n",
       "      <td>185.345664</td>\n",
       "      <td>2183.403795</td>\n",
       "      <td>-2.586608</td>\n",
       "      <td>-1.526968</td>\n",
       "      <td>-2.539475</td>\n",
       "      <td>-0.721965</td>\n",
       "      <td>-2.586608</td>\n",
       "      <td>-1.526968</td>\n",
       "      <td>-2.530580</td>\n",
       "      <td>-0.721965</td>\n",
       "      <td>-2.586608</td>\n",
       "      <td>-1.526968</td>\n",
       "      <td>-2.541275</td>\n",
       "      <td>-0.721965</td>\n",
       "    </tr>\n",
       "    <tr>\n",
       "      <th>25%</th>\n",
       "      <td>1.041417e+03</td>\n",
       "      <td>4180.640846</td>\n",
       "      <td>2480.251137</td>\n",
       "      <td>4422.924014</td>\n",
       "      <td>0.020160</td>\n",
       "      <td>-0.494681</td>\n",
       "      <td>-0.740728</td>\n",
       "      <td>-0.721965</td>\n",
       "      <td>0.514820</td>\n",
       "      <td>0.371210</td>\n",
       "      <td>0.176104</td>\n",
       "      <td>0.494772</td>\n",
       "      <td>-2.586608</td>\n",
       "      <td>-1.526968</td>\n",
       "      <td>-2.256012</td>\n",
       "      <td>-0.721965</td>\n",
       "    </tr>\n",
       "    <tr>\n",
       "      <th>50%</th>\n",
       "      <td>1.668340e+03</td>\n",
       "      <td>6573.128699</td>\n",
       "      <td>2923.467476</td>\n",
       "      <td>4791.827975</td>\n",
       "      <td>0.287745</td>\n",
       "      <td>0.169573</td>\n",
       "      <td>-0.119350</td>\n",
       "      <td>-0.453037</td>\n",
       "      <td>0.719638</td>\n",
       "      <td>0.921295</td>\n",
       "      <td>0.708165</td>\n",
       "      <td>1.686721</td>\n",
       "      <td>-2.586608</td>\n",
       "      <td>-1.526968</td>\n",
       "      <td>-1.559163</td>\n",
       "      <td>-0.721965</td>\n",
       "    </tr>\n",
       "    <tr>\n",
       "      <th>75%</th>\n",
       "      <td>2.873830e+03</td>\n",
       "      <td>11550.088722</td>\n",
       "      <td>3183.698351</td>\n",
       "      <td>5156.940276</td>\n",
       "      <td>0.553856</td>\n",
       "      <td>0.859768</td>\n",
       "      <td>0.485165</td>\n",
       "      <td>0.231298</td>\n",
       "      <td>0.840830</td>\n",
       "      <td>1.581524</td>\n",
       "      <td>1.196680</td>\n",
       "      <td>2.855099</td>\n",
       "      <td>-0.130692</td>\n",
       "      <td>-0.903821</td>\n",
       "      <td>-0.788510</td>\n",
       "      <td>-0.721965</td>\n",
       "    </tr>\n",
       "    <tr>\n",
       "      <th>max</th>\n",
       "      <td>5.376747e+06</td>\n",
       "      <td>50304.071944</td>\n",
       "      <td>4149.092892</td>\n",
       "      <td>7351.370592</td>\n",
       "      <td>1.258868</td>\n",
       "      <td>4.125157</td>\n",
       "      <td>2.426675</td>\n",
       "      <td>4.832312</td>\n",
       "      <td>1.905673</td>\n",
       "      <td>4.757753</td>\n",
       "      <td>2.610391</td>\n",
       "      <td>5.938804</td>\n",
       "      <td>0.999605</td>\n",
       "      <td>2.664613</td>\n",
       "      <td>2.351283</td>\n",
       "      <td>4.042053</td>\n",
       "    </tr>\n",
       "  </tbody>\n",
       "</table>\n",
       "</div>"
      ],
      "text/plain": [
       "             energy          area           hdd           cdd     road_area  \\\n",
       "count  1.325000e+04  13250.000000  13250.000000  13250.000000  13250.000000   \n",
       "mean   9.262743e+03   9721.956829   2789.061976   4786.897043     -0.034267   \n",
       "std    1.176355e+05   8862.209154    571.096633    564.849908      1.009208   \n",
       "min    3.597384e-01     27.870939    185.345664   2183.403795     -2.586608   \n",
       "25%    1.041417e+03   4180.640846   2480.251137   4422.924014      0.020160   \n",
       "50%    1.668340e+03   6573.128699   2923.467476   4791.827975      0.287745   \n",
       "75%    2.873830e+03  11550.088722   3183.698351   5156.940276      0.553856   \n",
       "max    5.376747e+06  50304.071944   4149.092892   7351.370592      1.258868   \n",
       "\n",
       "       building_area      sky_area  vegetation_area  road_area_max  \\\n",
       "count   13250.000000  13250.000000     13250.000000   13250.000000   \n",
       "mean        0.208520     -0.164041        -0.047283       0.669876   \n",
       "std         1.044116      0.935870         0.960546       0.249633   \n",
       "min        -1.526968     -2.539475        -0.721965      -2.586608   \n",
       "25%        -0.494681     -0.740728        -0.721965       0.514820   \n",
       "50%         0.169573     -0.119350        -0.453037       0.719638   \n",
       "75%         0.859768      0.485165         0.231298       0.840830   \n",
       "max         4.125157      2.426675         4.832312       1.905673   \n",
       "\n",
       "       building_area_max  sky_area_max  vegetation_area_max  road_area_min  \\\n",
       "count       13250.000000  13250.000000         13250.000000   13250.000000   \n",
       "mean            1.006933      0.666637             1.678859      -1.706769   \n",
       "std             0.920242      0.710793             1.387557       1.224673   \n",
       "min            -1.526968     -2.530580            -0.721965      -2.586608   \n",
       "25%             0.371210      0.176104             0.494772      -2.586608   \n",
       "50%             0.921295      0.708165             1.686721      -2.586608   \n",
       "75%             1.581524      1.196680             2.855099      -0.130692   \n",
       "max             4.757753      2.610391             5.938804       0.999605   \n",
       "\n",
       "       building_area_min  sky_area_min  vegetation_area_min  \n",
       "count       13250.000000  13250.000000         13250.000000  \n",
       "mean           -1.186220     -1.411939            -0.682195  \n",
       "std             0.534737      0.932753             0.219886  \n",
       "min            -1.526968     -2.541275            -0.721965  \n",
       "25%            -1.526968     -2.256012            -0.721965  \n",
       "50%            -1.526968     -1.559163            -0.721965  \n",
       "75%            -0.903821     -0.788510            -0.721965  \n",
       "max             2.664613      2.351283             4.042053  "
      ]
     },
     "execution_count": 32,
     "metadata": {},
     "output_type": "execute_result"
    }
   ],
   "source": [
    "g1p.drop(columns=[\"id\",\"geometry\",\"year\"]).describe()"
   ]
  },
  {
   "cell_type": "code",
   "execution_count": 33,
   "id": "26822f3f-7794-43b1-ac03-96fa8c56e492",
   "metadata": {
    "tags": []
   },
   "outputs": [
    {
     "name": "stdout",
     "output_type": "stream",
     "text": [
      "            energy      area       hdd       cdd  road_area  building_area  \\\n",
      "count    13,250.00 13,250.00 13,250.00 13,250.00  13,250.00      13,250.00   \n",
      "mean      9,262.74  9,721.96  2,789.06  4,786.90      -0.03           0.21   \n",
      "std     117,635.48  8,862.21    571.10    564.85       1.01           1.04   \n",
      "min           0.36     27.87    185.35  2,183.40      -2.59          -1.53   \n",
      "25%       1,041.42  4,180.64  2,480.25  4,422.92       0.02          -0.49   \n",
      "50%       1,668.34  6,573.13  2,923.47  4,791.83       0.29           0.17   \n",
      "75%       2,873.83 11,550.09  3,183.70  5,156.94       0.55           0.86   \n",
      "max   5,376,747.40 50,304.07  4,149.09  7,351.37       1.26           4.13   \n",
      "\n",
      "       sky_area  vegetation_area  road_area_max  building_area_max  \\\n",
      "count 13,250.00        13,250.00      13,250.00          13,250.00   \n",
      "mean      -0.16            -0.05           0.67               1.01   \n",
      "std        0.94             0.96           0.25               0.92   \n",
      "min       -2.54            -0.72          -2.59              -1.53   \n",
      "25%       -0.74            -0.72           0.51               0.37   \n",
      "50%       -0.12            -0.45           0.72               0.92   \n",
      "75%        0.49             0.23           0.84               1.58   \n",
      "max        2.43             4.83           1.91               4.76   \n",
      "\n",
      "       sky_area_max  vegetation_area_max  road_area_min  building_area_min  \\\n",
      "count     13,250.00            13,250.00      13,250.00          13,250.00   \n",
      "mean           0.67                 1.68          -1.71              -1.19   \n",
      "std            0.71                 1.39           1.22               0.53   \n",
      "min           -2.53                -0.72          -2.59              -1.53   \n",
      "25%            0.18                 0.49          -2.59              -1.53   \n",
      "50%            0.71                 1.69          -2.59              -1.53   \n",
      "75%            1.20                 2.86          -0.13              -0.90   \n",
      "max            2.61                 5.94           1.00               2.66   \n",
      "\n",
      "       sky_area_min  vegetation_area_min  \n",
      "count     13,250.00            13,250.00  \n",
      "mean          -1.41                -0.68  \n",
      "std            0.93                 0.22  \n",
      "min           -2.54                -0.72  \n",
      "25%           -2.26                -0.72  \n",
      "50%           -1.56                -0.72  \n",
      "75%           -0.79                -0.72  \n",
      "max            2.35                 4.04  \n"
     ]
    }
   ],
   "source": [
    "with pd.option_context('display.float_format', '{:,.2f}'.format):\n",
    "    print(g1p.drop(columns=[\"id\",\"geometry\",\"year\"]).describe())"
   ]
  },
  {
   "cell_type": "code",
   "execution_count": 34,
   "id": "b968a0b9",
   "metadata": {
    "ExecuteTime": {
     "end_time": "2023-03-08T23:21:22.152361Z",
     "start_time": "2023-03-08T23:21:19.928796Z"
    },
    "tags": []
   },
   "outputs": [],
   "source": [
    "# from src.graph_construction import graph\n",
    "# g1, g1a = graph(\n",
    "#     \"new-york\",\n",
    "#     neighbor_radius=config['neighbor_radius'],\n",
    "#     building_buffer=config['building_buffer'],\n",
    "#     test_percent=config['test-percent']\n",
    "# )\n",
    "# trainids, testids = build_corpus(g1, g1a)\n",
    "\n",
    "# # nycgraph = transform(nycgraph)"
   ]
  },
  {
   "cell_type": "code",
   "execution_count": 35,
   "id": "424f7360-5fa4-4840-a335-9311660f0e9a",
   "metadata": {
    "tags": []
   },
   "outputs": [],
   "source": [
    "idpool = g1a['footprints'].id\n",
    "idtrain = idpool[g1a['training_mask'].detach().cpu().numpy()]\n",
    "idtest = idpool[g1a['test_mask'].detach().cpu().numpy()]"
   ]
  },
  {
   "cell_type": "markdown",
   "id": "260b172a-df76-4565-bd6b-34abb384c6de",
   "metadata": {},
   "source": [
    "### at this point, starting to train the model based on the new york data. m1 will be the linear model with no auxillary features, m2 will be the remote sensing data, m3 will be the comprehensive data"
   ]
  },
  {
   "cell_type": "code",
   "execution_count": 36,
   "id": "4e2cd27e-da2e-42bb-b21f-c7afcc03aeac",
   "metadata": {
    "tags": []
   },
   "outputs": [],
   "source": [
    "f = open(os.path.join(results_dir, 'config_settings.txt'), \"a\")\n",
    "f.write(str(\"\\n\\n\"))\n",
    "f.write(str(\"NY Graph:\\n\"))\n",
    "f.write(str(g1))\n",
    "f.close()"
   ]
  },
  {
   "cell_type": "code",
   "execution_count": 37,
   "id": "83b1cc3a-fbbf-44a2-8c3a-85450ad46244",
   "metadata": {
    "tags": []
   },
   "outputs": [],
   "source": [
    "def build_corpus(graphobj, graphdata):\n",
    "    trainids = []\n",
    "    testids = []\n",
    "\n",
    "    training_corpus = pool_adjacency(graphobj, graphdata).iloc[graphdata['training_mask'].detach().cpu().numpy()].reset_index(drop=True)\n",
    "\n",
    "    kf = KFold(n_splits=config['n_cv'], random_state=rand, shuffle=True)\n",
    "    for train, test in kf.split(training_corpus):\n",
    "        trainids.append(training_corpus.id[train])\n",
    "        testids.append(training_corpus.id[test])\n",
    "        \n",
    "    return trainids, testids"
   ]
  },
  {
   "cell_type": "code",
   "execution_count": 38,
   "id": "6c607307-6278-430b-839a-8008d3ed3baa",
   "metadata": {},
   "outputs": [],
   "source": [
    "def custom_cv(model, training_corpus, trainids, testids):\n",
    "    \"\"\"This needs to implement cross validation but only using hte set which is found in the first radius search of the building\"\"\"\n",
    "    losses = []\n",
    "    abslosses = []\n",
    "    totalhashsum = 0\n",
    "    for c,i in enumerate(trainids):\n",
    "        custom_model = copy.deepcopy(model)\n",
    "        training = training_corpus.loc[training_corpus.id.isin(i)]\n",
    "        testing = training_corpus.loc[training_corpus.id.isin(testids[c])]\n",
    "        \n",
    "        training = training.sort_values(by=\"id\").reset_index(drop=True)\n",
    "        testing = testing.sort_values(by=\"id\").reset_index(drop=True)\n",
    "        \n",
    "        # hashsum = int(pd.util.hash_pandas_object(training.id).sum()) % 1000\n",
    "        # totalhashsum += hashsum\n",
    "                \n",
    "        X = np.array(training.drop(columns=[\"id\",\"geometry\",\"energy\",\"year\"]))\n",
    "        y = np.array(training[\"energy\"])\n",
    "        custom_model.fit(X,y)\n",
    "        \n",
    "        Xt = np.array(testing.drop(columns=[\"id\",\"geometry\",\"energy\",\"year\"]))\n",
    "        yt = np.array(testing[\"energy\"])\n",
    "        yhat = custom_model.predict(Xt)\n",
    "        \n",
    "        # in this case, the Y term is already not normalized\n",
    "        losses.append(np.power(((yhat - yt)**2).mean(axis=None), 0.5))\n",
    "        abslosses.append(np.abs(yhat - yt).mean(axis=None))\n",
    "        \n",
    "    # print(f\"Total Hashsum: {totalhashsum}\")\n",
    "    return (losses, abslosses)"
   ]
  },
  {
   "cell_type": "code",
   "execution_count": 39,
   "id": "5a005f34-024c-4861-8148-603c43ef2459",
   "metadata": {
    "tags": []
   },
   "outputs": [],
   "source": [
    "distances = np.logspace(\n",
    "    np.log10(config['building_buffer_min']), \n",
    "    np.log10(config['building_buffer_max']), \n",
    "    config['building_buffer_npoints']\n",
    ")"
   ]
  },
  {
   "cell_type": "code",
   "execution_count": 40,
   "id": "91ff909a-3d35-46c3-9790-d0147f2d829e",
   "metadata": {
    "tags": []
   },
   "outputs": [],
   "source": [
    "# print(f\"N Training: {len(trainids[0])}\\nN Testing: {len(testids[0])}\")"
   ]
  },
  {
   "cell_type": "code",
   "execution_count": 41,
   "id": "487e19a3-c2c3-44fc-aea7-e28ca24890ac",
   "metadata": {
    "tags": []
   },
   "outputs": [],
   "source": [
    "# print(f\"Losses:\\n\\nM1: {m1_rmse:,.2f}\\nM2: {m2_rmse:,.2f}\\nM3: {m3_rmse:,.2f}\")"
   ]
  },
  {
   "cell_type": "code",
   "execution_count": 42,
   "id": "2f005d7c-adca-403d-8e75-c4b993af71f2",
   "metadata": {
    "tags": []
   },
   "outputs": [],
   "source": [
    "# print(f\"Losses:\\n\\nM4: {m4_rmse:,.2f}\\nM5: {m5_rmse:,.2f}\\nM6: {m6_rmse:,.2f}\")"
   ]
  },
  {
   "cell_type": "code",
   "execution_count": 43,
   "id": "e07bf83b-7b81-4cf7-9db1-f51e2fe5e0fd",
   "metadata": {
    "tags": []
   },
   "outputs": [],
   "source": [
    "# np.mean(losses) / 1e6"
   ]
  },
  {
   "cell_type": "code",
   "execution_count": 44,
   "id": "e03836cd-0086-49cf-bf93-88cd9043c4f5",
   "metadata": {
    "tags": []
   },
   "outputs": [],
   "source": [
    "# np.mean(abslosses)"
   ]
  },
  {
   "cell_type": "code",
   "execution_count": 45,
   "id": "957ca695-540c-41eb-a545-7fae4c33349d",
   "metadata": {},
   "outputs": [],
   "source": [
    "# from src.graph_construction import graph\n",
    "# sfgraph, sf_rebuild_info = graph(\n",
    "#     \"san-fransisco\",\n",
    "#     neighbor_radius=config['neighbor_radius'],\n",
    "#     building_buffer=config['building_buffer'],\n",
    "#     test_percent=config['test-percent']\n",
    "# )"
   ]
  },
  {
   "cell_type": "code",
   "execution_count": null,
   "id": "d7d67bec-30ae-4482-b4d4-ab9068292c1c",
   "metadata": {
    "tags": []
   },
   "outputs": [],
   "source": []
  },
  {
   "cell_type": "code",
   "execution_count": 46,
   "id": "0ec29977-84c7-4e01-85c6-22ac84015b75",
   "metadata": {
    "tags": []
   },
   "outputs": [],
   "source": [
    "f = open(os.path.join(results_dir, 'config_settings.txt'), \"a\")\n",
    "f.write(str(\"\\n\\n\"))\n",
    "f.write(str(\"San Fransisco Graph:\\n\"))\n",
    "f.write(str(g2))\n",
    "f.close()"
   ]
  },
  {
   "cell_type": "code",
   "execution_count": 47,
   "id": "a92ab04f",
   "metadata": {
    "ExecuteTime": {
     "end_time": "2023-03-08T23:21:35.659550Z",
     "start_time": "2023-03-08T23:21:35.498850Z"
    },
    "tags": []
   },
   "outputs": [],
   "source": [
    "# from src.graph_construction import graph\n",
    "# austingraph, austin_rebuild_info = graph(\n",
    "#     \"austin\",\n",
    "#     neighbor_radius=config['neighbor_radius'],\n",
    "#     building_buffer=config['building_buffer'],\n",
    "#     test_percent=config['test-percent']\n",
    "# )"
   ]
  },
  {
   "cell_type": "code",
   "execution_count": 48,
   "id": "d909b1f7-c686-4a62-a91f-4c20a1b4a087",
   "metadata": {
    "tags": []
   },
   "outputs": [],
   "source": [
    "f = open(os.path.join(results_dir, 'config_settings.txt'), \"a\")\n",
    "f.write(str(\"\\n\\n\"))\n",
    "f.write(str(\"Austin Graph:\\n\"))\n",
    "f.write(str(g3))\n",
    "f.close()"
   ]
  },
  {
   "cell_type": "code",
   "execution_count": 49,
   "id": "a7f8b9ae-7027-4be2-8f44-dded18254120",
   "metadata": {
    "tags": []
   },
   "outputs": [
    {
     "data": {
      "text/plain": [
       "tensor(1589, device='cuda:0')"
      ]
     },
     "execution_count": 49,
     "metadata": {},
     "output_type": "execute_result"
    }
   ],
   "source": [
    "(~g1a['training_mask']).sum()"
   ]
  },
  {
   "cell_type": "code",
   "execution_count": 50,
   "id": "64c7c7f7-53fd-4b56-b505-f7484601eba6",
   "metadata": {
    "tags": []
   },
   "outputs": [
    {
     "data": {
      "text/plain": [
       "tensor(11661, device='cuda:0')"
      ]
     },
     "execution_count": 50,
     "metadata": {},
     "output_type": "execute_result"
    }
   ],
   "source": [
    "g1a['training_mask'].sum()"
   ]
  },
  {
   "cell_type": "code",
   "execution_count": null,
   "id": "df020333-1a0d-4af9-a7e2-7d7221f33b87",
   "metadata": {
    "tags": []
   },
   "outputs": [],
   "source": []
  },
  {
   "cell_type": "code",
   "execution_count": 51,
   "id": "51fee153-864e-45f8-ae10-8b9179e0a1a3",
   "metadata": {
    "tags": []
   },
   "outputs": [],
   "source": [
    "loss_func = torch.nn.MSELoss()"
   ]
  },
  {
   "cell_type": "code",
   "execution_count": 52,
   "id": "62373d1f-04e5-4113-ab30-0fbc3a6ae3df",
   "metadata": {
    "tags": []
   },
   "outputs": [],
   "source": [
    "# lossing_func = torch.nn.MSELoss()"
   ]
  },
  {
   "cell_type": "code",
   "execution_count": 53,
   "id": "f558a38c-9e9e-4cf2-ba94-576fbd9c3c1c",
   "metadata": {
    "tags": []
   },
   "outputs": [],
   "source": [
    "# loss_func = lambda x,y: lossing_func(torch.exp(x), torch.exp(y))"
   ]
  },
  {
   "cell_type": "code",
   "execution_count": 54,
   "id": "45eadf29-a9ea-4ada-ac84-9f329a8c78e9",
   "metadata": {
    "tags": []
   },
   "outputs": [
    {
     "data": {
      "text/plain": [
       "MSELoss()"
      ]
     },
     "execution_count": 54,
     "metadata": {},
     "output_type": "execute_result"
    }
   ],
   "source": [
    "loss_func"
   ]
  },
  {
   "cell_type": "code",
   "execution_count": 55,
   "id": "458d45eb",
   "metadata": {
    "ExecuteTime": {
     "end_time": "2023-03-08T23:21:42.760115Z",
     "start_time": "2023-03-08T23:21:42.742207Z"
    },
    "tags": []
   },
   "outputs": [],
   "source": [
    "nyc_mask = g1a['training_mask'].cpu().numpy()"
   ]
  },
  {
   "cell_type": "code",
   "execution_count": 56,
   "id": "33c496e9-e34b-4700-8f46-e4d0bdb94e19",
   "metadata": {
    "tags": []
   },
   "outputs": [
    {
     "data": {
      "text/plain": [
       "1166"
      ]
     },
     "execution_count": 56,
     "metadata": {},
     "output_type": "execute_result"
    }
   ],
   "source": [
    "int(nyc_mask.sum() * 0.1)"
   ]
  },
  {
   "cell_type": "code",
   "execution_count": 57,
   "id": "7c093aeb-4808-4255-b51d-be14e192251e",
   "metadata": {
    "tags": []
   },
   "outputs": [
    {
     "data": {
      "text/plain": [
       "1166"
      ]
     },
     "execution_count": 57,
     "metadata": {},
     "output_type": "execute_result"
    }
   ],
   "source": [
    "config['cv_size'] = int(nyc_mask.sum() * 0.1)\n",
    "config['cv_size']"
   ]
  },
  {
   "cell_type": "code",
   "execution_count": 58,
   "id": "2a4b3eaa-6b76-443f-8da2-581fd5e648f7",
   "metadata": {
    "tags": []
   },
   "outputs": [
    {
     "data": {
      "text/plain": [
       "{'custom_optimizer': torch.optim.adam.Adam,\n",
       " 'lr': 0.05,\n",
       " 'epochs': 500,\n",
       " 'linear_layers': 2,\n",
       " 'hidden_channels': 8,\n",
       " 'dropout': 0.1,\n",
       " 'test_percent': 12,\n",
       " 'building_buffer': 50,\n",
       " 'building_buffer_min': 20,\n",
       " 'building_buffer_max': 500,\n",
       " 'building_buffer_npoints': 100,\n",
       " 'neighbor_radius': 100,\n",
       " 'n_cv': 5,\n",
       " 'n_cv_generalization': 5,\n",
       " 'cv_size': 1166,\n",
       " 'graph_outchannels': 8,\n",
       " 'graph_layers': 1,\n",
       " 'graph_heads': 1,\n",
       " 'partition_terms': ['road_area',\n",
       "  'building_area',\n",
       "  'sky_area',\n",
       "  'vegetation_area']}"
      ]
     },
     "execution_count": 58,
     "metadata": {},
     "output_type": "execute_result"
    }
   ],
   "source": [
    "config"
   ]
  },
  {
   "cell_type": "code",
   "execution_count": 59,
   "id": "70ba9c6f-2385-4617-9cdc-1cce65252727",
   "metadata": {
    "tags": []
   },
   "outputs": [
    {
     "data": {
      "text/plain": [
       "[(array([ True,  True,  True, ...,  True, False, False]),\n",
       "  array([False, False, False, ..., False,  True, False])),\n",
       " (array([ True,  True,  True, ...,  True,  True, False]),\n",
       "  array([False, False, False, ..., False, False, False])),\n",
       " (array([ True,  True,  True, ...,  True,  True, False]),\n",
       "  array([False, False, False, ..., False, False, False])),\n",
       " (array([False,  True,  True, ..., False,  True, False]),\n",
       "  array([ True, False, False, ...,  True, False, False])),\n",
       " (array([ True,  True,  True, ...,  True,  True, False]),\n",
       "  array([False, False, False, ..., False, False, False]))]"
      ]
     },
     "execution_count": 59,
     "metadata": {},
     "output_type": "execute_result"
    }
   ],
   "source": [
    "seed_everything(rand)\n",
    "nyc_cvs = build_masks(nyc_mask, **config)\n",
    "nyc_cvs"
   ]
  },
  {
   "cell_type": "code",
   "execution_count": 60,
   "id": "3baf752b",
   "metadata": {
    "ExecuteTime": {
     "end_time": "2023-03-08T23:21:45.883068Z",
     "start_time": "2023-03-08T23:21:45.839348Z"
    },
    "tags": []
   },
   "outputs": [],
   "source": [
    "valmean = []\n",
    "valstd = []\n",
    "\n",
    "trainmean = []\n",
    "trainstd = []\n",
    "\n",
    "nyX = g1['footprint'].x.detach().cpu().numpy()\n",
    "nyY = g1['footprint'].y.cpu()\n",
    "\n",
    "cvtrain_errors = []\n",
    "cv_errors = []\n",
    "for crossfold in nyc_cvs:\n",
    "    nytrain, nyval = crossfold\n",
    "\n",
    "    linearmodel = ElasticNet()\n",
    "    reg = linearmodel.fit(nyX[nytrain], nyY[nytrain])\n",
    "    overfitpred = reg.predict(nyX[nytrain])\n",
    "    fitpred = reg.predict(nyX[nyval])\n",
    "\n",
    "    # these terms are all normalized, so this should be projected back with exp\n",
    "    overfitloss = float(loss_func(torch.tensor(overfitpred), nyY[nytrain]))\n",
    "    regloss = float(loss_func(torch.tensor(fitpred), nyY[nyval]))\n",
    "\n",
    "    cvtrain_errors.append(overfitloss)\n",
    "    cv_errors.append(regloss)\n",
    "\n",
    "linear_regtrainerr = np.mean(cvtrain_errors)\n",
    "linear_regerr = np.mean(cv_errors)\n",
    "\n",
    "trainmean.append(linear_regtrainerr)\n",
    "valmean.append(linear_regerr)\n",
    "\n",
    "trainstd.append(np.std(cvtrain_errors))\n",
    "valstd.append(np.std(cv_errors))"
   ]
  },
  {
   "cell_type": "code",
   "execution_count": 61,
   "id": "52ee4fb0-d8d1-4987-8284-43ec489ae046",
   "metadata": {
    "tags": []
   },
   "outputs": [
    {
     "data": {
      "text/plain": [
       "tensor([6.9295, 7.8155, 7.5712,  ..., 5.8046, 8.9423, 6.6649])"
      ]
     },
     "execution_count": 61,
     "metadata": {},
     "output_type": "execute_result"
    }
   ],
   "source": [
    "nyY"
   ]
  },
  {
   "cell_type": "code",
   "execution_count": 62,
   "id": "9ff776e4-7ed1-4b8c-818d-972fef26c5cf",
   "metadata": {
    "tags": []
   },
   "outputs": [
    {
     "data": {
      "image/png": "[encoded data removed]",
      "text/plain": [
       "<Figure size 800x600 with 1 Axes>"
      ]
     },
     "metadata": {},
     "output_type": "display_data"
    }
   ],
   "source": [
    "plt.figure(dpi=125)\n",
    "\n",
    "plt.plot(range(len(cv_errors)), cv_errors, '-o', label=\"Validate\")\n",
    "plt.plot(range(len(cvtrain_errors)), cvtrain_errors, '-o', label=\"Training\")\n",
    "plt.legend()\n",
    "plt.show()"
   ]
  },
  {
   "cell_type": "code",
   "execution_count": 63,
   "id": "673f7fa6-cdd8-4d6a-884d-c5a013480b6d",
   "metadata": {
    "tags": []
   },
   "outputs": [
    {
     "data": {
      "text/plain": [
       "[0.9516579031944274]"
      ]
     },
     "execution_count": 63,
     "metadata": {},
     "output_type": "execute_result"
    }
   ],
   "source": [
    "trainmean"
   ]
  },
  {
   "cell_type": "code",
   "execution_count": 64,
   "id": "4d614367-6062-43d5-8d89-46ee242920b4",
   "metadata": {
    "tags": []
   },
   "outputs": [
    {
     "data": {
      "text/plain": [
       "[0.9835290312767029]"
      ]
     },
     "execution_count": 64,
     "metadata": {},
     "output_type": "execute_result"
    }
   ],
   "source": [
    "valmean"
   ]
  },
  {
   "cell_type": "code",
   "execution_count": 65,
   "id": "02976b1f-bd34-4812-a877-195f6a7d414a",
   "metadata": {
    "tags": []
   },
   "outputs": [],
   "source": [
    "linearmodel = ElasticNet()\n",
    "fullreg = linearmodel.fit(nyX, nyY)"
   ]
  },
  {
   "cell_type": "code",
   "execution_count": null,
   "id": "71711147-b095-4ff5-ba26-141261c13aed",
   "metadata": {
    "tags": []
   },
   "outputs": [],
   "source": []
  },
  {
   "cell_type": "code",
   "execution_count": 66,
   "id": "3a6858b5-519d-443d-8383-67dd3b97caac",
   "metadata": {
    "tags": []
   },
   "outputs": [],
   "source": [
    "# plt.plot(range(ntesting), trainmean, label=\"training\")\n",
    "# plt.fill_between(\n",
    "#     range(ntesting), \n",
    "#     np.array(trainmean) - np.array(trainstd), \n",
    "#     np.array(trainmean) + np.array(trainstd),\n",
    "#     alpha=0.2\n",
    "# ) \n",
    "\n",
    "# plt.plot(range(ntesting), valmean, label=\"validation\")\n",
    "# plt.fill_between(\n",
    "#     range(ntesting), \n",
    "#     np.array(valmean) - np.array(valstd), \n",
    "#     np.array(valmean) + np.array(valstd),\n",
    "#     alpha=0.2\n",
    "# )\n",
    "\n",
    "# plt.ylim(0.3, 1.3)\n",
    "# plt.legend()\n",
    "# plt.show()"
   ]
  },
  {
   "cell_type": "code",
   "execution_count": 67,
   "id": "846caf58-83c4-4e3d-a05d-50c63a3474e0",
   "metadata": {
    "tags": []
   },
   "outputs": [],
   "source": [
    "# config['epochs'] = int(1e3)\n",
    "# config['lr'] = 0.01"
   ]
  },
  {
   "cell_type": "code",
   "execution_count": 68,
   "id": "975fc30f-63f4-4567-a302-8c968cbac53f",
   "metadata": {
    "tags": []
   },
   "outputs": [
    {
     "data": {
      "text/plain": [
       "{'custom_optimizer': torch.optim.adam.Adam,\n",
       " 'lr': 0.05,\n",
       " 'epochs': 500,\n",
       " 'linear_layers': 2,\n",
       " 'hidden_channels': 8,\n",
       " 'dropout': 0.1,\n",
       " 'test_percent': 12,\n",
       " 'building_buffer': 50,\n",
       " 'building_buffer_min': 20,\n",
       " 'building_buffer_max': 500,\n",
       " 'building_buffer_npoints': 100,\n",
       " 'neighbor_radius': 100,\n",
       " 'n_cv': 5,\n",
       " 'n_cv_generalization': 5,\n",
       " 'cv_size': 1166,\n",
       " 'graph_outchannels': 8,\n",
       " 'graph_layers': 1,\n",
       " 'graph_heads': 1,\n",
       " 'partition_terms': ['road_area',\n",
       "  'building_area',\n",
       "  'sky_area',\n",
       "  'vegetation_area']}"
      ]
     },
     "execution_count": 68,
     "metadata": {},
     "output_type": "execute_result"
    }
   ],
   "source": [
    "config"
   ]
  },
  {
   "cell_type": "code",
   "execution_count": 69,
   "id": "8cc5b88d-7301-4eef-87ff-56fd39eee5e0",
   "metadata": {
    "tags": []
   },
   "outputs": [
    {
     "data": {
      "text/plain": [
       "tensor([[-0.4678, -2.0384,  1.0211],\n",
       "        [ 0.5994, -2.0559,  1.0373],\n",
       "        [ 0.4398, -1.4426,  0.6408],\n",
       "        ...,\n",
       "        [-1.3529,  0.3075, -1.3260],\n",
       "        [ 1.9605, -0.7385,  0.1662],\n",
       "        [-2.3120,  1.0586, -2.6953]], device='cuda:0')"
      ]
     },
     "execution_count": 69,
     "metadata": {},
     "output_type": "execute_result"
    }
   ],
   "source": [
    "g1['footprint'].x"
   ]
  },
  {
   "cell_type": "code",
   "execution_count": 70,
   "id": "c08e5096-c5e2-4191-9475-d578e0788045",
   "metadata": {
    "tags": []
   },
   "outputs": [
    {
     "data": {
      "text/plain": [
       "{'x': tensor([[ 0.1489, -1.5270, -2.4468, -0.7220],\n",
       "        [-0.0394,  0.0612, -2.3419,  3.0626],\n",
       "        [-2.5866, -1.5270, -0.6134, -0.7220],\n",
       "        ...,\n",
       "        [-2.5866,  0.7042, -1.5765, -0.7220],\n",
       "        [ 0.0469, -0.3163, -0.2268,  0.8240],\n",
       "        [ 0.3506,  0.2490, -1.8124,  2.0574]], device='cuda:0')}"
      ]
     },
     "execution_count": 70,
     "metadata": {},
     "output_type": "execute_result"
    }
   ],
   "source": [
    "g1['pano']"
   ]
  },
  {
   "cell_type": "code",
   "execution_count": 71,
   "id": "778f5530-8281-48ed-9c63-34f73e4961f7",
   "metadata": {
    "tags": []
   },
   "outputs": [],
   "source": [
    "# from collections import Counter\n",
    "# sorted(Counter(g1a['footprints'].id).items(), key=lambda x:-x[1])"
   ]
  },
  {
   "cell_type": "code",
   "execution_count": 72,
   "id": "0807287e-38d3-40b6-a73a-3e85e20838a9",
   "metadata": {
    "tags": []
   },
   "outputs": [
    {
     "data": {
      "text/html": [
       "<div>\n",
       "<style scoped>\n",
       "    .dataframe tbody tr th:only-of-type {\n",
       "        vertical-align: middle;\n",
       "    }\n",
       "\n",
       "    .dataframe tbody tr th {\n",
       "        vertical-align: top;\n",
       "    }\n",
       "\n",
       "    .dataframe thead th {\n",
       "        text-align: right;\n",
       "    }\n",
       "</style>\n",
       "<table border=\"1\" class=\"dataframe\">\n",
       "  <thead>\n",
       "    <tr style=\"text-align: right;\">\n",
       "      <th></th>\n",
       "      <th>energy</th>\n",
       "      <th>area</th>\n",
       "      <th>hdd</th>\n",
       "      <th>cdd</th>\n",
       "    </tr>\n",
       "  </thead>\n",
       "  <tbody>\n",
       "    <tr>\n",
       "      <th>0</th>\n",
       "      <td>1022.022331</td>\n",
       "      <td>4982.209051</td>\n",
       "      <td>1624.918473</td>\n",
       "      <td>5363.637485</td>\n",
       "    </tr>\n",
       "    <tr>\n",
       "      <th>1</th>\n",
       "      <td>2478.793617</td>\n",
       "      <td>11313.278644</td>\n",
       "      <td>1614.950900</td>\n",
       "      <td>5372.794854</td>\n",
       "    </tr>\n",
       "    <tr>\n",
       "      <th>2</th>\n",
       "      <td>1941.433943</td>\n",
       "      <td>10007.896766</td>\n",
       "      <td>1965.225422</td>\n",
       "      <td>5148.860663</td>\n",
       "    </tr>\n",
       "    <tr>\n",
       "      <th>3</th>\n",
       "      <td>2320.106108</td>\n",
       "      <td>8175.475432</td>\n",
       "      <td>1953.123393</td>\n",
       "      <td>5157.394536</td>\n",
       "    </tr>\n",
       "    <tr>\n",
       "      <th>4</th>\n",
       "      <td>7476.661849</td>\n",
       "      <td>43841.823131</td>\n",
       "      <td>1620.297029</td>\n",
       "      <td>5374.593192</td>\n",
       "    </tr>\n",
       "    <tr>\n",
       "      <th>...</th>\n",
       "      <td>...</td>\n",
       "      <td>...</td>\n",
       "      <td>...</td>\n",
       "      <td>...</td>\n",
       "    </tr>\n",
       "    <tr>\n",
       "      <th>13245</th>\n",
       "      <td>537.698770</td>\n",
       "      <td>1323.869601</td>\n",
       "      <td>2669.791720</td>\n",
       "      <td>5059.377001</td>\n",
       "    </tr>\n",
       "    <tr>\n",
       "      <th>13246</th>\n",
       "      <td>455.810500</td>\n",
       "      <td>2861.602207</td>\n",
       "      <td>2498.516781</td>\n",
       "      <td>4948.448631</td>\n",
       "    </tr>\n",
       "    <tr>\n",
       "      <th>13247</th>\n",
       "      <td>331.807401</td>\n",
       "      <td>2523.713524</td>\n",
       "      <td>2964.684116</td>\n",
       "      <td>4037.880723</td>\n",
       "    </tr>\n",
       "    <tr>\n",
       "      <th>13248</th>\n",
       "      <td>7648.797011</td>\n",
       "      <td>32198.180957</td>\n",
       "      <td>2367.297559</td>\n",
       "      <td>4880.790748</td>\n",
       "    </tr>\n",
       "    <tr>\n",
       "      <th>13249</th>\n",
       "      <td>784.407552</td>\n",
       "      <td>1207.740689</td>\n",
       "      <td>3393.641800</td>\n",
       "      <td>3264.480132</td>\n",
       "    </tr>\n",
       "  </tbody>\n",
       "</table>\n",
       "<p>13250 rows × 4 columns</p>\n",
       "</div>"
      ],
      "text/plain": [
       "            energy          area          hdd          cdd\n",
       "0      1022.022331   4982.209051  1624.918473  5363.637485\n",
       "1      2478.793617  11313.278644  1614.950900  5372.794854\n",
       "2      1941.433943  10007.896766  1965.225422  5148.860663\n",
       "3      2320.106108   8175.475432  1953.123393  5157.394536\n",
       "4      7476.661849  43841.823131  1620.297029  5374.593192\n",
       "...            ...           ...          ...          ...\n",
       "13245   537.698770   1323.869601  2669.791720  5059.377001\n",
       "13246   455.810500   2861.602207  2498.516781  4948.448631\n",
       "13247   331.807401   2523.713524  2964.684116  4037.880723\n",
       "13248  7648.797011  32198.180957  2367.297559  4880.790748\n",
       "13249   784.407552   1207.740689  3393.641800  3264.480132\n",
       "\n",
       "[13250 rows x 4 columns]"
      ]
     },
     "execution_count": 72,
     "metadata": {},
     "output_type": "execute_result"
    }
   ],
   "source": [
    "g1a['footprints'].drop(columns=[\"id\",\"geometry\",\"year\"])"
   ]
  },
  {
   "cell_type": "code",
   "execution_count": 73,
   "id": "a4559e8f-5fef-4862-a9b5-f39f42258c15",
   "metadata": {
    "tags": []
   },
   "outputs": [
    {
     "data": {
      "text/plain": [
       "Index(['pano_id', 'pano_date', 'geometry', 'id', 'car_area', 'building_area',\n",
       "       'truck_area', 'traffic light_area', 'person_area', 'road_area',\n",
       "       'traffic sign_area', 'terrain_area', 'sky_area', 'wall_area',\n",
       "       'fence_area', 'motorcycle_area', 'pole_area', 'bus_area',\n",
       "       'vegetation_area', 'sidewalk_area', 'bicycle_area', 'train_area',\n",
       "       'rider_area', 'car_count', 'building_count', 'bicycle_count',\n",
       "       'person_count', 'road_count', 'traffic sign_count', 'sidewalk_count',\n",
       "       'sky_count', 'fence_count', 'pole_count', 'vegetation_count',\n",
       "       'motorcycle_count', 'truck_count', 'terrain_count', 'rider_count',\n",
       "       'traffic light_count', 'wall_count', 'bus_count', 'train_count'],\n",
       "      dtype='object')"
      ]
     },
     "execution_count": 73,
     "metadata": {},
     "output_type": "execute_result"
    }
   ],
   "source": [
    "g1a['node_data_original'].columns"
   ]
  },
  {
   "cell_type": "code",
   "execution_count": 74,
   "id": "f8ba9a9d-547e-4275-a34c-7d057d067fe8",
   "metadata": {
    "tags": []
   },
   "outputs": [
    {
     "data": {
      "text/plain": [
       "0        1022.022331\n",
       "1        2478.793617\n",
       "2        1941.433943\n",
       "3        2320.106108\n",
       "4        7476.661849\n",
       "            ...     \n",
       "13245     537.698770\n",
       "13246     455.810500\n",
       "13247     331.807401\n",
       "13248    7648.797011\n",
       "13249     784.407552\n",
       "Name: energy, Length: 13250, dtype: float64"
      ]
     },
     "execution_count": 74,
     "metadata": {},
     "output_type": "execute_result"
    }
   ],
   "source": [
    "g1a['footprints'].energy"
   ]
  },
  {
   "cell_type": "code",
   "execution_count": 75,
   "id": "20278fb7-4f74-402b-9b16-0ab9c07d0bf1",
   "metadata": {
    "tags": []
   },
   "outputs": [],
   "source": [
    "config['input_shape'] = g1['footprint'].x.shape[1]"
   ]
  },
  {
   "cell_type": "code",
   "execution_count": 76,
   "id": "eefe46f1-89fa-41dd-b99f-7a0e16314592",
   "metadata": {
    "tags": []
   },
   "outputs": [
    {
     "data": {
      "text/html": [
       "<div>\n",
       "<style scoped>\n",
       "    .dataframe tbody tr th:only-of-type {\n",
       "        vertical-align: middle;\n",
       "    }\n",
       "\n",
       "    .dataframe tbody tr th {\n",
       "        vertical-align: top;\n",
       "    }\n",
       "\n",
       "    .dataframe thead th {\n",
       "        text-align: right;\n",
       "    }\n",
       "</style>\n",
       "<table border=\"1\" class=\"dataframe\">\n",
       "  <thead>\n",
       "    <tr style=\"text-align: right;\">\n",
       "      <th></th>\n",
       "      <th>id</th>\n",
       "      <th>geometry</th>\n",
       "      <th>energy</th>\n",
       "      <th>area</th>\n",
       "      <th>year</th>\n",
       "      <th>hdd</th>\n",
       "      <th>cdd</th>\n",
       "    </tr>\n",
       "  </thead>\n",
       "  <tbody>\n",
       "    <tr>\n",
       "      <th>0</th>\n",
       "      <td>9831628575705046469</td>\n",
       "      <td>POLYGON ((585927.699 4510953.665, 585901.046 4...</td>\n",
       "      <td>1022.022331</td>\n",
       "      <td>4982.209051</td>\n",
       "      <td>2012</td>\n",
       "      <td>1624.918473</td>\n",
       "      <td>5363.637485</td>\n",
       "    </tr>\n",
       "    <tr>\n",
       "      <th>1</th>\n",
       "      <td>9906335732894406041</td>\n",
       "      <td>POLYGON ((585979.951 4510960.203, 585958.745 4...</td>\n",
       "      <td>2478.793617</td>\n",
       "      <td>11313.278644</td>\n",
       "      <td>2016</td>\n",
       "      <td>1614.950900</td>\n",
       "      <td>5372.794854</td>\n",
       "    </tr>\n",
       "    <tr>\n",
       "      <th>2</th>\n",
       "      <td>2297473246273451415</td>\n",
       "      <td>POLYGON ((586034.073 4510942.067, 586007.085 4...</td>\n",
       "      <td>1941.433943</td>\n",
       "      <td>10007.896766</td>\n",
       "      <td>2012</td>\n",
       "      <td>1965.225422</td>\n",
       "      <td>5148.860663</td>\n",
       "    </tr>\n",
       "    <tr>\n",
       "      <th>3</th>\n",
       "      <td>9347094723886029705</td>\n",
       "      <td>POLYGON ((586018.693 4510920.153, 586006.627 4...</td>\n",
       "      <td>2320.106108</td>\n",
       "      <td>8175.475432</td>\n",
       "      <td>2012</td>\n",
       "      <td>1953.123393</td>\n",
       "      <td>5157.394536</td>\n",
       "    </tr>\n",
       "    <tr>\n",
       "      <th>4</th>\n",
       "      <td>10426804091157841868</td>\n",
       "      <td>POLYGON ((585927.840 4510967.054, 585913.878 4...</td>\n",
       "      <td>7476.661849</td>\n",
       "      <td>43841.823131</td>\n",
       "      <td>2012</td>\n",
       "      <td>1620.297029</td>\n",
       "      <td>5374.593192</td>\n",
       "    </tr>\n",
       "    <tr>\n",
       "      <th>...</th>\n",
       "      <td>...</td>\n",
       "      <td>...</td>\n",
       "      <td>...</td>\n",
       "      <td>...</td>\n",
       "      <td>...</td>\n",
       "      <td>...</td>\n",
       "      <td>...</td>\n",
       "    </tr>\n",
       "    <tr>\n",
       "      <th>13245</th>\n",
       "      <td>5418421121047772298</td>\n",
       "      <td>POLYGON ((592755.083 4508579.412, 592751.726 4...</td>\n",
       "      <td>537.698770</td>\n",
       "      <td>1323.869601</td>\n",
       "      <td>2017</td>\n",
       "      <td>2669.791720</td>\n",
       "      <td>5059.377001</td>\n",
       "    </tr>\n",
       "    <tr>\n",
       "      <th>13246</th>\n",
       "      <td>17387926769912699130</td>\n",
       "      <td>POLYGON ((585891.181 4502972.274, 585890.184 4...</td>\n",
       "      <td>455.810500</td>\n",
       "      <td>2861.602207</td>\n",
       "      <td>2017</td>\n",
       "      <td>2498.516781</td>\n",
       "      <td>4948.448631</td>\n",
       "    </tr>\n",
       "    <tr>\n",
       "      <th>13247</th>\n",
       "      <td>14912680076571063750</td>\n",
       "      <td>POLYGON ((584819.051 4503924.946, 584784.215 4...</td>\n",
       "      <td>331.807401</td>\n",
       "      <td>2523.713524</td>\n",
       "      <td>2017</td>\n",
       "      <td>2964.684116</td>\n",
       "      <td>4037.880723</td>\n",
       "    </tr>\n",
       "    <tr>\n",
       "      <th>13248</th>\n",
       "      <td>1836429563859990194</td>\n",
       "      <td>POLYGON ((583641.685 4502671.305, 583467.840 4...</td>\n",
       "      <td>7648.797011</td>\n",
       "      <td>32198.180957</td>\n",
       "      <td>2016</td>\n",
       "      <td>2367.297559</td>\n",
       "      <td>4880.790748</td>\n",
       "    </tr>\n",
       "    <tr>\n",
       "      <th>13249</th>\n",
       "      <td>15242956676492688919</td>\n",
       "      <td>POLYGON ((587808.975 4516068.062, 587741.570 4...</td>\n",
       "      <td>784.407552</td>\n",
       "      <td>1207.740689</td>\n",
       "      <td>2016</td>\n",
       "      <td>3393.641800</td>\n",
       "      <td>3264.480132</td>\n",
       "    </tr>\n",
       "  </tbody>\n",
       "</table>\n",
       "<p>13250 rows × 7 columns</p>\n",
       "</div>"
      ],
      "text/plain": [
       "                         id  \\\n",
       "0       9831628575705046469   \n",
       "1       9906335732894406041   \n",
       "2       2297473246273451415   \n",
       "3       9347094723886029705   \n",
       "4      10426804091157841868   \n",
       "...                     ...   \n",
       "13245   5418421121047772298   \n",
       "13246  17387926769912699130   \n",
       "13247  14912680076571063750   \n",
       "13248   1836429563859990194   \n",
       "13249  15242956676492688919   \n",
       "\n",
       "                                                geometry       energy  \\\n",
       "0      POLYGON ((585927.699 4510953.665, 585901.046 4...  1022.022331   \n",
       "1      POLYGON ((585979.951 4510960.203, 585958.745 4...  2478.793617   \n",
       "2      POLYGON ((586034.073 4510942.067, 586007.085 4...  1941.433943   \n",
       "3      POLYGON ((586018.693 4510920.153, 586006.627 4...  2320.106108   \n",
       "4      POLYGON ((585927.840 4510967.054, 585913.878 4...  7476.661849   \n",
       "...                                                  ...          ...   \n",
       "13245  POLYGON ((592755.083 4508579.412, 592751.726 4...   537.698770   \n",
       "13246  POLYGON ((585891.181 4502972.274, 585890.184 4...   455.810500   \n",
       "13247  POLYGON ((584819.051 4503924.946, 584784.215 4...   331.807401   \n",
       "13248  POLYGON ((583641.685 4502671.305, 583467.840 4...  7648.797011   \n",
       "13249  POLYGON ((587808.975 4516068.062, 587741.570 4...   784.407552   \n",
       "\n",
       "               area  year          hdd          cdd  \n",
       "0       4982.209051  2012  1624.918473  5363.637485  \n",
       "1      11313.278644  2016  1614.950900  5372.794854  \n",
       "2      10007.896766  2012  1965.225422  5148.860663  \n",
       "3       8175.475432  2012  1953.123393  5157.394536  \n",
       "4      43841.823131  2012  1620.297029  5374.593192  \n",
       "...             ...   ...          ...          ...  \n",
       "13245   1323.869601  2017  2669.791720  5059.377001  \n",
       "13246   2861.602207  2017  2498.516781  4948.448631  \n",
       "13247   2523.713524  2017  2964.684116  4037.880723  \n",
       "13248  32198.180957  2016  2367.297559  4880.790748  \n",
       "13249   1207.740689  2016  3393.641800  3264.480132  \n",
       "\n",
       "[13250 rows x 7 columns]"
      ]
     },
     "execution_count": 76,
     "metadata": {},
     "output_type": "execute_result"
    }
   ],
   "source": [
    "g1a['footprints']"
   ]
  },
  {
   "cell_type": "code",
   "execution_count": null,
   "id": "630e459c-d421-41c1-8c70-cafa87052bf1",
   "metadata": {},
   "outputs": [],
   "source": []
  },
  {
   "cell_type": "code",
   "execution_count": 77,
   "id": "aefdaafa",
   "metadata": {
    "ExecuteTime": {
     "end_time": "2023-03-08T23:22:09.278532Z",
     "start_time": "2023-03-08T23:21:49.701330Z"
    },
    "tags": []
   },
   "outputs": [
    {
     "data": {
      "application/vnd.jupyter.widget-view+json": {
       "model_id": "34ce82f1d5014a8ebe66e3bf402e8965",
       "version_major": 2,
       "version_minor": 0
      },
      "text/plain": [
       "CV Loop:   0%|          | 0/5 [00:00<?, ?it/s]"
      ]
     },
     "metadata": {},
     "output_type": "display_data"
    },
    {
     "data": {
      "application/vnd.jupyter.widget-view+json": {
       "model_id": "",
       "version_major": 2,
       "version_minor": 0
      },
      "text/plain": [
       "Epoch:   0%|          | 0/500 [00:00<?, ?it/s]"
      ]
     },
     "metadata": {},
     "output_type": "display_data"
    },
    {
     "data": {
      "application/vnd.jupyter.widget-view+json": {
       "model_id": "",
       "version_major": 2,
       "version_minor": 0
      },
      "text/plain": [
       "Epoch:   0%|          | 0/500 [00:00<?, ?it/s]"
      ]
     },
     "metadata": {},
     "output_type": "display_data"
    },
    {
     "data": {
      "application/vnd.jupyter.widget-view+json": {
       "model_id": "",
       "version_major": 2,
       "version_minor": 0
      },
      "text/plain": [
       "Epoch:   0%|          | 0/500 [00:00<?, ?it/s]"
      ]
     },
     "metadata": {},
     "output_type": "display_data"
    },
    {
     "data": {
      "application/vnd.jupyter.widget-view+json": {
       "model_id": "",
       "version_major": 2,
       "version_minor": 0
      },
      "text/plain": [
       "Epoch:   0%|          | 0/500 [00:00<?, ?it/s]"
      ]
     },
     "metadata": {},
     "output_type": "display_data"
    },
    {
     "data": {
      "application/vnd.jupyter.widget-view+json": {
       "model_id": "",
       "version_major": 2,
       "version_minor": 0
      },
      "text/plain": [
       "Epoch:   0%|          | 0/500 [00:00<?, ?it/s]"
      ]
     },
     "metadata": {},
     "output_type": "display_data"
    }
   ],
   "source": [
    "# input_shape = nycgraph['footprint'].x.shape[1]\n",
    "seed_everything(rand)\n",
    "\n",
    "nullmodel = NullModel(\n",
    "    layers = config['linear_layers'],\n",
    "    input_shape = config['input_shape'],\n",
    "    hidden_channels = config['hidden_channels']\n",
    ").to(device)\n",
    "\n",
    "default_nullmodelstate = copy.deepcopy(nullmodel.state_dict())\n",
    "null_training_tensor, null_validation_tensor = crossvalidation(\n",
    "    nullmodel,\n",
    "    lambda: nullmodel(g1['footprint'].x),\n",
    "    nyc_cvs,\n",
    "    g1['footprint'].y,\n",
    "    epochs = config['epochs'],\n",
    "    custom_optimizer = config['custom_optimizer'],\n",
    "    lr = config['lr'],\n",
    "    config = config,\n",
    "    log_model = False\n",
    ")"
   ]
  },
  {
   "cell_type": "code",
   "execution_count": 78,
   "id": "5cd834ae",
   "metadata": {
    "ExecuteTime": {
     "end_time": "2023-03-08T23:22:36.199950Z",
     "start_time": "2023-03-08T23:22:36.158633Z"
    },
    "tags": []
   },
   "outputs": [
    {
     "name": "stderr",
     "output_type": "stream",
     "text": [
      "/home/thomas/miniconda3/envs/dbr/lib/python3.9/site-packages/torch_geometric/nn/conv/hetero_conv.py:58: UserWarning: There exist node types ({'pano'}) whose representations do not get updated during message passing as they do not occur as destination type in any edge type. This may lead to unexpected behaviour.\n",
      "  warnings.warn(\n"
     ]
    }
   ],
   "source": [
    "model = CustomGAT(\n",
    "    hidden_channels = config['hidden_channels'], \n",
    "    out_channels=config['graph_outchannels'],\n",
    "    layers=config['graph_layers'],\n",
    "    heads=config['graph_heads'],\n",
    "    linear_layers = config['linear_layers'],\n",
    "    input_shape = config['input_shape'],\n",
    "    dropout = config['dropout']\n",
    ").to(device)\n",
    "\n",
    "default_modelstate = copy.deepcopy(model.state_dict())"
   ]
  },
  {
   "cell_type": "code",
   "execution_count": 79,
   "id": "6c10b387-92dc-46f7-8a1c-c3e61168d77c",
   "metadata": {
    "tags": []
   },
   "outputs": [
    {
     "data": {
      "text/plain": [
       "MSELoss()"
      ]
     },
     "execution_count": 79,
     "metadata": {},
     "output_type": "execute_result"
    }
   ],
   "source": [
    "loss_func"
   ]
  },
  {
   "cell_type": "code",
   "execution_count": null,
   "id": "965a56e1",
   "metadata": {
    "ExecuteTime": {
     "end_time": "2023-03-08T23:33:51.603498Z",
     "start_time": "2023-03-08T23:23:16.209628Z"
    },
    "tags": []
   },
   "outputs": [
    {
     "data": {
      "application/vnd.jupyter.widget-view+json": {
       "model_id": "b7ff6e79b0be4e05a000fa91f3c1cf0c",
       "version_major": 2,
       "version_minor": 0
      },
      "text/plain": [
       "CV Loop:   0%|          | 0/5 [00:00<?, ?it/s]"
      ]
     },
     "metadata": {},
     "output_type": "display_data"
    },
    {
     "data": {
      "application/vnd.jupyter.widget-view+json": {
       "model_id": "",
       "version_major": 2,
       "version_minor": 0
      },
      "text/plain": [
       "Epoch:   0%|          | 0/500 [00:00<?, ?it/s]"
      ]
     },
     "metadata": {},
     "output_type": "display_data"
    },
    {
     "data": {
      "application/vnd.jupyter.widget-view+json": {
       "model_id": "",
       "version_major": 2,
       "version_minor": 0
      },
      "text/plain": [
       "Epoch:   0%|          | 0/500 [00:00<?, ?it/s]"
      ]
     },
     "metadata": {},
     "output_type": "display_data"
    },
    {
     "data": {
      "application/vnd.jupyter.widget-view+json": {
       "model_id": "247ea3791e7d491f95b7a367db14dd52",
       "version_major": 2,
       "version_minor": 0
      },
      "text/plain": [
       "Epoch:   0%|          | 0/500 [00:00<?, ?it/s]"
      ]
     },
     "metadata": {},
     "output_type": "display_data"
    }
   ],
   "source": [
    "seed_everything(rand)\n",
    "graph_training_tensor, graph_validation_tensor = crossvalidation(\n",
    "    model,\n",
    "    lambda: model(g1.x_dict, g1.edge_index_dict),\n",
    "    nyc_cvs,\n",
    "    g1['footprint'].y,\n",
    "    epochs = config['epochs'],\n",
    "    custom_optimizer = config['custom_optimizer'],\n",
    "    lr = config['lr'],\n",
    "    config = config,\n",
    "    loss_func = loss_func,\n",
    "    log_model = False\n",
    ")"
   ]
  },
  {
   "cell_type": "code",
   "execution_count": null,
   "id": "31734217-c8e6-4ca2-8503-1329197333fc",
   "metadata": {
    "tags": []
   },
   "outputs": [],
   "source": [
    "g1a['footprints'].describe()"
   ]
  },
  {
   "cell_type": "code",
   "execution_count": null,
   "id": "1b9b63ac-19ed-473c-8c7b-fd5adcda2c13",
   "metadata": {
    "tags": []
   },
   "outputs": [],
   "source": [
    "# g1a['footprints'].explore('energy', control_scale=True)"
   ]
  },
  {
   "cell_type": "code",
   "execution_count": null,
   "id": "95219e79-4d0c-45fd-9446-a831cf839cef",
   "metadata": {
    "tags": []
   },
   "outputs": [],
   "source": [
    "null_mean_tl = null_training_tensor.mean(axis=0)\n",
    "null_mean_vl = null_validation_tensor.mean(axis=0)\n",
    "nulllower_vl = np.percentile(null_validation_tensor, 5, axis=0)\n",
    "nullupper_vl = np.percentile(null_validation_tensor, 95, axis=0)"
   ]
  },
  {
   "cell_type": "code",
   "execution_count": null,
   "id": "34538a88",
   "metadata": {
    "ExecuteTime": {
     "end_time": "2023-03-08T23:33:54.105025Z",
     "start_time": "2023-03-08T23:33:54.023458Z"
    },
    "tags": []
   },
   "outputs": [],
   "source": [
    "mean_tl = graph_training_tensor.mean(axis=0)\n",
    "std_tl = graph_training_tensor.std(axis=0)\n",
    "\n",
    "mean_vl = graph_validation_tensor.mean(axis=0)\n",
    "lower_vl = np.percentile(graph_validation_tensor, 5, axis=0)\n",
    "upper_vl = np.percentile(graph_validation_tensor, 95, axis=0)\n",
    "std_vl = graph_validation_tensor.std(axis=0)\n",
    "\n",
    "# plt.plot(mean_tl, label=\"Graph Training\")\n",
    "# plt.plot(mean_vl, label=\"Graph Validation\")\n",
    "# plt.legend()\n",
    "\n",
    "# plt.yscale(\"log\")\n",
    "# plt.ylim((0.55,0.65))\n",
    "\n",
    "# plt.show()"
   ]
  },
  {
   "cell_type": "code",
   "execution_count": null,
   "id": "d0294860-09aa-4cd7-9f61-f3d873200869",
   "metadata": {
    "tags": []
   },
   "outputs": [],
   "source": [
    "mean_vl[:5]"
   ]
  },
  {
   "cell_type": "code",
   "execution_count": null,
   "id": "36b93e60-f06a-4f04-b451-90ac5a70e977",
   "metadata": {
    "tags": []
   },
   "outputs": [],
   "source": [
    "graph_epochs = np.argmin(mean_vl)\n",
    "deepl_epochs = np.argmin(null_mean_vl)"
   ]
  },
  {
   "cell_type": "code",
   "execution_count": null,
   "id": "12683b0d",
   "metadata": {
    "ExecuteTime": {
     "end_time": "2023-03-08T23:34:08.343943Z",
     "start_time": "2023-03-08T23:34:07.868646Z"
    },
    "tags": []
   },
   "outputs": [],
   "source": [
    "domain = np.arange(0, config['epochs'])\n",
    "plt.figure(figsize=(6, 6), dpi=100)\n",
    "\n",
    "# plt.plot(domain, mean_tl, label=\"Training\")\n",
    "plt.plot(domain, mean_vl, label=\"Validation\", color=\"lightblue\")\n",
    "plt.fill_between(domain, upper_vl, lower_vl, alpha=0.1)\n",
    "\n",
    "# plt.plot(domain, null_mean_tl, label=\"Null Training\", color=\"indianred\", linestyle='dashed')\n",
    "plt.plot(domain, null_mean_vl, label=\"Null Validation\", color=\"salmon\", linestyle='dashed')\n",
    "plt.fill_between(domain, nullupper_vl, nulllower_vl, alpha=0.1)\n",
    "\n",
    "plt.hlines(valmean[0], min(domain), max(domain), color='pink', label=\"linear regression\")\n",
    "\n",
    "plt.title(f\"Loss Function with Training - lr: {config['lr']}\")\n",
    "\n",
    "plt.xlabel(\"Epoch\")\n",
    "plt.ylabel(\"Training Loss - MSE\")\n",
    "plt.legend()\n",
    "\n",
    "# plt.yscale(\"log\")\n",
    "plt.ylim((0.4,1.2))\n",
    "\n",
    "plt.savefig(os.path.join(results_dir, 'model_comparison.png'), bbox_inches=\"tight\")\n",
    "plt.show()"
   ]
  },
  {
   "cell_type": "code",
   "execution_count": null,
   "id": "5c371f5d",
   "metadata": {
    "ExecuteTime": {
     "end_time": "2023-03-08T23:34:37.445779Z",
     "start_time": "2023-03-08T23:34:37.426972Z"
    },
    "tags": []
   },
   "outputs": [],
   "source": [
    "graph_improvement = (min(mean_vl) - min(null_mean_vl)) / min(null_mean_vl)\n",
    "print(\"Improvement from Context: {:0.2f}%\".format(100*graph_improvement))"
   ]
  },
  {
   "cell_type": "code",
   "execution_count": null,
   "id": "735a3748-f52a-4701-b399-4e05b66f24d0",
   "metadata": {
    "tags": []
   },
   "outputs": [],
   "source": [
    "np.min(mean_vl)"
   ]
  },
  {
   "cell_type": "code",
   "execution_count": null,
   "id": "0e0b504c-b3a9-4912-bf94-db097283bf97",
   "metadata": {
    "tags": []
   },
   "outputs": [],
   "source": [
    "np.percentile(mean_vl, 5)"
   ]
  },
  {
   "cell_type": "code",
   "execution_count": null,
   "id": "3ffb5b0b-28a6-4eb4-822c-4ee0febe4646",
   "metadata": {
    "tags": []
   },
   "outputs": [],
   "source": [
    "f = open(os.path.join(results_dir, 'results_summary.txt'), \"w\")\n",
    "f.write(str(\"New York City Profile:\\n\"))\n",
    "f.write(str(\"Min CV Loss:\\t{:.4f}\\n\".format(np.min(mean_vl))))\n",
    "f.write(str(\"5th P CV Loss:\\t{:.4f}\\n\".format(np.percentile(mean_vl, 5))))\n",
    "f.write(str(\"25th P CV Loss:\\t{:.4f}\\n\\n\".format(np.percentile(mean_vl, 25))))\n",
    "f.close()"
   ]
  },
  {
   "cell_type": "code",
   "execution_count": null,
   "id": "34ff990c-d510-47e8-96d2-ba610dd19769",
   "metadata": {
    "tags": []
   },
   "outputs": [],
   "source": [
    "## In understanding how the model generalizes, we look at the lowest validation systems\n",
    "nullmodel.load_state_dict(default_nullmodelstate)\n",
    "nullmodel.to(device)\n",
    "nullmodel.train()\n",
    "    \n",
    "model.load_state_dict(default_modelstate)\n",
    "model.to(device)\n",
    "model.train()\n",
    "\n",
    "null_training_tensor, null_validation_tensor = crossvalidation(\n",
    "    nullmodel,\n",
    "    lambda: nullmodel(g1['footprint'].x),\n",
    "    [nyc_cvs[0]],\n",
    "    g1['footprint'].y,\n",
    "    epochs = deepl_epochs,\n",
    "    custom_optimizer = config['custom_optimizer'],\n",
    "    lr = config['lr'],\n",
    "    config = config,\n",
    "    log_model = False\n",
    ")\n",
    "\n",
    "graph_training_tensor, graph_validation_tensor = crossvalidation(\n",
    "    model,\n",
    "    lambda: model(g1.x_dict, g1.edge_index_dict),\n",
    "    [nyc_cvs[0]],\n",
    "    g1['footprint'].y,\n",
    "    epochs = graph_epochs,\n",
    "    custom_optimizer = config['custom_optimizer'],\n",
    "    lr = config['lr'],\n",
    "    config = config,\n",
    "    log_model = False\n",
    ")"
   ]
  },
  {
   "cell_type": "code",
   "execution_count": null,
   "id": "2ea2eea1",
   "metadata": {
    "ExecuteTime": {
     "end_time": "2023-03-08T08:24:03.187722Z",
     "start_time": "2023-03-08T08:24:03.142676Z"
    }
   },
   "outputs": [],
   "source": [
    "# now examining how this may generalize\n",
    "model.eval()\n",
    "nullmodel.eval()\n",
    "with torch.no_grad():\n",
    "    print(\"New York City\")\n",
    "    testidx = (~g1a['training_mask']).detach().cpu().numpy()\n",
    "    # rebuilding_idx = np.array(g1a['rebuild_idx'])\n",
    "\n",
    "    linear_predictions = reg.predict(g1['footprint'].x.cpu().numpy())[testidx]\n",
    "    null_predictions = nullmodel(g1['footprint'].x).squeeze()[testidx]\n",
    "    estimates = model(g1.x_dict, g1.edge_index_dict).squeeze().detach()[testidx]\n",
    "    recorded = g1['footprint'].y[testidx]\n",
    "\n",
    "    linear_loss = loss_func(torch.tensor(linear_predictions).to(device), recorded)\n",
    "    null_loss = loss_func(null_predictions, recorded)\n",
    "    graph_loss = loss_func(estimates, recorded)\n",
    "    \n",
    "    print(\"Linear Loss:\\t{:0.3f}\".format(linear_loss))\n",
    "    print(\"Null Loss:\\t{:0.3f}\".format(null_loss))\n",
    "    print(\"Graph Loss:\\t{:0.3f}\".format(graph_loss))\n",
    "    print(\"Improvement:\\t{:0.3f}\".format(100 * (graph_loss - null_loss)/null_loss))"
   ]
  },
  {
   "cell_type": "code",
   "execution_count": null,
   "id": "67daaa1a-63b7-4023-8778-d1c12d036e9d",
   "metadata": {
    "tags": []
   },
   "outputs": [],
   "source": [
    "f = open(os.path.join(results_dir, 'results_summary.txt'), \"a\")\n",
    "f.write(str(\"New York City Test Set Results:\\n\"))\n",
    "\n",
    "f.write((\"Linear Loss:\\t{:0.3f}\\n\".format(linear_loss)))\n",
    "f.write((\"Null Loss:\\t\\t{:0.3f}\\n\".format(null_loss)))\n",
    "f.write((\"Graph Loss:\\t\\t{:0.3f}\\n\".format(graph_loss)))\n",
    "f.write((\"Percent Ben:\\t{:0.3f}\\n\\n\".format(100 * (graph_loss - null_loss)/null_loss)))\n",
    "\n",
    "f.close()"
   ]
  },
  {
   "cell_type": "code",
   "execution_count": null,
   "id": "98ece04b-44b5-41b7-bb40-c383963b2b65",
   "metadata": {},
   "outputs": [],
   "source": [
    "linmae = torch.abs(torch.exp(recorded) - torch.tensor(np.exp(linear_predictions)).to(device))\n",
    "nullmae = torch.abs(torch.exp(recorded) - torch.exp(null_predictions))\n",
    "graphmae = torch.abs(torch.exp(recorded) - torch.exp(estimates))"
   ]
  },
  {
   "cell_type": "code",
   "execution_count": null,
   "id": "fd4acea6-f570-4bfc-8f7d-61ec50958ef5",
   "metadata": {
    "tags": []
   },
   "outputs": [],
   "source": [
    "def relative_benefit(errors, threshold):\n",
    "    return float(100 * ((errors <= threshold).sum() / len(errors)))"
   ]
  },
  {
   "cell_type": "code",
   "execution_count": null,
   "id": "a537ae9d-d6d5-43c1-bd64-fc842bb42513",
   "metadata": {
    "tags": []
   },
   "outputs": [],
   "source": [
    "### want to get a curve to show accuracy with various buffers\n",
    "linmae_list = []\n",
    "nullmae_list = []\n",
    "graphmae_list = []\n",
    "\n",
    "maxlenlist = 2000\n",
    "\n",
    "for i in range(maxlenlist):\n",
    "    linmae_list.append(relative_benefit(linmae, i))\n",
    "    nullmae_list.append(relative_benefit(nullmae, i))\n",
    "    graphmae_list.append(relative_benefit(graphmae, i))"
   ]
  },
  {
   "cell_type": "code",
   "execution_count": null,
   "id": "606628f9-7c74-4ea6-8961-8da02d747433",
   "metadata": {
    "tags": []
   },
   "outputs": [],
   "source": [
    "plt.figure(dpi=150)\n",
    "\n",
    "plt.plot(range(maxlenlist), linmae_list, label=\"Linear\")\n",
    "plt.plot(range(maxlenlist), nullmae_list, label=\"Null\")\n",
    "plt.plot(range(maxlenlist), graphmae_list, label=\"Graph\")\n",
    "\n",
    "# plt.yscale(\"log\")\n",
    "plt.ylim(0,100)\n",
    "plt.xlim(0,maxlenlist)\n",
    "\n",
    "plt.xlabel(\"Acceptable Threshold of Success - MWH\")\n",
    "plt.ylabel(\"% of Accurate Predictions\")\n",
    "\n",
    "plt.legend()\n",
    "\n",
    "plt.savefig(os.path.join(results_dir, \"accurate_predictions_nyc.png\"), transparent=True, bbox_inches=\"tight\")\n",
    "\n",
    "plt.show()"
   ]
  },
  {
   "cell_type": "code",
   "execution_count": null,
   "id": "72abf6b7-4139-4070-9187-81f54f17606f",
   "metadata": {
    "tags": []
   },
   "outputs": [],
   "source": [
    "plt.figure(dpi=150)\n",
    "\n",
    "plt.plot(range(maxlenlist), np.array(graphmae_list) - np.array(nullmae_list), '-', label=\"Benefit Delta - Null\")\n",
    "plt.plot(range(maxlenlist), np.array(graphmae_list) - np.array(linmae_list), '-', label=\"Graph\")\n",
    "\n",
    "plt.hlines(0, xmin = 0, xmax = maxlenlist, color=\"pink\", alpha=0.5)\n",
    "\n",
    "# plt.yscale(\"log\")\n",
    "# plt.ylim(0,20)\n",
    "plt.xlim(0,maxlenlist)\n",
    "\n",
    "plt.ylabel(\"Relative MAE Benefit to Linear Model\")\n",
    "plt.xlabel(\"MWH Threshold\")\n",
    "\n",
    "plt.title(\"MAE Accuracy Benefit Relative to Linear\")\n",
    "plt.savefig(os.path.join(results_dir, \"relative_benefit.png\"), transparent=True, bbox_inches=\"tight\")\n",
    "plt.legend()\n",
    "\n",
    "plt.show()"
   ]
  },
  {
   "cell_type": "code",
   "execution_count": null,
   "id": "3c3312f5-5c74-46bd-b9b6-7989b4c1c03b",
   "metadata": {
    "tags": []
   },
   "outputs": [],
   "source": [
    "threshold = 500\n",
    "\n",
    "print(f\"Linear Benefit:\\t\\t{relative_benefit(linmae, threshold):0.2f}\")\n",
    "print(f\"Null Benefit:\\t\\t{relative_benefit(nullmae, threshold):0.2f}\")\n",
    "print(f\"Graph Benefit:\\t\\t{relative_benefit(graphmae, threshold):0.2f}\")"
   ]
  },
  {
   "cell_type": "code",
   "execution_count": null,
   "id": "08ae443c-6fd4-4f38-bc74-df54d5309354",
   "metadata": {},
   "outputs": [],
   "source": [
    "tcorp = pool_adjacency(g1, g1a).reset_index(drop=True)\n",
    "# tcorp"
   ]
  },
  {
   "cell_type": "code",
   "execution_count": null,
   "id": "13901945-a1b9-4d94-9581-39681da68742",
   "metadata": {
    "tags": []
   },
   "outputs": [],
   "source": [
    "RandomForestRegressor(max_depth=3, random_state=rand)"
   ]
  },
  {
   "cell_type": "code",
   "execution_count": null,
   "id": "7c8eff54-409d-4c35-ae3e-3007f909410d",
   "metadata": {
    "tags": []
   },
   "outputs": [],
   "source": [
    "g1, g1a = graph(\"new-york\", **{**config, **{\"building_buffer\":config['building_buffer_min']}})\n",
    "trainids, testids = build_corpus(g1, g1a)"
   ]
  },
  {
   "cell_type": "code",
   "execution_count": null,
   "id": "09fab938-0c68-4031-af48-dce1cc277d52",
   "metadata": {
    "tags": []
   },
   "outputs": [],
   "source": [
    "pd.util.hash_pandas_object(tcorp.id).sum()"
   ]
  },
  {
   "cell_type": "code",
   "execution_count": null,
   "id": "7cd1a580-5a96-462e-acb4-3f4d05f30a78",
   "metadata": {
    "tags": []
   },
   "outputs": [],
   "source": [
    "tcorp = pool_adjacency(g1, g1a).reset_index(drop=True)"
   ]
  },
  {
   "cell_type": "code",
   "execution_count": null,
   "id": "24a8fed0-f84c-493c-81e1-0e66070404bd",
   "metadata": {
    "tags": []
   },
   "outputs": [],
   "source": [
    "m1_terms = [\"id\",\"geometry\",\"energy\",\"year\",\"area\"]\n",
    "tcorp[m1_terms]"
   ]
  },
  {
   "cell_type": "code",
   "execution_count": null,
   "id": "21eba2ce-473d-4a75-b836-c563f93ba130",
   "metadata": {
    "tags": []
   },
   "outputs": [],
   "source": [
    "distances"
   ]
  },
  {
   "cell_type": "code",
   "execution_count": null,
   "id": "9f9ab022-e544-42ea-9a52-f557c77afb13",
   "metadata": {},
   "outputs": [],
   "source": [
    "# # starting graph, which defines the test and train ids\n",
    "# g1, g1a = graph(\"new-york\", **{**config, **{\"building_buffer\":config['building_buffer_min']}})\n",
    "# trainids, testids = build_corpus(g1, g1a)\n",
    "\n",
    "# trainings = []\n",
    "\n",
    "# for distance in tqdm_notebook(distances[:6]):\n",
    "#     print(f\"Distance: {distance:.2f}\")\n",
    "#     g1, g1a = graph(\"new-york\", **{**config, **{\"building_buffer\":distance}})\n",
    "#     tcorp = pool_adjacency(g1, g1a).reset_index(drop=True)\n",
    "#     # print(tcorp.id.isin(trainids[0]))\n",
    "#     training = tcorp.loc[tcorp.id.isin(trainids[0])]\n",
    "#     trainings.append(training)"
   ]
  },
  {
   "cell_type": "code",
   "execution_count": null,
   "id": "0f4cad8f-dc01-4b3b-b3d8-3c8a3558d915",
   "metadata": {},
   "outputs": [],
   "source": [
    "## this is now the segment where we explore the utility of various datasets with increasing distance from the model\n",
    "m1a = []\n",
    "m2a = []\n",
    "m3a = []\n",
    "m4a = []\n",
    "m5a = []\n",
    "m6a = []\n",
    "\n",
    "m1l = []\n",
    "m2l = []\n",
    "m3l = []\n",
    "m4l = []\n",
    "m5l = []\n",
    "m6l = []\n",
    "\n",
    "linearmodel = ElasticNet()\n",
    "tree = RandomForestRegressor(max_depth = 3, min_samples_leaf=10, n_estimators = 500, random_state = rand, n_jobs = -1)\n",
    "\n",
    "# starting graph, which defines the test and train ids\n",
    "g1, g1a = graph(\"new-york\", **{**config, **{\"building_buffer\":config['building_buffer_min']}})\n",
    "trainids, testids = build_corpus(g1, g1a)\n",
    "\n",
    "for distance in tqdm_notebook(distances):\n",
    "    g1, g1a = graph(\"new-york\", **{**config, **{\"building_buffer\":distance}})\n",
    "    tcorp = pool_adjacency(g1, g1a).reset_index(drop=True)\n",
    "    \n",
    "    m1_terms = [\"id\",\"geometry\",\"energy\",\"year\",\"area\"]\n",
    "    losses, abslosses = custom_cv(linearmodel, tcorp[m1_terms], trainids, testids)\n",
    "    m1_rmse = np.mean(losses)\n",
    "    m1_mae = np.mean(abslosses)\n",
    "    m1a.append(m1_mae)\n",
    "    m1l.append(m1_rmse)\n",
    "\n",
    "    m2_terms = [\"id\",\"geometry\",\"energy\",\"year\",\"area\",\"hdd\",\"cdd\"]\n",
    "    losses, abslosses = custom_cv(linearmodel, tcorp[m2_terms], trainids, testids)\n",
    "    m2_rmse = np.mean(losses)\n",
    "    m2_mae = np.mean(abslosses)\n",
    "    m2a.append(m2_mae)\n",
    "    m2l.append(m2_rmse)\n",
    "\n",
    "    m3_terms = m2_terms + config['partition_terms'] + [ x+'_max' for x in config['partition_terms']] + [ x+'_min' for x in config['partition_terms'] ]\n",
    "    losses, abslosses = custom_cv(linearmodel, tcorp[m3_terms], trainids, testids)\n",
    "    m3_rmse = np.mean(losses)\n",
    "    m3_mae = np.mean(abslosses)\n",
    "    m3a.append(m3_mae)\n",
    "    m3l.append(m3_rmse)\n",
    "\n",
    "    m4_terms = m1_terms\n",
    "    losses, abslosses = custom_cv(tree, tcorp[m4_terms], trainids, testids)\n",
    "    m4_rmse = np.mean(losses)\n",
    "    m4_mae = np.mean(abslosses)\n",
    "    m4a.append(m4_mae)\n",
    "    m4l.append(m4_rmse)\n",
    "\n",
    "    m5_terms = m2_terms\n",
    "    losserandom_state, abslosses = custom_cv(tree, tcorp[m5_terms], trainids, testids)\n",
    "    m5_rmse = np.mean(losses)\n",
    "    m5_mae = np.mean(abslosses)\n",
    "    m5a.append(m5_mae)\n",
    "    m5l.append(m5_rmse)\n",
    "\n",
    "    m6_terms = m3_terms\n",
    "    losses, abslosses = custom_cv(tree, tcorp[m6_terms], trainids, testids)\n",
    "    m6_rmse = np.mean(losses)\n",
    "    m6_mae = np.mean(abslosses)\n",
    "    m6a.append(m6_mae)\n",
    "    m6l.append(m6_rmse)"
   ]
  },
  {
   "cell_type": "code",
   "execution_count": null,
   "id": "4af3ce35-7f1b-4f26-9669-2009791ccb7c",
   "metadata": {
    "tags": []
   },
   "outputs": [],
   "source": [
    "n1a = []\n",
    "n2a = []\n",
    "n3a = []\n",
    "\n",
    "n1l = []\n",
    "n2l = []\n",
    "n3l = []\n",
    "\n",
    "# starting graph, which defines the test and train ids\n",
    "g2, g2a = graph(\"san-francisco\", **{**config, **{\"building_buffer\":config['building_buffer_min']}})\n",
    "trainids, testids = build_corpus(g2, g2a)\n",
    "\n",
    "for distance in tqdm_notebook(distances):\n",
    "    g2, g2a = graph(\"san-francisco\", **{**config, **{\"building_buffer\":distance}})\n",
    "    tcorp = pool_adjacency(g2, g2a).reset_index(drop=True)\n",
    "    \n",
    "    m1_terms = [\"id\",\"geometry\",\"energy\",\"year\",\"area\"]\n",
    "    losses, abslosses = custom_cv(linearmodel, tcorp[m1_terms], trainids, testids)\n",
    "    m1_rmse = np.mean(losses)\n",
    "    m1_mae = np.mean(abslosses)\n",
    "    n1a.append(m1_mae)\n",
    "    n1l.append(m1_rmse)\n",
    "\n",
    "    m2_terms = [\"id\",\"geometry\",\"energy\",\"year\",\"area\",\"hdd\",\"cdd\"]\n",
    "    losses, abslosses = custom_cv(linearmodel, tcorp[m2_terms], trainids, testids)\n",
    "    m2_rmse = np.mean(losses)\n",
    "    m2_mae = np.mean(abslosses)\n",
    "    n2a.append(m2_mae)\n",
    "    n2l.append(m2_rmse)\n",
    "\n",
    "    m3_terms = m2_terms + config['partition_terms'] + [ x+'_max' for x in config['partition_terms']] + [ x+'_min' for x in config['partition_terms'] ]\n",
    "    losses, abslosses = custom_cv(linearmodel, tcorp[m3_terms], trainids, testids)\n",
    "    m3_rmse = np.mean(losses)\n",
    "    m3_mae = np.mean(abslosses)\n",
    "    n3a.append(m3_mae)\n",
    "    n3l.append(m3_rmse)"
   ]
  },
  {
   "cell_type": "code",
   "execution_count": null,
   "id": "68f80b22-d9c8-428a-af50-fbdefeff8255",
   "metadata": {
    "tags": []
   },
   "outputs": [],
   "source": [
    "linearmodel"
   ]
  },
  {
   "cell_type": "code",
   "execution_count": null,
   "id": "0d976615-a8fd-4f8c-98d9-580666b1c5af",
   "metadata": {
    "tags": []
   },
   "outputs": [],
   "source": [
    "o1a = []\n",
    "o2a = []\n",
    "o3a = []\n",
    "\n",
    "o1l = []\n",
    "o2l = []\n",
    "o3l = []\n",
    "\n",
    "# starting graph, which defines the test and train ids\n",
    "g3, g3a = graph(\"austin\", **{**config, **{\"building_buffer\":config['building_buffer_min']}})\n",
    "trainids, testids = build_corpus(g3, g3a)\n",
    "\n",
    "for distance in tqdm_notebook(distances):\n",
    "    g3, g3a = graph(\"austin\", **{**config, **{\"building_buffer\":distance}})\n",
    "    tcorp = pool_adjacency(g3, g3a).reset_index(drop=True)\n",
    "    \n",
    "    m1_terms = [\"id\",\"geometry\",\"energy\",\"year\",\"area\"]\n",
    "    losses, abslosses = custom_cv(linearmodel, tcorp[m1_terms], trainids, testids)\n",
    "    m1_rmse = np.mean(losses)\n",
    "    m1_mae = np.mean(abslosses)\n",
    "    o1a.append(m1_mae)\n",
    "    o1l.append(m1_rmse)\n",
    "\n",
    "    m2_terms = [\"id\",\"geometry\",\"energy\",\"year\",\"area\",\"hdd\",\"cdd\"]\n",
    "    losses, abslosses = custom_cv(linearmodel, tcorp[m2_terms], trainids, testids)\n",
    "    m2_rmse = np.mean(losses)\n",
    "    m2_mae = np.mean(abslosses)\n",
    "    o2a.append(m2_mae)\n",
    "    o2l.append(m2_rmse)\n",
    "\n",
    "    m3_terms = m2_terms + config['partition_terms'] + [ x+'_max' for x in config['partition_terms']] + [ x+'_min' for x in config['partition_terms'] ]\n",
    "    losses, abslosses = custom_cv(linearmodel, tcorp[m3_terms], trainids, testids)\n",
    "    m3_rmse = np.mean(losses)\n",
    "    m3_mae = np.mean(abslosses)\n",
    "    o3a.append(m3_mae)\n",
    "    o3l.append(m3_rmse)"
   ]
  },
  {
   "cell_type": "code",
   "execution_count": null,
   "id": "a311c15e-e16a-4f71-bda4-168b689dd2b1",
   "metadata": {
    "tags": []
   },
   "outputs": [],
   "source": [
    "def parabola(x, a, b, c, d):\n",
    "    return a*x**3 + b*x**2 + c*x + d"
   ]
  },
  {
   "cell_type": "code",
   "execution_count": null,
   "id": "f37d8897-6d3e-4711-9dd1-0150ed2c1246",
   "metadata": {
    "tags": []
   },
   "outputs": [],
   "source": [
    "fit_params, pcov = scipy.optimize.curve_fit(parabola, distances, m3l)\n",
    "y_fit = parabola(distances, *fit_params)"
   ]
  },
  {
   "cell_type": "code",
   "execution_count": null,
   "id": "a1353fef-e5b7-43f8-811d-64f2ff9728e8",
   "metadata": {
    "tags": []
   },
   "outputs": [],
   "source": [
    "# plt.scatter(training_corpus\n",
    "s = 0.0001\n",
    "# m1s = splrep(distances, np.array(m1l), s=s)\n",
    "# m2s = splrep(distances, np.array(m2l), s=s)\n",
    "# m3s = splrep(distances, np.array(m3l), s=s)\n",
    "# m4s = splrep(distances, np.array(m4l), s=s)\n",
    "# m5s = splrep(distances, np.array(m5l), s=s)\n",
    "# m6s = splrep(distances, np.array(m6l), s=s)\n",
    "# Create subplots with shared x-axis\n",
    "\n",
    "fig, (ax1, ax2, ax3) = plt.subplots(3, 1, sharex=True, dpi=300, figsize=(8,15))\n",
    "fig.patch.set_facecolor('white')\n",
    "\n",
    "ax1.set_facecolor('white')\n",
    "ax2.set_facecolor('white')\n",
    "ax3.set_facecolor('white')\n",
    "\n",
    "# ax.set_color_cycle(sns.color_palette(\"coolwarm_r\",6))\n",
    "\n",
    "alpha = 0.2\n",
    "\n",
    "# plt.scatter(distances, m4l, alpha=alpha)\n",
    "# plt.scatter(distances, m5l, alpha=alpha)\n",
    "# plt.scatter(distances, m6l, alpha=alpha)\n",
    "\n",
    "newdist = np.linspace(distances[0], distances[-1], 300)\n",
    "fit_params, pcov = scipy.optimize.curve_fit(parabola, distances, m3a)\n",
    "m_fit = parabola(newdist, *fit_params)\n",
    "\n",
    "nfit_params, pcov = scipy.optimize.curve_fit(parabola, distances, n3a)\n",
    "n_fit = parabola(newdist, *nfit_params)\n",
    "\n",
    "ofit_params, pcov = scipy.optimize.curve_fit(parabola, distances, o3a)\n",
    "o_fit = parabola(newdist, *ofit_params)\n",
    "\n",
    "ax1.set_title(\"Building Buffer vs. MAE - New York City\")\n",
    "ax1.scatter(distances, m1a, alpha=0)\n",
    "ax1.scatter(distances, m2a, alpha=0)\n",
    "ax1.scatter(distances, m3a, alpha=alpha)\n",
    "\n",
    "ax1.plot(newdist, csaps(distances, m1a, newdist, smooth=s), label=\"M1\")\n",
    "ax1.plot(newdist, csaps(distances, m2a, newdist, smooth=s), label=\"M2\")\n",
    "ax1.plot(newdist, m_fit, label=\"M3\")\n",
    "\n",
    "ax1.set_ylabel('MAE')\n",
    "\n",
    "ax2.scatter(distances, n1a, alpha=0)\n",
    "ax2.scatter(distances, n2a, alpha=0)\n",
    "ax2.scatter(distances, n3a, alpha=alpha)\n",
    "\n",
    "ax2.plot(newdist, csaps(distances, n1a, newdist, smooth=s), label=\"M1\")\n",
    "ax2.plot(newdist, csaps(distances, n2a, newdist, smooth=s), label=\"M2\")\n",
    "ax2.plot(newdist, n_fit, label=\"M3\")\n",
    "\n",
    "ax2.set_ylabel('MAE')\n",
    "\n",
    "ax3.scatter(distances, o1a, alpha=0)\n",
    "ax3.scatter(distances, o2a, alpha=0)\n",
    "ax3.scatter(distances, o3a, alpha=alpha)\n",
    "\n",
    "ax3.plot(newdist, csaps(distances, o1a, newdist, smooth=s), label=\"M1\")\n",
    "ax3.plot(newdist, csaps(distances, o2a, newdist, smooth=s), label=\"M2\")\n",
    "ax3.plot(newdist, o_fit, label=\"M3\")\n",
    "\n",
    "ax3.set_ylabel('MAE')\n",
    "\n",
    "# plt.plot(newdist, csaps(distances, m4l, newdist, smooth=s), label=\"M4\")\n",
    "# plt.plot(newdist, csaps(distances, m5l, newdist, smooth=s), label=\"M5\")\n",
    "# plt.plot(newdist, csaps(distances, m6l, newdist, smooth=s), label=\"M6\")\n",
    "\n",
    "ax3.set_xlabel(\"Building Buffer (m)\")\n",
    "\n",
    "# plt.title(\"Building Buffer vs. RMSE - New York City\")\n",
    "# plt.ticklabel_format(axis='y', style='sci', scilimits=(4,4))\n",
    "plt.xticks(np.linspace(distances.min(), distances.max(), 8))\n",
    "\n",
    "ax1.legend(loc=\"upper right\")\n",
    "\n",
    "ax1.set_title('New York City')\n",
    "ax2.set_title('San Francisco')\n",
    "ax3.set_title('Austin')\n",
    "\n",
    "plt.savefig(os.path.join(results_dir, \"contextual_significance.png\"), transparent=True, bbox_inches=\"tight\")\n",
    "plt.show()"
   ]
  },
  {
   "cell_type": "code",
   "execution_count": null,
   "id": "18efe33c-7b87-43ef-b4c3-57ba07092679",
   "metadata": {},
   "outputs": [],
   "source": [
    "STOP"
   ]
  },
  {
   "cell_type": "code",
   "execution_count": null,
   "id": "d3ebabde-f356-4ead-87da-a774478dc115",
   "metadata": {
    "tags": []
   },
   "outputs": [],
   "source": [
    "fig, ax = plt.subplots(figsize=(8,5), dpi=400)\n",
    "fig.patch.set_facecolor('white')\n",
    "\n",
    "ax.set_facecolor('white')\n",
    "# plt.plot(domain, mean_tl, label=\"Training\")\n",
    "plt.plot(domain, mean_vl, label=\"Validation\", color=\"lightblue\")\n",
    "# plt.fill_between(domain, mean_vl + std_vl, mean_vl - std_vl, alpha=0.1)\n",
    "\n",
    "# plt.plot(domain, null_mean_tl, label=\"Null Training\", color=\"indianred\", linestyle='dashed')\n",
    "plt.plot(domain, null_mean_vl, label=\"Null Validation\", color=\"salmon\", linestyle='dashed')\n",
    "\n",
    "plt.hlines(valmean[0], min(domain), max(domain), color='pink', label=\"Linear Regression\")\n",
    "\n",
    "plt.title(f\"Loss Function with Training - lr: {config['lr']}\")\n",
    "\n",
    "plt.xlabel(\"Epoch\")\n",
    "plt.ylabel(\"Training Loss - MSE\")\n",
    "plt.legend()\n",
    "\n",
    "# plt.yscale(\"log\")\n",
    "plt.ylim((0.5,1.2))\n",
    "\n",
    "plt.savefig(os.path.join(results_dir, 'model_comparison.png'), bbox_inches=\"tight\", transparent=True)\n",
    "plt.show()"
   ]
  },
  {
   "cell_type": "code",
   "execution_count": null,
   "id": "a70287e0-eb22-4ec6-8a1d-bece283395ec",
   "metadata": {
    "tags": []
   },
   "outputs": [],
   "source": [
    "# plt.scatter(training_corpus\n",
    "\n",
    "s = 0.0005\n",
    "# m1s = splrep(distances, np.array(m1l), s=s)\n",
    "# m2s = splrep(distances, np.array(m2l), s=s)\n",
    "# m3s = splrep(distances, np.array(m3l), s=s)\n",
    "# m4s = splrep(distances, np.array(m4l), s=s)\n",
    "# m5s = splrep(distances, np.array(m5l), s=s)\n",
    "# m6s = splrep(distances, np.array(m6l), s=s)\n",
    "\n",
    "fig, ax = plt.subplots(figsize=(8,5), dpi=400)\n",
    "fig.patch.set_facecolor('white')\n",
    "ax.set_facecolor('white')\n",
    "\n",
    "# plt.yscale(\"log\")\n",
    "\n",
    "alpha = 0.2\n",
    "\n",
    "# plt.scatter(distances, m1a, alpha=0)\n",
    "# plt.scatter(distances, m2a, alpha=0)\n",
    "# plt.scatter(distances, m3a, alpha=alpha)\n",
    "plt.scatter(distances, m4a, alpha=0)\n",
    "plt.scatter(distances, m5a, alpha=0)\n",
    "plt.scatter(distances, m6a, alpha=alpha)\n",
    "\n",
    "newdist = np.linspace(distances[0], distances[-1], 500)\n",
    "# plt.plot(newdist, csaps(distances, m1a, newdist, smooth=s), label=\"M1\")\n",
    "# plt.plot(newdist, csaps(distances, m2a, newdist, smooth=s), label=\"M2\")\n",
    "# plt.plot(newdist, csaps(distances, m3a, newdist, smooth=s), label=\"M3\")\n",
    "plt.plot(newdist, csaps(distances, m4a, newdist, smooth=s), label=\"M4\")\n",
    "plt.plot(newdist, csaps(distances, m5a, newdist, smooth=s), label=\"M5\")\n",
    "plt.plot(newdist, csaps(distances, m6a, newdist, smooth=s), label=\"M6\")\n",
    "\n",
    "plt.ylabel(\"MAE\")\n",
    "plt.xlabel(\"Building Buffer (m)\")\n",
    "\n",
    "plt.title(\"Building Buffer vs. MAE - New York City\")\n",
    "plt.ticklabel_format(axis='y', style='sci', scilimits=(2,4))\n",
    "plt.xticks(np.linspace(distances.min(), distances.max(), 8))\n",
    "\n",
    "plt.legend(loc=\"upper right\")\n",
    "plt.savefig(os.path.join(results_dir, \"contextual_significance_mae.png\"))\n",
    "plt.show()"
   ]
  },
  {
   "cell_type": "code",
   "execution_count": null,
   "id": "97b1c1cb-09de-43eb-8ec3-eb89f3a9e521",
   "metadata": {},
   "outputs": [],
   "source": []
  },
  {
   "cell_type": "code",
   "execution_count": null,
   "id": "fb83b191",
   "metadata": {
    "ExecuteTime": {
     "end_time": "2023-03-08T23:34:06.698440Z",
     "start_time": "2023-03-08T23:34:06.681676Z"
    },
    "tags": []
   },
   "outputs": [],
   "source": [
    "nycfootprints = g1a['footprints']\n",
    "nycfootprints['logenergy'] = np.log(nycfootprints.energy)\n",
    "\n",
    "# nycfootprints.explore('logenergy')"
   ]
  },
  {
   "cell_type": "code",
   "execution_count": null,
   "id": "71626db0",
   "metadata": {
    "ExecuteTime": {
     "end_time": "2023-03-08T08:19:20.510053Z",
     "start_time": "2023-03-08T08:19:20.484974Z"
    }
   },
   "outputs": [],
   "source": [
    "torch.exp(null_predictions)"
   ]
  },
  {
   "cell_type": "code",
   "execution_count": null,
   "id": "49c0caee-fde9-4b5f-9889-a0edb916b1a7",
   "metadata": {
    "tags": []
   },
   "outputs": [],
   "source": [
    "testidx = (~g2a['training_mask']).detach().cpu().numpy()\n",
    "testidx"
   ]
  },
  {
   "cell_type": "code",
   "execution_count": null,
   "id": "b7f7a302-1470-4281-a4d5-95088439b302",
   "metadata": {
    "tags": []
   },
   "outputs": [],
   "source": [
    "rebuilding_idx = np.array(g2a['rebuild_idx'])"
   ]
  },
  {
   "cell_type": "code",
   "execution_count": null,
   "id": "a510ecee-252a-4a3e-834c-9e02f1bc7921",
   "metadata": {
    "tags": []
   },
   "outputs": [],
   "source": [
    "g1a['footprints']"
   ]
  },
  {
   "cell_type": "code",
   "execution_count": null,
   "id": "19bb93ae-d09a-4f3c-a416-a1045239317e",
   "metadata": {
    "tags": []
   },
   "outputs": [],
   "source": [
    "config"
   ]
  },
  {
   "cell_type": "code",
   "execution_count": null,
   "id": "7bd8035f-9c24-475e-a12d-957d81dad36e",
   "metadata": {
    "tags": []
   },
   "outputs": [],
   "source": [
    "g1, g1a = graph(\"new-york\", **config)\n",
    "g1a['footprints']['logenergy'] = np.log(g1a['footprints'].energy)\n",
    "\n",
    "g1p = pool_adjacency(g1, g1a)"
   ]
  },
  {
   "cell_type": "code",
   "execution_count": null,
   "id": "60c73e47-cc2a-410b-bb05-e19f701f0f01",
   "metadata": {
    "tags": []
   },
   "outputs": [],
   "source": [
    "## building these using generalization parameters from New York\n",
    "g2, g2a = graph(\"san-francisco\", **{**config, **{\"normalization\": g1a[\"normalization\"]}})\n",
    "g2a['footprints']['logenergy'] = np.log(g2a['footprints'].energy)\n",
    "g2p = pool_adjacency(g2, g2a)\n",
    "\n",
    "g3, g3a = graph(\"austin\", **{**config, **{\"normalization\": g1a[\"normalization\"]}})\n",
    "g3a['footprints']['logenergy'] = np.log(g3a['footprints'].energy)\n",
    "g3p = pool_adjacency(g3, g3a)"
   ]
  },
  {
   "cell_type": "code",
   "execution_count": null,
   "id": "951ea365-38d3-44a1-9f7b-62b0795a90c1",
   "metadata": {
    "tags": []
   },
   "outputs": [],
   "source": [
    "g1a.keys()"
   ]
  },
  {
   "cell_type": "code",
   "execution_count": null,
   "id": "3c9c35a6-258d-4e46-b4cb-696bd97a5b3d",
   "metadata": {
    "tags": []
   },
   "outputs": [],
   "source": [
    "g1a['footprints'].logenergy"
   ]
  },
  {
   "cell_type": "code",
   "execution_count": null,
   "id": "aedb11fc-ae72-4aed-8f6b-8fa98b4e0649",
   "metadata": {
    "tags": []
   },
   "outputs": [],
   "source": [
    "g1a['footprints']"
   ]
  },
  {
   "cell_type": "code",
   "execution_count": null,
   "id": "8ae29596-7505-4759-9c97-25c9578829a4",
   "metadata": {
    "tags": []
   },
   "outputs": [],
   "source": [
    "config"
   ]
  },
  {
   "cell_type": "code",
   "execution_count": null,
   "id": "8a4584b3-552f-46c2-a709-5565410d7979",
   "metadata": {
    "tags": []
   },
   "outputs": [],
   "source": [
    "## first want to load each of the models which will be trained on the entire dataset from the other city\n",
    "nullmodel.load_state_dict(default_nullmodelstate)\n",
    "nullmodel.to(device)\n",
    "nullmodel.train()\n",
    "    \n",
    "model.load_state_dict(default_modelstate)\n",
    "model.to(device)\n",
    "model.train()\n",
    "\n",
    "nulloptimizer = torch.optim.Adam(nullmodel.parameters(), lr = config['lr'])\n",
    "optimizer = torch.optim.Adam(model.parameters(), lr = config['lr'])\n",
    "\n",
    "# maybe I want to take the 5th percentile of minimum validation loss actually\n",
    "set_epochs = config['epochs']\n",
    "\n",
    "for epoch in tqdm_notebook(range(set_epochs), desc=\"Model Epoch\", leave=False):\n",
    "    loss = 0\n",
    "    validation_loss = 0\n",
    "\n",
    "    out = model(g1.x_dict, g1.edge_index_dict)\n",
    "    out_ex = out.squeeze()\n",
    "\n",
    "    training_predictions = out_ex.to(torch.float).to(device)\n",
    "    training_values = torch.tensor(g1a['footprints'].logenergy).to(torch.float).to(device)\n",
    "\n",
    "    loss = loss_func(\n",
    "        training_predictions,\n",
    "        training_values\n",
    "    ).to(torch.float)\n",
    "    \n",
    "    if epoch % 100 == 0:\n",
    "        print(\"{} loss: {}\".format(epoch, loss))\n",
    "\n",
    "    optimizer.zero_grad()\n",
    "    loss.backward()\n",
    "    optimizer.step()\n",
    "    \n",
    "print(\"\")\n",
    "for epoch in tqdm_notebook(range(set_epochs), desc=\"NullModel Epoch\", leave=False):\n",
    "    loss = 0\n",
    "    validation_loss = 0\n",
    "\n",
    "    out = nullmodel(g1['footprint'].x)\n",
    "    out_ex = out.squeeze()\n",
    "\n",
    "    training_predictions = out_ex.to(torch.float).to(device)\n",
    "    training_values = torch.tensor(g1a['footprints'].logenergy).to(torch.float).to(device)\n",
    "\n",
    "    loss = loss_func(\n",
    "        training_predictions,\n",
    "        training_values\n",
    "    ).to(torch.float)\n",
    "    \n",
    "    if epoch % 100 == 0:\n",
    "        print(\"{} loss: {}\".format(epoch, loss))\n",
    "\n",
    "    nulloptimizer.zero_grad()\n",
    "    loss.backward()\n",
    "    nulloptimizer.step()\n",
    "    \n",
    "nystate_dict = model.state_dict()\n",
    "nullnystate_dict = nullmodel.state_dict()\n",
    "\n",
    "# training = training_corpus.loc[training_corpus.id.isin(i)]\n",
    "# testing = training_corpus.loc[training_corpus.id.isin(testids[c])]\n",
    "\n",
    "# X = np.array(training.drop(columns=[\"id\",\"geometry\",\"energy\",\"year\"]))\n",
    "# y = np.array(training[\"energy\"])\n",
    "# custom_model.fit(X,y)\n",
    "\n",
    "# Xt = np.array(testing.drop(columns=[\"id\",\"geometry\",\"energy\",\"year\"]))\n",
    "# yt = np.array(testing[\"energy\"])\n",
    "# yhat = custom_model.predict(Xt)"
   ]
  },
  {
   "cell_type": "code",
   "execution_count": null,
   "id": "1e19fa59-1a8b-4851-87f7-1a3ca7a671bb",
   "metadata": {
    "tags": []
   },
   "outputs": [],
   "source": [
    "g2['footprint'].y"
   ]
  },
  {
   "cell_type": "code",
   "execution_count": null,
   "id": "710adde5",
   "metadata": {
    "ExecuteTime": {
     "end_time": "2023-03-08T09:04:22.731848Z",
     "start_time": "2023-03-08T09:04:22.702944Z"
    }
   },
   "outputs": [],
   "source": [
    "# now examining how this may generalize\n",
    "model.eval()\n",
    "nullmodel.eval()\n",
    "\n",
    "with torch.no_grad():\n",
    "    print(\"San Francisco\")\n",
    "    testidx = (~g2a['training_mask']).detach().cpu().numpy()\n",
    "    rebuilding_idx = np.array(g2a['rebuild_idx'])\n",
    "    null_predictions = nullmodel(g2['footprint'].x).squeeze()[testidx]\n",
    "    \n",
    "    linear_predictions = reg.predict(g2['footprint'].x.cpu().numpy())[testidx]\n",
    "    estimates = model(g2.x_dict, g2.edge_index_dict).squeeze().detach()[testidx]\n",
    "    recorded = g2['footprint'].y[testidx]\n",
    "\n",
    "    linear_loss = loss_func(torch.tensor(linear_predictions).to(device), recorded)\n",
    "    null_loss = loss_func(null_predictions, recorded)\n",
    "    graph_loss = loss_func(estimates, recorded)\n",
    "    print(\"Linear Loss:\\t{:0.2f}\".format(linear_loss))\n",
    "    print(\"Null Loss:\\t{:0.2f}\".format(null_loss))\n",
    "    print(\"Graph Loss:\\t{:0.2f}\".format(graph_loss))\n",
    "    print(\"Improvement:\\t{:0.2f}\".format(100 * (graph_loss - null_loss)/null_loss))"
   ]
  },
  {
   "cell_type": "code",
   "execution_count": null,
   "id": "db2e43f3-2b9a-4267-a157-7a475b00b9ad",
   "metadata": {},
   "outputs": [],
   "source": [
    "f = open(os.path.join(results_dir, 'results_summary.txt'), \"a\")\n",
    "f.write(str(\"San Francisco Test Set Results - No Finetuning:\\n\"))\n",
    "\n",
    "f.write((\"Linear Loss:\\t{:0.3f}\\n\".format(linear_loss)))\n",
    "f.write((\"Null Loss:\\t\\t{:0.3f}\\n\".format(null_loss)))\n",
    "f.write((\"Graph Loss:\\t\\t{:0.3f}\\n\".format(graph_loss)))\n",
    "f.write((\"Percent Ben:\\t{:0.3f}\\n\\n\".format(100 * (graph_loss - null_loss)/null_loss)))\n",
    "\n",
    "f.close()"
   ]
  },
  {
   "cell_type": "code",
   "execution_count": null,
   "id": "1f31b39f",
   "metadata": {
    "ExecuteTime": {
     "end_time": "2023-03-08T08:17:44.505984Z",
     "start_time": "2023-03-08T08:17:44.465525Z"
    }
   },
   "outputs": [],
   "source": [
    "nullmodel.eval()\n",
    "model.eval()\n",
    "with torch.no_grad():\n",
    "    print(\"Austin Texas\")\n",
    "    testidx = (~g3a['training_mask']).detach().cpu().numpy()\n",
    "    rebuilding_idx = np.array(g3a['rebuild_idx'])\n",
    "    null_predictions = nullmodel(g3['footprint'].x).squeeze()[testidx]\n",
    "    \n",
    "    linear_predictions = reg.predict(g3['footprint'].x.cpu().numpy())[testidx]\n",
    "    \n",
    "    estimates = model(g3.x_dict, g3.edge_index_dict).squeeze().detach()[testidx]\n",
    "    recorded = g3['footprint'].y[testidx]\n",
    "    \n",
    "    linear_loss = loss_func(torch.tensor(linear_predictions).to(device), recorded)\n",
    "    null_loss = loss_func(null_predictions, recorded)\n",
    "    graph_loss = loss_func(estimates, recorded)\n",
    "    print(\"Linear Loss:\\t{:0.2f}\".format(linear_loss))\n",
    "    print(\"Null Loss:\\t{:0.2f}\".format(null_loss))\n",
    "    print(\"Graph Loss:\\t{:0.2f}\".format(graph_loss))\n",
    "    print(\"Improvement:\\t{:0.2f}\".format(100 * (graph_loss - null_loss)/null_loss))"
   ]
  },
  {
   "cell_type": "code",
   "execution_count": null,
   "id": "a67bbe05-eae8-405d-97b3-7e2bb009205f",
   "metadata": {},
   "outputs": [],
   "source": [
    "f = open(os.path.join(results_dir, 'results_summary.txt'), \"a\")\n",
    "f.write(str(\"Austin Test Set Results - No Finetuning:\\n\"))\n",
    "\n",
    "f.write((\"Linear Loss:\\t{:0.3f}\\n\".format(linear_loss)))\n",
    "f.write((\"Null Loss:\\t\\t{:0.3f}\\n\".format(null_loss)))\n",
    "f.write((\"Graph Loss:\\t\\t{:0.3f}\\n\".format(graph_loss)))\n",
    "f.write((\"Percent Ben:\\t{:0.3f}\\n\\n\".format(100 * (graph_loss - null_loss)/null_loss)))\n",
    "\n",
    "f.close()"
   ]
  },
  {
   "cell_type": "code",
   "execution_count": null,
   "id": "118d07a6-937d-4c98-b29a-ce3b5568747c",
   "metadata": {
    "tags": []
   },
   "outputs": [],
   "source": [
    "optim = config['custom_optimizer']\n",
    "optim(model.parameters())"
   ]
  },
  {
   "cell_type": "code",
   "execution_count": null,
   "id": "34330c87-33fd-414a-9338-e26156023ee4",
   "metadata": {
    "tags": []
   },
   "outputs": [],
   "source": [
    "### I used the below cells to evaluate how many epochs to use for the final model"
   ]
  },
  {
   "cell_type": "code",
   "execution_count": null,
   "id": "25b2bfe2-580a-4c6b-9d41-4d6ea2672097",
   "metadata": {
    "tags": []
   },
   "outputs": [],
   "source": [
    "\n",
    "\n",
    "# model.load_state_dict(default_modelstate)\n",
    "# model.train()\n",
    "\n",
    "# trainmask = nyc_rebuild_info['training_mask']\n",
    "# testmask = (~nyc_rebuild_info['training_mask'])\n",
    "\n",
    "# rebuild_idx = np.array(nyc_rebuild_info['rebuild_idx'])\n",
    "\n",
    "# nystate_dict_origin, trainlosses, testlosses = trainer(\n",
    "#     model.to(device),\n",
    "#     lambda: model(nycgraph.x_dict, nycgraph.edge_index_dict),\n",
    "#     rebuild_idx,\n",
    "#     trainmask[rebuild_idx],\n",
    "#     testmask[rebuild_idx],\n",
    "#     recorded = nycgraph['footprint'].y,\n",
    "#     loss_func = loss_func,\n",
    "#     config = config\n",
    "# )\n",
    "\n",
    "# nystate_dict = copy.deepcopy(nystate_dict_origin)"
   ]
  },
  {
   "cell_type": "code",
   "execution_count": null,
   "id": "9d599c4b-5d08-4e65-a43d-69342ddad91f",
   "metadata": {
    "tags": []
   },
   "outputs": [],
   "source": [
    "# from src.trainer import trainer\n",
    "# from src.cv import reset_model\n",
    "\n",
    "# nullmodel.load_state_dict(default_nullmodelstate)\n",
    "\n",
    "# trainmask = nyc_rebuild_info['training_mask']\n",
    "# testmask = (~nyc_rebuild_info['training_mask'])\n",
    "\n",
    "# rebuild_idx = np.array(nyc_rebuild_info['rebuild_idx'])\n",
    "\n",
    "# nystate_dict_origin, trainlosses, testlosses = trainer(\n",
    "#     nullmodel.to(device),\n",
    "#     lambda: nullmodel(nycgraph['footprint'].x),\n",
    "#     rebuild_idx,\n",
    "#     trainmask[rebuild_idx],\n",
    "#     testmask[rebuild_idx],\n",
    "#     recorded = nycgraph['footprint'].y,\n",
    "#     loss_func = loss_func,\n",
    "#     config = config\n",
    "# )\n",
    "\n",
    "# nynull_state_dict = copy.deepcopy(nystate_dict_origin)"
   ]
  },
  {
   "cell_type": "code",
   "execution_count": null,
   "id": "d0a13776-7ffb-4610-ac0b-6e1f295d3325",
   "metadata": {
    "tags": []
   },
   "outputs": [],
   "source": [
    "# plt.plot(trainlosses, label=\"training\")\n",
    "# plt.plot(testlosses, label=\"testing\")\n",
    "\n",
    "# plt.legend()\n",
    "# plt.yscale(\"log\")\n",
    "\n",
    "# plt.show()"
   ]
  },
  {
   "cell_type": "code",
   "execution_count": null,
   "id": "42b7720d-6e46-4485-8fbb-665601826acb",
   "metadata": {
    "tags": []
   },
   "outputs": [],
   "source": [
    "# # this is manually set based on the above graph^\n",
    "# from src.trainer import trainer\n",
    "\n",
    "# model.load_state_dict(default_modelstate)\n",
    "\n",
    "# trainmask = nyc_rebuild_info['training_mask']\n",
    "# testmask = (~nyc_rebuild_info['training_mask'])\n",
    "\n",
    "# trainmask = np.repeat([True], len(trainmask))\n",
    "# rebuild_idx = np.array(nyc_rebuild_info['rebuild_idx'])\n",
    "\n",
    "# nystate_dict_origin, trainlosses, testlosses = trainer(\n",
    "#     model.to(device),\n",
    "#     lambda: model(nycgraph.x_dict, nycgraph.edge_index_dict),\n",
    "#     rebuild_idx,\n",
    "#     trainmask[rebuild_idx],\n",
    "#     testmask[rebuild_idx],\n",
    "#     recorded = nycgraph['footprint'].y,\n",
    "#     loss_func = loss_func,\n",
    "#     config = config,\n",
    "#     fulldata = True\n",
    "# )\n",
    "\n",
    "# nystate_dict = copy.deepcopy(nystate_dict_origin)"
   ]
  },
  {
   "cell_type": "code",
   "execution_count": null,
   "id": "bdcccb10-7d7c-4cbb-ae3d-2a059f42a3b5",
   "metadata": {
    "tags": []
   },
   "outputs": [],
   "source": [
    "# nullmodel.train()\n",
    "# nullmodel.load_state_dict(default_nullmodelstate)\n",
    "\n",
    "# trainmask = nyc_rebuild_info['training_mask']\n",
    "# testmask = (~nyc_rebuild_info['training_mask'])\n",
    "\n",
    "# trainmask = np.repeat([True], len(trainmask))\n",
    "# rebuild_idx = np.array(nyc_rebuild_info['rebuild_idx'])\n",
    "\n",
    "# nystate_dict_origin, trainlosses, testlosses = trainer(\n",
    "#     nullmodel.to(device),\n",
    "#     lambda: nullmodel(nycgraph['footprint'].x),\n",
    "#     rebuild_idx,\n",
    "#     trainmask[rebuild_idx],\n",
    "#     testmask[rebuild_idx],\n",
    "#     recorded = nycgraph['footprint'].y,\n",
    "#     loss_func = loss_func,\n",
    "#     config = config,\n",
    "#     fulldata = True\n",
    "# )\n",
    "\n",
    "# nystate_nulldict = copy.deepcopy(nystate_dict_origin)"
   ]
  },
  {
   "cell_type": "code",
   "execution_count": null,
   "id": "4fa153d0-6daa-4165-888e-42a016eeec7a",
   "metadata": {
    "tags": []
   },
   "outputs": [],
   "source": [
    "# np.vstack((nyX, sfgraph['footprint'].x[:50].cpu().detach())).shape"
   ]
  },
  {
   "cell_type": "code",
   "execution_count": null,
   "id": "9d85dc1e-23bf-4b4c-9faf-3d62f4977720",
   "metadata": {},
   "outputs": [],
   "source": [
    "### this is going to be the drip system, to understand how slow incorporation of data changes the prediction quality"
   ]
  },
  {
   "cell_type": "code",
   "execution_count": null,
   "id": "a53e0ff7-6756-4718-93f5-04419f5f55cd",
   "metadata": {
    "tags": []
   },
   "outputs": [],
   "source": [
    "# nyY"
   ]
  },
  {
   "cell_type": "code",
   "execution_count": null,
   "id": "fefe31ff-6b5f-4e47-aeb6-9565a51a9640",
   "metadata": {
    "tags": []
   },
   "outputs": [],
   "source": [
    "# 150 * 30 * 52 * 40 / 1e6"
   ]
  },
  {
   "cell_type": "code",
   "execution_count": null,
   "id": "3fcb9dcc-394d-4a2c-aaea-526ca2399478",
   "metadata": {
    "tags": []
   },
   "outputs": [],
   "source": [
    "# from tqdm import tqdm_notebook\n",
    "\n",
    "# # now exploring how the model might generalize to SF\n",
    "# sf_linearvalloss = []\n",
    "\n",
    "# sf_valloss = []\n",
    "# sf_nullvalloss = []\n",
    "\n",
    "# config['epochs'] = 300\n",
    "\n",
    "# for n_true in tqdm_notebook(range(100), leave=True):\n",
    "#     model.load_state_dict(nystate_dict)\n",
    "#     nullmodel.load_state_dict(nullnystate_dict)\n",
    "    \n",
    "#     model.train()\n",
    "#     nullmodel.train()\n",
    "\n",
    "#     sf_trainmask = copy.deepcopy(g2a['training_mask'])\n",
    "#     sf_testmask = copy.deepcopy((~g2a['training_mask']))\n",
    "\n",
    "#     sf_to_false = np.where(sf_trainmask.cpu().numpy())[0]\n",
    "#     sf_to_false\n",
    "\n",
    "#     np.random.seed(1)\n",
    "#     drip_idx = np.random.choice(sf_to_false, n_true, replace=False)\n",
    "\n",
    "#     # this now just drips in a bit of the sf data\n",
    "#     sf_trainmask = np.repeat([False], len(sf_trainmask))\n",
    "#     sf_trainmask[drip_idx] = True\n",
    "\n",
    "#     rebuild_idx = np.array(g2a['rebuild_idx'])\n",
    "    \n",
    "#     # shapes\n",
    "#     # print(f\"trainmask shape: {trainmask.shape}\")\n",
    "    \n",
    "#     ## building the linear model\n",
    "#     x_linear_addition = np.vstack((nyX, g2['footprint'].x[sf_trainmask].cpu().detach()))\n",
    "    \n",
    "#     # print(f\"Y shape: {nyY.shape}.\")\n",
    "#     # print(f\"trainyshape: {sfgraph['footprint'].y[trainmask[rebuild_idx]].cpu().detach().shape}\")\n",
    "#     y_linear_addition = np.concatenate((nyY, g2['footprint'].y[sf_trainmask].cpu().detach()), axis=None)\n",
    "    \n",
    "#     reg = LinearRegression().fit(x_linear_addition, y_linear_addition)\n",
    "#     preds = reg.predict(g2['footprint'].x[sf_testmask].cpu().detach())\n",
    "#     existing_terms = g2['footprint'].y[sf_testmask].cpu().detach()\n",
    "#     # print(f\"Predictions: {preds}\")\n",
    "#     # print(f\"Existing: {existing_terms}\")\n",
    "#     sf_linearvalloss.append(loss_func(torch.tensor(preds), existing_terms))\n",
    "\n",
    "#     sf_state_dict, sf_trainlosses, sf_testlosses = trainer(\n",
    "#         model.to(device),\n",
    "#         lambda: model(g2.x_dict, g2.edge_index_dict),\n",
    "#         rebuild_idx,\n",
    "#         sf_trainmask,\n",
    "#         sf_testmask,\n",
    "#         recorded = g2['footprint'].y,\n",
    "#         loss_func = loss_func,\n",
    "#         config = config\n",
    "#     )\n",
    "    \n",
    "#     _, _, sf_nulltestlosses = trainer(\n",
    "#         nullmodel.to(device),\n",
    "#         lambda: nullmodel(g2['footprint'].x),\n",
    "#         rebuild_idx,\n",
    "#         sf_trainmask,\n",
    "#         sf_testmask,\n",
    "#         recorded = g2['footprint'].y,\n",
    "#         loss_func = loss_func,\n",
    "#         config = config\n",
    "#     )\n",
    "#     sf_valloss.append(sf_testlosses)\n",
    "#     sf_nullvalloss.append(sf_nulltestlosses)"
   ]
  },
  {
   "cell_type": "code",
   "execution_count": null,
   "id": "96d823f9-a97d-49f6-b0a9-fd122777c6c8",
   "metadata": {
    "tags": []
   },
   "outputs": [],
   "source": [
    "generalization_cv = 8\n",
    "# config['epochs'] = 300"
   ]
  },
  {
   "cell_type": "code",
   "execution_count": null,
   "id": "00c6ed52-f78d-4072-b45b-2811f7415cdf",
   "metadata": {
    "tags": []
   },
   "outputs": [],
   "source": [
    "config['n_cv']"
   ]
  },
  {
   "cell_type": "code",
   "execution_count": null,
   "id": "192ca1cc-e867-459a-ae3a-c8a8fd71a5e9",
   "metadata": {
    "tags": []
   },
   "outputs": [],
   "source": [
    "g2['footprint'].y"
   ]
  },
  {
   "cell_type": "code",
   "execution_count": null,
   "id": "19c9bfb0-77d8-4704-8079-febe49da35b4",
   "metadata": {
    "tags": []
   },
   "outputs": [],
   "source": [
    "# now exploring how the model might generalize to SF\n",
    "sf_linearvalloss = []\n",
    "sf_valloss = []\n",
    "sf_nullvalloss = []\n",
    "\n",
    "for n_true in tqdm_notebook(range(100), leave=True):\n",
    "    modelcv_loss = []\n",
    "    nullmodelcv_loss = []\n",
    "    linearcv_loss = []\n",
    "    \n",
    "    for cv in range(config['n_cv']):\n",
    "        seed_everything(rand)\n",
    "        model.load_state_dict(nystate_dict)\n",
    "        nullmodel.load_state_dict(nullnystate_dict)\n",
    "        \n",
    "        model.train()\n",
    "        nullmodel.train()\n",
    "\n",
    "        sf_trainmask = copy.deepcopy(g2a['training_mask'].cpu().numpy())\n",
    "        np.random.shuffle(sf_trainmask)\n",
    "\n",
    "        sf_testmask = ~sf_trainmask\n",
    "        sf_to_false = np.where(sf_trainmask)[0]\n",
    "        sf_to_false\n",
    "\n",
    "        drip_idx = np.random.choice(sf_to_false, n_true, replace=False)\n",
    "\n",
    "        # this now just drips in a bit of the sf data\n",
    "        sf_trainmask = np.repeat([False], len(sf_trainmask))\n",
    "        sf_trainmask[drip_idx] = True\n",
    "\n",
    "        rebuild_idx = np.array(g2a['rebuild_idx'])\n",
    "\n",
    "        # shapes\n",
    "        # print(f\"trainmask shape: {trainmask.shape}\")\n",
    "\n",
    "        ## building the linear model\n",
    "        x_linear_addition = np.vstack((nyX, g2['footprint'].x[sf_trainmask].cpu().detach()))\n",
    "\n",
    "        # print(f\"Y shape: {nyY.shape}.\")\n",
    "        # print(f\"trainyshape: {sfgraph['footprint'].y[trainmask[rebuild_idx]].cpu().detach().shape}\")\n",
    "        y_linear_addition = np.concatenate((nyY, g2['footprint'].y[sf_trainmask].cpu().detach()), axis=None)\n",
    "\n",
    "        linearmodel = ElasticNet()\n",
    "        reg = linearmodel.fit(x_linear_addition, y_linear_addition)\n",
    "        preds = reg.predict(g2['footprint'].x[sf_testmask].cpu().detach())\n",
    "        existing_terms = g2['footprint'].y[sf_testmask].cpu().detach()\n",
    "        # print(f\"Predictions: {preds}\")\n",
    "        # print(f\"Existing: {existing_terms}\")\n",
    "        linearcv_loss.append(loss_func(torch.tensor(preds), existing_terms))\n",
    "\n",
    "        sf_state_dict, sf_trainlosses, sf_testlosses = trainer(\n",
    "            model.to(device),\n",
    "            lambda: model(g2.x_dict, g2.edge_index_dict),\n",
    "            rebuild_idx,\n",
    "            sf_trainmask,\n",
    "            sf_testmask,\n",
    "            recorded = g2['footprint'].y,\n",
    "            loss_func = loss_func,\n",
    "            config = config\n",
    "        )\n",
    "\n",
    "        _, _, sf_nulltestlosses = trainer(\n",
    "            nullmodel.to(device),\n",
    "            lambda: nullmodel(g2['footprint'].x),\n",
    "            rebuild_idx,\n",
    "            sf_trainmask,\n",
    "            sf_testmask,\n",
    "            recorded = g2['footprint'].y,\n",
    "            loss_func = loss_func,\n",
    "            config = config\n",
    "        )\n",
    "        modelcv_loss.append(sf_testlosses)\n",
    "        nullmodelcv_loss.append(sf_nulltestlosses)\n",
    "        \n",
    "    sf_linearvalloss.append(linearcv_loss)\n",
    "    sf_valloss.append(modelcv_loss)\n",
    "    sf_nullvalloss.append(nullmodelcv_loss)\n",
    "        \n",
    "sf_linearvalloss = np.array(sf_linearvalloss)\n",
    "sf_valloss = np.array(sf_valloss)\n",
    "sf_nullvalloss = np.array(sf_nullvalloss)"
   ]
  },
  {
   "cell_type": "code",
   "execution_count": null,
   "id": "0840bafd-fc26-4978-88cb-4345511f691b",
   "metadata": {
    "tags": []
   },
   "outputs": [],
   "source": [
    "np.percentile(sf_linearvalloss, 5, axis=1)"
   ]
  },
  {
   "cell_type": "code",
   "execution_count": null,
   "id": "bbe5f358-3661-4274-9ff7-5188d3add355",
   "metadata": {
    "tags": []
   },
   "outputs": [],
   "source": [
    "np.arange(50)"
   ]
  },
  {
   "cell_type": "code",
   "execution_count": null,
   "id": "3f8613e3-754a-4dc8-841a-bab97ca28c48",
   "metadata": {
    "tags": []
   },
   "outputs": [],
   "source": [
    "sf_linearvalloss.mean(axis=1)[-1]"
   ]
  },
  {
   "cell_type": "code",
   "execution_count": null,
   "id": "33b5918b-b715-4ef5-9159-84e64082cc9f",
   "metadata": {
    "tags": []
   },
   "outputs": [],
   "source": [
    "sf_nullvalloss.min(axis=2).mean(axis=1)[-1]"
   ]
  },
  {
   "cell_type": "code",
   "execution_count": null,
   "id": "381d452f-8038-4a2e-9fae-0325bae8ce12",
   "metadata": {
    "tags": []
   },
   "outputs": [],
   "source": [
    "sf_valloss.min(axis=2).mean(axis=1)[-1]"
   ]
  },
  {
   "cell_type": "code",
   "execution_count": null,
   "id": "27fe502b-b014-4738-832a-71383f5bfc6a",
   "metadata": {
    "tags": []
   },
   "outputs": [],
   "source": [
    "1 - sf_valloss.min(axis=2).mean(axis=1)[-1] / sf_linearvalloss.mean(axis=1)[-1]"
   ]
  },
  {
   "cell_type": "code",
   "execution_count": null,
   "id": "b331466f-c2f4-4c59-9a29-cd812c4752bd",
   "metadata": {
    "tags": []
   },
   "outputs": [],
   "source": [
    "1 - sf_valloss.min(axis=2).mean(axis=1)[-1] / sf_nullvalloss.min(axis=2).mean(axis=1)[-1]"
   ]
  },
  {
   "cell_type": "code",
   "execution_count": null,
   "id": "c9202fc8-3e20-42e5-b70f-aa817acd5397",
   "metadata": {
    "tags": []
   },
   "outputs": [],
   "source": [
    "# plt.plot(sf_trainlosses, label=\"training\")\n",
    "plt.figure(figsize=(4, 6), dpi=150)\n",
    "\n",
    "# plt.plot(sf_linearvalloss, label=\"Linear\", color=\"coral\")\n",
    "# plt.plot(np.percentile(sf_nullvalloss, 5, axis=1), label=\"MLP\", color=\"orange\")\n",
    "# plt.plot(np.percentile(sf_valloss, 2, axis=1), label=\"Graph\", color=\"lightblue\")\n",
    "lower = 5\n",
    "upper = 95\n",
    "\n",
    "plt.plot(sf_linearvalloss.mean(axis=1), label=\"Linear\", color=\"firebrick\")\n",
    "plt.fill_between(\n",
    "    np.arange(sf_linearvalloss.shape[0]), \n",
    "    np.percentile(sf_linearvalloss, lower, axis=1), \n",
    "    np.percentile(sf_linearvalloss, upper, axis=1), \n",
    "    color=\"firebrick\", \n",
    "    alpha=0.1\n",
    ")\n",
    "\n",
    "plt.plot(sf_nullvalloss.min(axis=2).mean(axis=1), label=\"MLP\", color=\"lightsalmon\")\n",
    "plt.fill_between(\n",
    "    np.arange(sf_nullvalloss.shape[0]), \n",
    "    np.percentile(sf_nullvalloss.min(axis=2), lower, axis=1), \n",
    "    np.percentile(sf_nullvalloss.min(axis=2), upper, axis=1),\n",
    "    color=\"lightsalmon\", \n",
    "    alpha=0.1\n",
    ")\n",
    "\n",
    "plt.plot(sf_valloss.min(axis=2).mean(axis=1), label=\"Graph\", color=\"lightblue\")\n",
    "plt.fill_between(\n",
    "    np.arange(sf_valloss.shape[0]), \n",
    "    np.percentile(sf_valloss.min(axis=2), lower, axis=1), \n",
    "    np.percentile(sf_valloss.min(axis=2), upper, axis=1),\n",
    "    color=\"lightblue\", \n",
    "    alpha=0.1\n",
    ")\n",
    "\n",
    "plt.legend(loc='upper right')\n",
    "# plt.yscale(\"log\")\n",
    "# plt.xscale(\"log\")\n",
    "\n",
    "plt.title(\"Generalization from New York to San Fransisco\")\n",
    "plt.xlabel(\"# Buildings from San Fransisco\")\n",
    "plt.ylabel(\"Loss - RMSE\")\n",
    "\n",
    "plt.ylim((0.5,3.5))\n",
    "\n",
    "plt.savefig(os.path.join(results_dir, 'sf_generalization.png'), bbox_inches=\"tight\")\n",
    "plt.show()"
   ]
  },
  {
   "cell_type": "code",
   "execution_count": null,
   "id": "81f59830-8a55-4ed2-87bb-064ab8169f8c",
   "metadata": {
    "tags": []
   },
   "outputs": [],
   "source": [
    "g3train = copy.deepcopy((g3a['training_mask']).cpu().numpy())\n",
    "np.random.shuffle(g3train)\n",
    "\n",
    "g3test = ~g3train"
   ]
  },
  {
   "cell_type": "code",
   "execution_count": null,
   "id": "7191a489-7141-4a71-b70c-678b107fbb21",
   "metadata": {
    "tags": []
   },
   "outputs": [],
   "source": [
    "config"
   ]
  },
  {
   "cell_type": "code",
   "execution_count": null,
   "id": "ec1eb26f-ee66-4b9c-a1ea-1f9508d74b26",
   "metadata": {
    "tags": []
   },
   "outputs": [],
   "source": [
    "# now exploring how the model might generalize to SF\n",
    "austin_linearvalloss = []\n",
    "austin_valloss = []\n",
    "austin_nullvalloss = []\n",
    "\n",
    "for n_true in tqdm_notebook(range(100), leave=True):\n",
    "    modelcv_loss = []\n",
    "    nullmodelcv_loss = []\n",
    "    linearcv_loss = []\n",
    "    \n",
    "    for cv in range(generalization_cv):\n",
    "        np.random.seed(cv)\n",
    "        model.load_state_dict(nystate_dict)\n",
    "        nullmodel.load_state_dict(nullnystate_dict)\n",
    "        \n",
    "        model.train()\n",
    "        nullmodel.train()\n",
    "\n",
    "        austin_trainmask = copy.deepcopy(g3a['training_mask'].cpu().numpy())\n",
    "        np.random.shuffle(austin_trainmask)\n",
    "\n",
    "        austin_testmask = ~austin_trainmask\n",
    "        austin_to_false = np.where(austin_trainmask)[0]\n",
    "        austin_to_false\n",
    "\n",
    "        drip_idx = np.random.choice(austin_to_false, n_true, replace=False)\n",
    "\n",
    "        # this now just drips in a bit of the sf data\n",
    "        austin_trainmask = np.repeat([False], len(austin_trainmask))\n",
    "        austin_trainmask[drip_idx] = True\n",
    "\n",
    "        rebuild_idx = np.array(g3a['rebuild_idx'])\n",
    "\n",
    "        # shapes\n",
    "        # print(f\"trainmask shape: {trainmask.shape}\")\n",
    "\n",
    "        ## building the linear model\n",
    "        x_linear_addition = np.vstack((nyX, g3['footprint'].x[austin_trainmask].cpu().detach()))\n",
    "\n",
    "        # print(f\"Y shape: {nyY.shape}.\")\n",
    "        # print(f\"trainyshape: {sfgraph['footprint'].y[trainmask[rebuild_idx]].cpu().detach().shape}\")\n",
    "        y_linear_addition = np.concatenate((nyY, g3['footprint'].y[austin_trainmask].cpu().detach()), axis=None)\n",
    "\n",
    "        linearmodel = ElasticNet()\n",
    "        reg = linearmodel.fit(x_linear_addition, y_linear_addition)\n",
    "        preds = reg.predict(g3['footprint'].x[austin_testmask].cpu().detach())\n",
    "        existing_terms = g3['footprint'].y[austin_testmask].cpu().detach()\n",
    "        # print(f\"Predictions: {preds}\")\n",
    "        # print(f\"Existing: {existing_terms}\")\n",
    "        linearcv_loss.append(loss_func(torch.tensor(preds), existing_terms))\n",
    "\n",
    "        austin_state_dict, austin_trainlosses, austin_testlosses = trainer(\n",
    "            model.to(device),\n",
    "            lambda: model(g3.x_dict, g3.edge_index_dict),\n",
    "            rebuild_idx,\n",
    "            austin_trainmask,\n",
    "            austin_testmask,\n",
    "            recorded = g3['footprint'].y,\n",
    "            loss_func = loss_func,\n",
    "            config = config\n",
    "        )\n",
    "\n",
    "        _, _, austin_nulltestlosses = trainer(\n",
    "            nullmodel.to(device),\n",
    "            lambda: nullmodel(g3['footprint'].x),\n",
    "            rebuild_idx,\n",
    "            austin_trainmask,\n",
    "            austin_testmask,\n",
    "            recorded = g3['footprint'].y,\n",
    "            loss_func = loss_func,\n",
    "            config = config\n",
    "        )\n",
    "        modelcv_loss.append(austin_testlosses)\n",
    "        nullmodelcv_loss.append(austin_nulltestlosses)\n",
    "        \n",
    "    austin_linearvalloss.append(linearcv_loss)\n",
    "    austin_valloss.append(modelcv_loss)\n",
    "    austin_nullvalloss.append(nullmodelcv_loss)\n",
    "        \n",
    "austin_linearvalloss = np.array(austin_linearvalloss)\n",
    "austin_valloss = np.array(austin_valloss)\n",
    "austin_nullvalloss = np.array(austin_nullvalloss)"
   ]
  },
  {
   "cell_type": "code",
   "execution_count": null,
   "id": "6d5c22a2-d179-4a66-b1b0-de948a53447e",
   "metadata": {
    "tags": []
   },
   "outputs": [],
   "source": [
    "g3['footprint'].y"
   ]
  },
  {
   "cell_type": "code",
   "execution_count": null,
   "id": "03c7951d-2eb2-4661-afbf-2d635cb3e18f",
   "metadata": {
    "tags": []
   },
   "outputs": [],
   "source": [
    "nyY"
   ]
  },
  {
   "cell_type": "code",
   "execution_count": null,
   "id": "860d844b-38a8-492b-b15c-b2000d8e81de",
   "metadata": {
    "tags": []
   },
   "outputs": [],
   "source": [
    "austin_valloss.mean(axis=1).min(axis=0).shape"
   ]
  },
  {
   "cell_type": "code",
   "execution_count": null,
   "id": "c771d7cc-2f35-40bd-a5e9-71dd8cd5b773",
   "metadata": {
    "tags": []
   },
   "outputs": [],
   "source": [
    "austin_nullvalloss.min(axis=2).shape"
   ]
  },
  {
   "cell_type": "code",
   "execution_count": null,
   "id": "b0cfb600-cc4a-4b7d-8a76-f196821a5e5a",
   "metadata": {
    "tags": []
   },
   "outputs": [],
   "source": [
    "austin_linearvalloss.mean(axis=1)[-5:]"
   ]
  },
  {
   "cell_type": "code",
   "execution_count": null,
   "id": "a267923f-d567-4479-b27b-74ce16758b1a",
   "metadata": {
    "tags": []
   },
   "outputs": [],
   "source": [
    "austin_nullvalloss.min(axis=2).mean(axis=1)[-5:]"
   ]
  },
  {
   "cell_type": "code",
   "execution_count": null,
   "id": "14963fc1-42c7-44d2-94de-6396dff9e5d7",
   "metadata": {
    "tags": []
   },
   "outputs": [],
   "source": [
    "austin_valloss.min(axis=2).mean(axis=1)[-5:]"
   ]
  },
  {
   "cell_type": "code",
   "execution_count": null,
   "id": "883b24ab-8e23-4d2f-b39d-570396f51f29",
   "metadata": {
    "tags": []
   },
   "outputs": [],
   "source": [
    "1 - austin_valloss.min(axis=2).mean(axis=1)[-1] / austin_linearvalloss.mean(axis=1)[-1]"
   ]
  },
  {
   "cell_type": "code",
   "execution_count": null,
   "id": "634e7085-0e39-4496-8e0b-83cd049e539b",
   "metadata": {
    "tags": []
   },
   "outputs": [],
   "source": [
    "1 - austin_valloss.min(axis=2).mean(axis=1)[-1] / austin_nullvalloss.min(axis=2).mean(axis=1)[-1]"
   ]
  },
  {
   "cell_type": "code",
   "execution_count": null,
   "id": "8f064bef-fcb8-45d4-b8ae-d4b6a0662770",
   "metadata": {
    "tags": []
   },
   "outputs": [],
   "source": [
    "austin_linearvalloss.mean(axis=1)[0]"
   ]
  },
  {
   "cell_type": "code",
   "execution_count": null,
   "id": "0343d07f-c8c0-4f0b-b77a-b0ee65cf8e4b",
   "metadata": {
    "tags": []
   },
   "outputs": [],
   "source": [
    "austin_nullvalloss.min(axis=2).mean(axis=1)[0]"
   ]
  },
  {
   "cell_type": "code",
   "execution_count": null,
   "id": "56011c31-9bcd-478c-8a5c-8b3d96434b3a",
   "metadata": {
    "tags": []
   },
   "outputs": [],
   "source": [
    "austin_valloss.min(axis=2).mean(axis=1)[0]"
   ]
  },
  {
   "cell_type": "code",
   "execution_count": null,
   "id": "cdbc5225-a71b-48df-a50f-351d27983476",
   "metadata": {
    "tags": []
   },
   "outputs": [],
   "source": [
    "sampletable = [\n",
    "    {\"Linear\":sf_linearvalloss.mean(axis=1)[-1], \"MLP\":sf_nullvalloss.min(axis=2).mean(axis=1)[-1], \"Graph\": sf_valloss.min(axis=2).mean(axis=1)[-1]},\n",
    "    {\"Linear\":austin_linearvalloss.mean(axis=1)[-1], \"MLP\":austin_nullvalloss.min(axis=2).mean(axis=1)[-1], \"Graph\":austin_valloss.min(axis=2).mean(axis=1)[-1]}\n",
    "]\n",
    "\n",
    "tabledf = pd.DataFrame(sampletable, index=[\"San Francisco\", \"Austin\"]).style.format(decimal='.', thousands=',', precision=2)\n",
    "print(tabledf.to_latex())"
   ]
  },
  {
   "cell_type": "code",
   "execution_count": null,
   "id": "08505745-6563-4163-86a0-2d2028f42f3f",
   "metadata": {
    "tags": []
   },
   "outputs": [],
   "source": [
    "sampletable = [\n",
    "    {\"Linear\":sf_linearvalloss.mean(axis=1)[0], \"MLP\":sf_nullvalloss.min(axis=2).mean(axis=1)[0], \"Graph\": sf_valloss.min(axis=2).mean(axis=1)[0]},\n",
    "    {\"Linear\":austin_linearvalloss.mean(axis=1)[0], \"MLP\":austin_nullvalloss.min(axis=2).mean(axis=1)[0], \"Graph\":austin_valloss.min(axis=2).mean(axis=1)[0]}\n",
    "]\n",
    "\n",
    "tabledf = pd.DataFrame(sampletable, index=[\"San Francisco\", \"Austin\"]).style.format(decimal='.', thousands=',', precision=2)\n",
    "print(tabledf.to_latex())"
   ]
  },
  {
   "cell_type": "code",
   "execution_count": null,
   "id": "3d20e2de-0e3a-4992-a438-0b1cdf4d8909",
   "metadata": {
    "tags": []
   },
   "outputs": [],
   "source": [
    "plt.hist"
   ]
  },
  {
   "cell_type": "code",
   "execution_count": null,
   "id": "4815bd6d-c080-4582-b72d-f58a39858ce4",
   "metadata": {
    "tags": []
   },
   "outputs": [],
   "source": [
    "sns."
   ]
  },
  {
   "cell_type": "code",
   "execution_count": null,
   "id": "559dcc51-3609-4207-a6f3-173a92b85284",
   "metadata": {
    "tags": []
   },
   "outputs": [],
   "source": [
    "colors = ['#E69F00', '#56B4E9', '#F0E442']\n",
    "names = [\"New York City\", \"San Francisco\", \"Austin\"]\n",
    "\n",
    "plt.hist([\n",
    "    g1a['footprints'].energy,\n",
    "    g2a['footprints'].energy,\n",
    "    g3a['footprints'].energy\n",
    "], histtype='stepfilled', bins=100, alpha=0.8, label = names, color = colors)\n",
    "\n",
    "plt.yscale(\"log\")\n",
    "\n",
    "plt.legend()\n",
    "plt.show()"
   ]
  },
  {
   "cell_type": "code",
   "execution_count": null,
   "id": "04861086-f2b1-451f-8007-739ed509dc62",
   "metadata": {
    "tags": []
   },
   "outputs": [],
   "source": [
    "# plt.plot(sf_trainlosses, label=\"training\")\n",
    "plt.figure(figsize=(4, 6), dpi=600)\n",
    "\n",
    "# plt.plot(austin_linearvalloss.mean(axis=1), label=\"Linear\", color=\"firebrick\")\n",
    "# plt.plot(austin_nullvalloss.min(axis=2).mean(axis=1), label=\"MLP\", color=\"lightsalmon\")\n",
    "# plt.plot(austin_valloss.min(axis=2).mean(axis=1), label=\"Graph\", color=\"lightblue\")\n",
    "\n",
    "plt.plot(austin_linearvalloss.mean(axis=1), label=\"Linear\", color=\"firebrick\")\n",
    "plt.fill_between(\n",
    "    np.arange(austin_linearvalloss.shape[0]), \n",
    "    np.percentile(austin_linearvalloss, lower, axis=1), \n",
    "    np.percentile(austin_linearvalloss, upper, axis=1), \n",
    "    color=\"firebrick\", \n",
    "    alpha=0.1\n",
    ")\n",
    "\n",
    "plt.plot(austin_nullvalloss.min(axis=2).mean(axis=1), label=\"MLP\", color=\"lightsalmon\")\n",
    "plt.fill_between(\n",
    "    np.arange(austin_nullvalloss.shape[0]), \n",
    "    np.percentile(austin_nullvalloss.min(axis=2), lower, axis=1), \n",
    "    np.percentile(austin_nullvalloss.min(axis=2), upper, axis=1),\n",
    "    color=\"lightsalmon\", \n",
    "    alpha=0.1\n",
    ")\n",
    "\n",
    "plt.plot(austin_valloss.min(axis=2).mean(axis=1), label=\"Graph\", color=\"lightblue\")\n",
    "plt.fill_between(\n",
    "    np.arange(austin_valloss.shape[0]), \n",
    "    np.percentile(austin_valloss.min(axis=2), lower, axis=1), \n",
    "    np.percentile(austin_valloss.min(axis=2), upper, axis=1),\n",
    "    color=\"lightblue\", \n",
    "    alpha=0.1\n",
    ")\n",
    "\n",
    "plt.legend(loc='upper right')\n",
    "# plt.yscale(\"log\")\n",
    "# plt.xscale(\"log\")\n",
    "\n",
    "plt.title(\"Generalization from New York to Austin\")\n",
    "plt.xlabel(\"# Buildings from Austin\")\n",
    "plt.ylabel(\"Loss - RMSE\")\n",
    "\n",
    "plt.ylim((0,10))\n",
    "plt.savefig(os.path.join(results_dir, 'austin_generalization.png'), bbox_inches=\"tight\")\n",
    "\n",
    "plt.show()"
   ]
  },
  {
   "cell_type": "code",
   "execution_count": null,
   "id": "c42441a5-735e-4cec-8104-8b98e0f59efb",
   "metadata": {
    "tags": []
   },
   "outputs": [],
   "source": [
    "# plt.plot(sf_trainlosses, label=\"training\")\n",
    "plt.figure(figsize=(4, 6), dpi=600)\n",
    "\n",
    "# plt.plot(austin_linearvalloss.mean(axis=1), label=\"Linear\", color=\"firebrick\")\n",
    "# plt.plot(austin_nullvalloss.min(axis=2).mean(axis=1), label=\"MLP\", color=\"lightsalmon\")\n",
    "# plt.plot(austin_valloss.min(axis=2).mean(axis=1), label=\"Graph\", color=\"lightblue\")\n",
    "\n",
    "# plt.plot(austin_linearvalloss.mean(axis=1), label=\"Linear\", color=\"firebrick\")\n",
    "# plt.fill_between(\n",
    "#     np.arange(austin_linearvalloss.shape[0]), \n",
    "#     np.percentile(austin_linearvalloss, lower, axis=1), \n",
    "#     np.percentile(austin_linearvalloss, upper, axis=1), \n",
    "#     color=\"firebrick\", \n",
    "#     alpha=0.1\n",
    "# )\n",
    "\n",
    "plt.plot(austin_nullvalloss.min(axis=2).mean(axis=1), label=\"MLP\", color=\"lightsalmon\")\n",
    "plt.fill_between(\n",
    "    np.arange(austin_nullvalloss.shape[0]), \n",
    "    np.percentile(austin_nullvalloss.min(axis=2), lower, axis=1), \n",
    "    np.percentile(austin_nullvalloss.min(axis=2), upper, axis=1),\n",
    "    color=\"lightsalmon\", \n",
    "    alpha=0.1\n",
    ")\n",
    "\n",
    "plt.plot(austin_valloss.min(axis=2).mean(axis=1), label=\"Graph\", color=\"lightblue\")\n",
    "plt.fill_between(\n",
    "    np.arange(austin_valloss.shape[0]), \n",
    "    np.percentile(austin_valloss.min(axis=2), lower, axis=1), \n",
    "    np.percentile(austin_valloss.min(axis=2), upper, axis=1),\n",
    "    color=\"lightblue\", \n",
    "    alpha=0.1\n",
    ")\n",
    "\n",
    "plt.legend(loc='upper right')\n",
    "# plt.yscale(\"log\")\n",
    "# plt.xscale(\"log\")\n",
    "\n",
    "plt.title(\"Generalization from New York to Austin\")\n",
    "plt.xlabel(\"# Buildings from Austin\")\n",
    "plt.ylabel(\"Loss - RMSE\")\n",
    "\n",
    "plt.ylim((0,0.3))\n",
    "plt.savefig(os.path.join(results_dir, 'austin_generalization_small.png'), bbox_inches=\"tight\")\n",
    "\n",
    "plt.show()"
   ]
  },
  {
   "cell_type": "code",
   "execution_count": null,
   "id": "47e6b38d-d189-4d45-acc8-b806b0a93473",
   "metadata": {},
   "outputs": [],
   "source": [
    "# ookaaay now I want to see how the model might generalize"
   ]
  },
  {
   "cell_type": "code",
   "execution_count": null,
   "id": "aa61b2f8",
   "metadata": {
    "ExecuteTime": {
     "end_time": "2023-03-01T09:59:12.627911Z",
     "start_time": "2023-03-01T09:59:12.606659Z"
    }
   },
   "outputs": [],
   "source": [
    "# param_size = 0\n",
    "# for param in model.parameters():\n",
    "#     param_size += param.nelement() * param.element_size()\n",
    "# buffer_size = 0\n",
    "# for buffer in model.buffers():\n",
    "#     buffer_size += buffer.nelement() * buffer.element_size()\n",
    "\n",
    "# size_all_mb = (param_size + buffer_size) / 1024**2\n",
    "# print('model size: {:.3f}MB'.format(size_all_mb))"
   ]
  },
  {
   "cell_type": "code",
   "execution_count": null,
   "id": "cab8acf9-2bc7-4750-91f6-b49d9ba8bb94",
   "metadata": {
    "tags": []
   },
   "outputs": [],
   "source": [
    "austin_finetunemodel = copy.deepcopy(model.state_dict())\n",
    "austin_finetunenullmodel = copy.deepcopy(nullmodel.state_dict())"
   ]
  },
  {
   "cell_type": "code",
   "execution_count": null,
   "id": "3ec5b3ba-8045-4336-a90e-1e2ae413a499",
   "metadata": {
    "tags": []
   },
   "outputs": [],
   "source": [
    "model.eval()\n",
    "nullmodel.eval()\n",
    "\n",
    "austin_nullpreds = nullmodel(g3['footprint'].x)\n",
    "austin_linearpreds = reg.predict(g3['footprint'].x.cpu().detach())\n",
    "austin_predictions = model(g3.x_dict, g3.edge_index_dict)"
   ]
  },
  {
   "cell_type": "code",
   "execution_count": null,
   "id": "e8b60968-5b35-430e-8156-5f98410a3c19",
   "metadata": {
    "tags": []
   },
   "outputs": [],
   "source": [
    "torch.exp(g3['footprint'].y)"
   ]
  },
  {
   "cell_type": "code",
   "execution_count": null,
   "id": "9c67aad3-94a8-49c9-a357-75fec87210b7",
   "metadata": {
    "tags": []
   },
   "outputs": [],
   "source": [
    "austin_linearpreds.shape"
   ]
  },
  {
   "cell_type": "code",
   "execution_count": null,
   "id": "a5bb858a-2ff7-45d6-bee2-9663bdefdecb",
   "metadata": {
    "tags": []
   },
   "outputs": [],
   "source": [
    "anpred = austin_nullpreds.flatten().detach().cpu()\n",
    "agpred = austin_predictions.flatten().detach().cpu()\n",
    "alpred = austin_linearpreds"
   ]
  },
  {
   "cell_type": "code",
   "execution_count": null,
   "id": "0f072e22-4888-48f8-90a9-dc7be85b8446",
   "metadata": {
    "tags": []
   },
   "outputs": [],
   "source": [
    "g3a['footprints'].energy"
   ]
  },
  {
   "cell_type": "code",
   "execution_count": null,
   "id": "14afc594-15cf-423f-9b01-94590f0a20f2",
   "metadata": {
    "tags": []
   },
   "outputs": [],
   "source": [
    "plt.hist(torch.exp(anpred) - g3a['footprints'].energy, bins=25, label=\"Null Model\")\n",
    "plt.hist(torch.exp(agpred) - g3a['footprints'].energy, bins=25, label=\"Graph Model\", alpha=0.7)\n",
    "plt.hist(np.exp(austin_linearpreds) - g3a['footprints'].energy, bins=25, label=\"Linear Model\", alpha=0.7)\n",
    "\n",
    "plt.title(\"Finetuned model - Generalization\")\n",
    "plt.xlabel(\"Estimated MWh\")\n",
    "plt.ylabel(\"Count\")\n",
    "\n",
    "plt.legend()\n",
    "plt.show()"
   ]
  },
  {
   "cell_type": "code",
   "execution_count": null,
   "id": "99d79ea5-97b5-4a4a-9885-3fbe4f5fc5ac",
   "metadata": {
    "tags": []
   },
   "outputs": [],
   "source": [
    "g3a['footprints']"
   ]
  },
  {
   "cell_type": "code",
   "execution_count": null,
   "id": "1f8765bf-d317-40ae-822d-3b16cc05ec8c",
   "metadata": {
    "tags": []
   },
   "outputs": [],
   "source": [
    "aa = g3a['footprints']['energy']\n",
    "\n",
    "# plt.plot(aa, np.exp(austin_linearpreds) - g3a['footprints'].energy, '.', label=\"Linear Model\")\n",
    "plt.plot(aa, torch.exp(anpred) - g3a['footprints'].energy, '.', label=\"Null Model\")\n",
    "plt.plot(aa, torch.exp(agpred) - g3a['footprints'].energy, '.', label=\"Graph Model\")\n",
    "\n",
    "plt.hlines(0, aa.min(), aa.max(), color=\"pink\")\n",
    "\n",
    "plt.ylabel(\"$\\Delta \\hat Y$\")\n",
    "plt.xlabel(\"Building Floor Area ($m^2$)\")\n",
    "plt.title(\"Prediction Error by Model - MWh\")\n",
    "\n",
    "# plt.yscale(\"log\")\n",
    "plt.xscale(\"log\")\n",
    "\n",
    "plt.legend()\n",
    "plt.show()"
   ]
  },
  {
   "cell_type": "code",
   "execution_count": null,
   "id": "7abb10e3-8c5c-45bd-a1de-093b6c2be9dd",
   "metadata": {
    "tags": []
   },
   "outputs": [],
   "source": [
    "g3p['vegetation_area']"
   ]
  },
  {
   "cell_type": "code",
   "execution_count": null,
   "id": "8ac1acef-62bf-4a1f-8a21-5391f8f9eed2",
   "metadata": {
    "tags": []
   },
   "outputs": [],
   "source": [
    "g3p.columns"
   ]
  },
  {
   "cell_type": "code",
   "execution_count": null,
   "id": "05c22554-2cd5-4d6c-806a-144faeed47eb",
   "metadata": {
    "tags": []
   },
   "outputs": [],
   "source": [
    "aa = g3p['cdd']\n",
    "\n",
    "plt.plot(aa, alpred, '.', label=\"Linear Model\")\n",
    "plt.plot(aa, anpred, '.', label=\"Null Model\")\n",
    "plt.plot(aa, agpred, '.', label=\"Graph Model\")\n",
    "\n",
    "plt.ylabel(\"$\\Delta \\hat Y$\")\n",
    "plt.xlabel(\"Building Floor Area ($m^2$)\")\n",
    "\n",
    "plt.legend()\n",
    "plt.show()"
   ]
  },
  {
   "cell_type": "code",
   "execution_count": null,
   "id": "d84df5cd-7e72-491d-8068-c8d471e74667",
   "metadata": {
    "tags": []
   },
   "outputs": [],
   "source": [
    "## building the linear model\n",
    "x_linear_addition = nyX\n",
    "\n",
    "# print(f\"Y shape: {nyY.shape}.\")\n",
    "# print(f\"trainyshape: {sfgraph['footprint'].y[trainmask[rebuild_idx]].cpu().detach().shape}\")\n",
    "y_linear_addition = nyY\n",
    "\n",
    "linearmodel = ElasticNet()\n",
    "reg = linearmodel.fit(x_linear_addition, y_linear_addition)"
   ]
  },
  {
   "cell_type": "code",
   "execution_count": null,
   "id": "2c3ab22a-a29a-410d-a15c-a61f41cde395",
   "metadata": {
    "tags": []
   },
   "outputs": [],
   "source": [
    "model.load_state_dict(nystate_dict)\n",
    "model.to(device)\n",
    "\n",
    "nullmodel.load_state_dict(nullnystate_dict)\n",
    "nullmodel.to(device)\n",
    "\n",
    "model.eval()\n",
    "nullmodel.eval()\n",
    "\n",
    "austin_nullpredsnf = nullmodel(g3['footprint'].x).cpu().detach()\n",
    "austin_linearpredsnf = reg.predict(g3['footprint'].x.cpu().detach())\n",
    "austin_predictionsnf = model(g3.x_dict, g3.edge_index_dict).cpu().detach()"
   ]
  },
  {
   "cell_type": "code",
   "execution_count": null,
   "id": "2c557226-e989-4665-a89c-6b7d3b1b9657",
   "metadata": {
    "tags": []
   },
   "outputs": [],
   "source": [
    "aa = g3p['sky_area']\n",
    "\n",
    "plt.plot(aa, austin_linearpredsnf, '.', label=\"Linear Model\")\n",
    "plt.plot(aa, austin_nullpredsnf, '.', label=\"Null Model\")\n",
    "plt.plot(aa, austin_predictionsnf, '.', label=\"Graph Model\")\n",
    "\n",
    "plt.ylabel(\"$\\Delta \\hat Y$\")\n",
    "plt.xlabel(\"Building Floor Area ($m^2$)\")\n",
    "\n",
    "plt.legend()\n",
    "plt.show()"
   ]
  },
  {
   "cell_type": "code",
   "execution_count": null,
   "id": "1caee558-4c3e-46cd-b998-cc16d5328cdb",
   "metadata": {},
   "outputs": [],
   "source": []
  },
  {
   "cell_type": "code",
   "execution_count": null,
   "id": "82b12d7d-d2bd-4b40-bb37-19417a1b4f91",
   "metadata": {},
   "outputs": [],
   "source": []
  }
 ],
 "metadata": {
  "kernelspec": {
   "display_name": "Python 3 (ipykernel)",
   "language": "python",
   "name": "python3"
  },
  "language_info": {
   "codemirror_mode": {
    "name": "ipython",
    "version": 3
   },
   "file_extension": ".py",
   "mimetype": "text/x-python",
   "name": "python",
   "nbconvert_exporter": "python",
   "pygments_lexer": "ipython3",
   "version": "3.9.15"
  }
 },
 "nbformat": 4,
 "nbformat_minor": 5
}
