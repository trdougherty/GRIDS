{
 "cells": [
  {
   "cell_type": "code",
   "execution_count": 52,
   "id": "905caefe",
   "metadata": {
    "ExecuteTime": {
     "end_time": "2023-03-08T01:08:02.109130Z",
     "start_time": "2023-03-08T01:08:02.088716Z"
    }
   },
   "outputs": [],
   "source": [
    "import torch\n",
    "import os\n",
    "import sys\n",
    "import copy"
   ]
  },
  {
   "cell_type": "code",
   "execution_count": 53,
   "id": "a150977f",
   "metadata": {
    "ExecuteTime": {
     "end_time": "2023-03-08T01:08:02.248290Z",
     "start_time": "2023-03-08T01:08:02.223791Z"
    }
   },
   "outputs": [],
   "source": [
    "import matplotlib.pyplot as plt"
   ]
  },
  {
   "cell_type": "code",
   "execution_count": 54,
   "id": "f69f2a74",
   "metadata": {
    "ExecuteTime": {
     "end_time": "2023-03-08T01:08:02.407304Z",
     "start_time": "2023-03-08T01:08:02.383062Z"
    }
   },
   "outputs": [],
   "source": [
    "import numpy as np\n",
    "import networkx as nx"
   ]
  },
  {
   "cell_type": "code",
   "execution_count": 55,
   "id": "7db8004a",
   "metadata": {
    "ExecuteTime": {
     "end_time": "2023-03-08T01:08:02.533721Z",
     "start_time": "2023-03-08T01:08:02.510392Z"
    }
   },
   "outputs": [],
   "source": [
    "import wandb"
   ]
  },
  {
   "cell_type": "code",
   "execution_count": 56,
   "id": "4aca8889",
   "metadata": {
    "ExecuteTime": {
     "end_time": "2023-03-08T01:08:02.676948Z",
     "start_time": "2023-03-08T01:08:02.652495Z"
    }
   },
   "outputs": [],
   "source": [
    "epochs = 5"
   ]
  },
  {
   "cell_type": "code",
   "execution_count": 57,
   "id": "6724290c",
   "metadata": {
    "ExecuteTime": {
     "end_time": "2023-03-08T01:08:02.808435Z",
     "start_time": "2023-03-08T01:08:02.786938Z"
    }
   },
   "outputs": [],
   "source": [
    "device = \"cuda:0\""
   ]
  },
  {
   "cell_type": "code",
   "execution_count": 58,
   "id": "6f596c4a",
   "metadata": {
    "ExecuteTime": {
     "end_time": "2023-03-08T01:08:02.936836Z",
     "start_time": "2023-03-08T01:08:02.911469Z"
    }
   },
   "outputs": [
    {
     "name": "stdout",
     "output_type": "stream",
     "text": [
      "The autoreload extension is already loaded. To reload it, use:\n",
      "  %reload_ext autoreload\n"
     ]
    }
   ],
   "source": [
    "%load_ext autoreload\n",
    "%autoreload 2"
   ]
  },
  {
   "cell_type": "code",
   "execution_count": 59,
   "id": "328e33bb",
   "metadata": {
    "ExecuteTime": {
     "end_time": "2023-03-08T01:08:03.086912Z",
     "start_time": "2023-03-08T01:08:03.061760Z"
    }
   },
   "outputs": [],
   "source": [
    "module_path = os.path.abspath(os.path.join('..'))\n",
    "if module_path not in sys.path:\n",
    "    sys.path.append(module_path)"
   ]
  },
  {
   "cell_type": "code",
   "execution_count": 77,
   "id": "33253044",
   "metadata": {
    "ExecuteTime": {
     "end_time": "2023-03-08T01:12:39.318005Z",
     "start_time": "2023-03-08T01:12:39.302182Z"
    }
   },
   "outputs": [],
   "source": [
    "from src.cv import build_masks, crossvalidation"
   ]
  },
  {
   "cell_type": "code",
   "execution_count": 61,
   "id": "b968a0b9",
   "metadata": {
    "ExecuteTime": {
     "end_time": "2023-03-08T01:08:05.918162Z",
     "start_time": "2023-03-08T01:08:03.712891Z"
    }
   },
   "outputs": [],
   "source": [
    "from src.graph_construction import graph\n",
    "nycgraph, nyc_rebuild_info = graph(\n",
    "    \"new-york\",\n",
    "    neighbor_radius=70,\n",
    "    building_buffer=30,\n",
    "    test_percent=15\n",
    ")"
   ]
  },
  {
   "cell_type": "code",
   "execution_count": 62,
   "id": "57bc7440",
   "metadata": {
    "ExecuteTime": {
     "end_time": "2023-03-08T01:08:07.141187Z",
     "start_time": "2023-03-08T01:08:07.117079Z"
    }
   },
   "outputs": [
    {
     "data": {
      "text/plain": [
       "dict_keys(['rebuild_idx', 'recorded', 'node_data', 'footprints', 'complete_footprints', 'training_mask', 'simple_ids'])"
      ]
     },
     "execution_count": 62,
     "metadata": {},
     "output_type": "execute_result"
    }
   ],
   "source": [
    "nyc_rebuild_info.keys()"
   ]
  },
  {
   "cell_type": "code",
   "execution_count": 63,
   "id": "a92ab04f",
   "metadata": {
    "ExecuteTime": {
     "end_time": "2023-03-08T01:08:07.431702Z",
     "start_time": "2023-03-08T01:08:07.265569Z"
    }
   },
   "outputs": [],
   "source": [
    "from src.graph_construction import graph\n",
    "austingraph, austin_rebuild_info = graph(\n",
    "    \"austin\",\n",
    "    neighbor_radius=90,\n",
    "    building_buffer=100,\n",
    "    test_percent=15\n",
    ")"
   ]
  },
  {
   "cell_type": "code",
   "execution_count": 64,
   "id": "24c2aabe",
   "metadata": {
    "ExecuteTime": {
     "end_time": "2023-03-08T01:08:07.448619Z",
     "start_time": "2023-03-08T01:08:07.432898Z"
    }
   },
   "outputs": [
    {
     "data": {
      "text/plain": [
       "HeteroData(\n",
       "  \u001b[1mpano\u001b[0m={ x=[1678, 6] },\n",
       "  \u001b[1mfootprint\u001b[0m={\n",
       "    x=[90, 4],\n",
       "    y=[90],\n",
       "    train_mask=[90],\n",
       "    test_mask=[90]\n",
       "  },\n",
       "  \u001b[1m(footprint, contains, pano)\u001b[0m={ edge_index=[2, 225] },\n",
       "  \u001b[1m(pano, links, pano)\u001b[0m={ edge_index=[2, 4702] },\n",
       "  \u001b[1m(pano, rev_contains, footprint)\u001b[0m={ edge_index=[2, 225] }\n",
       ")"
      ]
     },
     "execution_count": 64,
     "metadata": {},
     "output_type": "execute_result"
    }
   ],
   "source": [
    "austingraph"
   ]
  },
  {
   "cell_type": "code",
   "execution_count": 65,
   "id": "ba494e60",
   "metadata": {
    "ExecuteTime": {
     "end_time": "2023-03-08T01:08:08.313158Z",
     "start_time": "2023-03-08T01:08:07.549298Z"
    }
   },
   "outputs": [],
   "source": [
    "from src.graph_construction import graph\n",
    "sfgraph, rebuild_info = graph(\n",
    "    \"san-fransisco\",\n",
    "    neighbor_radius=70,\n",
    "    building_buffer=50,\n",
    "    test_percent=15\n",
    ")"
   ]
  },
  {
   "cell_type": "code",
   "execution_count": 66,
   "id": "33c5f78e",
   "metadata": {
    "ExecuteTime": {
     "end_time": "2023-03-08T01:08:08.330739Z",
     "start_time": "2023-03-08T01:08:08.314494Z"
    }
   },
   "outputs": [
    {
     "data": {
      "text/plain": [
       "HeteroData(\n",
       "  \u001b[1mpano\u001b[0m={ x=[39, 6] },\n",
       "  \u001b[1mfootprint\u001b[0m={\n",
       "    x=[1530, 13],\n",
       "    y=[1530],\n",
       "    train_mask=[1530],\n",
       "    test_mask=[1530]\n",
       "  },\n",
       "  \u001b[1m(footprint, contains, pano)\u001b[0m={ edge_index=[2, 16] },\n",
       "  \u001b[1m(pano, links, pano)\u001b[0m={ edge_index=[2, 39] },\n",
       "  \u001b[1m(pano, rev_contains, footprint)\u001b[0m={ edge_index=[2, 16] }\n",
       ")"
      ]
     },
     "execution_count": 66,
     "metadata": {},
     "output_type": "execute_result"
    }
   ],
   "source": [
    "sfgraph"
   ]
  },
  {
   "cell_type": "code",
   "execution_count": 67,
   "id": "787c4fbd",
   "metadata": {
    "ExecuteTime": {
     "end_time": "2023-03-08T01:08:09.726224Z",
     "start_time": "2023-03-08T01:08:09.711861Z"
    }
   },
   "outputs": [],
   "source": [
    "import networkx as nx"
   ]
  },
  {
   "cell_type": "code",
   "execution_count": 68,
   "id": "458d45eb",
   "metadata": {
    "ExecuteTime": {
     "end_time": "2023-03-08T01:08:09.886298Z",
     "start_time": "2023-03-08T01:08:09.859000Z"
    }
   },
   "outputs": [],
   "source": [
    "nyc_mask = nyc_rebuild_info['training_mask'].cpu().numpy()\n",
    "nyc_cvs = build_masks(\n",
    "    nyc_mask, \n",
    "    n_cv = 5\n",
    ")"
   ]
  },
  {
   "cell_type": "code",
   "execution_count": 69,
   "id": "e90a5b7b",
   "metadata": {
    "ExecuteTime": {
     "end_time": "2023-03-08T01:08:11.183542Z",
     "start_time": "2023-03-08T01:08:11.157668Z"
    }
   },
   "outputs": [],
   "source": [
    "from src.model import NullModel\n",
    "\n",
    "input_shape = nycgraph['footprint'].x.shape[1]\n",
    "nullmodel = NullModel(layers=2, input_channels = input_shape).to(device)"
   ]
  },
  {
   "cell_type": "code",
   "execution_count": 78,
   "id": "92a65894",
   "metadata": {
    "ExecuteTime": {
     "end_time": "2023-03-08T01:12:54.908039Z",
     "start_time": "2023-03-08T01:12:54.863768Z"
    }
   },
   "outputs": [],
   "source": [
    "epochs = 500\n",
    "loss_func = torch.nn.MSELoss()\n",
    "\n",
    "custom_optimizer = torch.optim.Adam\n",
    "lr = 2e-3\n",
    "\n",
    "rebuilding_idx = nyc_rebuild_info['rebuild_idx'].cpu().numpy()"
   ]
  },
  {
   "cell_type": "code",
   "execution_count": 71,
   "id": "5b10a306",
   "metadata": {
    "ExecuteTime": {
     "end_time": "2023-03-08T01:08:19.690909Z",
     "start_time": "2023-03-08T01:08:19.662325Z"
    }
   },
   "outputs": [
    {
     "data": {
      "text/plain": [
       "HeteroData(\n",
       "  \u001b[1mpano\u001b[0m={ x=[48486, 6] },\n",
       "  \u001b[1mfootprint\u001b[0m={\n",
       "    x=[5844, 6],\n",
       "    y=[5844],\n",
       "    train_mask=[5844],\n",
       "    test_mask=[5844]\n",
       "  },\n",
       "  \u001b[1m(footprint, contains, pano)\u001b[0m={ edge_index=[2, 73159] },\n",
       "  \u001b[1m(pano, links, pano)\u001b[0m={ edge_index=[2, 1443992] },\n",
       "  \u001b[1m(pano, rev_contains, footprint)\u001b[0m={ edge_index=[2, 73159] }\n",
       ")"
      ]
     },
     "execution_count": 71,
     "metadata": {},
     "output_type": "execute_result"
    }
   ],
   "source": [
    "nycgraph"
   ]
  },
  {
   "cell_type": "code",
   "execution_count": 72,
   "id": "e412cbea",
   "metadata": {
    "ExecuteTime": {
     "end_time": "2023-03-08T01:08:21.167785Z",
     "start_time": "2023-03-08T01:08:21.138685Z"
    }
   },
   "outputs": [
    {
     "name": "stderr",
     "output_type": "stream",
     "text": [
      "/home/thomas/miniconda3/envs/dbr/lib/python3.9/site-packages/torch_geometric/nn/conv/hetero_conv.py:58: UserWarning: There exist node types ({'pano'}) whose representations do not get updated during message passing as they do not occur as destination type in any edge type. This may lead to unexpected behaviour.\n",
      "  warnings.warn(\n"
     ]
    }
   ],
   "source": [
    "from src.model import CustomGAT\n",
    "\n",
    "model = CustomGAT(\n",
    "    hidden_channels=32, \n",
    "    out_channels=32,\n",
    "    layers=2,\n",
    "    heads=4\n",
    ").to(device)"
   ]
  },
  {
   "cell_type": "code",
   "execution_count": 79,
   "id": "aefdaafa",
   "metadata": {
    "ExecuteTime": {
     "end_time": "2023-03-08T01:13:06.076750Z",
     "start_time": "2023-03-08T01:13:02.681724Z"
    }
   },
   "outputs": [
    {
     "data": {
      "application/vnd.jupyter.widget-view+json": {
       "model_id": "7442dd53fbab4954a507e055bae260f0",
       "version_major": 2,
       "version_minor": 0
      },
      "text/plain": [
       "CV Loop:   0%|          | 0/5 [00:00<?, ?it/s]"
      ]
     },
     "metadata": {},
     "output_type": "display_data"
    },
    {
     "data": {
      "application/vnd.jupyter.widget-view+json": {
       "model_id": "",
       "version_major": 2,
       "version_minor": 0
      },
      "text/plain": [
       "Epoch:   0%|          | 0/500 [00:00<?, ?it/s]"
      ]
     },
     "metadata": {},
     "output_type": "display_data"
    },
    {
     "data": {
      "application/vnd.jupyter.widget-view+json": {
       "model_id": "",
       "version_major": 2,
       "version_minor": 0
      },
      "text/plain": [
       "Epoch:   0%|          | 0/500 [00:00<?, ?it/s]"
      ]
     },
     "metadata": {},
     "output_type": "display_data"
    },
    {
     "data": {
      "application/vnd.jupyter.widget-view+json": {
       "model_id": "",
       "version_major": 2,
       "version_minor": 0
      },
      "text/plain": [
       "Epoch:   0%|          | 0/500 [00:00<?, ?it/s]"
      ]
     },
     "metadata": {},
     "output_type": "display_data"
    },
    {
     "data": {
      "application/vnd.jupyter.widget-view+json": {
       "model_id": "",
       "version_major": 2,
       "version_minor": 0
      },
      "text/plain": [
       "Epoch:   0%|          | 0/500 [00:00<?, ?it/s]"
      ]
     },
     "metadata": {},
     "output_type": "display_data"
    },
    {
     "data": {
      "application/vnd.jupyter.widget-view+json": {
       "model_id": "",
       "version_major": 2,
       "version_minor": 0
      },
      "text/plain": [
       "Epoch:   0%|          | 0/500 [00:00<?, ?it/s]"
      ]
     },
     "metadata": {},
     "output_type": "display_data"
    },
    {
     "data": {
      "image/png": "[encoded data removed]",
      "text/plain": [
       "<Figure size 640x480 with 1 Axes>"
      ]
     },
     "metadata": {},
     "output_type": "display_data"
    }
   ],
   "source": [
    "null_training_tensor, null_validation_tensor = crossvalidation(\n",
    "    nullmodel,\n",
    "    lambda: nullmodel(nycgraph['footprint'].x),\n",
    "    nyc_cvs,\n",
    "    nyc_rebuild_info,\n",
    "    epochs=epochs\n",
    ")\n",
    "\n",
    "null_mean_tl = null_training_tensor.mean(axis=0)\n",
    "null_mean_vl = null_validation_tensor.mean(axis=0)\n",
    "\n",
    "plt.plot(null_mean_tl, label=\"Null Training\")\n",
    "plt.plot(null_mean_vl, label=\"Null Validation\")\n",
    "plt.legend()\n",
    "\n",
    "plt.yscale(\"log\")\n",
    "plt.show()"
   ]
  },
  {
   "cell_type": "code",
   "execution_count": 80,
   "id": "965a56e1",
   "metadata": {
    "ExecuteTime": {
     "end_time": "2023-03-08T01:14:56.988024Z",
     "start_time": "2023-03-08T01:13:14.593275Z"
    }
   },
   "outputs": [
    {
     "data": {
      "application/vnd.jupyter.widget-view+json": {
       "model_id": "e8534f678ef848548e1235acf90f10f5",
       "version_major": 2,
       "version_minor": 0
      },
      "text/plain": [
       "CV Loop:   0%|          | 0/5 [00:00<?, ?it/s]"
      ]
     },
     "metadata": {},
     "output_type": "display_data"
    },
    {
     "data": {
      "application/vnd.jupyter.widget-view+json": {
       "model_id": "",
       "version_major": 2,
       "version_minor": 0
      },
      "text/plain": [
       "Epoch:   0%|          | 0/500 [00:00<?, ?it/s]"
      ]
     },
     "metadata": {},
     "output_type": "display_data"
    },
    {
     "data": {
      "application/vnd.jupyter.widget-view+json": {
       "model_id": "",
       "version_major": 2,
       "version_minor": 0
      },
      "text/plain": [
       "Epoch:   0%|          | 0/500 [00:00<?, ?it/s]"
      ]
     },
     "metadata": {},
     "output_type": "display_data"
    },
    {
     "data": {
      "application/vnd.jupyter.widget-view+json": {
       "model_id": "",
       "version_major": 2,
       "version_minor": 0
      },
      "text/plain": [
       "Epoch:   0%|          | 0/500 [00:00<?, ?it/s]"
      ]
     },
     "metadata": {},
     "output_type": "display_data"
    },
    {
     "data": {
      "application/vnd.jupyter.widget-view+json": {
       "model_id": "",
       "version_major": 2,
       "version_minor": 0
      },
      "text/plain": [
       "Epoch:   0%|          | 0/500 [00:00<?, ?it/s]"
      ]
     },
     "metadata": {},
     "output_type": "display_data"
    },
    {
     "data": {
      "application/vnd.jupyter.widget-view+json": {
       "model_id": "",
       "version_major": 2,
       "version_minor": 0
      },
      "text/plain": [
       "Epoch:   0%|          | 0/500 [00:00<?, ?it/s]"
      ]
     },
     "metadata": {},
     "output_type": "display_data"
    },
    {
     "data": {
      "image/png": "[encoded data removed]",
      "text/plain": [
       "<Figure size 640x480 with 1 Axes>"
      ]
     },
     "metadata": {},
     "output_type": "display_data"
    }
   ],
   "source": [
    "graph_training_tensor, graph_validation_tensor = crossvalidation(\n",
    "    model,\n",
    "    lambda: model(nycgraph.x_dict, nycgraph.edge_index_dict),\n",
    "    nyc_cvs,\n",
    "    nyc_rebuild_info,\n",
    "    epochs=epochs\n",
    ")\n",
    "\n",
    "mean_tl = graph_training_tensor.mean(axis=0)\n",
    "std_tl = graph_training_tensor.std(axis=0)\n",
    "\n",
    "mean_vl = graph_validation_tensor.mean(axis=0)\n",
    "std_vl = graph_validation_tensor.std(axis=0)\n",
    "\n",
    "plt.plot(mean_tl, label=\"Graph Training\")\n",
    "plt.plot(mean_vl, label=\"Graph Validation\")\n",
    "plt.legend()\n",
    "\n",
    "plt.yscale(\"log\")\n",
    "plt.show()"
   ]
  },
  {
   "cell_type": "code",
   "execution_count": 81,
   "id": "12683b0d",
   "metadata": {
    "ExecuteTime": {
     "end_time": "2023-03-08T01:15:10.370740Z",
     "start_time": "2023-03-08T01:15:10.264161Z"
    }
   },
   "outputs": [
    {
     "data": {
      "image/png": "[encoded data removed]",
      "text/plain": [
       "<Figure size 640x480 with 1 Axes>"
      ]
     },
     "metadata": {},
     "output_type": "display_data"
    }
   ],
   "source": [
    "domain = np.arange(0, len(mean_tl))\n",
    "plt.plot(domain[100:], mean_vl[100:], label=\"Validation\")\n",
    "# plt.fill_between(domain, mean_vl + std_vl, mean_vl - std_vl, alpha=0.1)\n",
    "\n",
    "plt.plot(domain[100:], null_mean_vl[100:], label=\"Null Validation\")\n",
    "# plt.plot(domain, null_mean_tl, label=\"Null Training\")\n",
    "\n",
    "plt.title(f\"Loss Function with Training - lr: {lr}\")\n",
    "\n",
    "plt.xlabel(\"Epoch\")\n",
    "plt.ylabel(\"Training Loss - MSE\")\n",
    "plt.legend()\n",
    "plt.show()"
   ]
  },
  {
   "cell_type": "code",
   "execution_count": 85,
   "id": "8b71c07b",
   "metadata": {
    "ExecuteTime": {
     "end_time": "2023-03-08T01:16:03.126263Z",
     "start_time": "2023-03-08T01:16:03.099189Z"
    }
   },
   "outputs": [
    {
     "data": {
      "text/plain": [
       "-0.13793081"
      ]
     },
     "execution_count": 85,
     "metadata": {},
     "output_type": "execute_result"
    }
   ],
   "source": [
    "(min(mean_vl) - min(null_mean_vl)) / min(null_mean_vl)"
   ]
  },
  {
   "cell_type": "code",
   "execution_count": null,
   "id": "2ea2eea1",
   "metadata": {
    "ExecuteTime": {
     "end_time": "2023-03-01T09:59:12.582994Z",
     "start_time": "2023-03-01T09:59:12.566148Z"
    }
   },
   "outputs": [],
   "source": [
    "(mean_vl.min() - null_mean_vl.min() ) / null_mean_vl.min()"
   ]
  },
  {
   "cell_type": "code",
   "execution_count": null,
   "id": "a425b8ca",
   "metadata": {
    "ExecuteTime": {
     "end_time": "2023-03-01T09:59:12.605990Z",
     "start_time": "2023-03-01T09:59:12.583718Z"
    }
   },
   "outputs": [],
   "source": [
    "null_mean_vl.min()"
   ]
  },
  {
   "cell_type": "code",
   "execution_count": null,
   "id": "aa61b2f8",
   "metadata": {
    "ExecuteTime": {
     "end_time": "2023-03-01T09:59:12.627911Z",
     "start_time": "2023-03-01T09:59:12.606659Z"
    }
   },
   "outputs": [],
   "source": [
    "# param_size = 0\n",
    "# for param in model.parameters():\n",
    "#     param_size += param.nelement() * param.element_size()\n",
    "# buffer_size = 0\n",
    "# for buffer in model.buffers():\n",
    "#     buffer_size += buffer.nelement() * buffer.element_size()\n",
    "\n",
    "# size_all_mb = (param_size + buffer_size) / 1024**2\n",
    "# print('model size: {:.3f}MB'.format(size_all_mb))"
   ]
  },
  {
   "cell_type": "code",
   "execution_count": null,
   "id": "03d6741e",
   "metadata": {
    "ExecuteTime": {
     "end_time": "2023-03-01T09:59:12.651996Z",
     "start_time": "2023-03-01T09:59:12.629172Z"
    }
   },
   "outputs": [],
   "source": [
    "nycgraph.x_dict['footprint'].shape"
   ]
  },
  {
   "cell_type": "code",
   "execution_count": null,
   "id": "54484dd4",
   "metadata": {
    "ExecuteTime": {
     "end_time": "2023-03-01T09:59:12.858614Z",
     "start_time": "2023-03-01T09:59:12.652708Z"
    }
   },
   "outputs": [],
   "source": [
    "output[rebuild_info['rebuild_idx']].flatten().shape"
   ]
  },
  {
   "cell_type": "code",
   "execution_count": null,
   "id": "8ff268c4",
   "metadata": {
    "ExecuteTime": {
     "end_time": "2023-03-01T09:59:12.859727Z",
     "start_time": "2023-03-01T09:59:12.859717Z"
    }
   },
   "outputs": [],
   "source": [
    "rebuild_info['recorded'].shape"
   ]
  },
  {
   "cell_type": "code",
   "execution_count": null,
   "id": "d4bb4568",
   "metadata": {
    "ExecuteTime": {
     "end_time": "2023-03-01T09:59:12.860955Z",
     "start_time": "2023-03-01T09:59:12.860942Z"
    }
   },
   "outputs": [],
   "source": [
    "output[]"
   ]
  }
 ],
 "metadata": {
  "kernelspec": {
   "display_name": "Python 3 (ipykernel)",
   "language": "python",
   "name": "python3"
  },
  "language_info": {
   "codemirror_mode": {
    "name": "ipython",
    "version": 3
   },
   "file_extension": ".py",
   "mimetype": "text/x-python",
   "name": "python",
   "nbconvert_exporter": "python",
   "pygments_lexer": "ipython3",
   "version": "3.9.15"
  }
 },
 "nbformat": 4,
 "nbformat_minor": 5
}
