{
 "cells": [
  {
   "cell_type": "code",
   "execution_count": null,
   "id": "905caefe",
   "metadata": {
    "ExecuteTime": {
     "end_time": "2023-03-08T23:14:45.468389Z",
     "start_time": "2023-03-08T23:14:44.947128Z"
    },
    "tags": []
   },
   "outputs": [],
   "source": [
    "import torch\n",
    "import os\n",
    "import sys\n",
    "import copy"
   ]
  },
  {
   "cell_type": "code",
   "execution_count": null,
   "id": "a150977f",
   "metadata": {
    "ExecuteTime": {
     "end_time": "2023-03-08T23:14:45.618731Z",
     "start_time": "2023-03-08T23:14:45.469512Z"
    },
    "tags": []
   },
   "outputs": [],
   "source": [
    "import matplotlib.pyplot as plt"
   ]
  },
  {
   "cell_type": "code",
   "execution_count": null,
   "id": "f69f2a74",
   "metadata": {
    "ExecuteTime": {
     "end_time": "2023-03-08T23:14:45.692595Z",
     "start_time": "2023-03-08T23:14:45.619661Z"
    },
    "tags": []
   },
   "outputs": [],
   "source": [
    "import numpy as np\n",
    "import networkx as nx"
   ]
  },
  {
   "cell_type": "code",
   "execution_count": null,
   "id": "7db8004a",
   "metadata": {
    "ExecuteTime": {
     "end_time": "2023-03-08T23:14:45.938222Z",
     "start_time": "2023-03-08T23:14:45.693943Z"
    },
    "tags": []
   },
   "outputs": [],
   "source": [
    "import wandb"
   ]
  },
  {
   "cell_type": "code",
   "execution_count": null,
   "id": "6724290c",
   "metadata": {
    "ExecuteTime": {
     "end_time": "2023-03-08T23:14:45.941297Z",
     "start_time": "2023-03-08T23:14:45.939535Z"
    },
    "tags": []
   },
   "outputs": [],
   "source": [
    "device = \"cuda:0\""
   ]
  },
  {
   "cell_type": "code",
   "execution_count": null,
   "id": "6f596c4a",
   "metadata": {
    "ExecuteTime": {
     "end_time": "2023-03-08T23:14:45.972023Z",
     "start_time": "2023-03-08T23:14:45.942486Z"
    },
    "tags": []
   },
   "outputs": [],
   "source": [
    "%load_ext autoreload\n",
    "%autoreload 2"
   ]
  },
  {
   "cell_type": "code",
   "execution_count": null,
   "id": "328e33bb",
   "metadata": {
    "ExecuteTime": {
     "end_time": "2023-03-08T23:14:45.981665Z",
     "start_time": "2023-03-08T23:14:45.972991Z"
    },
    "tags": []
   },
   "outputs": [],
   "source": [
    "module_path = os.path.abspath(os.path.join('..'))\n",
    "if module_path not in sys.path:\n",
    "    sys.path.append(module_path)"
   ]
  },
  {
   "cell_type": "code",
   "execution_count": null,
   "id": "33253044",
   "metadata": {
    "ExecuteTime": {
     "end_time": "2023-03-08T23:14:46.038388Z",
     "start_time": "2023-03-08T23:14:46.027026Z"
    },
    "tags": []
   },
   "outputs": [],
   "source": [
    "from src.cv import build_masks, crossvalidation"
   ]
  },
  {
   "cell_type": "code",
   "execution_count": null,
   "id": "f828af74",
   "metadata": {
    "ExecuteTime": {
     "end_time": "2023-03-08T23:21:17.286959Z",
     "start_time": "2023-03-08T23:21:17.257284Z"
    },
    "tags": []
   },
   "outputs": [],
   "source": [
    "import torch_geometric.transforms as T\n",
    "transform = T.Compose([T.ToUndirected(), T.AddSelfLoops()])"
   ]
  },
  {
   "cell_type": "code",
   "execution_count": null,
   "id": "c280f584-f9ff-4274-844e-97c65611b0f0",
   "metadata": {
    "tags": []
   },
   "outputs": [],
   "source": [
    "config = {\n",
    "    \"custom_optimizer\": torch.optim.Adam,\n",
    "    \"lr\" : 0.01,\n",
    "    'epochs': 1500,\n",
    "    'linear_layers': 2,\n",
    "    'hidden_channels': 8,\n",
    "    'dropout': 0.3,\n",
    "    'test-percent': 30,\n",
    "    'building_buffer': 60,\n",
    "    'neighbor_radius': 150\n",
    "}"
   ]
  },
  {
   "cell_type": "code",
   "execution_count": null,
   "id": "b968a0b9",
   "metadata": {
    "ExecuteTime": {
     "end_time": "2023-03-08T23:21:22.152361Z",
     "start_time": "2023-03-08T23:21:19.928796Z"
    },
    "tags": []
   },
   "outputs": [],
   "source": [
    "from src.graph_construction import graph\n",
    "nycgraph, nyc_rebuild_info = graph(\n",
    "    \"new-york\",\n",
    "    neighbor_radius=config['neighbor_radius'],\n",
    "    building_buffer=config['building_buffer'],\n",
    "    test_percent=config['test-percent']\n",
    ")\n",
    "\n",
    "# nycgraph = transform(nycgraph)"
   ]
  },
  {
   "cell_type": "code",
   "execution_count": null,
   "id": "c67b782c-e541-40b4-9aa6-5da440ef0c38",
   "metadata": {
    "tags": []
   },
   "outputs": [],
   "source": [
    "nycgraph['footprint'].y[:10]"
   ]
  },
  {
   "cell_type": "code",
   "execution_count": null,
   "id": "1a88e67c-fc94-4d3e-ac80-309f45c8911a",
   "metadata": {
    "tags": []
   },
   "outputs": [],
   "source": [
    "config['input_shape'] = nycgraph['footprint'].x.shape[1]"
   ]
  },
  {
   "cell_type": "code",
   "execution_count": null,
   "id": "cc5d2e2b-041b-4230-80f8-4ce64a6204a0",
   "metadata": {
    "tags": []
   },
   "outputs": [],
   "source": [
    "nyc_rebuild_info['training_mask'].shape"
   ]
  },
  {
   "cell_type": "code",
   "execution_count": null,
   "id": "a92ab04f",
   "metadata": {
    "ExecuteTime": {
     "end_time": "2023-03-08T23:21:35.659550Z",
     "start_time": "2023-03-08T23:21:35.498850Z"
    },
    "tags": []
   },
   "outputs": [],
   "source": [
    "from src.graph_construction import graph\n",
    "austingraph, austin_rebuild_info = graph(\n",
    "    \"austin\",\n",
    "    neighbor_radius=config['neighbor_radius'],\n",
    "    building_buffer=config['building_buffer'],\n",
    "    test_percent=config['test-percent']\n",
    ")"
   ]
  },
  {
   "cell_type": "code",
   "execution_count": null,
   "id": "ba494e60",
   "metadata": {
    "ExecuteTime": {
     "end_time": "2023-03-08T23:50:10.203314Z",
     "start_time": "2023-03-08T23:50:09.174973Z"
    },
    "tags": []
   },
   "outputs": [],
   "source": [
    "from src.graph_construction import graph\n",
    "sfgraph, sf_rebuild_info = graph(\n",
    "    \"san-fransisco\",\n",
    "    neighbor_radius=config['neighbor_radius'],\n",
    "    building_buffer=config['building_buffer'],\n",
    "    test_percent=config['test-percent']\n",
    ")"
   ]
  },
  {
   "cell_type": "code",
   "execution_count": null,
   "id": "7416c4e0",
   "metadata": {
    "ExecuteTime": {
     "end_time": "2023-03-08T23:36:05.405116Z",
     "start_time": "2023-03-08T23:36:05.388581Z"
    },
    "tags": []
   },
   "outputs": [],
   "source": [
    "sfgraph"
   ]
  },
  {
   "cell_type": "code",
   "execution_count": null,
   "id": "67b907e4-c882-4af0-9356-bc5c44523255",
   "metadata": {
    "tags": []
   },
   "outputs": [],
   "source": [
    "nyc_rebuild_info['training_mask'].sum()"
   ]
  },
  {
   "cell_type": "code",
   "execution_count": null,
   "id": "a7f8b9ae-7027-4be2-8f44-dded18254120",
   "metadata": {
    "tags": []
   },
   "outputs": [],
   "source": [
    "(~nyc_rebuild_info['training_mask']).sum()"
   ]
  },
  {
   "cell_type": "code",
   "execution_count": null,
   "id": "df020333-1a0d-4af9-a7e2-7d7221f33b87",
   "metadata": {
    "tags": []
   },
   "outputs": [],
   "source": [
    "from sklearn.linear_model import LinearRegression"
   ]
  },
  {
   "cell_type": "code",
   "execution_count": null,
   "id": "06474fd3-d765-4766-82b0-844f153aac15",
   "metadata": {
    "tags": []
   },
   "outputs": [],
   "source": [
    "loss_func = torch.nn.MSELoss()\n",
    "nyrebuild_idx = torch.tensor(nyc_rebuild_info['rebuild_idx'])"
   ]
  },
  {
   "cell_type": "code",
   "execution_count": null,
   "id": "458d45eb",
   "metadata": {
    "ExecuteTime": {
     "end_time": "2023-03-08T23:21:42.760115Z",
     "start_time": "2023-03-08T23:21:42.742207Z"
    },
    "tags": []
   },
   "outputs": [],
   "source": [
    "nyc_mask = nyc_rebuild_info['training_mask'].cpu().numpy()"
   ]
  },
  {
   "cell_type": "code",
   "execution_count": null,
   "id": "70ba9c6f-2385-4617-9cdc-1cce65252727",
   "metadata": {
    "tags": []
   },
   "outputs": [],
   "source": [
    "np.random.seed(1)\n",
    "nyc_cvs = build_masks(\n",
    "    nyc_mask, \n",
    "    n_cv = 6,\n",
    "    n_val = 300\n",
    ")"
   ]
  },
  {
   "cell_type": "code",
   "execution_count": null,
   "id": "bb2e0f1f-8bab-4e5f-bb44-3193cd51fe61",
   "metadata": {
    "tags": []
   },
   "outputs": [],
   "source": [
    "nyc_mask.sum()"
   ]
  },
  {
   "cell_type": "code",
   "execution_count": null,
   "id": "253b81c1-bc37-4bb9-8889-77fe28ca7dc1",
   "metadata": {
    "tags": []
   },
   "outputs": [],
   "source": [
    "nyc_cvs[0][0].sum()"
   ]
  },
  {
   "cell_type": "code",
   "execution_count": null,
   "id": "ec2027bd-e080-4d19-9f72-6067274a26e2",
   "metadata": {
    "tags": []
   },
   "outputs": [],
   "source": [
    "nyrebuild_idx.max()"
   ]
  },
  {
   "cell_type": "code",
   "execution_count": null,
   "id": "3baf752b",
   "metadata": {
    "ExecuteTime": {
     "end_time": "2023-03-08T23:21:45.883068Z",
     "start_time": "2023-03-08T23:21:45.839348Z"
    },
    "tags": []
   },
   "outputs": [],
   "source": [
    "valmean = []\n",
    "valstd = []\n",
    "\n",
    "trainmean = []\n",
    "trainstd = []\n",
    "\n",
    "np.random.seed(1)\n",
    "nyc_cvs = build_masks(\n",
    "    nyc_mask, \n",
    "    n_cv = 3,\n",
    "    n_val = 500\n",
    ")\n",
    "\n",
    "nyX = nycgraph['footprint'].x[nyrebuild_idx].detach().cpu().numpy()\n",
    "nyY = nycgraph['footprint'].y.cpu()\n",
    "\n",
    "cvtrain_errors = []\n",
    "cv_errors = []\n",
    "for crossfold in nyc_cvs:\n",
    "    nytrain, nyval = crossfold\n",
    "\n",
    "    nytrain = nytrain[nyrebuild_idx]\n",
    "    nyval = nyval[nyrebuild_idx]\n",
    "\n",
    "    reg = LinearRegression().fit(nyX[nytrain], nyY[nytrain])\n",
    "    overfitpred = reg.predict(nyX[nytrain])\n",
    "    fitpred = reg.predict(nyX[nyval])\n",
    "\n",
    "    overfitloss = float(loss_func(torch.tensor(overfitpred), nyY[nytrain]))\n",
    "    regloss = float(loss_func(torch.tensor(fitpred), nyY[nyval]))\n",
    "\n",
    "    cvtrain_errors.append(overfitloss)\n",
    "    cv_errors.append(regloss)\n",
    "\n",
    "linear_regtrainerr = np.mean(cvtrain_errors)\n",
    "linear_regerr = np.mean(cv_errors)\n",
    "\n",
    "trainmean.append(linear_regtrainerr)\n",
    "valmean.append(linear_regerr)\n",
    "\n",
    "trainstd.append(np.std(cvtrain_errors))\n",
    "valstd.append(np.std(cv_errors))"
   ]
  },
  {
   "cell_type": "code",
   "execution_count": null,
   "id": "02976b1f-bd34-4812-a877-195f6a7d414a",
   "metadata": {
    "tags": []
   },
   "outputs": [],
   "source": [
    "fullreg = LinearRegression().fit(nyX, nyY)"
   ]
  },
  {
   "cell_type": "code",
   "execution_count": null,
   "id": "3a6858b5-519d-443d-8383-67dd3b97caac",
   "metadata": {
    "tags": []
   },
   "outputs": [],
   "source": [
    "# plt.plot(range(ntesting), trainmean, label=\"training\")\n",
    "# plt.fill_between(\n",
    "#     range(ntesting), \n",
    "#     np.array(trainmean) - np.array(trainstd), \n",
    "#     np.array(trainmean) + np.array(trainstd),\n",
    "#     alpha=0.2\n",
    "# ) \n",
    "\n",
    "# plt.plot(range(ntesting), valmean, label=\"validation\")\n",
    "# plt.fill_between(\n",
    "#     range(ntesting), \n",
    "#     np.array(valmean) - np.array(valstd), \n",
    "#     np.array(valmean) + np.array(valstd),\n",
    "#     alpha=0.2\n",
    "# )\n",
    "\n",
    "# plt.ylim(0.3, 1.3)\n",
    "# plt.legend()\n",
    "# plt.show()"
   ]
  },
  {
   "cell_type": "code",
   "execution_count": null,
   "id": "e36c9652-09bf-4ff1-afc5-d697186b7ef0",
   "metadata": {
    "tags": []
   },
   "outputs": [],
   "source": [
    "print(linear_regtrainerr)"
   ]
  },
  {
   "cell_type": "code",
   "execution_count": null,
   "id": "d18c21bd-4150-4fee-928d-01eb1389b0a1",
   "metadata": {
    "tags": []
   },
   "outputs": [],
   "source": [
    "print(linear_regerr)"
   ]
  },
  {
   "cell_type": "code",
   "execution_count": null,
   "id": "90496707-9783-4249-9da6-6037fc95d6f6",
   "metadata": {
    "tags": []
   },
   "outputs": [],
   "source": [
    "linear_regtrainerr"
   ]
  },
  {
   "cell_type": "code",
   "execution_count": null,
   "id": "7b0b8f95",
   "metadata": {
    "ExecuteTime": {
     "end_time": "2023-03-08T23:21:46.010373Z",
     "start_time": "2023-03-08T23:21:45.978822Z"
    },
    "tags": []
   },
   "outputs": [],
   "source": [
    "linear_regerr"
   ]
  },
  {
   "cell_type": "code",
   "execution_count": null,
   "id": "8c8440dd",
   "metadata": {
    "ExecuteTime": {
     "end_time": "2023-03-08T23:21:46.168239Z",
     "start_time": "2023-03-08T23:21:46.135715Z"
    },
    "tags": []
   },
   "outputs": [],
   "source": [
    "nycgraph['footprint'].x"
   ]
  },
  {
   "cell_type": "code",
   "execution_count": null,
   "id": "89a98d72-00de-47ab-bfe1-a52eb2f9fd39",
   "metadata": {
    "tags": []
   },
   "outputs": [],
   "source": [
    "nycgraph['footprint'].x"
   ]
  },
  {
   "cell_type": "code",
   "execution_count": null,
   "id": "3a29bd59-1f87-4bc3-92df-86049eee07a8",
   "metadata": {
    "tags": []
   },
   "outputs": [],
   "source": [
    "config"
   ]
  },
  {
   "cell_type": "code",
   "execution_count": null,
   "id": "aefdaafa",
   "metadata": {
    "ExecuteTime": {
     "end_time": "2023-03-08T23:22:09.278532Z",
     "start_time": "2023-03-08T23:21:49.701330Z"
    },
    "tags": []
   },
   "outputs": [],
   "source": [
    "from src.model import NullModel\n",
    "\n",
    "# input_shape = nycgraph['footprint'].x.shape[1]\n",
    "nullmodel = NullModel(\n",
    "    layers = config['linear_layers'],\n",
    "    input_shape = config['input_shape'],\n",
    "    hidden_channels = config['hidden_channels']\n",
    ").to(device)\n",
    "\n",
    "default_nullmodelstate = copy.deepcopy(nullmodel.state_dict())\n",
    "\n",
    "null_training_tensor, null_validation_tensor = crossvalidation(\n",
    "    nullmodel,\n",
    "    lambda: nullmodel(nycgraph['footprint'].x),\n",
    "    nyc_cvs,\n",
    "    nyrebuild_idx,\n",
    "    nycgraph['footprint'].y,\n",
    "    epochs = config['epochs'],\n",
    "    custom_optimizer = config['custom_optimizer'],\n",
    "    lr = config['lr'],\n",
    "    config = config,\n",
    "    log_model = False\n",
    ")"
   ]
  },
  {
   "cell_type": "code",
   "execution_count": null,
   "id": "bc807523",
   "metadata": {
    "ExecuteTime": {
     "end_time": "2023-03-08T23:22:24.648284Z",
     "start_time": "2023-03-08T23:22:24.538058Z"
    },
    "tags": []
   },
   "outputs": [],
   "source": [
    "null_mean_tl = null_training_tensor.mean(axis=0)\n",
    "null_mean_vl = null_validation_tensor.mean(axis=0)\n",
    "\n",
    "plt.plot(null_mean_tl, label=\"Null Training\")\n",
    "plt.plot(null_mean_vl, label=\"Null Validation\")\n",
    "\n",
    "plt.legend()\n",
    "\n",
    "plt.yscale(\"log\")\n",
    "plt.ylim((0,5))\n",
    "\n",
    "plt.show()"
   ]
  },
  {
   "cell_type": "code",
   "execution_count": null,
   "id": "ac165d20",
   "metadata": {
    "ExecuteTime": {
     "end_time": "2023-03-08T23:22:34.072317Z",
     "start_time": "2023-03-08T23:22:34.047197Z"
    },
    "tags": []
   },
   "outputs": [],
   "source": [
    "config"
   ]
  },
  {
   "cell_type": "code",
   "execution_count": null,
   "id": "04b19161-e442-4bf4-a52b-7faa2bae7829",
   "metadata": {
    "tags": []
   },
   "outputs": [],
   "source": [
    "nycgraph"
   ]
  },
  {
   "cell_type": "code",
   "execution_count": null,
   "id": "04c60a79-e873-468e-8030-c0824e2d0147",
   "metadata": {
    "tags": []
   },
   "outputs": [],
   "source": [
    "from torch import nn\n",
    "import torch_geometric.transforms as T\n",
    "from torch_geometric.nn import GATConv, Linear, to_hetero, GATv2Conv\n",
    "from torch_geometric.nn.conv.hetero_conv import HeteroConv\n",
    "\n",
    "custom_graphconv = GATv2Conv\n",
    "\n",
    "class CustomGAT(torch.nn.Module):\n",
    "    def __init__(\n",
    "            self, \n",
    "            hidden_channels:int, \n",
    "            out_channels:int, \n",
    "            layers:int,\n",
    "            linear_layers:int,\n",
    "            input_shape:int,\n",
    "            heads:int = 1,\n",
    "            dropout = 0.5\n",
    "        ):\n",
    "        super().__init__()\n",
    "        self.layers = layers\n",
    "        \n",
    "        self.convs = torch.nn.ModuleList()\n",
    "        self.lins = torch.nn.ModuleList()\n",
    "\n",
    "        self.nullmodel = NullModel(\n",
    "            layers = linear_layers,\n",
    "            input_shape = input_shape,\n",
    "            hidden_channels=hidden_channels\n",
    "        )\n",
    "        \n",
    "        self.convs = torch.nn.ModuleList()\n",
    "        for _ in range(layers):\n",
    "            conv = HeteroConv({\n",
    "                ('pano', 'links', 'pano'): custom_graphconv(-1, hidden_channels, add_self_loops = False, heads=heads),\n",
    "                ('footprint', 'contains', 'pano'): custom_graphconv((-1, -1), hidden_channels, add_self_loops = False, heads=heads),\n",
    "                ('pano', 'rev_contains', 'footprint'): custom_graphconv((-1, -1), hidden_channels, add_self_loops = False, heads=heads),\n",
    "            }, aggr='sum')\n",
    "            self.convs.append(conv)\n",
    "\n",
    "        self.lin = Linear(hidden_channels, out_channels)\n",
    "        self.mlp = nn.Sequential(\n",
    "            nn.Dropout(p=0.8),\n",
    "            nn.ReLU(),\n",
    "            nn.Linear(out_channels * heads, hidden_channels),\n",
    "            nn.Dropout(p=0.5),\n",
    "            nn.ReLU(),\n",
    "            nn.Linear(hidden_channels, hidden_channels),\n",
    "            nn.Dropout(p=0.5),\n",
    "            nn.ReLU(),\n",
    "            nn.Linear(hidden_channels, 1)\n",
    "        )\n",
    "\n",
    "    def forward(self, x_dict, edge_index_dict):\n",
    "        for conv in self.convs:\n",
    "            x_dict = conv(x_dict, edge_index_dict)\n",
    "            x_dict = {key: x.relu() for key, x in x_dict.items()}\n",
    "        return self.mlp(x_dict['footprint'])\n",
    "#         return x['pano']\n",
    "\n",
    "# model = to_hetero(model, data.metadata(), aggr='sum').to(device)"
   ]
  },
  {
   "cell_type": "code",
   "execution_count": null,
   "id": "5cd834ae",
   "metadata": {
    "ExecuteTime": {
     "end_time": "2023-03-08T23:22:36.199950Z",
     "start_time": "2023-03-08T23:22:36.158633Z"
    },
    "tags": []
   },
   "outputs": [],
   "source": [
    "# from src.model import CustomGAT\n",
    "\n",
    "model = CustomGAT(\n",
    "    hidden_channels = config['hidden_channels'], \n",
    "    out_channels=8,\n",
    "    layers=2,\n",
    "    heads=4,\n",
    "    linear_layers = config['linear_layers'],\n",
    "    input_shape = config['input_shape'],\n",
    "    dropout = config['dropout']\n",
    ").to(device)\n",
    "\n",
    "default_modelstate = copy.deepcopy(model.state_dict())"
   ]
  },
  {
   "cell_type": "code",
   "execution_count": null,
   "id": "965a56e1",
   "metadata": {
    "ExecuteTime": {
     "end_time": "2023-03-08T23:33:51.603498Z",
     "start_time": "2023-03-08T23:23:16.209628Z"
    },
    "tags": []
   },
   "outputs": [],
   "source": [
    "graph_training_tensor, graph_validation_tensor = crossvalidation(\n",
    "    model,\n",
    "    lambda: model(nycgraph.x_dict, nycgraph.edge_index_dict),\n",
    "    nyc_cvs,\n",
    "    nyrebuild_idx,\n",
    "    nycgraph['footprint'].y,\n",
    "    epochs = config['epochs'],\n",
    "    custom_optimizer = config['custom_optimizer'],\n",
    "    lr = config['lr'],\n",
    "    config = config,\n",
    "    log_model = False\n",
    ")"
   ]
  },
  {
   "cell_type": "code",
   "execution_count": null,
   "id": "34538a88",
   "metadata": {
    "ExecuteTime": {
     "end_time": "2023-03-08T23:33:54.105025Z",
     "start_time": "2023-03-08T23:33:54.023458Z"
    },
    "tags": []
   },
   "outputs": [],
   "source": [
    "mean_tl = graph_training_tensor.mean(axis=0)\n",
    "std_tl = graph_training_tensor.std(axis=0)\n",
    "\n",
    "mean_vl = graph_validation_tensor.mean(axis=0)\n",
    "std_vl = graph_validation_tensor.std(axis=0)\n",
    "\n",
    "plt.plot(mean_tl, label=\"Graph Training\")\n",
    "plt.plot(mean_vl, label=\"Graph Validation\")\n",
    "plt.legend()\n",
    "\n",
    "plt.yscale(\"log\")\n",
    "plt.ylim((0,2))\n",
    "\n",
    "plt.show()"
   ]
  },
  {
   "cell_type": "code",
   "execution_count": null,
   "id": "fb83b191",
   "metadata": {
    "ExecuteTime": {
     "end_time": "2023-03-08T23:34:06.698440Z",
     "start_time": "2023-03-08T23:34:06.681676Z"
    },
    "tags": []
   },
   "outputs": [],
   "source": [
    "nycfootprints = nyc_rebuild_info['footprints']\n",
    "nycfootprints['logenergy'] = np.log(nycfootprints.energy)\n",
    "\n",
    "# nycfootprints.explore('logenergy')"
   ]
  },
  {
   "cell_type": "code",
   "execution_count": null,
   "id": "12683b0d",
   "metadata": {
    "ExecuteTime": {
     "end_time": "2023-03-08T23:34:08.343943Z",
     "start_time": "2023-03-08T23:34:07.868646Z"
    },
    "tags": []
   },
   "outputs": [],
   "source": [
    "domain = np.arange(0, len(mean_tl))\n",
    "\n",
    "# plt.plot(domain, mean_tl, label=\"Training\")\n",
    "plt.plot(domain, mean_vl, label=\"Validation\", color=\"lightblue\")\n",
    "# plt.fill_between(domain, mean_vl + std_vl, mean_vl - std_vl, alpha=0.1)\n",
    "\n",
    "plt.plot(domain, null_mean_tl, label=\"Null Training\", color=\"indianred\", linestyle='dashed')\n",
    "plt.plot(domain, null_mean_vl, label=\"Null Validation\", color=\"salmon\", linestyle='dashed')\n",
    "\n",
    "plt.hlines(regloss, min(domain), max(domain), color='pink', label=\"linear regression\")\n",
    "\n",
    "plt.title(f\"Loss Function with Training - lr: {config['lr']}\")\n",
    "\n",
    "plt.xlabel(\"Epoch\")\n",
    "plt.ylabel(\"Training Loss - MSE\")\n",
    "plt.legend()\n",
    "\n",
    "plt.yscale(\"log\")\n",
    "# plt.ylim((0,2.5))\n",
    "\n",
    "plt.show()"
   ]
  },
  {
   "cell_type": "code",
   "execution_count": null,
   "id": "5c371f5d",
   "metadata": {
    "ExecuteTime": {
     "end_time": "2023-03-08T23:34:37.445779Z",
     "start_time": "2023-03-08T23:34:37.426972Z"
    },
    "tags": []
   },
   "outputs": [],
   "source": [
    "graph_improvement = (min(mean_vl) - min(null_mean_vl)) / min(null_mean_vl)\n",
    "print(\"Improvement from Context: {:0.2f}%\".format(100*graph_improvement))"
   ]
  },
  {
   "cell_type": "code",
   "execution_count": null,
   "id": "fd4acea6-f570-4bfc-8f7d-61ec50958ef5",
   "metadata": {
    "tags": []
   },
   "outputs": [],
   "source": [
    "def relative_benefit(errors, threshold):\n",
    "    count_pass = (errors <= threshold).sum()\n",
    "    return float(100 * (count_pass / len(errors)))"
   ]
  },
  {
   "cell_type": "code",
   "execution_count": null,
   "id": "2ea2eea1",
   "metadata": {
    "ExecuteTime": {
     "end_time": "2023-03-08T08:24:03.187722Z",
     "start_time": "2023-03-08T08:24:03.142676Z"
    }
   },
   "outputs": [],
   "source": [
    "# now examining how this may generalize\n",
    "model.eval()\n",
    "nullmodel.eval()\n",
    "with torch.no_grad():\n",
    "    print(\"New York City\")\n",
    "    testidx = (~nyc_rebuild_info['training_mask']).detach().cpu().numpy()\n",
    "    rebuilding_idx = np.array(nyc_rebuild_info['rebuild_idx'])\n",
    "\n",
    "    linear_predictions = reg.predict(nycgraph['footprint'].x.cpu().numpy())[rebuilding_idx][testidx[rebuilding_idx]]\n",
    "    null_predictions = nullmodel(nycgraph['footprint'].x).squeeze()[rebuilding_idx][testidx[rebuilding_idx]]\n",
    "    estimates = model(nycgraph.x_dict, nycgraph.edge_index_dict).squeeze().detach()[rebuilding_idx][testidx[rebuilding_idx]]\n",
    "    recorded = nycgraph['footprint'].y[testidx[rebuilding_idx]]\n",
    "\n",
    "    linear_loss = loss_func(torch.tensor(linear_predictions).to(device), recorded)\n",
    "    null_loss = loss_func(null_predictions, recorded)\n",
    "    graph_loss = loss_func(estimates, recorded)\n",
    "    \n",
    "    print(\"Linear Loss:\\t{:0.2f}\".format(linear_loss))\n",
    "    print(\"Null Loss:\\t{:0.2f}\".format(null_loss))\n",
    "    print(\"Graph Loss:\\t{:0.2f}\".format(graph_loss))\n",
    "    print(\"Improvement:\\t{:0.2f}\".format(100 * (graph_loss - null_loss)/null_loss))"
   ]
  },
  {
   "cell_type": "code",
   "execution_count": null,
   "id": "98ece04b-44b5-41b7-bb40-c383963b2b65",
   "metadata": {},
   "outputs": [],
   "source": [
    "linmae = torch.abs(torch.exp(recorded) - torch.tensor(np.exp(linear_predictions)).to(device))\n",
    "nullmae = torch.abs(torch.exp(recorded) - torch.exp(null_predictions))\n",
    "graphmae = torch.abs(torch.exp(recorded) - torch.exp(estimates))"
   ]
  },
  {
   "cell_type": "code",
   "execution_count": null,
   "id": "3c3312f5-5c74-46bd-b9b6-7989b4c1c03b",
   "metadata": {
    "tags": []
   },
   "outputs": [],
   "source": [
    "threshold = 1000\n",
    "\n",
    "print(f\"Linear Benefit:\\t\\t{relative_benefit(linmae, threshold)}\")\n",
    "print(f\"Null Benefit:\\t\\t{relative_benefit(nullmae, threshold)}\")\n",
    "print(f\"Graph Benefit:\\t\\t{relative_benefit(graphmae, threshold)}\")"
   ]
  },
  {
   "cell_type": "code",
   "execution_count": null,
   "id": "71626db0",
   "metadata": {
    "ExecuteTime": {
     "end_time": "2023-03-08T08:19:20.510053Z",
     "start_time": "2023-03-08T08:19:20.484974Z"
    }
   },
   "outputs": [],
   "source": [
    "torch.exp(null_predictions)"
   ]
  },
  {
   "cell_type": "code",
   "execution_count": null,
   "id": "49c0caee-fde9-4b5f-9889-a0edb916b1a7",
   "metadata": {
    "tags": []
   },
   "outputs": [],
   "source": [
    "testidx = (~sf_rebuild_info['training_mask']).detach().cpu().numpy()\n",
    "testidx"
   ]
  },
  {
   "cell_type": "code",
   "execution_count": null,
   "id": "b7f7a302-1470-4281-a4d5-95088439b302",
   "metadata": {
    "tags": []
   },
   "outputs": [],
   "source": [
    "rebuilding_idx = np.array(sf_rebuild_info['rebuild_idx'])"
   ]
  },
  {
   "cell_type": "code",
   "execution_count": null,
   "id": "710adde5",
   "metadata": {
    "ExecuteTime": {
     "end_time": "2023-03-08T09:04:22.731848Z",
     "start_time": "2023-03-08T09:04:22.702944Z"
    }
   },
   "outputs": [],
   "source": [
    "# now examining how this may generalize\n",
    "nullmodel.eval()\n",
    "model.eval()\n",
    "with torch.no_grad():\n",
    "    print(\"San Fransisco\")\n",
    "    testidx = (~sf_rebuild_info['training_mask']).detach().cpu().numpy()\n",
    "    rebuilding_idx = np.array(sf_rebuild_info['rebuild_idx'])\n",
    "    null_predictions = nullmodel(sfgraph['footprint'].x).squeeze()[rebuilding_idx][testidx[rebuilding_idx]]\n",
    "    \n",
    "    linear_predictions = reg.predict(sfgraph['footprint'].x.cpu().numpy())[rebuilding_idx][testidx[rebuilding_idx]]\n",
    "    estimates = model(sfgraph.x_dict, sfgraph.edge_index_dict).squeeze().detach()[rebuilding_idx][testidx[rebuilding_idx]]\n",
    "    recorded = sfgraph['footprint'].y[testidx[rebuilding_idx]]\n",
    "\n",
    "    linear_loss = loss_func(torch.tensor(linear_predictions).to(device), recorded)\n",
    "    null_loss = loss_func(null_predictions, recorded)\n",
    "    graph_loss = loss_func(estimates, recorded)\n",
    "    print(\"Linear Loss:\\t{:0.2f}\".format(linear_loss))\n",
    "    print(\"Null Loss:\\t{:0.2f}\".format(null_loss))\n",
    "    print(\"Graph Loss:\\t{:0.2f}\".format(graph_loss))\n",
    "    print(\"Improvement:\\t{:0.2f}\".format(100 * (graph_loss - null_loss)/null_loss))"
   ]
  },
  {
   "cell_type": "code",
   "execution_count": null,
   "id": "1f31b39f",
   "metadata": {
    "ExecuteTime": {
     "end_time": "2023-03-08T08:17:44.505984Z",
     "start_time": "2023-03-08T08:17:44.465525Z"
    }
   },
   "outputs": [],
   "source": [
    "nullmodel.eval()\n",
    "model.eval()\n",
    "with torch.no_grad():\n",
    "    print(\"Austin Texas\")\n",
    "    testidx = (~austin_rebuild_info['training_mask']).detach().cpu().numpy()\n",
    "    rebuilding_idx = np.array(austin_rebuild_info['rebuild_idx'])\n",
    "    null_predictions = nullmodel(austingraph['footprint'].x).squeeze()[rebuilding_idx][testidx[rebuilding_idx]]\n",
    "    \n",
    "    linear_predictions = reg.predict(austingraph['footprint'].x.cpu().numpy())[rebuilding_idx][testidx[rebuilding_idx]]\n",
    "    estimates = model(austingraph.x_dict, austingraph.edge_index_dict).squeeze().detach()[rebuilding_idx][testidx[rebuilding_idx]]\n",
    "    recorded = austingraph['footprint'].y[testidx[rebuilding_idx]]\n",
    "    \n",
    "    null_loss = loss_func(null_predictions, recorded)\n",
    "    graph_loss = loss_func(estimates, recorded)\n",
    "    print(\"Linear Loss:\\t{:0.2f}\".format(linear_loss))\n",
    "    print(\"Null Loss:\\t{:0.2f}\".format(null_loss))\n",
    "    print(\"Graph Loss:\\t{:0.2f}\".format(graph_loss))\n",
    "    print(\"Improvement:\\t{:0.2f}\".format(100 * (graph_loss - null_loss)/null_loss))"
   ]
  },
  {
   "cell_type": "code",
   "execution_count": null,
   "id": "118d07a6-937d-4c98-b29a-ce3b5568747c",
   "metadata": {
    "tags": []
   },
   "outputs": [],
   "source": [
    "optim = config['custom_optimizer']\n",
    "optim(model.parameters())"
   ]
  },
  {
   "cell_type": "code",
   "execution_count": null,
   "id": "34330c87-33fd-414a-9338-e26156023ee4",
   "metadata": {
    "tags": []
   },
   "outputs": [],
   "source": [
    "### I used the below cells to evaluate how many epochs to use for the final model"
   ]
  },
  {
   "cell_type": "code",
   "execution_count": null,
   "id": "25b2bfe2-580a-4c6b-9d41-4d6ea2672097",
   "metadata": {
    "tags": []
   },
   "outputs": [],
   "source": [
    "# from src.trainer import trainer\n",
    "# from src.cv import reset_model\n",
    "\n",
    "# model.load_state_dict(default_modelstate)\n",
    "# model.train()\n",
    "\n",
    "# trainmask = nyc_rebuild_info['training_mask']\n",
    "# testmask = (~nyc_rebuild_info['training_mask'])\n",
    "\n",
    "# rebuild_idx = np.array(nyc_rebuild_info['rebuild_idx'])\n",
    "\n",
    "# nystate_dict_origin, trainlosses, testlosses = trainer(\n",
    "#     model.to(device),\n",
    "#     lambda: model(nycgraph.x_dict, nycgraph.edge_index_dict),\n",
    "#     rebuild_idx,\n",
    "#     trainmask[rebuild_idx],\n",
    "#     testmask[rebuild_idx],\n",
    "#     recorded = nycgraph['footprint'].y,\n",
    "#     loss_func = loss_func,\n",
    "#     config = config\n",
    "# )\n",
    "\n",
    "# nystate_dict = copy.deepcopy(nystate_dict_origin)"
   ]
  },
  {
   "cell_type": "code",
   "execution_count": null,
   "id": "9d599c4b-5d08-4e65-a43d-69342ddad91f",
   "metadata": {
    "tags": []
   },
   "outputs": [],
   "source": [
    "# from src.trainer import trainer\n",
    "# from src.cv import reset_model\n",
    "\n",
    "# nullmodel.load_state_dict(default_nullmodelstate)\n",
    "\n",
    "# trainmask = nyc_rebuild_info['training_mask']\n",
    "# testmask = (~nyc_rebuild_info['training_mask'])\n",
    "\n",
    "# rebuild_idx = np.array(nyc_rebuild_info['rebuild_idx'])\n",
    "\n",
    "# nystate_dict_origin, trainlosses, testlosses = trainer(\n",
    "#     nullmodel.to(device),\n",
    "#     lambda: nullmodel(nycgraph['footprint'].x),\n",
    "#     rebuild_idx,\n",
    "#     trainmask[rebuild_idx],\n",
    "#     testmask[rebuild_idx],\n",
    "#     recorded = nycgraph['footprint'].y,\n",
    "#     loss_func = loss_func,\n",
    "#     config = config\n",
    "# )\n",
    "\n",
    "# nynull_state_dict = copy.deepcopy(nystate_dict_origin)"
   ]
  },
  {
   "cell_type": "code",
   "execution_count": null,
   "id": "d0a13776-7ffb-4610-ac0b-6e1f295d3325",
   "metadata": {
    "tags": []
   },
   "outputs": [],
   "source": [
    "# plt.plot(trainlosses, label=\"training\")\n",
    "# plt.plot(testlosses, label=\"testing\")\n",
    "\n",
    "# plt.legend()\n",
    "# plt.yscale(\"log\")\n",
    "\n",
    "# plt.show()"
   ]
  },
  {
   "cell_type": "code",
   "execution_count": null,
   "id": "42b7720d-6e46-4485-8fbb-665601826acb",
   "metadata": {
    "tags": []
   },
   "outputs": [],
   "source": [
    "# this is manually set based on the above graph^\n",
    "from src.trainer import trainer\n",
    "\n",
    "config['epochs'] = 500\n",
    "\n",
    "model.load_state_dict(default_modelstate)\n",
    "\n",
    "trainmask = nyc_rebuild_info['training_mask']\n",
    "testmask = (~nyc_rebuild_info['training_mask'])\n",
    "\n",
    "trainmask = np.repeat([True], len(trainmask))\n",
    "rebuild_idx = np.array(nyc_rebuild_info['rebuild_idx'])\n",
    "\n",
    "nystate_dict_origin, trainlosses, testlosses = trainer(\n",
    "    model.to(device),\n",
    "    lambda: model(nycgraph.x_dict, nycgraph.edge_index_dict),\n",
    "    rebuild_idx,\n",
    "    trainmask[rebuild_idx],\n",
    "    testmask[rebuild_idx],\n",
    "    recorded = nycgraph['footprint'].y,\n",
    "    loss_func = loss_func,\n",
    "    config = config,\n",
    "    fulldata = True\n",
    ")\n",
    "\n",
    "nystate_dict = copy.deepcopy(nystate_dict_origin)"
   ]
  },
  {
   "cell_type": "code",
   "execution_count": null,
   "id": "bdcccb10-7d7c-4cbb-ae3d-2a059f42a3b5",
   "metadata": {
    "tags": []
   },
   "outputs": [],
   "source": [
    "nullmodel.train()\n",
    "nullmodel.load_state_dict(default_nullmodelstate)\n",
    "\n",
    "trainmask = nyc_rebuild_info['training_mask']\n",
    "testmask = (~nyc_rebuild_info['training_mask'])\n",
    "\n",
    "trainmask = np.repeat([True], len(trainmask))\n",
    "rebuild_idx = np.array(nyc_rebuild_info['rebuild_idx'])\n",
    "\n",
    "nystate_dict_origin, trainlosses, testlosses = trainer(\n",
    "    nullmodel.to(device),\n",
    "    lambda: nullmodel(nycgraph['footprint'].x),\n",
    "    rebuild_idx,\n",
    "    trainmask[rebuild_idx],\n",
    "    testmask[rebuild_idx],\n",
    "    recorded = nycgraph['footprint'].y,\n",
    "    loss_func = loss_func,\n",
    "    config = config,\n",
    "    fulldata = True\n",
    ")\n",
    "\n",
    "nystate_nulldict = copy.deepcopy(nystate_dict_origin)"
   ]
  },
  {
   "cell_type": "code",
   "execution_count": null,
   "id": "4fa153d0-6daa-4165-888e-42a016eeec7a",
   "metadata": {
    "tags": []
   },
   "outputs": [],
   "source": [
    "np.vstack((nyX, sfgraph['footprint'].x[:50].cpu().detach())).shape"
   ]
  },
  {
   "cell_type": "code",
   "execution_count": null,
   "id": "3fcb9dcc-394d-4a2c-aaea-526ca2399478",
   "metadata": {
    "tags": []
   },
   "outputs": [],
   "source": [
    "from tqdm import tqdm_notebook\n",
    "\n",
    "# now exploring how the model might generalize to SF\n",
    "sf_linearvalloss = []\n",
    "sf_valloss = []\n",
    "sf_nullvalloss = []\n",
    "\n",
    "config['epochs'] = 1000\n",
    "\n",
    "for n_true in tqdm_notebook(range(100), leave=True):\n",
    "    model.load_state_dict(nystate_dict)\n",
    "    nullmodel.load_state_dict(nystate_nulldict)\n",
    "    \n",
    "    model.train()\n",
    "    nullmodel.train()\n",
    "\n",
    "    sf_trainmask = sf_rebuild_info['training_mask']\n",
    "    sf_testmask = (~sf_rebuild_info['training_mask'])\n",
    "\n",
    "    sf_to_false = np.where(sf_trainmask.cpu().numpy())[0]\n",
    "    sf_to_false\n",
    "\n",
    "    np.random.seed(1)\n",
    "    drip_idx = np.random.choice(sf_to_false, n_true, replace=False)\n",
    "\n",
    "    # this now just drips in a bit of the sf data\n",
    "    trainmask = np.repeat([False], len(sf_trainmask))\n",
    "    trainmask[drip_idx] = True\n",
    "\n",
    "    rebuild_idx = np.array(sf_rebuild_info['rebuild_idx'])\n",
    "    \n",
    "    # shapes\n",
    "    # print(f\"trainmask shape: {trainmask.shape}\")\n",
    "    \n",
    "    ## building the linear model\n",
    "    x_linear_addition = np.vstack((nyX, sfgraph['footprint'].x[rebuild_idx][trainmask[rebuild_idx]].cpu().detach()))\n",
    "    \n",
    "    # print(f\"Y shape: {nyY.shape}.\")\n",
    "    # print(f\"trainyshape: {sfgraph['footprint'].y[trainmask[rebuild_idx]].cpu().detach().shape}\")\n",
    "    y_linear_addition = np.concatenate((nyY, sfgraph['footprint'].y[trainmask[rebuild_idx]].cpu().detach()), axis=None)\n",
    "    \n",
    "    reg = LinearRegression().fit(x_linear_addition, y_linear_addition)\n",
    "    preds = reg.predict(sfgraph['footprint'].x[rebuild_idx][testmask[rebuild_idx]].cpu().detach())\n",
    "    existing_terms = sfgraph['footprint'].y[testmask[rebuild_idx]].cpu().detach()\n",
    "    # print(f\"Predictions: {preds}\")\n",
    "    # print(f\"Existing: {existing_terms}\")\n",
    "    sf_linearvalloss.append(loss_func(torch.tensor(preds), existing_terms))\n",
    "\n",
    "    sf_state_dict, sf_trainlosses, sf_testlosses = trainer(\n",
    "        model.to(device),\n",
    "        lambda: model(sfgraph.x_dict, sfgraph.edge_index_dict),\n",
    "        rebuild_idx,\n",
    "        trainmask,\n",
    "        testmask,\n",
    "        recorded = sfgraph['footprint'].y,\n",
    "        loss_func = loss_func,\n",
    "        config = config\n",
    "    )\n",
    "    \n",
    "    _, _, sf_nulltestlosses = trainer(\n",
    "        nullmodel.to(device),\n",
    "        lambda: nullmodel(sfgraph['footprint'].x),\n",
    "        rebuild_idx,\n",
    "        trainmask,\n",
    "        testmask,\n",
    "        recorded = sfgraph['footprint'].y,\n",
    "        loss_func = loss_func,\n",
    "        config = config\n",
    "    )\n",
    "    sf_valloss.append(min(sf_testlosses))\n",
    "    sf_nullvalloss.append(min(sf_nulltestlosses))"
   ]
  },
  {
   "cell_type": "code",
   "execution_count": null,
   "id": "c9202fc8-3e20-42e5-b70f-aa817acd5397",
   "metadata": {
    "tags": []
   },
   "outputs": [],
   "source": [
    "# plt.plot(sf_trainlosses, label=\"training\")\n",
    "plt.plot(sf_linearvalloss, label=\"Linear\", color=\"coral\")\n",
    "plt.plot(sf_nullvalloss, label=\"Null\", color=\"orange\")\n",
    "plt.plot(sf_valloss, label=\"Graph\", color=\"lightblue\")\n",
    "\n",
    "plt.legend()\n",
    "plt.yscale(\"log\")\n",
    "\n",
    "plt.title(\"Generalization from New York to San Fransisco\")\n",
    "plt.xlabel(\"# Buildings from San Fransisco\")\n",
    "plt.ylabel(\"Loss - RMSE\")\n",
    "\n",
    "plt.show()"
   ]
  },
  {
   "cell_type": "code",
   "execution_count": null,
   "id": "d32fdd76-a0bb-415a-b8c9-2c882dc9193f",
   "metadata": {
    "tags": []
   },
   "outputs": [],
   "source": [
    "austingraph"
   ]
  },
  {
   "cell_type": "code",
   "execution_count": null,
   "id": "ec1eb26f-ee66-4b9c-a1ea-1f9508d74b26",
   "metadata": {
    "tags": []
   },
   "outputs": [],
   "source": [
    "from tqdm import tqdm_notebook\n",
    "\n",
    "# now exploring how the model might generalize to SF\n",
    "austin_linearvalloss = []\n",
    "austin_valloss = []\n",
    "austin_nullvalloss = []\n",
    "\n",
    "config['epochs'] = 1000\n",
    "\n",
    "for n_true in tqdm_notebook(range(10), leave=True):\n",
    "    model.load_state_dict(nystate_dict)\n",
    "    nullmodel.load_state_dict(nystate_nulldict)\n",
    "\n",
    "    austin_trainmask = austin_rebuild_info['training_mask']\n",
    "    austin_testmask = (~austin_rebuild_info['training_mask'])\n",
    "\n",
    "    austin_to_false = np.where(austin_trainmask.cpu().numpy())[0]\n",
    "    austin_to_false\n",
    "\n",
    "    np.random.seed(1)\n",
    "    drip_idx = np.random.choice(austin_to_false, n_true, replace=False)\n",
    "\n",
    "    # this now just drips in a bit of the sf data\n",
    "    trainmask = np.repeat([False], len(austin_trainmask))\n",
    "    trainmask[drip_idx] = True\n",
    "\n",
    "    rebuild_idx = np.array(austin_rebuild_info['rebuild_idx'])\n",
    "    \n",
    "    # shapes\n",
    "    # print(f\"trainmask shape: {trainmask.shape}\")\n",
    "    \n",
    "    ## building the linear model\n",
    "    x_linear_addition = np.vstack((nyX, austingraph['footprint'].x[rebuild_idx][trainmask[rebuild_idx]].cpu().detach()))\n",
    "    \n",
    "    # print(f\"Y shape: {nyY.shape}.\")\n",
    "    # print(f\"trainyshape: {sfgraph['footprint'].y[trainmask[rebuild_idx]].cpu().detach().shape}\")\n",
    "    y_linear_addition = np.concatenate((nyY, austingraph['footprint'].y[trainmask[rebuild_idx]].cpu().detach()), axis=None)\n",
    "    \n",
    "    reg = LinearRegression().fit(x_linear_addition, y_linear_addition)\n",
    "    preds = reg.predict(austingraph['footprint'].x[rebuild_idx][testmask[rebuild_idx]].cpu().detach())\n",
    "    existing_terms = austingraph['footprint'].y[testmask[rebuild_idx]].cpu().detach()\n",
    "    # print(f\"Predictions: {preds}\")\n",
    "    # print(f\"Existing: {existing_terms}\")\n",
    "    austin_linearvalloss.append(loss_func(torch.tensor(preds), existing_terms))\n",
    "\n",
    "    austin_state_dict, austin_trainlosses, austin_testlosses = trainer(\n",
    "        model.to(device),\n",
    "        lambda: model(austingraph.x_dict, austingraph.edge_index_dict),\n",
    "        rebuild_idx,\n",
    "        trainmask,\n",
    "        testmask,\n",
    "        recorded = austingraph['footprint'].y,\n",
    "        loss_func = loss_func,\n",
    "        config = config\n",
    "    )\n",
    "    \n",
    "    _, _, austin_nulltestlosses = trainer(\n",
    "        nullmodel.to(device),\n",
    "        lambda: nullmodel(austingraph['footprint'].x),\n",
    "        rebuild_idx,\n",
    "        trainmask,\n",
    "        testmask,\n",
    "        recorded = austingraph['footprint'].y,\n",
    "        loss_func = loss_func,\n",
    "        config = config\n",
    "    )\n",
    "    austin_valloss.append(min(austin_testlosses))\n",
    "    austin_nullvalloss.append(min(austin_nulltestlosses))"
   ]
  },
  {
   "cell_type": "code",
   "execution_count": null,
   "id": "04861086-f2b1-451f-8007-739ed509dc62",
   "metadata": {
    "tags": []
   },
   "outputs": [],
   "source": [
    "# plt.plot(sf_trainlosses, label=\"training\")\n",
    "plt.plot(austin_linearvalloss, label=\"Linear\", color=\"firebrick\")\n",
    "plt.plot(austin_nullvalloss, label=\"Null\", color=\"lightsalmon\")\n",
    "plt.plot(austin_valloss, label=\"Graph\", color=\"lightblue\")\n",
    "\n",
    "plt.legend()\n",
    "plt.yscale(\"log\")\n",
    "\n",
    "plt.title(\"Generalization from New York to Austin\")\n",
    "plt.xlabel(\"# Buildings from Austin\")\n",
    "plt.ylabel(\"Loss - RMSE\")\n",
    "\n",
    "plt.show()"
   ]
  },
  {
   "cell_type": "code",
   "execution_count": null,
   "id": "47e6b38d-d189-4d45-acc8-b806b0a93473",
   "metadata": {},
   "outputs": [],
   "source": [
    "# ookaaay now I want to see how the model might generalize"
   ]
  },
  {
   "cell_type": "code",
   "execution_count": null,
   "id": "aa61b2f8",
   "metadata": {
    "ExecuteTime": {
     "end_time": "2023-03-01T09:59:12.627911Z",
     "start_time": "2023-03-01T09:59:12.606659Z"
    }
   },
   "outputs": [],
   "source": [
    "# param_size = 0\n",
    "# for param in model.parameters():\n",
    "#     param_size += param.nelement() * param.element_size()\n",
    "# buffer_size = 0\n",
    "# for buffer in model.buffers():\n",
    "#     buffer_size += buffer.nelement() * buffer.element_size()\n",
    "\n",
    "# size_all_mb = (param_size + buffer_size) / 1024**2\n",
    "# print('model size: {:.3f}MB'.format(size_all_mb))"
   ]
  }
 ],
 "metadata": {
  "kernelspec": {
   "display_name": "Python 3 (ipykernel)",
   "language": "python",
   "name": "python3"
  },
  "language_info": {
   "codemirror_mode": {
    "name": "ipython",
    "version": 3
   },
   "file_extension": ".py",
   "mimetype": "text/x-python",
   "name": "python",
   "nbconvert_exporter": "python",
   "pygments_lexer": "ipython3",
   "version": "3.9.15"
  }
 },
 "nbformat": 4,
 "nbformat_minor": 5
}
