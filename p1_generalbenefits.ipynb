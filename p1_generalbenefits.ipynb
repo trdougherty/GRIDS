{
 "cells": [
  {
   "cell_type": "code",
   "execution_count": 1,
   "id": "905caefe",
   "metadata": {},
   "outputs": [],
   "source": [
    "import torch\n",
    "import os\n",
    "import sys\n",
    "import copy"
   ]
  },
  {
   "cell_type": "code",
   "execution_count": 2,
   "id": "a150977f",
   "metadata": {},
   "outputs": [],
   "source": [
    "import matplotlib.pyplot as plt"
   ]
  },
  {
   "cell_type": "code",
   "execution_count": 3,
   "id": "f69f2a74",
   "metadata": {},
   "outputs": [],
   "source": [
    "import numpy as np"
   ]
  },
  {
   "cell_type": "code",
   "execution_count": 4,
   "id": "7db8004a",
   "metadata": {},
   "outputs": [],
   "source": [
    "import wandb"
   ]
  },
  {
   "cell_type": "code",
   "execution_count": 5,
   "id": "4aca8889",
   "metadata": {},
   "outputs": [],
   "source": [
    "epochs = 5"
   ]
  },
  {
   "cell_type": "code",
   "execution_count": 6,
   "id": "ed5edab2",
   "metadata": {},
   "outputs": [],
   "source": [
    "# # start a new wandb run to track this script\n",
    "# wandb.init(\n",
    "#     # set the wandb project where this run will be logged\n",
    "#     project=\"dbr\",\n",
    "    \n",
    "#     # track hyperparameters and run metadata\n",
    "#     config={\n",
    "#         \"learning_rate\": 0.02,\n",
    "#         \"architecture\": \"GAT\",\n",
    "#         \"dataset\": \"CIFAR-100\",\n",
    "#         \"epochs\": 10,\n",
    "#     }\n",
    "# )"
   ]
  },
  {
   "cell_type": "code",
   "execution_count": 7,
   "id": "6724290c",
   "metadata": {},
   "outputs": [],
   "source": [
    "device = \"cuda:0\""
   ]
  },
  {
   "cell_type": "code",
   "execution_count": 8,
   "id": "6f596c4a",
   "metadata": {},
   "outputs": [],
   "source": [
    "%load_ext autoreload\n",
    "%autoreload 2"
   ]
  },
  {
   "cell_type": "code",
   "execution_count": 9,
   "id": "328e33bb",
   "metadata": {},
   "outputs": [],
   "source": [
    "module_path = os.path.abspath(os.path.join('..'))\n",
    "if module_path not in sys.path:\n",
    "    sys.path.append(module_path)"
   ]
  },
  {
   "cell_type": "code",
   "execution_count": 10,
   "id": "33253044",
   "metadata": {},
   "outputs": [
    {
     "data": {
      "text/plain": [
       "'/home/thomas/Work/Research/uil/dbr'"
      ]
     },
     "execution_count": 10,
     "metadata": {},
     "output_type": "execute_result"
    }
   ],
   "source": [
    "os.getcwd()"
   ]
  },
  {
   "cell_type": "code",
   "execution_count": 11,
   "id": "ba494e60",
   "metadata": {},
   "outputs": [],
   "source": [
    "from src.graph_construction import graph\n",
    "nycgraph, rebuild_info = graph(\n",
    "    \"new-york\",\n",
    "    neighbor_radius=10,\n",
    "    building_buffer=30,\n",
    "    test_percent=15\n",
    ")"
   ]
  },
  {
   "cell_type": "code",
   "execution_count": 12,
   "id": "92635b28",
   "metadata": {},
   "outputs": [
    {
     "data": {
      "text/plain": [
       "dict_keys(['rebuild_idx', 'recorded', 'node_data', 'footprints', 'complete_footprints', 'training_mask', 'simple_ids'])"
      ]
     },
     "execution_count": 12,
     "metadata": {},
     "output_type": "execute_result"
    }
   ],
   "source": [
    "rebuild_info.keys()"
   ]
  },
  {
   "cell_type": "code",
   "execution_count": 13,
   "id": "7e14b067",
   "metadata": {},
   "outputs": [],
   "source": [
    "training_ids = np.array(rebuild_info[\"simple_ids\"])[rebuild_info[\"training_mask\"].cpu()]"
   ]
  },
  {
   "cell_type": "code",
   "execution_count": 14,
   "id": "bda671af",
   "metadata": {},
   "outputs": [],
   "source": [
    "true_idx = np.where(rebuild_info['training_mask'].cpu().numpy())[0]"
   ]
  },
  {
   "cell_type": "code",
   "execution_count": 15,
   "id": "d2119c55",
   "metadata": {},
   "outputs": [],
   "source": [
    "validation_batches = []\n",
    "\n",
    "np.random.seed(0)\n",
    "for i in range(100):\n",
    "    validation_batches.append(\n",
    "        np.random.choice(true_idx, 100, replace=False)\n",
    "    )"
   ]
  },
  {
   "cell_type": "code",
   "execution_count": 16,
   "id": "f3cc9612",
   "metadata": {},
   "outputs": [],
   "source": [
    "# now I want to build training and validation masks\n",
    "cv_masks = []\n",
    "true_base = rebuild_info['training_mask'].cpu().numpy()\n",
    "\n",
    "for validation_idx in validation_batches:\n",
    "    training_mask = copy.deepcopy(true_base)\n",
    "    training_mask[validation_idx] = False\n",
    "    \n",
    "    validation_mask = np.repeat([False], len(true_base))\n",
    "    validation_mask[validation_idx] = True\n",
    "    \n",
    "#     training_mask = []\n",
    "#     validation_mask = []\n",
    "    \n",
    "#     for building_id in rebuild_info[\"simple_ids\"]:\n",
    "#         if (building_id in training_ids and building_id in cvbatch):\n",
    "#             training_mask.append(False)\n",
    "#             validation_mask.append(True)\n",
    "#         elif (building_id in training_ids and building_id not in cvbatch):\n",
    "#             training_mask.append(True)\n",
    "#             validation_mask.append(False)\n",
    "#         else:\n",
    "#             training_mask.append(False)\n",
    "#             validation_mask.append(False)\n",
    "            \n",
    "    cv_masks.append(\n",
    "        (training_mask, validation_mask)\n",
    "    )"
   ]
  },
  {
   "cell_type": "code",
   "execution_count": 17,
   "id": "c2c677ce",
   "metadata": {},
   "outputs": [
    {
     "data": {
      "text/plain": [
       "100"
      ]
     },
     "execution_count": 17,
     "metadata": {},
     "output_type": "execute_result"
    }
   ],
   "source": [
    "cv_masks[0][1].sum()"
   ]
  },
  {
   "cell_type": "code",
   "execution_count": 18,
   "id": "dcdd0e4c",
   "metadata": {},
   "outputs": [],
   "source": [
    "sample_train, sample_val = cv_masks[0]"
   ]
  },
  {
   "cell_type": "code",
   "execution_count": 19,
   "id": "b0cc60aa",
   "metadata": {},
   "outputs": [
    {
     "data": {
      "text/plain": [
       "100"
      ]
     },
     "execution_count": 19,
     "metadata": {},
     "output_type": "execute_result"
    }
   ],
   "source": [
    "sample_val.sum()"
   ]
  },
  {
   "cell_type": "code",
   "execution_count": 20,
   "id": "a10fa62f",
   "metadata": {},
   "outputs": [
    {
     "data": {
      "text/plain": [
       "(18106,)"
      ]
     },
     "execution_count": 20,
     "metadata": {},
     "output_type": "execute_result"
    }
   ],
   "source": [
    "training_ids.shape"
   ]
  },
  {
   "cell_type": "code",
   "execution_count": 21,
   "id": "6e7f1512",
   "metadata": {},
   "outputs": [
    {
     "data": {
      "text/plain": [
       "tensor([ True,  True,  True,  ...,  True, False,  True], device='cuda:0')"
      ]
     },
     "execution_count": 21,
     "metadata": {},
     "output_type": "execute_result"
    }
   ],
   "source": [
    "rebuild_info[\"training_mask\"]"
   ]
  },
  {
   "cell_type": "code",
   "execution_count": 22,
   "id": "958c9009",
   "metadata": {},
   "outputs": [
    {
     "data": {
      "text/plain": [
       "tensor(18106, device='cuda:0')"
      ]
     },
     "execution_count": 22,
     "metadata": {},
     "output_type": "execute_result"
    }
   ],
   "source": [
    "rebuild_info[\"training_mask\"].sum()"
   ]
  },
  {
   "cell_type": "code",
   "execution_count": 23,
   "id": "09c4b226",
   "metadata": {},
   "outputs": [
    {
     "data": {
      "text/plain": [
       "dict_keys(['rebuild_idx', 'recorded', 'node_data', 'footprints', 'complete_footprints', 'training_mask', 'simple_ids'])"
      ]
     },
     "execution_count": 23,
     "metadata": {},
     "output_type": "execute_result"
    }
   ],
   "source": [
    "rebuild_info.keys()"
   ]
  },
  {
   "cell_type": "code",
   "execution_count": 24,
   "id": "bc8f47f6",
   "metadata": {},
   "outputs": [
    {
     "data": {
      "text/plain": [
       "tensor([    0,     0,     0,  ..., 21298, 21298, 21299], device='cuda:0')"
      ]
     },
     "execution_count": 24,
     "metadata": {},
     "output_type": "execute_result"
    }
   ],
   "source": [
    "rebuild_info['rebuild_idx']"
   ]
  },
  {
   "cell_type": "code",
   "execution_count": 25,
   "id": "42cc8076",
   "metadata": {},
   "outputs": [
    {
     "data": {
      "text/plain": [
       "torch.Size([45941])"
      ]
     },
     "execution_count": 25,
     "metadata": {},
     "output_type": "execute_result"
    }
   ],
   "source": [
    "rebuild_info['recorded'].shape"
   ]
  },
  {
   "cell_type": "code",
   "execution_count": 26,
   "id": "7d338ca8",
   "metadata": {},
   "outputs": [],
   "source": [
    "data = nycgraph"
   ]
  },
  {
   "cell_type": "code",
   "execution_count": 27,
   "id": "c9a41cba",
   "metadata": {},
   "outputs": [
    {
     "data": {
      "text/plain": [
       "tensor([ 7.6797,  6.8100, 13.9315,  ...,  6.9140,  7.8968,  6.2182],\n",
       "       device='cuda:0')"
      ]
     },
     "execution_count": 27,
     "metadata": {},
     "output_type": "execute_result"
    }
   ],
   "source": [
    "nycgraph['footprint'].y"
   ]
  },
  {
   "cell_type": "code",
   "execution_count": 28,
   "id": "f3addaf7",
   "metadata": {},
   "outputs": [
    {
     "data": {
      "text/plain": [
       "torch.Size([52298, 6])"
      ]
     },
     "execution_count": 28,
     "metadata": {},
     "output_type": "execute_result"
    }
   ],
   "source": [
    "nycgraph['pano'].x.shape"
   ]
  },
  {
   "cell_type": "code",
   "execution_count": 29,
   "id": "67fc2ce6",
   "metadata": {},
   "outputs": [
    {
     "data": {
      "text/plain": [
       "tensor(18106, device='cuda:0')"
      ]
     },
     "execution_count": 29,
     "metadata": {},
     "output_type": "execute_result"
    }
   ],
   "source": [
    "nycgraph['footprint'].train_mask.sum()"
   ]
  },
  {
   "cell_type": "code",
   "execution_count": 30,
   "id": "d149b7a2",
   "metadata": {},
   "outputs": [
    {
     "data": {
      "text/plain": [
       "6"
      ]
     },
     "execution_count": 30,
     "metadata": {},
     "output_type": "execute_result"
    }
   ],
   "source": [
    "nycgraph['footprint'].x.shape[1]"
   ]
  },
  {
   "cell_type": "code",
   "execution_count": 31,
   "id": "e90a5b7b",
   "metadata": {},
   "outputs": [],
   "source": [
    "from src.model import NullModel\n",
    "\n",
    "input_shape = nycgraph['footprint'].x.shape[1]\n",
    "nullmodel = NullModel(layers=2, input_channels = input_shape).to(device)"
   ]
  },
  {
   "cell_type": "code",
   "execution_count": 84,
   "id": "c6943fc9",
   "metadata": {},
   "outputs": [],
   "source": [
    "def reset_model(model):\n",
    "    for layer in model.children():\n",
    "       if hasattr(layer, 'reset_parameters'):\n",
    "           layer.reset_parameters()\n",
    "    return model"
   ]
  },
  {
   "cell_type": "code",
   "execution_count": 85,
   "id": "92a65894",
   "metadata": {},
   "outputs": [],
   "source": [
    "epochs = 500\n",
    "loss_func = torch.nn.MSELoss()\n",
    "\n",
    "rebuilding_idx = rebuild_info['rebuild_idx'].cpu().numpy()"
   ]
  },
  {
   "cell_type": "code",
   "execution_count": 86,
   "id": "97a4377d",
   "metadata": {},
   "outputs": [
    {
     "data": {
      "text/plain": [
       "torch.Size([21300, 6])"
      ]
     },
     "execution_count": 86,
     "metadata": {},
     "output_type": "execute_result"
    }
   ],
   "source": [
    "data['footprint'].x.shape"
   ]
  },
  {
   "cell_type": "code",
   "execution_count": 37,
   "id": "6f4c557d",
   "metadata": {},
   "outputs": [
    {
     "data": {
      "text/plain": [
       "torch.Size([21300, 1])"
      ]
     },
     "execution_count": 37,
     "metadata": {},
     "output_type": "execute_result"
    }
   ],
   "source": [
    "nullmodel(data['footprint'].x).shape"
   ]
  },
  {
   "cell_type": "code",
   "execution_count": 42,
   "id": "ef75bcab",
   "metadata": {},
   "outputs": [],
   "source": [
    "# null learning system\n",
    "null_training_losses = []\n",
    "null_validation_losses = []\n",
    "\n",
    "null_optimizer = torch.optim.Adam(nullmodel.parameters())\n",
    "\n",
    "for c,masks in enumerate(cv_masks):\n",
    "    nullmodel = reset_model(nullmodel)\n",
    "#     print(f\"Training fold: {c}\")\n",
    "    train_mask, val_mask = masks\n",
    "    \n",
    "    trainmask_ex = train_mask[rebuilding_idx]\n",
    "    valmask_ex = val_mask[rebuilding_idx]\n",
    "    \n",
    "    np.random.seed(1)\n",
    "#     print(f\"Training idx sample: {np.random.choice(train_mask, 100).sum()}\")\n",
    "    fold_trainingloss = []\n",
    "    fold_validationloss = []\n",
    "    \n",
    "    for epoch in range(epochs):\n",
    "        loss = 0\n",
    "        validation_loss = 0\n",
    "        \n",
    "        null_optimizer.zero_grad()\n",
    "        out = nullmodel(data['footprint'].x)\n",
    "        out_ex = out.squeeze()[rebuilding_idx]\n",
    "\n",
    "        training_predictions = out_ex[trainmask_ex].to(torch.float)\n",
    "        training_values = rebuild_info['recorded'][trainmask_ex].to(torch.float)\n",
    "\n",
    "        validation_predictions = out_ex[valmask_ex].to(torch.float)      \n",
    "        validation_values = rebuild_info['recorded'][valmask_ex].to(torch.float)\n",
    "\n",
    "        loss = loss_func(\n",
    "            training_predictions,\n",
    "            training_values\n",
    "        ).to(torch.float)\n",
    "                \n",
    "        fold_trainingloss.append(loss.detach().cpu().numpy())\n",
    "\n",
    "#         if epoch % 50 == 0:\n",
    "#             print(f\"Loss at step: {epoch} is {loss}\")\n",
    "        with torch.no_grad():\n",
    "            validation_loss = loss_func(\n",
    "                validation_predictions,\n",
    "                validation_values\n",
    "            ).detach().cpu().numpy()\n",
    "            fold_validationloss.append(validation_loss)\n",
    "        \n",
    "        loss.backward()\n",
    "        null_optimizer.step()\n",
    "            \n",
    "#     print(f\"Rebuild shape: {rebuilding_idx.shape}\")\n",
    "#     print(f\"Training shape: {trainmask_ex.shape}\")\n",
    "#     print(f\"Output shape: {out_ex.shape}\")\n",
    "#     print(validation_predictions.shape)\n",
    "        \n",
    "    null_training_losses.append(fold_trainingloss)\n",
    "    null_validation_losses.append(fold_validationloss)\n",
    "    \n",
    "null_training_tensor = np.array(null_training_losses)\n",
    "null_validation_tensor = np.array(null_validation_losses)"
   ]
  },
  {
   "cell_type": "code",
   "execution_count": 43,
   "id": "1cca3110",
   "metadata": {},
   "outputs": [
    {
     "data": {
      "text/plain": [
       "(100, 500)"
      ]
     },
     "execution_count": 43,
     "metadata": {},
     "output_type": "execute_result"
    }
   ],
   "source": [
    "np.array(null_training_losses).shape"
   ]
  },
  {
   "cell_type": "code",
   "execution_count": 45,
   "id": "e201f88b",
   "metadata": {},
   "outputs": [
    {
     "data": {
      "text/plain": [
       "tensor(7.5302, device='cuda:0', dtype=torch.float64)"
      ]
     },
     "execution_count": 45,
     "metadata": {},
     "output_type": "execute_result"
    }
   ],
   "source": [
    "rebuild_info['recorded'][trainmask_ex].mean()"
   ]
  },
  {
   "cell_type": "code",
   "execution_count": 46,
   "id": "79942109",
   "metadata": {},
   "outputs": [
    {
     "data": {
      "text/plain": [
       "tensor(7.7837, device='cuda:0', dtype=torch.float64)"
      ]
     },
     "execution_count": 46,
     "metadata": {},
     "output_type": "execute_result"
    }
   ],
   "source": [
    "rebuild_info['recorded'][valmask_ex].mean()"
   ]
  },
  {
   "cell_type": "code",
   "execution_count": 55,
   "id": "ff1731c8",
   "metadata": {},
   "outputs": [
    {
     "data": {
      "image/png": "[encoded data removed]",
      "text/plain": [
       "<Figure size 640x480 with 1 Axes>"
      ]
     },
     "metadata": {},
     "output_type": "display_data"
    }
   ],
   "source": [
    "plt.plot(null_training_tensor.mean(axis=0), label=\"Null Training\")\n",
    "plt.plot(null_validation_tensor.mean(axis=0), label=\"Null Validation\")\n",
    "plt.legend()\n",
    "\n",
    "plt.yscale(\"log\")\n",
    "plt.show()"
   ]
  },
  {
   "cell_type": "code",
   "execution_count": 127,
   "id": "e412cbea",
   "metadata": {},
   "outputs": [
    {
     "data": {
      "text/plain": [
       "CustomGAT(\n",
       "  (convs): ModuleList(\n",
       "    (0): GATConv((-1, -1), 32, heads=5)\n",
       "    (1): GATConv((-1, -1), 32, heads=5)\n",
       "    (2): GATConv((-1, -1), 32, heads=5)\n",
       "    (3): GATConv((-1, -1), 32, heads=5)\n",
       "  )\n",
       "  (lins): ModuleList(\n",
       "    (0): Linear(-1, 160, bias=True)\n",
       "    (1): Linear(-1, 160, bias=True)\n",
       "    (2): Linear(-1, 160, bias=True)\n",
       "    (3): Linear(-1, 160, bias=True)\n",
       "  )\n",
       "  (conv_translate): HeteroConv(num_relations=1)\n",
       "  (mlp): Sequential(\n",
       "    (0): BatchNorm1d(160, eps=1e-05, momentum=0.1, affine=True, track_running_stats=True)\n",
       "    (1): ReLU()\n",
       "    (2): Linear(in_features=160, out_features=8, bias=True)\n",
       "    (3): BatchNorm1d(8, eps=1e-05, momentum=0.1, affine=True, track_running_stats=True)\n",
       "    (4): ReLU()\n",
       "    (5): Linear(in_features=8, out_features=8, bias=True)\n",
       "    (6): BatchNorm1d(8, eps=1e-05, momentum=0.1, affine=True, track_running_stats=True)\n",
       "    (7): ReLU()\n",
       "    (8): Linear(in_features=8, out_features=1, bias=True)\n",
       "  )\n",
       ")"
      ]
     },
     "execution_count": 127,
     "metadata": {},
     "output_type": "execute_result"
    }
   ],
   "source": [
    "from src.model import CustomGAT\n",
    "\n",
    "model = CustomGAT(\n",
    "    hidden_channels=32, \n",
    "    out_channels=32,\n",
    "    layers=4,\n",
    "    heads=5\n",
    ").to(device)\n",
    "\n",
    "model"
   ]
  },
  {
   "cell_type": "code",
   "execution_count": 128,
   "id": "c9731e72",
   "metadata": {},
   "outputs": [],
   "source": [
    "# graph learning system\n",
    "training_losses = []\n",
    "validation_losses = []\n",
    "\n",
    "optimizer = torch.optim.Adam(model.parameters())\n",
    "\n",
    "for c,masks in enumerate(cv_masks):\n",
    "    model = reset_model(model)\n",
    "#     print(f\"Training fold: {c}\")\n",
    "    train_mask, val_mask = masks\n",
    "    \n",
    "    trainmask_ex = train_mask[rebuilding_idx]\n",
    "    valmask_ex = val_mask[rebuilding_idx]\n",
    "    \n",
    "    np.random.seed(1)\n",
    "#     print(f\"Training idx sample: {np.random.choice(train_mask, 100).sum()}\")\n",
    "    fold_trainingloss = []\n",
    "    fold_validationloss = []\n",
    "    \n",
    "    for epoch in range(epochs):\n",
    "        loss = 0\n",
    "        validation_loss = 0\n",
    "        \n",
    "        optimizer.zero_grad()\n",
    "        out = model(data.x_dict, data.edge_index_dict)\n",
    "        out_ex = out.squeeze()[rebuilding_idx]\n",
    "\n",
    "        training_predictions = out_ex[trainmask_ex].to(torch.float)\n",
    "        training_values = rebuild_info['recorded'][trainmask_ex].to(torch.float)\n",
    "\n",
    "        validation_predictions = out_ex[valmask_ex].to(torch.float)      \n",
    "        validation_values = rebuild_info['recorded'][valmask_ex].to(torch.float)\n",
    "\n",
    "        loss = loss_func(\n",
    "            training_predictions,\n",
    "            training_values\n",
    "        ).to(torch.float)\n",
    "                \n",
    "        fold_trainingloss.append(loss.detach().cpu().numpy())\n",
    "\n",
    "#         if epoch % 200 == 0:\n",
    "#             print(f\"Loss at step: {epoch} is {loss}\")\n",
    "        with torch.no_grad():\n",
    "            validation_loss = loss_func(\n",
    "                validation_predictions,\n",
    "                validation_values\n",
    "            ).to(torch.float)\n",
    "            fold_validationloss.append(validation_loss.detach().cpu().numpy())\n",
    "        \n",
    "        loss.backward()\n",
    "        optimizer.step()\n",
    "            \n",
    "#     print(f\"Rebuild shape: {rebuilding_idx.shape}\")\n",
    "#     print(f\"Training shape: {trainmask_ex.shape}\")\n",
    "#     print(f\"Output shape: {out_ex.shape}\")\n",
    "#     print(validation_predictions.shape)\n",
    "        \n",
    "    training_losses.append(fold_trainingloss)\n",
    "    validation_losses.append(fold_validationloss)\n",
    "    \n",
    "graph_training_loss = np.array(training_losses)\n",
    "graph_validation_loss = np.array(validation_losses)"
   ]
  },
  {
   "cell_type": "code",
   "execution_count": 129,
   "id": "59c140e2",
   "metadata": {},
   "outputs": [],
   "source": [
    "mean_tl = graph_training_loss.mean(axis=0)\n",
    "std_tl = graph_training_loss.std(axis=0)\n",
    "\n",
    "mean_vl = graph_validation_loss.mean(axis=0)\n",
    "std_vl = graph_validation_loss.std(axis=0)\n",
    "\n",
    "null_mean_vl = null_training_tensor.mean(axis=0)\n",
    "null_mean_tl = null_validation_tensor.mean(axis=0)\n",
    "\n",
    "domain = np.arange(0, len(mean_tl))"
   ]
  },
  {
   "cell_type": "code",
   "execution_count": 132,
   "id": "f08abd18",
   "metadata": {},
   "outputs": [
    {
     "data": {
      "text/plain": [
       "1"
      ]
     },
     "execution_count": 132,
     "metadata": {},
     "output_type": "execute_result"
    }
   ],
   "source": [
    "10**0"
   ]
  },
  {
   "cell_type": "code",
   "execution_count": 133,
   "id": "4541fb86",
   "metadata": {},
   "outputs": [
    {
     "data": {
      "image/png": "[encoded data removed]",
      "text/plain": [
       "<Figure size 640x480 with 1 Axes>"
      ]
     },
     "metadata": {},
     "output_type": "display_data"
    }
   ],
   "source": [
    "# plt.plot(domain, mean_tl, label=\"Train\")\n",
    "# # plt.fill_between(domain, mean_tl + std_tl, mean_tl - std_tl, alpha=0.1)\n",
    "\n",
    "# plt.plot(domain, mean_vl, label=\"Validation\")\n",
    "# plt.fill_between(domain, mean_vl + std_vl, mean_vl - std_vl, alpha=0.1)\n",
    "\n",
    "plt.plot(domain, null_mean_tl, label=\"Null Training\")\n",
    "plt.plot(domain, null_mean_vl, label=\"Null Validation\")\n",
    "\n",
    "plt.title(\"Loss Function with Training\")\n",
    "\n",
    "plt.xlabel(\"Epoch\")\n",
    "plt.ylabel(\"Training Loss - ln(MSE)\")\n",
    "\n",
    "plt.yscale(\"log\")\n",
    "plt.legend()\n",
    "plt.show()"
   ]
  },
  {
   "cell_type": "code",
   "execution_count": null,
   "id": "ac1dfe55",
   "metadata": {},
   "outputs": [],
   "source": [
    "# plt.plot(domain, mean_tl, label=\"Train\")\n",
    "# plt.fill_between(domain, mean_tl + std_tl, mean_tl - std_tl, alpha=0.1)\n",
    "\n",
    "plt.plot(domain, mean_vl, label=\"Validation\")\n",
    "# plt.fill_between(domain, mean_vl + std_vl, mean_vl - std_vl, alpha=0.1)\n",
    "\n",
    "plt.plot(domain, null_mean_vl, label=\"Null Validation\")\n",
    "# plt.plot(domain, null_mean_tl, label=\"Null Training\")\n",
    "\n",
    "plt.title(\"Loss Function with Training\")\n",
    "\n",
    "plt.xlabel(\"Epoch\")\n",
    "plt.ylabel(\"Training Loss - MSE\")\n",
    "plt.legend()\n",
    "plt.show()"
   ]
  },
  {
   "cell_type": "code",
   "execution_count": null,
   "id": "aa61b2f8",
   "metadata": {},
   "outputs": [],
   "source": [
    "# param_size = 0\n",
    "# for param in model.parameters():\n",
    "#     param_size += param.nelement() * param.element_size()\n",
    "# buffer_size = 0\n",
    "# for buffer in model.buffers():\n",
    "#     buffer_size += buffer.nelement() * buffer.element_size()\n",
    "\n",
    "# size_all_mb = (param_size + buffer_size) / 1024**2\n",
    "# print('model size: {:.3f}MB'.format(size_all_mb))"
   ]
  },
  {
   "cell_type": "code",
   "execution_count": null,
   "id": "03d6741e",
   "metadata": {},
   "outputs": [],
   "source": [
    "nycgraph.x_dict['footprint'].shape"
   ]
  },
  {
   "cell_type": "code",
   "execution_count": null,
   "id": "54484dd4",
   "metadata": {},
   "outputs": [],
   "source": [
    "output[rebuild_info['rebuild_idx']].flatten().shape"
   ]
  },
  {
   "cell_type": "code",
   "execution_count": null,
   "id": "8ff268c4",
   "metadata": {},
   "outputs": [],
   "source": [
    "rebuild_info['recorded'].shape"
   ]
  },
  {
   "cell_type": "code",
   "execution_count": null,
   "id": "d4bb4568",
   "metadata": {},
   "outputs": [],
   "source": [
    "output[]"
   ]
  }
 ],
 "metadata": {
  "kernelspec": {
   "display_name": "Python 3 (ipykernel)",
   "language": "python",
   "name": "python3"
  },
  "language_info": {
   "codemirror_mode": {
    "name": "ipython",
    "version": 3
   },
   "file_extension": ".py",
   "mimetype": "text/x-python",
   "name": "python",
   "nbconvert_exporter": "python",
   "pygments_lexer": "ipython3",
   "version": "3.9.15"
  }
 },
 "nbformat": 4,
 "nbformat_minor": 5
}
