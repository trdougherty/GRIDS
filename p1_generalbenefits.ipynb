{
 "cells": [
  {
   "cell_type": "code",
   "execution_count": 1,
   "id": "905caefe",
   "metadata": {
    "ExecuteTime": {
     "end_time": "2023-03-08T23:14:45.468389Z",
     "start_time": "2023-03-08T23:14:44.947128Z"
    },
    "tags": []
   },
   "outputs": [],
   "source": [
    "import torch\n",
    "import os\n",
    "import sys\n",
    "import copy"
   ]
  },
  {
   "cell_type": "code",
   "execution_count": 2,
   "id": "620871fc-9d33-4b9f-9a3f-1b0ff669aaa8",
   "metadata": {
    "tags": []
   },
   "outputs": [],
   "source": [
    "import pandas as pd"
   ]
  },
  {
   "cell_type": "code",
   "execution_count": 3,
   "id": "c607ccc8-3da9-4dbd-a498-c4c7431d41dc",
   "metadata": {
    "tags": []
   },
   "outputs": [],
   "source": [
    "from sklearn.model_selection import train_test_split"
   ]
  },
  {
   "cell_type": "code",
   "execution_count": 4,
   "id": "a150977f",
   "metadata": {
    "ExecuteTime": {
     "end_time": "2023-03-08T23:14:45.618731Z",
     "start_time": "2023-03-08T23:14:45.469512Z"
    },
    "tags": []
   },
   "outputs": [],
   "source": [
    "import matplotlib.pyplot as plt"
   ]
  },
  {
   "cell_type": "code",
   "execution_count": 5,
   "id": "f69f2a74",
   "metadata": {
    "ExecuteTime": {
     "end_time": "2023-03-08T23:14:45.692595Z",
     "start_time": "2023-03-08T23:14:45.619661Z"
    },
    "tags": []
   },
   "outputs": [],
   "source": [
    "import numpy as np\n",
    "import networkx as nx"
   ]
  },
  {
   "cell_type": "code",
   "execution_count": 6,
   "id": "c11cfc3f-c7cc-4fd5-bc1d-cd3210fc67bf",
   "metadata": {
    "tags": []
   },
   "outputs": [],
   "source": [
    "from torch_scatter import scatter_max, scatter_mean, scatter_min\n",
    "from functools import lru_cache\n",
    "from sklearn.model_selection import StratifiedKFold"
   ]
  },
  {
   "cell_type": "code",
   "execution_count": 7,
   "id": "7db8004a",
   "metadata": {
    "ExecuteTime": {
     "end_time": "2023-03-08T23:14:45.938222Z",
     "start_time": "2023-03-08T23:14:45.693943Z"
    },
    "tags": []
   },
   "outputs": [],
   "source": [
    "import wandb"
   ]
  },
  {
   "cell_type": "code",
   "execution_count": 8,
   "id": "6724290c",
   "metadata": {
    "ExecuteTime": {
     "end_time": "2023-03-08T23:14:45.941297Z",
     "start_time": "2023-03-08T23:14:45.939535Z"
    },
    "tags": []
   },
   "outputs": [],
   "source": [
    "device = \"cuda:0\""
   ]
  },
  {
   "cell_type": "code",
   "execution_count": 9,
   "id": "6f596c4a",
   "metadata": {
    "ExecuteTime": {
     "end_time": "2023-03-08T23:14:45.972023Z",
     "start_time": "2023-03-08T23:14:45.942486Z"
    },
    "tags": []
   },
   "outputs": [],
   "source": [
    "%load_ext autoreload\n",
    "%autoreload 2"
   ]
  },
  {
   "cell_type": "code",
   "execution_count": 10,
   "id": "328e33bb",
   "metadata": {
    "ExecuteTime": {
     "end_time": "2023-03-08T23:14:45.981665Z",
     "start_time": "2023-03-08T23:14:45.972991Z"
    },
    "tags": []
   },
   "outputs": [],
   "source": [
    "module_path = os.path.abspath(os.path.join('..'))\n",
    "if module_path not in sys.path:\n",
    "    sys.path.append(module_path)"
   ]
  },
  {
   "cell_type": "code",
   "execution_count": 11,
   "id": "706163e7-42df-4464-8a07-686d4bfb3faa",
   "metadata": {
    "tags": []
   },
   "outputs": [],
   "source": [
    "results_dir = os.path.join('results','e7')\n",
    "os.makedirs(results_dir, exist_ok=True)"
   ]
  },
  {
   "cell_type": "code",
   "execution_count": 12,
   "id": "33253044",
   "metadata": {
    "ExecuteTime": {
     "end_time": "2023-03-08T23:14:46.038388Z",
     "start_time": "2023-03-08T23:14:46.027026Z"
    },
    "tags": []
   },
   "outputs": [],
   "source": [
    "from src.cv import crossvalidation, build_masks\n",
    "from src.trainer import trainer\n",
    "from src.cv import reset_model"
   ]
  },
  {
   "cell_type": "code",
   "execution_count": 13,
   "id": "f828af74",
   "metadata": {
    "ExecuteTime": {
     "end_time": "2023-03-08T23:21:17.286959Z",
     "start_time": "2023-03-08T23:21:17.257284Z"
    },
    "tags": []
   },
   "outputs": [],
   "source": [
    "import torch_geometric.transforms as T\n",
    "transform = T.Compose([T.ToUndirected(), T.AddSelfLoops()])"
   ]
  },
  {
   "cell_type": "code",
   "execution_count": 14,
   "id": "c280f584-f9ff-4274-844e-97c65611b0f0",
   "metadata": {
    "tags": []
   },
   "outputs": [],
   "source": [
    "config = {\n",
    "    \"custom_optimizer\": torch.optim.Adam,\n",
    "    \"lr\" : 0.01,\n",
    "    'epochs': 3000,\n",
    "    'linear_layers': 2,\n",
    "    'hidden_channels': 8,\n",
    "    'dropout': 0.5,\n",
    "    'test-percent': 30,\n",
    "    'building_buffer': 20,\n",
    "    'neighbor_radius': 100,\n",
    "    'n_cv': 3,\n",
    "    'cv_size': 600\n",
    "}"
   ]
  },
  {
   "cell_type": "code",
   "execution_count": 15,
   "id": "c9bef3fd-c836-4e2d-b3f1-ef60f7c9b47a",
   "metadata": {
    "tags": []
   },
   "outputs": [],
   "source": [
    "f = open(os.path.join(results_dir, 'config_settings.txt'), \"w\")\n",
    "f.write(str(\"Config:\\n\"))\n",
    "f.write(str(config))\n",
    "f.close()"
   ]
  },
  {
   "cell_type": "code",
   "execution_count": 16,
   "id": "195410a7-cb7b-472c-b6d7-7538141795f9",
   "metadata": {
    "tags": []
   },
   "outputs": [],
   "source": [
    "def pool_adjacency(graph, graph_auxillary):\n",
    "    \"\"\"Pools environmental features from the region for their use with regression\"\"\"\n",
    "    # energy = scatter_mean(graph['footprint'].y, torch.tensor(graph_auxillary['rebuild_idx']).to(device))\n",
    "    energy = graph['footprint'].y\n",
    "    links = graph['footprint','contains','pano']['edge_index']\n",
    "    features = scatter_mean(graph['pano'].x[links[1]], links[0], dim=0).detach().cpu().numpy()\n",
    "    features_max = scatter_max(graph['pano'].x[links[1]], links[0], dim=0)[0].detach().cpu().numpy()\n",
    "    features_min = scatter_min(graph['pano'].x[links[1]], links[0], dim=0)[0].detach().cpu().numpy()\n",
    "    \n",
    "    featurenames = graph_auxillary['node_data'].columns\n",
    "    featuremin = featurenames + '_min'\n",
    "    featuremax = featurenames + '_max'\n",
    "    \n",
    "    featuresdf = pd.DataFrame(graph['pano'].x.detach().cpu().numpy(), columns = featurenames)\n",
    "    featuresdfmax = pd.DataFrame(features_max, columns = featuremax)\n",
    "    featuresdfmin = pd.DataFrame(features_min, columns = featuremin)\n",
    "    return graph_auxillary['footprints'].join(featuresdf).join(featuresdfmax).join(featuresdfmin)"
   ]
  },
  {
   "cell_type": "code",
   "execution_count": 17,
   "id": "807eff47-03d8-4e81-817d-1a150ad502bc",
   "metadata": {
    "tags": []
   },
   "outputs": [],
   "source": [
    "config['test-percent'] = 12\n",
    "config['building_buffer'] = 90"
   ]
  },
  {
   "cell_type": "code",
   "execution_count": 18,
   "id": "207f1b5b-4b1b-4139-9084-810464bd8e36",
   "metadata": {
    "tags": []
   },
   "outputs": [],
   "source": [
    "from src.graph_construction import graph\n",
    "g1, g1a = graph(\n",
    "    \"new-york\",\n",
    "    neighbor_radius=150,\n",
    "    building_buffer=config['building_buffer'],\n",
    "    test_percent=config['test-percent']\n",
    ")\n",
    "\n",
    "g1p = pool_adjacency(g1, g1a)"
   ]
  },
  {
   "cell_type": "code",
   "execution_count": 19,
   "id": "89291b81-e4c1-42a8-87a9-bdfe39fb17d6",
   "metadata": {
    "tags": []
   },
   "outputs": [
    {
     "data": {
      "text/plain": [
       "{'node': (tensor([ 0.3238,  0.1444,  0.2469,  0.0666, 16.3572,  6.5007], device='cuda:0'),\n",
       "  tensor([0.1275, 0.1022, 0.0994, 0.0940, 7.1519, 8.1626], device='cuda:0')),\n",
       " 'building': (tensor([   8.8715, 2789.5448, 4787.4804], device='cuda:0', dtype=torch.float64),\n",
       "  tensor([  0.7695, 569.7795, 565.1110], device='cuda:0', dtype=torch.float64))}"
      ]
     },
     "execution_count": 19,
     "metadata": {},
     "output_type": "execute_result"
    }
   ],
   "source": [
    "g1a['normalization']"
   ]
  },
  {
   "cell_type": "code",
   "execution_count": 20,
   "id": "a2d613af-89ca-4500-b2bb-57af7750466c",
   "metadata": {
    "tags": []
   },
   "outputs": [],
   "source": [
    "g2, g2a = graph(\n",
    "    \"san-francisco\",\n",
    "    neighbor_radius=150,\n",
    "    building_buffer=config['building_buffer'],\n",
    "    test_percent=config['test-percent'],\n",
    "    normalization=g1a['normalization']\n",
    ")\n",
    "\n",
    "g2p = pool_adjacency(g2, g2a)\n",
    "\n",
    "g3, g3a = graph(\n",
    "    \"austin\",\n",
    "    neighbor_radius=150,\n",
    "    building_buffer=config['building_buffer'],\n",
    "    test_percent=config['test-percent'],\n",
    "    normalization=g1a['normalization']\n",
    ")\n",
    "\n",
    "g3p = pool_adjacency(g3, g3a)"
   ]
  },
  {
   "cell_type": "code",
   "execution_count": 21,
   "id": "4379aa8b-205c-4f43-a6b7-4904f01abd91",
   "metadata": {
    "tags": []
   },
   "outputs": [
    {
     "data": {
      "text/plain": [
       "<AxesSubplot: >"
      ]
     },
     "execution_count": 21,
     "metadata": {},
     "output_type": "execute_result"
    },
    {
     "data": {
      "image/png": "[encoded data removed]",
      "text/plain": [
       "<Figure size 640x480 with 1 Axes>"
      ]
     },
     "metadata": {},
     "output_type": "display_data"
    }
   ],
   "source": [
    "np.log(g1a['footprints'].energy).hist(bins=75, color=\"black\")"
   ]
  },
  {
   "cell_type": "code",
   "execution_count": 22,
   "id": "a6070ca5-cd25-46b3-b8a5-cb7205c891e0",
   "metadata": {
    "tags": []
   },
   "outputs": [
    {
     "data": {
      "text/html": [
       "<div>\n",
       "<style scoped>\n",
       "    .dataframe tbody tr th:only-of-type {\n",
       "        vertical-align: middle;\n",
       "    }\n",
       "\n",
       "    .dataframe tbody tr th {\n",
       "        vertical-align: top;\n",
       "    }\n",
       "\n",
       "    .dataframe thead th {\n",
       "        text-align: right;\n",
       "    }\n",
       "</style>\n",
       "<table border=\"1\" class=\"dataframe\">\n",
       "  <thead>\n",
       "    <tr style=\"text-align: right;\">\n",
       "      <th></th>\n",
       "      <th>energy</th>\n",
       "      <th>area</th>\n",
       "      <th>hdd</th>\n",
       "      <th>cdd</th>\n",
       "      <th>road_area</th>\n",
       "      <th>building_area</th>\n",
       "      <th>sky_area</th>\n",
       "      <th>vegetation_area</th>\n",
       "      <th>car_count</th>\n",
       "      <th>person_count</th>\n",
       "      <th>...</th>\n",
       "      <th>sky_area_max</th>\n",
       "      <th>vegetation_area_max</th>\n",
       "      <th>car_count_max</th>\n",
       "      <th>person_count_max</th>\n",
       "      <th>road_area_min</th>\n",
       "      <th>building_area_min</th>\n",
       "      <th>sky_area_min</th>\n",
       "      <th>vegetation_area_min</th>\n",
       "      <th>car_count_min</th>\n",
       "      <th>person_count_min</th>\n",
       "    </tr>\n",
       "  </thead>\n",
       "  <tbody>\n",
       "    <tr>\n",
       "      <th>count</th>\n",
       "      <td>1.337600e+04</td>\n",
       "      <td>13376.000000</td>\n",
       "      <td>13376.000000</td>\n",
       "      <td>13376.000000</td>\n",
       "      <td>13376.000000</td>\n",
       "      <td>13376.000000</td>\n",
       "      <td>13376.000000</td>\n",
       "      <td>13376.000000</td>\n",
       "      <td>13376.000000</td>\n",
       "      <td>13376.000000</td>\n",
       "      <td>...</td>\n",
       "      <td>13376.000000</td>\n",
       "      <td>13376.000000</td>\n",
       "      <td>13376.000000</td>\n",
       "      <td>13376.000000</td>\n",
       "      <td>13376.000000</td>\n",
       "      <td>13376.000000</td>\n",
       "      <td>13376.000000</td>\n",
       "      <td>13376.000000</td>\n",
       "      <td>13376.000000</td>\n",
       "      <td>13376.000000</td>\n",
       "    </tr>\n",
       "    <tr>\n",
       "      <th>mean</th>\n",
       "      <td>9.209194e+03</td>\n",
       "      <td>9714.055301</td>\n",
       "      <td>2789.544821</td>\n",
       "      <td>4787.480406</td>\n",
       "      <td>0.007990</td>\n",
       "      <td>0.194335</td>\n",
       "      <td>-0.218543</td>\n",
       "      <td>0.039085</td>\n",
       "      <td>0.167481</td>\n",
       "      <td>0.137191</td>\n",
       "      <td>...</td>\n",
       "      <td>0.834190</td>\n",
       "      <td>2.268015</td>\n",
       "      <td>1.745108</td>\n",
       "      <td>1.310272</td>\n",
       "      <td>-2.188227</td>\n",
       "      <td>-1.288287</td>\n",
       "      <td>-1.794282</td>\n",
       "      <td>-0.700060</td>\n",
       "      <td>-1.229836</td>\n",
       "      <td>-0.690746</td>\n",
       "    </tr>\n",
       "    <tr>\n",
       "      <th>std</th>\n",
       "      <td>1.170891e+05</td>\n",
       "      <td>8865.916754</td>\n",
       "      <td>569.779499</td>\n",
       "      <td>565.110994</td>\n",
       "      <td>0.957974</td>\n",
       "      <td>0.991027</td>\n",
       "      <td>0.919349</td>\n",
       "      <td>1.006770</td>\n",
       "      <td>0.953370</td>\n",
       "      <td>1.065779</td>\n",
       "      <td>...</td>\n",
       "      <td>0.629088</td>\n",
       "      <td>1.314018</td>\n",
       "      <td>0.884880</td>\n",
       "      <td>1.665670</td>\n",
       "      <td>0.858676</td>\n",
       "      <td>0.294396</td>\n",
       "      <td>0.731867</td>\n",
       "      <td>0.115397</td>\n",
       "      <td>0.574233</td>\n",
       "      <td>0.206096</td>\n",
       "    </tr>\n",
       "    <tr>\n",
       "      <th>min</th>\n",
       "      <td>3.597384e-01</td>\n",
       "      <td>27.870939</td>\n",
       "      <td>185.345664</td>\n",
       "      <td>2183.403795</td>\n",
       "      <td>-2.539832</td>\n",
       "      <td>-1.412309</td>\n",
       "      <td>-2.482980</td>\n",
       "      <td>-0.707984</td>\n",
       "      <td>-2.287128</td>\n",
       "      <td>-0.796394</td>\n",
       "      <td>...</td>\n",
       "      <td>-2.445945</td>\n",
       "      <td>-0.707984</td>\n",
       "      <td>-2.287128</td>\n",
       "      <td>-0.796394</td>\n",
       "      <td>-2.539832</td>\n",
       "      <td>-1.412309</td>\n",
       "      <td>-2.484289</td>\n",
       "      <td>-0.707984</td>\n",
       "      <td>-2.287128</td>\n",
       "      <td>-0.796394</td>\n",
       "    </tr>\n",
       "    <tr>\n",
       "      <th>25%</th>\n",
       "      <td>1.039547e+03</td>\n",
       "      <td>4172.906660</td>\n",
       "      <td>2486.595420</td>\n",
       "      <td>4423.442154</td>\n",
       "      <td>0.072156</td>\n",
       "      <td>-0.498168</td>\n",
       "      <td>-0.777968</td>\n",
       "      <td>-0.707984</td>\n",
       "      <td>-0.469419</td>\n",
       "      <td>-0.551375</td>\n",
       "      <td>...</td>\n",
       "      <td>0.395818</td>\n",
       "      <td>1.319543</td>\n",
       "      <td>1.208466</td>\n",
       "      <td>0.061172</td>\n",
       "      <td>-2.539832</td>\n",
       "      <td>-1.412309</td>\n",
       "      <td>-2.363571</td>\n",
       "      <td>-0.707984</td>\n",
       "      <td>-1.588009</td>\n",
       "      <td>-0.796394</td>\n",
       "    </tr>\n",
       "    <tr>\n",
       "      <th>50%</th>\n",
       "      <td>1.664815e+03</td>\n",
       "      <td>6564.209998</td>\n",
       "      <td>2923.122415</td>\n",
       "      <td>4792.310435</td>\n",
       "      <td>0.295318</td>\n",
       "      <td>0.146194</td>\n",
       "      <td>-0.176822</td>\n",
       "      <td>-0.377560</td>\n",
       "      <td>0.089876</td>\n",
       "      <td>-0.183847</td>\n",
       "      <td>...</td>\n",
       "      <td>0.898009</td>\n",
       "      <td>2.541590</td>\n",
       "      <td>1.627937</td>\n",
       "      <td>0.673719</td>\n",
       "      <td>-2.539832</td>\n",
       "      <td>-1.412309</td>\n",
       "      <td>-2.101506</td>\n",
       "      <td>-0.707984</td>\n",
       "      <td>-1.168538</td>\n",
       "      <td>-0.796394</td>\n",
       "    </tr>\n",
       "    <tr>\n",
       "      <th>75%</th>\n",
       "      <td>2.867630e+03</td>\n",
       "      <td>11528.651325</td>\n",
       "      <td>3182.745323</td>\n",
       "      <td>5157.548803</td>\n",
       "      <td>0.547381</td>\n",
       "      <td>0.831109</td>\n",
       "      <td>0.410133</td>\n",
       "      <td>0.390646</td>\n",
       "      <td>0.788994</td>\n",
       "      <td>0.428701</td>\n",
       "      <td>...</td>\n",
       "      <td>1.299562</td>\n",
       "      <td>3.324472</td>\n",
       "      <td>2.327056</td>\n",
       "      <td>2.266342</td>\n",
       "      <td>-2.539832</td>\n",
       "      <td>-1.412309</td>\n",
       "      <td>-1.349048</td>\n",
       "      <td>-0.707984</td>\n",
       "      <td>-0.888891</td>\n",
       "      <td>-0.673884</td>\n",
       "    </tr>\n",
       "    <tr>\n",
       "      <th>max</th>\n",
       "      <td>5.376747e+06</td>\n",
       "      <td>50304.071944</td>\n",
       "      <td>4149.092892</td>\n",
       "      <td>7351.370592</td>\n",
       "      <td>2.185666</td>\n",
       "      <td>3.812248</td>\n",
       "      <td>2.200790</td>\n",
       "      <td>5.028328</td>\n",
       "      <td>4.704060</td>\n",
       "      <td>7.289229</td>\n",
       "      <td>...</td>\n",
       "      <td>2.412033</td>\n",
       "      <td>5.850718</td>\n",
       "      <td>4.983707</td>\n",
       "      <td>7.289229</td>\n",
       "      <td>1.162274</td>\n",
       "      <td>2.765028</td>\n",
       "      <td>1.908834</td>\n",
       "      <td>3.081732</td>\n",
       "      <td>2.466880</td>\n",
       "      <td>1.653795</td>\n",
       "    </tr>\n",
       "  </tbody>\n",
       "</table>\n",
       "<p>8 rows × 22 columns</p>\n",
       "</div>"
      ],
      "text/plain": [
       "             energy          area           hdd           cdd     road_area  \\\n",
       "count  1.337600e+04  13376.000000  13376.000000  13376.000000  13376.000000   \n",
       "mean   9.209194e+03   9714.055301   2789.544821   4787.480406      0.007990   \n",
       "std    1.170891e+05   8865.916754    569.779499    565.110994      0.957974   \n",
       "min    3.597384e-01     27.870939    185.345664   2183.403795     -2.539832   \n",
       "25%    1.039547e+03   4172.906660   2486.595420   4423.442154      0.072156   \n",
       "50%    1.664815e+03   6564.209998   2923.122415   4792.310435      0.295318   \n",
       "75%    2.867630e+03  11528.651325   3182.745323   5157.548803      0.547381   \n",
       "max    5.376747e+06  50304.071944   4149.092892   7351.370592      2.185666   \n",
       "\n",
       "       building_area      sky_area  vegetation_area     car_count  \\\n",
       "count   13376.000000  13376.000000     13376.000000  13376.000000   \n",
       "mean        0.194335     -0.218543         0.039085      0.167481   \n",
       "std         0.991027      0.919349         1.006770      0.953370   \n",
       "min        -1.412309     -2.482980        -0.707984     -2.287128   \n",
       "25%        -0.498168     -0.777968        -0.707984     -0.469419   \n",
       "50%         0.146194     -0.176822        -0.377560      0.089876   \n",
       "75%         0.831109      0.410133         0.390646      0.788994   \n",
       "max         3.812248      2.200790         5.028328      4.704060   \n",
       "\n",
       "       person_count  ...  sky_area_max  vegetation_area_max  car_count_max  \\\n",
       "count  13376.000000  ...  13376.000000         13376.000000   13376.000000   \n",
       "mean       0.137191  ...      0.834190             2.268015       1.745108   \n",
       "std        1.065779  ...      0.629088             1.314018       0.884880   \n",
       "min       -0.796394  ...     -2.445945            -0.707984      -2.287128   \n",
       "25%       -0.551375  ...      0.395818             1.319543       1.208466   \n",
       "50%       -0.183847  ...      0.898009             2.541590       1.627937   \n",
       "75%        0.428701  ...      1.299562             3.324472       2.327056   \n",
       "max        7.289229  ...      2.412033             5.850718       4.983707   \n",
       "\n",
       "       person_count_max  road_area_min  building_area_min  sky_area_min  \\\n",
       "count      13376.000000   13376.000000       13376.000000  13376.000000   \n",
       "mean           1.310272      -2.188227          -1.288287     -1.794282   \n",
       "std            1.665670       0.858676           0.294396      0.731867   \n",
       "min           -0.796394      -2.539832          -1.412309     -2.484289   \n",
       "25%            0.061172      -2.539832          -1.412309     -2.363571   \n",
       "50%            0.673719      -2.539832          -1.412309     -2.101506   \n",
       "75%            2.266342      -2.539832          -1.412309     -1.349048   \n",
       "max            7.289229       1.162274           2.765028      1.908834   \n",
       "\n",
       "       vegetation_area_min  car_count_min  person_count_min  \n",
       "count         13376.000000   13376.000000      13376.000000  \n",
       "mean             -0.700060      -1.229836         -0.690746  \n",
       "std               0.115397       0.574233          0.206096  \n",
       "min              -0.707984      -2.287128         -0.796394  \n",
       "25%              -0.707984      -1.588009         -0.796394  \n",
       "50%              -0.707984      -1.168538         -0.796394  \n",
       "75%              -0.707984      -0.888891         -0.673884  \n",
       "max               3.081732       2.466880          1.653795  \n",
       "\n",
       "[8 rows x 22 columns]"
      ]
     },
     "execution_count": 22,
     "metadata": {},
     "output_type": "execute_result"
    }
   ],
   "source": [
    "g1p.drop(columns=[\"id\",\"geometry\",\"year\"]).describe()"
   ]
  },
  {
   "cell_type": "code",
   "execution_count": 23,
   "id": "26822f3f-7794-43b1-ac03-96fa8c56e492",
   "metadata": {
    "tags": []
   },
   "outputs": [
    {
     "name": "stdout",
     "output_type": "stream",
     "text": [
      "            energy      area       hdd       cdd  road_area  building_area  \\\n",
      "count    13,376.00 13,376.00 13,376.00 13,376.00  13,376.00      13,376.00   \n",
      "mean      9,209.19  9,714.06  2,789.54  4,787.48       0.01           0.19   \n",
      "std     117,089.12  8,865.92    569.78    565.11       0.96           0.99   \n",
      "min           0.36     27.87    185.35  2,183.40      -2.54          -1.41   \n",
      "25%       1,039.55  4,172.91  2,486.60  4,423.44       0.07          -0.50   \n",
      "50%       1,664.81  6,564.21  2,923.12  4,792.31       0.30           0.15   \n",
      "75%       2,867.63 11,528.65  3,182.75  5,157.55       0.55           0.83   \n",
      "max   5,376,747.40 50,304.07  4,149.09  7,351.37       2.19           3.81   \n",
      "\n",
      "       sky_area  vegetation_area  car_count  person_count  ...  sky_area_max  \\\n",
      "count 13,376.00        13,376.00  13,376.00     13,376.00  ...     13,376.00   \n",
      "mean      -0.22             0.04       0.17          0.14  ...          0.83   \n",
      "std        0.92             1.01       0.95          1.07  ...          0.63   \n",
      "min       -2.48            -0.71      -2.29         -0.80  ...         -2.45   \n",
      "25%       -0.78            -0.71      -0.47         -0.55  ...          0.40   \n",
      "50%       -0.18            -0.38       0.09         -0.18  ...          0.90   \n",
      "75%        0.41             0.39       0.79          0.43  ...          1.30   \n",
      "max        2.20             5.03       4.70          7.29  ...          2.41   \n",
      "\n",
      "       vegetation_area_max  car_count_max  person_count_max  road_area_min  \\\n",
      "count            13,376.00      13,376.00         13,376.00      13,376.00   \n",
      "mean                  2.27           1.75              1.31          -2.19   \n",
      "std                   1.31           0.88              1.67           0.86   \n",
      "min                  -0.71          -2.29             -0.80          -2.54   \n",
      "25%                   1.32           1.21              0.06          -2.54   \n",
      "50%                   2.54           1.63              0.67          -2.54   \n",
      "75%                   3.32           2.33              2.27          -2.54   \n",
      "max                   5.85           4.98              7.29           1.16   \n",
      "\n",
      "       building_area_min  sky_area_min  vegetation_area_min  car_count_min  \\\n",
      "count          13,376.00     13,376.00            13,376.00      13,376.00   \n",
      "mean               -1.29         -1.79                -0.70          -1.23   \n",
      "std                 0.29          0.73                 0.12           0.57   \n",
      "min                -1.41         -2.48                -0.71          -2.29   \n",
      "25%                -1.41         -2.36                -0.71          -1.59   \n",
      "50%                -1.41         -2.10                -0.71          -1.17   \n",
      "75%                -1.41         -1.35                -0.71          -0.89   \n",
      "max                 2.77          1.91                 3.08           2.47   \n",
      "\n",
      "       person_count_min  \n",
      "count         13,376.00  \n",
      "mean              -0.69  \n",
      "std                0.21  \n",
      "min               -0.80  \n",
      "25%               -0.80  \n",
      "50%               -0.80  \n",
      "75%               -0.67  \n",
      "max                1.65  \n",
      "\n",
      "[8 rows x 22 columns]\n"
     ]
    }
   ],
   "source": [
    "with pd.option_context('display.float_format', '{:,.2f}'.format):\n",
    "    print(g1p.drop(columns=[\"id\",\"geometry\",\"year\"]).describe())"
   ]
  },
  {
   "cell_type": "code",
   "execution_count": 24,
   "id": "b968a0b9",
   "metadata": {
    "ExecuteTime": {
     "end_time": "2023-03-08T23:21:22.152361Z",
     "start_time": "2023-03-08T23:21:19.928796Z"
    },
    "tags": []
   },
   "outputs": [],
   "source": [
    "# from src.graph_construction import graph\n",
    "# g1, g1a = graph(\n",
    "#     \"new-york\",\n",
    "#     neighbor_radius=config['neighbor_radius'],\n",
    "#     building_buffer=config['building_buffer'],\n",
    "#     test_percent=config['test-percent']\n",
    "# )\n",
    "# trainids, testids = build_corpus(g1, g1a)\n",
    "\n",
    "# # nycgraph = transform(nycgraph)"
   ]
  },
  {
   "cell_type": "code",
   "execution_count": 25,
   "id": "424f7360-5fa4-4840-a335-9311660f0e9a",
   "metadata": {
    "tags": []
   },
   "outputs": [],
   "source": [
    "idpool = g1a['footprints'].id\n",
    "idtrain = idpool[g1a['training_mask'].detach().cpu().numpy()]\n",
    "idtest = idpool[g1a['test_mask'].detach().cpu().numpy()]"
   ]
  },
  {
   "cell_type": "markdown",
   "id": "260b172a-df76-4565-bd6b-34abb384c6de",
   "metadata": {},
   "source": [
    "### at this point, starting to train the model based on the new york data. m1 will be the linear model with no auxillary features, m2 will be the remote sensing data, m3 will be the comprehensive data"
   ]
  },
  {
   "cell_type": "code",
   "execution_count": 26,
   "id": "4e2cd27e-da2e-42bb-b21f-c7afcc03aeac",
   "metadata": {
    "tags": []
   },
   "outputs": [],
   "source": [
    "f = open(os.path.join(results_dir, 'config_settings.txt'), \"a\")\n",
    "f.write(str(\"\\n\\n\"))\n",
    "f.write(str(\"NY Graph:\\n\"))\n",
    "f.write(str(g1))\n",
    "f.close()"
   ]
  },
  {
   "cell_type": "code",
   "execution_count": 27,
   "id": "83b1cc3a-fbbf-44a2-8c3a-85450ad46244",
   "metadata": {
    "tags": []
   },
   "outputs": [],
   "source": [
    "from sklearn.model_selection import KFold\n",
    "\n",
    "def build_corpus(g1, g1a):\n",
    "    trainids = []\n",
    "    testids = []\n",
    "\n",
    "    training_corpus = pool_adjacency(g1, g1a).iloc[g1a['training_mask'].detach().cpu().numpy()].reset_index(drop=True)\n",
    "\n",
    "    kf = KFold(n_splits=7)\n",
    "    for train, test in kf.split(training_corpus):\n",
    "        trainids.append(training_corpus.id[train])\n",
    "        testids.append(training_corpus.id[test])\n",
    "        \n",
    "    return trainids, testids"
   ]
  },
  {
   "cell_type": "code",
   "execution_count": null,
   "id": "6c607307-6278-430b-839a-8008d3ed3baa",
   "metadata": {},
   "outputs": [],
   "source": []
  },
  {
   "cell_type": "raw",
   "id": "7ab12991-5cf6-4aa7-b07c-52fccbbd0ffa",
   "metadata": {
    "tags": []
   },
   "source": [
    "def custom_cv(model, training_corpus, trainids, testids):\n",
    "    \"\"\"This needs to implement cross validation but only using hte set which is found in the first radius search of the building\"\"\"\n",
    "    losses = []\n",
    "    abslosses = []\n",
    "    for c,i in enumerate(trainids):\n",
    "        custom_model = copy.deepcopy(model)\n",
    "        training = training_corpus.loc[training_corpus.id.isin(i)]\n",
    "        testing = training_corpus.loc[training_corpus.id.isin(testids[c])]\n",
    "        \n",
    "        X = np.array(training.drop(columns=[\"id\",\"geometry\",\"energy\",\"year\"]))\n",
    "        y = np.array(training[\"energy\"])\n",
    "        custom_model.fit(X,y)\n",
    "        \n",
    "        Xt = np.array(testing.drop(columns=[\"id\",\"geometry\",\"energy\",\"year\"]))\n",
    "        yt = np.array(testing[\"energy\"])\n",
    "        yhat = custom_model.predict(Xt)\n",
    "        \n",
    "        losses.append(np.power(((yhat - yt)**2).mean(axis=None), 0.5))\n",
    "        abslosses.append(np.abs(yhat - yt).mean(axis=None))\n",
    "        \n",
    "    return (losses, abslosses)"
   ]
  },
  {
   "cell_type": "code",
   "execution_count": 28,
   "id": "d96c4c71-986a-4b76-bf01-7610ead5fe6f",
   "metadata": {
    "tags": []
   },
   "outputs": [
    {
     "data": {
      "text/plain": [
       "30.0"
      ]
     },
     "execution_count": 28,
     "metadata": {},
     "output_type": "execute_result"
    }
   ],
   "source": [
    "750 / 25"
   ]
  },
  {
   "cell_type": "code",
   "execution_count": 29,
   "id": "159c07c7-2917-41de-8b79-ba5d3ada0f13",
   "metadata": {
    "tags": []
   },
   "outputs": [],
   "source": [
    "# distances = np.linspace(config['building_buffer'], 1000, 10)"
   ]
  },
  {
   "cell_type": "code",
   "execution_count": 30,
   "id": "5a005f34-024c-4861-8148-603c43ef2459",
   "metadata": {
    "tags": []
   },
   "outputs": [],
   "source": [
    "distances = np.logspace(np.log10(config['building_buffer']), np.log10(1000), 100)"
   ]
  },
  {
   "cell_type": "code",
   "execution_count": 31,
   "id": "91ff909a-3d35-46c3-9790-d0147f2d829e",
   "metadata": {
    "tags": []
   },
   "outputs": [],
   "source": [
    "# print(f\"N Training: {len(trainids[0])}\\nN Testing: {len(testids[0])}\")"
   ]
  },
  {
   "cell_type": "code",
   "execution_count": 32,
   "id": "222804d3-a03c-48ce-8330-ad5f625ac4cb",
   "metadata": {
    "tags": []
   },
   "outputs": [
    {
     "name": "stdout",
     "output_type": "stream",
     "text": [
      "['Solarize_Light2', '_classic_test_patch', '_mpl-gallery', '_mpl-gallery-nogrid', 'bmh', 'classic', 'dark_background', 'fast', 'fivethirtyeight', 'ggplot', 'grayscale', 'seaborn-v0_8', 'seaborn-v0_8-bright', 'seaborn-v0_8-colorblind', 'seaborn-v0_8-dark', 'seaborn-v0_8-dark-palette', 'seaborn-v0_8-darkgrid', 'seaborn-v0_8-deep', 'seaborn-v0_8-muted', 'seaborn-v0_8-notebook', 'seaborn-v0_8-paper', 'seaborn-v0_8-pastel', 'seaborn-v0_8-poster', 'seaborn-v0_8-talk', 'seaborn-v0_8-ticks', 'seaborn-v0_8-white', 'seaborn-v0_8-whitegrid', 'tableau-colorblind10']\n"
     ]
    }
   ],
   "source": [
    "print(plt.style.available)"
   ]
  },
  {
   "cell_type": "code",
   "execution_count": 33,
   "id": "67a95380-56d4-4266-9d84-6bb374b61ff1",
   "metadata": {
    "tags": []
   },
   "outputs": [],
   "source": [
    "import matplotlib as mpl\n",
    "mpl.rc('image', cmap='Set1')\n"
   ]
  },
  {
   "cell_type": "code",
   "execution_count": 34,
   "id": "84fb9006-46cc-4800-87e4-7de8d149301c",
   "metadata": {
    "tags": []
   },
   "outputs": [],
   "source": [
    "import seaborn as sns\n",
    "sns.set(style='ticks', palette='Dark2')"
   ]
  },
  {
   "cell_type": "code",
   "execution_count": 35,
   "id": "487e19a3-c2c3-44fc-aea7-e28ca24890ac",
   "metadata": {
    "tags": []
   },
   "outputs": [],
   "source": [
    "# print(f\"Losses:\\n\\nM1: {m1_rmse:,.2f}\\nM2: {m2_rmse:,.2f}\\nM3: {m3_rmse:,.2f}\")"
   ]
  },
  {
   "cell_type": "code",
   "execution_count": 36,
   "id": "2f005d7c-adca-403d-8e75-c4b993af71f2",
   "metadata": {
    "tags": []
   },
   "outputs": [],
   "source": [
    "# print(f\"Losses:\\n\\nM4: {m4_rmse:,.2f}\\nM5: {m5_rmse:,.2f}\\nM6: {m6_rmse:,.2f}\")"
   ]
  },
  {
   "cell_type": "code",
   "execution_count": 37,
   "id": "e07bf83b-7b81-4cf7-9db1-f51e2fe5e0fd",
   "metadata": {
    "tags": []
   },
   "outputs": [],
   "source": [
    "# np.mean(losses) / 1e6"
   ]
  },
  {
   "cell_type": "code",
   "execution_count": 38,
   "id": "e03836cd-0086-49cf-bf93-88cd9043c4f5",
   "metadata": {
    "tags": []
   },
   "outputs": [],
   "source": [
    "# np.mean(abslosses)"
   ]
  },
  {
   "cell_type": "code",
   "execution_count": 39,
   "id": "957ca695-540c-41eb-a545-7fae4c33349d",
   "metadata": {},
   "outputs": [],
   "source": [
    "# from src.graph_construction import graph\n",
    "# sfgraph, sf_rebuild_info = graph(\n",
    "#     \"san-fransisco\",\n",
    "#     neighbor_radius=config['neighbor_radius'],\n",
    "#     building_buffer=config['building_buffer'],\n",
    "#     test_percent=config['test-percent']\n",
    "# )"
   ]
  },
  {
   "cell_type": "code",
   "execution_count": 40,
   "id": "0ec29977-84c7-4e01-85c6-22ac84015b75",
   "metadata": {
    "tags": []
   },
   "outputs": [],
   "source": [
    "# f = open(os.path.join(results_dir, 'config_settings.txt'), \"a\")\n",
    "# f.write(str(\"\\n\\n\"))\n",
    "# f.write(str(\"San Fransisco Graph:\\n\"))\n",
    "# f.write(str(sfgraph))\n",
    "# f.close()"
   ]
  },
  {
   "cell_type": "code",
   "execution_count": 41,
   "id": "a92ab04f",
   "metadata": {
    "ExecuteTime": {
     "end_time": "2023-03-08T23:21:35.659550Z",
     "start_time": "2023-03-08T23:21:35.498850Z"
    },
    "tags": []
   },
   "outputs": [],
   "source": [
    "# from src.graph_construction import graph\n",
    "# austingraph, austin_rebuild_info = graph(\n",
    "#     \"austin\",\n",
    "#     neighbor_radius=config['neighbor_radius'],\n",
    "#     building_buffer=config['building_buffer'],\n",
    "#     test_percent=config['test-percent']\n",
    "# )"
   ]
  },
  {
   "cell_type": "code",
   "execution_count": 42,
   "id": "d909b1f7-c686-4a62-a91f-4c20a1b4a087",
   "metadata": {
    "tags": []
   },
   "outputs": [],
   "source": [
    "# f = open(os.path.join(results_dir, 'config_settings.txt'), \"a\")\n",
    "# f.write(str(\"\\n\\n\"))\n",
    "# f.write(str(\"Austin Graph:\\n\"))\n",
    "# f.write(str(austingraph))\n",
    "# f.close()"
   ]
  },
  {
   "cell_type": "code",
   "execution_count": 43,
   "id": "a7f8b9ae-7027-4be2-8f44-dded18254120",
   "metadata": {
    "tags": []
   },
   "outputs": [
    {
     "data": {
      "text/plain": [
       "tensor(1605, device='cuda:0')"
      ]
     },
     "execution_count": 43,
     "metadata": {},
     "output_type": "execute_result"
    }
   ],
   "source": [
    "(~g1a['training_mask']).sum()"
   ]
  },
  {
   "cell_type": "code",
   "execution_count": 44,
   "id": "64c7c7f7-53fd-4b56-b505-f7484601eba6",
   "metadata": {
    "tags": []
   },
   "outputs": [
    {
     "data": {
      "text/plain": [
       "tensor(11771, device='cuda:0')"
      ]
     },
     "execution_count": 44,
     "metadata": {},
     "output_type": "execute_result"
    }
   ],
   "source": [
    "g1a['training_mask'].sum()"
   ]
  },
  {
   "cell_type": "code",
   "execution_count": 45,
   "id": "df020333-1a0d-4af9-a7e2-7d7221f33b87",
   "metadata": {
    "tags": []
   },
   "outputs": [],
   "source": [
    "from sklearn.linear_model import LinearRegression"
   ]
  },
  {
   "cell_type": "code",
   "execution_count": 46,
   "id": "51fee153-864e-45f8-ae10-8b9179e0a1a3",
   "metadata": {
    "tags": []
   },
   "outputs": [],
   "source": [
    "loss_func = torch.nn.MSELoss()"
   ]
  },
  {
   "cell_type": "code",
   "execution_count": 47,
   "id": "458d45eb",
   "metadata": {
    "ExecuteTime": {
     "end_time": "2023-03-08T23:21:42.760115Z",
     "start_time": "2023-03-08T23:21:42.742207Z"
    },
    "tags": []
   },
   "outputs": [],
   "source": [
    "nyc_mask = g1a['training_mask'].cpu().numpy()"
   ]
  },
  {
   "cell_type": "code",
   "execution_count": 48,
   "id": "33c496e9-e34b-4700-8f46-e4d0bdb94e19",
   "metadata": {
    "tags": []
   },
   "outputs": [
    {
     "data": {
      "text/plain": [
       "1177"
      ]
     },
     "execution_count": 48,
     "metadata": {},
     "output_type": "execute_result"
    }
   ],
   "source": [
    "int(nyc_mask.sum() * 0.1)"
   ]
  },
  {
   "cell_type": "code",
   "execution_count": 49,
   "id": "7c093aeb-4808-4255-b51d-be14e192251e",
   "metadata": {
    "tags": []
   },
   "outputs": [
    {
     "data": {
      "text/plain": [
       "1177"
      ]
     },
     "execution_count": 49,
     "metadata": {},
     "output_type": "execute_result"
    }
   ],
   "source": [
    "config['cv_size'] = int(nyc_mask.sum() * 0.1)\n",
    "config['cv_size']"
   ]
  },
  {
   "cell_type": "code",
   "execution_count": 50,
   "id": "70ba9c6f-2385-4617-9cdc-1cce65252727",
   "metadata": {
    "tags": []
   },
   "outputs": [],
   "source": [
    "np.random.seed(1)\n",
    "torch.manual_seed(1)\n",
    "nyc_cvs = build_masks(\n",
    "    nyc_mask, \n",
    "    n_cv = 8,\n",
    "    n_val = config['cv_size']\n",
    ")"
   ]
  },
  {
   "cell_type": "code",
   "execution_count": 51,
   "id": "3baf752b",
   "metadata": {
    "ExecuteTime": {
     "end_time": "2023-03-08T23:21:45.883068Z",
     "start_time": "2023-03-08T23:21:45.839348Z"
    },
    "tags": []
   },
   "outputs": [],
   "source": [
    "valmean = []\n",
    "valstd = []\n",
    "\n",
    "trainmean = []\n",
    "trainstd = []\n",
    "\n",
    "nyX = g1['footprint'].x.detach().cpu().numpy()\n",
    "nyY = g1['footprint'].y.cpu()\n",
    "\n",
    "cvtrain_errors = []\n",
    "cv_errors = []\n",
    "for crossfold in nyc_cvs:\n",
    "    nytrain, nyval = crossfold\n",
    "\n",
    "    reg = LinearRegression().fit(nyX[nytrain], nyY[nytrain])\n",
    "    overfitpred = reg.predict(nyX[nytrain])\n",
    "    fitpred = reg.predict(nyX[nyval])\n",
    "\n",
    "    overfitloss = float(loss_func(torch.tensor(overfitpred), nyY[nytrain]))\n",
    "    regloss = float(loss_func(torch.tensor(fitpred), nyY[nyval]))\n",
    "\n",
    "    cvtrain_errors.append(overfitloss)\n",
    "    cv_errors.append(regloss)\n",
    "\n",
    "linear_regtrainerr = np.mean(cvtrain_errors)\n",
    "linear_regerr = np.mean(cv_errors)\n",
    "\n",
    "trainmean.append(linear_regtrainerr)\n",
    "valmean.append(linear_regerr)\n",
    "\n",
    "trainstd.append(np.std(cvtrain_errors))\n",
    "valstd.append(np.std(cv_errors))"
   ]
  },
  {
   "cell_type": "code",
   "execution_count": 52,
   "id": "9ff776e4-7ed1-4b8c-818d-972fef26c5cf",
   "metadata": {
    "tags": []
   },
   "outputs": [
    {
     "data": {
      "text/plain": [
       "<matplotlib.legend.Legend at 0x7f69d5a27ca0>"
      ]
     },
     "execution_count": 52,
     "metadata": {},
     "output_type": "execute_result"
    },
    {
     "data": {
      "image/png": "[encoded data removed]",
      "text/plain": [
       "<Figure size 640x480 with 1 Axes>"
      ]
     },
     "metadata": {},
     "output_type": "display_data"
    }
   ],
   "source": [
    "plt.scatter(range(len(cv_errors)), cv_errors, label=\"Validate\")\n",
    "plt.scatter(range(len(cvtrain_errors)), cvtrain_errors, label=\"Training\")\n",
    "plt.legend()"
   ]
  },
  {
   "cell_type": "code",
   "execution_count": 53,
   "id": "673f7fa6-cdd8-4d6a-884d-c5a013480b6d",
   "metadata": {
    "tags": []
   },
   "outputs": [
    {
     "data": {
      "text/plain": [
       "[0.5987235680222511]"
      ]
     },
     "execution_count": 53,
     "metadata": {},
     "output_type": "execute_result"
    }
   ],
   "source": [
    "trainmean"
   ]
  },
  {
   "cell_type": "code",
   "execution_count": 54,
   "id": "4d614367-6062-43d5-8d89-46ee242920b4",
   "metadata": {
    "tags": []
   },
   "outputs": [
    {
     "data": {
      "text/plain": [
       "[0.6410418525338173]"
      ]
     },
     "execution_count": 54,
     "metadata": {},
     "output_type": "execute_result"
    }
   ],
   "source": [
    "valmean"
   ]
  },
  {
   "cell_type": "code",
   "execution_count": 55,
   "id": "02976b1f-bd34-4812-a877-195f6a7d414a",
   "metadata": {
    "tags": []
   },
   "outputs": [],
   "source": [
    "fullreg = LinearRegression().fit(nyX, nyY)"
   ]
  },
  {
   "cell_type": "code",
   "execution_count": null,
   "id": "71711147-b095-4ff5-ba26-141261c13aed",
   "metadata": {
    "tags": []
   },
   "outputs": [],
   "source": []
  },
  {
   "cell_type": "code",
   "execution_count": 56,
   "id": "3a6858b5-519d-443d-8383-67dd3b97caac",
   "metadata": {
    "tags": []
   },
   "outputs": [],
   "source": [
    "# plt.plot(range(ntesting), trainmean, label=\"training\")\n",
    "# plt.fill_between(\n",
    "#     range(ntesting), \n",
    "#     np.array(trainmean) - np.array(trainstd), \n",
    "#     np.array(trainmean) + np.array(trainstd),\n",
    "#     alpha=0.2\n",
    "# ) \n",
    "\n",
    "# plt.plot(range(ntesting), valmean, label=\"validation\")\n",
    "# plt.fill_between(\n",
    "#     range(ntesting), \n",
    "#     np.array(valmean) - np.array(valstd), \n",
    "#     np.array(valmean) + np.array(valstd),\n",
    "#     alpha=0.2\n",
    "# )\n",
    "\n",
    "# plt.ylim(0.3, 1.3)\n",
    "# plt.legend()\n",
    "# plt.show()"
   ]
  },
  {
   "cell_type": "code",
   "execution_count": 57,
   "id": "f95d33e7-708f-4076-9743-de734aa34c12",
   "metadata": {
    "tags": []
   },
   "outputs": [
    {
     "data": {
      "text/plain": [
       "3"
      ]
     },
     "execution_count": 57,
     "metadata": {},
     "output_type": "execute_result"
    }
   ],
   "source": [
    "g1['footprint'].x.shape[1]"
   ]
  },
  {
   "cell_type": "code",
   "execution_count": 58,
   "id": "846caf58-83c4-4e3d-a05d-50c63a3474e0",
   "metadata": {
    "tags": []
   },
   "outputs": [],
   "source": [
    "config['epochs'] = int(1e3)\n",
    "config['lr'] = 0.01"
   ]
  },
  {
   "cell_type": "code",
   "execution_count": 59,
   "id": "8cc5b88d-7301-4eef-87ff-56fd39eee5e0",
   "metadata": {
    "tags": []
   },
   "outputs": [
    {
     "data": {
      "text/plain": [
       "tensor([[-0.4651, -2.0440,  1.0195],\n",
       "        [ 0.2711, -1.9341,  0.9948],\n",
       "        [-0.0047, -1.4924,  0.9087],\n",
       "        ...,\n",
       "        [-2.1875, -0.2102,  0.4811],\n",
       "        [ 1.9599, -0.7411,  0.1651],\n",
       "        [-2.3068,  1.0602, -2.6950]], device='cuda:0')"
      ]
     },
     "execution_count": 59,
     "metadata": {},
     "output_type": "execute_result"
    }
   ],
   "source": [
    "g1['footprint'].x"
   ]
  },
  {
   "cell_type": "code",
   "execution_count": 60,
   "id": "0807287e-38d3-40b6-a73a-3e85e20838a9",
   "metadata": {
    "tags": []
   },
   "outputs": [
    {
     "data": {
      "text/html": [
       "<div>\n",
       "<style scoped>\n",
       "    .dataframe tbody tr th:only-of-type {\n",
       "        vertical-align: middle;\n",
       "    }\n",
       "\n",
       "    .dataframe tbody tr th {\n",
       "        vertical-align: top;\n",
       "    }\n",
       "\n",
       "    .dataframe thead th {\n",
       "        text-align: right;\n",
       "    }\n",
       "</style>\n",
       "<table border=\"1\" class=\"dataframe\">\n",
       "  <thead>\n",
       "    <tr style=\"text-align: right;\">\n",
       "      <th></th>\n",
       "      <th>energy</th>\n",
       "      <th>area</th>\n",
       "      <th>hdd</th>\n",
       "      <th>cdd</th>\n",
       "    </tr>\n",
       "  </thead>\n",
       "  <tbody>\n",
       "    <tr>\n",
       "      <th>0</th>\n",
       "      <td>1022.022331</td>\n",
       "      <td>4982.209051</td>\n",
       "      <td>1624.918473</td>\n",
       "      <td>5363.637485</td>\n",
       "    </tr>\n",
       "    <tr>\n",
       "      <th>1</th>\n",
       "      <td>1976.070202</td>\n",
       "      <td>8779.345776</td>\n",
       "      <td>1687.509132</td>\n",
       "      <td>5349.625418</td>\n",
       "    </tr>\n",
       "    <tr>\n",
       "      <th>2</th>\n",
       "      <td>1661.980018</td>\n",
       "      <td>7100.586219</td>\n",
       "      <td>1939.211581</td>\n",
       "      <td>5301.015337</td>\n",
       "    </tr>\n",
       "    <tr>\n",
       "      <th>3</th>\n",
       "      <td>2305.142743</td>\n",
       "      <td>11217.588421</td>\n",
       "      <td>2331.513863</td>\n",
       "      <td>5215.119099</td>\n",
       "    </tr>\n",
       "    <tr>\n",
       "      <th>4</th>\n",
       "      <td>2928.477275</td>\n",
       "      <td>16722.563383</td>\n",
       "      <td>1912.050834</td>\n",
       "      <td>5314.381368</td>\n",
       "    </tr>\n",
       "    <tr>\n",
       "      <th>...</th>\n",
       "      <td>...</td>\n",
       "      <td>...</td>\n",
       "      <td>...</td>\n",
       "      <td>...</td>\n",
       "    </tr>\n",
       "    <tr>\n",
       "      <th>13371</th>\n",
       "      <td>60.944476</td>\n",
       "      <td>5295.478405</td>\n",
       "      <td>2462.514850</td>\n",
       "      <td>4917.660529</td>\n",
       "    </tr>\n",
       "    <tr>\n",
       "      <th>13372</th>\n",
       "      <td>4136.360394</td>\n",
       "      <td>8953.353338</td>\n",
       "      <td>2388.908408</td>\n",
       "      <td>5245.983291</td>\n",
       "    </tr>\n",
       "    <tr>\n",
       "      <th>13373</th>\n",
       "      <td>537.698770</td>\n",
       "      <td>1323.869601</td>\n",
       "      <td>2669.791720</td>\n",
       "      <td>5059.377001</td>\n",
       "    </tr>\n",
       "    <tr>\n",
       "      <th>13374</th>\n",
       "      <td>7648.797011</td>\n",
       "      <td>32198.180957</td>\n",
       "      <td>2367.297559</td>\n",
       "      <td>4880.790748</td>\n",
       "    </tr>\n",
       "    <tr>\n",
       "      <th>13375</th>\n",
       "      <td>784.407552</td>\n",
       "      <td>1207.740689</td>\n",
       "      <td>3393.641800</td>\n",
       "      <td>3264.480132</td>\n",
       "    </tr>\n",
       "  </tbody>\n",
       "</table>\n",
       "<p>13376 rows × 4 columns</p>\n",
       "</div>"
      ],
      "text/plain": [
       "            energy          area          hdd          cdd\n",
       "0      1022.022331   4982.209051  1624.918473  5363.637485\n",
       "1      1976.070202   8779.345776  1687.509132  5349.625418\n",
       "2      1661.980018   7100.586219  1939.211581  5301.015337\n",
       "3      2305.142743  11217.588421  2331.513863  5215.119099\n",
       "4      2928.477275  16722.563383  1912.050834  5314.381368\n",
       "...            ...           ...          ...          ...\n",
       "13371    60.944476   5295.478405  2462.514850  4917.660529\n",
       "13372  4136.360394   8953.353338  2388.908408  5245.983291\n",
       "13373   537.698770   1323.869601  2669.791720  5059.377001\n",
       "13374  7648.797011  32198.180957  2367.297559  4880.790748\n",
       "13375   784.407552   1207.740689  3393.641800  3264.480132\n",
       "\n",
       "[13376 rows x 4 columns]"
      ]
     },
     "execution_count": 60,
     "metadata": {},
     "output_type": "execute_result"
    }
   ],
   "source": [
    "g1a['footprints'].drop(columns=[\"id\",\"geometry\",\"year\"])"
   ]
  },
  {
   "cell_type": "code",
   "execution_count": 61,
   "id": "a4559e8f-5fef-4862-a9b5-f39f42258c15",
   "metadata": {
    "tags": []
   },
   "outputs": [
    {
     "data": {
      "text/plain": [
       "tensor([6.9295, 7.5889, 7.4158,  ..., 6.2873, 8.9423, 6.6649], device='cuda:0')"
      ]
     },
     "execution_count": 61,
     "metadata": {},
     "output_type": "execute_result"
    }
   ],
   "source": [
    "g1['footprint'].y"
   ]
  },
  {
   "cell_type": "code",
   "execution_count": 62,
   "id": "f8ba9a9d-547e-4275-a34c-7d057d067fe8",
   "metadata": {
    "tags": []
   },
   "outputs": [
    {
     "data": {
      "text/plain": [
       "0        6.929539\n",
       "1        7.588865\n",
       "2        7.415765\n",
       "3        7.742898\n",
       "4        7.982238\n",
       "           ...   \n",
       "13371    4.109963\n",
       "13372    8.327572\n",
       "13373    6.287298\n",
       "13374    8.942304\n",
       "13375    6.664929\n",
       "Name: energy, Length: 13376, dtype: float64"
      ]
     },
     "execution_count": 62,
     "metadata": {},
     "output_type": "execute_result"
    }
   ],
   "source": [
    "np.log(g1a['footprints'].energy)"
   ]
  },
  {
   "cell_type": "code",
   "execution_count": 63,
   "id": "20278fb7-4f74-402b-9b16-0ab9c07d0bf1",
   "metadata": {
    "tags": []
   },
   "outputs": [],
   "source": [
    "config['input_shape'] = g1['footprint'].x.shape[1]"
   ]
  },
  {
   "cell_type": "code",
   "execution_count": 64,
   "id": "eefe46f1-89fa-41dd-b99f-7a0e16314592",
   "metadata": {
    "tags": []
   },
   "outputs": [
    {
     "data": {
      "text/html": [
       "<div>\n",
       "<style scoped>\n",
       "    .dataframe tbody tr th:only-of-type {\n",
       "        vertical-align: middle;\n",
       "    }\n",
       "\n",
       "    .dataframe tbody tr th {\n",
       "        vertical-align: top;\n",
       "    }\n",
       "\n",
       "    .dataframe thead th {\n",
       "        text-align: right;\n",
       "    }\n",
       "</style>\n",
       "<table border=\"1\" class=\"dataframe\">\n",
       "  <thead>\n",
       "    <tr style=\"text-align: right;\">\n",
       "      <th></th>\n",
       "      <th>id</th>\n",
       "      <th>geometry</th>\n",
       "      <th>energy</th>\n",
       "      <th>area</th>\n",
       "      <th>year</th>\n",
       "      <th>hdd</th>\n",
       "      <th>cdd</th>\n",
       "    </tr>\n",
       "  </thead>\n",
       "  <tbody>\n",
       "    <tr>\n",
       "      <th>0</th>\n",
       "      <td>9831628575705046469</td>\n",
       "      <td>POLYGON ((585927.699 4510953.665, 585901.046 4...</td>\n",
       "      <td>1022.022331</td>\n",
       "      <td>4982.209051</td>\n",
       "      <td>2012</td>\n",
       "      <td>1624.918473</td>\n",
       "      <td>5363.637485</td>\n",
       "    </tr>\n",
       "    <tr>\n",
       "      <th>1</th>\n",
       "      <td>11640540857295396741</td>\n",
       "      <td>POLYGON ((585824.204 4511010.579, 585801.557 4...</td>\n",
       "      <td>1976.070202</td>\n",
       "      <td>8779.345776</td>\n",
       "      <td>2012</td>\n",
       "      <td>1687.509132</td>\n",
       "      <td>5349.625418</td>\n",
       "    </tr>\n",
       "    <tr>\n",
       "      <th>2</th>\n",
       "      <td>4799432601768318575</td>\n",
       "      <td>POLYGON ((585808.805 4510929.549, 585798.549 4...</td>\n",
       "      <td>1661.980018</td>\n",
       "      <td>7100.586219</td>\n",
       "      <td>2012</td>\n",
       "      <td>1939.211581</td>\n",
       "      <td>5301.015337</td>\n",
       "    </tr>\n",
       "    <tr>\n",
       "      <th>3</th>\n",
       "      <td>16920889134437381520</td>\n",
       "      <td>POLYGON ((585752.965 4510960.067, 585746.097 4...</td>\n",
       "      <td>2305.142743</td>\n",
       "      <td>11217.588421</td>\n",
       "      <td>2012</td>\n",
       "      <td>2331.513863</td>\n",
       "      <td>5215.119099</td>\n",
       "    </tr>\n",
       "    <tr>\n",
       "      <th>4</th>\n",
       "      <td>1749360111145323354</td>\n",
       "      <td>POLYGON ((585856.706 4510950.191, 585830.184 4...</td>\n",
       "      <td>2928.477275</td>\n",
       "      <td>16722.563383</td>\n",
       "      <td>2016</td>\n",
       "      <td>1912.050834</td>\n",
       "      <td>5314.381368</td>\n",
       "    </tr>\n",
       "    <tr>\n",
       "      <th>...</th>\n",
       "      <td>...</td>\n",
       "      <td>...</td>\n",
       "      <td>...</td>\n",
       "      <td>...</td>\n",
       "      <td>...</td>\n",
       "      <td>...</td>\n",
       "      <td>...</td>\n",
       "    </tr>\n",
       "    <tr>\n",
       "      <th>13371</th>\n",
       "      <td>16695332508867886524</td>\n",
       "      <td>POLYGON ((587251.112 4506565.198, 587237.835 4...</td>\n",
       "      <td>60.944476</td>\n",
       "      <td>5295.478405</td>\n",
       "      <td>2012</td>\n",
       "      <td>2462.514850</td>\n",
       "      <td>4917.660529</td>\n",
       "    </tr>\n",
       "    <tr>\n",
       "      <th>13372</th>\n",
       "      <td>3010589633849135112</td>\n",
       "      <td>POLYGON ((586796.159 4509068.953, 586792.590 4...</td>\n",
       "      <td>4136.360394</td>\n",
       "      <td>8953.353338</td>\n",
       "      <td>2012</td>\n",
       "      <td>2388.908408</td>\n",
       "      <td>5245.983291</td>\n",
       "    </tr>\n",
       "    <tr>\n",
       "      <th>13373</th>\n",
       "      <td>5418421121047772298</td>\n",
       "      <td>POLYGON ((592755.083 4508579.412, 592751.726 4...</td>\n",
       "      <td>537.698770</td>\n",
       "      <td>1323.869601</td>\n",
       "      <td>2017</td>\n",
       "      <td>2669.791720</td>\n",
       "      <td>5059.377001</td>\n",
       "    </tr>\n",
       "    <tr>\n",
       "      <th>13374</th>\n",
       "      <td>1836429563859990194</td>\n",
       "      <td>POLYGON ((583641.685 4502671.305, 583467.840 4...</td>\n",
       "      <td>7648.797011</td>\n",
       "      <td>32198.180957</td>\n",
       "      <td>2016</td>\n",
       "      <td>2367.297559</td>\n",
       "      <td>4880.790748</td>\n",
       "    </tr>\n",
       "    <tr>\n",
       "      <th>13375</th>\n",
       "      <td>15242956676492688919</td>\n",
       "      <td>POLYGON ((587808.975 4516068.062, 587741.570 4...</td>\n",
       "      <td>784.407552</td>\n",
       "      <td>1207.740689</td>\n",
       "      <td>2016</td>\n",
       "      <td>3393.641800</td>\n",
       "      <td>3264.480132</td>\n",
       "    </tr>\n",
       "  </tbody>\n",
       "</table>\n",
       "<p>13376 rows × 7 columns</p>\n",
       "</div>"
      ],
      "text/plain": [
       "                         id  \\\n",
       "0       9831628575705046469   \n",
       "1      11640540857295396741   \n",
       "2       4799432601768318575   \n",
       "3      16920889134437381520   \n",
       "4       1749360111145323354   \n",
       "...                     ...   \n",
       "13371  16695332508867886524   \n",
       "13372   3010589633849135112   \n",
       "13373   5418421121047772298   \n",
       "13374   1836429563859990194   \n",
       "13375  15242956676492688919   \n",
       "\n",
       "                                                geometry       energy  \\\n",
       "0      POLYGON ((585927.699 4510953.665, 585901.046 4...  1022.022331   \n",
       "1      POLYGON ((585824.204 4511010.579, 585801.557 4...  1976.070202   \n",
       "2      POLYGON ((585808.805 4510929.549, 585798.549 4...  1661.980018   \n",
       "3      POLYGON ((585752.965 4510960.067, 585746.097 4...  2305.142743   \n",
       "4      POLYGON ((585856.706 4510950.191, 585830.184 4...  2928.477275   \n",
       "...                                                  ...          ...   \n",
       "13371  POLYGON ((587251.112 4506565.198, 587237.835 4...    60.944476   \n",
       "13372  POLYGON ((586796.159 4509068.953, 586792.590 4...  4136.360394   \n",
       "13373  POLYGON ((592755.083 4508579.412, 592751.726 4...   537.698770   \n",
       "13374  POLYGON ((583641.685 4502671.305, 583467.840 4...  7648.797011   \n",
       "13375  POLYGON ((587808.975 4516068.062, 587741.570 4...   784.407552   \n",
       "\n",
       "               area  year          hdd          cdd  \n",
       "0       4982.209051  2012  1624.918473  5363.637485  \n",
       "1       8779.345776  2012  1687.509132  5349.625418  \n",
       "2       7100.586219  2012  1939.211581  5301.015337  \n",
       "3      11217.588421  2012  2331.513863  5215.119099  \n",
       "4      16722.563383  2016  1912.050834  5314.381368  \n",
       "...             ...   ...          ...          ...  \n",
       "13371   5295.478405  2012  2462.514850  4917.660529  \n",
       "13372   8953.353338  2012  2388.908408  5245.983291  \n",
       "13373   1323.869601  2017  2669.791720  5059.377001  \n",
       "13374  32198.180957  2016  2367.297559  4880.790748  \n",
       "13375   1207.740689  2016  3393.641800  3264.480132  \n",
       "\n",
       "[13376 rows x 7 columns]"
      ]
     },
     "execution_count": 64,
     "metadata": {},
     "output_type": "execute_result"
    }
   ],
   "source": [
    "g1a['footprints']"
   ]
  },
  {
   "cell_type": "code",
   "execution_count": 65,
   "id": "aefdaafa",
   "metadata": {
    "ExecuteTime": {
     "end_time": "2023-03-08T23:22:09.278532Z",
     "start_time": "2023-03-08T23:21:49.701330Z"
    },
    "tags": []
   },
   "outputs": [
    {
     "data": {
      "application/vnd.jupyter.widget-view+json": {
       "model_id": "01e3c9ac07254cf3b1ec453941dc1267",
       "version_major": 2,
       "version_minor": 0
      },
      "text/plain": [
       "CV Loop:   0%|          | 0/8 [00:00<?, ?it/s]"
      ]
     },
     "metadata": {},
     "output_type": "display_data"
    },
    {
     "data": {
      "application/vnd.jupyter.widget-view+json": {
       "model_id": "",
       "version_major": 2,
       "version_minor": 0
      },
      "text/plain": [
       "Epoch:   0%|          | 0/1000 [00:00<?, ?it/s]"
      ]
     },
     "metadata": {},
     "output_type": "display_data"
    },
    {
     "data": {
      "application/vnd.jupyter.widget-view+json": {
       "model_id": "",
       "version_major": 2,
       "version_minor": 0
      },
      "text/plain": [
       "Epoch:   0%|          | 0/1000 [00:00<?, ?it/s]"
      ]
     },
     "metadata": {},
     "output_type": "display_data"
    },
    {
     "data": {
      "application/vnd.jupyter.widget-view+json": {
       "model_id": "",
       "version_major": 2,
       "version_minor": 0
      },
      "text/plain": [
       "Epoch:   0%|          | 0/1000 [00:00<?, ?it/s]"
      ]
     },
     "metadata": {},
     "output_type": "display_data"
    },
    {
     "data": {
      "application/vnd.jupyter.widget-view+json": {
       "model_id": "",
       "version_major": 2,
       "version_minor": 0
      },
      "text/plain": [
       "Epoch:   0%|          | 0/1000 [00:00<?, ?it/s]"
      ]
     },
     "metadata": {},
     "output_type": "display_data"
    },
    {
     "data": {
      "application/vnd.jupyter.widget-view+json": {
       "model_id": "",
       "version_major": 2,
       "version_minor": 0
      },
      "text/plain": [
       "Epoch:   0%|          | 0/1000 [00:00<?, ?it/s]"
      ]
     },
     "metadata": {},
     "output_type": "display_data"
    },
    {
     "data": {
      "application/vnd.jupyter.widget-view+json": {
       "model_id": "",
       "version_major": 2,
       "version_minor": 0
      },
      "text/plain": [
       "Epoch:   0%|          | 0/1000 [00:00<?, ?it/s]"
      ]
     },
     "metadata": {},
     "output_type": "display_data"
    },
    {
     "data": {
      "application/vnd.jupyter.widget-view+json": {
       "model_id": "",
       "version_major": 2,
       "version_minor": 0
      },
      "text/plain": [
       "Epoch:   0%|          | 0/1000 [00:00<?, ?it/s]"
      ]
     },
     "metadata": {},
     "output_type": "display_data"
    },
    {
     "data": {
      "application/vnd.jupyter.widget-view+json": {
       "model_id": "",
       "version_major": 2,
       "version_minor": 0
      },
      "text/plain": [
       "Epoch:   0%|          | 0/1000 [00:00<?, ?it/s]"
      ]
     },
     "metadata": {},
     "output_type": "display_data"
    }
   ],
   "source": [
    "from src.model import NullModel\n",
    "\n",
    "# input_shape = nycgraph['footprint'].x.shape[1]\n",
    "nullmodel = NullModel(\n",
    "    layers = config['linear_layers'],\n",
    "    input_shape = config['input_shape'],\n",
    "    hidden_channels = config['hidden_channels']\n",
    ").to(device)\n",
    "\n",
    "default_nullmodelstate = copy.deepcopy(nullmodel.state_dict())\n",
    "null_training_tensor, null_validation_tensor = crossvalidation(\n",
    "    nullmodel,\n",
    "    lambda: nullmodel(g1['footprint'].x),\n",
    "    nyc_cvs,\n",
    "    g1['footprint'].y,\n",
    "    epochs = config['epochs'],\n",
    "    custom_optimizer = config['custom_optimizer'],\n",
    "    lr = config['lr'],\n",
    "    config = config,\n",
    "    log_model = False\n",
    ")"
   ]
  },
  {
   "cell_type": "code",
   "execution_count": 66,
   "id": "5cd834ae",
   "metadata": {
    "ExecuteTime": {
     "end_time": "2023-03-08T23:22:36.199950Z",
     "start_time": "2023-03-08T23:22:36.158633Z"
    },
    "tags": []
   },
   "outputs": [
    {
     "name": "stderr",
     "output_type": "stream",
     "text": [
      "/home/thomas/miniconda3/envs/dbr/lib/python3.9/site-packages/torch_geometric/nn/conv/hetero_conv.py:58: UserWarning: There exist node types ({'pano'}) whose representations do not get updated during message passing as they do not occur as destination type in any edge type. This may lead to unexpected behaviour.\n",
      "  warnings.warn(\n"
     ]
    }
   ],
   "source": [
    "from src.model import CustomGAT\n",
    "\n",
    "model = CustomGAT(\n",
    "    hidden_channels = config['hidden_channels'], \n",
    "    out_channels=4,\n",
    "    layers=1,\n",
    "    heads=4,\n",
    "    linear_layers = config['linear_layers'],\n",
    "    input_shape = config['input_shape'],\n",
    "    dropout = config['dropout']\n",
    ").to(device)\n",
    "\n",
    "default_modelstate = copy.deepcopy(model.state_dict())"
   ]
  },
  {
   "cell_type": "code",
   "execution_count": null,
   "id": "965a56e1",
   "metadata": {
    "ExecuteTime": {
     "end_time": "2023-03-08T23:33:51.603498Z",
     "start_time": "2023-03-08T23:23:16.209628Z"
    },
    "tags": []
   },
   "outputs": [
    {
     "data": {
      "application/vnd.jupyter.widget-view+json": {
       "model_id": "00d242c1f2884fc6adbda735d411a00f",
       "version_major": 2,
       "version_minor": 0
      },
      "text/plain": [
       "CV Loop:   0%|          | 0/8 [00:00<?, ?it/s]"
      ]
     },
     "metadata": {},
     "output_type": "display_data"
    },
    {
     "data": {
      "application/vnd.jupyter.widget-view+json": {
       "model_id": "666e4cf8316345f29899895a856ec1eb",
       "version_major": 2,
       "version_minor": 0
      },
      "text/plain": [
       "Epoch:   0%|          | 0/1000 [00:00<?, ?it/s]"
      ]
     },
     "metadata": {},
     "output_type": "display_data"
    }
   ],
   "source": [
    "graph_training_tensor, graph_validation_tensor = crossvalidation(\n",
    "    model,\n",
    "    lambda: model(g1.x_dict, g1.edge_index_dict),\n",
    "    nyc_cvs,\n",
    "    g1['footprint'].y,\n",
    "    epochs = config['epochs'],\n",
    "    custom_optimizer = config['custom_optimizer'],\n",
    "    lr = config['lr'],\n",
    "    config = config,\n",
    "    log_model = False\n",
    ")"
   ]
  },
  {
   "cell_type": "code",
   "execution_count": null,
   "id": "31734217-c8e6-4ca2-8503-1329197333fc",
   "metadata": {
    "tags": []
   },
   "outputs": [],
   "source": [
    "g1a['footprints'].describe()"
   ]
  },
  {
   "cell_type": "code",
   "execution_count": null,
   "id": "1b9b63ac-19ed-473c-8c7b-fd5adcda2c13",
   "metadata": {
    "tags": []
   },
   "outputs": [],
   "source": [
    "# g1a['footprints'].explore('energy', control_scale=True)"
   ]
  },
  {
   "cell_type": "code",
   "execution_count": null,
   "id": "95219e79-4d0c-45fd-9446-a831cf839cef",
   "metadata": {
    "tags": []
   },
   "outputs": [],
   "source": [
    "null_mean_tl = null_training_tensor.mean(axis=0)\n",
    "null_mean_vl = null_validation_tensor.mean(axis=0)"
   ]
  },
  {
   "cell_type": "code",
   "execution_count": null,
   "id": "34538a88",
   "metadata": {
    "ExecuteTime": {
     "end_time": "2023-03-08T23:33:54.105025Z",
     "start_time": "2023-03-08T23:33:54.023458Z"
    },
    "tags": []
   },
   "outputs": [],
   "source": [
    "mean_tl = graph_training_tensor.mean(axis=0)\n",
    "std_tl = graph_training_tensor.std(axis=0)\n",
    "\n",
    "mean_vl = graph_validation_tensor.mean(axis=0)\n",
    "std_vl = graph_validation_tensor.std(axis=0)\n",
    "\n",
    "# plt.plot(mean_tl, label=\"Graph Training\")\n",
    "# plt.plot(mean_vl, label=\"Graph Validation\")\n",
    "# plt.legend()\n",
    "\n",
    "# plt.yscale(\"log\")\n",
    "# plt.ylim((0.55,0.65))\n",
    "\n",
    "# plt.show()"
   ]
  },
  {
   "cell_type": "code",
   "execution_count": null,
   "id": "12683b0d",
   "metadata": {
    "ExecuteTime": {
     "end_time": "2023-03-08T23:34:08.343943Z",
     "start_time": "2023-03-08T23:34:07.868646Z"
    },
    "tags": []
   },
   "outputs": [],
   "source": [
    "domain = np.arange(0, config['epochs'])\n",
    "plt.figure(figsize=(6, 6), dpi=100)\n",
    "\n",
    "# plt.plot(domain, mean_tl, label=\"Training\")\n",
    "plt.plot(domain, mean_vl, label=\"Validation\", color=\"lightblue\")\n",
    "# plt.fill_between(domain, mean_vl + std_vl, mean_vl - std_vl, alpha=0.1)\n",
    "\n",
    "# plt.plot(domain, null_mean_tl, label=\"Null Training\", color=\"indianred\", linestyle='dashed')\n",
    "plt.plot(domain, null_mean_vl, label=\"Null Validation\", color=\"salmon\", linestyle='dashed')\n",
    "\n",
    "plt.hlines(valmean[0], min(domain), max(domain), color='pink', label=\"linear regression\")\n",
    "\n",
    "plt.title(f\"Loss Function with Training - lr: {config['lr']}\")\n",
    "\n",
    "plt.xlabel(\"Epoch\")\n",
    "plt.ylabel(\"Training Loss - MSE\")\n",
    "plt.legend()\n",
    "\n",
    "plt.yscale(\"log\")\n",
    "plt.ylim((0.6,0.7))\n",
    "\n",
    "plt.savefig(os.path.join(results_dir, 'model_comparison.png'), bbox_inches=\"tight\")\n",
    "plt.show()"
   ]
  },
  {
   "cell_type": "code",
   "execution_count": null,
   "id": "5c371f5d",
   "metadata": {
    "ExecuteTime": {
     "end_time": "2023-03-08T23:34:37.445779Z",
     "start_time": "2023-03-08T23:34:37.426972Z"
    },
    "tags": []
   },
   "outputs": [],
   "source": [
    "graph_improvement = (min(mean_vl) - min(null_mean_vl)) / min(null_mean_vl)\n",
    "print(\"Improvement from Context: {:0.2f}%\".format(100*graph_improvement))"
   ]
  },
  {
   "cell_type": "code",
   "execution_count": null,
   "id": "2ea2eea1",
   "metadata": {
    "ExecuteTime": {
     "end_time": "2023-03-08T08:24:03.187722Z",
     "start_time": "2023-03-08T08:24:03.142676Z"
    }
   },
   "outputs": [],
   "source": [
    "# now examining how this may generalize\n",
    "model.eval()\n",
    "nullmodel.eval()\n",
    "with torch.no_grad():\n",
    "    print(\"New York City\")\n",
    "    testidx = (~g1a['training_mask']).detach().cpu().numpy()\n",
    "    # rebuilding_idx = np.array(g1a['rebuild_idx'])\n",
    "\n",
    "    linear_predictions = reg.predict(g1['footprint'].x.cpu().numpy())[testidx]\n",
    "    null_predictions = nullmodel(g1['footprint'].x).squeeze()[testidx]\n",
    "    estimates = model(g1.x_dict, g1.edge_index_dict).squeeze().detach()[testidx]\n",
    "    recorded = g1['footprint'].y[testidx]\n",
    "\n",
    "    linear_loss = loss_func(torch.tensor(linear_predictions).to(device), recorded)\n",
    "    null_loss = loss_func(null_predictions, recorded)\n",
    "    graph_loss = loss_func(estimates, recorded)\n",
    "    \n",
    "    print(\"Linear Loss:\\t{:0.3f}\".format(linear_loss))\n",
    "    print(\"Null Loss:\\t{:0.3f}\".format(null_loss))\n",
    "    print(\"Graph Loss:\\t{:0.3f}\".format(graph_loss))\n",
    "    print(\"Improvement:\\t{:0.3f}\".format(100 * (graph_loss - null_loss)/null_loss))"
   ]
  },
  {
   "cell_type": "code",
   "execution_count": null,
   "id": "98ece04b-44b5-41b7-bb40-c383963b2b65",
   "metadata": {},
   "outputs": [],
   "source": [
    "linmae = torch.abs(torch.exp(recorded) - torch.tensor(np.exp(linear_predictions)).to(device))\n",
    "nullmae = torch.abs(torch.exp(recorded) - torch.exp(null_predictions))\n",
    "graphmae = torch.abs(torch.exp(recorded) - torch.exp(estimates))"
   ]
  },
  {
   "cell_type": "code",
   "execution_count": null,
   "id": "fd4acea6-f570-4bfc-8f7d-61ec50958ef5",
   "metadata": {
    "tags": []
   },
   "outputs": [],
   "source": [
    "def relative_benefit(errors, threshold):\n",
    "    count_pass = (errors <= threshold).sum()\n",
    "    return float(100 * (count_pass / len(errors)))"
   ]
  },
  {
   "cell_type": "code",
   "execution_count": null,
   "id": "3c3312f5-5c74-46bd-b9b6-7989b4c1c03b",
   "metadata": {
    "tags": []
   },
   "outputs": [],
   "source": [
    "threshold = 100\n",
    "\n",
    "print(f\"Linear Benefit:\\t\\t{relative_benefit(linmae, threshold):0.2f}\")\n",
    "print(f\"Null Benefit:\\t\\t{relative_benefit(nullmae, threshold):0.2f}\")\n",
    "print(f\"Graph Benefit:\\t\\t{relative_benefit(graphmae, threshold):0.2f}\")"
   ]
  },
  {
   "cell_type": "code",
   "execution_count": null,
   "id": "08ae443c-6fd4-4f38-bc74-df54d5309354",
   "metadata": {},
   "outputs": [],
   "source": [
    "tcorp = pool_adjacency(g1, g1a).reset_index(drop=True)\n",
    "# tcorp"
   ]
  },
  {
   "cell_type": "code",
   "execution_count": null,
   "id": "6f5641a4-524c-460f-8c8d-a83778a9a2ab",
   "metadata": {
    "tags": []
   },
   "outputs": [],
   "source": [
    "ESC_CHAR"
   ]
  },
  {
   "cell_type": "code",
   "execution_count": null,
   "id": "0f4cad8f-dc01-4b3b-b3d8-3c8a3558d915",
   "metadata": {},
   "outputs": [],
   "source": [
    "## this is now the segment where we explore the utility of various datasets with increasing distance from the model\n",
    "from sklearn.linear_model import LinearRegression\n",
    "from sklearn.linear_model import ElasticNet\n",
    "from sklearn.ensemble import RandomForestRegressor\n",
    "from tqdm import tqdm_notebook\n",
    "\n",
    "m1a = []\n",
    "m2a = []\n",
    "m3a = []\n",
    "m4a = []\n",
    "m5a = []\n",
    "m6a = []\n",
    "\n",
    "m1l = []\n",
    "m2l = []\n",
    "m3l = []\n",
    "m4l = []\n",
    "m5l = []\n",
    "m6l = []\n",
    "\n",
    "linearmodel = ElasticNet()\n",
    "tree = RandomForestRegressor(max_depth = 1, min_samples_leaf=10, n_estimators = 500, random_state = 1, n_jobs = -1)\n",
    "\n",
    "# starting graph, which defines the test and train ids\n",
    "g1, g1a = graph(\n",
    "    \"new-york\",\n",
    "    neighbor_radius=config['neighbor_radius'],\n",
    "    building_buffer=config['building_buffer'],\n",
    "    test_percent=config['test-percent']\n",
    ")\n",
    "trainids, testids = build_corpus(g1, g1a)\n",
    "\n",
    "for distance in tqdm_notebook(distances):\n",
    "    g1, g1a = graph(\n",
    "        \"new-york\",\n",
    "        neighbor_radius=config['neighbor_radius'],\n",
    "        building_buffer=distance,\n",
    "        test_percent=config['test-percent']\n",
    "    )\n",
    "    tcorp = pool_adjacency(g1, g1a).reset_index(drop=True)\n",
    "    \n",
    "    m1_terms = [\"id\",\"geometry\",\"energy\",\"year\",\"area\"]\n",
    "    losses, abslosses = custom_cv(linearmodel, tcorp[m1_terms], trainids, testids)\n",
    "    m1_rmse = np.mean(losses)\n",
    "    m1_mae = np.mean(abslosses)\n",
    "    m1a.append(m1_mae)\n",
    "    m1l.append(m1_rmse)\n",
    "\n",
    "    m2_terms = [\"id\",\"geometry\",\"energy\",\"year\",\"area\",\"hdd\",\"cdd\"]\n",
    "    losses, abslosses = custom_cv(linearmodel, tcorp[m2_terms], trainids, testids)\n",
    "    m2_rmse = np.mean(losses)\n",
    "    m2_mae = np.mean(abslosses)\n",
    "    m2a.append(m2_mae)\n",
    "    m2l.append(m2_rmse)\n",
    "\n",
    "    losses, abslosses = custom_cv(linearmodel, tcorp, trainids, testids)\n",
    "    m3_rmse = np.mean(losses)\n",
    "    m3_mae = np.mean(abslosses)\n",
    "    m3a.append(m3_mae)\n",
    "    m3l.append(m3_rmse)\n",
    "\n",
    "    m4_terms = [\"id\",\"geometry\",\"energy\",\"year\",\"area\"]\n",
    "    losses, abslosses = custom_cv(tree, tcorp[m4_terms], trainids, testids)\n",
    "    m4_rmse = np.mean(losses)\n",
    "    m4_mae = np.mean(abslosses)\n",
    "    m4a.append(m4_mae)\n",
    "    m4l.append(m4_rmse)\n",
    "\n",
    "    m5_terms = [\"id\",\"geometry\",\"energy\",\"year\",\"area\",\"hdd\",\"cdd\"]\n",
    "    losserandom_state, abslosses = custom_cv(tree, tcorp[m5_terms], trainids, testids)\n",
    "    m5_rmse = np.mean(losses)\n",
    "    m5_mae = np.mean(abslosses)\n",
    "    m5a.append(m5_mae)\n",
    "    m5l.append(m5_rmse)\n",
    "\n",
    "    losses, abslosses = custom_cv(tree, tcorp, trainids, testids)\n",
    "    m6_rmse = np.mean(losses)\n",
    "    m6_mae = np.mean(abslosses)\n",
    "    m6a.append(m6_mae)\n",
    "    m6l.append(m6_rmse)"
   ]
  },
  {
   "cell_type": "code",
   "execution_count": null,
   "id": "4af3ce35-7f1b-4f26-9669-2009791ccb7c",
   "metadata": {
    "tags": []
   },
   "outputs": [],
   "source": [
    "n1a = []\n",
    "n2a = []\n",
    "n3a = []\n",
    "\n",
    "n1l = []\n",
    "n2l = []\n",
    "n3l = []\n",
    "\n",
    "# starting graph, which defines the test and train ids\n",
    "g2, g2a = graph(\n",
    "    \"san-francisco\",\n",
    "    neighbor_radius=config['neighbor_radius'],\n",
    "    building_buffer=config['building_buffer'],\n",
    "    test_percent=config['test-percent']\n",
    ")\n",
    "trainids, testids = build_corpus(g2, g2a)\n",
    "\n",
    "for distance in tqdm_notebook(distances):\n",
    "    g2, g2a = graph(\n",
    "        \"san-francisco\",\n",
    "        neighbor_radius=config['neighbor_radius'],\n",
    "        building_buffer=distance,\n",
    "        test_percent=config['test-percent']\n",
    "    )\n",
    "    tcorp = pool_adjacency(g2, g2a).reset_index(drop=True)\n",
    "    \n",
    "    m1_terms = [\"id\",\"geometry\",\"energy\",\"year\",\"area\"]\n",
    "    losses, abslosses = custom_cv(linearmodel, tcorp[m1_terms], trainids, testids)\n",
    "    m1_rmse = np.mean(losses)\n",
    "    m1_mae = np.mean(abslosses)\n",
    "    n1a.append(m1_mae)\n",
    "    n1l.append(m1_rmse)\n",
    "\n",
    "    m2_terms = [\"id\",\"geometry\",\"energy\",\"year\",\"area\",\"hdd\",\"cdd\"]\n",
    "    losses, abslosses = custom_cv(linearmodel, tcorp[m2_terms], trainids, testids)\n",
    "    m2_rmse = np.mean(losses)\n",
    "    m2_mae = np.mean(abslosses)\n",
    "    n2a.append(m2_mae)\n",
    "    n2l.append(m2_rmse)\n",
    "\n",
    "    losses, abslosses = custom_cv(linearmodel, tcorp, trainids, testids)\n",
    "    m3_rmse = np.mean(losses)\n",
    "    m3_mae = np.mean(abslosses)\n",
    "    n3a.append(m3_mae)\n",
    "    n3l.append(m3_rmse)"
   ]
  },
  {
   "cell_type": "code",
   "execution_count": null,
   "id": "0d976615-a8fd-4f8c-98d9-580666b1c5af",
   "metadata": {
    "tags": []
   },
   "outputs": [],
   "source": [
    "o1a = []\n",
    "o2a = []\n",
    "o3a = []\n",
    "\n",
    "o1l = []\n",
    "o2l = []\n",
    "o3l = []\n",
    "\n",
    "# starting graph, which defines the test and train ids\n",
    "g3, g3a = graph(\n",
    "    \"austin\",\n",
    "    neighbor_radius=config['neighbor_radius'],\n",
    "    building_buffer=config['building_buffer'],\n",
    "    test_percent=config['test-percent']\n",
    ")\n",
    "trainids, testids = build_corpus(g3, g3a)\n",
    "\n",
    "for distance in tqdm_notebook(distances):\n",
    "    g3, g3a = graph(\n",
    "        \"austin\",\n",
    "        neighbor_radius=config['neighbor_radius'],\n",
    "        building_buffer=distance,\n",
    "        test_percent=config['test-percent']\n",
    "    )\n",
    "    tcorp = pool_adjacency(g3, g3a).reset_index(drop=True)\n",
    "    \n",
    "    m1_terms = [\"id\",\"geometry\",\"energy\",\"year\",\"area\"]\n",
    "    losses, abslosses = custom_cv(linearmodel, tcorp[m1_terms], trainids, testids)\n",
    "    m1_rmse = np.mean(losses)\n",
    "    m1_mae = np.mean(abslosses)\n",
    "    o1a.append(m1_mae)\n",
    "    o1l.append(m1_rmse)\n",
    "\n",
    "    m2_terms = [\"id\",\"geometry\",\"energy\",\"year\",\"area\",\"hdd\",\"cdd\"]\n",
    "    losses, abslosses = custom_cv(linearmodel, tcorp[m2_terms], trainids, testids)\n",
    "    m2_rmse = np.mean(losses)\n",
    "    m2_mae = np.mean(abslosses)\n",
    "    o2a.append(m2_mae)\n",
    "    o2l.append(m2_rmse)\n",
    "\n",
    "    losses, abslosses = custom_cv(linearmodel, tcorp, trainids, testids)\n",
    "    m3_rmse = np.mean(losses)\n",
    "    m3_mae = np.mean(abslosses)\n",
    "    o3a.append(m3_mae)\n",
    "    o3l.append(m3_rmse)"
   ]
  },
  {
   "cell_type": "code",
   "execution_count": null,
   "id": "8148479c-e8e5-4c08-8350-e3aa2bcdac3b",
   "metadata": {
    "tags": []
   },
   "outputs": [],
   "source": [
    "import matplotlib as mpl\n",
    "plt.style.use('fivethirtyeight')"
   ]
  },
  {
   "cell_type": "code",
   "execution_count": null,
   "id": "a311c15e-e16a-4f71-bda4-168b689dd2b1",
   "metadata": {
    "tags": []
   },
   "outputs": [],
   "source": [
    "import scipy.optimize\n",
    "def parabola(x, a, b, c, d):\n",
    "    return a*x**3 + b*x**2 + c*x + d"
   ]
  },
  {
   "cell_type": "code",
   "execution_count": null,
   "id": "f37d8897-6d3e-4711-9dd1-0150ed2c1246",
   "metadata": {
    "tags": []
   },
   "outputs": [],
   "source": [
    "fit_params, pcov = scipy.optimize.curve_fit(parabola, distances, m3l)\n",
    "\n",
    "y_fit = parabola(distances, *fit_params)"
   ]
  },
  {
   "cell_type": "code",
   "execution_count": null,
   "id": "a1353fef-e5b7-43f8-811d-64f2ff9728e8",
   "metadata": {
    "tags": []
   },
   "outputs": [],
   "source": [
    "# plt.scatter(training_corpus\n",
    "from csaps import csaps\n",
    "from scipy.interpolate import splrep, BSpline\n",
    "\n",
    "s = 0.0001\n",
    "# m1s = splrep(distances, np.array(m1l), s=s)\n",
    "# m2s = splrep(distances, np.array(m2l), s=s)\n",
    "# m3s = splrep(distances, np.array(m3l), s=s)\n",
    "# m4s = splrep(distances, np.array(m4l), s=s)\n",
    "# m5s = splrep(distances, np.array(m5l), s=s)\n",
    "# m6s = splrep(distances, np.array(m6l), s=s)\n",
    "# Create subplots with shared x-axis\n",
    "\n",
    "fig, (ax1, ax2, ax3) = plt.subplots(3, 1, sharex=True, dpi=300, figsize=(8,15))\n",
    "fig.patch.set_facecolor('white')\n",
    "\n",
    "ax1.set_facecolor('white')\n",
    "ax2.set_facecolor('white')\n",
    "ax3.set_facecolor('white')\n",
    "\n",
    "# ax.set_color_cycle(sns.color_palette(\"coolwarm_r\",6))\n",
    "\n",
    "alpha = 0.2\n",
    "\n",
    "# plt.scatter(distances, m4l, alpha=alpha)\n",
    "# plt.scatter(distances, m5l, alpha=alpha)\n",
    "# plt.scatter(distances, m6l, alpha=alpha)\n",
    "\n",
    "newdist = np.linspace(distances[0], distances[-1], 300)\n",
    "fit_params, pcov = scipy.optimize.curve_fit(parabola, distances, m3l)\n",
    "m_fit = parabola(newdist, *fit_params)\n",
    "\n",
    "nfit_params, pcov = scipy.optimize.curve_fit(parabola, distances, n3l)\n",
    "n_fit = parabola(newdist, *nfit_params)\n",
    "\n",
    "ofit_params, pcov = scipy.optimize.curve_fit(parabola, distances, o3l)\n",
    "o_fit = parabola(newdist, *ofit_params)\n",
    "\n",
    "ax1.set_title(\"Building Buffer vs. RMSE - New York City\")\n",
    "ax1.scatter(distances, m1l, alpha=0)\n",
    "ax1.scatter(distances, m2l, alpha=0)\n",
    "ax1.scatter(distances, m3l, alpha=alpha)\n",
    "\n",
    "ax1.plot(newdist, csaps(distances, m1l, newdist, smooth=s), label=\"M1\")\n",
    "ax1.plot(newdist, csaps(distances, m2l, newdist, smooth=s), label=\"M2\")\n",
    "ax1.plot(newdist, m_fit, label=\"M3\")\n",
    "\n",
    "ax1.set_ylabel('RMSE')\n",
    "\n",
    "ax2.scatter(distances, n1l, alpha=0)\n",
    "ax2.scatter(distances, n2l, alpha=0)\n",
    "ax2.scatter(distances, n3l, alpha=alpha)\n",
    "\n",
    "ax2.plot(newdist, csaps(distances, n1l, newdist, smooth=s), label=\"M1\")\n",
    "ax2.plot(newdist, csaps(distances, n2l, newdist, smooth=s), label=\"M2\")\n",
    "ax2.plot(newdist, n_fit, label=\"M3\")\n",
    "\n",
    "ax2.set_ylabel('RMSE')\n",
    "\n",
    "ax3.scatter(distances, o1l, alpha=0)\n",
    "ax3.scatter(distances, o2l, alpha=0)\n",
    "ax3.scatter(distances, o3l, alpha=alpha)\n",
    "\n",
    "ax3.plot(newdist, csaps(distances, o1l, newdist, smooth=s), label=\"M1\")\n",
    "ax3.plot(newdist, csaps(distances, o2l, newdist, smooth=s), label=\"M2\")\n",
    "ax3.plot(newdist, o_fit, label=\"M3\")\n",
    "\n",
    "ax3.set_ylabel('RMSE')\n",
    "\n",
    "# plt.plot(newdist, csaps(distances, m4l, newdist, smooth=s), label=\"M4\")\n",
    "# plt.plot(newdist, csaps(distances, m5l, newdist, smooth=s), label=\"M5\")\n",
    "# plt.plot(newdist, csaps(distances, m6l, newdist, smooth=s), label=\"M6\")\n",
    "\n",
    "ax3.set_xlabel(\"Building Buffer (m)\")\n",
    "\n",
    "# plt.title(\"Building Buffer vs. RMSE - New York City\")\n",
    "# plt.ticklabel_format(axis='y', style='sci', scilimits=(4,4))\n",
    "plt.xticks(np.linspace(distances.min(), distances.max(), 8))\n",
    "\n",
    "ax1.legend(loc=\"upper right\")\n",
    "\n",
    "ax1.set_title('New York City')\n",
    "ax2.set_title('San Francisco')\n",
    "ax3.set_title('Austin')\n",
    "\n",
    "plt.savefig(os.path.join(results_dir, \"contextual_significance.png\"), transparent=True, bbox_inches=\"tight\")\n",
    "plt.show()"
   ]
  },
  {
   "cell_type": "code",
   "execution_count": null,
   "id": "d3ebabde-f356-4ead-87da-a774478dc115",
   "metadata": {
    "tags": []
   },
   "outputs": [],
   "source": [
    "fig, ax = plt.subplots(figsize=(8,5), dpi=400)\n",
    "fig.patch.set_facecolor('white')\n",
    "\n",
    "ax.set_facecolor('white')\n",
    "# plt.plot(domain, mean_tl, label=\"Training\")\n",
    "plt.plot(domain, mean_vl, label=\"Validation\", color=\"lightblue\")\n",
    "# plt.fill_between(domain, mean_vl + std_vl, mean_vl - std_vl, alpha=0.1)\n",
    "\n",
    "# plt.plot(domain, null_mean_tl, label=\"Null Training\", color=\"indianred\", linestyle='dashed')\n",
    "plt.plot(domain, null_mean_vl, label=\"Null Validation\", color=\"salmon\", linestyle='dashed')\n",
    "\n",
    "plt.hlines(valmean[0], min(domain), max(domain), color='pink', label=\"linear regression\")\n",
    "\n",
    "plt.title(f\"Loss Function with Training - lr: {config['lr']}\")\n",
    "\n",
    "plt.xlabel(\"Epoch\")\n",
    "plt.ylabel(\"Training Loss - MSE\")\n",
    "plt.legend()\n",
    "\n",
    "plt.yscale(\"log\")\n",
    "plt.ylim((0.58,0.62))\n",
    "\n",
    "plt.savefig(os.path.join(results_dir, 'model_comparison.png'), bbox_inches=\"tight\", transparent=True)\n",
    "plt.show()"
   ]
  },
  {
   "cell_type": "code",
   "execution_count": null,
   "id": "a70287e0-eb22-4ec6-8a1d-bece283395ec",
   "metadata": {
    "tags": []
   },
   "outputs": [],
   "source": [
    "# plt.scatter(training_corpus\n",
    "from csaps import csaps\n",
    "from scipy.interpolate import splrep, BSpline\n",
    "\n",
    "s = 0.001\n",
    "# m1s = splrep(distances, np.array(m1l), s=s)\n",
    "# m2s = splrep(distances, np.array(m2l), s=s)\n",
    "# m3s = splrep(distances, np.array(m3l), s=s)\n",
    "# m4s = splrep(distances, np.array(m4l), s=s)\n",
    "# m5s = splrep(distances, np.array(m5l), s=s)\n",
    "# m6s = splrep(distances, np.array(m6l), s=s)\n",
    "\n",
    "fig, ax = plt.subplots(figsize=(8,5), dpi=400)\n",
    "fig.patch.set_facecolor('white')\n",
    "ax.set_facecolor('white')\n",
    "\n",
    "# plt.yscale(\"log\")\n",
    "\n",
    "alpha = 0.2\n",
    "\n",
    "# plt.scatter(distances, m1a, alpha=alpha)\n",
    "# plt.scatter(distances, m2a, alpha=alpha)\n",
    "# plt.scatter(distances, m3a, alpha=alpha)\n",
    "plt.scatter(distances, m4a, alpha=alpha)\n",
    "plt.scatter(distances, m5a, alpha=alpha)\n",
    "plt.scatter(distances, m6a, alpha=alpha)\n",
    "\n",
    "newdist = np.linspace(distances[0], distances[-1], 300)\n",
    "# plt.plot(newdist, csaps(distances, m1a, newdist, smooth=s), label=\"M1\")\n",
    "# plt.plot(newdist, csaps(distances, m2a, newdist, smooth=s), label=\"M2\")\n",
    "# plt.plot(newdist, csaps(distances, m3a, newdist, smooth=s), label=\"M3\")\n",
    "plt.plot(newdist, csaps(distances, m4a, newdist, smooth=s), label=\"M4\")\n",
    "plt.plot(newdist, csaps(distances, m5a, newdist, smooth=s), label=\"M5\")\n",
    "plt.plot(newdist, csaps(distances, m6a, newdist, smooth=s), label=\"M6\")\n",
    "\n",
    "plt.ylabel(\"MAE\")\n",
    "plt.xlabel(\"Building Buffer (m)\")\n",
    "\n",
    "plt.title(\"Building Buffer vs. MAE - New York City\")\n",
    "plt.ticklabel_format(axis='y', style='sci', scilimits=(2,4))\n",
    "plt.xticks(np.linspace(distances.min(), distances.max(), 8))\n",
    "\n",
    "plt.legend(loc=\"upper right\")\n",
    "plt.savefig(os.path.join(results_dir, \"contextual_significance_mae.png\"))\n",
    "plt.show()"
   ]
  },
  {
   "cell_type": "code",
   "execution_count": null,
   "id": "97b1c1cb-09de-43eb-8ec3-eb89f3a9e521",
   "metadata": {},
   "outputs": [],
   "source": []
  },
  {
   "cell_type": "code",
   "execution_count": null,
   "id": "fb83b191",
   "metadata": {
    "ExecuteTime": {
     "end_time": "2023-03-08T23:34:06.698440Z",
     "start_time": "2023-03-08T23:34:06.681676Z"
    },
    "tags": []
   },
   "outputs": [],
   "source": [
    "nycfootprints = g1a['footprints']\n",
    "nycfootprints['logenergy'] = np.log(nycfootprints.energy)\n",
    "\n",
    "# nycfootprints.explore('logenergy')"
   ]
  },
  {
   "cell_type": "code",
   "execution_count": null,
   "id": "71626db0",
   "metadata": {
    "ExecuteTime": {
     "end_time": "2023-03-08T08:19:20.510053Z",
     "start_time": "2023-03-08T08:19:20.484974Z"
    }
   },
   "outputs": [],
   "source": [
    "torch.exp(null_predictions)"
   ]
  },
  {
   "cell_type": "code",
   "execution_count": null,
   "id": "49c0caee-fde9-4b5f-9889-a0edb916b1a7",
   "metadata": {
    "tags": []
   },
   "outputs": [],
   "source": [
    "testidx = (~g2a['training_mask']).detach().cpu().numpy()\n",
    "testidx"
   ]
  },
  {
   "cell_type": "code",
   "execution_count": null,
   "id": "b7f7a302-1470-4281-a4d5-95088439b302",
   "metadata": {
    "tags": []
   },
   "outputs": [],
   "source": [
    "rebuilding_idx = np.array(g2a['rebuild_idx'])"
   ]
  },
  {
   "cell_type": "code",
   "execution_count": null,
   "id": "a510ecee-252a-4a3e-834c-9e02f1bc7921",
   "metadata": {
    "tags": []
   },
   "outputs": [],
   "source": [
    "g1a['footprints']"
   ]
  },
  {
   "cell_type": "code",
   "execution_count": null,
   "id": "7bd8035f-9c24-475e-a12d-957d81dad36e",
   "metadata": {
    "tags": []
   },
   "outputs": [],
   "source": [
    "g1, g1a = graph(\n",
    "    \"new-york\",\n",
    "    neighbor_radius=150,\n",
    "    building_buffer=config['building_buffer'],\n",
    "    test_percent=config['test-percent']\n",
    ")\n",
    "g1a['footprints']['logenergy'] = np.log(g1a['footprints'].energy)\n",
    "\n",
    "g1p = pool_adjacency(g1, g1a)"
   ]
  },
  {
   "cell_type": "code",
   "execution_count": null,
   "id": "60c73e47-cc2a-410b-bb05-e19f701f0f01",
   "metadata": {
    "tags": []
   },
   "outputs": [],
   "source": [
    "## building these using generalization parameters from New York\n",
    "g2, g2a = graph(\n",
    "    \"san-francisco\",\n",
    "    neighbor_radius=150,\n",
    "    building_buffer=config['building_buffer'],\n",
    "    test_percent=config['test-percent'],\n",
    "    normalization=g1a['normalization']\n",
    ")\n",
    "g2a['footprints']['logenergy'] = np.log(g2a['footprints'].energy)\n",
    "g2p = pool_adjacency(g2, g2a)\n",
    "\n",
    "g3, g3a = graph(\n",
    "    \"austin\",\n",
    "    neighbor_radius=150,\n",
    "    building_buffer=config['building_buffer'],\n",
    "    test_percent=config['test-percent'],\n",
    "    normalization=g1a['normalization']\n",
    ")\n",
    "g3a['footprints']['logenergy'] = np.log(g3a['footprints'].energy)\n",
    "g3p = pool_adjacency(g3, g3a)"
   ]
  },
  {
   "cell_type": "code",
   "execution_count": null,
   "id": "951ea365-38d3-44a1-9f7b-62b0795a90c1",
   "metadata": {
    "tags": []
   },
   "outputs": [],
   "source": [
    "g1a.keys()"
   ]
  },
  {
   "cell_type": "code",
   "execution_count": null,
   "id": "3c9c35a6-258d-4e46-b4cb-696bd97a5b3d",
   "metadata": {
    "tags": []
   },
   "outputs": [],
   "source": [
    "g1a['footprints'].logenergy"
   ]
  },
  {
   "cell_type": "code",
   "execution_count": null,
   "id": "aedb11fc-ae72-4aed-8f6b-8fa98b4e0649",
   "metadata": {
    "tags": []
   },
   "outputs": [],
   "source": [
    "g1a['footprints']"
   ]
  },
  {
   "cell_type": "code",
   "execution_count": null,
   "id": "8ae29596-7505-4759-9c97-25c9578829a4",
   "metadata": {
    "tags": []
   },
   "outputs": [],
   "source": [
    "config"
   ]
  },
  {
   "cell_type": "code",
   "execution_count": null,
   "id": "8a4584b3-552f-46c2-a709-5565410d7979",
   "metadata": {
    "tags": []
   },
   "outputs": [],
   "source": [
    "from tqdm import tqdm_notebook\n",
    "\n",
    "## first want to load each of the models which will be trained on the entire dataset from the other city\n",
    "nullmodel.load_state_dict(default_nullmodelstate)\n",
    "nullmodel.to(device)\n",
    "nullmodel.train()\n",
    "    \n",
    "model.load_state_dict(default_modelstate)\n",
    "model.to(device)\n",
    "model.train()\n",
    "\n",
    "nulloptimizer = torch.optim.Adam(nullmodel.parameters(), lr = config['lr'])\n",
    "optimizer = torch.optim.Adam(model.parameters(), lr = config['lr'])\n",
    "\n",
    "set_epochs = 300\n",
    "\n",
    "for epoch in tqdm_notebook(range(set_epochs), desc=\"Model Epoch\", leave=False):\n",
    "    loss = 0\n",
    "    validation_loss = 0\n",
    "\n",
    "    out = model(g1.x_dict, g1.edge_index_dict)\n",
    "    out_ex = out.squeeze()\n",
    "\n",
    "    training_predictions = out_ex.to(torch.float).to(device)\n",
    "    training_values = torch.tensor(g1a['footprints'].logenergy).to(torch.float).to(device)\n",
    "\n",
    "    loss = loss_func(\n",
    "        training_predictions,\n",
    "        training_values\n",
    "    ).to(torch.float)\n",
    "    \n",
    "    if epoch % 100 == 0:\n",
    "        print(\"{} loss: {}\".format(epoch, loss))\n",
    "\n",
    "    optimizer.zero_grad()\n",
    "    loss.backward()\n",
    "    optimizer.step()\n",
    "    \n",
    "print(\"\")\n",
    "for epoch in tqdm_notebook(range(set_epochs), desc=\"NullModel Epoch\", leave=False):\n",
    "    loss = 0\n",
    "    validation_loss = 0\n",
    "\n",
    "    out = nullmodel(g1['footprint'].x)\n",
    "    out_ex = out.squeeze()\n",
    "\n",
    "    training_predictions = out_ex.to(torch.float).to(device)\n",
    "    training_values = torch.tensor(g1a['footprints'].logenergy).to(torch.float).to(device)\n",
    "\n",
    "    loss = loss_func(\n",
    "        training_predictions,\n",
    "        training_values\n",
    "    ).to(torch.float)\n",
    "    \n",
    "    if epoch % 100 == 0:\n",
    "        print(\"{} loss: {}\".format(epoch, loss))\n",
    "\n",
    "    nulloptimizer.zero_grad()\n",
    "    loss.backward()\n",
    "    nulloptimizer.step()\n",
    "    \n",
    "nystate_dict = model.state_dict()\n",
    "nullnystate_dict = nullmodel.state_dict()\n",
    "\n",
    "# training = training_corpus.loc[training_corpus.id.isin(i)]\n",
    "# testing = training_corpus.loc[training_corpus.id.isin(testids[c])]\n",
    "\n",
    "# X = np.array(training.drop(columns=[\"id\",\"geometry\",\"energy\",\"year\"]))\n",
    "# y = np.array(training[\"energy\"])\n",
    "# custom_model.fit(X,y)\n",
    "\n",
    "# Xt = np.array(testing.drop(columns=[\"id\",\"geometry\",\"energy\",\"year\"]))\n",
    "# yt = np.array(testing[\"energy\"])\n",
    "# yhat = custom_model.predict(Xt)"
   ]
  },
  {
   "cell_type": "code",
   "execution_count": null,
   "id": "1e19fa59-1a8b-4851-87f7-1a3ca7a671bb",
   "metadata": {
    "tags": []
   },
   "outputs": [],
   "source": [
    "g2['footprint'].y"
   ]
  },
  {
   "cell_type": "code",
   "execution_count": null,
   "id": "710adde5",
   "metadata": {
    "ExecuteTime": {
     "end_time": "2023-03-08T09:04:22.731848Z",
     "start_time": "2023-03-08T09:04:22.702944Z"
    }
   },
   "outputs": [],
   "source": [
    "# now examining how this may generalize\n",
    "model.eval()\n",
    "nullmodel.eval()\n",
    "\n",
    "with torch.no_grad():\n",
    "    print(\"San Fransisco\")\n",
    "    testidx = (~g2a['training_mask']).detach().cpu().numpy()\n",
    "    rebuilding_idx = np.array(g2a['rebuild_idx'])\n",
    "    null_predictions = nullmodel(g2['footprint'].x).squeeze()[testidx]\n",
    "    \n",
    "    linear_predictions = reg.predict(g2['footprint'].x.cpu().numpy())[testidx]\n",
    "    estimates = model(g2.x_dict, g2.edge_index_dict).squeeze().detach()[testidx]\n",
    "    recorded = g2['footprint'].y[testidx]\n",
    "\n",
    "    linear_loss = loss_func(torch.tensor(linear_predictions).to(device), recorded)\n",
    "    null_loss = loss_func(null_predictions, recorded)\n",
    "    graph_loss = loss_func(estimates, recorded)\n",
    "    print(\"Linear Loss:\\t{:0.2f}\".format(linear_loss))\n",
    "    print(\"Null Loss:\\t{:0.2f}\".format(null_loss))\n",
    "    print(\"Graph Loss:\\t{:0.2f}\".format(graph_loss))\n",
    "    print(\"Improvement:\\t{:0.2f}\".format(100 * (graph_loss - null_loss)/null_loss))"
   ]
  },
  {
   "cell_type": "code",
   "execution_count": null,
   "id": "1f31b39f",
   "metadata": {
    "ExecuteTime": {
     "end_time": "2023-03-08T08:17:44.505984Z",
     "start_time": "2023-03-08T08:17:44.465525Z"
    }
   },
   "outputs": [],
   "source": [
    "nullmodel.eval()\n",
    "model.eval()\n",
    "with torch.no_grad():\n",
    "    print(\"Austin Texas\")\n",
    "    testidx = (~g3a['training_mask']).detach().cpu().numpy()\n",
    "    rebuilding_idx = np.array(g3a['rebuild_idx'])\n",
    "    null_predictions = nullmodel(g3['footprint'].x).squeeze()[testidx]\n",
    "    \n",
    "    linear_predictions = reg.predict(g3['footprint'].x.cpu().numpy())[testidx]\n",
    "    \n",
    "    estimates = model(g3.x_dict, g3.edge_index_dict).squeeze().detach()[testidx]\n",
    "    recorded = g3['footprint'].y[testidx]\n",
    "    \n",
    "    linear_loss = loss_func(torch.tensor(linear_predictions).to(device), recorded)\n",
    "    null_loss = loss_func(null_predictions, recorded)\n",
    "    graph_loss = loss_func(estimates, recorded)\n",
    "    print(\"Linear Loss:\\t{:0.2f}\".format(linear_loss))\n",
    "    print(\"Null Loss:\\t{:0.2f}\".format(null_loss))\n",
    "    print(\"Graph Loss:\\t{:0.2f}\".format(graph_loss))\n",
    "    print(\"Improvement:\\t{:0.2f}\".format(100 * (graph_loss - null_loss)/null_loss))"
   ]
  },
  {
   "cell_type": "code",
   "execution_count": null,
   "id": "4d86dd70-aa61-4d6c-999c-e7428448308a",
   "metadata": {},
   "outputs": [],
   "source": [
    "linear"
   ]
  },
  {
   "cell_type": "code",
   "execution_count": null,
   "id": "118d07a6-937d-4c98-b29a-ce3b5568747c",
   "metadata": {
    "tags": []
   },
   "outputs": [],
   "source": [
    "optim = config['custom_optimizer']\n",
    "optim(model.parameters())"
   ]
  },
  {
   "cell_type": "code",
   "execution_count": null,
   "id": "34330c87-33fd-414a-9338-e26156023ee4",
   "metadata": {
    "tags": []
   },
   "outputs": [],
   "source": [
    "### I used the below cells to evaluate how many epochs to use for the final model"
   ]
  },
  {
   "cell_type": "code",
   "execution_count": null,
   "id": "25b2bfe2-580a-4c6b-9d41-4d6ea2672097",
   "metadata": {
    "tags": []
   },
   "outputs": [],
   "source": [
    "\n",
    "\n",
    "# model.load_state_dict(default_modelstate)\n",
    "# model.train()\n",
    "\n",
    "# trainmask = nyc_rebuild_info['training_mask']\n",
    "# testmask = (~nyc_rebuild_info['training_mask'])\n",
    "\n",
    "# rebuild_idx = np.array(nyc_rebuild_info['rebuild_idx'])\n",
    "\n",
    "# nystate_dict_origin, trainlosses, testlosses = trainer(\n",
    "#     model.to(device),\n",
    "#     lambda: model(nycgraph.x_dict, nycgraph.edge_index_dict),\n",
    "#     rebuild_idx,\n",
    "#     trainmask[rebuild_idx],\n",
    "#     testmask[rebuild_idx],\n",
    "#     recorded = nycgraph['footprint'].y,\n",
    "#     loss_func = loss_func,\n",
    "#     config = config\n",
    "# )\n",
    "\n",
    "# nystate_dict = copy.deepcopy(nystate_dict_origin)"
   ]
  },
  {
   "cell_type": "code",
   "execution_count": null,
   "id": "9d599c4b-5d08-4e65-a43d-69342ddad91f",
   "metadata": {
    "tags": []
   },
   "outputs": [],
   "source": [
    "# from src.trainer import trainer\n",
    "# from src.cv import reset_model\n",
    "\n",
    "# nullmodel.load_state_dict(default_nullmodelstate)\n",
    "\n",
    "# trainmask = nyc_rebuild_info['training_mask']\n",
    "# testmask = (~nyc_rebuild_info['training_mask'])\n",
    "\n",
    "# rebuild_idx = np.array(nyc_rebuild_info['rebuild_idx'])\n",
    "\n",
    "# nystate_dict_origin, trainlosses, testlosses = trainer(\n",
    "#     nullmodel.to(device),\n",
    "#     lambda: nullmodel(nycgraph['footprint'].x),\n",
    "#     rebuild_idx,\n",
    "#     trainmask[rebuild_idx],\n",
    "#     testmask[rebuild_idx],\n",
    "#     recorded = nycgraph['footprint'].y,\n",
    "#     loss_func = loss_func,\n",
    "#     config = config\n",
    "# )\n",
    "\n",
    "# nynull_state_dict = copy.deepcopy(nystate_dict_origin)"
   ]
  },
  {
   "cell_type": "code",
   "execution_count": null,
   "id": "d0a13776-7ffb-4610-ac0b-6e1f295d3325",
   "metadata": {
    "tags": []
   },
   "outputs": [],
   "source": [
    "# plt.plot(trainlosses, label=\"training\")\n",
    "# plt.plot(testlosses, label=\"testing\")\n",
    "\n",
    "# plt.legend()\n",
    "# plt.yscale(\"log\")\n",
    "\n",
    "# plt.show()"
   ]
  },
  {
   "cell_type": "code",
   "execution_count": null,
   "id": "04037ace-5028-463a-ba23-1dcf8f097331",
   "metadata": {
    "tags": []
   },
   "outputs": [],
   "source": [
    "ESPCHAR"
   ]
  },
  {
   "cell_type": "code",
   "execution_count": null,
   "id": "42b7720d-6e46-4485-8fbb-665601826acb",
   "metadata": {
    "tags": []
   },
   "outputs": [],
   "source": [
    "# # this is manually set based on the above graph^\n",
    "# from src.trainer import trainer\n",
    "\n",
    "# model.load_state_dict(default_modelstate)\n",
    "\n",
    "# trainmask = nyc_rebuild_info['training_mask']\n",
    "# testmask = (~nyc_rebuild_info['training_mask'])\n",
    "\n",
    "# trainmask = np.repeat([True], len(trainmask))\n",
    "# rebuild_idx = np.array(nyc_rebuild_info['rebuild_idx'])\n",
    "\n",
    "# nystate_dict_origin, trainlosses, testlosses = trainer(\n",
    "#     model.to(device),\n",
    "#     lambda: model(nycgraph.x_dict, nycgraph.edge_index_dict),\n",
    "#     rebuild_idx,\n",
    "#     trainmask[rebuild_idx],\n",
    "#     testmask[rebuild_idx],\n",
    "#     recorded = nycgraph['footprint'].y,\n",
    "#     loss_func = loss_func,\n",
    "#     config = config,\n",
    "#     fulldata = True\n",
    "# )\n",
    "\n",
    "# nystate_dict = copy.deepcopy(nystate_dict_origin)"
   ]
  },
  {
   "cell_type": "code",
   "execution_count": null,
   "id": "bdcccb10-7d7c-4cbb-ae3d-2a059f42a3b5",
   "metadata": {
    "tags": []
   },
   "outputs": [],
   "source": [
    "# nullmodel.train()\n",
    "# nullmodel.load_state_dict(default_nullmodelstate)\n",
    "\n",
    "# trainmask = nyc_rebuild_info['training_mask']\n",
    "# testmask = (~nyc_rebuild_info['training_mask'])\n",
    "\n",
    "# trainmask = np.repeat([True], len(trainmask))\n",
    "# rebuild_idx = np.array(nyc_rebuild_info['rebuild_idx'])\n",
    "\n",
    "# nystate_dict_origin, trainlosses, testlosses = trainer(\n",
    "#     nullmodel.to(device),\n",
    "#     lambda: nullmodel(nycgraph['footprint'].x),\n",
    "#     rebuild_idx,\n",
    "#     trainmask[rebuild_idx],\n",
    "#     testmask[rebuild_idx],\n",
    "#     recorded = nycgraph['footprint'].y,\n",
    "#     loss_func = loss_func,\n",
    "#     config = config,\n",
    "#     fulldata = True\n",
    "# )\n",
    "\n",
    "# nystate_nulldict = copy.deepcopy(nystate_dict_origin)"
   ]
  },
  {
   "cell_type": "code",
   "execution_count": null,
   "id": "4fa153d0-6daa-4165-888e-42a016eeec7a",
   "metadata": {
    "tags": []
   },
   "outputs": [],
   "source": [
    "np.vstack((nyX, sfgraph['footprint'].x[:50].cpu().detach())).shape"
   ]
  },
  {
   "cell_type": "code",
   "execution_count": null,
   "id": "9d85dc1e-23bf-4b4c-9faf-3d62f4977720",
   "metadata": {},
   "outputs": [],
   "source": [
    "### this is going to be the drip system, to understand how slow incorporation of data changes the prediction quality"
   ]
  },
  {
   "cell_type": "code",
   "execution_count": null,
   "id": "a53e0ff7-6756-4718-93f5-04419f5f55cd",
   "metadata": {
    "tags": []
   },
   "outputs": [],
   "source": [
    "nyY"
   ]
  },
  {
   "cell_type": "code",
   "execution_count": null,
   "id": "fefe31ff-6b5f-4e47-aeb6-9565a51a9640",
   "metadata": {
    "tags": []
   },
   "outputs": [],
   "source": [
    "150 * 30 * 52 * 40 / 1e6"
   ]
  },
  {
   "cell_type": "code",
   "execution_count": null,
   "id": "3fcb9dcc-394d-4a2c-aaea-526ca2399478",
   "metadata": {
    "tags": []
   },
   "outputs": [],
   "source": [
    "from tqdm import tqdm_notebook\n",
    "\n",
    "# now exploring how the model might generalize to SF\n",
    "sf_linearvalloss = []\n",
    "\n",
    "sf_valloss = []\n",
    "sf_nullvalloss = []\n",
    "\n",
    "config['epochs'] = 300\n",
    "\n",
    "for n_true in tqdm_notebook(range(100), leave=True):\n",
    "    model.load_state_dict(nystate_dict)\n",
    "    nullmodel.load_state_dict(nullnystate_dict)\n",
    "    \n",
    "    model.train()\n",
    "    nullmodel.train()\n",
    "\n",
    "    sf_trainmask = copy.deepcopy(g2a['training_mask'])\n",
    "    sf_testmask = copy.deepcopy((~g2a['training_mask']))\n",
    "\n",
    "    sf_to_false = np.where(sf_trainmask.cpu().numpy())[0]\n",
    "    sf_to_false\n",
    "\n",
    "    np.random.seed(1)\n",
    "    drip_idx = np.random.choice(sf_to_false, n_true, replace=False)\n",
    "\n",
    "    # this now just drips in a bit of the sf data\n",
    "    sf_trainmask = np.repeat([False], len(sf_trainmask))\n",
    "    sf_trainmask[drip_idx] = True\n",
    "\n",
    "    rebuild_idx = np.array(g2a['rebuild_idx'])\n",
    "    \n",
    "    # shapes\n",
    "    # print(f\"trainmask shape: {trainmask.shape}\")\n",
    "    \n",
    "    ## building the linear model\n",
    "    x_linear_addition = np.vstack((nyX, g2['footprint'].x[sf_trainmask].cpu().detach()))\n",
    "    \n",
    "    # print(f\"Y shape: {nyY.shape}.\")\n",
    "    # print(f\"trainyshape: {sfgraph['footprint'].y[trainmask[rebuild_idx]].cpu().detach().shape}\")\n",
    "    y_linear_addition = np.concatenate((nyY, g2['footprint'].y[sf_trainmask].cpu().detach()), axis=None)\n",
    "    \n",
    "    reg = LinearRegression().fit(x_linear_addition, y_linear_addition)\n",
    "    preds = reg.predict(g2['footprint'].x[sf_testmask].cpu().detach())\n",
    "    existing_terms = g2['footprint'].y[sf_testmask].cpu().detach()\n",
    "    # print(f\"Predictions: {preds}\")\n",
    "    # print(f\"Existing: {existing_terms}\")\n",
    "    sf_linearvalloss.append(loss_func(torch.tensor(preds), existing_terms))\n",
    "\n",
    "    sf_state_dict, sf_trainlosses, sf_testlosses = trainer(\n",
    "        model.to(device),\n",
    "        lambda: model(g2.x_dict, g2.edge_index_dict),\n",
    "        rebuild_idx,\n",
    "        sf_trainmask,\n",
    "        sf_testmask,\n",
    "        recorded = g2['footprint'].y,\n",
    "        loss_func = loss_func,\n",
    "        config = config\n",
    "    )\n",
    "    \n",
    "    _, _, sf_nulltestlosses = trainer(\n",
    "        nullmodel.to(device),\n",
    "        lambda: nullmodel(g2['footprint'].x),\n",
    "        rebuild_idx,\n",
    "        sf_trainmask,\n",
    "        sf_testmask,\n",
    "        recorded = g2['footprint'].y,\n",
    "        loss_func = loss_func,\n",
    "        config = config\n",
    "    )\n",
    "    sf_valloss.append(sf_testlosses)\n",
    "    sf_nullvalloss.append(sf_nulltestlosses)"
   ]
  },
  {
   "cell_type": "code",
   "execution_count": null,
   "id": "96d823f9-a97d-49f6-b0a9-fd122777c6c8",
   "metadata": {
    "tags": []
   },
   "outputs": [],
   "source": [
    "generalization_cv = 8\n",
    "config['epochs'] = 300"
   ]
  },
  {
   "cell_type": "code",
   "execution_count": null,
   "id": "19c9bfb0-77d8-4704-8079-febe49da35b4",
   "metadata": {
    "tags": []
   },
   "outputs": [],
   "source": [
    "from tqdm import tqdm_notebook\n",
    "\n",
    "# now exploring how the model might generalize to SF\n",
    "sf_linearvalloss = []\n",
    "sf_valloss = []\n",
    "sf_nullvalloss = []\n",
    "\n",
    "for n_true in tqdm_notebook(range(50), leave=True):\n",
    "    modelcv_loss = []\n",
    "    nullmodelcv_loss = []\n",
    "    linearcv_loss = []\n",
    "    \n",
    "    for cv in range(generalization_cv):\n",
    "        np.random.seed(cv)\n",
    "        model.load_state_dict(nystate_dict)\n",
    "        nullmodel.load_state_dict(nullnystate_dict)\n",
    "\n",
    "        sf_trainmask = copy.deepcopy(g2a['training_mask'].cpu().numpy())\n",
    "        np.random.shuffle(sf_trainmask)\n",
    "\n",
    "        sf_testmask = ~sf_trainmask\n",
    "        sf_to_false = np.where(sf_trainmask)[0]\n",
    "        sf_to_false\n",
    "\n",
    "        drip_idx = np.random.choice(sf_to_false, n_true, replace=False)\n",
    "\n",
    "        # this now just drips in a bit of the sf data\n",
    "        sf_trainmask = np.repeat([False], len(sf_trainmask))\n",
    "        sf_trainmask[drip_idx] = True\n",
    "\n",
    "        rebuild_idx = np.array(g2a['rebuild_idx'])\n",
    "\n",
    "        # shapes\n",
    "        # print(f\"trainmask shape: {trainmask.shape}\")\n",
    "\n",
    "        ## building the linear model\n",
    "        x_linear_addition = np.vstack((nyX, g2['footprint'].x[sf_trainmask].cpu().detach()))\n",
    "\n",
    "        # print(f\"Y shape: {nyY.shape}.\")\n",
    "        # print(f\"trainyshape: {sfgraph['footprint'].y[trainmask[rebuild_idx]].cpu().detach().shape}\")\n",
    "        y_linear_addition = np.concatenate((nyY, g2['footprint'].y[sf_trainmask].cpu().detach()), axis=None)\n",
    "\n",
    "        reg = LinearRegression().fit(x_linear_addition, y_linear_addition)\n",
    "        preds = reg.predict(g2['footprint'].x[sf_testmask].cpu().detach())\n",
    "        existing_terms = g2['footprint'].y[sf_testmask].cpu().detach()\n",
    "        # print(f\"Predictions: {preds}\")\n",
    "        # print(f\"Existing: {existing_terms}\")\n",
    "        linearcv_loss.append(loss_func(torch.tensor(preds), existing_terms))\n",
    "\n",
    "        sf_state_dict, sf_trainlosses, sf_testlosses = trainer(\n",
    "            model.to(device),\n",
    "            lambda: model(g2.x_dict, g2.edge_index_dict),\n",
    "            rebuild_idx,\n",
    "            sf_trainmask,\n",
    "            sf_testmask,\n",
    "            recorded = g2['footprint'].y,\n",
    "            loss_func = loss_func,\n",
    "            config = config\n",
    "        )\n",
    "\n",
    "        _, _, sf_nulltestlosses = trainer(\n",
    "            nullmodel.to(device),\n",
    "            lambda: nullmodel(g2['footprint'].x),\n",
    "            rebuild_idx,\n",
    "            sf_trainmask,\n",
    "            sf_testmask,\n",
    "            recorded = g2['footprint'].y,\n",
    "            loss_func = loss_func,\n",
    "            config = config\n",
    "        )\n",
    "        modelcv_loss.append(sf_testlosses)\n",
    "        nullmodelcv_loss.append(sf_nulltestlosses)\n",
    "        \n",
    "    sf_linearvalloss.append(linearcv_loss)\n",
    "    sf_valloss.append(modelcv_loss)\n",
    "    sf_nullvalloss.append(nullmodelcv_loss)\n",
    "        \n",
    "sf_linearvalloss = np.array(sf_linearvalloss)\n",
    "sf_valloss = np.array(sf_valloss)\n",
    "sf_nullvalloss = np.array(sf_nullvalloss)"
   ]
  },
  {
   "cell_type": "code",
   "execution_count": null,
   "id": "0840bafd-fc26-4978-88cb-4345511f691b",
   "metadata": {
    "tags": []
   },
   "outputs": [],
   "source": [
    "np.percentile(sf_linearvalloss, 5, axis=1)"
   ]
  },
  {
   "cell_type": "code",
   "execution_count": null,
   "id": "bbe5f358-3661-4274-9ff7-5188d3add355",
   "metadata": {
    "tags": []
   },
   "outputs": [],
   "source": [
    "np.arange(50)"
   ]
  },
  {
   "cell_type": "code",
   "execution_count": null,
   "id": "c9202fc8-3e20-42e5-b70f-aa817acd5397",
   "metadata": {
    "tags": []
   },
   "outputs": [],
   "source": [
    "# plt.plot(sf_trainlosses, label=\"training\")\n",
    "plt.figure(figsize=(6, 6), dpi=400)\n",
    "\n",
    "# plt.plot(sf_linearvalloss, label=\"Linear\", color=\"coral\")\n",
    "# plt.plot(np.percentile(sf_nullvalloss, 5, axis=1), label=\"MLP\", color=\"orange\")\n",
    "# plt.plot(np.percentile(sf_valloss, 2, axis=1), label=\"Graph\", color=\"lightblue\")\n",
    "lower = 5\n",
    "upper = 95\n",
    "\n",
    "plt.plot(sf_linearvalloss.mean(axis=1), label=\"Linear\", color=\"firebrick\")\n",
    "plt.fill_between(\n",
    "    np.arange(sf_linearvalloss.shape[0]), \n",
    "    np.percentile(sf_linearvalloss, lower, axis=1), \n",
    "    np.percentile(sf_linearvalloss, upper, axis=1), \n",
    "    color=\"firebrick\", \n",
    "    alpha=0.1\n",
    ")\n",
    "\n",
    "plt.plot(sf_nullvalloss.min(axis=2).mean(axis=1), label=\"MLP\", color=\"lightsalmon\")\n",
    "plt.fill_between(\n",
    "    np.arange(sf_nullvalloss.shape[0]), \n",
    "    np.percentile(sf_nullvalloss.min(axis=2), lower, axis=1), \n",
    "    np.percentile(sf_nullvalloss.min(axis=2), upper, axis=1),\n",
    "    color=\"lightsalmon\", \n",
    "    alpha=0.1\n",
    ")\n",
    "\n",
    "plt.plot(sf_valloss.min(axis=2).mean(axis=1), label=\"Graph\", color=\"lightblue\")\n",
    "plt.fill_between(\n",
    "    np.arange(sf_valloss.shape[0]), \n",
    "    np.percentile(sf_valloss.min(axis=2), lower, axis=1), \n",
    "    np.percentile(sf_valloss.min(axis=2), upper, axis=1),\n",
    "    color=\"lightblue\", \n",
    "    alpha=0.1\n",
    ")\n",
    "\n",
    "plt.legend()\n",
    "plt.yscale(\"log\")\n",
    "# plt.xscale(\"log\")\n",
    "\n",
    "plt.title(\"Generalization from New York to San Fransisco\")\n",
    "plt.xlabel(\"# Buildings from San Fransisco\")\n",
    "plt.ylabel(\"Loss - RMSE\")\n",
    "\n",
    "# plt.ylim((0.5,1.0))\n",
    "\n",
    "plt.savefig(os.path.join(results_dir, 'sf_generalization.png'))\n",
    "plt.show()"
   ]
  },
  {
   "cell_type": "code",
   "execution_count": null,
   "id": "81f59830-8a55-4ed2-87bb-064ab8169f8c",
   "metadata": {
    "tags": []
   },
   "outputs": [],
   "source": [
    "g3train = copy.deepcopy((g3a['training_mask']).cpu().numpy())\n",
    "np.random.shuffle(g3train)\n",
    "\n",
    "g3test = ~g3train"
   ]
  },
  {
   "cell_type": "code",
   "execution_count": null,
   "id": "ec1eb26f-ee66-4b9c-a1ea-1f9508d74b26",
   "metadata": {
    "tags": []
   },
   "outputs": [],
   "source": [
    "from tqdm import tqdm_notebook\n",
    "\n",
    "# now exploring how the model might generalize to SF\n",
    "austin_linearvalloss = []\n",
    "austin_valloss = []\n",
    "austin_nullvalloss = []\n",
    "\n",
    "config['epochs'] = 300\n",
    "\n",
    "for n_true in tqdm_notebook(range(50), leave=True):\n",
    "    modelcv_loss = []\n",
    "    nullmodelcv_loss = []\n",
    "    linearcv_loss = []\n",
    "    \n",
    "    for cv in range(generalization_cv):\n",
    "        np.random.seed(cv)\n",
    "        model.load_state_dict(nystate_dict)\n",
    "        nullmodel.load_state_dict(nullnystate_dict)\n",
    "\n",
    "        austin_trainmask = copy.deepcopy(g3a['training_mask'].cpu().numpy())\n",
    "        np.random.shuffle(austin_trainmask)\n",
    "\n",
    "        austin_testmask = ~austin_trainmask\n",
    "        austin_to_false = np.where(austin_trainmask)[0]\n",
    "        austin_to_false\n",
    "\n",
    "        drip_idx = np.random.choice(austin_to_false, n_true, replace=False)\n",
    "\n",
    "        # this now just drips in a bit of the sf data\n",
    "        austin_trainmask = np.repeat([False], len(austin_trainmask))\n",
    "        austin_trainmask[drip_idx] = True\n",
    "\n",
    "        rebuild_idx = np.array(g3a['rebuild_idx'])\n",
    "\n",
    "        # shapes\n",
    "        # print(f\"trainmask shape: {trainmask.shape}\")\n",
    "\n",
    "        ## building the linear model\n",
    "        x_linear_addition = np.vstack((nyX, g3['footprint'].x[austin_trainmask].cpu().detach()))\n",
    "\n",
    "        # print(f\"Y shape: {nyY.shape}.\")\n",
    "        # print(f\"trainyshape: {sfgraph['footprint'].y[trainmask[rebuild_idx]].cpu().detach().shape}\")\n",
    "        y_linear_addition = np.concatenate((nyY, g3['footprint'].y[austin_trainmask].cpu().detach()), axis=None)\n",
    "\n",
    "        reg = LinearRegression().fit(x_linear_addition, y_linear_addition)\n",
    "        preds = reg.predict(g3['footprint'].x[austin_testmask].cpu().detach())\n",
    "        existing_terms = g3['footprint'].y[austin_testmask].cpu().detach()\n",
    "        # print(f\"Predictions: {preds}\")\n",
    "        # print(f\"Existing: {existing_terms}\")\n",
    "        linearcv_loss.append(loss_func(torch.tensor(preds), existing_terms))\n",
    "\n",
    "        austin_state_dict, austin_trainlosses, austin_testlosses = trainer(\n",
    "            model.to(device),\n",
    "            lambda: model(g3.x_dict, g3.edge_index_dict),\n",
    "            rebuild_idx,\n",
    "            austin_trainmask,\n",
    "            austin_testmask,\n",
    "            recorded = g3['footprint'].y,\n",
    "            loss_func = loss_func,\n",
    "            config = config\n",
    "        )\n",
    "\n",
    "        _, _, austin_nulltestlosses = trainer(\n",
    "            nullmodel.to(device),\n",
    "            lambda: nullmodel(g3['footprint'].x),\n",
    "            rebuild_idx,\n",
    "            austin_trainmask,\n",
    "            austin_testmask,\n",
    "            recorded = g3['footprint'].y,\n",
    "            loss_func = loss_func,\n",
    "            config = config\n",
    "        )\n",
    "        modelcv_loss.append(austin_testlosses)\n",
    "        nullmodelcv_loss.append(austin_nulltestlosses)\n",
    "        \n",
    "    austin_linearvalloss.append(linearcv_loss)\n",
    "    austin_valloss.append(modelcv_loss)\n",
    "    austin_nullvalloss.append(nullmodelcv_loss)\n",
    "        \n",
    "austin_linearvalloss = np.array(austin_linearvalloss)\n",
    "austin_valloss = np.array(austin_valloss)\n",
    "austin_nullvalloss = np.array(austin_nullvalloss)"
   ]
  },
  {
   "cell_type": "code",
   "execution_count": null,
   "id": "860d844b-38a8-492b-b15c-b2000d8e81de",
   "metadata": {
    "tags": []
   },
   "outputs": [],
   "source": [
    "austin_valloss.mean(axis=1).min(axis=0).shape"
   ]
  },
  {
   "cell_type": "code",
   "execution_count": null,
   "id": "c771d7cc-2f35-40bd-a5e9-71dd8cd5b773",
   "metadata": {
    "tags": []
   },
   "outputs": [],
   "source": [
    "austin_nullvalloss.min(axis=2).shape"
   ]
  },
  {
   "cell_type": "code",
   "execution_count": null,
   "id": "04861086-f2b1-451f-8007-739ed509dc62",
   "metadata": {
    "tags": []
   },
   "outputs": [],
   "source": [
    "# plt.plot(sf_trainlosses, label=\"training\")\n",
    "plt.figure(figsize=(6, 6), dpi=400)\n",
    "\n",
    "# plt.plot(austin_linearvalloss.mean(axis=1), label=\"Linear\", color=\"firebrick\")\n",
    "# plt.plot(austin_nullvalloss.min(axis=2).mean(axis=1), label=\"MLP\", color=\"lightsalmon\")\n",
    "# plt.plot(austin_valloss.min(axis=2).mean(axis=1), label=\"Graph\", color=\"lightblue\")\n",
    "\n",
    "plt.plot(austin_linearvalloss.mean(axis=1), label=\"Linear\", color=\"firebrick\")\n",
    "plt.fill_between(\n",
    "    np.arange(austin_linearvalloss.shape[0]), \n",
    "    np.percentile(austin_linearvalloss, lower, axis=1), \n",
    "    np.percentile(austin_linearvalloss, upper, axis=1), \n",
    "    color=\"firebrick\", \n",
    "    alpha=0.1\n",
    ")\n",
    "\n",
    "plt.plot(austin_nullvalloss.min(axis=2).mean(axis=1), label=\"MLP\", color=\"lightsalmon\")\n",
    "plt.fill_between(\n",
    "    np.arange(austin_nullvalloss.shape[0]), \n",
    "    np.percentile(austin_nullvalloss.min(axis=2), lower, axis=1), \n",
    "    np.percentile(austin_nullvalloss.min(axis=2), upper, axis=1),\n",
    "    color=\"lightsalmon\", \n",
    "    alpha=0.1\n",
    ")\n",
    "\n",
    "plt.plot(austin_valloss.min(axis=2).mean(axis=1), label=\"Graph\", color=\"lightblue\")\n",
    "plt.fill_between(\n",
    "    np.arange(austin_valloss.shape[0]), \n",
    "    np.percentile(austin_valloss.min(axis=2), lower, axis=1), \n",
    "    np.percentile(austin_valloss.min(axis=2), upper, axis=1),\n",
    "    color=\"lightblue\", \n",
    "    alpha=0.1\n",
    ")\n",
    "\n",
    "plt.legend()\n",
    "# plt.yscale(\"log\")\n",
    "# plt.xscale(\"log\")\n",
    "\n",
    "plt.title(\"Generalization from New York to Austin\")\n",
    "plt.xlabel(\"# Buildings from Austin\")\n",
    "plt.ylabel(\"Loss - RMSE\")\n",
    "\n",
    "plt.ylim((0,0.3))\n",
    "plt.savefig(os.path.join(results_dir, 'austin_generalization.png'))\n",
    "\n",
    "plt.show()"
   ]
  },
  {
   "cell_type": "code",
   "execution_count": null,
   "id": "47e6b38d-d189-4d45-acc8-b806b0a93473",
   "metadata": {},
   "outputs": [],
   "source": [
    "# ookaaay now I want to see how the model might generalize"
   ]
  },
  {
   "cell_type": "code",
   "execution_count": null,
   "id": "aa61b2f8",
   "metadata": {
    "ExecuteTime": {
     "end_time": "2023-03-01T09:59:12.627911Z",
     "start_time": "2023-03-01T09:59:12.606659Z"
    }
   },
   "outputs": [],
   "source": [
    "# param_size = 0\n",
    "# for param in model.parameters():\n",
    "#     param_size += param.nelement() * param.element_size()\n",
    "# buffer_size = 0\n",
    "# for buffer in model.buffers():\n",
    "#     buffer_size += buffer.nelement() * buffer.element_size()\n",
    "\n",
    "# size_all_mb = (param_size + buffer_size) / 1024**2\n",
    "# print('model size: {:.3f}MB'.format(size_all_mb))"
   ]
  }
 ],
 "metadata": {
  "kernelspec": {
   "display_name": "Python 3 (ipykernel)",
   "language": "python",
   "name": "python3"
  },
  "language_info": {
   "codemirror_mode": {
    "name": "ipython",
    "version": 3
   },
   "file_extension": ".py",
   "mimetype": "text/x-python",
   "name": "python",
   "nbconvert_exporter": "python",
   "pygments_lexer": "ipython3",
   "version": "3.9.15"
  }
 },
 "nbformat": 4,
 "nbformat_minor": 5
}
