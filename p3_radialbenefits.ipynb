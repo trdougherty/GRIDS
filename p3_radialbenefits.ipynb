{
 "cells": [
  {
   "cell_type": "code",
   "execution_count": 1,
   "id": "50ceebca-f7dc-4bc4-b092-8780a39c0b17",
   "metadata": {
    "tags": []
   },
   "outputs": [],
   "source": [
    "import os\n",
    "import sys\n",
    "import json\n",
    "\n",
    "import pandas as pd\n",
    "import torch\n",
    "import numpy as np"
   ]
  },
  {
   "cell_type": "code",
   "execution_count": 2,
   "id": "c62b7c63-8879-41a2-b7df-5f7414f6179c",
   "metadata": {
    "tags": []
   },
   "outputs": [],
   "source": [
    "import matplotlib.pyplot as plt"
   ]
  },
  {
   "cell_type": "code",
   "execution_count": 3,
   "id": "1c409e68-a24d-4872-919b-6e557a332eba",
   "metadata": {
    "tags": []
   },
   "outputs": [],
   "source": [
    "import statsmodels.api as sm"
   ]
  },
  {
   "cell_type": "code",
   "execution_count": 4,
   "id": "04ec0f01-7a68-4dfb-b84c-2273e65a58e4",
   "metadata": {
    "tags": []
   },
   "outputs": [],
   "source": [
    "from src.graph_construction import graph"
   ]
  },
  {
   "cell_type": "code",
   "execution_count": 5,
   "id": "39408dbd-772f-4ef4-855e-38c44fb1cba9",
   "metadata": {
    "tags": []
   },
   "outputs": [],
   "source": [
    "module_path = os.path.abspath(os.path.join('..'))\n",
    "if module_path not in sys.path:\n",
    "    sys.path.append(module_path)"
   ]
  },
  {
   "cell_type": "code",
   "execution_count": 6,
   "id": "f80e88b4-3ce0-4b13-b2b6-723171bcf20b",
   "metadata": {
    "tags": []
   },
   "outputs": [],
   "source": [
    "results_dir = os.path.join('results', 'e5')"
   ]
  },
  {
   "cell_type": "code",
   "execution_count": 7,
   "id": "9683d889-684d-4ea7-a296-25d77abb9b99",
   "metadata": {
    "tags": []
   },
   "outputs": [],
   "source": [
    "with open(os.path.join(results_dir, 'config.txt'), 'r') as file:\n",
    "    config = json.load(file)"
   ]
  },
  {
   "cell_type": "code",
   "execution_count": 8,
   "id": "13a2449d-f04c-4772-a1e4-216dcc50172f",
   "metadata": {
    "tags": []
   },
   "outputs": [
    {
     "data": {
      "text/plain": [
       "{'custom_optimizer': \"<class 'torch.optim.adam.Adam'>\",\n",
       " 'lr': 0.01,\n",
       " 'epochs': 1000,\n",
       " 'linear_layers': 2,\n",
       " 'hidden_channels': 8,\n",
       " 'dropout': 0.5,\n",
       " 'graph_outchannels': 4,\n",
       " 'graph_layers': 1,\n",
       " 'graph_heads': 6,\n",
       " 'test-percent': 15,\n",
       " 'building_buffer': 100,\n",
       " 'neighbor_radius': 100,\n",
       " 'n_cv': 3,\n",
       " 'cv_size': 600,\n",
       " 'input_shape': 3}"
      ]
     },
     "execution_count": 8,
     "metadata": {},
     "output_type": "execute_result"
    }
   ],
   "source": [
    "config"
   ]
  },
  {
   "cell_type": "code",
   "execution_count": 9,
   "id": "2afd4e9d-f192-432a-8310-e2eaaeae66c9",
   "metadata": {
    "tags": []
   },
   "outputs": [],
   "source": [
    "config['building_buffer'] = 20"
   ]
  },
  {
   "cell_type": "code",
   "execution_count": 10,
   "id": "76ed2d87-f24b-4d67-b6de-20604551d246",
   "metadata": {
    "tags": []
   },
   "outputs": [],
   "source": [
    "g1, g1a = graph(\n",
    "    \"new-york\",\n",
    "    neighbor_radius=config['neighbor_radius'],\n",
    "    building_buffer=config['building_buffer'],\n",
    "    test_percent=config['test-percent']\n",
    ")\n",
    "\n",
    "# nycgraph = transform(nycgraph)"
   ]
  },
  {
   "cell_type": "code",
   "execution_count": 21,
   "id": "f1a597cb-298c-45c5-a52b-07b22c28725c",
   "metadata": {
    "tags": []
   },
   "outputs": [
    {
     "data": {
      "text/html": [
       "<div>\n",
       "<style scoped>\n",
       "    .dataframe tbody tr th:only-of-type {\n",
       "        vertical-align: middle;\n",
       "    }\n",
       "\n",
       "    .dataframe tbody tr th {\n",
       "        vertical-align: top;\n",
       "    }\n",
       "\n",
       "    .dataframe thead th {\n",
       "        text-align: right;\n",
       "    }\n",
       "</style>\n",
       "<table border=\"1\" class=\"dataframe\">\n",
       "  <thead>\n",
       "    <tr style=\"text-align: right;\">\n",
       "      <th></th>\n",
       "      <th>energy</th>\n",
       "      <th>area</th>\n",
       "      <th>amplitude</th>\n",
       "      <th>bias</th>\n",
       "      <th>hdd</th>\n",
       "      <th>cdd</th>\n",
       "    </tr>\n",
       "  </thead>\n",
       "  <tbody>\n",
       "    <tr>\n",
       "      <th>count</th>\n",
       "      <td>1.323400e+04</td>\n",
       "      <td>13234.000000</td>\n",
       "      <td>13234.000000</td>\n",
       "      <td>13234.000000</td>\n",
       "      <td>13234.000000</td>\n",
       "      <td>13234.000000</td>\n",
       "    </tr>\n",
       "    <tr>\n",
       "      <th>mean</th>\n",
       "      <td>1.714493e+04</td>\n",
       "      <td>12302.970213</td>\n",
       "      <td>17.754482</td>\n",
       "      <td>21.351632</td>\n",
       "      <td>2792.341399</td>\n",
       "      <td>4775.363586</td>\n",
       "    </tr>\n",
       "    <tr>\n",
       "      <th>std</th>\n",
       "      <td>3.676281e+05</td>\n",
       "      <td>18832.138846</td>\n",
       "      <td>1.264326</td>\n",
       "      <td>1.572516</td>\n",
       "      <td>571.044566</td>\n",
       "      <td>569.773269</td>\n",
       "    </tr>\n",
       "    <tr>\n",
       "      <th>min</th>\n",
       "      <td>3.597384e-01</td>\n",
       "      <td>46.823177</td>\n",
       "      <td>10.650592</td>\n",
       "      <td>15.892588</td>\n",
       "      <td>185.345664</td>\n",
       "      <td>2314.126614</td>\n",
       "    </tr>\n",
       "    <tr>\n",
       "      <th>25%</th>\n",
       "      <td>1.062512e+03</td>\n",
       "      <td>4264.183985</td>\n",
       "      <td>16.966367</td>\n",
       "      <td>20.244481</td>\n",
       "      <td>2480.817945</td>\n",
       "      <td>4410.039110</td>\n",
       "    </tr>\n",
       "    <tr>\n",
       "      <th>50%</th>\n",
       "      <td>1.714635e+03</td>\n",
       "      <td>6711.786620</td>\n",
       "      <td>17.919956</td>\n",
       "      <td>21.226105</td>\n",
       "      <td>2925.920645</td>\n",
       "      <td>4779.014330</td>\n",
       "    </tr>\n",
       "    <tr>\n",
       "      <th>75%</th>\n",
       "      <td>3.066965e+03</td>\n",
       "      <td>12310.872453</td>\n",
       "      <td>18.696789</td>\n",
       "      <td>22.299809</td>\n",
       "      <td>3187.816579</td>\n",
       "      <td>5151.012169</td>\n",
       "    </tr>\n",
       "    <tr>\n",
       "      <th>max</th>\n",
       "      <td>2.633561e+07</td>\n",
       "      <td>337859.233178</td>\n",
       "      <td>21.563701</td>\n",
       "      <td>27.129769</td>\n",
       "      <td>4149.092892</td>\n",
       "      <td>7351.370592</td>\n",
       "    </tr>\n",
       "  </tbody>\n",
       "</table>\n",
       "</div>"
      ],
      "text/plain": [
       "             energy           area     amplitude          bias           hdd  \\\n",
       "count  1.323400e+04   13234.000000  13234.000000  13234.000000  13234.000000   \n",
       "mean   1.714493e+04   12302.970213     17.754482     21.351632   2792.341399   \n",
       "std    3.676281e+05   18832.138846      1.264326      1.572516    571.044566   \n",
       "min    3.597384e-01      46.823177     10.650592     15.892588    185.345664   \n",
       "25%    1.062512e+03    4264.183985     16.966367     20.244481   2480.817945   \n",
       "50%    1.714635e+03    6711.786620     17.919956     21.226105   2925.920645   \n",
       "75%    3.066965e+03   12310.872453     18.696789     22.299809   3187.816579   \n",
       "max    2.633561e+07  337859.233178     21.563701     27.129769   4149.092892   \n",
       "\n",
       "                cdd  \n",
       "count  13234.000000  \n",
       "mean    4775.363586  \n",
       "std      569.773269  \n",
       "min     2314.126614  \n",
       "25%     4410.039110  \n",
       "50%     4779.014330  \n",
       "75%     5151.012169  \n",
       "max     7351.370592  "
      ]
     },
     "execution_count": 21,
     "metadata": {},
     "output_type": "execute_result"
    }
   ],
   "source": [
    "g1a['footprints'].drop(columns=[\"id\",\"geometry\",\"year\"]).describe()"
   ]
  },
  {
   "cell_type": "code",
   "execution_count": 13,
   "id": "28bebabc-00b0-49e4-8510-bdb1b7530479",
   "metadata": {},
   "outputs": [],
   "source": [
    "g2, g2a = graph(\n",
    "    \"san-fransisco\",\n",
    "    neighbor_radius=config['neighbor_radius'],\n",
    "    building_buffer=config['building_buffer'],\n",
    "    test_percent=config['test-percent']\n",
    ")"
   ]
  },
  {
   "cell_type": "code",
   "execution_count": 22,
   "id": "d34a9488-35b0-42fe-94c8-807504e278ac",
   "metadata": {
    "tags": []
   },
   "outputs": [
    {
     "data": {
      "text/html": [
       "<div>\n",
       "<style scoped>\n",
       "    .dataframe tbody tr th:only-of-type {\n",
       "        vertical-align: middle;\n",
       "    }\n",
       "\n",
       "    .dataframe tbody tr th {\n",
       "        vertical-align: top;\n",
       "    }\n",
       "\n",
       "    .dataframe thead th {\n",
       "        text-align: right;\n",
       "    }\n",
       "</style>\n",
       "<table border=\"1\" class=\"dataframe\">\n",
       "  <thead>\n",
       "    <tr style=\"text-align: right;\">\n",
       "      <th></th>\n",
       "      <th>energy</th>\n",
       "      <th>area</th>\n",
       "      <th>amplitude</th>\n",
       "      <th>bias</th>\n",
       "      <th>hdd</th>\n",
       "      <th>cdd</th>\n",
       "    </tr>\n",
       "  </thead>\n",
       "  <tbody>\n",
       "    <tr>\n",
       "      <th>count</th>\n",
       "      <td>1366.000000</td>\n",
       "      <td>1366.000000</td>\n",
       "      <td>1366.000000</td>\n",
       "      <td>1366.000000</td>\n",
       "      <td>1366.000000</td>\n",
       "      <td>1366.000000</td>\n",
       "    </tr>\n",
       "    <tr>\n",
       "      <th>mean</th>\n",
       "      <td>2090.699076</td>\n",
       "      <td>11828.848631</td>\n",
       "      <td>11.031249</td>\n",
       "      <td>29.247642</td>\n",
       "      <td>40.965477</td>\n",
       "      <td>7211.665974</td>\n",
       "    </tr>\n",
       "    <tr>\n",
       "      <th>std</th>\n",
       "      <td>3956.109555</td>\n",
       "      <td>18799.841512</td>\n",
       "      <td>0.818182</td>\n",
       "      <td>1.512787</td>\n",
       "      <td>78.179159</td>\n",
       "      <td>935.498905</td>\n",
       "    </tr>\n",
       "    <tr>\n",
       "      <th>min</th>\n",
       "      <td>5.379747</td>\n",
       "      <td>743.224000</td>\n",
       "      <td>8.668190</td>\n",
       "      <td>25.247232</td>\n",
       "      <td>0.000000</td>\n",
       "      <td>4850.312246</td>\n",
       "    </tr>\n",
       "    <tr>\n",
       "      <th>25%</th>\n",
       "      <td>271.435621</td>\n",
       "      <td>2233.016508</td>\n",
       "      <td>10.423817</td>\n",
       "      <td>28.472724</td>\n",
       "      <td>0.000000</td>\n",
       "      <td>6705.000589</td>\n",
       "    </tr>\n",
       "    <tr>\n",
       "      <th>50%</th>\n",
       "      <td>784.970996</td>\n",
       "      <td>5293.334231</td>\n",
       "      <td>11.047536</td>\n",
       "      <td>29.298760</td>\n",
       "      <td>0.000000</td>\n",
       "      <td>7214.431116</td>\n",
       "    </tr>\n",
       "    <tr>\n",
       "      <th>75%</th>\n",
       "      <td>2027.546029</td>\n",
       "      <td>12423.221417</td>\n",
       "      <td>11.610795</td>\n",
       "      <td>30.302908</td>\n",
       "      <td>41.632817</td>\n",
       "      <td>7866.649877</td>\n",
       "    </tr>\n",
       "    <tr>\n",
       "      <th>max</th>\n",
       "      <td>38793.723026</td>\n",
       "      <td>182484.717750</td>\n",
       "      <td>13.292611</td>\n",
       "      <td>32.685806</td>\n",
       "      <td>426.474943</td>\n",
       "      <td>9429.574551</td>\n",
       "    </tr>\n",
       "  </tbody>\n",
       "</table>\n",
       "</div>"
      ],
      "text/plain": [
       "             energy           area    amplitude         bias          hdd  \\\n",
       "count   1366.000000    1366.000000  1366.000000  1366.000000  1366.000000   \n",
       "mean    2090.699076   11828.848631    11.031249    29.247642    40.965477   \n",
       "std     3956.109555   18799.841512     0.818182     1.512787    78.179159   \n",
       "min        5.379747     743.224000     8.668190    25.247232     0.000000   \n",
       "25%      271.435621    2233.016508    10.423817    28.472724     0.000000   \n",
       "50%      784.970996    5293.334231    11.047536    29.298760     0.000000   \n",
       "75%     2027.546029   12423.221417    11.610795    30.302908    41.632817   \n",
       "max    38793.723026  182484.717750    13.292611    32.685806   426.474943   \n",
       "\n",
       "               cdd  \n",
       "count  1366.000000  \n",
       "mean   7211.665974  \n",
       "std     935.498905  \n",
       "min    4850.312246  \n",
       "25%    6705.000589  \n",
       "50%    7214.431116  \n",
       "75%    7866.649877  \n",
       "max    9429.574551  "
      ]
     },
     "execution_count": 22,
     "metadata": {},
     "output_type": "execute_result"
    }
   ],
   "source": [
    "g2a['footprints'].drop(columns=[\"id\",\"geometry\",\"year\"]).describe()"
   ]
  },
  {
   "cell_type": "code",
   "execution_count": 15,
   "id": "fd1ce3ec-daf8-4607-bf42-64c300ee9a85",
   "metadata": {
    "tags": []
   },
   "outputs": [],
   "source": [
    "g3, g3a = graph(\n",
    "    \"austin\",\n",
    "    neighbor_radius=config['neighbor_radius'],\n",
    "    building_buffer=config['building_buffer'],\n",
    "    test_percent=config['test-percent']\n",
    ")"
   ]
  },
  {
   "cell_type": "code",
   "execution_count": 23,
   "id": "8b7a79f9-8516-416d-9e88-0236866b1189",
   "metadata": {
    "tags": []
   },
   "outputs": [
    {
     "data": {
      "text/html": [
       "<div>\n",
       "<style scoped>\n",
       "    .dataframe tbody tr th:only-of-type {\n",
       "        vertical-align: middle;\n",
       "    }\n",
       "\n",
       "    .dataframe tbody tr th {\n",
       "        vertical-align: top;\n",
       "    }\n",
       "\n",
       "    .dataframe thead th {\n",
       "        text-align: right;\n",
       "    }\n",
       "</style>\n",
       "<table border=\"1\" class=\"dataframe\">\n",
       "  <thead>\n",
       "    <tr style=\"text-align: right;\">\n",
       "      <th></th>\n",
       "      <th>energy</th>\n",
       "      <th>area</th>\n",
       "      <th>amplitude</th>\n",
       "      <th>bias</th>\n",
       "      <th>hdd</th>\n",
       "      <th>cdd</th>\n",
       "    </tr>\n",
       "  </thead>\n",
       "  <tbody>\n",
       "    <tr>\n",
       "      <th>count</th>\n",
       "      <td>62.000000</td>\n",
       "      <td>62.000000</td>\n",
       "      <td>62.000000</td>\n",
       "      <td>62.000000</td>\n",
       "      <td>62.0</td>\n",
       "      <td>62.000000</td>\n",
       "    </tr>\n",
       "    <tr>\n",
       "      <th>mean</th>\n",
       "      <td>124.663097</td>\n",
       "      <td>1301.197920</td>\n",
       "      <td>4.378237</td>\n",
       "      <td>33.959031</td>\n",
       "      <td>0.0</td>\n",
       "      <td>10266.083487</td>\n",
       "    </tr>\n",
       "    <tr>\n",
       "      <th>std</th>\n",
       "      <td>147.219323</td>\n",
       "      <td>1375.650750</td>\n",
       "      <td>10.595331</td>\n",
       "      <td>1.386153</td>\n",
       "      <td>0.0</td>\n",
       "      <td>910.702691</td>\n",
       "    </tr>\n",
       "    <tr>\n",
       "      <th>min</th>\n",
       "      <td>17.054730</td>\n",
       "      <td>205.501436</td>\n",
       "      <td>-13.035847</td>\n",
       "      <td>30.016816</td>\n",
       "      <td>0.0</td>\n",
       "      <td>7676.048124</td>\n",
       "    </tr>\n",
       "    <tr>\n",
       "      <th>25%</th>\n",
       "      <td>46.344783</td>\n",
       "      <td>557.418000</td>\n",
       "      <td>-9.930664</td>\n",
       "      <td>32.919782</td>\n",
       "      <td>0.0</td>\n",
       "      <td>9583.296872</td>\n",
       "    </tr>\n",
       "    <tr>\n",
       "      <th>50%</th>\n",
       "      <td>83.783215</td>\n",
       "      <td>868.224986</td>\n",
       "      <td>11.231498</td>\n",
       "      <td>34.178864</td>\n",
       "      <td>0.0</td>\n",
       "      <td>10410.513656</td>\n",
       "    </tr>\n",
       "    <tr>\n",
       "      <th>75%</th>\n",
       "      <td>135.909263</td>\n",
       "      <td>1476.228670</td>\n",
       "      <td>12.012714</td>\n",
       "      <td>35.013181</td>\n",
       "      <td>0.0</td>\n",
       "      <td>10958.660128</td>\n",
       "    </tr>\n",
       "    <tr>\n",
       "      <th>max</th>\n",
       "      <td>903.671250</td>\n",
       "      <td>8001.270875</td>\n",
       "      <td>13.201974</td>\n",
       "      <td>36.622950</td>\n",
       "      <td>0.0</td>\n",
       "      <td>12016.278251</td>\n",
       "    </tr>\n",
       "  </tbody>\n",
       "</table>\n",
       "</div>"
      ],
      "text/plain": [
       "           energy         area  amplitude       bias   hdd           cdd\n",
       "count   62.000000    62.000000  62.000000  62.000000  62.0     62.000000\n",
       "mean   124.663097  1301.197920   4.378237  33.959031   0.0  10266.083487\n",
       "std    147.219323  1375.650750  10.595331   1.386153   0.0    910.702691\n",
       "min     17.054730   205.501436 -13.035847  30.016816   0.0   7676.048124\n",
       "25%     46.344783   557.418000  -9.930664  32.919782   0.0   9583.296872\n",
       "50%     83.783215   868.224986  11.231498  34.178864   0.0  10410.513656\n",
       "75%    135.909263  1476.228670  12.012714  35.013181   0.0  10958.660128\n",
       "max    903.671250  8001.270875  13.201974  36.622950   0.0  12016.278251"
      ]
     },
     "execution_count": 23,
     "metadata": {},
     "output_type": "execute_result"
    }
   ],
   "source": [
    "g3a['footprints'].drop(columns=[\"id\",\"geometry\",\"year\"]).describe()"
   ]
  },
  {
   "cell_type": "code",
   "execution_count": 16,
   "id": "c8344fa2-552f-46f1-807c-6271bbb8ce36",
   "metadata": {
    "tags": []
   },
   "outputs": [
    {
     "data": {
      "text/plain": [
       "torch.Size([13234])"
      ]
     },
     "execution_count": 16,
     "metadata": {},
     "output_type": "execute_result"
    }
   ],
   "source": [
    "g1['footprint'].train_mask.shape"
   ]
  },
  {
   "cell_type": "code",
   "execution_count": 48,
   "id": "b986f9bb-1587-49d4-adce-8ea954aeacb2",
   "metadata": {
    "tags": []
   },
   "outputs": [],
   "source": [
    "### first thinking about new york"
   ]
  },
  {
   "cell_type": "code",
   "execution_count": 49,
   "id": "35d48c8a-ed1a-4ed8-8add-b73a0172389c",
   "metadata": {
    "tags": []
   },
   "outputs": [],
   "source": [
    "from statsmodels.api import OLS"
   ]
  },
  {
   "cell_type": "code",
   "execution_count": 187,
   "id": "b096a7d4-fa06-443c-9d09-42abbe414be4",
   "metadata": {
    "tags": []
   },
   "outputs": [],
   "source": [
    "from torch_scatter import scatter_mean, scatter_max, scatter_min"
   ]
  },
  {
   "cell_type": "code",
   "execution_count": 51,
   "id": "0680fa8e-63dd-4f46-b7c9-a57c471896ad",
   "metadata": {
    "tags": []
   },
   "outputs": [],
   "source": [
    "device = 'cuda:0'"
   ]
  },
  {
   "cell_type": "code",
   "execution_count": 52,
   "id": "28b12ee5-ba0b-4d04-b132-ad796c4bd72f",
   "metadata": {
    "tags": []
   },
   "outputs": [
    {
     "data": {
      "text/plain": [
       "Index(['sky_area', 'vegetation_area', 'car_count'], dtype='object')"
      ]
     },
     "execution_count": 52,
     "metadata": {},
     "output_type": "execute_result"
    }
   ],
   "source": [
    "g1a['node_data'].columns"
   ]
  },
  {
   "cell_type": "code",
   "execution_count": 198,
   "id": "4bd47cc9-ce56-4499-862e-504f211fca62",
   "metadata": {
    "tags": []
   },
   "outputs": [],
   "source": [
    "def pool_adjacency(graph, graph_auxillary):\n",
    "    \"\"\"Pools environmental features from the region for their use with regression\"\"\"\n",
    "    energy = scatter_mean(graph['footprint'].y, torch.tensor(graph_auxillary['rebuild_idx']).to(device))\n",
    "    links = graph['footprint','contains','pano']['edge_index']\n",
    "    features = scatter_mean(graph['pano'].x[links[1]], links[0], dim=0).detach().cpu().numpy()\n",
    "    features_max = scatter_max(graph['pano'].x[links[1]], links[0], dim=0)[0].detach().cpu().numpy()\n",
    "    features_min = scatter_min(graph['pano'].x[links[1]], links[0], dim=0)[0].detach().cpu().numpy()\n",
    "    \n",
    "    featurenames = graph_auxillary['node_data'].columns\n",
    "    featuremin = featurenames + '_min'\n",
    "    featuremax = featurenames + '_max'\n",
    "    \n",
    "    featuresdf = pd.DataFrame(features, columns = featurenames)\n",
    "    featuresdfmax = pd.DataFrame(features_max, columns = featuremax)\n",
    "    featuresdfmin = pd.DataFrame(features_min, columns = featuremin)\n",
    "    return graph_auxillary['footprints'].join(featuresdf).join(featuresdfmax).join(featuresdfmin)"
   ]
  },
  {
   "cell_type": "code",
   "execution_count": 199,
   "id": "715a9ed7-2fd3-466c-a9df-138f6e16f8fc",
   "metadata": {
    "tags": []
   },
   "outputs": [
    {
     "data": {
      "text/html": [
       "<div>\n",
       "<style scoped>\n",
       "    .dataframe tbody tr th:only-of-type {\n",
       "        vertical-align: middle;\n",
       "    }\n",
       "\n",
       "    .dataframe tbody tr th {\n",
       "        vertical-align: top;\n",
       "    }\n",
       "\n",
       "    .dataframe thead th {\n",
       "        text-align: right;\n",
       "    }\n",
       "</style>\n",
       "<table border=\"1\" class=\"dataframe\">\n",
       "  <thead>\n",
       "    <tr style=\"text-align: right;\">\n",
       "      <th></th>\n",
       "      <th>energy</th>\n",
       "      <th>area</th>\n",
       "      <th>amplitude</th>\n",
       "      <th>bias</th>\n",
       "      <th>sky_area</th>\n",
       "      <th>vegetation_area</th>\n",
       "      <th>car_count</th>\n",
       "      <th>sky_area_max</th>\n",
       "      <th>vegetation_area_max</th>\n",
       "      <th>car_count_max</th>\n",
       "      <th>sky_area_min</th>\n",
       "      <th>vegetation_area_min</th>\n",
       "      <th>car_count_min</th>\n",
       "    </tr>\n",
       "  </thead>\n",
       "  <tbody>\n",
       "    <tr>\n",
       "      <th>0</th>\n",
       "      <td>906.882019</td>\n",
       "      <td>4982.209051</td>\n",
       "      <td>15.663097</td>\n",
       "      <td>24.023925</td>\n",
       "      <td>0.119573</td>\n",
       "      <td>0.040445</td>\n",
       "      <td>18.648148</td>\n",
       "      <td>0.22662</td>\n",
       "      <td>0.42077</td>\n",
       "      <td>35.0</td>\n",
       "      <td>0.0</td>\n",
       "      <td>0.0</td>\n",
       "      <td>2.0</td>\n",
       "    </tr>\n",
       "    <tr>\n",
       "      <th>1</th>\n",
       "      <td>6689.282660</td>\n",
       "      <td>43664.471056</td>\n",
       "      <td>16.164429</td>\n",
       "      <td>23.252700</td>\n",
       "      <td>0.165028</td>\n",
       "      <td>0.034143</td>\n",
       "      <td>19.799999</td>\n",
       "      <td>0.28038</td>\n",
       "      <td>0.42077</td>\n",
       "      <td>36.0</td>\n",
       "      <td>0.0</td>\n",
       "      <td>0.0</td>\n",
       "      <td>9.0</td>\n",
       "    </tr>\n",
       "    <tr>\n",
       "      <th>2</th>\n",
       "      <td>2222.101317</td>\n",
       "      <td>11313.278644</td>\n",
       "      <td>15.649305</td>\n",
       "      <td>24.053035</td>\n",
       "      <td>0.153871</td>\n",
       "      <td>0.029516</td>\n",
       "      <td>20.975609</td>\n",
       "      <td>0.28038</td>\n",
       "      <td>0.42077</td>\n",
       "      <td>36.0</td>\n",
       "      <td>0.0</td>\n",
       "      <td>0.0</td>\n",
       "      <td>11.0</td>\n",
       "    </tr>\n",
       "    <tr>\n",
       "      <th>3</th>\n",
       "      <td>981.997076</td>\n",
       "      <td>3809.028326</td>\n",
       "      <td>16.187118</td>\n",
       "      <td>23.040648</td>\n",
       "      <td>0.158572</td>\n",
       "      <td>0.068487</td>\n",
       "      <td>22.253969</td>\n",
       "      <td>0.28505</td>\n",
       "      <td>0.42077</td>\n",
       "      <td>40.0</td>\n",
       "      <td>0.0</td>\n",
       "      <td>0.0</td>\n",
       "      <td>11.0</td>\n",
       "    </tr>\n",
       "    <tr>\n",
       "      <th>4</th>\n",
       "      <td>829.060885</td>\n",
       "      <td>6049.108594</td>\n",
       "      <td>15.331565</td>\n",
       "      <td>24.336092</td>\n",
       "      <td>0.113645</td>\n",
       "      <td>0.066775</td>\n",
       "      <td>20.545454</td>\n",
       "      <td>0.28505</td>\n",
       "      <td>0.42077</td>\n",
       "      <td>40.0</td>\n",
       "      <td>0.0</td>\n",
       "      <td>0.0</td>\n",
       "      <td>6.0</td>\n",
       "    </tr>\n",
       "    <tr>\n",
       "      <th>...</th>\n",
       "      <td>...</td>\n",
       "      <td>...</td>\n",
       "      <td>...</td>\n",
       "      <td>...</td>\n",
       "      <td>...</td>\n",
       "      <td>...</td>\n",
       "      <td>...</td>\n",
       "      <td>...</td>\n",
       "      <td>...</td>\n",
       "      <td>...</td>\n",
       "      <td>...</td>\n",
       "      <td>...</td>\n",
       "      <td>...</td>\n",
       "    </tr>\n",
       "    <tr>\n",
       "      <th>13812</th>\n",
       "      <td>2611.396917</td>\n",
       "      <td>13712.501974</td>\n",
       "      <td>19.011393</td>\n",
       "      <td>22.398537</td>\n",
       "      <td>0.224939</td>\n",
       "      <td>0.138621</td>\n",
       "      <td>10.303030</td>\n",
       "      <td>0.41083</td>\n",
       "      <td>0.44810</td>\n",
       "      <td>18.0</td>\n",
       "      <td>0.0</td>\n",
       "      <td>0.0</td>\n",
       "      <td>5.0</td>\n",
       "    </tr>\n",
       "    <tr>\n",
       "      <th>13813</th>\n",
       "      <td>1242.293042</td>\n",
       "      <td>2015.997919</td>\n",
       "      <td>15.076598</td>\n",
       "      <td>17.178491</td>\n",
       "      <td>0.114980</td>\n",
       "      <td>0.104000</td>\n",
       "      <td>5.701299</td>\n",
       "      <td>0.33462</td>\n",
       "      <td>0.55047</td>\n",
       "      <td>34.0</td>\n",
       "      <td>0.0</td>\n",
       "      <td>0.0</td>\n",
       "      <td>0.0</td>\n",
       "    </tr>\n",
       "    <tr>\n",
       "      <th>13814</th>\n",
       "      <td>4012.230753</td>\n",
       "      <td>12485.809047</td>\n",
       "      <td>19.497986</td>\n",
       "      <td>22.030902</td>\n",
       "      <td>0.283914</td>\n",
       "      <td>0.034336</td>\n",
       "      <td>13.080000</td>\n",
       "      <td>0.41025</td>\n",
       "      <td>0.21658</td>\n",
       "      <td>25.0</td>\n",
       "      <td>0.0</td>\n",
       "      <td>0.0</td>\n",
       "      <td>5.0</td>\n",
       "    </tr>\n",
       "    <tr>\n",
       "      <th>13816</th>\n",
       "      <td>639.843690</td>\n",
       "      <td>1323.869601</td>\n",
       "      <td>18.112908</td>\n",
       "      <td>21.970449</td>\n",
       "      <td>0.276885</td>\n",
       "      <td>0.094009</td>\n",
       "      <td>13.000000</td>\n",
       "      <td>0.40332</td>\n",
       "      <td>0.32424</td>\n",
       "      <td>23.0</td>\n",
       "      <td>0.0</td>\n",
       "      <td>0.0</td>\n",
       "      <td>4.0</td>\n",
       "    </tr>\n",
       "    <tr>\n",
       "      <th>13817</th>\n",
       "      <td>1007.693314</td>\n",
       "      <td>1207.740689</td>\n",
       "      <td>15.917390</td>\n",
       "      <td>18.136740</td>\n",
       "      <td>0.158595</td>\n",
       "      <td>0.041949</td>\n",
       "      <td>3.233333</td>\n",
       "      <td>0.35948</td>\n",
       "      <td>0.41836</td>\n",
       "      <td>12.0</td>\n",
       "      <td>0.0</td>\n",
       "      <td>0.0</td>\n",
       "      <td>0.0</td>\n",
       "    </tr>\n",
       "  </tbody>\n",
       "</table>\n",
       "<p>11249 rows × 13 columns</p>\n",
       "</div>"
      ],
      "text/plain": [
       "            energy          area  amplitude       bias  sky_area  \\\n",
       "0       906.882019   4982.209051  15.663097  24.023925  0.119573   \n",
       "1      6689.282660  43664.471056  16.164429  23.252700  0.165028   \n",
       "2      2222.101317  11313.278644  15.649305  24.053035  0.153871   \n",
       "3       981.997076   3809.028326  16.187118  23.040648  0.158572   \n",
       "4       829.060885   6049.108594  15.331565  24.336092  0.113645   \n",
       "...            ...           ...        ...        ...       ...   \n",
       "13812  2611.396917  13712.501974  19.011393  22.398537  0.224939   \n",
       "13813  1242.293042   2015.997919  15.076598  17.178491  0.114980   \n",
       "13814  4012.230753  12485.809047  19.497986  22.030902  0.283914   \n",
       "13816   639.843690   1323.869601  18.112908  21.970449  0.276885   \n",
       "13817  1007.693314   1207.740689  15.917390  18.136740  0.158595   \n",
       "\n",
       "       vegetation_area  car_count  sky_area_max  vegetation_area_max  \\\n",
       "0             0.040445  18.648148       0.22662              0.42077   \n",
       "1             0.034143  19.799999       0.28038              0.42077   \n",
       "2             0.029516  20.975609       0.28038              0.42077   \n",
       "3             0.068487  22.253969       0.28505              0.42077   \n",
       "4             0.066775  20.545454       0.28505              0.42077   \n",
       "...                ...        ...           ...                  ...   \n",
       "13812         0.138621  10.303030       0.41083              0.44810   \n",
       "13813         0.104000   5.701299       0.33462              0.55047   \n",
       "13814         0.034336  13.080000       0.41025              0.21658   \n",
       "13816         0.094009  13.000000       0.40332              0.32424   \n",
       "13817         0.041949   3.233333       0.35948              0.41836   \n",
       "\n",
       "       car_count_max  sky_area_min  vegetation_area_min  car_count_min  \n",
       "0               35.0           0.0                  0.0            2.0  \n",
       "1               36.0           0.0                  0.0            9.0  \n",
       "2               36.0           0.0                  0.0           11.0  \n",
       "3               40.0           0.0                  0.0           11.0  \n",
       "4               40.0           0.0                  0.0            6.0  \n",
       "...              ...           ...                  ...            ...  \n",
       "13812           18.0           0.0                  0.0            5.0  \n",
       "13813           34.0           0.0                  0.0            0.0  \n",
       "13814           25.0           0.0                  0.0            5.0  \n",
       "13816           23.0           0.0                  0.0            4.0  \n",
       "13817           12.0           0.0                  0.0            0.0  \n",
       "\n",
       "[11249 rows x 13 columns]"
      ]
     },
     "execution_count": 199,
     "metadata": {},
     "output_type": "execute_result"
    }
   ],
   "source": [
    "### \n",
    "g1p = pool_adjacency(g1, g1a)\n",
    "g1p.loc[g1p.id.isin(train_buildings)].drop(columns=[\"id\",\"geometry\",\"year\"])"
   ]
  },
  {
   "cell_type": "code",
   "execution_count": 200,
   "id": "fcf7203b-3b79-40b2-9003-a072b5d4232c",
   "metadata": {
    "tags": []
   },
   "outputs": [],
   "source": [
    "test_buildings = g1p.loc[g1a['test_mask'].detach().cpu().numpy()].id\n",
    "train_buildings = g1p.loc[~g1a['test_mask'].detach().cpu().numpy()].id"
   ]
  },
  {
   "cell_type": "code",
   "execution_count": 224,
   "id": "0695b79a-ce71-46bb-bf79-ea2a1f5d8bfa",
   "metadata": {
    "tags": []
   },
   "outputs": [
    {
     "data": {
      "text/plain": [
       "<function torch._VariableFunctionsClass.exp>"
      ]
     },
     "execution_count": 224,
     "metadata": {},
     "output_type": "execute_result"
    }
   ],
   "source": [
    "torch.exp"
   ]
  },
  {
   "cell_type": "code",
   "execution_count": 232,
   "id": "337b32b3-a7e7-4b3f-8413-af96cd7eeb3d",
   "metadata": {
    "tags": []
   },
   "outputs": [],
   "source": [
    "e1 = torch.nn.MSELoss()\n",
    "def e2(ypred, y):\n",
    "    return 100 * torch.abs(ypred - y) / y"
   ]
  },
  {
   "cell_type": "code",
   "execution_count": 233,
   "id": "aa342744-538d-4f67-ba55-7376edcd9d65",
   "metadata": {},
   "outputs": [],
   "source": [
    "def regress_distances(features_df, traintest):\n",
    "    \"\"\"Trains a small linear model on the data and predicts it against a test set\"\"\"\n",
    "    train, test = traintest\n",
    "    training_data = features_df.loc[features_df.id.isin(train)]\n",
    "    testing_data = features_df.loc[features_df.id.isin(test)]\n",
    "    \n",
    "    training_x = training_data.drop(columns=[\"energy\",\"id\",\"geometry\",\"year\"])\n",
    "    training_y = training_data[\"energy\"]\n",
    "    \n",
    "    model = sm.OLS(training_y,training_x).fit()\n",
    "    \n",
    "    testing_x = testing_data.drop(columns=[\"energy\",\"id\",\"geometry\",\"year\"])\n",
    "    testing_y = torch.tensor(np.array(testing_data[\"energy\"])).to(device).squeeze()\n",
    "        \n",
    "    yhat = torch.tensor(np.array(model.predict(testing_x))).to(device).squeeze()\n",
    "    \n",
    "    return e1(yhat, testing_y), torch.mean(e2(yhat, testing_y))"
   ]
  },
  {
   "cell_type": "code",
   "execution_count": 234,
   "id": "0331618a-f563-455b-a882-86d6b62b9457",
   "metadata": {
    "tags": []
   },
   "outputs": [
    {
     "data": {
      "text/plain": [
       "array([ 20.        ,  28.88888889,  37.77777778,  46.66666667,\n",
       "        55.55555556,  64.44444444,  73.33333333,  82.22222222,\n",
       "        91.11111111, 100.        ])"
      ]
     },
     "execution_count": 234,
     "metadata": {},
     "output_type": "execute_result"
    }
   ],
   "source": [
    "np.linspace(20,100,10)"
   ]
  },
  {
   "cell_type": "code",
   "execution_count": 235,
   "id": "1d65588b-d9ef-4319-b3ba-fe655d160bbd",
   "metadata": {
    "tags": []
   },
   "outputs": [],
   "source": [
    "from tqdm import tqdm_notebook"
   ]
  },
  {
   "cell_type": "code",
   "execution_count": 239,
   "id": "21f2f525-aa26-4550-a692-31c2c1ab91be",
   "metadata": {
    "tags": []
   },
   "outputs": [
    {
     "name": "stderr",
     "output_type": "stream",
     "text": [
      "/tmp/ipykernel_9528/3990440859.py:6: TqdmDeprecationWarning: This function will be removed in tqdm==5.0.0\n",
      "Please use `tqdm.notebook.tqdm` instead of `tqdm.tqdm_notebook`\n",
      "  for i in tqdm_notebook(buffer_distances):\n"
     ]
    },
    {
     "data": {
      "application/vnd.jupyter.widget-view+json": {
       "model_id": "470b209a6eca40baa7ea54a1e58e015a",
       "version_major": 2,
       "version_minor": 0
      },
      "text/plain": [
       "  0%|          | 0/100 [00:00<?, ?it/s]"
      ]
     },
     "metadata": {},
     "output_type": "display_data"
    }
   ],
   "source": [
    "mse_errors = []\n",
    "acc_terms = []\n",
    "\n",
    "buffer_distances = np.linspace(20,1500,100)\n",
    "\n",
    "for i in tqdm_notebook(buffer_distances):\n",
    "    config['building_buffer'] = i\n",
    "    g1, g1a = graph(\n",
    "        \"new-york\",\n",
    "        neighbor_radius=config['neighbor_radius'],\n",
    "        building_buffer=config['building_buffer'],\n",
    "        test_percent=config['test-percent']\n",
    "    )\n",
    "    g1p = pool_adjacency(g1, g1a)\n",
    "    mse, acc = regress_distances(g1p, (train_buildings, test_buildings))\n",
    "    mse_errors.append(mse)\n",
    "    acc_terms.append(acc)"
   ]
  },
  {
   "cell_type": "code",
   "execution_count": 237,
   "id": "73c3bb14-e6dc-4969-aaf7-903e8a677034",
   "metadata": {
    "tags": []
   },
   "outputs": [
    {
     "data": {
      "text/plain": [
       "[<matplotlib.lines.Line2D at 0x7f16127fde80>]"
      ]
     },
     "execution_count": 237,
     "metadata": {},
     "output_type": "execute_result"
    },
    {
     "data": {
      "image/png": "[encoded data removed]",
      "text/plain": [
       "<Figure size 640x480 with 1 Axes>"
      ]
     },
     "metadata": {},
     "output_type": "display_data"
    }
   ],
   "source": [
    "plt.plot(buffer_distances, torch.tensor(mse_errors).detach().cpu().numpy())"
   ]
  },
  {
   "cell_type": "code",
   "execution_count": 238,
   "id": "19dfeadd-7cd0-40e6-92bb-518269e2de67",
   "metadata": {
    "tags": []
   },
   "outputs": [
    {
     "data": {
      "text/plain": [
       "[<matplotlib.lines.Line2D at 0x7f165075f850>]"
      ]
     },
     "execution_count": 238,
     "metadata": {},
     "output_type": "execute_result"
    },
    {
     "data": {
      "image/png": "[encoded data removed]",
      "text/plain": [
       "<Figure size 640x480 with 1 Axes>"
      ]
     },
     "metadata": {},
     "output_type": "display_data"
    }
   ],
   "source": [
    "plt.plot(buffer_distances, torch.tensor(acc_terms).detach().cpu().numpy())\n",
    "# plt.yscale('log')"
   ]
  },
  {
   "cell_type": "code",
   "execution_count": 77,
   "id": "572d988d-4874-4f03-b905-e6dfcedfb6dd",
   "metadata": {
    "tags": []
   },
   "outputs": [
    {
     "data": {
      "text/plain": [
       "torch.Size([13234])"
      ]
     },
     "execution_count": 77,
     "metadata": {},
     "output_type": "execute_result"
    }
   ],
   "source": [
    "g1a['training_mask'].shape"
   ]
  },
  {
   "cell_type": "code",
   "execution_count": 72,
   "id": "9b06bafb-73f8-4b68-a601-db6f2b1324ea",
   "metadata": {
    "tags": []
   },
   "outputs": [],
   "source": [
    "g1mask = g1a['training_mask'].detach().cpu().numpy()"
   ]
  },
  {
   "cell_type": "code",
   "execution_count": 82,
   "id": "2c45838e-92b6-42cd-b83c-c70b89b3b8c3",
   "metadata": {
    "tags": []
   },
   "outputs": [],
   "source": [
    "Y = regmat['energy'].iloc[g1mask]\n",
    "X = regmat.drop(columns='energy').iloc[g1mask]"
   ]
  },
  {
   "cell_type": "code",
   "execution_count": 83,
   "id": "1d53f25b-1edc-4b76-99df-34249cd7b7b2",
   "metadata": {
    "tags": []
   },
   "outputs": [
    {
     "ename": "ValueError",
     "evalue": "Pandas data cast to numpy dtype of object. Check input data with np.asarray(data). The types seen wereNone and id                  object\narea               float64\namplitude          float64\nbias               float64\nsky_area           float32\nvegetation_area    float32\ncar_count          float32\ndtype: object. The data was\n0        9.068820e+02\n1        7.956888e+03\n2        1.122939e+06\n3        1.210884e+03\n4        5.310140e+02\n             ...     \n13227    7.395839e+03\n13229    1.382376e+03\n13230    5.723913e+03\n13231    1.007693e+03\n13232    2.981949e+02\nName: energy, Length: 11249, dtype: float64\nand\n                          id          area  amplitude       bias  sky_area  \\\n0       9831628575705046469   4982.209051  15.663097  24.023925  0.118824   \n1      10426804091157841868  43841.823131  15.669831  24.047635  0.136401   \n2      13984590206613124140   7460.121331  16.895919  21.118592  0.072026   \n3       1578338801975438769   7483.068405  16.834552  21.090436  0.021487   \n4      18069133829578216584   9754.828640  17.073126  21.101297  0.060022   \n...                     ...           ...        ...        ...       ...   \n13227   1836429563859990194  32198.180957  16.894077  22.159046  0.384654   \n13229  12618438599830320340   8915.263055  18.925129  25.664360  0.298532   \n13230   5493187043257100533  25350.105445  19.152906  21.454352  0.205083   \n13231  15242956676492688919   1207.740689  15.917390  18.136740  0.150425   \n13232   7395414680666969706   3496.688003  17.810793  22.104066  0.268572   \n\n       vegetation_area  car_count  \n0             0.086642  22.799999  \n1             0.015655  18.000000  \n2             0.000000  17.799999  \n3             0.183797  22.000000  \n4             0.040192  19.000000  \n...                ...        ...  \n13227         0.007456   3.600000  \n13229         0.036943   9.250000  \n13230         0.063285  16.750000  \n13231         0.227303   8.250000  \n13232         0.116989  18.571428  \n\n[11249 rows x 7 columns]\nbefore. After,\n[9.06882019e+02 7.95688830e+03 1.12293892e+06 ... 5.72391283e+03\n 1.00769331e+03 2.98194928e+02]\n[['9831628575705046469' 4982.209050622916 15.66309674138622 ...\n  0.11882400512695312 0.08664200454950333 22.799999237060547]\n ['10426804091157841868' 43841.82313102129 15.669830506338506 ...\n  0.13640090823173523 0.015655454248189926 18.0]\n ['13984590206613124140' 7460.121331487658 16.895919365707062 ...\n  0.07202599942684174 0.0 17.799999237060547]\n ...\n ['5493187043257100533' 25350.10544505245 19.15290625934775 ...\n  0.205082505941391 0.06328500062227249 16.75]\n ['15242956676492688919' 1207.7406887838051 15.917389946902022 ...\n  0.150424987077713 0.22730250656604767 8.25]\n ['7395414680666969706' 3496.688003418836 17.81079273442344 ...\n  0.2685721218585968 0.11698929220438004 18.571428298950195]].",
     "output_type": "error",
     "traceback": [
      "\u001b[0;31m---------------------------------------------------------------------------\u001b[0m",
      "\u001b[0;31mValueError\u001b[0m                                Traceback (most recent call last)",
      "Cell \u001b[0;32mIn[83], line 1\u001b[0m\n\u001b[0;32m----> 1\u001b[0m model \u001b[38;5;241m=\u001b[39m \u001b[43msm\u001b[49m\u001b[38;5;241;43m.\u001b[39;49m\u001b[43mOLS\u001b[49m\u001b[43m(\u001b[49m\u001b[43mY\u001b[49m\u001b[43m,\u001b[49m\u001b[43mX\u001b[49m\u001b[43m)\u001b[49m\n\u001b[1;32m      2\u001b[0m results \u001b[38;5;241m=\u001b[39m model\u001b[38;5;241m.\u001b[39mfit()\n",
      "File \u001b[0;32m~/miniconda3/envs/dbr/lib/python3.9/site-packages/statsmodels/regression/linear_model.py:906\u001b[0m, in \u001b[0;36mOLS.__init__\u001b[0;34m(self, endog, exog, missing, hasconst, **kwargs)\u001b[0m\n\u001b[1;32m    903\u001b[0m     msg \u001b[38;5;241m=\u001b[39m (\u001b[38;5;124m\"\u001b[39m\u001b[38;5;124mWeights are not supported in OLS and will be ignored\u001b[39m\u001b[38;5;124m\"\u001b[39m\n\u001b[1;32m    904\u001b[0m            \u001b[38;5;124m\"\u001b[39m\u001b[38;5;124mAn exception will be raised in the next version.\u001b[39m\u001b[38;5;124m\"\u001b[39m)\n\u001b[1;32m    905\u001b[0m     warnings\u001b[38;5;241m.\u001b[39mwarn(msg, ValueWarning)\n\u001b[0;32m--> 906\u001b[0m \u001b[38;5;28;43msuper\u001b[39;49m\u001b[43m(\u001b[49m\u001b[43mOLS\u001b[49m\u001b[43m,\u001b[49m\u001b[43m \u001b[49m\u001b[38;5;28;43mself\u001b[39;49m\u001b[43m)\u001b[49m\u001b[38;5;241;43m.\u001b[39;49m\u001b[38;5;21;43m__init__\u001b[39;49m\u001b[43m(\u001b[49m\u001b[43mendog\u001b[49m\u001b[43m,\u001b[49m\u001b[43m \u001b[49m\u001b[43mexog\u001b[49m\u001b[43m,\u001b[49m\u001b[43m \u001b[49m\u001b[43mmissing\u001b[49m\u001b[38;5;241;43m=\u001b[39;49m\u001b[43mmissing\u001b[49m\u001b[43m,\u001b[49m\n\u001b[1;32m    907\u001b[0m \u001b[43m                          \u001b[49m\u001b[43mhasconst\u001b[49m\u001b[38;5;241;43m=\u001b[39;49m\u001b[43mhasconst\u001b[49m\u001b[43m,\u001b[49m\u001b[43m \u001b[49m\u001b[38;5;241;43m*\u001b[39;49m\u001b[38;5;241;43m*\u001b[39;49m\u001b[43mkwargs\u001b[49m\u001b[43m)\u001b[49m\n\u001b[1;32m    908\u001b[0m \u001b[38;5;28;01mif\u001b[39;00m \u001b[38;5;124m\"\u001b[39m\u001b[38;5;124mweights\u001b[39m\u001b[38;5;124m\"\u001b[39m \u001b[38;5;129;01min\u001b[39;00m \u001b[38;5;28mself\u001b[39m\u001b[38;5;241m.\u001b[39m_init_keys:\n\u001b[1;32m    909\u001b[0m     \u001b[38;5;28mself\u001b[39m\u001b[38;5;241m.\u001b[39m_init_keys\u001b[38;5;241m.\u001b[39mremove(\u001b[38;5;124m\"\u001b[39m\u001b[38;5;124mweights\u001b[39m\u001b[38;5;124m\"\u001b[39m)\n",
      "File \u001b[0;32m~/miniconda3/envs/dbr/lib/python3.9/site-packages/statsmodels/regression/linear_model.py:733\u001b[0m, in \u001b[0;36mWLS.__init__\u001b[0;34m(self, endog, exog, weights, missing, hasconst, **kwargs)\u001b[0m\n\u001b[1;32m    731\u001b[0m \u001b[38;5;28;01melse\u001b[39;00m:\n\u001b[1;32m    732\u001b[0m     weights \u001b[38;5;241m=\u001b[39m weights\u001b[38;5;241m.\u001b[39msqueeze()\n\u001b[0;32m--> 733\u001b[0m \u001b[38;5;28;43msuper\u001b[39;49m\u001b[43m(\u001b[49m\u001b[43mWLS\u001b[49m\u001b[43m,\u001b[49m\u001b[43m \u001b[49m\u001b[38;5;28;43mself\u001b[39;49m\u001b[43m)\u001b[49m\u001b[38;5;241;43m.\u001b[39;49m\u001b[38;5;21;43m__init__\u001b[39;49m\u001b[43m(\u001b[49m\u001b[43mendog\u001b[49m\u001b[43m,\u001b[49m\u001b[43m \u001b[49m\u001b[43mexog\u001b[49m\u001b[43m,\u001b[49m\u001b[43m \u001b[49m\u001b[43mmissing\u001b[49m\u001b[38;5;241;43m=\u001b[39;49m\u001b[43mmissing\u001b[49m\u001b[43m,\u001b[49m\n\u001b[1;32m    734\u001b[0m \u001b[43m                          \u001b[49m\u001b[43mweights\u001b[49m\u001b[38;5;241;43m=\u001b[39;49m\u001b[43mweights\u001b[49m\u001b[43m,\u001b[49m\u001b[43m \u001b[49m\u001b[43mhasconst\u001b[49m\u001b[38;5;241;43m=\u001b[39;49m\u001b[43mhasconst\u001b[49m\u001b[43m,\u001b[49m\u001b[43m \u001b[49m\u001b[38;5;241;43m*\u001b[39;49m\u001b[38;5;241;43m*\u001b[39;49m\u001b[43mkwargs\u001b[49m\u001b[43m)\u001b[49m\n\u001b[1;32m    735\u001b[0m nobs \u001b[38;5;241m=\u001b[39m \u001b[38;5;28mself\u001b[39m\u001b[38;5;241m.\u001b[39mexog\u001b[38;5;241m.\u001b[39mshape[\u001b[38;5;241m0\u001b[39m]\n\u001b[1;32m    736\u001b[0m weights \u001b[38;5;241m=\u001b[39m \u001b[38;5;28mself\u001b[39m\u001b[38;5;241m.\u001b[39mweights\n",
      "File \u001b[0;32m~/miniconda3/envs/dbr/lib/python3.9/site-packages/statsmodels/regression/linear_model.py:190\u001b[0m, in \u001b[0;36mRegressionModel.__init__\u001b[0;34m(self, endog, exog, **kwargs)\u001b[0m\n\u001b[1;32m    189\u001b[0m \u001b[38;5;28;01mdef\u001b[39;00m \u001b[38;5;21m__init__\u001b[39m(\u001b[38;5;28mself\u001b[39m, endog, exog, \u001b[38;5;241m*\u001b[39m\u001b[38;5;241m*\u001b[39mkwargs):\n\u001b[0;32m--> 190\u001b[0m     \u001b[38;5;28;43msuper\u001b[39;49m\u001b[43m(\u001b[49m\u001b[43mRegressionModel\u001b[49m\u001b[43m,\u001b[49m\u001b[43m \u001b[49m\u001b[38;5;28;43mself\u001b[39;49m\u001b[43m)\u001b[49m\u001b[38;5;241;43m.\u001b[39;49m\u001b[38;5;21;43m__init__\u001b[39;49m\u001b[43m(\u001b[49m\u001b[43mendog\u001b[49m\u001b[43m,\u001b[49m\u001b[43m \u001b[49m\u001b[43mexog\u001b[49m\u001b[43m,\u001b[49m\u001b[43m \u001b[49m\u001b[38;5;241;43m*\u001b[39;49m\u001b[38;5;241;43m*\u001b[39;49m\u001b[43mkwargs\u001b[49m\u001b[43m)\u001b[49m\n\u001b[1;32m    191\u001b[0m     \u001b[38;5;28mself\u001b[39m\u001b[38;5;241m.\u001b[39m_data_attr\u001b[38;5;241m.\u001b[39mextend([\u001b[38;5;124m'\u001b[39m\u001b[38;5;124mpinv_wexog\u001b[39m\u001b[38;5;124m'\u001b[39m, \u001b[38;5;124m'\u001b[39m\u001b[38;5;124mwendog\u001b[39m\u001b[38;5;124m'\u001b[39m, \u001b[38;5;124m'\u001b[39m\u001b[38;5;124mwexog\u001b[39m\u001b[38;5;124m'\u001b[39m, \u001b[38;5;124m'\u001b[39m\u001b[38;5;124mweights\u001b[39m\u001b[38;5;124m'\u001b[39m])\n",
      "File \u001b[0;32m~/miniconda3/envs/dbr/lib/python3.9/site-packages/statsmodels/base/model.py:267\u001b[0m, in \u001b[0;36mLikelihoodModel.__init__\u001b[0;34m(self, endog, exog, **kwargs)\u001b[0m\n\u001b[1;32m    266\u001b[0m \u001b[38;5;28;01mdef\u001b[39;00m \u001b[38;5;21m__init__\u001b[39m(\u001b[38;5;28mself\u001b[39m, endog, exog\u001b[38;5;241m=\u001b[39m\u001b[38;5;28;01mNone\u001b[39;00m, \u001b[38;5;241m*\u001b[39m\u001b[38;5;241m*\u001b[39mkwargs):\n\u001b[0;32m--> 267\u001b[0m     \u001b[38;5;28;43msuper\u001b[39;49m\u001b[43m(\u001b[49m\u001b[43m)\u001b[49m\u001b[38;5;241;43m.\u001b[39;49m\u001b[38;5;21;43m__init__\u001b[39;49m\u001b[43m(\u001b[49m\u001b[43mendog\u001b[49m\u001b[43m,\u001b[49m\u001b[43m \u001b[49m\u001b[43mexog\u001b[49m\u001b[43m,\u001b[49m\u001b[43m \u001b[49m\u001b[38;5;241;43m*\u001b[39;49m\u001b[38;5;241;43m*\u001b[39;49m\u001b[43mkwargs\u001b[49m\u001b[43m)\u001b[49m\n\u001b[1;32m    268\u001b[0m     \u001b[38;5;28mself\u001b[39m\u001b[38;5;241m.\u001b[39minitialize()\n",
      "File \u001b[0;32m~/miniconda3/envs/dbr/lib/python3.9/site-packages/statsmodels/base/model.py:92\u001b[0m, in \u001b[0;36mModel.__init__\u001b[0;34m(self, endog, exog, **kwargs)\u001b[0m\n\u001b[1;32m     90\u001b[0m missing \u001b[38;5;241m=\u001b[39m kwargs\u001b[38;5;241m.\u001b[39mpop(\u001b[38;5;124m'\u001b[39m\u001b[38;5;124mmissing\u001b[39m\u001b[38;5;124m'\u001b[39m, \u001b[38;5;124m'\u001b[39m\u001b[38;5;124mnone\u001b[39m\u001b[38;5;124m'\u001b[39m)\n\u001b[1;32m     91\u001b[0m hasconst \u001b[38;5;241m=\u001b[39m kwargs\u001b[38;5;241m.\u001b[39mpop(\u001b[38;5;124m'\u001b[39m\u001b[38;5;124mhasconst\u001b[39m\u001b[38;5;124m'\u001b[39m, \u001b[38;5;28;01mNone\u001b[39;00m)\n\u001b[0;32m---> 92\u001b[0m \u001b[38;5;28mself\u001b[39m\u001b[38;5;241m.\u001b[39mdata \u001b[38;5;241m=\u001b[39m \u001b[38;5;28;43mself\u001b[39;49m\u001b[38;5;241;43m.\u001b[39;49m\u001b[43m_handle_data\u001b[49m\u001b[43m(\u001b[49m\u001b[43mendog\u001b[49m\u001b[43m,\u001b[49m\u001b[43m \u001b[49m\u001b[43mexog\u001b[49m\u001b[43m,\u001b[49m\u001b[43m \u001b[49m\u001b[43mmissing\u001b[49m\u001b[43m,\u001b[49m\u001b[43m \u001b[49m\u001b[43mhasconst\u001b[49m\u001b[43m,\u001b[49m\n\u001b[1;32m     93\u001b[0m \u001b[43m                              \u001b[49m\u001b[38;5;241;43m*\u001b[39;49m\u001b[38;5;241;43m*\u001b[39;49m\u001b[43mkwargs\u001b[49m\u001b[43m)\u001b[49m\n\u001b[1;32m     94\u001b[0m \u001b[38;5;28mself\u001b[39m\u001b[38;5;241m.\u001b[39mk_constant \u001b[38;5;241m=\u001b[39m \u001b[38;5;28mself\u001b[39m\u001b[38;5;241m.\u001b[39mdata\u001b[38;5;241m.\u001b[39mk_constant\n\u001b[1;32m     95\u001b[0m \u001b[38;5;28mself\u001b[39m\u001b[38;5;241m.\u001b[39mexog \u001b[38;5;241m=\u001b[39m \u001b[38;5;28mself\u001b[39m\u001b[38;5;241m.\u001b[39mdata\u001b[38;5;241m.\u001b[39mexog\n",
      "File \u001b[0;32m~/miniconda3/envs/dbr/lib/python3.9/site-packages/statsmodels/base/model.py:132\u001b[0m, in \u001b[0;36mModel._handle_data\u001b[0;34m(self, endog, exog, missing, hasconst, **kwargs)\u001b[0m\n\u001b[1;32m    131\u001b[0m \u001b[38;5;28;01mdef\u001b[39;00m \u001b[38;5;21m_handle_data\u001b[39m(\u001b[38;5;28mself\u001b[39m, endog, exog, missing, hasconst, \u001b[38;5;241m*\u001b[39m\u001b[38;5;241m*\u001b[39mkwargs):\n\u001b[0;32m--> 132\u001b[0m     data \u001b[38;5;241m=\u001b[39m \u001b[43mhandle_data\u001b[49m\u001b[43m(\u001b[49m\u001b[43mendog\u001b[49m\u001b[43m,\u001b[49m\u001b[43m \u001b[49m\u001b[43mexog\u001b[49m\u001b[43m,\u001b[49m\u001b[43m \u001b[49m\u001b[43mmissing\u001b[49m\u001b[43m,\u001b[49m\u001b[43m \u001b[49m\u001b[43mhasconst\u001b[49m\u001b[43m,\u001b[49m\u001b[43m \u001b[49m\u001b[38;5;241;43m*\u001b[39;49m\u001b[38;5;241;43m*\u001b[39;49m\u001b[43mkwargs\u001b[49m\u001b[43m)\u001b[49m\n\u001b[1;32m    133\u001b[0m     \u001b[38;5;66;03m# kwargs arrays could have changed, easier to just attach here\u001b[39;00m\n\u001b[1;32m    134\u001b[0m     \u001b[38;5;28;01mfor\u001b[39;00m key \u001b[38;5;129;01min\u001b[39;00m kwargs:\n",
      "File \u001b[0;32m~/miniconda3/envs/dbr/lib/python3.9/site-packages/statsmodels/base/data.py:700\u001b[0m, in \u001b[0;36mhandle_data\u001b[0;34m(endog, exog, missing, hasconst, **kwargs)\u001b[0m\n\u001b[1;32m    697\u001b[0m     exog \u001b[38;5;241m=\u001b[39m np\u001b[38;5;241m.\u001b[39masarray(exog)\n\u001b[1;32m    699\u001b[0m klass \u001b[38;5;241m=\u001b[39m handle_data_class_factory(endog, exog)\n\u001b[0;32m--> 700\u001b[0m \u001b[38;5;28;01mreturn\u001b[39;00m \u001b[43mklass\u001b[49m\u001b[43m(\u001b[49m\u001b[43mendog\u001b[49m\u001b[43m,\u001b[49m\u001b[43m \u001b[49m\u001b[43mexog\u001b[49m\u001b[38;5;241;43m=\u001b[39;49m\u001b[43mexog\u001b[49m\u001b[43m,\u001b[49m\u001b[43m \u001b[49m\u001b[43mmissing\u001b[49m\u001b[38;5;241;43m=\u001b[39;49m\u001b[43mmissing\u001b[49m\u001b[43m,\u001b[49m\u001b[43m \u001b[49m\u001b[43mhasconst\u001b[49m\u001b[38;5;241;43m=\u001b[39;49m\u001b[43mhasconst\u001b[49m\u001b[43m,\u001b[49m\n\u001b[1;32m    701\u001b[0m \u001b[43m             \u001b[49m\u001b[38;5;241;43m*\u001b[39;49m\u001b[38;5;241;43m*\u001b[39;49m\u001b[43mkwargs\u001b[49m\u001b[43m)\u001b[49m\n",
      "File \u001b[0;32m~/miniconda3/envs/dbr/lib/python3.9/site-packages/statsmodels/base/data.py:84\u001b[0m, in \u001b[0;36mModelData.__init__\u001b[0;34m(self, endog, exog, missing, hasconst, **kwargs)\u001b[0m\n\u001b[1;32m     82\u001b[0m     \u001b[38;5;28mself\u001b[39m\u001b[38;5;241m.\u001b[39morig_endog \u001b[38;5;241m=\u001b[39m endog\n\u001b[1;32m     83\u001b[0m     \u001b[38;5;28mself\u001b[39m\u001b[38;5;241m.\u001b[39morig_exog \u001b[38;5;241m=\u001b[39m exog\n\u001b[0;32m---> 84\u001b[0m     \u001b[38;5;28mself\u001b[39m\u001b[38;5;241m.\u001b[39mendog, \u001b[38;5;28mself\u001b[39m\u001b[38;5;241m.\u001b[39mexog \u001b[38;5;241m=\u001b[39m \u001b[38;5;28;43mself\u001b[39;49m\u001b[38;5;241;43m.\u001b[39;49m\u001b[43m_convert_endog_exog\u001b[49m\u001b[43m(\u001b[49m\u001b[43mendog\u001b[49m\u001b[43m,\u001b[49m\u001b[43m \u001b[49m\u001b[43mexog\u001b[49m\u001b[43m)\u001b[49m\n\u001b[1;32m     86\u001b[0m \u001b[38;5;28mself\u001b[39m\u001b[38;5;241m.\u001b[39mconst_idx \u001b[38;5;241m=\u001b[39m \u001b[38;5;28;01mNone\u001b[39;00m\n\u001b[1;32m     87\u001b[0m \u001b[38;5;28mself\u001b[39m\u001b[38;5;241m.\u001b[39mk_constant \u001b[38;5;241m=\u001b[39m \u001b[38;5;241m0\u001b[39m\n",
      "File \u001b[0;32m~/miniconda3/envs/dbr/lib/python3.9/site-packages/statsmodels/base/data.py:530\u001b[0m, in \u001b[0;36mPandasData._convert_endog_exog\u001b[0;34m(self, endog, exog)\u001b[0m\n\u001b[1;32m    528\u001b[0m     \u001b[38;5;28;01melse\u001b[39;00m:\n\u001b[1;32m    529\u001b[0m         exog_dtype \u001b[38;5;241m=\u001b[39m \u001b[38;5;28;01mNone\u001b[39;00m\n\u001b[0;32m--> 530\u001b[0m     \u001b[38;5;28;01mraise\u001b[39;00m \u001b[38;5;167;01mValueError\u001b[39;00m(\n\u001b[1;32m    531\u001b[0m         \u001b[38;5;124m\"\u001b[39m\u001b[38;5;124mPandas data cast to numpy dtype of object. Check input data \u001b[39m\u001b[38;5;124m\"\u001b[39m\n\u001b[1;32m    532\u001b[0m         \u001b[38;5;124m\"\u001b[39m\u001b[38;5;124mwith np.asarray(data). The types seen were\u001b[39m\u001b[38;5;124m\"\u001b[39m\n\u001b[1;32m    533\u001b[0m         \u001b[38;5;124mf\u001b[39m\u001b[38;5;124m\"\u001b[39m\u001b[38;5;132;01m{\u001b[39;00mendog_dtype\u001b[38;5;132;01m}\u001b[39;00m\u001b[38;5;124m and \u001b[39m\u001b[38;5;132;01m{\u001b[39;00mexog_dtype\u001b[38;5;132;01m}\u001b[39;00m\u001b[38;5;124m. The data was\u001b[39m\u001b[38;5;130;01m\\n\u001b[39;00m\u001b[38;5;124m\"\u001b[39m\n\u001b[1;32m    534\u001b[0m         \u001b[38;5;124mf\u001b[39m\u001b[38;5;124m\"\u001b[39m\u001b[38;5;132;01m{\u001b[39;00morig_endog\u001b[38;5;132;01m}\u001b[39;00m\u001b[38;5;130;01m\\n\u001b[39;00m\u001b[38;5;124mand\u001b[39m\u001b[38;5;130;01m\\n\u001b[39;00m\u001b[38;5;124m \u001b[39m\u001b[38;5;132;01m{\u001b[39;00morig_exog\u001b[38;5;132;01m}\u001b[39;00m\u001b[38;5;130;01m\\n\u001b[39;00m\u001b[38;5;124mbefore. After,\u001b[39m\u001b[38;5;130;01m\\n\u001b[39;00m\u001b[38;5;132;01m{\u001b[39;00mendog\u001b[38;5;132;01m}\u001b[39;00m\u001b[38;5;130;01m\\n\u001b[39;00m\u001b[38;5;132;01m{\u001b[39;00mexog\u001b[38;5;132;01m}\u001b[39;00m\u001b[38;5;124m.\u001b[39m\u001b[38;5;124m\"\u001b[39m\n\u001b[1;32m    535\u001b[0m     )\n\u001b[1;32m    536\u001b[0m \u001b[38;5;28;01mreturn\u001b[39;00m \u001b[38;5;28msuper\u001b[39m(PandasData, \u001b[38;5;28mself\u001b[39m)\u001b[38;5;241m.\u001b[39m_convert_endog_exog(endog, exog)\n",
      "\u001b[0;31mValueError\u001b[0m: Pandas data cast to numpy dtype of object. Check input data with np.asarray(data). The types seen wereNone and id                  object\narea               float64\namplitude          float64\nbias               float64\nsky_area           float32\nvegetation_area    float32\ncar_count          float32\ndtype: object. The data was\n0        9.068820e+02\n1        7.956888e+03\n2        1.122939e+06\n3        1.210884e+03\n4        5.310140e+02\n             ...     \n13227    7.395839e+03\n13229    1.382376e+03\n13230    5.723913e+03\n13231    1.007693e+03\n13232    2.981949e+02\nName: energy, Length: 11249, dtype: float64\nand\n                          id          area  amplitude       bias  sky_area  \\\n0       9831628575705046469   4982.209051  15.663097  24.023925  0.118824   \n1      10426804091157841868  43841.823131  15.669831  24.047635  0.136401   \n2      13984590206613124140   7460.121331  16.895919  21.118592  0.072026   \n3       1578338801975438769   7483.068405  16.834552  21.090436  0.021487   \n4      18069133829578216584   9754.828640  17.073126  21.101297  0.060022   \n...                     ...           ...        ...        ...       ...   \n13227   1836429563859990194  32198.180957  16.894077  22.159046  0.384654   \n13229  12618438599830320340   8915.263055  18.925129  25.664360  0.298532   \n13230   5493187043257100533  25350.105445  19.152906  21.454352  0.205083   \n13231  15242956676492688919   1207.740689  15.917390  18.136740  0.150425   \n13232   7395414680666969706   3496.688003  17.810793  22.104066  0.268572   \n\n       vegetation_area  car_count  \n0             0.086642  22.799999  \n1             0.015655  18.000000  \n2             0.000000  17.799999  \n3             0.183797  22.000000  \n4             0.040192  19.000000  \n...                ...        ...  \n13227         0.007456   3.600000  \n13229         0.036943   9.250000  \n13230         0.063285  16.750000  \n13231         0.227303   8.250000  \n13232         0.116989  18.571428  \n\n[11249 rows x 7 columns]\nbefore. After,\n[9.06882019e+02 7.95688830e+03 1.12293892e+06 ... 5.72391283e+03\n 1.00769331e+03 2.98194928e+02]\n[['9831628575705046469' 4982.209050622916 15.66309674138622 ...\n  0.11882400512695312 0.08664200454950333 22.799999237060547]\n ['10426804091157841868' 43841.82313102129 15.669830506338506 ...\n  0.13640090823173523 0.015655454248189926 18.0]\n ['13984590206613124140' 7460.121331487658 16.895919365707062 ...\n  0.07202599942684174 0.0 17.799999237060547]\n ...\n ['5493187043257100533' 25350.10544505245 19.15290625934775 ...\n  0.205082505941391 0.06328500062227249 16.75]\n ['15242956676492688919' 1207.7406887838051 15.917389946902022 ...\n  0.150424987077713 0.22730250656604767 8.25]\n ['7395414680666969706' 3496.688003418836 17.81079273442344 ...\n  0.2685721218585968 0.11698929220438004 18.571428298950195]]."
     ]
    }
   ],
   "source": [
    "model = sm.OLS(Y,X)\n",
    "results = model.fit()"
   ]
  },
  {
   "cell_type": "code",
   "execution_count": 84,
   "id": "2ffb30a4-a6f4-470c-8596-66f0dd5d2b58",
   "metadata": {
    "tags": []
   },
   "outputs": [
    {
     "ename": "NameError",
     "evalue": "name 'model' is not defined",
     "output_type": "error",
     "traceback": [
      "\u001b[0;31m---------------------------------------------------------------------------\u001b[0m",
      "\u001b[0;31mNameError\u001b[0m                                 Traceback (most recent call last)",
      "Cell \u001b[0;32mIn[84], line 1\u001b[0m\n\u001b[0;32m----> 1\u001b[0m \u001b[43mmodel\u001b[49m\u001b[38;5;241m.\u001b[39mpredict(regmat\u001b[38;5;241m.\u001b[39mdrop(columns\u001b[38;5;241m=\u001b[39m\u001b[38;5;124m'\u001b[39m\u001b[38;5;124menergy\u001b[39m\u001b[38;5;124m'\u001b[39m)\u001b[38;5;241m.\u001b[39miloc[\u001b[38;5;241m~\u001b[39mg1mask])\n",
      "\u001b[0;31mNameError\u001b[0m: name 'model' is not defined"
     ]
    }
   ],
   "source": [
    "model.predict(regmat.drop(columns='energy').iloc[~g1mask])"
   ]
  },
  {
   "cell_type": "code",
   "execution_count": 85,
   "id": "f213a826-7ca7-4e22-83f3-7e95b14a450f",
   "metadata": {
    "tags": []
   },
   "outputs": [
    {
     "ename": "NameError",
     "evalue": "name 'results' is not defined",
     "output_type": "error",
     "traceback": [
      "\u001b[0;31m---------------------------------------------------------------------------\u001b[0m",
      "\u001b[0;31mNameError\u001b[0m                                 Traceback (most recent call last)",
      "Cell \u001b[0;32mIn[85], line 1\u001b[0m\n\u001b[0;32m----> 1\u001b[0m \u001b[43mresults\u001b[49m\u001b[38;5;241m.\u001b[39msummary()\n",
      "\u001b[0;31mNameError\u001b[0m: name 'results' is not defined"
     ]
    }
   ],
   "source": [
    "results.summary()"
   ]
  },
  {
   "cell_type": "code",
   "execution_count": 56,
   "id": "667f2d64-98cd-42ad-a5d2-23ad679d98b8",
   "metadata": {
    "tags": []
   },
   "outputs": [],
   "source": [
    "g1_energy = scatter_mean(g1['footprint'].y, torch.tensor(g1a['rebuild_idx']).to(device)).detach().cpu().numpy()"
   ]
  },
  {
   "cell_type": "code",
   "execution_count": 76,
   "id": "2d0bf645-a263-49b2-a33d-d0219da5359e",
   "metadata": {
    "tags": []
   },
   "outputs": [],
   "source": [
    "g1_links = g1['footprint','contains','pano']['edge_index']"
   ]
  },
  {
   "cell_type": "code",
   "execution_count": 80,
   "id": "e49f51c4-b250-4dee-b290-bd3911d5b859",
   "metadata": {
    "tags": []
   },
   "outputs": [
    {
     "data": {
      "text/plain": [
       "torch.Size([716642])"
      ]
     },
     "execution_count": 80,
     "metadata": {},
     "output_type": "execute_result"
    }
   ],
   "source": [
    "g1_links[0].shape"
   ]
  },
  {
   "cell_type": "code",
   "execution_count": 85,
   "id": "79fcca21-7b84-4fa8-818a-d63a0c6d5074",
   "metadata": {
    "tags": []
   },
   "outputs": [],
   "source": [
    "g1_features = scatter_mean(g1['pano'].x[g1_links[1]], g1_links[0], dim=0)"
   ]
  },
  {
   "cell_type": "code",
   "execution_count": 92,
   "id": "277dff14-c6a0-418b-9625-98693e555029",
   "metadata": {
    "tags": []
   },
   "outputs": [],
   "source": [
    "g1_df = pd.DataFrame(g1_features.detach().cpu().numpy(), columns = g1a['node_data'].columns)"
   ]
  },
  {
   "cell_type": "code",
   "execution_count": 96,
   "id": "900465d9-c357-4ffd-b96f-259ac2b3a170",
   "metadata": {
    "tags": []
   },
   "outputs": [
    {
     "data": {
      "text/html": [
       "<div>\n",
       "<style scoped>\n",
       "    .dataframe tbody tr th:only-of-type {\n",
       "        vertical-align: middle;\n",
       "    }\n",
       "\n",
       "    .dataframe tbody tr th {\n",
       "        vertical-align: top;\n",
       "    }\n",
       "\n",
       "    .dataframe thead th {\n",
       "        text-align: right;\n",
       "    }\n",
       "</style>\n",
       "<table border=\"1\" class=\"dataframe\">\n",
       "  <thead>\n",
       "    <tr style=\"text-align: right;\">\n",
       "      <th></th>\n",
       "      <th>id</th>\n",
       "      <th>geometry</th>\n",
       "      <th>year</th>\n",
       "      <th>energy</th>\n",
       "      <th>area</th>\n",
       "      <th>amplitude</th>\n",
       "      <th>bias</th>\n",
       "      <th>sky_area</th>\n",
       "      <th>vegetation_area</th>\n",
       "      <th>car_count</th>\n",
       "    </tr>\n",
       "  </thead>\n",
       "  <tbody>\n",
       "    <tr>\n",
       "      <th>0</th>\n",
       "      <td>9831628575705046469</td>\n",
       "      <td>POLYGON ((585927.699 4510953.665, 585901.046 4...</td>\n",
       "      <td>2012</td>\n",
       "      <td>906.882019</td>\n",
       "      <td>4982.209051</td>\n",
       "      <td>15.663097</td>\n",
       "      <td>24.023925</td>\n",
       "      <td>0.119573</td>\n",
       "      <td>0.040445</td>\n",
       "      <td>18.648148</td>\n",
       "    </tr>\n",
       "    <tr>\n",
       "      <th>1</th>\n",
       "      <td>6938448636445649773</td>\n",
       "      <td>POLYGON ((586052.537 4510976.454, 586012.795 4...</td>\n",
       "      <td>2016</td>\n",
       "      <td>6689.282660</td>\n",
       "      <td>43664.471056</td>\n",
       "      <td>16.164429</td>\n",
       "      <td>23.252700</td>\n",
       "      <td>0.165028</td>\n",
       "      <td>0.034143</td>\n",
       "      <td>19.799999</td>\n",
       "    </tr>\n",
       "    <tr>\n",
       "      <th>2</th>\n",
       "      <td>9906335732894406041</td>\n",
       "      <td>POLYGON ((585979.951 4510960.203, 585958.745 4...</td>\n",
       "      <td>2016</td>\n",
       "      <td>2222.101317</td>\n",
       "      <td>11313.278644</td>\n",
       "      <td>15.649305</td>\n",
       "      <td>24.053035</td>\n",
       "      <td>0.153871</td>\n",
       "      <td>0.029516</td>\n",
       "      <td>20.975609</td>\n",
       "    </tr>\n",
       "    <tr>\n",
       "      <th>3</th>\n",
       "      <td>14545201850494639820</td>\n",
       "      <td>POLYGON ((586039.515 4510843.134, 586016.548 4...</td>\n",
       "      <td>2017</td>\n",
       "      <td>981.997076</td>\n",
       "      <td>3809.028326</td>\n",
       "      <td>16.187118</td>\n",
       "      <td>23.040648</td>\n",
       "      <td>0.158572</td>\n",
       "      <td>0.068487</td>\n",
       "      <td>22.253969</td>\n",
       "    </tr>\n",
       "    <tr>\n",
       "      <th>4</th>\n",
       "      <td>2515340659876366563</td>\n",
       "      <td>POLYGON ((585906.529 4510882.449, 585893.280 4...</td>\n",
       "      <td>2012</td>\n",
       "      <td>829.060885</td>\n",
       "      <td>6049.108594</td>\n",
       "      <td>15.331565</td>\n",
       "      <td>24.336092</td>\n",
       "      <td>0.113645</td>\n",
       "      <td>0.066775</td>\n",
       "      <td>20.545454</td>\n",
       "    </tr>\n",
       "    <tr>\n",
       "      <th>...</th>\n",
       "      <td>...</td>\n",
       "      <td>...</td>\n",
       "      <td>...</td>\n",
       "      <td>...</td>\n",
       "      <td>...</td>\n",
       "      <td>...</td>\n",
       "      <td>...</td>\n",
       "      <td>...</td>\n",
       "      <td>...</td>\n",
       "      <td>...</td>\n",
       "    </tr>\n",
       "    <tr>\n",
       "      <th>13813</th>\n",
       "      <td>3162522797862880947</td>\n",
       "      <td>POLYGON ((587289.030 4515245.943, 587207.798 4...</td>\n",
       "      <td>2016</td>\n",
       "      <td>1242.293042</td>\n",
       "      <td>2015.997919</td>\n",
       "      <td>15.076598</td>\n",
       "      <td>17.178491</td>\n",
       "      <td>0.114980</td>\n",
       "      <td>0.104000</td>\n",
       "      <td>5.701299</td>\n",
       "    </tr>\n",
       "    <tr>\n",
       "      <th>13814</th>\n",
       "      <td>2309459729724129729</td>\n",
       "      <td>POLYGON ((595643.225 4511095.438, 595625.778 4...</td>\n",
       "      <td>2016</td>\n",
       "      <td>4012.230753</td>\n",
       "      <td>12485.809047</td>\n",
       "      <td>19.497986</td>\n",
       "      <td>22.030902</td>\n",
       "      <td>0.283914</td>\n",
       "      <td>0.034336</td>\n",
       "      <td>13.080000</td>\n",
       "    </tr>\n",
       "    <tr>\n",
       "      <th>13815</th>\n",
       "      <td>3010589633849135112</td>\n",
       "      <td>POLYGON ((586796.159 4509068.953, 586792.590 4...</td>\n",
       "      <td>2012</td>\n",
       "      <td>4478.931430</td>\n",
       "      <td>8953.353338</td>\n",
       "      <td>17.717575</td>\n",
       "      <td>22.682001</td>\n",
       "      <td>0.367321</td>\n",
       "      <td>0.006043</td>\n",
       "      <td>10.551724</td>\n",
       "    </tr>\n",
       "    <tr>\n",
       "      <th>13816</th>\n",
       "      <td>5418421121047772298</td>\n",
       "      <td>POLYGON ((592755.083 4508579.412, 592751.726 4...</td>\n",
       "      <td>2017</td>\n",
       "      <td>639.843690</td>\n",
       "      <td>1323.869601</td>\n",
       "      <td>18.112908</td>\n",
       "      <td>21.970449</td>\n",
       "      <td>0.276885</td>\n",
       "      <td>0.094009</td>\n",
       "      <td>13.000000</td>\n",
       "    </tr>\n",
       "    <tr>\n",
       "      <th>13817</th>\n",
       "      <td>15242956676492688919</td>\n",
       "      <td>POLYGON ((587808.975 4516068.062, 587741.570 4...</td>\n",
       "      <td>2016</td>\n",
       "      <td>1007.693314</td>\n",
       "      <td>1207.740689</td>\n",
       "      <td>15.917390</td>\n",
       "      <td>18.136740</td>\n",
       "      <td>0.158595</td>\n",
       "      <td>0.041949</td>\n",
       "      <td>3.233333</td>\n",
       "    </tr>\n",
       "  </tbody>\n",
       "</table>\n",
       "<p>13818 rows × 10 columns</p>\n",
       "</div>"
      ],
      "text/plain": [
       "                         id  \\\n",
       "0       9831628575705046469   \n",
       "1       6938448636445649773   \n",
       "2       9906335732894406041   \n",
       "3      14545201850494639820   \n",
       "4       2515340659876366563   \n",
       "...                     ...   \n",
       "13813   3162522797862880947   \n",
       "13814   2309459729724129729   \n",
       "13815   3010589633849135112   \n",
       "13816   5418421121047772298   \n",
       "13817  15242956676492688919   \n",
       "\n",
       "                                                geometry  year       energy  \\\n",
       "0      POLYGON ((585927.699 4510953.665, 585901.046 4...  2012   906.882019   \n",
       "1      POLYGON ((586052.537 4510976.454, 586012.795 4...  2016  6689.282660   \n",
       "2      POLYGON ((585979.951 4510960.203, 585958.745 4...  2016  2222.101317   \n",
       "3      POLYGON ((586039.515 4510843.134, 586016.548 4...  2017   981.997076   \n",
       "4      POLYGON ((585906.529 4510882.449, 585893.280 4...  2012   829.060885   \n",
       "...                                                  ...   ...          ...   \n",
       "13813  POLYGON ((587289.030 4515245.943, 587207.798 4...  2016  1242.293042   \n",
       "13814  POLYGON ((595643.225 4511095.438, 595625.778 4...  2016  4012.230753   \n",
       "13815  POLYGON ((586796.159 4509068.953, 586792.590 4...  2012  4478.931430   \n",
       "13816  POLYGON ((592755.083 4508579.412, 592751.726 4...  2017   639.843690   \n",
       "13817  POLYGON ((587808.975 4516068.062, 587741.570 4...  2016  1007.693314   \n",
       "\n",
       "               area  amplitude       bias  sky_area  vegetation_area  \\\n",
       "0       4982.209051  15.663097  24.023925  0.119573         0.040445   \n",
       "1      43664.471056  16.164429  23.252700  0.165028         0.034143   \n",
       "2      11313.278644  15.649305  24.053035  0.153871         0.029516   \n",
       "3       3809.028326  16.187118  23.040648  0.158572         0.068487   \n",
       "4       6049.108594  15.331565  24.336092  0.113645         0.066775   \n",
       "...             ...        ...        ...       ...              ...   \n",
       "13813   2015.997919  15.076598  17.178491  0.114980         0.104000   \n",
       "13814  12485.809047  19.497986  22.030902  0.283914         0.034336   \n",
       "13815   8953.353338  17.717575  22.682001  0.367321         0.006043   \n",
       "13816   1323.869601  18.112908  21.970449  0.276885         0.094009   \n",
       "13817   1207.740689  15.917390  18.136740  0.158595         0.041949   \n",
       "\n",
       "       car_count  \n",
       "0      18.648148  \n",
       "1      19.799999  \n",
       "2      20.975609  \n",
       "3      22.253969  \n",
       "4      20.545454  \n",
       "...          ...  \n",
       "13813   5.701299  \n",
       "13814  13.080000  \n",
       "13815  10.551724  \n",
       "13816  13.000000  \n",
       "13817   3.233333  \n",
       "\n",
       "[13818 rows x 10 columns]"
      ]
     },
     "execution_count": 96,
     "metadata": {},
     "output_type": "execute_result"
    }
   ],
   "source": [
    "g1a['footprints'].join(g1_df)"
   ]
  },
  {
   "cell_type": "code",
   "execution_count": 61,
   "id": "142b8341-16ce-42d1-a0a6-c6de24f70bd6",
   "metadata": {
    "tags": []
   },
   "outputs": [
    {
     "data": {
      "text/plain": [
       "HeteroData(\n",
       "  \u001b[1mpano\u001b[0m={ x=[101465, 3] },\n",
       "  \u001b[1mfootprint\u001b[0m={\n",
       "    x=[13818, 3],\n",
       "    y=[30496],\n",
       "    train_mask=[13818],\n",
       "    test_mask=[13818]\n",
       "  },\n",
       "  \u001b[1m(footprint, contains, pano)\u001b[0m={ edge_index=[2, 716642] },\n",
       "  \u001b[1m(pano, links, pano)\u001b[0m={ edge_index=[2, 4752385] },\n",
       "  \u001b[1m(pano, rev_contains, footprint)\u001b[0m={ edge_index=[2, 716642] }\n",
       ")"
      ]
     },
     "execution_count": 61,
     "metadata": {},
     "output_type": "execute_result"
    }
   ],
   "source": [
    "g1['pano'].x"
   ]
  },
  {
   "cell_type": "code",
   "execution_count": 59,
   "id": "70278375-dd7a-4188-88f7-9d60d53afc34",
   "metadata": {
    "tags": []
   },
   "outputs": [
    {
     "data": {
      "text/plain": [
       "array([6.9132867, 8.761321 , 7.810137 , ..., 8.322299 , 6.243939 ,\n",
       "       6.6226788], dtype=float32)"
      ]
     },
     "execution_count": 59,
     "metadata": {},
     "output_type": "execute_result"
    }
   ],
   "source": [
    "g1_features = "
   ]
  },
  {
   "cell_type": "code",
   "execution_count": 41,
   "id": "98479523-ee98-4557-84b0-df59adf934f4",
   "metadata": {
    "tags": []
   },
   "outputs": [
    {
     "data": {
      "text/plain": [
       "array([    0,     0,     0, ..., 13816, 13817, 13817])"
      ]
     },
     "execution_count": 41,
     "metadata": {},
     "output_type": "execute_result"
    }
   ],
   "source": [
    "np.array(g1a['rebuild_idx'])"
   ]
  },
  {
   "cell_type": "code",
   "execution_count": 36,
   "id": "b59d0fcb-beab-4e8f-8c1f-82a8e4458ef5",
   "metadata": {
    "tags": []
   },
   "outputs": [
    {
     "data": {
      "text/plain": [
       "HeteroData(\n",
       "  \u001b[1mpano\u001b[0m={ x=[101465, 3] },\n",
       "  \u001b[1mfootprint\u001b[0m={\n",
       "    x=[13818, 3],\n",
       "    y=[30496],\n",
       "    train_mask=[13818],\n",
       "    test_mask=[13818]\n",
       "  },\n",
       "  \u001b[1m(footprint, contains, pano)\u001b[0m={ edge_index=[2, 716642] },\n",
       "  \u001b[1m(pano, links, pano)\u001b[0m={ edge_index=[2, 4752385] },\n",
       "  \u001b[1m(pano, rev_contains, footprint)\u001b[0m={ edge_index=[2, 716642] }\n",
       ")"
      ]
     },
     "execution_count": 36,
     "metadata": {},
     "output_type": "execute_result"
    }
   ],
   "source": [
    "g1['footprint'].x"
   ]
  },
  {
   "cell_type": "code",
   "execution_count": null,
   "id": "afb7d5f5-03d4-42cb-aae6-4862d245fd77",
   "metadata": {},
   "outputs": [],
   "source": [
    "OLS(dataset.target,dataset.data).fit().summary()"
   ]
  },
  {
   "cell_type": "code",
   "execution_count": 30,
   "id": "ff550e44-c197-43f1-b7d9-dca515d3f450",
   "metadata": {
    "tags": []
   },
   "outputs": [
    {
     "data": {
      "text/plain": [
       "torch.Size([13818, 3])"
      ]
     },
     "execution_count": 30,
     "metadata": {},
     "output_type": "execute_result"
    }
   ],
   "source": [
    "g1['footprint'].x.shape"
   ]
  },
  {
   "cell_type": "code",
   "execution_count": null,
   "id": "7b23f09e-69e8-47bd-9f58-4e502044e304",
   "metadata": {},
   "outputs": [],
   "source": []
  }
 ],
 "metadata": {
  "kernelspec": {
   "display_name": "Python 3 (ipykernel)",
   "language": "python",
   "name": "python3"
  },
  "language_info": {
   "codemirror_mode": {
    "name": "ipython",
    "version": 3
   },
   "file_extension": ".py",
   "mimetype": "text/x-python",
   "name": "python",
   "nbconvert_exporter": "python",
   "pygments_lexer": "ipython3",
   "version": "3.9.15"
  }
 },
 "nbformat": 4,
 "nbformat_minor": 5
}
